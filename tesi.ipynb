{
 "cells": [
  {
   "cell_type": "code",
   "execution_count": null,
   "metadata": {},
   "outputs": [],
   "source": [
    "# essential imports\n",
    "import pandas as pd\n",
    "import re\n",
    "import yahooquery as yq\n",
    "import datetime\n",
    "import numpy as np\n",
    "\n",
    "# imports for the models\n",
    "import scipy.stats as st\n",
    "from sklearn.metrics import mean_squared_error, mean_absolute_error\n",
    "import statsmodels.api as sm\n",
    "import statsmodels.formula.api as smf\n",
    "from matplotlib import pyplot as plt\n",
    "import plotly.express as px\n",
    "from plotly.subplots import make_subplots\n"
   ]
  },
  {
   "cell_type": "code",
   "execution_count": null,
   "metadata": {},
   "outputs": [],
   "source": [
    "# Leggi il file CSV\n",
    "df = pd.read_csv('./data/tesi28.csv', sep=';')\n",
    "#pulisci i nome dei df\n",
    "# sostituisci gli spazi con _ e togli le parentesi\n",
    "df.columns = [re.sub(r'\\(.*\\)', '', col) for col in df.columns]\n",
    "# Rimuovere lo spazio dagli header delle colonne alla fine e tra le parole\n",
    "df.columns = df.columns.str.rstrip(' ')\n",
    "df.columns = df.columns.str.rstrip('.')\n",
    "df.columns = df.columns.str.replace(' ', '_')\n",
    "df.columns = df.columns.str.replace('/', '_')\n",
    "df.columns = df.columns.str.replace('.', '')\n",
    "df"
   ]
  },
  {
   "cell_type": "markdown",
   "metadata": {},
   "source": [
    "## scarica i valori di borsa per ogni ticker, per ogni anno"
   ]
  },
  {
   "cell_type": "code",
   "execution_count": null,
   "metadata": {},
   "outputs": [],
   "source": [
    "tickers = df['Ticker_symbol']\n",
    "valori_borsa = []\n",
    "tickers_non_scaricati=[]\n",
    "\n",
    "# Scarica i dati storici per ciascun ticker e anno\n",
    "for ticker in tickers:\n",
    "    yq_ticker = yq.Ticker(ticker+\".mi\")\n",
    "    for year in range(2023, 2013, -1):\n",
    "        # Specifica la data desiderata come \"YYYY-MM-DD\" (31 dicembre dell'anno specificato)\n",
    "        datainizio = f\"{year}-01-01\"\n",
    "        datafine = f\"{year}-01-10\"\n",
    "        print(ticker, year)\n",
    "        # Converti la data desiderata in un oggetto datetime\n",
    "        datainizio = datetime.datetime.strptime(datainizio, \"%Y-%m-%d\").date()\n",
    "        datafine = datetime.datetime.strptime(datafine, \"%Y-%m-%d\").date()\n",
    "\n",
    "\n",
    "        try:\n",
    "            val = yq_ticker.history(start=datainizio, end=datafine)['close'][-1]\n",
    "        except Exception as e:\n",
    "            print(e.__cause__)\n",
    "            val = \"NaN\"\n",
    "            tickers_non_scaricati.append(ticker)\n",
    "\n",
    "        print(ticker, val)\n",
    "        valori_borsa.append(val)\n",
    "\n"
   ]
  },
  {
   "cell_type": "code",
   "execution_count": null,
   "metadata": {},
   "outputs": [],
   "source": [
    "print(len(valori_borsa))\n",
    "tickers_non_scaricati = set(tickers_non_scaricati)\n",
    "print(tickers_non_scaricati)"
   ]
  },
  {
   "cell_type": "markdown",
   "metadata": {},
   "source": [
    "### crea grafico di settori delle varie aziende"
   ]
  },
  {
   "cell_type": "code",
   "execution_count": null,
   "metadata": {},
   "outputs": [],
   "source": [
    "tickers_list = list(tickers)\n",
    "#print(tickers_list)\n",
    "stocks_info = []\n",
    "non_processed = []\n",
    "for ticker in tickers_list:\n",
    "    ticker = ticker+\".mi\"\n",
    "    #print(ticker)\n",
    "    yf_ticker = yq.Ticker(ticker)\n",
    "    try:\n",
    "        stocks_info.append({\n",
    "            'ticker'    : ticker,\n",
    "            'name'      : yf_ticker.quote_type[ticker]['shortName'],\n",
    "            'industry'  : yf_ticker.asset_profile[ticker]['industry'],\n",
    "            'sector'    : yf_ticker.asset_profile[ticker]['sector'],\n",
    "        })\n",
    "    except:\n",
    "        non_processed.append(ticker)\n",
    "\n",
    "print(non_processed)\n",
    "t = pd.DataFrame(stocks_info)\n",
    "t['name']"
   ]
  },
  {
   "cell_type": "markdown",
   "metadata": {},
   "source": [
    "crea df per visualizzare industrie e settori"
   ]
  },
  {
   "cell_type": "code",
   "execution_count": null,
   "metadata": {},
   "outputs": [],
   "source": [
    "sectors = pd.DataFrame(pd.DataFrame(t['sector'].value_counts())['count'])\n",
    "industries = pd.DataFrame(pd.DataFrame(t['industry'].value_counts())['count'])\n",
    "print(sectors)\n",
    "print(industries)\n"
   ]
  },
  {
   "cell_type": "markdown",
   "metadata": {},
   "source": [
    "visualizza industrie e settori"
   ]
  },
  {
   "cell_type": "code",
   "execution_count": null,
   "metadata": {},
   "outputs": [],
   "source": [
    "fig_sectors = px.pie(sectors, values='count', names=sectors.index, title=\"settori\")\n",
    "fig_industry = px.pie(industries, \n",
    "                    values=\"count\",\n",
    "                    names=industries.index, \n",
    "                    title=\"industrie\",\n",
    "                    height=600,\n",
    "                    )\n",
    "fig_sectors.show()\n",
    "fig_industry.show()\n"
   ]
  },
  {
   "cell_type": "markdown",
   "metadata": {},
   "source": [
    "## crea nuovo df\n",
    "1. prendi info di interesse, moltiplica per ogni anno ogni osservazione \n",
    "2. aggiungi gli anni di interesse\n",
    "3. doppio ciclo for: per ogni riga df originale prendi i primi nove valori e trasponi il risultato, passa ai prossimi nove (secondo ciclo)"
   ]
  },
  {
   "cell_type": "markdown",
   "metadata": {},
   "source": [
    "#### crea df delle info "
   ]
  },
  {
   "cell_type": "code",
   "execution_count": null,
   "metadata": {},
   "outputs": [],
   "source": [
    "info = pd.concat([df.iloc[:, 0:5]] * 10)\n",
    "info.sort_index(inplace=True)\n",
    "info"
   ]
  },
  {
   "cell_type": "markdown",
   "metadata": {},
   "source": [
    "#### crea colonna degli anni, aggiungi a info"
   ]
  },
  {
   "cell_type": "code",
   "execution_count": null,
   "metadata": {},
   "outputs": [],
   "source": [
    "anni = [anno for anno in range(2022, 2012, -1)] * 28\n",
    "info['Anni'] = anni\n",
    "info"
   ]
  },
  {
   "cell_type": "markdown",
   "metadata": {},
   "source": [
    "#### df degli indici"
   ]
  },
  {
   "cell_type": "code",
   "execution_count": null,
   "metadata": {},
   "outputs": [],
   "source": [
    "# Rimuovi il carattere '\\n' e tutti quelli che seguono dalle intestazioni delle colonne\n",
    "df.columns = df.columns.str.replace(r'\\n.*', '', regex=True)\n",
    "df.columns = df.columns.str.rstrip('_')\n",
    "nomi_colonne = df.columns.unique()[5:]\n",
    "# prendi df di interesse, serve a semplificare gli indici\n",
    "indici = df.iloc[:, 5:]\n",
    "for i in indici.columns:\n",
    "    print(i)\n",
    "# crea nuovo df\n",
    "new_df = pd.DataFrame()\n",
    "\n",
    "col = 0\n",
    "#per ogni set di 10 valori riga di df originario INDICI\n",
    "for i in range(0, 140, 10):\n",
    "    \n",
    "    indice = []\n",
    "    #per ogni riga AZIENDA\n",
    "    for j in range(1,len(indici)+1):\n",
    "        # prendi i nove valori, trasponili e aggiungili al vettore dell'indice considerato\n",
    "        valori = indici.iloc[j-1:j, i:i+10].values[0]\n",
    "        valori = valori.T.tolist()\n",
    "        \n",
    "        indice= indice + valori\n",
    "        \n",
    "    # aggiungi colonna a new_df con insert\n",
    "    new_df.insert(col, nomi_colonne[col], indice)\n",
    "    col += 1\n",
    "\n",
    "\n",
    "for col in new_df.columns:\n",
    "    new_df[col] = new_df[col].str.replace(',' , '.').astype(float)\n",
    "    #print(type(X[col]))\n",
    "\n",
    "new_df"
   ]
  },
  {
   "cell_type": "markdown",
   "metadata": {},
   "source": [
    "#### aggiungi anche valori azionari"
   ]
  },
  {
   "cell_type": "code",
   "execution_count": null,
   "metadata": {},
   "outputs": [],
   "source": [
    "# aggiungi i valori della borsa al df info\n",
    "info['Valori_Borsa'] = valori_borsa\n",
    "info"
   ]
  },
  {
   "cell_type": "markdown",
   "metadata": {},
   "source": [
    "##### esegui il join dei due dataframe, resetta gli indici!!\n"
   ]
  },
  {
   "cell_type": "code",
   "execution_count": null,
   "metadata": {},
   "outputs": [],
   "source": [
    "#resetta indici\n",
    "info = info.reset_index(drop=True)\n",
    "new_df = new_df.reset_index(drop=True)\n",
    "#esegui il join\n",
    "dati_puliti = info.join(new_df)\n",
    "dati_puliti\n"
   ]
  },
  {
   "cell_type": "markdown",
   "metadata": {},
   "source": [
    "### ESEGUI SE NON VUOI AZIENDE SENZA VALORI DI BORSA\n",
    "##### ripulisci i dati, togli le aziende che non hanno valori di borsa per almeno un anno e calcola gli indici per ogni azienda\n",
    "i valori di borsa non sono presenti in quanto alcune di queste aziende non erano quotate durante il periodo di analisi."
   ]
  },
  {
   "cell_type": "code",
   "execution_count": null,
   "metadata": {},
   "outputs": [],
   "source": [
    "# elimina le aziende tramite una maschera\n",
    "tickers_non_scaricati = list(set(tickers_non_scaricati))\n",
    "maschera = dati_puliti['Ticker_symbol'].isin(tickers_non_scaricati)\n",
    "dati_puliti = dati_puliti[~maschera]\n",
    "#df_pulito = df_pulito.drop(columns=[\"Unnamed: 0\"])\n",
    "dati_puliti"
   ]
  },
  {
   "cell_type": "markdown",
   "metadata": {},
   "source": [
    "### ESEGUI PER SALVARE DF DELLE AZIENDE CHE NON HANNO ALCUNI VALORI DI BORSA\n",
    "DF È PIÙ PICCOLO"
   ]
  },
  {
   "cell_type": "code",
   "execution_count": null,
   "metadata": {},
   "outputs": [],
   "source": [
    "dati_puliti.to_csv(\"./data/dati_puliti.csv\")"
   ]
  },
  {
   "cell_type": "markdown",
   "metadata": {},
   "source": [
    "### ESEGUI PER SALVARE DF DI TUTTE LE AZIENDE"
   ]
  },
  {
   "cell_type": "code",
   "execution_count": null,
   "metadata": {},
   "outputs": [],
   "source": [
    "dati_puliti.to_csv(\"./data/dati_puliti28.csv\")"
   ]
  },
  {
   "cell_type": "markdown",
   "metadata": {},
   "source": [
    "# CREA IL MODELLO\n",
    "**attenzione** al path usato, esistono due file: uno con tutte le aziende (dati_puliti28) e uno con solo le aziende che contengono valori di borsa(dati_puliti)\n",
    "stiamo effettuando una trasformazione logaritmica della variabile dipendente: valori_borsa"
   ]
  },
  {
   "cell_type": "code",
   "execution_count": null,
   "metadata": {},
   "outputs": [],
   "source": [
    "df = pd.read_csv('./data/dati_puliti28.csv', sep=',')\n",
    "df = df.drop(columns=[\"Unnamed: 0\"])\n",
    "#calcola i logaritmo dei valori di borsa\n",
    "df['Valori_Borsa'] = np.log(df['Valori_Borsa'])\n",
    "df"
   ]
  },
  {
   "cell_type": "markdown",
   "metadata": {},
   "source": [
    "#### distribuzioni delle variabili"
   ]
  },
  {
   "cell_type": "code",
   "execution_count": null,
   "metadata": {},
   "outputs": [],
   "source": [
    "# Crea una griglia 5x3 di subplot\n",
    "fig = make_subplots(rows=5, cols=3)\n",
    "car_indici = []\n",
    "# Cicla attraverso le colonne a partire dalla 7a\n",
    "for idx, col_name in enumerate(df.columns[7:]):\n",
    "    # Calcola la riga e la colonna corrispondenti nella griglia 5x3\n",
    "    row = idx // 3 + 1\n",
    "    col = idx % 3 + 1\n",
    "\n",
    "    # Aggiungi un grafico a questa posizione\n",
    "    histogram = px.box(df, x=col_name, )\n",
    "    fig.add_trace(histogram.data[0], row=row, col=col)\n",
    "\n",
    "    # Aggiungi titoli agli assi x e y\n",
    "    fig.update_xaxes(title_text=col_name, row=row, col=col)\n",
    "    fig.update_yaxes(title_text='Frequenza', row=row, col=col)\n",
    "\n",
    "    #calcola media, min, max, dev std, \n",
    "    car_indici.append({\n",
    "        'indice' : col_name,\n",
    "        'media'  : df[col_name].mean(),\n",
    "        'min'    : df[col_name].min(),\n",
    "        'max'    : df[col_name].max(),\n",
    "        'dev std': df[col_name].std(),\n",
    "        'curtosi': df[col_name].kurtosis(),\n",
    "        'skew'   : df[col_name].skew()\n",
    "        \n",
    "    })\n",
    "\n",
    "# Aggiungi un layout per personalizzare il titolo e le dimensioni\n",
    "fig.update_layout(\n",
    "    title='Distribuzioni degli indici',\n",
    "    height=1000,  # Imposta l'altezza della griglia\n",
    "    width=1200    # Imposta la larghezza della griglia\n",
    ")\n",
    "\n",
    "# Visualizza la griglia\n",
    "fig.show()\n"
   ]
  },
  {
   "cell_type": "code",
   "execution_count": null,
   "metadata": {},
   "outputs": [],
   "source": [
    "car_indici = pd.DataFrame(car_indici)\n",
    "car_indici.set_index('indice')\n",
    "car_indici"
   ]
  },
  {
   "cell_type": "markdown",
   "metadata": {},
   "source": [
    "##### mostra le correlazioni tra i valori di borsa e tutti gli indici"
   ]
  },
  {
   "cell_type": "code",
   "execution_count": null,
   "metadata": {},
   "outputs": [],
   "source": [
    "import seaborn as sns\n",
    "correlation_matrix = df.iloc[:, 6:].corr()\n",
    "# Crea una maschera per nascondere la parte superiore della matrice\n",
    "mask = np.triu(np.ones_like(correlation_matrix, dtype=bool))\n",
    "\n",
    "# Crea una figura per il grafico\n",
    "plt.figure(figsize=(12, 8))\n",
    "\n",
    "# Personalizza l'aspetto della heatmap\n",
    "cmap = sns.diverging_palette(230, 20, as_cmap=True)\n",
    "sns.heatmap(correlation_matrix, annot=True, fmt=\".2f\", mask=mask, cmap=cmap)\n",
    "\n",
    "# Visualizza il grafico\n",
    "plt.show()"
   ]
  },
  {
   "cell_type": "code",
   "execution_count": null,
   "metadata": {},
   "outputs": [],
   "source": [
    "for indice in df.columns[7:]:\n",
    "    fig = px.scatter(df, y=\"Valori_Borsa\", x=indice, color='Ticker_symbol')\n",
    "    fig.show()"
   ]
  },
  {
   "cell_type": "markdown",
   "metadata": {},
   "source": [
    "# prepara il df"
   ]
  },
  {
   "cell_type": "code",
   "execution_count": null,
   "metadata": {},
   "outputs": [],
   "source": [
    "# crea le variabili dummy\n",
    "df_dummies = pd.get_dummies(df[\"Ticker_symbol\"])\n",
    "print(df_dummies)\n",
    "# unsci le dummies al df\n",
    "df_con_dummies = df.join(df_dummies)\n",
    "df_con_dummies\n"
   ]
  },
  {
   "cell_type": "code",
   "execution_count": null,
   "metadata": {},
   "outputs": [],
   "source": [
    "df_con_dummies.columns"
   ]
  },
  {
   "cell_type": "markdown",
   "metadata": {},
   "source": [
    "Construct the regression equation. Note that we are leaving out one dummy variable so as to avoid perfect Multicollinearity between the 7 dummy variables. la dummy omessa è BAN \n",
    "#RIVEDI"
   ]
  },
  {
   "cell_type": "markdown",
   "metadata": {},
   "source": [
    "### definisci le variabili da usare nel modello"
   ]
  },
  {
   "cell_type": "code",
   "execution_count": null,
   "metadata": {},
   "outputs": [],
   "source": [
    "# definisce le var dipendenti e indipendenti\n",
    "y_var_name = 'Valori_Borsa'\n",
    "x_var_names =  [\n",
    "    'Anni',\n",
    "    'Indice_corrente', \n",
    "    'Indice_di_liquidità',\n",
    "    'Rotaz_cap_investito', \n",
    "    'Rotaz_cap_cir_lordo',\n",
    "    'Redditività_del_totale_attivo',\n",
    "    'Redditività_di_tutto_il_capitale_investito',\n",
    "    'Redditività_delle_vendite', \n",
    "    'Redditività_del_capitale_proprio',\n",
    "    'Indice_di_copertura_delle_immob', \n",
    "    'Costo_denaro_a_prestito',\n",
    "    'Oneri_finanz_su_fatt', \n",
    "    'Grado_di_copertura_degli_interessi_passivi',\n",
    "    'Debiti_v_banche_su_fatt', \n",
    "    'Debt_Equity_ratio'\n",
    "    ]\n",
    "\n",
    "unit_names = [\n",
    "    'MARR', \n",
    "    'PIA', \n",
    "    'BRE', \n",
    "    'DAN', \n",
    "    'BC', \n",
    "    'CLI', \n",
    "    'ELC', \n",
    "    'GPI', \n",
    "    'SRI',\n",
    "    'ALA', \n",
    "    'ICF', \n",
    "    'ENV', \n",
    "    'MASI', \n",
    "    'SVS', \n",
    "    'STAR7', \n",
    "    'SCK', \n",
    "    'MARP', \n",
    "    'ITD',\n",
    "    'VIM', \n",
    "    'MDC', \n",
    "    'ILP', \n",
    "    'CFL', \n",
    "    'FCM', \n",
    "    'FVI', \n",
    "    'PLT', \n",
    "    'LDB', \n",
    "    'FOS',\n",
    "    'BAN'\n",
    "    ]\n",
    "\n",
    "#only_value = [x for x in unit_names if x not in tickers_non_scaricati]\n",
    "#unit_names = only_value\n"
   ]
  },
  {
   "cell_type": "markdown",
   "metadata": {},
   "source": [
    "### crea il modello"
   ]
  },
  {
   "cell_type": "code",
   "execution_count": null,
   "metadata": {},
   "outputs": [],
   "source": [
    "\n",
    "lsdv_expr = y_var_name + ' ~ '\n",
    "i = 0\n",
    "for x_var_name in x_var_names:\n",
    "    if i > 0:\n",
    "        lsdv_expr = lsdv_expr + ' + ' + x_var_name\n",
    "    else:\n",
    "        lsdv_expr = lsdv_expr + x_var_name\n",
    "    i = i + 1\n",
    "for dummy_name in unit_names[:-1]:\n",
    "    lsdv_expr = lsdv_expr + ' + ' + dummy_name\n",
    " \n",
    "print('Regression expression for OLS with dummies=' + lsdv_expr)"
   ]
  },
  {
   "cell_type": "code",
   "execution_count": null,
   "metadata": {},
   "outputs": [],
   "source": [
    "lsdv_model = smf.ols(formula=lsdv_expr, data=df_con_dummies)\n",
    "lsdv_model_results = lsdv_model.fit()\n",
    "print(lsdv_model_results.summary())"
   ]
  },
  {
   "cell_type": "markdown",
   "metadata": {},
   "source": [
    "### errori"
   ]
  },
  {
   "cell_type": "code",
   "execution_count": null,
   "metadata": {},
   "outputs": [],
   "source": [
    "errors = []"
   ]
  },
  {
   "cell_type": "code",
   "execution_count": null,
   "metadata": {},
   "outputs": [],
   "source": [
    "# Ottieni le previsioni per tutte le righe nel dataframe\n",
    "predictions = lsdv_model_results.predict()\n",
    "\n",
    "# trasform predictions to the original scale and the share values\n",
    "predictions = np.e**predictions\n",
    "val_borsa = (np.e**df['Valori_Borsa']).dropna()\n",
    "#val_borsa = df['Valori_Borsa'].dropna()\n",
    "\n",
    "rmse = np.sqrt(mean_squared_error(val_borsa, predictions))\n",
    "mae = mean_absolute_error(val_borsa, predictions)\n",
    "rsquared = lsdv_model_results.rsquared\n",
    "\n",
    "# Aggiungi i dati alla lista\n",
    "errors.append({\n",
    "    'Formula': 'log ' + lsdv_expr,\n",
    "    'RMSE': rmse,\n",
    "    'MAE': mae,\n",
    "    'R-Squared': rsquared,\n",
    "})\n"
   ]
  },
  {
   "cell_type": "code",
   "execution_count": null,
   "metadata": {},
   "outputs": [],
   "source": [
    "pd.set_option('display.max_colwidth', 2500)\n",
    "errors_df = pd.DataFrame(errors)\n",
    "\n",
    "err = pd.read_csv(\"./data/errori.csv\")\n",
    "err"
   ]
  },
  {
   "cell_type": "markdown",
   "metadata": {},
   "source": [
    "### residui"
   ]
  },
  {
   "cell_type": "code",
   "execution_count": 36,
   "metadata": {},
   "outputs": [],
   "source": [
    "previsioni = df[['Ticker_symbol','Anni', 'Valori_Borsa']].dropna()\n",
    "previsioni['Valori_Borsa'] = val_borsa\n",
    "previsioni['predictions'] = predictions\n",
    "#previsioni[previsioni['Ticker_symbol']=='LDB']\n",
    "previsioni['residui'] = previsioni['Valori_Borsa'] - previsioni['predictions'] \n"
   ]
  },
  {
   "cell_type": "markdown",
   "metadata": {},
   "source": [
    "crea grafico delle previsioni e residui per ogni azienda"
   ]
  },
  {
   "cell_type": "code",
   "execution_count": 37,
   "metadata": {},
   "outputs": [
    {
     "data": {
      "application/vnd.plotly.v1+json": {
       "config": {
        "plotlyServerURL": "https://plot.ly"
       },
       "data": [
        {
         "hovertemplate": "Ticker_symbol=MARR<br>Anno=%{x}<br>Residui=%{y}<extra></extra>",
         "legendgroup": "MARR",
         "line": {
          "color": "#636efa",
          "dash": "solid"
         },
         "marker": {
          "symbol": "circle"
         },
         "mode": "lines",
         "name": "MARR",
         "orientation": "v",
         "showlegend": true,
         "type": "scatter",
         "x": [
          2022,
          2021,
          2020,
          2019,
          2018,
          2017,
          2016,
          2015,
          2014,
          2013
         ],
         "xaxis": "x",
         "y": [
          -7.067354107239918,
          -1.4508825129058778,
          0.715488734084829,
          2.6568643202065587,
          3.3265495359397264,
          4.161732285867686,
          1.1048353945190676,
          2.202762436856755,
          -0.5472301021782986,
          -2.454035646067391
         ],
         "yaxis": "y"
        },
        {
         "hovertemplate": "Ticker_symbol=PIA<br>Anno=%{x}<br>Residui=%{y}<extra></extra>",
         "legendgroup": "PIA",
         "line": {
          "color": "#EF553B",
          "dash": "solid"
         },
         "marker": {
          "symbol": "circle"
         },
         "mode": "lines",
         "name": "PIA",
         "orientation": "v",
         "showlegend": true,
         "type": "scatter",
         "x": [
          2022,
          2021,
          2020,
          2019,
          2018,
          2017,
          2016,
          2015,
          2014,
          2013
         ],
         "xaxis": "x",
         "y": [
          -0.7051053201727377,
          -0.2670129305403002,
          -0.2374033513041871,
          -0.0033131728244852887,
          -0.5655393430131721,
          0.19788248714823453,
          -0.3679370683176204,
          0.1269246498533665,
          0.6792333993582356,
          0.7560885715207519
         ],
         "yaxis": "y"
        },
        {
         "hovertemplate": "Ticker_symbol=BRE<br>Anno=%{x}<br>Residui=%{y}<extra></extra>",
         "legendgroup": "BRE",
         "line": {
          "color": "#00cc96",
          "dash": "solid"
         },
         "marker": {
          "symbol": "circle"
         },
         "mode": "lines",
         "name": "BRE",
         "orientation": "v",
         "showlegend": true,
         "type": "scatter",
         "x": [
          2022,
          2021,
          2020,
          2019,
          2018,
          2017,
          2016,
          2015,
          2014,
          2013
         ],
         "xaxis": "x",
         "y": [
          -0.5302171097835071,
          1.479877489767162,
          1.3680326724039187,
          0.518887640137164,
          -1.403969972508122,
          3.171770788739046,
          3.013450933915328,
          -0.31144577040357113,
          -1.4308588505910143,
          -2.0105432000821515
         ],
         "yaxis": "y"
        },
        {
         "hovertemplate": "Ticker_symbol=DAN<br>Anno=%{x}<br>Residui=%{y}<extra></extra>",
         "legendgroup": "DAN",
         "line": {
          "color": "#ab63fa",
          "dash": "solid"
         },
         "marker": {
          "symbol": "circle"
         },
         "mode": "lines",
         "name": "DAN",
         "orientation": "v",
         "showlegend": true,
         "type": "scatter",
         "x": [
          2022,
          2021,
          2020,
          2019,
          2018,
          2017,
          2016,
          2015,
          2014,
          2013
         ],
         "xaxis": "x",
         "y": [
          1.4517772814543193,
          3.457063870614377,
          -6.809130090630211,
          -3.8762202861993806,
          -4.707619688480278,
          -0.2275868179425551,
          3.1636938950465456,
          -3.3626365075124625,
          3.027923529742619,
          9.990319118226918
         ],
         "yaxis": "y"
        },
        {
         "hovertemplate": "Ticker_symbol=BC<br>Anno=%{x}<br>Residui=%{y}<extra></extra>",
         "legendgroup": "BC",
         "line": {
          "color": "#FFA15A",
          "dash": "solid"
         },
         "marker": {
          "symbol": "circle"
         },
         "mode": "lines",
         "name": "BC",
         "orientation": "v",
         "showlegend": true,
         "type": "scatter",
         "x": [
          2022,
          2021,
          2020,
          2019,
          2018,
          2017,
          2016,
          2015,
          2014,
          2013
         ],
         "xaxis": "x",
         "y": [
          22.952925935494825,
          21.90367499128311,
          6.3202686230152345,
          1.6436299214960073,
          -4.519927929417168,
          0.2492336076331476,
          -3.5762837245361077,
          -9.433229333152541,
          -5.524799380866387,
          -0.6292823312306695
         ],
         "yaxis": "y"
        },
        {
         "hovertemplate": "Ticker_symbol=CLI<br>Anno=%{x}<br>Residui=%{y}<extra></extra>",
         "legendgroup": "CLI",
         "line": {
          "color": "#19d3f3",
          "dash": "solid"
         },
         "marker": {
          "symbol": "circle"
         },
         "mode": "lines",
         "name": "CLI",
         "orientation": "v",
         "showlegend": true,
         "type": "scatter",
         "x": [
          2022,
          2021,
          2020,
          2019,
          2018,
          2017,
          2016,
          2015,
          2014,
          2013
         ],
         "xaxis": "x",
         "y": [
          0.07492234792786379,
          0.6808271434277553,
          -0.2086143490646979,
          -0.4263664513766763,
          -0.3517894182752146,
          0.5436565703771268,
          0.021097815955266164,
          0.5954590492303549,
          0.03215546011616954,
          -0.5934963607961747
         ],
         "yaxis": "y"
        },
        {
         "hovertemplate": "Ticker_symbol=ELC<br>Anno=%{x}<br>Residui=%{y}<extra></extra>",
         "legendgroup": "ELC",
         "line": {
          "color": "#FF6692",
          "dash": "solid"
         },
         "marker": {
          "symbol": "circle"
         },
         "mode": "lines",
         "name": "ELC",
         "orientation": "v",
         "showlegend": true,
         "type": "scatter",
         "x": [
          2022,
          2021,
          2020,
          2019,
          2018,
          2017,
          2016,
          2015,
          2014,
          2013
         ],
         "xaxis": "x",
         "y": [
          -0.9547238035717323,
          0.012135437274269467,
          0.7770970582416932,
          0.5939582063878648,
          -0.532870719873749,
          0.5815789994021971,
          -0.08762749197705721,
          -0.23536884461453544,
          -0.1555821955180665,
          0.06137480030765308
         ],
         "yaxis": "y"
        },
        {
         "hovertemplate": "Ticker_symbol=GPI<br>Anno=%{x}<br>Residui=%{y}<extra></extra>",
         "legendgroup": "GPI",
         "line": {
          "color": "#B6E880",
          "dash": "solid"
         },
         "marker": {
          "symbol": "circle"
         },
         "mode": "lines",
         "name": "GPI",
         "orientation": "v",
         "showlegend": true,
         "type": "scatter",
         "x": [
          2022,
          2021,
          2020,
          2019,
          2018,
          2017,
          2016,
          2015
         ],
         "xaxis": "x",
         "y": [
          4.932742253283189,
          5.3864633360309675,
          -2.567672286381873,
          -3.525037322757365,
          -2.159698069694217,
          -1.0399936338776907,
          -0.7266127716376882,
          1.921168249397316
         ],
         "yaxis": "y"
        },
        {
         "hovertemplate": "Ticker_symbol=SRI<br>Anno=%{x}<br>Residui=%{y}<extra></extra>",
         "legendgroup": "SRI",
         "line": {
          "color": "#FF97FF",
          "dash": "solid"
         },
         "marker": {
          "symbol": "circle"
         },
         "mode": "lines",
         "name": "SRI",
         "orientation": "v",
         "showlegend": true,
         "type": "scatter",
         "x": [
          2022,
          2021,
          2020,
          2019,
          2018,
          2017,
          2016,
          2015,
          2014,
          2013
         ],
         "xaxis": "x",
         "y": [
          -2.1316039269820197,
          -1.3968150566170485,
          -0.6157307635149465,
          -0.03474297465107323,
          -0.02720528467830796,
          3.1981036388838837,
          0.3712144691786885,
          0.8027368467605998,
          1.0937577968772483,
          1.5791610438584724
         ],
         "yaxis": "y"
        },
        {
         "hovertemplate": "Ticker_symbol=ALA<br>Anno=%{x}<br>Residui=%{y}<extra></extra>",
         "legendgroup": "ALA",
         "line": {
          "color": "#FECB52",
          "dash": "solid"
         },
         "marker": {
          "symbol": "circle"
         },
         "mode": "lines",
         "name": "ALA",
         "orientation": "v",
         "showlegend": true,
         "type": "scatter",
         "x": [
          2022,
          2021
         ],
         "xaxis": "x",
         "y": [
          0.1635137625113856,
          -0.14965183177190156
         ],
         "yaxis": "y"
        },
        {
         "hovertemplate": "Ticker_symbol=ICF<br>Anno=%{x}<br>Residui=%{y}<extra></extra>",
         "legendgroup": "ICF",
         "line": {
          "color": "#636efa",
          "dash": "solid"
         },
         "marker": {
          "symbol": "circle"
         },
         "mode": "lines",
         "name": "ICF",
         "orientation": "v",
         "showlegend": true,
         "type": "scatter",
         "x": [
          2022,
          2021,
          2020
         ],
         "xaxis": "x",
         "y": [
          -0.5356474883760551,
          0.8190048044368528,
          -0.27540626275011615
         ],
         "yaxis": "y"
        },
        {
         "hovertemplate": "Ticker_symbol=ENV<br>Anno=%{x}<br>Residui=%{y}<extra></extra>",
         "legendgroup": "ENV",
         "line": {
          "color": "#EF553B",
          "dash": "solid"
         },
         "marker": {
          "symbol": "circle"
         },
         "mode": "lines",
         "name": "ENV",
         "orientation": "v",
         "showlegend": true,
         "type": "scatter",
         "x": [
          2022,
          2021,
          2020,
          2019,
          2018,
          2017,
          2016,
          2015,
          2014,
          2013
         ],
         "xaxis": "x",
         "y": [
          -0.6185719887044963,
          0.11591282904697664,
          0.957523484077123,
          0.4017854493529205,
          -0.8892860411231536,
          0.10998788562757822,
          -0.2911841261938095,
          0.1849888098335959,
          -0.2349687917730865,
          -0.07334485464805018
         ],
         "yaxis": "y"
        },
        {
         "hovertemplate": "Ticker_symbol=MASI<br>Anno=%{x}<br>Residui=%{y}<extra></extra>",
         "legendgroup": "MASI",
         "line": {
          "color": "#00cc96",
          "dash": "solid"
         },
         "marker": {
          "symbol": "circle"
         },
         "mode": "lines",
         "name": "MASI",
         "orientation": "v",
         "showlegend": true,
         "type": "scatter",
         "x": [
          2022,
          2021,
          2020,
          2019,
          2018,
          2017,
          2016,
          2015
         ],
         "xaxis": "x",
         "y": [
          -0.4587864340871519,
          -1.419698164788871,
          -0.7993785200617998,
          -0.4043334553962752,
          0.751093474978874,
          1.2655936986157297,
          0.8214525377362549,
          0.18343558852551745
         ],
         "yaxis": "y"
        },
        {
         "hovertemplate": "Ticker_symbol=SVS<br>Anno=%{x}<br>Residui=%{y}<extra></extra>",
         "legendgroup": "SVS",
         "line": {
          "color": "#ab63fa",
          "dash": "solid"
         },
         "marker": {
          "symbol": "circle"
         },
         "mode": "lines",
         "name": "SVS",
         "orientation": "v",
         "showlegend": true,
         "type": "scatter",
         "x": [
          2022
         ],
         "xaxis": "x",
         "y": [
          -3.977262963417161e-11
         ],
         "yaxis": "y"
        },
        {
         "hovertemplate": "Ticker_symbol=STAR7<br>Anno=%{x}<br>Residui=%{y}<extra></extra>",
         "legendgroup": "STAR7",
         "line": {
          "color": "#FFA15A",
          "dash": "solid"
         },
         "marker": {
          "symbol": "circle"
         },
         "mode": "lines",
         "name": "STAR7",
         "orientation": "v",
         "showlegend": true,
         "type": "scatter",
         "x": [
          2022,
          2021
         ],
         "xaxis": "x",
         "y": [
          -0.7018532106073305,
          0.7158389895373922
         ],
         "yaxis": "y"
        },
        {
         "hovertemplate": "Ticker_symbol=SCK<br>Anno=%{x}<br>Residui=%{y}<extra></extra>",
         "legendgroup": "SCK",
         "line": {
          "color": "#19d3f3",
          "dash": "solid"
         },
         "marker": {
          "symbol": "circle"
         },
         "mode": "lines",
         "name": "SCK",
         "orientation": "v",
         "showlegend": true,
         "type": "scatter",
         "x": [
          2022,
          2021,
          2020,
          2019,
          2018
         ],
         "xaxis": "x",
         "y": [
          2.4983546338569127,
          5.566156709311506,
          1.2518324741250948,
          -0.6802219955513327,
          -1.732826933784409
         ],
         "yaxis": "y"
        },
        {
         "hovertemplate": "Ticker_symbol=MARP<br>Anno=%{x}<br>Residui=%{y}<extra></extra>",
         "legendgroup": "MARP",
         "line": {
          "color": "#FF6692",
          "dash": "solid"
         },
         "marker": {
          "symbol": "circle"
         },
         "mode": "lines",
         "name": "MARP",
         "orientation": "v",
         "showlegend": true,
         "type": "scatter",
         "x": [
          2022,
          2021,
          2020,
          2019
         ],
         "xaxis": "x",
         "y": [
          -0.4440454211824125,
          0.26379246090354425,
          -0.745708866653811,
          1.1095428212333598
         ],
         "yaxis": "y"
        },
        {
         "hovertemplate": "Ticker_symbol=ITD<br>Anno=%{x}<br>Residui=%{y}<extra></extra>",
         "legendgroup": "ITD",
         "line": {
          "color": "#B6E880",
          "dash": "solid"
         },
         "marker": {
          "symbol": "circle"
         },
         "mode": "lines",
         "name": "ITD",
         "orientation": "v",
         "showlegend": true,
         "type": "scatter",
         "x": [
          2022,
          2021,
          2020,
          2019,
          2018
         ],
         "xaxis": "x",
         "y": [
          5.826344873876689,
          3.975149867106433,
          2.648486244898394,
          -3.311519823931884,
          -2.4820956494300415
         ],
         "yaxis": "y"
        },
        {
         "hovertemplate": "Ticker_symbol=VIM<br>Anno=%{x}<br>Residui=%{y}<extra></extra>",
         "legendgroup": "VIM",
         "line": {
          "color": "#FF97FF",
          "dash": "solid"
         },
         "marker": {
          "symbol": "circle"
         },
         "mode": "lines",
         "name": "VIM",
         "orientation": "v",
         "showlegend": true,
         "type": "scatter",
         "x": [
          2022,
          2021,
          2020,
          2019,
          2018
         ],
         "xaxis": "x",
         "y": [
          -0.9252652139432951,
          -0.3349214406366843,
          -0.2538333645095223,
          0.7495793065183145,
          1.2455600956003725
         ],
         "yaxis": "y"
        },
        {
         "hovertemplate": "Ticker_symbol=MDC<br>Anno=%{x}<br>Residui=%{y}<extra></extra>",
         "legendgroup": "MDC",
         "line": {
          "color": "#FECB52",
          "dash": "solid"
         },
         "marker": {
          "symbol": "circle"
         },
         "mode": "lines",
         "name": "MDC",
         "orientation": "v",
         "showlegend": true,
         "type": "scatter",
         "x": [
          2022,
          2021
         ],
         "xaxis": "x",
         "y": [
          -10.169278136830531,
          10.938943475688273
         ],
         "yaxis": "y"
        },
        {
         "hovertemplate": "Ticker_symbol=ILP<br>Anno=%{x}<br>Residui=%{y}<extra></extra>",
         "legendgroup": "ILP",
         "line": {
          "color": "#636efa",
          "dash": "solid"
         },
         "marker": {
          "symbol": "circle"
         },
         "mode": "lines",
         "name": "ILP",
         "orientation": "v",
         "showlegend": true,
         "type": "scatter",
         "x": [
          2022,
          2021,
          2020,
          2019
         ],
         "xaxis": "x",
         "y": [
          0.46541902618162156,
          0.8911291981241614,
          -0.9282568958642585,
          0.0952992551641243
         ],
         "yaxis": "y"
        },
        {
         "hovertemplate": "Ticker_symbol=CFL<br>Anno=%{x}<br>Residui=%{y}<extra></extra>",
         "legendgroup": "CFL",
         "line": {
          "color": "#EF553B",
          "dash": "solid"
         },
         "marker": {
          "symbol": "circle"
         },
         "mode": "lines",
         "name": "CFL",
         "orientation": "v",
         "showlegend": true,
         "type": "scatter",
         "x": [
          2022,
          2021
         ],
         "xaxis": "x",
         "y": [
          -0.7527733308045708,
          0.8835807464243146
         ],
         "yaxis": "y"
        },
        {
         "hovertemplate": "Ticker_symbol=FCM<br>Anno=%{x}<br>Residui=%{y}<extra></extra>",
         "legendgroup": "FCM",
         "line": {
          "color": "#00cc96",
          "dash": "solid"
         },
         "marker": {
          "symbol": "circle"
         },
         "mode": "lines",
         "name": "FCM",
         "orientation": "v",
         "showlegend": true,
         "type": "scatter",
         "x": [
          2022,
          2021,
          2020,
          2019
         ],
         "xaxis": "x",
         "y": [
          -0.21276207354064613,
          -0.12772749493814595,
          0.05324461044095363,
          0.3262999525811927
         ],
         "yaxis": "y"
        },
        {
         "hovertemplate": "Ticker_symbol=FVI<br>Anno=%{x}<br>Residui=%{y}<extra></extra>",
         "legendgroup": "FVI",
         "line": {
          "color": "#ab63fa",
          "dash": "solid"
         },
         "marker": {
          "symbol": "circle"
         },
         "mode": "lines",
         "name": "FVI",
         "orientation": "v",
         "showlegend": true,
         "type": "scatter",
         "x": [
          2022,
          2021,
          2020,
          2019,
          2018
         ],
         "xaxis": "x",
         "y": [
          3.7595923897083168,
          3.595169675826561,
          -3.4529573116742522,
          -0.005173465283249357,
          -3.98798100455104
         ],
         "yaxis": "y"
        },
        {
         "hovertemplate": "Ticker_symbol=LDB<br>Anno=%{x}<br>Residui=%{y}<extra></extra>",
         "legendgroup": "LDB",
         "line": {
          "color": "#FFA15A",
          "dash": "solid"
         },
         "marker": {
          "symbol": "circle"
         },
         "mode": "lines",
         "name": "LDB",
         "orientation": "v",
         "showlegend": true,
         "type": "scatter",
         "x": [
          2022,
          2021
         ],
         "xaxis": "x",
         "y": [
          -0.17645870445634282,
          0.1904330671523331
         ],
         "yaxis": "y"
        },
        {
         "hovertemplate": "Ticker_symbol=FOS<br>Anno=%{x}<br>Residui=%{y}<extra></extra>",
         "legendgroup": "FOS",
         "line": {
          "color": "#19d3f3",
          "dash": "solid"
         },
         "marker": {
          "symbol": "circle"
         },
         "mode": "lines",
         "name": "FOS",
         "orientation": "v",
         "showlegend": true,
         "type": "scatter",
         "x": [
          2022,
          2021,
          2020,
          2019
         ],
         "xaxis": "x",
         "y": [
          -0.27590414772933025,
          0.7556149157249341,
          -0.7849944379147318,
          0.3988156692242719
         ],
         "yaxis": "y"
        },
        {
         "hovertemplate": "Ticker_symbol=BAN<br>Anno=%{x}<br>Residui=%{y}<extra></extra>",
         "legendgroup": "BAN",
         "line": {
          "color": "#FF6692",
          "dash": "solid"
         },
         "marker": {
          "symbol": "circle"
         },
         "mode": "lines",
         "name": "BAN",
         "orientation": "v",
         "showlegend": true,
         "type": "scatter",
         "x": [
          2022,
          2021,
          2020,
          2019,
          2018,
          2017,
          2016,
          2015,
          2014,
          2013
         ],
         "xaxis": "x",
         "y": [
          1.8931257694687984,
          1.3930695655220875,
          1.1421977094330664,
          0.39908829398793877,
          -0.2585045759506759,
          -0.5862037946780929,
          -0.7862049772711539,
          -0.20441166385771226,
          -1.284156810312647,
          -0.4202333472130513
         ],
         "yaxis": "y"
        }
       ],
       "layout": {
        "height": 750,
        "legend": {
         "title": {
          "text": "Ticker_symbol"
         },
         "tracegroupgap": 0
        },
        "template": {
         "data": {
          "bar": [
           {
            "error_x": {
             "color": "#2a3f5f"
            },
            "error_y": {
             "color": "#2a3f5f"
            },
            "marker": {
             "line": {
              "color": "#E5ECF6",
              "width": 0.5
             },
             "pattern": {
              "fillmode": "overlay",
              "size": 10,
              "solidity": 0.2
             }
            },
            "type": "bar"
           }
          ],
          "barpolar": [
           {
            "marker": {
             "line": {
              "color": "#E5ECF6",
              "width": 0.5
             },
             "pattern": {
              "fillmode": "overlay",
              "size": 10,
              "solidity": 0.2
             }
            },
            "type": "barpolar"
           }
          ],
          "carpet": [
           {
            "aaxis": {
             "endlinecolor": "#2a3f5f",
             "gridcolor": "white",
             "linecolor": "white",
             "minorgridcolor": "white",
             "startlinecolor": "#2a3f5f"
            },
            "baxis": {
             "endlinecolor": "#2a3f5f",
             "gridcolor": "white",
             "linecolor": "white",
             "minorgridcolor": "white",
             "startlinecolor": "#2a3f5f"
            },
            "type": "carpet"
           }
          ],
          "choropleth": [
           {
            "colorbar": {
             "outlinewidth": 0,
             "ticks": ""
            },
            "type": "choropleth"
           }
          ],
          "contour": [
           {
            "colorbar": {
             "outlinewidth": 0,
             "ticks": ""
            },
            "colorscale": [
             [
              0,
              "#0d0887"
             ],
             [
              0.1111111111111111,
              "#46039f"
             ],
             [
              0.2222222222222222,
              "#7201a8"
             ],
             [
              0.3333333333333333,
              "#9c179e"
             ],
             [
              0.4444444444444444,
              "#bd3786"
             ],
             [
              0.5555555555555556,
              "#d8576b"
             ],
             [
              0.6666666666666666,
              "#ed7953"
             ],
             [
              0.7777777777777778,
              "#fb9f3a"
             ],
             [
              0.8888888888888888,
              "#fdca26"
             ],
             [
              1,
              "#f0f921"
             ]
            ],
            "type": "contour"
           }
          ],
          "contourcarpet": [
           {
            "colorbar": {
             "outlinewidth": 0,
             "ticks": ""
            },
            "type": "contourcarpet"
           }
          ],
          "heatmap": [
           {
            "colorbar": {
             "outlinewidth": 0,
             "ticks": ""
            },
            "colorscale": [
             [
              0,
              "#0d0887"
             ],
             [
              0.1111111111111111,
              "#46039f"
             ],
             [
              0.2222222222222222,
              "#7201a8"
             ],
             [
              0.3333333333333333,
              "#9c179e"
             ],
             [
              0.4444444444444444,
              "#bd3786"
             ],
             [
              0.5555555555555556,
              "#d8576b"
             ],
             [
              0.6666666666666666,
              "#ed7953"
             ],
             [
              0.7777777777777778,
              "#fb9f3a"
             ],
             [
              0.8888888888888888,
              "#fdca26"
             ],
             [
              1,
              "#f0f921"
             ]
            ],
            "type": "heatmap"
           }
          ],
          "heatmapgl": [
           {
            "colorbar": {
             "outlinewidth": 0,
             "ticks": ""
            },
            "colorscale": [
             [
              0,
              "#0d0887"
             ],
             [
              0.1111111111111111,
              "#46039f"
             ],
             [
              0.2222222222222222,
              "#7201a8"
             ],
             [
              0.3333333333333333,
              "#9c179e"
             ],
             [
              0.4444444444444444,
              "#bd3786"
             ],
             [
              0.5555555555555556,
              "#d8576b"
             ],
             [
              0.6666666666666666,
              "#ed7953"
             ],
             [
              0.7777777777777778,
              "#fb9f3a"
             ],
             [
              0.8888888888888888,
              "#fdca26"
             ],
             [
              1,
              "#f0f921"
             ]
            ],
            "type": "heatmapgl"
           }
          ],
          "histogram": [
           {
            "marker": {
             "pattern": {
              "fillmode": "overlay",
              "size": 10,
              "solidity": 0.2
             }
            },
            "type": "histogram"
           }
          ],
          "histogram2d": [
           {
            "colorbar": {
             "outlinewidth": 0,
             "ticks": ""
            },
            "colorscale": [
             [
              0,
              "#0d0887"
             ],
             [
              0.1111111111111111,
              "#46039f"
             ],
             [
              0.2222222222222222,
              "#7201a8"
             ],
             [
              0.3333333333333333,
              "#9c179e"
             ],
             [
              0.4444444444444444,
              "#bd3786"
             ],
             [
              0.5555555555555556,
              "#d8576b"
             ],
             [
              0.6666666666666666,
              "#ed7953"
             ],
             [
              0.7777777777777778,
              "#fb9f3a"
             ],
             [
              0.8888888888888888,
              "#fdca26"
             ],
             [
              1,
              "#f0f921"
             ]
            ],
            "type": "histogram2d"
           }
          ],
          "histogram2dcontour": [
           {
            "colorbar": {
             "outlinewidth": 0,
             "ticks": ""
            },
            "colorscale": [
             [
              0,
              "#0d0887"
             ],
             [
              0.1111111111111111,
              "#46039f"
             ],
             [
              0.2222222222222222,
              "#7201a8"
             ],
             [
              0.3333333333333333,
              "#9c179e"
             ],
             [
              0.4444444444444444,
              "#bd3786"
             ],
             [
              0.5555555555555556,
              "#d8576b"
             ],
             [
              0.6666666666666666,
              "#ed7953"
             ],
             [
              0.7777777777777778,
              "#fb9f3a"
             ],
             [
              0.8888888888888888,
              "#fdca26"
             ],
             [
              1,
              "#f0f921"
             ]
            ],
            "type": "histogram2dcontour"
           }
          ],
          "mesh3d": [
           {
            "colorbar": {
             "outlinewidth": 0,
             "ticks": ""
            },
            "type": "mesh3d"
           }
          ],
          "parcoords": [
           {
            "line": {
             "colorbar": {
              "outlinewidth": 0,
              "ticks": ""
             }
            },
            "type": "parcoords"
           }
          ],
          "pie": [
           {
            "automargin": true,
            "type": "pie"
           }
          ],
          "scatter": [
           {
            "fillpattern": {
             "fillmode": "overlay",
             "size": 10,
             "solidity": 0.2
            },
            "type": "scatter"
           }
          ],
          "scatter3d": [
           {
            "line": {
             "colorbar": {
              "outlinewidth": 0,
              "ticks": ""
             }
            },
            "marker": {
             "colorbar": {
              "outlinewidth": 0,
              "ticks": ""
             }
            },
            "type": "scatter3d"
           }
          ],
          "scattercarpet": [
           {
            "marker": {
             "colorbar": {
              "outlinewidth": 0,
              "ticks": ""
             }
            },
            "type": "scattercarpet"
           }
          ],
          "scattergeo": [
           {
            "marker": {
             "colorbar": {
              "outlinewidth": 0,
              "ticks": ""
             }
            },
            "type": "scattergeo"
           }
          ],
          "scattergl": [
           {
            "marker": {
             "colorbar": {
              "outlinewidth": 0,
              "ticks": ""
             }
            },
            "type": "scattergl"
           }
          ],
          "scattermapbox": [
           {
            "marker": {
             "colorbar": {
              "outlinewidth": 0,
              "ticks": ""
             }
            },
            "type": "scattermapbox"
           }
          ],
          "scatterpolar": [
           {
            "marker": {
             "colorbar": {
              "outlinewidth": 0,
              "ticks": ""
             }
            },
            "type": "scatterpolar"
           }
          ],
          "scatterpolargl": [
           {
            "marker": {
             "colorbar": {
              "outlinewidth": 0,
              "ticks": ""
             }
            },
            "type": "scatterpolargl"
           }
          ],
          "scatterternary": [
           {
            "marker": {
             "colorbar": {
              "outlinewidth": 0,
              "ticks": ""
             }
            },
            "type": "scatterternary"
           }
          ],
          "surface": [
           {
            "colorbar": {
             "outlinewidth": 0,
             "ticks": ""
            },
            "colorscale": [
             [
              0,
              "#0d0887"
             ],
             [
              0.1111111111111111,
              "#46039f"
             ],
             [
              0.2222222222222222,
              "#7201a8"
             ],
             [
              0.3333333333333333,
              "#9c179e"
             ],
             [
              0.4444444444444444,
              "#bd3786"
             ],
             [
              0.5555555555555556,
              "#d8576b"
             ],
             [
              0.6666666666666666,
              "#ed7953"
             ],
             [
              0.7777777777777778,
              "#fb9f3a"
             ],
             [
              0.8888888888888888,
              "#fdca26"
             ],
             [
              1,
              "#f0f921"
             ]
            ],
            "type": "surface"
           }
          ],
          "table": [
           {
            "cells": {
             "fill": {
              "color": "#EBF0F8"
             },
             "line": {
              "color": "white"
             }
            },
            "header": {
             "fill": {
              "color": "#C8D4E3"
             },
             "line": {
              "color": "white"
             }
            },
            "type": "table"
           }
          ]
         },
         "layout": {
          "annotationdefaults": {
           "arrowcolor": "#2a3f5f",
           "arrowhead": 0,
           "arrowwidth": 1
          },
          "autotypenumbers": "strict",
          "coloraxis": {
           "colorbar": {
            "outlinewidth": 0,
            "ticks": ""
           }
          },
          "colorscale": {
           "diverging": [
            [
             0,
             "#8e0152"
            ],
            [
             0.1,
             "#c51b7d"
            ],
            [
             0.2,
             "#de77ae"
            ],
            [
             0.3,
             "#f1b6da"
            ],
            [
             0.4,
             "#fde0ef"
            ],
            [
             0.5,
             "#f7f7f7"
            ],
            [
             0.6,
             "#e6f5d0"
            ],
            [
             0.7,
             "#b8e186"
            ],
            [
             0.8,
             "#7fbc41"
            ],
            [
             0.9,
             "#4d9221"
            ],
            [
             1,
             "#276419"
            ]
           ],
           "sequential": [
            [
             0,
             "#0d0887"
            ],
            [
             0.1111111111111111,
             "#46039f"
            ],
            [
             0.2222222222222222,
             "#7201a8"
            ],
            [
             0.3333333333333333,
             "#9c179e"
            ],
            [
             0.4444444444444444,
             "#bd3786"
            ],
            [
             0.5555555555555556,
             "#d8576b"
            ],
            [
             0.6666666666666666,
             "#ed7953"
            ],
            [
             0.7777777777777778,
             "#fb9f3a"
            ],
            [
             0.8888888888888888,
             "#fdca26"
            ],
            [
             1,
             "#f0f921"
            ]
           ],
           "sequentialminus": [
            [
             0,
             "#0d0887"
            ],
            [
             0.1111111111111111,
             "#46039f"
            ],
            [
             0.2222222222222222,
             "#7201a8"
            ],
            [
             0.3333333333333333,
             "#9c179e"
            ],
            [
             0.4444444444444444,
             "#bd3786"
            ],
            [
             0.5555555555555556,
             "#d8576b"
            ],
            [
             0.6666666666666666,
             "#ed7953"
            ],
            [
             0.7777777777777778,
             "#fb9f3a"
            ],
            [
             0.8888888888888888,
             "#fdca26"
            ],
            [
             1,
             "#f0f921"
            ]
           ]
          },
          "colorway": [
           "#636efa",
           "#EF553B",
           "#00cc96",
           "#ab63fa",
           "#FFA15A",
           "#19d3f3",
           "#FF6692",
           "#B6E880",
           "#FF97FF",
           "#FECB52"
          ],
          "font": {
           "color": "#2a3f5f"
          },
          "geo": {
           "bgcolor": "white",
           "lakecolor": "white",
           "landcolor": "#E5ECF6",
           "showlakes": true,
           "showland": true,
           "subunitcolor": "white"
          },
          "hoverlabel": {
           "align": "left"
          },
          "hovermode": "closest",
          "mapbox": {
           "style": "light"
          },
          "paper_bgcolor": "white",
          "plot_bgcolor": "#E5ECF6",
          "polar": {
           "angularaxis": {
            "gridcolor": "white",
            "linecolor": "white",
            "ticks": ""
           },
           "bgcolor": "#E5ECF6",
           "radialaxis": {
            "gridcolor": "white",
            "linecolor": "white",
            "ticks": ""
           }
          },
          "scene": {
           "xaxis": {
            "backgroundcolor": "#E5ECF6",
            "gridcolor": "white",
            "gridwidth": 2,
            "linecolor": "white",
            "showbackground": true,
            "ticks": "",
            "zerolinecolor": "white"
           },
           "yaxis": {
            "backgroundcolor": "#E5ECF6",
            "gridcolor": "white",
            "gridwidth": 2,
            "linecolor": "white",
            "showbackground": true,
            "ticks": "",
            "zerolinecolor": "white"
           },
           "zaxis": {
            "backgroundcolor": "#E5ECF6",
            "gridcolor": "white",
            "gridwidth": 2,
            "linecolor": "white",
            "showbackground": true,
            "ticks": "",
            "zerolinecolor": "white"
           }
          },
          "shapedefaults": {
           "line": {
            "color": "#2a3f5f"
           }
          },
          "ternary": {
           "aaxis": {
            "gridcolor": "white",
            "linecolor": "white",
            "ticks": ""
           },
           "baxis": {
            "gridcolor": "white",
            "linecolor": "white",
            "ticks": ""
           },
           "bgcolor": "#E5ECF6",
           "caxis": {
            "gridcolor": "white",
            "linecolor": "white",
            "ticks": ""
           }
          },
          "title": {
           "x": 0.05
          },
          "xaxis": {
           "automargin": true,
           "gridcolor": "white",
           "linecolor": "white",
           "ticks": "",
           "title": {
            "standoff": 15
           },
           "zerolinecolor": "white",
           "zerolinewidth": 2
          },
          "yaxis": {
           "automargin": true,
           "gridcolor": "white",
           "linecolor": "white",
           "ticks": "",
           "title": {
            "standoff": 15
           },
           "zerolinecolor": "white",
           "zerolinewidth": 2
          }
         }
        },
        "title": {
         "text": "Relazione tra Anni e Residui per Ticker_symbol"
        },
        "xaxis": {
         "anchor": "y",
         "domain": [
          0,
          1
         ],
         "title": {
          "text": "Anno"
         }
        },
        "yaxis": {
         "anchor": "x",
         "domain": [
          0,
          1
         ],
         "title": {
          "text": "Residui"
         }
        }
       }
      }
     },
     "metadata": {},
     "output_type": "display_data"
    }
   ],
   "source": [
    "\n",
    "fig = px.line(previsioni, x=\"Anni\", y=\"residui\", color=\"Ticker_symbol\",\n",
    "              title=\"Relazione tra Anni e Residui per Ticker_symbol\",\n",
    "              labels={'residui': 'Residui', 'Anni': 'Anno'},\n",
    "              height=750)\n",
    "\n",
    "# Mostra il grafico\n",
    "fig.show()"
   ]
  },
  {
   "cell_type": "markdown",
   "metadata": {},
   "source": [
    "controllo omoschedasticità, se sono omogenei lungo x rispetto a y"
   ]
  },
  {
   "cell_type": "code",
   "execution_count": 39,
   "metadata": {},
   "outputs": [
    {
     "data": {
      "image/png": "[encoded data removed]",
      "text/plain": [
       "<Figure size 640x480 with 1 Axes>"
      ]
     },
     "metadata": {},
     "output_type": "display_data"
    }
   ],
   "source": [
    "# Crea un grafico a dispersione dei residui rispetto alle previsioni\n",
    "plt.scatter(previsioni['predictions'], previsioni['residui'])\n",
    "plt.xlabel('Previsioni')\n",
    "plt.ylabel('Residui')\n",
    "plt.title('Grafico dei Residui vs. Previsioni')\n",
    "plt.show()"
   ]
  },
  {
   "cell_type": "markdown",
   "metadata": {},
   "source": [
    "acf dei residui: controllo autocorrelazione"
   ]
  },
  {
   "cell_type": "code",
   "execution_count": null,
   "metadata": {},
   "outputs": [],
   "source": [
    "\n",
    "from statsmodels.graphics.tsaplots import plot_acf\n",
    "\n",
    "acf_residui = sm.tsa.acf(previsioni['residui'], nlags=13)\n",
    "plot_acf(acf_residui, title=f'ACF residui')\n"
   ]
  },
  {
   "cell_type": "markdown",
   "metadata": {},
   "source": [
    "controllo normalità"
   ]
  },
  {
   "cell_type": "code",
   "execution_count": 40,
   "metadata": {},
   "outputs": [
    {
     "name": "stdout",
     "output_type": "stream",
     "text": [
      "Statistica del test di Shapiro-Wilk: 0.7080497741699219\n",
      "p-value del test di Shapiro-Wilk: 9.111909284484853e-17\n",
      "Rifiutiamo l'ipotesi che i residui seguano una distribuzione normale.\n"
     ]
    }
   ],
   "source": [
    "from scipy.stats import shapiro\n",
    "\n",
    "# Esegue il test di Shapiro-Wilk\n",
    "statistica, p_value = shapiro(previsioni['residui'])\n",
    "\n",
    "# Stampa i risultati del test\n",
    "print(f'Statistica del test di Shapiro-Wilk: {statistica}')\n",
    "print(f'p-value del test di Shapiro-Wilk: {p_value}')\n",
    "\n",
    "# Confronta il p-value con un livello di significatività (e.g., 0.05)\n",
    "if p_value > 0.05:\n",
    "    print(\"Non abbiamo sufficienti prove per rifiutare l'ipotesi che i residui seguano una distribuzione normale.\")\n",
    "else:\n",
    "    print(\"Rifiutiamo l'ipotesi che i residui seguano una distribuzione normale.\")\n"
   ]
  },
  {
   "cell_type": "code",
   "execution_count": 41,
   "metadata": {},
   "outputs": [
    {
     "data": {
      "image/png": "[encoded data removed]",
      "text/plain": [
       "<Figure size 640x480 with 1 Axes>"
      ]
     },
     "metadata": {},
     "output_type": "display_data"
    }
   ],
   "source": [
    "# Crea il QQ-plot\n",
    "sm.qqplot(previsioni['residui'], line='s')  # 's' indica una linea di riferimento per una distribuzione normale\n",
    "plt.title('QQ-Plot dei Residui')\n",
    "plt.show()"
   ]
  },
  {
   "cell_type": "markdown",
   "metadata": {},
   "source": [
    "### covarianza tra errori e indici\n",
    "#### quarta condizione"
   ]
  },
  {
   "cell_type": "code",
   "execution_count": 42,
   "metadata": {},
   "outputs": [
    {
     "data": {
      "application/vnd.plotly.v1+json": {
       "config": {
        "plotlyServerURL": "https://plot.ly"
       },
       "data": [
        {
         "hovertemplate": "Indice_corrente=%{x}<br>y=%{y}<extra></extra>",
         "legendgroup": "",
         "marker": {
          "color": "#636efa",
          "symbol": "circle"
         },
         "mode": "markers",
         "name": "",
         "orientation": "v",
         "showlegend": false,
         "type": "scatter",
         "x": [
          1.58,
          1.57,
          1.7,
          1.46,
          1.67,
          1.57,
          1.52,
          1.77,
          1.39,
          1.69,
          0.98,
          0.95,
          0.79,
          0.83,
          0.97,
          0.87,
          1,
          1.07,
          1.05,
          0.88,
          1.55,
          1.64,
          1.99,
          1.32,
          1.14,
          1.65,
          1.27,
          1.21,
          1.28,
          1.06,
          0.8,
          0.82,
          0.84,
          0.84,
          0.82,
          0.65,
          0.89,
          0.8,
          0.67,
          0.72,
          1.53,
          1.58,
          1.21,
          1.81,
          1.92,
          2.15,
          2.18,
          2.17,
          2.1,
          1.87,
          0.9,
          0.95,
          0.99,
          0.97,
          1.3,
          1.64,
          1.13,
          1.35,
          1.2,
          1.21,
          1.16,
          1.1,
          1.41,
          1.12,
          1.09,
          1.03,
          1.06,
          1.01,
          0.92,
          0.96,
          2.12,
          1.48,
          1.84,
          1.65,
          1.76,
          1.66,
          2.07,
          1.27,
          0.61,
          0.55,
          0.52,
          0.6,
          0.68,
          0.74,
          0.78,
          0.8,
          0.76,
          0.72,
          1.98,
          2.31,
          2.1,
          2.16,
          2.03,
          1.67,
          1.82,
          1.91,
          1.24,
          1.31,
          1.46,
          1.62,
          1.37,
          1.54,
          1.67,
          4.19,
          4,
          5.16,
          5.05,
          5.6,
          5.64,
          4.14,
          4.12,
          1.7,
          1.69,
          1.96,
          1.79,
          2.85,
          2.05,
          1.44,
          1.46,
          2.04,
          1.81,
          2.14,
          1.96,
          0.82,
          0.8,
          1.12,
          1.85,
          2.02,
          1.1,
          1.31,
          1.68,
          1.26,
          1.55,
          1.14,
          1.69,
          2.16,
          2.28,
          2.18,
          1.61,
          2.98,
          3.41,
          1.36,
          2.15,
          1.71,
          1.58,
          3.08,
          3.3,
          6.46,
          4.17,
          5.12,
          1.23,
          2.03,
          1.95,
          2.38,
          2.72,
          2.14,
          2.51,
          2.34,
          2.66,
          2.78,
          3.32,
          3.34,
          2.39,
          2.55,
          2.23,
          1.93
         ],
         "xaxis": "x",
         "y": [
          -7.067354107239918,
          -1.4508825129058778,
          0.715488734084829,
          2.6568643202065587,
          3.3265495359397264,
          4.161732285867686,
          1.1048353945190676,
          2.202762436856755,
          -0.5472301021782986,
          -2.454035646067391,
          -0.7051053201727377,
          -0.2670129305403002,
          -0.2374033513041871,
          -0.0033131728244852887,
          -0.5655393430131721,
          0.19788248714823453,
          -0.3679370683176204,
          0.1269246498533665,
          0.6792333993582356,
          0.7560885715207519,
          -0.5302171097835071,
          1.479877489767162,
          1.3680326724039187,
          0.518887640137164,
          -1.403969972508122,
          3.171770788739046,
          3.013450933915328,
          -0.31144577040357113,
          -1.4308588505910143,
          -2.0105432000821515,
          1.4517772814543193,
          3.457063870614377,
          -6.809130090630211,
          -3.8762202861993806,
          -4.707619688480278,
          -0.2275868179425551,
          3.1636938950465456,
          -3.3626365075124625,
          3.027923529742619,
          9.990319118226918,
          22.952925935494825,
          21.90367499128311,
          6.3202686230152345,
          1.6436299214960073,
          -4.519927929417168,
          0.2492336076331476,
          -3.5762837245361077,
          -9.433229333152541,
          -5.524799380866387,
          -0.6292823312306695,
          0.07492234792786379,
          0.6808271434277553,
          -0.2086143490646979,
          -0.4263664513766763,
          -0.3517894182752146,
          0.5436565703771268,
          0.021097815955266164,
          0.5954590492303549,
          0.03215546011616954,
          -0.5934963607961747,
          -0.9547238035717323,
          0.012135437274269467,
          0.7770970582416932,
          0.5939582063878648,
          -0.532870719873749,
          0.5815789994021971,
          -0.08762749197705721,
          -0.23536884461453544,
          -0.1555821955180665,
          0.06137480030765308,
          4.932742253283189,
          5.3864633360309675,
          -2.567672286381873,
          -3.525037322757365,
          -2.159698069694217,
          -1.0399936338776907,
          -0.7266127716376882,
          1.921168249397316,
          -2.1316039269820197,
          -1.3968150566170485,
          -0.6157307635149465,
          -0.03474297465107323,
          -0.02720528467830796,
          3.1981036388838837,
          0.3712144691786885,
          0.8027368467605998,
          1.0937577968772483,
          1.5791610438584724,
          0.1635137625113856,
          -0.14965183177190156,
          -0.5356474883760551,
          0.8190048044368528,
          -0.27540626275011615,
          -0.6185719887044963,
          0.11591282904697664,
          0.957523484077123,
          0.4017854493529205,
          -0.8892860411231536,
          0.10998788562757822,
          -0.2911841261938095,
          0.1849888098335959,
          -0.2349687917730865,
          -0.07334485464805018,
          -0.4587864340871519,
          -1.419698164788871,
          -0.7993785200617998,
          -0.4043334553962752,
          0.751093474978874,
          1.2655936986157297,
          0.8214525377362549,
          0.18343558852551745,
          -3.977262963417161e-11,
          -0.7018532106073305,
          0.7158389895373922,
          2.4983546338569127,
          5.566156709311506,
          1.2518324741250948,
          -0.6802219955513327,
          -1.732826933784409,
          -0.4440454211824125,
          0.26379246090354425,
          -0.745708866653811,
          1.1095428212333598,
          5.826344873876689,
          3.975149867106433,
          2.648486244898394,
          -3.311519823931884,
          -2.4820956494300415,
          -0.9252652139432951,
          -0.3349214406366843,
          -0.2538333645095223,
          0.7495793065183145,
          1.2455600956003725,
          -10.169278136830531,
          10.938943475688273,
          0.46541902618162156,
          0.8911291981241614,
          -0.9282568958642585,
          0.0952992551641243,
          -0.7527733308045708,
          0.8835807464243146,
          -0.21276207354064613,
          -0.12772749493814595,
          0.05324461044095363,
          0.3262999525811927,
          3.7595923897083168,
          3.595169675826561,
          -3.4529573116742522,
          -0.005173465283249357,
          -3.98798100455104,
          -0.17645870445634282,
          0.1904330671523331,
          -0.27590414772933025,
          0.7556149157249341,
          -0.7849944379147318,
          0.3988156692242719,
          1.8931257694687984,
          1.3930695655220875,
          1.1421977094330664,
          0.39908829398793877,
          -0.2585045759506759,
          -0.5862037946780929,
          -0.7862049772711539,
          -0.20441166385771226,
          -1.284156810312647,
          -0.4202333472130513
         ],
         "yaxis": "y"
        },
        {
         "hovertemplate": "Indice_di_liquidità=%{x}<br>y=%{y}<extra></extra>",
         "legendgroup": "",
         "marker": {
          "color": "#636efa",
          "symbol": "circle"
         },
         "mode": "markers",
         "name": "",
         "orientation": "v",
         "showlegend": false,
         "type": "scatter",
         "x": [
          1.18,
          1.2,
          1.38,
          1.16,
          1.34,
          1.26,
          1.21,
          1.46,
          1.12,
          1.41,
          0.6,
          0.63,
          0.54,
          0.49,
          0.53,
          0.47,
          0.63,
          0.62,
          0.61,
          0.49,
          1.23,
          1.38,
          1.7,
          1.04,
          0.91,
          1.29,
          0.92,
          0.89,
          0.97,
          0.75,
          0.63,
          0.63,
          0.64,
          0.6,
          0.57,
          0.49,
          0.72,
          0.58,
          0.45,
          0.46,
          1.04,
          0.99,
          0.77,
          1.12,
          1.16,
          1.24,
          1.24,
          1.26,
          1.3,
          1.15,
          0.68,
          0.79,
          0.87,
          0.87,
          1.18,
          1.54,
          1.04,
          1.24,
          1.11,
          1.12,
          0.92,
          0.97,
          1.14,
          0.83,
          0.81,
          0.81,
          0.87,
          0.8,
          0.72,
          0.75,
          1.4,
          1.45,
          1.8,
          1.62,
          1.73,
          1.62,
          2.04,
          1.15,
          0.57,
          0.51,
          0.48,
          0.57,
          0.65,
          0.71,
          0.76,
          0.78,
          0.74,
          0.71,
          1.07,
          1.44,
          1.53,
          1.63,
          1.59,
          1.3,
          1.52,
          1.52,
          0.91,
          1,
          1.14,
          1.27,
          1.05,
          1.2,
          1.31,
          1.92,
          1.92,
          2.22,
          1.71,
          1.94,
          2.07,
          1.62,
          2.34,
          1.22,
          1.68,
          1.96,
          1.59,
          2.4,
          1.45,
          0.83,
          0.96,
          1.15,
          1.04,
          1.45,
          1.23,
          0.81,
          0.76,
          1.12,
          1.85,
          2.02,
          0.59,
          0.76,
          1.1,
          0.85,
          1.02,
          0.95,
          1.47,
          1.51,
          1.7,
          1.4,
          0.94,
          2.45,
          2.77,
          1.02,
          1.8,
          1.29,
          1.31,
          1.7,
          2.01,
          4.7,
          2.54,
          3.42,
          1.19,
          2,
          1.95,
          2.38,
          2.72,
          2.14,
          2.51,
          2.33,
          2.65,
          2.77,
          3.31,
          3.31,
          2.37,
          2.53,
          2.21,
          1.91
         ],
         "xaxis": "x2",
         "y": [
          -7.067354107239918,
          -1.4508825129058778,
          0.715488734084829,
          2.6568643202065587,
          3.3265495359397264,
          4.161732285867686,
          1.1048353945190676,
          2.202762436856755,
          -0.5472301021782986,
          -2.454035646067391,
          -0.7051053201727377,
          -0.2670129305403002,
          -0.2374033513041871,
          -0.0033131728244852887,
          -0.5655393430131721,
          0.19788248714823453,
          -0.3679370683176204,
          0.1269246498533665,
          0.6792333993582356,
          0.7560885715207519,
          -0.5302171097835071,
          1.479877489767162,
          1.3680326724039187,
          0.518887640137164,
          -1.403969972508122,
          3.171770788739046,
          3.013450933915328,
          -0.31144577040357113,
          -1.4308588505910143,
          -2.0105432000821515,
          1.4517772814543193,
          3.457063870614377,
          -6.809130090630211,
          -3.8762202861993806,
          -4.707619688480278,
          -0.2275868179425551,
          3.1636938950465456,
          -3.3626365075124625,
          3.027923529742619,
          9.990319118226918,
          22.952925935494825,
          21.90367499128311,
          6.3202686230152345,
          1.6436299214960073,
          -4.519927929417168,
          0.2492336076331476,
          -3.5762837245361077,
          -9.433229333152541,
          -5.524799380866387,
          -0.6292823312306695,
          0.07492234792786379,
          0.6808271434277553,
          -0.2086143490646979,
          -0.4263664513766763,
          -0.3517894182752146,
          0.5436565703771268,
          0.021097815955266164,
          0.5954590492303549,
          0.03215546011616954,
          -0.5934963607961747,
          -0.9547238035717323,
          0.012135437274269467,
          0.7770970582416932,
          0.5939582063878648,
          -0.532870719873749,
          0.5815789994021971,
          -0.08762749197705721,
          -0.23536884461453544,
          -0.1555821955180665,
          0.06137480030765308,
          4.932742253283189,
          5.3864633360309675,
          -2.567672286381873,
          -3.525037322757365,
          -2.159698069694217,
          -1.0399936338776907,
          -0.7266127716376882,
          1.921168249397316,
          -2.1316039269820197,
          -1.3968150566170485,
          -0.6157307635149465,
          -0.03474297465107323,
          -0.02720528467830796,
          3.1981036388838837,
          0.3712144691786885,
          0.8027368467605998,
          1.0937577968772483,
          1.5791610438584724,
          0.1635137625113856,
          -0.14965183177190156,
          -0.5356474883760551,
          0.8190048044368528,
          -0.27540626275011615,
          -0.6185719887044963,
          0.11591282904697664,
          0.957523484077123,
          0.4017854493529205,
          -0.8892860411231536,
          0.10998788562757822,
          -0.2911841261938095,
          0.1849888098335959,
          -0.2349687917730865,
          -0.07334485464805018,
          -0.4587864340871519,
          -1.419698164788871,
          -0.7993785200617998,
          -0.4043334553962752,
          0.751093474978874,
          1.2655936986157297,
          0.8214525377362549,
          0.18343558852551745,
          -3.977262963417161e-11,
          -0.7018532106073305,
          0.7158389895373922,
          2.4983546338569127,
          5.566156709311506,
          1.2518324741250948,
          -0.6802219955513327,
          -1.732826933784409,
          -0.4440454211824125,
          0.26379246090354425,
          -0.745708866653811,
          1.1095428212333598,
          5.826344873876689,
          3.975149867106433,
          2.648486244898394,
          -3.311519823931884,
          -2.4820956494300415,
          -0.9252652139432951,
          -0.3349214406366843,
          -0.2538333645095223,
          0.7495793065183145,
          1.2455600956003725,
          -10.169278136830531,
          10.938943475688273,
          0.46541902618162156,
          0.8911291981241614,
          -0.9282568958642585,
          0.0952992551641243,
          -0.7527733308045708,
          0.8835807464243146,
          -0.21276207354064613,
          -0.12772749493814595,
          0.05324461044095363,
          0.3262999525811927,
          3.7595923897083168,
          3.595169675826561,
          -3.4529573116742522,
          -0.005173465283249357,
          -3.98798100455104,
          -0.17645870445634282,
          0.1904330671523331,
          -0.27590414772933025,
          0.7556149157249341,
          -0.7849944379147318,
          0.3988156692242719,
          1.8931257694687984,
          1.3930695655220875,
          1.1421977094330664,
          0.39908829398793877,
          -0.2585045759506759,
          -0.5862037946780929,
          -0.7862049772711539,
          -0.20441166385771226,
          -1.284156810312647,
          -0.4202333472130513
         ],
         "yaxis": "y2"
        },
        {
         "hovertemplate": "Rotaz_cap_investito=%{x}<br>y=%{y}<extra></extra>",
         "legendgroup": "",
         "marker": {
          "color": "#636efa",
          "symbol": "circle"
         },
         "mode": "markers",
         "name": "",
         "orientation": "v",
         "showlegend": false,
         "type": "scatter",
         "x": [
          1.55,
          1.17,
          0.98,
          1.46,
          1.54,
          1.57,
          1.52,
          1.63,
          1.7,
          1.6,
          0.82,
          0.74,
          0.62,
          0.66,
          0.63,
          0.68,
          0.61,
          0.61,
          0.57,
          0.6,
          0.58,
          0.5,
          0.44,
          0.72,
          0.78,
          0.81,
          0.92,
          0.96,
          0.87,
          0.83,
          0.3,
          0.62,
          0.27,
          0.32,
          0.46,
          0.37,
          0.68,
          0.42,
          0.5,
          0.45,
          0.73,
          0.67,
          0.61,
          0.73,
          0.83,
          0.84,
          0.87,
          0.87,
          0.9,
          0.99,
          1.23,
          1.06,
          0.77,
          0.61,
          0.64,
          0.64,
          0.71,
          0.91,
          1.01,
          0.97,
          0.93,
          0.97,
          0.95,
          1.2,
          1.21,
          1.14,
          0.99,
          0.97,
          0.96,
          0.95,
          0.35,
          0.55,
          0.53,
          0.54,
          0.44,
          0.48,
          0.47,
          0.65,
          0.6,
          0.62,
          0.55,
          0.58,
          0.64,
          0.64,
          0.6,
          0.65,
          0.69,
          0.63,
          0.72,
          0.85,
          0.71,
          0.59,
          0.51,
          1.12,
          0.95,
          0.81,
          1.04,
          1.24,
          1.21,
          1.26,
          1.37,
          1.31,
          1.36,
          0.34,
          0.32,
          0.29,
          0.38,
          0.4,
          0.4,
          0.45,
          0.43,
          0.5,
          0.56,
          0.48,
          0.47,
          0.53,
          0.4,
          0.41,
          0.39,
          1.01,
          0.91,
          0.79,
          0.91,
          0.36,
          0.47,
          0.61,
          0.5,
          0.47,
          0.88,
          0.79,
          0.59,
          0.69,
          0.84,
          0.48,
          0.52,
          0.6,
          0.63,
          0.53,
          0.74,
          0.57,
          0.7,
          0.77,
          0.68,
          0.8,
          0.77,
          0.57,
          0.56,
          0.51,
          0.65,
          0.67,
          0.89,
          0.9,
          0.37,
          0.44,
          0.39,
          0.36,
          0.01,
          0.01,
          0.02,
          0.03,
          0.03,
          0.02,
          0.02,
          0.02,
          0.02,
          0.01
         ],
         "xaxis": "x3",
         "y": [
          -7.067354107239918,
          -1.4508825129058778,
          0.715488734084829,
          2.6568643202065587,
          3.3265495359397264,
          4.161732285867686,
          1.1048353945190676,
          2.202762436856755,
          -0.5472301021782986,
          -2.454035646067391,
          -0.7051053201727377,
          -0.2670129305403002,
          -0.2374033513041871,
          -0.0033131728244852887,
          -0.5655393430131721,
          0.19788248714823453,
          -0.3679370683176204,
          0.1269246498533665,
          0.6792333993582356,
          0.7560885715207519,
          -0.5302171097835071,
          1.479877489767162,
          1.3680326724039187,
          0.518887640137164,
          -1.403969972508122,
          3.171770788739046,
          3.013450933915328,
          -0.31144577040357113,
          -1.4308588505910143,
          -2.0105432000821515,
          1.4517772814543193,
          3.457063870614377,
          -6.809130090630211,
          -3.8762202861993806,
          -4.707619688480278,
          -0.2275868179425551,
          3.1636938950465456,
          -3.3626365075124625,
          3.027923529742619,
          9.990319118226918,
          22.952925935494825,
          21.90367499128311,
          6.3202686230152345,
          1.6436299214960073,
          -4.519927929417168,
          0.2492336076331476,
          -3.5762837245361077,
          -9.433229333152541,
          -5.524799380866387,
          -0.6292823312306695,
          0.07492234792786379,
          0.6808271434277553,
          -0.2086143490646979,
          -0.4263664513766763,
          -0.3517894182752146,
          0.5436565703771268,
          0.021097815955266164,
          0.5954590492303549,
          0.03215546011616954,
          -0.5934963607961747,
          -0.9547238035717323,
          0.012135437274269467,
          0.7770970582416932,
          0.5939582063878648,
          -0.532870719873749,
          0.5815789994021971,
          -0.08762749197705721,
          -0.23536884461453544,
          -0.1555821955180665,
          0.06137480030765308,
          4.932742253283189,
          5.3864633360309675,
          -2.567672286381873,
          -3.525037322757365,
          -2.159698069694217,
          -1.0399936338776907,
          -0.7266127716376882,
          1.921168249397316,
          -2.1316039269820197,
          -1.3968150566170485,
          -0.6157307635149465,
          -0.03474297465107323,
          -0.02720528467830796,
          3.1981036388838837,
          0.3712144691786885,
          0.8027368467605998,
          1.0937577968772483,
          1.5791610438584724,
          0.1635137625113856,
          -0.14965183177190156,
          -0.5356474883760551,
          0.8190048044368528,
          -0.27540626275011615,
          -0.6185719887044963,
          0.11591282904697664,
          0.957523484077123,
          0.4017854493529205,
          -0.8892860411231536,
          0.10998788562757822,
          -0.2911841261938095,
          0.1849888098335959,
          -0.2349687917730865,
          -0.07334485464805018,
          -0.4587864340871519,
          -1.419698164788871,
          -0.7993785200617998,
          -0.4043334553962752,
          0.751093474978874,
          1.2655936986157297,
          0.8214525377362549,
          0.18343558852551745,
          -3.977262963417161e-11,
          -0.7018532106073305,
          0.7158389895373922,
          2.4983546338569127,
          5.566156709311506,
          1.2518324741250948,
          -0.6802219955513327,
          -1.732826933784409,
          -0.4440454211824125,
          0.26379246090354425,
          -0.745708866653811,
          1.1095428212333598,
          5.826344873876689,
          3.975149867106433,
          2.648486244898394,
          -3.311519823931884,
          -2.4820956494300415,
          -0.9252652139432951,
          -0.3349214406366843,
          -0.2538333645095223,
          0.7495793065183145,
          1.2455600956003725,
          -10.169278136830531,
          10.938943475688273,
          0.46541902618162156,
          0.8911291981241614,
          -0.9282568958642585,
          0.0952992551641243,
          -0.7527733308045708,
          0.8835807464243146,
          -0.21276207354064613,
          -0.12772749493814595,
          0.05324461044095363,
          0.3262999525811927,
          3.7595923897083168,
          3.595169675826561,
          -3.4529573116742522,
          -0.005173465283249357,
          -3.98798100455104,
          -0.17645870445634282,
          0.1904330671523331,
          -0.27590414772933025,
          0.7556149157249341,
          -0.7849944379147318,
          0.3988156692242719,
          1.8931257694687984,
          1.3930695655220875,
          1.1421977094330664,
          0.39908829398793877,
          -0.2585045759506759,
          -0.5862037946780929,
          -0.7862049772711539,
          -0.20441166385771226,
          -1.284156810312647,
          -0.4202333472130513
         ],
         "yaxis": "y3"
        },
        {
         "hovertemplate": "Rotaz_cap_cir_lordo=%{x}<br>y=%{y}<extra></extra>",
         "legendgroup": "",
         "marker": {
          "color": "#636efa",
          "symbol": "circle"
         },
         "mode": "markers",
         "name": "",
         "orientation": "v",
         "showlegend": false,
         "type": "scatter",
         "x": [
          2.21,
          1.66,
          1.4,
          2.04,
          2.06,
          2.12,
          2.09,
          2.14,
          2.28,
          2.14,
          2,
          1.98,
          2.01,
          2.24,
          2.15,
          2.36,
          1.92,
          2,
          1.77,
          2,
          1.26,
          1.1,
          0.89,
          1.63,
          1.6,
          1.73,
          2.18,
          2.08,
          1.84,
          1.84,
          0.57,
          1.27,
          0.55,
          0.69,
          1.13,
          0.86,
          1.37,
          0.93,
          1.1,
          0.88,
          1.47,
          1.57,
          1.33,
          1.33,
          1.47,
          1.45,
          1.4,
          1.37,
          1.3,
          1.43,
          2.96,
          2.41,
          2.06,
          2.33,
          2.22,
          1.73,
          2.42,
          2.4,
          2.93,
          2.84,
          1.95,
          1.78,
          1.65,
          2.6,
          2.49,
          2.19,
          1.87,
          2.11,
          2.21,
          2.16,
          0.57,
          0.99,
          0.86,
          0.83,
          0.71,
          0.88,
          0.68,
          1.31,
          2.08,
          2.44,
          2.2,
          2.31,
          2.15,
          2.1,
          1.99,
          2.02,
          2.07,
          1.73,
          1.37,
          1.18,
          1.62,
          1.39,
          1.33,
          1.86,
          1.67,
          1.6,
          2.52,
          2.49,
          2.21,
          2.25,
          2.66,
          2.19,
          2.08,
          0.73,
          0.67,
          0.6,
          0.85,
          0.83,
          0.82,
          1.03,
          0.85,
          0.83,
          1.07,
          0.92,
          0.68,
          0.84,
          0.75,
          0.82,
          0.69,
          1.58,
          1.49,
          1.41,
          1.81,
          1.26,
          1.5,
          2.42,
          1.44,
          1.21,
          1.81,
          1.68,
          1.3,
          1.49,
          1.66,
          1.25,
          0.84,
          0.86,
          0.92,
          0.86,
          1.16,
          0.9,
          1.1,
          1.3,
          1.23,
          1.79,
          1.49,
          1.1,
          0.89,
          0.66,
          0.94,
          0.84,
          2.27,
          1.3,
          0.67,
          0.69,
          0.64,
          0.56,
          0.05,
          0.03,
          0.04,
          0.05,
          0.05,
          0.04,
          0.03,
          0.03,
          0.03,
          0.02
         ],
         "xaxis": "x4",
         "y": [
          -7.067354107239918,
          -1.4508825129058778,
          0.715488734084829,
          2.6568643202065587,
          3.3265495359397264,
          4.161732285867686,
          1.1048353945190676,
          2.202762436856755,
          -0.5472301021782986,
          -2.454035646067391,
          -0.7051053201727377,
          -0.2670129305403002,
          -0.2374033513041871,
          -0.0033131728244852887,
          -0.5655393430131721,
          0.19788248714823453,
          -0.3679370683176204,
          0.1269246498533665,
          0.6792333993582356,
          0.7560885715207519,
          -0.5302171097835071,
          1.479877489767162,
          1.3680326724039187,
          0.518887640137164,
          -1.403969972508122,
          3.171770788739046,
          3.013450933915328,
          -0.31144577040357113,
          -1.4308588505910143,
          -2.0105432000821515,
          1.4517772814543193,
          3.457063870614377,
          -6.809130090630211,
          -3.8762202861993806,
          -4.707619688480278,
          -0.2275868179425551,
          3.1636938950465456,
          -3.3626365075124625,
          3.027923529742619,
          9.990319118226918,
          22.952925935494825,
          21.90367499128311,
          6.3202686230152345,
          1.6436299214960073,
          -4.519927929417168,
          0.2492336076331476,
          -3.5762837245361077,
          -9.433229333152541,
          -5.524799380866387,
          -0.6292823312306695,
          0.07492234792786379,
          0.6808271434277553,
          -0.2086143490646979,
          -0.4263664513766763,
          -0.3517894182752146,
          0.5436565703771268,
          0.021097815955266164,
          0.5954590492303549,
          0.03215546011616954,
          -0.5934963607961747,
          -0.9547238035717323,
          0.012135437274269467,
          0.7770970582416932,
          0.5939582063878648,
          -0.532870719873749,
          0.5815789994021971,
          -0.08762749197705721,
          -0.23536884461453544,
          -0.1555821955180665,
          0.06137480030765308,
          4.932742253283189,
          5.3864633360309675,
          -2.567672286381873,
          -3.525037322757365,
          -2.159698069694217,
          -1.0399936338776907,
          -0.7266127716376882,
          1.921168249397316,
          -2.1316039269820197,
          -1.3968150566170485,
          -0.6157307635149465,
          -0.03474297465107323,
          -0.02720528467830796,
          3.1981036388838837,
          0.3712144691786885,
          0.8027368467605998,
          1.0937577968772483,
          1.5791610438584724,
          0.1635137625113856,
          -0.14965183177190156,
          -0.5356474883760551,
          0.8190048044368528,
          -0.27540626275011615,
          -0.6185719887044963,
          0.11591282904697664,
          0.957523484077123,
          0.4017854493529205,
          -0.8892860411231536,
          0.10998788562757822,
          -0.2911841261938095,
          0.1849888098335959,
          -0.2349687917730865,
          -0.07334485464805018,
          -0.4587864340871519,
          -1.419698164788871,
          -0.7993785200617998,
          -0.4043334553962752,
          0.751093474978874,
          1.2655936986157297,
          0.8214525377362549,
          0.18343558852551745,
          -3.977262963417161e-11,
          -0.7018532106073305,
          0.7158389895373922,
          2.4983546338569127,
          5.566156709311506,
          1.2518324741250948,
          -0.6802219955513327,
          -1.732826933784409,
          -0.4440454211824125,
          0.26379246090354425,
          -0.745708866653811,
          1.1095428212333598,
          5.826344873876689,
          3.975149867106433,
          2.648486244898394,
          -3.311519823931884,
          -2.4820956494300415,
          -0.9252652139432951,
          -0.3349214406366843,
          -0.2538333645095223,
          0.7495793065183145,
          1.2455600956003725,
          -10.169278136830531,
          10.938943475688273,
          0.46541902618162156,
          0.8911291981241614,
          -0.9282568958642585,
          0.0952992551641243,
          -0.7527733308045708,
          0.8835807464243146,
          -0.21276207354064613,
          -0.12772749493814595,
          0.05324461044095363,
          0.3262999525811927,
          3.7595923897083168,
          3.595169675826561,
          -3.4529573116742522,
          -0.005173465283249357,
          -3.98798100455104,
          -0.17645870445634282,
          0.1904330671523331,
          -0.27590414772933025,
          0.7556149157249341,
          -0.7849944379147318,
          0.3988156692242719,
          1.8931257694687984,
          1.3930695655220875,
          1.1421977094330664,
          0.39908829398793877,
          -0.2585045759506759,
          -0.5862037946780929,
          -0.7862049772711539,
          -0.20441166385771226,
          -1.284156810312647,
          -0.4202333472130513
         ],
         "yaxis": "y4"
        },
        {
         "hovertemplate": "Redditività_del_totale_attivo=%{x}<br>y=%{y}<extra></extra>",
         "legendgroup": "",
         "marker": {
          "color": "#636efa",
          "symbol": "circle"
         },
         "mode": "markers",
         "name": "",
         "orientation": "v",
         "showlegend": false,
         "type": "scatter",
         "x": [
          3.44,
          4.61,
          0.09,
          8.84,
          9.37,
          9.16,
          9.04,
          9.88,
          10.42,
          9.33,
          4.38,
          3.94,
          2.11,
          1.26,
          0.92,
          0.34,
          -0.77,
          -0.9,
          0.29,
          -0.67,
          5.35,
          4.34,
          2.04,
          7.92,
          10.9,
          9.42,
          11.7,
          9.5,
          5.95,
          3.78,
          -0.54,
          -0.13,
          -0.05,
          0.33,
          0.03,
          0.81,
          0.12,
          0.47,
          0.12,
          0.14,
          17.33,
          9.74,
          2.97,
          12.89,
          14.38,
          13.72,
          14.62,
          16.11,
          16.7,
          17.8,
          0.96,
          1.93,
          3.18,
          -1.73,
          0.27,
          0.25,
          -0.43,
          2.24,
          2.81,
          1.94,
          6.55,
          2.83,
          -0.91,
          -0.37,
          -3.05,
          -0.09,
          -1.4,
          1.13,
          -0.27,
          -1.74,
          0.5,
          2.38,
          3.66,
          3.96,
          2.69,
          5.59,
          5.89,
          6.03,
          0.82,
          1.74,
          -0.18,
          2.16,
          2.98,
          3.89,
          4.29,
          5.21,
          6.74,
          5.31,
          8.11,
          9.4,
          2.5,
          0.51,
          2.4,
          7.6,
          6.66,
          -0.94,
          4.07,
          8.84,
          10.58,
          8.84,
          1.1,
          12.41,
          10.44,
          4.2,
          4.43,
          1.11,
          4.82,
          4.72,
          6.33,
          6.93,
          7.41,
          1.98,
          3.22,
          1.42,
          10.82,
          15.83,
          3.58,
          3.75,
          6.46,
          5.69,
          3.82,
          -3.88,
          0.42,
          9.64,
          13.77,
          14,
          13.95,
          11.46,
          0.77,
          0.05,
          -5.16,
          -5.98,
          -0.26,
          6.37,
          3.23,
          9.83,
          9.78,
          6.62,
          2.98,
          0.68,
          3.34,
          0.94,
          1.44,
          -1.48,
          1.7,
          6.54,
          6.42,
          7.47,
          9.3,
          10.22,
          8.75,
          9.69,
          2,
          0.82,
          2.29,
          1.21,
          2.12,
          2.9,
          2.57,
          8.06,
          8.07,
          6.48,
          6.51,
          7.92,
          7.2,
          6.01
         ],
         "xaxis": "x5",
         "y": [
          -7.067354107239918,
          -1.4508825129058778,
          0.715488734084829,
          2.6568643202065587,
          3.3265495359397264,
          4.161732285867686,
          1.1048353945190676,
          2.202762436856755,
          -0.5472301021782986,
          -2.454035646067391,
          -0.7051053201727377,
          -0.2670129305403002,
          -0.2374033513041871,
          -0.0033131728244852887,
          -0.5655393430131721,
          0.19788248714823453,
          -0.3679370683176204,
          0.1269246498533665,
          0.6792333993582356,
          0.7560885715207519,
          -0.5302171097835071,
          1.479877489767162,
          1.3680326724039187,
          0.518887640137164,
          -1.403969972508122,
          3.171770788739046,
          3.013450933915328,
          -0.31144577040357113,
          -1.4308588505910143,
          -2.0105432000821515,
          1.4517772814543193,
          3.457063870614377,
          -6.809130090630211,
          -3.8762202861993806,
          -4.707619688480278,
          -0.2275868179425551,
          3.1636938950465456,
          -3.3626365075124625,
          3.027923529742619,
          9.990319118226918,
          22.952925935494825,
          21.90367499128311,
          6.3202686230152345,
          1.6436299214960073,
          -4.519927929417168,
          0.2492336076331476,
          -3.5762837245361077,
          -9.433229333152541,
          -5.524799380866387,
          -0.6292823312306695,
          0.07492234792786379,
          0.6808271434277553,
          -0.2086143490646979,
          -0.4263664513766763,
          -0.3517894182752146,
          0.5436565703771268,
          0.021097815955266164,
          0.5954590492303549,
          0.03215546011616954,
          -0.5934963607961747,
          -0.9547238035717323,
          0.012135437274269467,
          0.7770970582416932,
          0.5939582063878648,
          -0.532870719873749,
          0.5815789994021971,
          -0.08762749197705721,
          -0.23536884461453544,
          -0.1555821955180665,
          0.06137480030765308,
          4.932742253283189,
          5.3864633360309675,
          -2.567672286381873,
          -3.525037322757365,
          -2.159698069694217,
          -1.0399936338776907,
          -0.7266127716376882,
          1.921168249397316,
          -2.1316039269820197,
          -1.3968150566170485,
          -0.6157307635149465,
          -0.03474297465107323,
          -0.02720528467830796,
          3.1981036388838837,
          0.3712144691786885,
          0.8027368467605998,
          1.0937577968772483,
          1.5791610438584724,
          0.1635137625113856,
          -0.14965183177190156,
          -0.5356474883760551,
          0.8190048044368528,
          -0.27540626275011615,
          -0.6185719887044963,
          0.11591282904697664,
          0.957523484077123,
          0.4017854493529205,
          -0.8892860411231536,
          0.10998788562757822,
          -0.2911841261938095,
          0.1849888098335959,
          -0.2349687917730865,
          -0.07334485464805018,
          -0.4587864340871519,
          -1.419698164788871,
          -0.7993785200617998,
          -0.4043334553962752,
          0.751093474978874,
          1.2655936986157297,
          0.8214525377362549,
          0.18343558852551745,
          -3.977262963417161e-11,
          -0.7018532106073305,
          0.7158389895373922,
          2.4983546338569127,
          5.566156709311506,
          1.2518324741250948,
          -0.6802219955513327,
          -1.732826933784409,
          -0.4440454211824125,
          0.26379246090354425,
          -0.745708866653811,
          1.1095428212333598,
          5.826344873876689,
          3.975149867106433,
          2.648486244898394,
          -3.311519823931884,
          -2.4820956494300415,
          -0.9252652139432951,
          -0.3349214406366843,
          -0.2538333645095223,
          0.7495793065183145,
          1.2455600956003725,
          -10.169278136830531,
          10.938943475688273,
          0.46541902618162156,
          0.8911291981241614,
          -0.9282568958642585,
          0.0952992551641243,
          -0.7527733308045708,
          0.8835807464243146,
          -0.21276207354064613,
          -0.12772749493814595,
          0.05324461044095363,
          0.3262999525811927,
          3.7595923897083168,
          3.595169675826561,
          -3.4529573116742522,
          -0.005173465283249357,
          -3.98798100455104,
          -0.17645870445634282,
          0.1904330671523331,
          -0.27590414772933025,
          0.7556149157249341,
          -0.7849944379147318,
          0.3988156692242719,
          1.8931257694687984,
          1.3930695655220875,
          1.1421977094330664,
          0.39908829398793877,
          -0.2585045759506759,
          -0.5862037946780929,
          -0.7862049772711539,
          -0.20441166385771226,
          -1.284156810312647,
          -0.4202333472130513
         ],
         "yaxis": "y5"
        },
        {
         "hovertemplate": "Redditività_di_tutto_il_capitale_investito=%{x}<br>y=%{y}<extra></extra>",
         "legendgroup": "",
         "marker": {
          "color": "#636efa",
          "symbol": "circle"
         },
         "mode": "markers",
         "name": "",
         "orientation": "v",
         "showlegend": false,
         "type": "scatter",
         "x": [
          5.34,
          7.26,
          0.12,
          13.31,
          14.36,
          14.49,
          14.37,
          15.71,
          17.22,
          15.29,
          7.41,
          6.32,
          3.13,
          1.85,
          1.33,
          0.5,
          -1.11,
          -1.28,
          0.42,
          -0.98,
          7.13,
          5.68,
          2.63,
          10.92,
          17.2,
          13.46,
          16.46,
          14.81,
          9.4,
          6.47,
          -1.26,
          -0.23,
          -0.08,
          0.66,
          0.06,
          1.91,
          0.28,
          1.19,
          0.42,
          0.57,
          22.59,
          12.42,
          3.81,
          15.82,
          18.05,
          16.92,
          18.28,
          20.72,
          21.48,
          24.94,
          1.66,
          3.45,
          4.38,
          -2.18,
          0.35,
          0.32,
          -0.57,
          3.15,
          4.1,
          2.79,
          10.76,
          5.84,
          -1.65,
          -0.66,
          -5.41,
          -0.17,
          -2.35,
          1.81,
          -0.41,
          -2.75,
          0.61,
          3.13,
          4.69,
          5.37,
          3.58,
          7.49,
          7.3,
          8.4,
          1.17,
          2.47,
          -0.26,
          2.97,
          4.28,
          5.54,
          5.78,
          7.42,
          10.3,
          8.23,
          10.2,
          12.05,
          3.2,
          0.65,
          2.91,
          11.19,
          9.24,
          -1.24,
          5.98,
          14.39,
          16.97,
          13.66,
          1.84,
          20.57,
          17.8,
          4.56,
          4.91,
          1.2,
          5.31,
          5.19,
          6.96,
          7.63,
          8.24,
          2.47,
          4.02,
          1.79,
          17.04,
          20.99,
          4.7,
          5.29,
          9.99,
          8.04,
          5.68,
          -5.35,
          0.6,
          15.77,
          23.48,
          20.99,
          20.22,
          16.29,
          1.08,
          0.07,
          -6.65,
          -7.93,
          -0.35,
          10.02,
          5.46,
          13.74,
          13.54,
          9.19,
          4.73,
          0.84,
          4.31,
          1.51,
          1.85,
          -1.97,
          2.4,
          7.89,
          7.72,
          8.59,
          11.51,
          12.43,
          13.35,
          13.36,
          2.98,
          1.22,
          3.31,
          1.81,
          2.35,
          3.31,
          2.9,
          9.39,
          9.27,
          7.48,
          8.08,
          9.94,
          9.28,
          7.79
         ],
         "xaxis": "x6",
         "y": [
          -7.067354107239918,
          -1.4508825129058778,
          0.715488734084829,
          2.6568643202065587,
          3.3265495359397264,
          4.161732285867686,
          1.1048353945190676,
          2.202762436856755,
          -0.5472301021782986,
          -2.454035646067391,
          -0.7051053201727377,
          -0.2670129305403002,
          -0.2374033513041871,
          -0.0033131728244852887,
          -0.5655393430131721,
          0.19788248714823453,
          -0.3679370683176204,
          0.1269246498533665,
          0.6792333993582356,
          0.7560885715207519,
          -0.5302171097835071,
          1.479877489767162,
          1.3680326724039187,
          0.518887640137164,
          -1.403969972508122,
          3.171770788739046,
          3.013450933915328,
          -0.31144577040357113,
          -1.4308588505910143,
          -2.0105432000821515,
          1.4517772814543193,
          3.457063870614377,
          -6.809130090630211,
          -3.8762202861993806,
          -4.707619688480278,
          -0.2275868179425551,
          3.1636938950465456,
          -3.3626365075124625,
          3.027923529742619,
          9.990319118226918,
          22.952925935494825,
          21.90367499128311,
          6.3202686230152345,
          1.6436299214960073,
          -4.519927929417168,
          0.2492336076331476,
          -3.5762837245361077,
          -9.433229333152541,
          -5.524799380866387,
          -0.6292823312306695,
          0.07492234792786379,
          0.6808271434277553,
          -0.2086143490646979,
          -0.4263664513766763,
          -0.3517894182752146,
          0.5436565703771268,
          0.021097815955266164,
          0.5954590492303549,
          0.03215546011616954,
          -0.5934963607961747,
          -0.9547238035717323,
          0.012135437274269467,
          0.7770970582416932,
          0.5939582063878648,
          -0.532870719873749,
          0.5815789994021971,
          -0.08762749197705721,
          -0.23536884461453544,
          -0.1555821955180665,
          0.06137480030765308,
          4.932742253283189,
          5.3864633360309675,
          -2.567672286381873,
          -3.525037322757365,
          -2.159698069694217,
          -1.0399936338776907,
          -0.7266127716376882,
          1.921168249397316,
          -2.1316039269820197,
          -1.3968150566170485,
          -0.6157307635149465,
          -0.03474297465107323,
          -0.02720528467830796,
          3.1981036388838837,
          0.3712144691786885,
          0.8027368467605998,
          1.0937577968772483,
          1.5791610438584724,
          0.1635137625113856,
          -0.14965183177190156,
          -0.5356474883760551,
          0.8190048044368528,
          -0.27540626275011615,
          -0.6185719887044963,
          0.11591282904697664,
          0.957523484077123,
          0.4017854493529205,
          -0.8892860411231536,
          0.10998788562757822,
          -0.2911841261938095,
          0.1849888098335959,
          -0.2349687917730865,
          -0.07334485464805018,
          -0.4587864340871519,
          -1.419698164788871,
          -0.7993785200617998,
          -0.4043334553962752,
          0.751093474978874,
          1.2655936986157297,
          0.8214525377362549,
          0.18343558852551745,
          -3.977262963417161e-11,
          -0.7018532106073305,
          0.7158389895373922,
          2.4983546338569127,
          5.566156709311506,
          1.2518324741250948,
          -0.6802219955513327,
          -1.732826933784409,
          -0.4440454211824125,
          0.26379246090354425,
          -0.745708866653811,
          1.1095428212333598,
          5.826344873876689,
          3.975149867106433,
          2.648486244898394,
          -3.311519823931884,
          -2.4820956494300415,
          -0.9252652139432951,
          -0.3349214406366843,
          -0.2538333645095223,
          0.7495793065183145,
          1.2455600956003725,
          -10.169278136830531,
          10.938943475688273,
          0.46541902618162156,
          0.8911291981241614,
          -0.9282568958642585,
          0.0952992551641243,
          -0.7527733308045708,
          0.8835807464243146,
          -0.21276207354064613,
          -0.12772749493814595,
          0.05324461044095363,
          0.3262999525811927,
          3.7595923897083168,
          3.595169675826561,
          -3.4529573116742522,
          -0.005173465283249357,
          -3.98798100455104,
          -0.17645870445634282,
          0.1904330671523331,
          -0.27590414772933025,
          0.7556149157249341,
          -0.7849944379147318,
          0.3988156692242719,
          1.8931257694687984,
          1.3930695655220875,
          1.1421977094330664,
          0.39908829398793877,
          -0.2585045759506759,
          -0.5862037946780929,
          -0.7862049772711539,
          -0.20441166385771226,
          -1.284156810312647,
          -0.4202333472130513
         ],
         "yaxis": "y6"
        },
        {
         "hovertemplate": "Redditività_delle_vendite=%{x}<br>y=%{y}<extra></extra>",
         "legendgroup": "",
         "marker": {
          "color": "#636efa",
          "symbol": "circle"
         },
         "mode": "markers",
         "name": "",
         "orientation": "v",
         "showlegend": false,
         "type": "scatter",
         "x": [
          2.22,
          3.83,
          0.09,
          5.88,
          5.92,
          5.71,
          5.77,
          5.91,
          5.98,
          5.71,
          4.9,
          4.91,
          3.12,
          1.73,
          1.34,
          0.46,
          -1.15,
          -1.34,
          0.45,
          -1.01,
          8.73,
          8.37,
          4.42,
          10.39,
          13.23,
          11.12,
          12.19,
          9.5,
          6.58,
          4.34,
          -1.74,
          -0.21,
          -0.16,
          0.98,
          0.07,
          2.11,
          0.17,
          1.08,
          0.25,
          0.3,
          22.33,
          14.05,
          4.86,
          17.59,
          17.18,
          16.24,
          16.69,
          18.38,
          18.39,
          17.75,
          0.77,
          1.78,
          4.06,
          -2.81,
          0.42,
          0.39,
          -0.61,
          2.45,
          2.77,
          1.98,
          6.76,
          2.91,
          -0.95,
          -0.31,
          -2.51,
          -0.08,
          -1.4,
          1.15,
          -0.27,
          -1.81,
          1.4,
          4.22,
          6.73,
          7.1,
          5.95,
          10.96,
          12.24,
          9.11,
          1.32,
          2.71,
          -0.32,
          3.65,
          4.55,
          5.85,
          6.87,
          7.59,
          9.28,
          8,
          11.19,
          10.96,
          3.52,
          0.85,
          4.71,
          6.8,
          6.99,
          -1.15,
          3.88,
          6.99,
          8.68,
          6.99,
          0.79,
          9.36,
          7.58,
          11.56,
          13.1,
          3.74,
          12.14,
          11.54,
          15.58,
          14.92,
          16.22,
          3.82,
          5.69,
          2.93,
          22.44,
          29.44,
          8.57,
          8.73,
          14.16,
          5.5,
          4.11,
          -4.79,
          0.45,
          26.39,
          28.59,
          22.33,
          27.18,
          23.43,
          0.85,
          0.06,
          -8.5,
          -8.6,
          -0.3,
          12.25,
          6.22,
          15.77,
          14.64,
          12.08,
          3.87,
          1.13,
          4.58,
          1.2,
          2.08,
          -1.82,
          2.18,
          11.18,
          11.46,
          14.59,
          14.04,
          15.02,
          9.64,
          10.74,
          4.95,
          1.68,
          5.21,
          2.98,
          10.02,
          14.93,
          9.21,
          24.59,
          24.91,
          22.97,
          24.26,
          29.06,
          25.64,
          22.94
         ],
         "xaxis": "x7",
         "y": [
          -7.067354107239918,
          -1.4508825129058778,
          0.715488734084829,
          2.6568643202065587,
          3.3265495359397264,
          4.161732285867686,
          1.1048353945190676,
          2.202762436856755,
          -0.5472301021782986,
          -2.454035646067391,
          -0.7051053201727377,
          -0.2670129305403002,
          -0.2374033513041871,
          -0.0033131728244852887,
          -0.5655393430131721,
          0.19788248714823453,
          -0.3679370683176204,
          0.1269246498533665,
          0.6792333993582356,
          0.7560885715207519,
          -0.5302171097835071,
          1.479877489767162,
          1.3680326724039187,
          0.518887640137164,
          -1.403969972508122,
          3.171770788739046,
          3.013450933915328,
          -0.31144577040357113,
          -1.4308588505910143,
          -2.0105432000821515,
          1.4517772814543193,
          3.457063870614377,
          -6.809130090630211,
          -3.8762202861993806,
          -4.707619688480278,
          -0.2275868179425551,
          3.1636938950465456,
          -3.3626365075124625,
          3.027923529742619,
          9.990319118226918,
          22.952925935494825,
          21.90367499128311,
          6.3202686230152345,
          1.6436299214960073,
          -4.519927929417168,
          0.2492336076331476,
          -3.5762837245361077,
          -9.433229333152541,
          -5.524799380866387,
          -0.6292823312306695,
          0.07492234792786379,
          0.6808271434277553,
          -0.2086143490646979,
          -0.4263664513766763,
          -0.3517894182752146,
          0.5436565703771268,
          0.021097815955266164,
          0.5954590492303549,
          0.03215546011616954,
          -0.5934963607961747,
          -0.9547238035717323,
          0.012135437274269467,
          0.7770970582416932,
          0.5939582063878648,
          -0.532870719873749,
          0.5815789994021971,
          -0.08762749197705721,
          -0.23536884461453544,
          -0.1555821955180665,
          0.06137480030765308,
          4.932742253283189,
          5.3864633360309675,
          -2.567672286381873,
          -3.525037322757365,
          -2.159698069694217,
          -1.0399936338776907,
          -0.7266127716376882,
          1.921168249397316,
          -2.1316039269820197,
          -1.3968150566170485,
          -0.6157307635149465,
          -0.03474297465107323,
          -0.02720528467830796,
          3.1981036388838837,
          0.3712144691786885,
          0.8027368467605998,
          1.0937577968772483,
          1.5791610438584724,
          0.1635137625113856,
          -0.14965183177190156,
          -0.5356474883760551,
          0.8190048044368528,
          -0.27540626275011615,
          -0.6185719887044963,
          0.11591282904697664,
          0.957523484077123,
          0.4017854493529205,
          -0.8892860411231536,
          0.10998788562757822,
          -0.2911841261938095,
          0.1849888098335959,
          -0.2349687917730865,
          -0.07334485464805018,
          -0.4587864340871519,
          -1.419698164788871,
          -0.7993785200617998,
          -0.4043334553962752,
          0.751093474978874,
          1.2655936986157297,
          0.8214525377362549,
          0.18343558852551745,
          -3.977262963417161e-11,
          -0.7018532106073305,
          0.7158389895373922,
          2.4983546338569127,
          5.566156709311506,
          1.2518324741250948,
          -0.6802219955513327,
          -1.732826933784409,
          -0.4440454211824125,
          0.26379246090354425,
          -0.745708866653811,
          1.1095428212333598,
          5.826344873876689,
          3.975149867106433,
          2.648486244898394,
          -3.311519823931884,
          -2.4820956494300415,
          -0.9252652139432951,
          -0.3349214406366843,
          -0.2538333645095223,
          0.7495793065183145,
          1.2455600956003725,
          -10.169278136830531,
          10.938943475688273,
          0.46541902618162156,
          0.8911291981241614,
          -0.9282568958642585,
          0.0952992551641243,
          -0.7527733308045708,
          0.8835807464243146,
          -0.21276207354064613,
          -0.12772749493814595,
          0.05324461044095363,
          0.3262999525811927,
          3.7595923897083168,
          3.595169675826561,
          -3.4529573116742522,
          -0.005173465283249357,
          -3.98798100455104,
          -0.17645870445634282,
          0.1904330671523331,
          -0.27590414772933025,
          0.7556149157249341,
          -0.7849944379147318,
          0.3988156692242719,
          1.8931257694687984,
          1.3930695655220875,
          1.1421977094330664,
          0.39908829398793877,
          -0.2585045759506759,
          -0.5862037946780929,
          -0.7862049772711539,
          -0.20441166385771226,
          -1.284156810312647,
          -0.4202333472130513
         ],
         "yaxis": "y7"
        },
        {
         "hovertemplate": "Redditività_del_capitale_proprio=%{x}<br>y=%{y}<extra></extra>",
         "legendgroup": "",
         "marker": {
          "color": "#636efa",
          "symbol": "circle"
         },
         "mode": "markers",
         "name": "",
         "orientation": "v",
         "showlegend": false,
         "type": "scatter",
         "x": [
          7.77,
          9.5,
          -1.25,
          19.42,
          20.32,
          21.25,
          19.89,
          21.17,
          20.88,
          19.63,
          21.64,
          17.4,
          12.28,
          14.94,
          11.21,
          6.63,
          4.39,
          4.7,
          4.5,
          -0.52,
          19.12,
          13.04,
          11.72,
          29,
          21.85,
          31.17,
          35.06,
          33.38,
          26.73,
          18.57,
          3.6,
          0.36,
          -0.34,
          0.02,
          24.21,
          2.07,
          0.49,
          19.02,
          21.27,
          14.04,
          21.96,
          16.56,
          -8.28,
          17.05,
          17.39,
          17.75,
          16.46,
          19.44,
          21.66,
          21.58,
          0.24,
          3.63,
          6.76,
          -5.16,
          0.71,
          0.3,
          18.89,
          2.71,
          3.27,
          2.7,
          14.59,
          10.69,
          -3.71,
          -1.67,
          0.62,
          -25.69,
          -5.85,
          5.6,
          4.38,
          -1.57,
          3.59,
          10.45,
          10.51,
          18.6,
          11.58,
          12.35,
          11.37,
          16.57,
          1.38,
          3.95,
          2.14,
          5.77,
          8.03,
          9.7,
          7.99,
          8.49,
          10.05,
          8.32,
          11.02,
          10.59,
          4.18,
          2.82,
          3.02,
          14.03,
          13.31,
          -9.02,
          3.64,
          15.74,
          12.33,
          10.62,
          0.68,
          10.75,
          11.1,
          2.99,
          3.87,
          0.85,
          4.13,
          4.85,
          5.26,
          5.14,
          5.28,
          1.7,
          15.17,
          3.39,
          22.11,
          21.12,
          2.18,
          1.57,
          10.14,
          10.9,
          6.27,
          -0.3,
          -1.41,
          18.07,
          21.4,
          18.92,
          16.22,
          14.17,
          3.85,
          1.99,
          -8.71,
          -9.51,
          -0.2,
          10.04,
          6.42,
          19.1,
          18.53,
          11.7,
          11.18,
          10.34,
          32.99,
          0.28,
          0.09,
          -2.98,
          0.59,
          7.48,
          7.52,
          8.79,
          9.87,
          9.94,
          13.6,
          16.01,
          8.34,
          5.88,
          7.74,
          4.67,
          7.6,
          44.4,
          5.19,
          15.21,
          14.12,
          5.28,
          8.55,
          13.71,
          12.34,
          5.83
         ],
         "xaxis": "x8",
         "y": [
          -7.067354107239918,
          -1.4508825129058778,
          0.715488734084829,
          2.6568643202065587,
          3.3265495359397264,
          4.161732285867686,
          1.1048353945190676,
          2.202762436856755,
          -0.5472301021782986,
          -2.454035646067391,
          -0.7051053201727377,
          -0.2670129305403002,
          -0.2374033513041871,
          -0.0033131728244852887,
          -0.5655393430131721,
          0.19788248714823453,
          -0.3679370683176204,
          0.1269246498533665,
          0.6792333993582356,
          0.7560885715207519,
          -0.5302171097835071,
          1.479877489767162,
          1.3680326724039187,
          0.518887640137164,
          -1.403969972508122,
          3.171770788739046,
          3.013450933915328,
          -0.31144577040357113,
          -1.4308588505910143,
          -2.0105432000821515,
          1.4517772814543193,
          3.457063870614377,
          -6.809130090630211,
          -3.8762202861993806,
          -4.707619688480278,
          -0.2275868179425551,
          3.1636938950465456,
          -3.3626365075124625,
          3.027923529742619,
          9.990319118226918,
          22.952925935494825,
          21.90367499128311,
          6.3202686230152345,
          1.6436299214960073,
          -4.519927929417168,
          0.2492336076331476,
          -3.5762837245361077,
          -9.433229333152541,
          -5.524799380866387,
          -0.6292823312306695,
          0.07492234792786379,
          0.6808271434277553,
          -0.2086143490646979,
          -0.4263664513766763,
          -0.3517894182752146,
          0.5436565703771268,
          0.021097815955266164,
          0.5954590492303549,
          0.03215546011616954,
          -0.5934963607961747,
          -0.9547238035717323,
          0.012135437274269467,
          0.7770970582416932,
          0.5939582063878648,
          -0.532870719873749,
          0.5815789994021971,
          -0.08762749197705721,
          -0.23536884461453544,
          -0.1555821955180665,
          0.06137480030765308,
          4.932742253283189,
          5.3864633360309675,
          -2.567672286381873,
          -3.525037322757365,
          -2.159698069694217,
          -1.0399936338776907,
          -0.7266127716376882,
          1.921168249397316,
          -2.1316039269820197,
          -1.3968150566170485,
          -0.6157307635149465,
          -0.03474297465107323,
          -0.02720528467830796,
          3.1981036388838837,
          0.3712144691786885,
          0.8027368467605998,
          1.0937577968772483,
          1.5791610438584724,
          0.1635137625113856,
          -0.14965183177190156,
          -0.5356474883760551,
          0.8190048044368528,
          -0.27540626275011615,
          -0.6185719887044963,
          0.11591282904697664,
          0.957523484077123,
          0.4017854493529205,
          -0.8892860411231536,
          0.10998788562757822,
          -0.2911841261938095,
          0.1849888098335959,
          -0.2349687917730865,
          -0.07334485464805018,
          -0.4587864340871519,
          -1.419698164788871,
          -0.7993785200617998,
          -0.4043334553962752,
          0.751093474978874,
          1.2655936986157297,
          0.8214525377362549,
          0.18343558852551745,
          -3.977262963417161e-11,
          -0.7018532106073305,
          0.7158389895373922,
          2.4983546338569127,
          5.566156709311506,
          1.2518324741250948,
          -0.6802219955513327,
          -1.732826933784409,
          -0.4440454211824125,
          0.26379246090354425,
          -0.745708866653811,
          1.1095428212333598,
          5.826344873876689,
          3.975149867106433,
          2.648486244898394,
          -3.311519823931884,
          -2.4820956494300415,
          -0.9252652139432951,
          -0.3349214406366843,
          -0.2538333645095223,
          0.7495793065183145,
          1.2455600956003725,
          -10.169278136830531,
          10.938943475688273,
          0.46541902618162156,
          0.8911291981241614,
          -0.9282568958642585,
          0.0952992551641243,
          -0.7527733308045708,
          0.8835807464243146,
          -0.21276207354064613,
          -0.12772749493814595,
          0.05324461044095363,
          0.3262999525811927,
          3.7595923897083168,
          3.595169675826561,
          -3.4529573116742522,
          -0.005173465283249357,
          -3.98798100455104,
          -0.17645870445634282,
          0.1904330671523331,
          -0.27590414772933025,
          0.7556149157249341,
          -0.7849944379147318,
          0.3988156692242719,
          1.8931257694687984,
          1.3930695655220875,
          1.1421977094330664,
          0.39908829398793877,
          -0.2585045759506759,
          -0.5862037946780929,
          -0.7862049772711539,
          -0.20441166385771226,
          -1.284156810312647,
          -0.4202333472130513
         ],
         "yaxis": "y8"
        },
        {
         "hovertemplate": "Indice_di_copertura_delle_immob=%{x}<br>y=%{y}<extra></extra>",
         "legendgroup": "",
         "marker": {
          "color": "#636efa",
          "symbol": "circle"
         },
         "mode": "markers",
         "name": "",
         "orientation": "v",
         "showlegend": false,
         "type": "scatter",
         "x": [
          0.45,
          0.42,
          0.37,
          0.33,
          0.2,
          0.22,
          0.23,
          0.23,
          0.25,
          0.26,
          0.52,
          0.57,
          0.62,
          0.57,
          0.53,
          0.55,
          0.58,
          0.59,
          0.6,
          0.64,
          0.32,
          0.32,
          0.38,
          0.46,
          0.35,
          0.34,
          0.34,
          0.39,
          0.47,
          0.53,
          0.09,
          0.09,
          0.08,
          0.07,
          0.07,
          0.1,
          0.1,
          0.11,
          0.13,
          0.16,
          0.37,
          0.38,
          0.43,
          0.4,
          0.25,
          0.28,
          0.32,
          0.31,
          0.32,
          0.29,
          1.95,
          2.01,
          2.03,
          0.49,
          0.4,
          0.28,
          0.24,
          0.37,
          0.36,
          0.37,
          0.22,
          0.28,
          0.56,
          0.6,
          0.55,
          0.54,
          0.4,
          0.36,
          0.38,
          0.38,
          0.08,
          0.19,
          0.25,
          0.31,
          0.19,
          0.18,
          0.18,
          0.23,
          0.98,
          1.06,
          1.11,
          0.94,
          0.71,
          0.7,
          0.63,
          0.73,
          0.84,
          0.97,
          0.02,
          0.02,
          0.2,
          0.21,
          0.2,
          0.52,
          0.64,
          0.86,
          0.88,
          0.47,
          0.43,
          0.41,
          0.48,
          0.35,
          0.23,
          0.43,
          0.4,
          0.4,
          0.39,
          0.36,
          0.35,
          0.36,
          0.36,
          0.36,
          0.05,
          0.03,
          0.73,
          0.47,
          1.36,
          1.24,
          1.02,
          0.63,
          0.77,
          0.91,
          1.02,
          1.22,
          0.89,
          0.76,
          0.75,
          0.75,
          0.59,
          0.66,
          0.75,
          0.78,
          0.55,
          0.1,
          0.18,
          0.19,
          0.22,
          0.29,
          0.52,
          0.08,
          0.08,
          0.15,
          0.16,
          0.16,
          0.18,
          0.01,
          0.01,
          0.01,
          0.01,
          0.01,
          0.37,
          0.25,
          0.02,
          0.03,
          0.01,
          0.01,
          0.06,
          0.08,
          0.14,
          0.13,
          0.03,
          0.03,
          0.02,
          0.02,
          0.02,
          0.02
         ],
         "xaxis": "x9",
         "y": [
          -7.067354107239918,
          -1.4508825129058778,
          0.715488734084829,
          2.6568643202065587,
          3.3265495359397264,
          4.161732285867686,
          1.1048353945190676,
          2.202762436856755,
          -0.5472301021782986,
          -2.454035646067391,
          -0.7051053201727377,
          -0.2670129305403002,
          -0.2374033513041871,
          -0.0033131728244852887,
          -0.5655393430131721,
          0.19788248714823453,
          -0.3679370683176204,
          0.1269246498533665,
          0.6792333993582356,
          0.7560885715207519,
          -0.5302171097835071,
          1.479877489767162,
          1.3680326724039187,
          0.518887640137164,
          -1.403969972508122,
          3.171770788739046,
          3.013450933915328,
          -0.31144577040357113,
          -1.4308588505910143,
          -2.0105432000821515,
          1.4517772814543193,
          3.457063870614377,
          -6.809130090630211,
          -3.8762202861993806,
          -4.707619688480278,
          -0.2275868179425551,
          3.1636938950465456,
          -3.3626365075124625,
          3.027923529742619,
          9.990319118226918,
          22.952925935494825,
          21.90367499128311,
          6.3202686230152345,
          1.6436299214960073,
          -4.519927929417168,
          0.2492336076331476,
          -3.5762837245361077,
          -9.433229333152541,
          -5.524799380866387,
          -0.6292823312306695,
          0.07492234792786379,
          0.6808271434277553,
          -0.2086143490646979,
          -0.4263664513766763,
          -0.3517894182752146,
          0.5436565703771268,
          0.021097815955266164,
          0.5954590492303549,
          0.03215546011616954,
          -0.5934963607961747,
          -0.9547238035717323,
          0.012135437274269467,
          0.7770970582416932,
          0.5939582063878648,
          -0.532870719873749,
          0.5815789994021971,
          -0.08762749197705721,
          -0.23536884461453544,
          -0.1555821955180665,
          0.06137480030765308,
          4.932742253283189,
          5.3864633360309675,
          -2.567672286381873,
          -3.525037322757365,
          -2.159698069694217,
          -1.0399936338776907,
          -0.7266127716376882,
          1.921168249397316,
          -2.1316039269820197,
          -1.3968150566170485,
          -0.6157307635149465,
          -0.03474297465107323,
          -0.02720528467830796,
          3.1981036388838837,
          0.3712144691786885,
          0.8027368467605998,
          1.0937577968772483,
          1.5791610438584724,
          0.1635137625113856,
          -0.14965183177190156,
          -0.5356474883760551,
          0.8190048044368528,
          -0.27540626275011615,
          -0.6185719887044963,
          0.11591282904697664,
          0.957523484077123,
          0.4017854493529205,
          -0.8892860411231536,
          0.10998788562757822,
          -0.2911841261938095,
          0.1849888098335959,
          -0.2349687917730865,
          -0.07334485464805018,
          -0.4587864340871519,
          -1.419698164788871,
          -0.7993785200617998,
          -0.4043334553962752,
          0.751093474978874,
          1.2655936986157297,
          0.8214525377362549,
          0.18343558852551745,
          -3.977262963417161e-11,
          -0.7018532106073305,
          0.7158389895373922,
          2.4983546338569127,
          5.566156709311506,
          1.2518324741250948,
          -0.6802219955513327,
          -1.732826933784409,
          -0.4440454211824125,
          0.26379246090354425,
          -0.745708866653811,
          1.1095428212333598,
          5.826344873876689,
          3.975149867106433,
          2.648486244898394,
          -3.311519823931884,
          -2.4820956494300415,
          -0.9252652139432951,
          -0.3349214406366843,
          -0.2538333645095223,
          0.7495793065183145,
          1.2455600956003725,
          -10.169278136830531,
          10.938943475688273,
          0.46541902618162156,
          0.8911291981241614,
          -0.9282568958642585,
          0.0952992551641243,
          -0.7527733308045708,
          0.8835807464243146,
          -0.21276207354064613,
          -0.12772749493814595,
          0.05324461044095363,
          0.3262999525811927,
          3.7595923897083168,
          3.595169675826561,
          -3.4529573116742522,
          -0.005173465283249357,
          -3.98798100455104,
          -0.17645870445634282,
          0.1904330671523331,
          -0.27590414772933025,
          0.7556149157249341,
          -0.7849944379147318,
          0.3988156692242719,
          1.8931257694687984,
          1.3930695655220875,
          1.1421977094330664,
          0.39908829398793877,
          -0.2585045759506759,
          -0.5862037946780929,
          -0.7862049772711539,
          -0.20441166385771226,
          -1.284156810312647,
          -0.4202333472130513
         ],
         "yaxis": "y9"
        },
        {
         "hovertemplate": "Costo_denaro_a_prestito=%{x}<br>y=%{y}<extra></extra>",
         "legendgroup": "",
         "marker": {
          "color": "#636efa",
          "symbol": "circle"
         },
         "mode": "markers",
         "name": "",
         "orientation": "v",
         "showlegend": false,
         "type": "scatter",
         "x": [
          3.79,
          4.31,
          1.6,
          2.15,
          1.87,
          2.31,
          3.24,
          4.14,
          6.07,
          5.27,
          7.25,
          13.33,
          6.71,
          7.9,
          10.55,
          19.33,
          9.59,
          11.85,
          15.57,
          10.96,
          1.71,
          1.08,
          1.59,
          2.03,
          2.65,
          1.19,
          1.56,
          2.93,
          3.62,
          4.38,
          6.35,
          0.19,
          1.11,
          4.33,
          3.69,
          1.08,
          1.42,
          2.36,
          7.89,
          8.53,
          4.23,
          4.52,
          4.71,
          3.62,
          2.08,
          2.12,
          4.8,
          4.41,
          3.54,
          4.79,
          3.05,
          2.73,
          2.13,
          3.6,
          4.26,
          1.57,
          1.8,
          2.27,
          4.91,
          2.74,
          2.92,
          2.13,
          2.68,
          3.82,
          3.15,
          3.52,
          5.99,
          4.91,
          5.37,
          4.59,
          6.32,
          6.19,
          6.32,
          4.31,
          3.78,
          7.01,
          6.79,
          5.07,
          3.58,
          2.66,
          3.24,
          2.91,
          1.17,
          1.4,
          1.72,
          2.99,
          5.61,
          5.3,
          4.79,
          6.55,
          4.42,
          7.6,
          7.93,
          2.42,
          2,
          10.77,
          4.06,
          2.9,
          11.49,
          3.06,
          3.45,
          4.15,
          6.85,
          2.36,
          2.76,
          1.31,
          1.58,
          1.58,
          2.17,
          3.74,
          3.18,
          4.67,
          8.5,
          2.38,
          3.46,
          6.95,
          9.68,
          6.69,
          9.44,
          2.73,
          2.13,
          2.03,
          6.48,
          0.83,
          0.69,
          1.24,
          2.29,
          2.48,
          2.07,
          1.91,
          1.83,
          1.54,
          1.07,
          1.5,
          1.78,
          1.78,
          1.71,
          2.53,
          3.47,
          1.75,
          1.5,
          5.69,
          3.33,
          4.81,
          6.19,
          0.7,
          0.58,
          0.32,
          1.79,
          0.62,
          7.06,
          1.07,
          1.6,
          2,
          3.46,
          3.72,
          4.1,
          1.86,
          1.56,
          1.4,
          1.69,
          1.42,
          2.01,
          3.1,
          9.1,
          8.35
         ],
         "xaxis": "x10",
         "y": [
          -7.067354107239918,
          -1.4508825129058778,
          0.715488734084829,
          2.6568643202065587,
          3.3265495359397264,
          4.161732285867686,
          1.1048353945190676,
          2.202762436856755,
          -0.5472301021782986,
          -2.454035646067391,
          -0.7051053201727377,
          -0.2670129305403002,
          -0.2374033513041871,
          -0.0033131728244852887,
          -0.5655393430131721,
          0.19788248714823453,
          -0.3679370683176204,
          0.1269246498533665,
          0.6792333993582356,
          0.7560885715207519,
          -0.5302171097835071,
          1.479877489767162,
          1.3680326724039187,
          0.518887640137164,
          -1.403969972508122,
          3.171770788739046,
          3.013450933915328,
          -0.31144577040357113,
          -1.4308588505910143,
          -2.0105432000821515,
          1.4517772814543193,
          3.457063870614377,
          -6.809130090630211,
          -3.8762202861993806,
          -4.707619688480278,
          -0.2275868179425551,
          3.1636938950465456,
          -3.3626365075124625,
          3.027923529742619,
          9.990319118226918,
          22.952925935494825,
          21.90367499128311,
          6.3202686230152345,
          1.6436299214960073,
          -4.519927929417168,
          0.2492336076331476,
          -3.5762837245361077,
          -9.433229333152541,
          -5.524799380866387,
          -0.6292823312306695,
          0.07492234792786379,
          0.6808271434277553,
          -0.2086143490646979,
          -0.4263664513766763,
          -0.3517894182752146,
          0.5436565703771268,
          0.021097815955266164,
          0.5954590492303549,
          0.03215546011616954,
          -0.5934963607961747,
          -0.9547238035717323,
          0.012135437274269467,
          0.7770970582416932,
          0.5939582063878648,
          -0.532870719873749,
          0.5815789994021971,
          -0.08762749197705721,
          -0.23536884461453544,
          -0.1555821955180665,
          0.06137480030765308,
          4.932742253283189,
          5.3864633360309675,
          -2.567672286381873,
          -3.525037322757365,
          -2.159698069694217,
          -1.0399936338776907,
          -0.7266127716376882,
          1.921168249397316,
          -2.1316039269820197,
          -1.3968150566170485,
          -0.6157307635149465,
          -0.03474297465107323,
          -0.02720528467830796,
          3.1981036388838837,
          0.3712144691786885,
          0.8027368467605998,
          1.0937577968772483,
          1.5791610438584724,
          0.1635137625113856,
          -0.14965183177190156,
          -0.5356474883760551,
          0.8190048044368528,
          -0.27540626275011615,
          -0.6185719887044963,
          0.11591282904697664,
          0.957523484077123,
          0.4017854493529205,
          -0.8892860411231536,
          0.10998788562757822,
          -0.2911841261938095,
          0.1849888098335959,
          -0.2349687917730865,
          -0.07334485464805018,
          -0.4587864340871519,
          -1.419698164788871,
          -0.7993785200617998,
          -0.4043334553962752,
          0.751093474978874,
          1.2655936986157297,
          0.8214525377362549,
          0.18343558852551745,
          -3.977262963417161e-11,
          -0.7018532106073305,
          0.7158389895373922,
          2.4983546338569127,
          5.566156709311506,
          1.2518324741250948,
          -0.6802219955513327,
          -1.732826933784409,
          -0.4440454211824125,
          0.26379246090354425,
          -0.745708866653811,
          1.1095428212333598,
          5.826344873876689,
          3.975149867106433,
          2.648486244898394,
          -3.311519823931884,
          -2.4820956494300415,
          -0.9252652139432951,
          -0.3349214406366843,
          -0.2538333645095223,
          0.7495793065183145,
          1.2455600956003725,
          -10.169278136830531,
          10.938943475688273,
          0.46541902618162156,
          0.8911291981241614,
          -0.9282568958642585,
          0.0952992551641243,
          -0.7527733308045708,
          0.8835807464243146,
          -0.21276207354064613,
          -0.12772749493814595,
          0.05324461044095363,
          0.3262999525811927,
          3.7595923897083168,
          3.595169675826561,
          -3.4529573116742522,
          -0.005173465283249357,
          -3.98798100455104,
          -0.17645870445634282,
          0.1904330671523331,
          -0.27590414772933025,
          0.7556149157249341,
          -0.7849944379147318,
          0.3988156692242719,
          1.8931257694687984,
          1.3930695655220875,
          1.1421977094330664,
          0.39908829398793877,
          -0.2585045759506759,
          -0.5862037946780929,
          -0.7862049772711539,
          -0.20441166385771226,
          -1.284156810312647,
          -0.4202333472130513
         ],
         "yaxis": "y10"
        },
        {
         "hovertemplate": "Oneri_finanz_su_fatt=%{x}<br>y=%{y}<extra></extra>",
         "legendgroup": "",
         "marker": {
          "color": "#636efa",
          "symbol": "circle"
         },
         "mode": "markers",
         "name": "",
         "orientation": "v",
         "showlegend": false,
         "type": "scatter",
         "x": [
          0.5,
          0.68,
          0.57,
          0.4,
          0.35,
          0.39,
          0.52,
          0.64,
          0.81,
          0.81,
          1.62,
          3.85,
          2.23,
          2.18,
          2.9,
          3.77,
          2.97,
          3.1,
          4.06,
          3.65,
          0.81,
          0.65,
          1.18,
          0.52,
          0.68,
          0.38,
          0.46,
          0.76,
          1.24,
          1.42,
          2.64,
          0.07,
          0.91,
          1.95,
          1.1,
          0.4,
          0.29,
          0.5,
          0.68,
          0.86,
          0.78,
          1.1,
          1.84,
          0.83,
          0.4,
          0.44,
          1,
          1.06,
          0.9,
          0.83,
          0.64,
          0.71,
          1.15,
          1,
          0.74,
          0.3,
          0.33,
          0.41,
          0.54,
          0.37,
          0.8,
          0.55,
          0.83,
          0.79,
          0.72,
          0.89,
          1.5,
          1.25,
          1.49,
          1.28,
          4.84,
          2.87,
          3.36,
          1.79,
          2.8,
          2.5,
          3.33,
          2.78,
          1.68,
          1.13,
          1.56,
          1.27,
          0.48,
          0.54,
          0.75,
          1.1,
          1.75,
          2.04,
          2.52,
          2.2,
          0.61,
          1.43,
          1.56,
          0.41,
          0.52,
          4.21,
          0.65,
          0.15,
          1.02,
          0.3,
          0.16,
          0.14,
          0.16,
          0.99,
          0.93,
          0.65,
          0.33,
          0.35,
          0.52,
          0.69,
          0.84,
          2.7,
          3.31,
          1.1,
          1.61,
          1.36,
          5.21,
          3.37,
          2.77,
          0.73,
          0.59,
          0.8,
          2.09,
          0.52,
          0.17,
          0.22,
          0.2,
          0.42,
          0.57,
          0.59,
          0.99,
          0.65,
          0.35,
          0.54,
          0.4,
          0.69,
          0.66,
          1.22,
          1.21,
          0.44,
          0.37,
          1.67,
          1.45,
          1.48,
          1.35,
          0.15,
          0.18,
          0.13,
          0.13,
          0.08,
          1.43,
          0.29,
          1,
          0.9,
          1.92,
          1.81,
          1.07,
          1.1,
          1.24,
          0.68,
          1.06,
          1.13,
          1.26,
          1.53,
          2.33,
          3.55
         ],
         "xaxis": "x11",
         "y": [
          -7.067354107239918,
          -1.4508825129058778,
          0.715488734084829,
          2.6568643202065587,
          3.3265495359397264,
          4.161732285867686,
          1.1048353945190676,
          2.202762436856755,
          -0.5472301021782986,
          -2.454035646067391,
          -0.7051053201727377,
          -0.2670129305403002,
          -0.2374033513041871,
          -0.0033131728244852887,
          -0.5655393430131721,
          0.19788248714823453,
          -0.3679370683176204,
          0.1269246498533665,
          0.6792333993582356,
          0.7560885715207519,
          -0.5302171097835071,
          1.479877489767162,
          1.3680326724039187,
          0.518887640137164,
          -1.403969972508122,
          3.171770788739046,
          3.013450933915328,
          -0.31144577040357113,
          -1.4308588505910143,
          -2.0105432000821515,
          1.4517772814543193,
          3.457063870614377,
          -6.809130090630211,
          -3.8762202861993806,
          -4.707619688480278,
          -0.2275868179425551,
          3.1636938950465456,
          -3.3626365075124625,
          3.027923529742619,
          9.990319118226918,
          22.952925935494825,
          21.90367499128311,
          6.3202686230152345,
          1.6436299214960073,
          -4.519927929417168,
          0.2492336076331476,
          -3.5762837245361077,
          -9.433229333152541,
          -5.524799380866387,
          -0.6292823312306695,
          0.07492234792786379,
          0.6808271434277553,
          -0.2086143490646979,
          -0.4263664513766763,
          -0.3517894182752146,
          0.5436565703771268,
          0.021097815955266164,
          0.5954590492303549,
          0.03215546011616954,
          -0.5934963607961747,
          -0.9547238035717323,
          0.012135437274269467,
          0.7770970582416932,
          0.5939582063878648,
          -0.532870719873749,
          0.5815789994021971,
          -0.08762749197705721,
          -0.23536884461453544,
          -0.1555821955180665,
          0.06137480030765308,
          4.932742253283189,
          5.3864633360309675,
          -2.567672286381873,
          -3.525037322757365,
          -2.159698069694217,
          -1.0399936338776907,
          -0.7266127716376882,
          1.921168249397316,
          -2.1316039269820197,
          -1.3968150566170485,
          -0.6157307635149465,
          -0.03474297465107323,
          -0.02720528467830796,
          3.1981036388838837,
          0.3712144691786885,
          0.8027368467605998,
          1.0937577968772483,
          1.5791610438584724,
          0.1635137625113856,
          -0.14965183177190156,
          -0.5356474883760551,
          0.8190048044368528,
          -0.27540626275011615,
          -0.6185719887044963,
          0.11591282904697664,
          0.957523484077123,
          0.4017854493529205,
          -0.8892860411231536,
          0.10998788562757822,
          -0.2911841261938095,
          0.1849888098335959,
          -0.2349687917730865,
          -0.07334485464805018,
          -0.4587864340871519,
          -1.419698164788871,
          -0.7993785200617998,
          -0.4043334553962752,
          0.751093474978874,
          1.2655936986157297,
          0.8214525377362549,
          0.18343558852551745,
          -3.977262963417161e-11,
          -0.7018532106073305,
          0.7158389895373922,
          2.4983546338569127,
          5.566156709311506,
          1.2518324741250948,
          -0.6802219955513327,
          -1.732826933784409,
          -0.4440454211824125,
          0.26379246090354425,
          -0.745708866653811,
          1.1095428212333598,
          5.826344873876689,
          3.975149867106433,
          2.648486244898394,
          -3.311519823931884,
          -2.4820956494300415,
          -0.9252652139432951,
          -0.3349214406366843,
          -0.2538333645095223,
          0.7495793065183145,
          1.2455600956003725,
          -10.169278136830531,
          10.938943475688273,
          0.46541902618162156,
          0.8911291981241614,
          -0.9282568958642585,
          0.0952992551641243,
          -0.7527733308045708,
          0.8835807464243146,
          -0.21276207354064613,
          -0.12772749493814595,
          0.05324461044095363,
          0.3262999525811927,
          3.7595923897083168,
          3.595169675826561,
          -3.4529573116742522,
          -0.005173465283249357,
          -3.98798100455104,
          -0.17645870445634282,
          0.1904330671523331,
          -0.27590414772933025,
          0.7556149157249341,
          -0.7849944379147318,
          0.3988156692242719,
          1.8931257694687984,
          1.3930695655220875,
          1.1421977094330664,
          0.39908829398793877,
          -0.2585045759506759,
          -0.5862037946780929,
          -0.7862049772711539,
          -0.20441166385771226,
          -1.284156810312647,
          -0.4202333472130513
         ],
         "yaxis": "y11"
        },
        {
         "hovertemplate": "Grado_di_copertura_degli_interessi_passivi=%{x}<br>y=%{y}<extra></extra>",
         "legendgroup": "",
         "marker": {
          "color": "#636efa",
          "symbol": "circle"
         },
         "mode": "markers",
         "name": "",
         "orientation": "v",
         "showlegend": false,
         "type": "scatter",
         "x": [
          8.11,
          8.88,
          5.9,
          19.02,
          20.3,
          17.32,
          13.27,
          10.92,
          8.72,
          8.31,
          7.47,
          3.27,
          5.51,
          5.31,
          3.87,
          2.85,
          2.79,
          2.63,
          2.24,
          2.05,
          17.58,
          22.1,
          10.07,
          30.83,
          26.38,
          40.43,
          35.65,
          18.17,
          9.34,
          7.16,
          0.58,
          14.95,
          2.09,
          2.11,
          1.85,
          10.6,
          5.13,
          6.21,
          2.78,
          1.83,
          33.7,
          16.89,
          5.75,
          26.53,
          49.72,
          43.89,
          19.62,
          19.73,
          22.79,
          24.02,
          9.73,
          10.77,
          8.68,
          1.95,
          4.19,
          10.29,
          6.92,
          12.81,
          9.85,
          14.26,
          12.24,
          12.8,
          5.4,
          5.33,
          4.99,
          3.56,
          1.17,
          3.38,
          1.7,
          0.79,
          1.62,
          3.54,
          3.73,
          6.83,
          3.53,
          5.75,
          4.53,
          5.7,
          12.66,
          20.42,
          13.43,
          17.91,
          50.33,
          46.68,
          33.88,
          23.48,
          14.96,
          12.57,
          5.2,
          5.7,
          14.38,
          4.74,
          7.65,
          29.76,
          25.26,
          1.58,
          14.25,
          68.88,
          12.13,
          36.72,
          40.88,
          89.64,
          62.24,
          15.9,
          19.01,
          14.57,
          49.73,
          43.68,
          37.52,
          32.56,
          28.13,
          3.76,
          3.09,
          6.74,
          16.82,
          26.96,
          3.88,
          5.05,
          8.33,
          15.93,
          19.93,
          6.53,
          4.41,
          82.23,
          258.42,
          175.82,
          210.03,
          89.56,
          14.86,
          15.47,
          3.9,
          2.3,
          18.13,
          30.35,
          27.23,
          31.82,
          30.82,
          16.28,
          8.73,
          9.19,
          20.19,
          2.95,
          4.52,
          2.54,
          6.27,
          86.94,
          71.11,
          140.46,
          126.71,
          231.17,
          9.99,
          49.65,
          17.45,
          18.54,
          11.16,
          10.6,
          19.89,
          23.3,
          23.41,
          48.79,
          29.05,
          25.64,
          25,
          23.1,
          13.82,
          8.35
         ],
         "xaxis": "x12",
         "y": [
          -7.067354107239918,
          -1.4508825129058778,
          0.715488734084829,
          2.6568643202065587,
          3.3265495359397264,
          4.161732285867686,
          1.1048353945190676,
          2.202762436856755,
          -0.5472301021782986,
          -2.454035646067391,
          -0.7051053201727377,
          -0.2670129305403002,
          -0.2374033513041871,
          -0.0033131728244852887,
          -0.5655393430131721,
          0.19788248714823453,
          -0.3679370683176204,
          0.1269246498533665,
          0.6792333993582356,
          0.7560885715207519,
          -0.5302171097835071,
          1.479877489767162,
          1.3680326724039187,
          0.518887640137164,
          -1.403969972508122,
          3.171770788739046,
          3.013450933915328,
          -0.31144577040357113,
          -1.4308588505910143,
          -2.0105432000821515,
          1.4517772814543193,
          3.457063870614377,
          -6.809130090630211,
          -3.8762202861993806,
          -4.707619688480278,
          -0.2275868179425551,
          3.1636938950465456,
          -3.3626365075124625,
          3.027923529742619,
          9.990319118226918,
          22.952925935494825,
          21.90367499128311,
          6.3202686230152345,
          1.6436299214960073,
          -4.519927929417168,
          0.2492336076331476,
          -3.5762837245361077,
          -9.433229333152541,
          -5.524799380866387,
          -0.6292823312306695,
          0.07492234792786379,
          0.6808271434277553,
          -0.2086143490646979,
          -0.4263664513766763,
          -0.3517894182752146,
          0.5436565703771268,
          0.021097815955266164,
          0.5954590492303549,
          0.03215546011616954,
          -0.5934963607961747,
          -0.9547238035717323,
          0.012135437274269467,
          0.7770970582416932,
          0.5939582063878648,
          -0.532870719873749,
          0.5815789994021971,
          -0.08762749197705721,
          -0.23536884461453544,
          -0.1555821955180665,
          0.06137480030765308,
          4.932742253283189,
          5.3864633360309675,
          -2.567672286381873,
          -3.525037322757365,
          -2.159698069694217,
          -1.0399936338776907,
          -0.7266127716376882,
          1.921168249397316,
          -2.1316039269820197,
          -1.3968150566170485,
          -0.6157307635149465,
          -0.03474297465107323,
          -0.02720528467830796,
          3.1981036388838837,
          0.3712144691786885,
          0.8027368467605998,
          1.0937577968772483,
          1.5791610438584724,
          0.1635137625113856,
          -0.14965183177190156,
          -0.5356474883760551,
          0.8190048044368528,
          -0.27540626275011615,
          -0.6185719887044963,
          0.11591282904697664,
          0.957523484077123,
          0.4017854493529205,
          -0.8892860411231536,
          0.10998788562757822,
          -0.2911841261938095,
          0.1849888098335959,
          -0.2349687917730865,
          -0.07334485464805018,
          -0.4587864340871519,
          -1.419698164788871,
          -0.7993785200617998,
          -0.4043334553962752,
          0.751093474978874,
          1.2655936986157297,
          0.8214525377362549,
          0.18343558852551745,
          -3.977262963417161e-11,
          -0.7018532106073305,
          0.7158389895373922,
          2.4983546338569127,
          5.566156709311506,
          1.2518324741250948,
          -0.6802219955513327,
          -1.732826933784409,
          -0.4440454211824125,
          0.26379246090354425,
          -0.745708866653811,
          1.1095428212333598,
          5.826344873876689,
          3.975149867106433,
          2.648486244898394,
          -3.311519823931884,
          -2.4820956494300415,
          -0.9252652139432951,
          -0.3349214406366843,
          -0.2538333645095223,
          0.7495793065183145,
          1.2455600956003725,
          -10.169278136830531,
          10.938943475688273,
          0.46541902618162156,
          0.8911291981241614,
          -0.9282568958642585,
          0.0952992551641243,
          -0.7527733308045708,
          0.8835807464243146,
          -0.21276207354064613,
          -0.12772749493814595,
          0.05324461044095363,
          0.3262999525811927,
          3.7595923897083168,
          3.595169675826561,
          -3.4529573116742522,
          -0.005173465283249357,
          -3.98798100455104,
          -0.17645870445634282,
          0.1904330671523331,
          -0.27590414772933025,
          0.7556149157249341,
          -0.7849944379147318,
          0.3988156692242719,
          1.8931257694687984,
          1.3930695655220875,
          1.1421977094330664,
          0.39908829398793877,
          -0.2585045759506759,
          -0.5862037946780929,
          -0.7862049772711539,
          -0.20441166385771226,
          -1.284156810312647,
          -0.4202333472130513
         ],
         "yaxis": "y12"
        },
        {
         "hovertemplate": "Debiti_v_banche_su_fatt=%{x}<br>y=%{y}<extra></extra>",
         "legendgroup": "",
         "marker": {
          "color": "#636efa",
          "symbol": "circle"
         },
         "mode": "markers",
         "name": "",
         "orientation": "v",
         "showlegend": false,
         "type": "scatter",
         "x": [
          13.25,
          15.76,
          35.37,
          18.59,
          18.72,
          17.07,
          15.94,
          15.46,
          13.3,
          15.47,
          22.36,
          28.91,
          33.15,
          27.62,
          27.53,
          19.48,
          30.92,
          26.14,
          26.1,
          33.32,
          47.33,
          60.26,
          74.3,
          25.64,
          25.5,
          31.72,
          29.26,
          25.86,
          34.3,
          32.37,
          41.57,
          38.37,
          81.98,
          45.02,
          29.85,
          37.22,
          20.13,
          21.33,
          8.59,
          10.12,
          18.36,
          24.29,
          39.1,
          22.96,
          19.22,
          20.81,
          20.79,
          24.06,
          25.56,
          17.33,
          20.97,
          26.07,
          53.89,
          27.84,
          17.38,
          19.09,
          18.21,
          18.2,
          10.94,
          13.35,
          27.38,
          25.69,
          31.06,
          20.58,
          22.73,
          25.21,
          25.12,
          25.38,
          27.7,
          27.93,
          76.64,
          46.38,
          53.2,
          41.59,
          74.16,
          35.72,
          49.04,
          54.85,
          46.95,
          42.28,
          48.32,
          43.49,
          40.95,
          38.8,
          43.78,
          36.73,
          31.18,
          38.39,
          52.48,
          33.55,
          13.81,
          18.79,
          19.72,
          16.75,
          26.2,
          39.07,
          15.91,
          5.35,
          8.89,
          9.8,
          4.54,
          3.33,
          2.4,
          42.12,
          33.71,
          49.47,
          21,
          22.31,
          23.91,
          18.35,
          26.46,
          57.84,
          38.92,
          46.21,
          46.44,
          19.63,
          53.86,
          50.37,
          29.33,
          26.87,
          27.85,
          39.53,
          32.25,
          63.2,
          24.06,
          17.59,
          8.55,
          17.13,
          27.52,
          31.13,
          53.92,
          42.24,
          33.05,
          36.36,
          22.65,
          38.49,
          38.49,
          48.37,
          34.97,
          25.17,
          24.67,
          29.3,
          43.48,
          30.79,
          21.87,
          21.32,
          32.09,
          38.98,
          7.51,
          12.68,
          20.29,
          27.63,
          62.79,
          44.96,
          55.43,
          48.55,
          26.23,
          59.19,
          79.85,
          48.79,
          62.56,
          79.55,
          62.68,
          49.29,
          25.64,
          42.59
         ],
         "xaxis": "x13",
         "y": [
          -7.067354107239918,
          -1.4508825129058778,
          0.715488734084829,
          2.6568643202065587,
          3.3265495359397264,
          4.161732285867686,
          1.1048353945190676,
          2.202762436856755,
          -0.5472301021782986,
          -2.454035646067391,
          -0.7051053201727377,
          -0.2670129305403002,
          -0.2374033513041871,
          -0.0033131728244852887,
          -0.5655393430131721,
          0.19788248714823453,
          -0.3679370683176204,
          0.1269246498533665,
          0.6792333993582356,
          0.7560885715207519,
          -0.5302171097835071,
          1.479877489767162,
          1.3680326724039187,
          0.518887640137164,
          -1.403969972508122,
          3.171770788739046,
          3.013450933915328,
          -0.31144577040357113,
          -1.4308588505910143,
          -2.0105432000821515,
          1.4517772814543193,
          3.457063870614377,
          -6.809130090630211,
          -3.8762202861993806,
          -4.707619688480278,
          -0.2275868179425551,
          3.1636938950465456,
          -3.3626365075124625,
          3.027923529742619,
          9.990319118226918,
          22.952925935494825,
          21.90367499128311,
          6.3202686230152345,
          1.6436299214960073,
          -4.519927929417168,
          0.2492336076331476,
          -3.5762837245361077,
          -9.433229333152541,
          -5.524799380866387,
          -0.6292823312306695,
          0.07492234792786379,
          0.6808271434277553,
          -0.2086143490646979,
          -0.4263664513766763,
          -0.3517894182752146,
          0.5436565703771268,
          0.021097815955266164,
          0.5954590492303549,
          0.03215546011616954,
          -0.5934963607961747,
          -0.9547238035717323,
          0.012135437274269467,
          0.7770970582416932,
          0.5939582063878648,
          -0.532870719873749,
          0.5815789994021971,
          -0.08762749197705721,
          -0.23536884461453544,
          -0.1555821955180665,
          0.06137480030765308,
          4.932742253283189,
          5.3864633360309675,
          -2.567672286381873,
          -3.525037322757365,
          -2.159698069694217,
          -1.0399936338776907,
          -0.7266127716376882,
          1.921168249397316,
          -2.1316039269820197,
          -1.3968150566170485,
          -0.6157307635149465,
          -0.03474297465107323,
          -0.02720528467830796,
          3.1981036388838837,
          0.3712144691786885,
          0.8027368467605998,
          1.0937577968772483,
          1.5791610438584724,
          0.1635137625113856,
          -0.14965183177190156,
          -0.5356474883760551,
          0.8190048044368528,
          -0.27540626275011615,
          -0.6185719887044963,
          0.11591282904697664,
          0.957523484077123,
          0.4017854493529205,
          -0.8892860411231536,
          0.10998788562757822,
          -0.2911841261938095,
          0.1849888098335959,
          -0.2349687917730865,
          -0.07334485464805018,
          -0.4587864340871519,
          -1.419698164788871,
          -0.7993785200617998,
          -0.4043334553962752,
          0.751093474978874,
          1.2655936986157297,
          0.8214525377362549,
          0.18343558852551745,
          -3.977262963417161e-11,
          -0.7018532106073305,
          0.7158389895373922,
          2.4983546338569127,
          5.566156709311506,
          1.2518324741250948,
          -0.6802219955513327,
          -1.732826933784409,
          -0.4440454211824125,
          0.26379246090354425,
          -0.745708866653811,
          1.1095428212333598,
          5.826344873876689,
          3.975149867106433,
          2.648486244898394,
          -3.311519823931884,
          -2.4820956494300415,
          -0.9252652139432951,
          -0.3349214406366843,
          -0.2538333645095223,
          0.7495793065183145,
          1.2455600956003725,
          -10.169278136830531,
          10.938943475688273,
          0.46541902618162156,
          0.8911291981241614,
          -0.9282568958642585,
          0.0952992551641243,
          -0.7527733308045708,
          0.8835807464243146,
          -0.21276207354064613,
          -0.12772749493814595,
          0.05324461044095363,
          0.3262999525811927,
          3.7595923897083168,
          3.595169675826561,
          -3.4529573116742522,
          -0.005173465283249357,
          -3.98798100455104,
          -0.17645870445634282,
          0.1904330671523331,
          -0.27590414772933025,
          0.7556149157249341,
          -0.7849944379147318,
          0.3988156692242719,
          1.8931257694687984,
          1.3930695655220875,
          1.1421977094330664,
          0.39908829398793877,
          -0.2585045759506759,
          -0.5862037946780929,
          -0.7862049772711539,
          -0.20441166385771226,
          -1.284156810312647,
          -0.4202333472130513
         ],
         "yaxis": "y13"
        },
        {
         "hovertemplate": "Debt_Equity_ratio=%{x}<br>y=%{y}<extra></extra>",
         "legendgroup": "",
         "marker": {
          "color": "#636efa",
          "symbol": "circle"
         },
         "mode": "markers",
         "name": "",
         "orientation": "v",
         "showlegend": false,
         "type": "scatter",
         "x": [
          0.95,
          0.86,
          1.29,
          1.04,
          0.94,
          0.92,
          0.89,
          0.8,
          0.71,
          0.82,
          0.96,
          1.12,
          1.09,
          0.91,
          0.82,
          0.64,
          0.92,
          0.78,
          0.74,
          0.95,
          0.76,
          0.84,
          0.98,
          0.55,
          0.5,
          0.63,
          0.66,
          0.69,
          1.01,
          1,
          0.45,
          0.76,
          0.73,
          0.43,
          0.37,
          0.51,
          0.51,
          0.31,
          0.18,
          0.25,
          0.44,
          0.48,
          0.72,
          0.48,
          0.27,
          0.29,
          0.33,
          0.42,
          0.48,
          0.33,
          1.26,
          1.36,
          1.78,
          0.36,
          0.21,
          0.23,
          0.2,
          0.31,
          0.2,
          0.23,
          0.82,
          1.13,
          1.3,
          0.92,
          0.96,
          1.07,
          0.75,
          0.72,
          0.75,
          0.74,
          0.92,
          1.2,
          1.49,
          1.28,
          1.37,
          0.63,
          0.77,
          2.22,
          1.06,
          0.99,
          1.06,
          0.92,
          0.66,
          0.63,
          0.61,
          0.57,
          0.53,
          0.75,
          0.92,
          0.58,
          0.24,
          0.29,
          0.25,
          0.57,
          0.78,
          1.08,
          0.61,
          0.13,
          0.22,
          0.26,
          0.12,
          0.08,
          0.06,
          0.24,
          0.17,
          0.21,
          0.12,
          0.11,
          0.12,
          0.11,
          0.16,
          0.76,
          0.9,
          1.18,
          1.06,
          0.48,
          1.42,
          1.09,
          0.8,
          0.69,
          0.67,
          0.79,
          0.73,
          0.61,
          0.25,
          0.2,
          0.07,
          0.14,
          0.69,
          0.75,
          1.02,
          0.94,
          0.63,
          0.42,
          0.25,
          0.5,
          0.55,
          0.58,
          0.75,
          0.29,
          0.33,
          0.72,
          0.78,
          0.5,
          0.33,
          0.18,
          0.28,
          0.3,
          0.07,
          0.12,
          0.39,
          0.52,
          0.61,
          0.48,
          0.54,
          0.42,
          0.12,
          0.22,
          0.48,
          0.35,
          0.3,
          0.35,
          0.27,
          0.2,
          0.1,
          0.17
         ],
         "xaxis": "x14",
         "y": [
          -7.067354107239918,
          -1.4508825129058778,
          0.715488734084829,
          2.6568643202065587,
          3.3265495359397264,
          4.161732285867686,
          1.1048353945190676,
          2.202762436856755,
          -0.5472301021782986,
          -2.454035646067391,
          -0.7051053201727377,
          -0.2670129305403002,
          -0.2374033513041871,
          -0.0033131728244852887,
          -0.5655393430131721,
          0.19788248714823453,
          -0.3679370683176204,
          0.1269246498533665,
          0.6792333993582356,
          0.7560885715207519,
          -0.5302171097835071,
          1.479877489767162,
          1.3680326724039187,
          0.518887640137164,
          -1.403969972508122,
          3.171770788739046,
          3.013450933915328,
          -0.31144577040357113,
          -1.4308588505910143,
          -2.0105432000821515,
          1.4517772814543193,
          3.457063870614377,
          -6.809130090630211,
          -3.8762202861993806,
          -4.707619688480278,
          -0.2275868179425551,
          3.1636938950465456,
          -3.3626365075124625,
          3.027923529742619,
          9.990319118226918,
          22.952925935494825,
          21.90367499128311,
          6.3202686230152345,
          1.6436299214960073,
          -4.519927929417168,
          0.2492336076331476,
          -3.5762837245361077,
          -9.433229333152541,
          -5.524799380866387,
          -0.6292823312306695,
          0.07492234792786379,
          0.6808271434277553,
          -0.2086143490646979,
          -0.4263664513766763,
          -0.3517894182752146,
          0.5436565703771268,
          0.021097815955266164,
          0.5954590492303549,
          0.03215546011616954,
          -0.5934963607961747,
          -0.9547238035717323,
          0.012135437274269467,
          0.7770970582416932,
          0.5939582063878648,
          -0.532870719873749,
          0.5815789994021971,
          -0.08762749197705721,
          -0.23536884461453544,
          -0.1555821955180665,
          0.06137480030765308,
          4.932742253283189,
          5.3864633360309675,
          -2.567672286381873,
          -3.525037322757365,
          -2.159698069694217,
          -1.0399936338776907,
          -0.7266127716376882,
          1.921168249397316,
          -2.1316039269820197,
          -1.3968150566170485,
          -0.6157307635149465,
          -0.03474297465107323,
          -0.02720528467830796,
          3.1981036388838837,
          0.3712144691786885,
          0.8027368467605998,
          1.0937577968772483,
          1.5791610438584724,
          0.1635137625113856,
          -0.14965183177190156,
          -0.5356474883760551,
          0.8190048044368528,
          -0.27540626275011615,
          -0.6185719887044963,
          0.11591282904697664,
          0.957523484077123,
          0.4017854493529205,
          -0.8892860411231536,
          0.10998788562757822,
          -0.2911841261938095,
          0.1849888098335959,
          -0.2349687917730865,
          -0.07334485464805018,
          -0.4587864340871519,
          -1.419698164788871,
          -0.7993785200617998,
          -0.4043334553962752,
          0.751093474978874,
          1.2655936986157297,
          0.8214525377362549,
          0.18343558852551745,
          -3.977262963417161e-11,
          -0.7018532106073305,
          0.7158389895373922,
          2.4983546338569127,
          5.566156709311506,
          1.2518324741250948,
          -0.6802219955513327,
          -1.732826933784409,
          -0.4440454211824125,
          0.26379246090354425,
          -0.745708866653811,
          1.1095428212333598,
          5.826344873876689,
          3.975149867106433,
          2.648486244898394,
          -3.311519823931884,
          -2.4820956494300415,
          -0.9252652139432951,
          -0.3349214406366843,
          -0.2538333645095223,
          0.7495793065183145,
          1.2455600956003725,
          -10.169278136830531,
          10.938943475688273,
          0.46541902618162156,
          0.8911291981241614,
          -0.9282568958642585,
          0.0952992551641243,
          -0.7527733308045708,
          0.8835807464243146,
          -0.21276207354064613,
          -0.12772749493814595,
          0.05324461044095363,
          0.3262999525811927,
          3.7595923897083168,
          3.595169675826561,
          -3.4529573116742522,
          -0.005173465283249357,
          -3.98798100455104,
          -0.17645870445634282,
          0.1904330671523331,
          -0.27590414772933025,
          0.7556149157249341,
          -0.7849944379147318,
          0.3988156692242719,
          1.8931257694687984,
          1.3930695655220875,
          1.1421977094330664,
          0.39908829398793877,
          -0.2585045759506759,
          -0.5862037946780929,
          -0.7862049772711539,
          -0.20441166385771226,
          -1.284156810312647,
          -0.4202333472130513
         ],
         "yaxis": "y14"
        }
       ],
       "layout": {
        "height": 1000,
        "template": {
         "data": {
          "bar": [
           {
            "error_x": {
             "color": "#2a3f5f"
            },
            "error_y": {
             "color": "#2a3f5f"
            },
            "marker": {
             "line": {
              "color": "#E5ECF6",
              "width": 0.5
             },
             "pattern": {
              "fillmode": "overlay",
              "size": 10,
              "solidity": 0.2
             }
            },
            "type": "bar"
           }
          ],
          "barpolar": [
           {
            "marker": {
             "line": {
              "color": "#E5ECF6",
              "width": 0.5
             },
             "pattern": {
              "fillmode": "overlay",
              "size": 10,
              "solidity": 0.2
             }
            },
            "type": "barpolar"
           }
          ],
          "carpet": [
           {
            "aaxis": {
             "endlinecolor": "#2a3f5f",
             "gridcolor": "white",
             "linecolor": "white",
             "minorgridcolor": "white",
             "startlinecolor": "#2a3f5f"
            },
            "baxis": {
             "endlinecolor": "#2a3f5f",
             "gridcolor": "white",
             "linecolor": "white",
             "minorgridcolor": "white",
             "startlinecolor": "#2a3f5f"
            },
            "type": "carpet"
           }
          ],
          "choropleth": [
           {
            "colorbar": {
             "outlinewidth": 0,
             "ticks": ""
            },
            "type": "choropleth"
           }
          ],
          "contour": [
           {
            "colorbar": {
             "outlinewidth": 0,
             "ticks": ""
            },
            "colorscale": [
             [
              0,
              "#0d0887"
             ],
             [
              0.1111111111111111,
              "#46039f"
             ],
             [
              0.2222222222222222,
              "#7201a8"
             ],
             [
              0.3333333333333333,
              "#9c179e"
             ],
             [
              0.4444444444444444,
              "#bd3786"
             ],
             [
              0.5555555555555556,
              "#d8576b"
             ],
             [
              0.6666666666666666,
              "#ed7953"
             ],
             [
              0.7777777777777778,
              "#fb9f3a"
             ],
             [
              0.8888888888888888,
              "#fdca26"
             ],
             [
              1,
              "#f0f921"
             ]
            ],
            "type": "contour"
           }
          ],
          "contourcarpet": [
           {
            "colorbar": {
             "outlinewidth": 0,
             "ticks": ""
            },
            "type": "contourcarpet"
           }
          ],
          "heatmap": [
           {
            "colorbar": {
             "outlinewidth": 0,
             "ticks": ""
            },
            "colorscale": [
             [
              0,
              "#0d0887"
             ],
             [
              0.1111111111111111,
              "#46039f"
             ],
             [
              0.2222222222222222,
              "#7201a8"
             ],
             [
              0.3333333333333333,
              "#9c179e"
             ],
             [
              0.4444444444444444,
              "#bd3786"
             ],
             [
              0.5555555555555556,
              "#d8576b"
             ],
             [
              0.6666666666666666,
              "#ed7953"
             ],
             [
              0.7777777777777778,
              "#fb9f3a"
             ],
             [
              0.8888888888888888,
              "#fdca26"
             ],
             [
              1,
              "#f0f921"
             ]
            ],
            "type": "heatmap"
           }
          ],
          "heatmapgl": [
           {
            "colorbar": {
             "outlinewidth": 0,
             "ticks": ""
            },
            "colorscale": [
             [
              0,
              "#0d0887"
             ],
             [
              0.1111111111111111,
              "#46039f"
             ],
             [
              0.2222222222222222,
              "#7201a8"
             ],
             [
              0.3333333333333333,
              "#9c179e"
             ],
             [
              0.4444444444444444,
              "#bd3786"
             ],
             [
              0.5555555555555556,
              "#d8576b"
             ],
             [
              0.6666666666666666,
              "#ed7953"
             ],
             [
              0.7777777777777778,
              "#fb9f3a"
             ],
             [
              0.8888888888888888,
              "#fdca26"
             ],
             [
              1,
              "#f0f921"
             ]
            ],
            "type": "heatmapgl"
           }
          ],
          "histogram": [
           {
            "marker": {
             "pattern": {
              "fillmode": "overlay",
              "size": 10,
              "solidity": 0.2
             }
            },
            "type": "histogram"
           }
          ],
          "histogram2d": [
           {
            "colorbar": {
             "outlinewidth": 0,
             "ticks": ""
            },
            "colorscale": [
             [
              0,
              "#0d0887"
             ],
             [
              0.1111111111111111,
              "#46039f"
             ],
             [
              0.2222222222222222,
              "#7201a8"
             ],
             [
              0.3333333333333333,
              "#9c179e"
             ],
             [
              0.4444444444444444,
              "#bd3786"
             ],
             [
              0.5555555555555556,
              "#d8576b"
             ],
             [
              0.6666666666666666,
              "#ed7953"
             ],
             [
              0.7777777777777778,
              "#fb9f3a"
             ],
             [
              0.8888888888888888,
              "#fdca26"
             ],
             [
              1,
              "#f0f921"
             ]
            ],
            "type": "histogram2d"
           }
          ],
          "histogram2dcontour": [
           {
            "colorbar": {
             "outlinewidth": 0,
             "ticks": ""
            },
            "colorscale": [
             [
              0,
              "#0d0887"
             ],
             [
              0.1111111111111111,
              "#46039f"
             ],
             [
              0.2222222222222222,
              "#7201a8"
             ],
             [
              0.3333333333333333,
              "#9c179e"
             ],
             [
              0.4444444444444444,
              "#bd3786"
             ],
             [
              0.5555555555555556,
              "#d8576b"
             ],
             [
              0.6666666666666666,
              "#ed7953"
             ],
             [
              0.7777777777777778,
              "#fb9f3a"
             ],
             [
              0.8888888888888888,
              "#fdca26"
             ],
             [
              1,
              "#f0f921"
             ]
            ],
            "type": "histogram2dcontour"
           }
          ],
          "mesh3d": [
           {
            "colorbar": {
             "outlinewidth": 0,
             "ticks": ""
            },
            "type": "mesh3d"
           }
          ],
          "parcoords": [
           {
            "line": {
             "colorbar": {
              "outlinewidth": 0,
              "ticks": ""
             }
            },
            "type": "parcoords"
           }
          ],
          "pie": [
           {
            "automargin": true,
            "type": "pie"
           }
          ],
          "scatter": [
           {
            "fillpattern": {
             "fillmode": "overlay",
             "size": 10,
             "solidity": 0.2
            },
            "type": "scatter"
           }
          ],
          "scatter3d": [
           {
            "line": {
             "colorbar": {
              "outlinewidth": 0,
              "ticks": ""
             }
            },
            "marker": {
             "colorbar": {
              "outlinewidth": 0,
              "ticks": ""
             }
            },
            "type": "scatter3d"
           }
          ],
          "scattercarpet": [
           {
            "marker": {
             "colorbar": {
              "outlinewidth": 0,
              "ticks": ""
             }
            },
            "type": "scattercarpet"
           }
          ],
          "scattergeo": [
           {
            "marker": {
             "colorbar": {
              "outlinewidth": 0,
              "ticks": ""
             }
            },
            "type": "scattergeo"
           }
          ],
          "scattergl": [
           {
            "marker": {
             "colorbar": {
              "outlinewidth": 0,
              "ticks": ""
             }
            },
            "type": "scattergl"
           }
          ],
          "scattermapbox": [
           {
            "marker": {
             "colorbar": {
              "outlinewidth": 0,
              "ticks": ""
             }
            },
            "type": "scattermapbox"
           }
          ],
          "scatterpolar": [
           {
            "marker": {
             "colorbar": {
              "outlinewidth": 0,
              "ticks": ""
             }
            },
            "type": "scatterpolar"
           }
          ],
          "scatterpolargl": [
           {
            "marker": {
             "colorbar": {
              "outlinewidth": 0,
              "ticks": ""
             }
            },
            "type": "scatterpolargl"
           }
          ],
          "scatterternary": [
           {
            "marker": {
             "colorbar": {
              "outlinewidth": 0,
              "ticks": ""
             }
            },
            "type": "scatterternary"
           }
          ],
          "surface": [
           {
            "colorbar": {
             "outlinewidth": 0,
             "ticks": ""
            },
            "colorscale": [
             [
              0,
              "#0d0887"
             ],
             [
              0.1111111111111111,
              "#46039f"
             ],
             [
              0.2222222222222222,
              "#7201a8"
             ],
             [
              0.3333333333333333,
              "#9c179e"
             ],
             [
              0.4444444444444444,
              "#bd3786"
             ],
             [
              0.5555555555555556,
              "#d8576b"
             ],
             [
              0.6666666666666666,
              "#ed7953"
             ],
             [
              0.7777777777777778,
              "#fb9f3a"
             ],
             [
              0.8888888888888888,
              "#fdca26"
             ],
             [
              1,
              "#f0f921"
             ]
            ],
            "type": "surface"
           }
          ],
          "table": [
           {
            "cells": {
             "fill": {
              "color": "#EBF0F8"
             },
             "line": {
              "color": "white"
             }
            },
            "header": {
             "fill": {
              "color": "#C8D4E3"
             },
             "line": {
              "color": "white"
             }
            },
            "type": "table"
           }
          ]
         },
         "layout": {
          "annotationdefaults": {
           "arrowcolor": "#2a3f5f",
           "arrowhead": 0,
           "arrowwidth": 1
          },
          "autotypenumbers": "strict",
          "coloraxis": {
           "colorbar": {
            "outlinewidth": 0,
            "ticks": ""
           }
          },
          "colorscale": {
           "diverging": [
            [
             0,
             "#8e0152"
            ],
            [
             0.1,
             "#c51b7d"
            ],
            [
             0.2,
             "#de77ae"
            ],
            [
             0.3,
             "#f1b6da"
            ],
            [
             0.4,
             "#fde0ef"
            ],
            [
             0.5,
             "#f7f7f7"
            ],
            [
             0.6,
             "#e6f5d0"
            ],
            [
             0.7,
             "#b8e186"
            ],
            [
             0.8,
             "#7fbc41"
            ],
            [
             0.9,
             "#4d9221"
            ],
            [
             1,
             "#276419"
            ]
           ],
           "sequential": [
            [
             0,
             "#0d0887"
            ],
            [
             0.1111111111111111,
             "#46039f"
            ],
            [
             0.2222222222222222,
             "#7201a8"
            ],
            [
             0.3333333333333333,
             "#9c179e"
            ],
            [
             0.4444444444444444,
             "#bd3786"
            ],
            [
             0.5555555555555556,
             "#d8576b"
            ],
            [
             0.6666666666666666,
             "#ed7953"
            ],
            [
             0.7777777777777778,
             "#fb9f3a"
            ],
            [
             0.8888888888888888,
             "#fdca26"
            ],
            [
             1,
             "#f0f921"
            ]
           ],
           "sequentialminus": [
            [
             0,
             "#0d0887"
            ],
            [
             0.1111111111111111,
             "#46039f"
            ],
            [
             0.2222222222222222,
             "#7201a8"
            ],
            [
             0.3333333333333333,
             "#9c179e"
            ],
            [
             0.4444444444444444,
             "#bd3786"
            ],
            [
             0.5555555555555556,
             "#d8576b"
            ],
            [
             0.6666666666666666,
             "#ed7953"
            ],
            [
             0.7777777777777778,
             "#fb9f3a"
            ],
            [
             0.8888888888888888,
             "#fdca26"
            ],
            [
             1,
             "#f0f921"
            ]
           ]
          },
          "colorway": [
           "#636efa",
           "#EF553B",
           "#00cc96",
           "#ab63fa",
           "#FFA15A",
           "#19d3f3",
           "#FF6692",
           "#B6E880",
           "#FF97FF",
           "#FECB52"
          ],
          "font": {
           "color": "#2a3f5f"
          },
          "geo": {
           "bgcolor": "white",
           "lakecolor": "white",
           "landcolor": "#E5ECF6",
           "showlakes": true,
           "showland": true,
           "subunitcolor": "white"
          },
          "hoverlabel": {
           "align": "left"
          },
          "hovermode": "closest",
          "mapbox": {
           "style": "light"
          },
          "paper_bgcolor": "white",
          "plot_bgcolor": "#E5ECF6",
          "polar": {
           "angularaxis": {
            "gridcolor": "white",
            "linecolor": "white",
            "ticks": ""
           },
           "bgcolor": "#E5ECF6",
           "radialaxis": {
            "gridcolor": "white",
            "linecolor": "white",
            "ticks": ""
           }
          },
          "scene": {
           "xaxis": {
            "backgroundcolor": "#E5ECF6",
            "gridcolor": "white",
            "gridwidth": 2,
            "linecolor": "white",
            "showbackground": true,
            "ticks": "",
            "zerolinecolor": "white"
           },
           "yaxis": {
            "backgroundcolor": "#E5ECF6",
            "gridcolor": "white",
            "gridwidth": 2,
            "linecolor": "white",
            "showbackground": true,
            "ticks": "",
            "zerolinecolor": "white"
           },
           "zaxis": {
            "backgroundcolor": "#E5ECF6",
            "gridcolor": "white",
            "gridwidth": 2,
            "linecolor": "white",
            "showbackground": true,
            "ticks": "",
            "zerolinecolor": "white"
           }
          },
          "shapedefaults": {
           "line": {
            "color": "#2a3f5f"
           }
          },
          "ternary": {
           "aaxis": {
            "gridcolor": "white",
            "linecolor": "white",
            "ticks": ""
           },
           "baxis": {
            "gridcolor": "white",
            "linecolor": "white",
            "ticks": ""
           },
           "bgcolor": "#E5ECF6",
           "caxis": {
            "gridcolor": "white",
            "linecolor": "white",
            "ticks": ""
           }
          },
          "title": {
           "x": 0.05
          },
          "xaxis": {
           "automargin": true,
           "gridcolor": "white",
           "linecolor": "white",
           "ticks": "",
           "title": {
            "standoff": 15
           },
           "zerolinecolor": "white",
           "zerolinewidth": 2
          },
          "yaxis": {
           "automargin": true,
           "gridcolor": "white",
           "linecolor": "white",
           "ticks": "",
           "title": {
            "standoff": 15
           },
           "zerolinecolor": "white",
           "zerolinewidth": 2
          }
         }
        },
        "title": {
         "text": "residui vs indici"
        },
        "width": 1200,
        "xaxis": {
         "anchor": "y",
         "domain": [
          0,
          0.2888888888888889
         ],
         "title": {
          "text": "Indice_corrente"
         }
        },
        "xaxis10": {
         "anchor": "y10",
         "domain": [
          0,
          0.2888888888888889
         ],
         "title": {
          "text": "Costo_denaro_a_prestito"
         }
        },
        "xaxis11": {
         "anchor": "y11",
         "domain": [
          0.35555555555555557,
          0.6444444444444445
         ],
         "title": {
          "text": "Oneri_finanz_su_fatt"
         }
        },
        "xaxis12": {
         "anchor": "y12",
         "domain": [
          0.7111111111111111,
          1
         ],
         "title": {
          "text": "Grado_di_copertura_degli_interessi_passivi"
         }
        },
        "xaxis13": {
         "anchor": "y13",
         "domain": [
          0,
          0.2888888888888889
         ],
         "title": {
          "text": "Debiti_v_banche_su_fatt"
         }
        },
        "xaxis14": {
         "anchor": "y14",
         "domain": [
          0.35555555555555557,
          0.6444444444444445
         ],
         "title": {
          "text": "Debt_Equity_ratio"
         }
        },
        "xaxis15": {
         "anchor": "y15",
         "domain": [
          0.7111111111111111,
          1
         ]
        },
        "xaxis2": {
         "anchor": "y2",
         "domain": [
          0.35555555555555557,
          0.6444444444444445
         ],
         "title": {
          "text": "Indice_di_liquidità"
         }
        },
        "xaxis3": {
         "anchor": "y3",
         "domain": [
          0.7111111111111111,
          1
         ],
         "title": {
          "text": "Rotaz_cap_investito"
         }
        },
        "xaxis4": {
         "anchor": "y4",
         "domain": [
          0,
          0.2888888888888889
         ],
         "title": {
          "text": "Rotaz_cap_cir_lordo"
         }
        },
        "xaxis5": {
         "anchor": "y5",
         "domain": [
          0.35555555555555557,
          0.6444444444444445
         ],
         "title": {
          "text": "Redditività_del_totale_attivo"
         }
        },
        "xaxis6": {
         "anchor": "y6",
         "domain": [
          0.7111111111111111,
          1
         ],
         "title": {
          "text": "Redditività_di_tutto_il_capitale_investito"
         }
        },
        "xaxis7": {
         "anchor": "y7",
         "domain": [
          0,
          0.2888888888888889
         ],
         "title": {
          "text": "Redditività_delle_vendite"
         }
        },
        "xaxis8": {
         "anchor": "y8",
         "domain": [
          0.35555555555555557,
          0.6444444444444445
         ],
         "title": {
          "text": "Redditività_del_capitale_proprio"
         }
        },
        "xaxis9": {
         "anchor": "y9",
         "domain": [
          0.7111111111111111,
          1
         ],
         "title": {
          "text": "Indice_di_copertura_delle_immob"
         }
        },
        "yaxis": {
         "anchor": "x",
         "domain": [
          0.848,
          1
         ],
         "title": {
          "text": "Errori"
         }
        },
        "yaxis10": {
         "anchor": "x10",
         "domain": [
          0.212,
          0.364
         ],
         "title": {
          "text": "Errori"
         }
        },
        "yaxis11": {
         "anchor": "x11",
         "domain": [
          0.212,
          0.364
         ],
         "title": {
          "text": "Errori"
         }
        },
        "yaxis12": {
         "anchor": "x12",
         "domain": [
          0.212,
          0.364
         ],
         "title": {
          "text": "Errori"
         }
        },
        "yaxis13": {
         "anchor": "x13",
         "domain": [
          0,
          0.152
         ],
         "title": {
          "text": "Errori"
         }
        },
        "yaxis14": {
         "anchor": "x14",
         "domain": [
          0,
          0.152
         ],
         "title": {
          "text": "Errori"
         }
        },
        "yaxis15": {
         "anchor": "x15",
         "domain": [
          0,
          0.152
         ]
        },
        "yaxis2": {
         "anchor": "x2",
         "domain": [
          0.848,
          1
         ],
         "title": {
          "text": "Errori"
         }
        },
        "yaxis3": {
         "anchor": "x3",
         "domain": [
          0.848,
          1
         ],
         "title": {
          "text": "Errori"
         }
        },
        "yaxis4": {
         "anchor": "x4",
         "domain": [
          0.6359999999999999,
          0.7879999999999999
         ],
         "title": {
          "text": "Errori"
         }
        },
        "yaxis5": {
         "anchor": "x5",
         "domain": [
          0.6359999999999999,
          0.7879999999999999
         ],
         "title": {
          "text": "Errori"
         }
        },
        "yaxis6": {
         "anchor": "x6",
         "domain": [
          0.6359999999999999,
          0.7879999999999999
         ],
         "title": {
          "text": "Errori"
         }
        },
        "yaxis7": {
         "anchor": "x7",
         "domain": [
          0.424,
          0.576
         ],
         "title": {
          "text": "Errori"
         }
        },
        "yaxis8": {
         "anchor": "x8",
         "domain": [
          0.424,
          0.576
         ],
         "title": {
          "text": "Errori"
         }
        },
        "yaxis9": {
         "anchor": "x9",
         "domain": [
          0.424,
          0.576
         ],
         "title": {
          "text": "Errori"
         }
        }
       }
      }
     },
     "metadata": {},
     "output_type": "display_data"
    }
   ],
   "source": [
    "# Crea una griglia 5x3 di subplot\n",
    "fig = make_subplots(rows=5, cols=3)\n",
    "\n",
    "# Cicla attraverso le colonne a partire dalla 7a\n",
    "for idx, col_name in enumerate(df.columns[7:]):\n",
    "    # Calcola la riga e la colonna corrispondenti nella griglia 5x3\n",
    "    row = idx // 3 + 1\n",
    "    col = idx % 3 + 1\n",
    "\n",
    "    # Aggiungi un grafico a questa posizione\n",
    "    scatter = px.scatter(df.dropna(), y=previsioni['residui'], x=col_name)\n",
    "    fig.add_trace(scatter.data[0], row=row, col=col)\n",
    "\n",
    "    # Aggiungi titoli agli assi x e y\n",
    "    fig.update_xaxes(title_text=col_name, row=row, col=col)\n",
    "    fig.update_yaxes(title_text='Errori', row=row, col=col)\n",
    "\n",
    "\n",
    "# Aggiungi un layout per personalizzare il titolo e le dimensioni\n",
    "fig.update_layout(\n",
    "    title='residui vs indici',\n",
    "    height=1000,  # Imposta l'altezza della griglia\n",
    "    width=1200    # Imposta la larghezza della griglia\n",
    ")\n",
    "\n",
    "# Visualizza la griglia\n",
    "fig.show()\n"
   ]
  }
 ],
 "metadata": {
  "kernelspec": {
   "display_name": "env_tesi",
   "language": "python",
   "name": "python3"
  },
  "language_info": {
   "codemirror_mode": {
    "name": "ipython",
    "version": 3
   },
   "file_extension": ".py",
   "mimetype": "text/x-python",
   "name": "python",
   "nbconvert_exporter": "python",
   "pygments_lexer": "ipython3",
   "version": "3.10.12"
  },
  "orig_nbformat": 4
 },
 "nbformat": 4,
 "nbformat_minor": 2
}
