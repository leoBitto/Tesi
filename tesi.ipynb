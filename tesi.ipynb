{
 "cells": [
  {
   "cell_type": "code",
   "execution_count": null,
   "metadata": {},
   "outputs": [],
   "source": [
    "# essential imports\n",
    "import pandas as pd\n",
    "import re\n",
    "import yahooquery as yq\n",
    "import datetime\n",
    "import numpy as np\n",
    "\n",
    "# imports for the models\n",
    "import scipy.stats as st\n",
    "from sklearn.metrics import mean_squared_error, mean_absolute_error\n",
    "import statsmodels.api as sm\n",
    "import statsmodels.formula.api as smf\n",
    "from matplotlib import pyplot as plt\n",
    "import plotly.express as px\n",
    "from plotly.subplots import make_subplots\n"
   ]
  },
  {
   "cell_type": "code",
   "execution_count": null,
   "metadata": {},
   "outputs": [],
   "source": [
    "# Leggi il file CSV\n",
    "df = pd.read_csv('./data/tesi28.csv', sep=';')\n",
    "#pulisci i nome dei df\n",
    "# sostituisci gli spazi con _ e togli le parentesi\n",
    "df.columns = [re.sub(r'\\(.*\\)', '', col) for col in df.columns]\n",
    "# Rimuovere lo spazio dagli header delle colonne alla fine e tra le parole\n",
    "df.columns = df.columns.str.rstrip(' ')\n",
    "df.columns = df.columns.str.rstrip('.')\n",
    "df.columns = df.columns.str.replace(' ', '_')\n",
    "df.columns = df.columns.str.replace('/', '_')\n",
    "df.columns = df.columns.str.replace('.', '')\n",
    "df"
   ]
  },
  {
   "cell_type": "markdown",
   "metadata": {},
   "source": [
    "## scarica i valori di borsa per ogni ticker, per ogni anno"
   ]
  },
  {
   "cell_type": "code",
   "execution_count": null,
   "metadata": {},
   "outputs": [],
   "source": [
    "tickers = df['Ticker_symbol']\n",
    "valori_borsa = []\n",
    "tickers_non_scaricati=[]\n",
    "\n",
    "# Scarica i dati storici per ciascun ticker e anno\n",
    "for ticker in tickers:\n",
    "    yq_ticker = yq.Ticker(ticker+\".mi\")\n",
    "    for year in range(2023, 2013, -1):\n",
    "        # Specifica la data desiderata come \"YYYY-MM-DD\" (31 dicembre dell'anno specificato)\n",
    "        datainizio = f\"{year}-01-01\"\n",
    "        datafine = f\"{year}-01-10\"\n",
    "        print(ticker, year)\n",
    "        # Converti la data desiderata in un oggetto datetime\n",
    "        datainizio = datetime.datetime.strptime(datainizio, \"%Y-%m-%d\").date()\n",
    "        datafine = datetime.datetime.strptime(datafine, \"%Y-%m-%d\").date()\n",
    "\n",
    "\n",
    "        try:\n",
    "            val = yq_ticker.history(start=datainizio, end=datafine)['close'][-1]\n",
    "        except Exception as e:\n",
    "            print(e.__cause__)\n",
    "            val = \"NaN\"\n",
    "            tickers_non_scaricati.append(ticker)\n",
    "\n",
    "        print(ticker, val)\n",
    "        valori_borsa.append(val)\n",
    "\n"
   ]
  },
  {
   "cell_type": "code",
   "execution_count": null,
   "metadata": {},
   "outputs": [],
   "source": [
    "print(len(valori_borsa))\n",
    "tickers_non_scaricati = set(tickers_non_scaricati)\n",
    "print(tickers_non_scaricati)"
   ]
  },
  {
   "cell_type": "markdown",
   "metadata": {},
   "source": [
    "### crea grafico di settori delle varie aziende"
   ]
  },
  {
   "cell_type": "code",
   "execution_count": null,
   "metadata": {},
   "outputs": [],
   "source": [
    "tickers_list = list(tickers)\n",
    "#print(tickers_list)\n",
    "stocks_info = []\n",
    "non_processed = []\n",
    "for ticker in tickers_list:\n",
    "    ticker = ticker+\".mi\"\n",
    "    #print(ticker)\n",
    "    yf_ticker = yq.Ticker(ticker)\n",
    "    try:\n",
    "        stocks_info.append({\n",
    "            'ticker'    : ticker,\n",
    "            'name'      : yf_ticker.quote_type[ticker]['shortName'],\n",
    "            'industry'  : yf_ticker.asset_profile[ticker]['industry'],\n",
    "            'sector'    : yf_ticker.asset_profile[ticker]['sector'],\n",
    "        })\n",
    "    except:\n",
    "        non_processed.append(ticker)\n",
    "\n",
    "print(non_processed)\n",
    "t = pd.DataFrame(stocks_info)\n",
    "t['name']"
   ]
  },
  {
   "cell_type": "markdown",
   "metadata": {},
   "source": [
    "crea df per visualizzare industrie e settori"
   ]
  },
  {
   "cell_type": "code",
   "execution_count": null,
   "metadata": {},
   "outputs": [],
   "source": [
    "sectors = pd.DataFrame(pd.DataFrame(t['sector'].value_counts())['count'])\n",
    "industries = pd.DataFrame(pd.DataFrame(t['industry'].value_counts())['count'])\n",
    "print(sectors)\n",
    "print(industries)\n"
   ]
  },
  {
   "cell_type": "markdown",
   "metadata": {},
   "source": [
    "visualizza industrie e settori"
   ]
  },
  {
   "cell_type": "code",
   "execution_count": null,
   "metadata": {},
   "outputs": [],
   "source": [
    "fig_sectors = px.pie(sectors, values='count', names=sectors.index, title=\"settori\")\n",
    "fig_industry = px.pie(industries, \n",
    "                    values=\"count\",\n",
    "                    names=industries.index, \n",
    "                    title=\"industrie\",\n",
    "                    height=600,\n",
    "                    )\n",
    "fig_sectors.show()\n",
    "fig_industry.show()\n"
   ]
  },
  {
   "cell_type": "markdown",
   "metadata": {},
   "source": [
    "## crea nuovo df\n",
    "1. prendi info di interesse, moltiplica per ogni anno ogni osservazione \n",
    "2. aggiungi gli anni di interesse\n",
    "3. doppio ciclo for: per ogni riga df originale prendi i primi nove valori e trasponi il risultato, passa ai prossimi nove (secondo ciclo)"
   ]
  },
  {
   "cell_type": "markdown",
   "metadata": {},
   "source": [
    "#### crea df delle info "
   ]
  },
  {
   "cell_type": "code",
   "execution_count": null,
   "metadata": {},
   "outputs": [],
   "source": [
    "info = pd.concat([df.iloc[:, 0:5]] * 10)\n",
    "info.sort_index(inplace=True)\n",
    "info"
   ]
  },
  {
   "cell_type": "markdown",
   "metadata": {},
   "source": [
    "#### crea colonna degli anni, aggiungi a info"
   ]
  },
  {
   "cell_type": "code",
   "execution_count": null,
   "metadata": {},
   "outputs": [],
   "source": [
    "anni = [anno for anno in range(2022, 2012, -1)] * 28\n",
    "info['Anni'] = anni\n",
    "info"
   ]
  },
  {
   "cell_type": "markdown",
   "metadata": {},
   "source": [
    "#### df degli indici"
   ]
  },
  {
   "cell_type": "code",
   "execution_count": null,
   "metadata": {},
   "outputs": [],
   "source": [
    "# Rimuovi il carattere '\\n' e tutti quelli che seguono dalle intestazioni delle colonne\n",
    "df.columns = df.columns.str.replace(r'\\n.*', '', regex=True)\n",
    "df.columns = df.columns.str.rstrip('_')\n",
    "nomi_colonne = df.columns.unique()[5:]\n",
    "# prendi df di interesse, serve a semplificare gli indici\n",
    "indici = df.iloc[:, 5:]\n",
    "for i in indici.columns:\n",
    "    print(i)\n",
    "# crea nuovo df\n",
    "new_df = pd.DataFrame()\n",
    "\n",
    "col = 0\n",
    "#per ogni set di 10 valori riga di df originario INDICI\n",
    "for i in range(0, 140, 10):\n",
    "    \n",
    "    indice = []\n",
    "    #per ogni riga AZIENDA\n",
    "    for j in range(1,len(indici)+1):\n",
    "        # prendi i nove valori, trasponili e aggiungili al vettore dell'indice considerato\n",
    "        valori = indici.iloc[j-1:j, i:i+10].values[0]\n",
    "        valori = valori.T.tolist()\n",
    "        \n",
    "        indice= indice + valori\n",
    "        \n",
    "    # aggiungi colonna a new_df con insert\n",
    "    new_df.insert(col, nomi_colonne[col], indice)\n",
    "    col += 1\n",
    "\n",
    "\n",
    "for col in new_df.columns:\n",
    "    new_df[col] = new_df[col].str.replace(',' , '.').astype(float)\n",
    "    #print(type(X[col]))\n",
    "\n",
    "new_df"
   ]
  },
  {
   "cell_type": "markdown",
   "metadata": {},
   "source": [
    "#### aggiungi anche valori azionari"
   ]
  },
  {
   "cell_type": "code",
   "execution_count": null,
   "metadata": {},
   "outputs": [],
   "source": [
    "# aggiungi i valori della borsa al df info\n",
    "info['Valori_Borsa'] = valori_borsa\n",
    "info"
   ]
  },
  {
   "cell_type": "markdown",
   "metadata": {},
   "source": [
    "##### esegui il join dei due dataframe, resetta gli indici!!\n"
   ]
  },
  {
   "cell_type": "code",
   "execution_count": null,
   "metadata": {},
   "outputs": [],
   "source": [
    "#resetta indici\n",
    "info = info.reset_index(drop=True)\n",
    "new_df = new_df.reset_index(drop=True)\n",
    "#esegui il join\n",
    "dati_puliti = info.join(new_df)\n",
    "dati_puliti\n"
   ]
  },
  {
   "cell_type": "markdown",
   "metadata": {},
   "source": [
    "### ESEGUI SE NON VUOI AZIENDE SENZA VALORI DI BORSA\n",
    "##### ripulisci i dati, togli le aziende che non hanno valori di borsa per almeno un anno e calcola gli indici per ogni azienda\n",
    "i valori di borsa non sono presenti in quanto alcune di queste aziende non erano quotate durante il periodo di analisi."
   ]
  },
  {
   "cell_type": "code",
   "execution_count": null,
   "metadata": {},
   "outputs": [],
   "source": [
    "# elimina le aziende tramite una maschera\n",
    "tickers_non_scaricati = list(set(tickers_non_scaricati))\n",
    "maschera = dati_puliti['Ticker_symbol'].isin(tickers_non_scaricati)\n",
    "dati_puliti = dati_puliti[~maschera]\n",
    "#df_pulito = df_pulito.drop(columns=[\"Unnamed: 0\"])\n",
    "dati_puliti"
   ]
  },
  {
   "cell_type": "markdown",
   "metadata": {},
   "source": [
    "### ESEGUI PER SALVARE DF DELLE AZIENDE CHE NON HANNO ALCUNI VALORI DI BORSA\n",
    "DF È PIÙ PICCOLO"
   ]
  },
  {
   "cell_type": "code",
   "execution_count": null,
   "metadata": {},
   "outputs": [],
   "source": [
    "dati_puliti.to_csv(\"./data/dati_puliti.csv\")"
   ]
  },
  {
   "cell_type": "markdown",
   "metadata": {},
   "source": [
    "### ESEGUI PER SALVARE DF DI TUTTE LE AZIENDE"
   ]
  },
  {
   "cell_type": "code",
   "execution_count": null,
   "metadata": {},
   "outputs": [],
   "source": [
    "dati_puliti.to_csv(\"./data/dati_puliti28.csv\")"
   ]
  },
  {
   "cell_type": "markdown",
   "metadata": {},
   "source": [
    "# CREA IL MODELLO\n",
    "**attenzione** al path usato, esistono due file: uno con tutte le aziende (dati_puliti28) e uno con solo le aziende che contengono valori di borsa(dati_puliti)\n",
    "stiamo effettuando una trasformazione logaritmica della variabile dipendente: valori_borsa"
   ]
  },
  {
   "cell_type": "code",
   "execution_count": null,
   "metadata": {},
   "outputs": [],
   "source": [
    "df = pd.read_csv('./data/dati_puliti28.csv', sep=',')\n",
    "df = df.drop(columns=[\"Unnamed: 0\"])\n",
    "#calcola i logaritmo dei valori di borsa\n",
    "df['Valori_Borsa'] = np.log(df['Valori_Borsa'])\n",
    "df"
   ]
  },
  {
   "cell_type": "markdown",
   "metadata": {},
   "source": [
    "#### distribuzioni delle variabili"
   ]
  },
  {
   "cell_type": "code",
   "execution_count": null,
   "metadata": {},
   "outputs": [],
   "source": [
    "# Crea una griglia 5x3 di subplot\n",
    "fig = make_subplots(rows=5, cols=3)\n",
    "car_indici = []\n",
    "# Cicla attraverso le colonne a partire dalla 7a\n",
    "for idx, col_name in enumerate(df.columns[7:]):\n",
    "    # Calcola la riga e la colonna corrispondenti nella griglia 5x3\n",
    "    row = idx // 3 + 1\n",
    "    col = idx % 3 + 1\n",
    "\n",
    "    # Aggiungi un grafico a questa posizione\n",
    "    histogram = px.box(df, x=col_name, )\n",
    "    fig.add_trace(histogram.data[0], row=row, col=col)\n",
    "\n",
    "    # Aggiungi titoli agli assi x e y\n",
    "    fig.update_xaxes(title_text=col_name, row=row, col=col)\n",
    "    fig.update_yaxes(title_text='Frequenza', row=row, col=col)\n",
    "\n",
    "    #calcola media, min, max, dev std, \n",
    "    car_indici.append({\n",
    "        'indice' : col_name,\n",
    "        'media'  : df[col_name].mean(),\n",
    "        'min'    : df[col_name].min(),\n",
    "        'max'    : df[col_name].max(),\n",
    "        'dev std': df[col_name].std(),\n",
    "        'curtosi': df[col_name].kurtosis(),\n",
    "        'skew'   : df[col_name].skew()\n",
    "        \n",
    "    })\n",
    "\n",
    "# Aggiungi un layout per personalizzare il titolo e le dimensioni\n",
    "fig.update_layout(\n",
    "    title='Distribuzioni degli indici',\n",
    "    height=1000,  # Imposta l'altezza della griglia\n",
    "    width=1200    # Imposta la larghezza della griglia\n",
    ")\n",
    "\n",
    "# Visualizza la griglia\n",
    "fig.show()\n"
   ]
  },
  {
   "cell_type": "code",
   "execution_count": null,
   "metadata": {},
   "outputs": [],
   "source": [
    "car_indici = pd.DataFrame(car_indici)\n",
    "car_indici.set_index('indice')\n",
    "car_indici.round(decimals=3)"
   ]
  },
  {
   "cell_type": "markdown",
   "metadata": {},
   "source": [
    "##### mostra le correlazioni tra i valori di borsa e tutti gli indici"
   ]
  },
  {
   "cell_type": "code",
   "execution_count": null,
   "metadata": {},
   "outputs": [],
   "source": [
    "import seaborn as sns\n",
    "correlation_matrix = df.iloc[:, 6:].corr()\n",
    "# Crea una maschera per nascondere la parte superiore della matrice\n",
    "mask = np.triu(np.ones_like(correlation_matrix, dtype=bool))\n",
    "\n",
    "# Crea una figura per il grafico\n",
    "plt.figure(figsize=(12, 8))\n",
    "\n",
    "# Personalizza l'aspetto della heatmap\n",
    "cmap = sns.diverging_palette(230, 20, as_cmap=True)\n",
    "sns.heatmap(correlation_matrix, annot=True, fmt=\".2f\", mask=mask, cmap=cmap)\n",
    "\n",
    "# Visualizza il grafico\n",
    "plt.show()"
   ]
  },
  {
   "cell_type": "code",
   "execution_count": 46,
   "metadata": {},
   "outputs": [
    {
     "data": {
      "text/html": [
       "<div>\n",
       "<style scoped>\n",
       "    .dataframe tbody tr th:only-of-type {\n",
       "        vertical-align: middle;\n",
       "    }\n",
       "\n",
       "    .dataframe tbody tr th {\n",
       "        vertical-align: top;\n",
       "    }\n",
       "\n",
       "    .dataframe thead th {\n",
       "        text-align: right;\n",
       "    }\n",
       "</style>\n",
       "<table border=\"1\" class=\"dataframe\">\n",
       "  <thead>\n",
       "    <tr style=\"text-align: right;\">\n",
       "      <th></th>\n",
       "      <th>ID</th>\n",
       "      <th>Ragione_sociale</th>\n",
       "      <th>Ticker_symbol</th>\n",
       "      <th>ISIN_number</th>\n",
       "      <th>Numero_CCIAA</th>\n",
       "      <th>Anni</th>\n",
       "      <th>Valori_Borsa</th>\n",
       "      <th>Indice_corrente</th>\n",
       "      <th>Indice_di_liquidità</th>\n",
       "      <th>Rotaz_cap_investito</th>\n",
       "      <th>...</th>\n",
       "      <th>Redditività_di_tutto_il_capitale_investito</th>\n",
       "      <th>Redditività_delle_vendite</th>\n",
       "      <th>Redditività_del_capitale_proprio</th>\n",
       "      <th>Indice_di_copertura_delle_immob</th>\n",
       "      <th>Costo_denaro_a_prestito</th>\n",
       "      <th>Oneri_finanz_su_fatt</th>\n",
       "      <th>Grado_di_copertura_degli_interessi_passivi</th>\n",
       "      <th>Debiti_v_banche_su_fatt</th>\n",
       "      <th>Debt_Equity_ratio</th>\n",
       "      <th>log_Valori_Borsa</th>\n",
       "    </tr>\n",
       "  </thead>\n",
       "  <tbody>\n",
       "    <tr>\n",
       "      <th>0</th>\n",
       "      <td>1.0</td>\n",
       "      <td>MARR S.P.A.</td>\n",
       "      <td>MARR</td>\n",
       "      <td>IT0003428445</td>\n",
       "      <td>RN0276618</td>\n",
       "      <td>2022</td>\n",
       "      <td>12.300000</td>\n",
       "      <td>1.58</td>\n",
       "      <td>1.18</td>\n",
       "      <td>1.55</td>\n",
       "      <td>...</td>\n",
       "      <td>5.34</td>\n",
       "      <td>2.22</td>\n",
       "      <td>7.77</td>\n",
       "      <td>0.45</td>\n",
       "      <td>3.79</td>\n",
       "      <td>0.50</td>\n",
       "      <td>8.11</td>\n",
       "      <td>13.25</td>\n",
       "      <td>0.95</td>\n",
       "      <td>2.509599</td>\n",
       "    </tr>\n",
       "    <tr>\n",
       "      <th>1</th>\n",
       "      <td>1.0</td>\n",
       "      <td>MARR S.P.A.</td>\n",
       "      <td>MARR</td>\n",
       "      <td>IT0003428445</td>\n",
       "      <td>RN0276618</td>\n",
       "      <td>2021</td>\n",
       "      <td>18.820000</td>\n",
       "      <td>1.57</td>\n",
       "      <td>1.20</td>\n",
       "      <td>1.17</td>\n",
       "      <td>...</td>\n",
       "      <td>7.26</td>\n",
       "      <td>3.83</td>\n",
       "      <td>9.50</td>\n",
       "      <td>0.42</td>\n",
       "      <td>4.31</td>\n",
       "      <td>0.68</td>\n",
       "      <td>8.88</td>\n",
       "      <td>15.76</td>\n",
       "      <td>0.86</td>\n",
       "      <td>2.934920</td>\n",
       "    </tr>\n",
       "    <tr>\n",
       "      <th>2</th>\n",
       "      <td>1.0</td>\n",
       "      <td>MARR S.P.A.</td>\n",
       "      <td>MARR</td>\n",
       "      <td>IT0003428445</td>\n",
       "      <td>RN0276618</td>\n",
       "      <td>2020</td>\n",
       "      <td>17.799999</td>\n",
       "      <td>1.70</td>\n",
       "      <td>1.38</td>\n",
       "      <td>0.98</td>\n",
       "      <td>...</td>\n",
       "      <td>0.12</td>\n",
       "      <td>0.09</td>\n",
       "      <td>-1.25</td>\n",
       "      <td>0.37</td>\n",
       "      <td>1.60</td>\n",
       "      <td>0.57</td>\n",
       "      <td>5.90</td>\n",
       "      <td>35.37</td>\n",
       "      <td>1.29</td>\n",
       "      <td>2.879198</td>\n",
       "    </tr>\n",
       "    <tr>\n",
       "      <th>3</th>\n",
       "      <td>1.0</td>\n",
       "      <td>MARR S.P.A.</td>\n",
       "      <td>MARR</td>\n",
       "      <td>IT0003428445</td>\n",
       "      <td>RN0276618</td>\n",
       "      <td>2019</td>\n",
       "      <td>21.200001</td>\n",
       "      <td>1.46</td>\n",
       "      <td>1.16</td>\n",
       "      <td>1.46</td>\n",
       "      <td>...</td>\n",
       "      <td>13.31</td>\n",
       "      <td>5.88</td>\n",
       "      <td>19.42</td>\n",
       "      <td>0.33</td>\n",
       "      <td>2.15</td>\n",
       "      <td>0.40</td>\n",
       "      <td>19.02</td>\n",
       "      <td>18.59</td>\n",
       "      <td>1.04</td>\n",
       "      <td>3.054001</td>\n",
       "    </tr>\n",
       "    <tr>\n",
       "      <th>4</th>\n",
       "      <td>1.0</td>\n",
       "      <td>MARR S.P.A.</td>\n",
       "      <td>MARR</td>\n",
       "      <td>IT0003428445</td>\n",
       "      <td>RN0276618</td>\n",
       "      <td>2018</td>\n",
       "      <td>21.520000</td>\n",
       "      <td>1.67</td>\n",
       "      <td>1.34</td>\n",
       "      <td>1.54</td>\n",
       "      <td>...</td>\n",
       "      <td>14.36</td>\n",
       "      <td>5.92</td>\n",
       "      <td>20.32</td>\n",
       "      <td>0.20</td>\n",
       "      <td>1.87</td>\n",
       "      <td>0.35</td>\n",
       "      <td>20.30</td>\n",
       "      <td>18.72</td>\n",
       "      <td>0.94</td>\n",
       "      <td>3.068983</td>\n",
       "    </tr>\n",
       "    <tr>\n",
       "      <th>...</th>\n",
       "      <td>...</td>\n",
       "      <td>...</td>\n",
       "      <td>...</td>\n",
       "      <td>...</td>\n",
       "      <td>...</td>\n",
       "      <td>...</td>\n",
       "      <td>...</td>\n",
       "      <td>...</td>\n",
       "      <td>...</td>\n",
       "      <td>...</td>\n",
       "      <td>...</td>\n",
       "      <td>...</td>\n",
       "      <td>...</td>\n",
       "      <td>...</td>\n",
       "      <td>...</td>\n",
       "      <td>...</td>\n",
       "      <td>...</td>\n",
       "      <td>...</td>\n",
       "      <td>...</td>\n",
       "      <td>...</td>\n",
       "      <td>...</td>\n",
       "    </tr>\n",
       "    <tr>\n",
       "      <th>275</th>\n",
       "      <td>28.0</td>\n",
       "      <td>BASIC NET S.P.A.</td>\n",
       "      <td>BAN</td>\n",
       "      <td>IT0001033700</td>\n",
       "      <td>TO0631153</td>\n",
       "      <td>2017</td>\n",
       "      <td>3.760000</td>\n",
       "      <td>3.34</td>\n",
       "      <td>3.31</td>\n",
       "      <td>0.02</td>\n",
       "      <td>...</td>\n",
       "      <td>7.48</td>\n",
       "      <td>22.97</td>\n",
       "      <td>5.28</td>\n",
       "      <td>0.03</td>\n",
       "      <td>1.42</td>\n",
       "      <td>1.13</td>\n",
       "      <td>25.64</td>\n",
       "      <td>79.55</td>\n",
       "      <td>0.35</td>\n",
       "      <td>1.324419</td>\n",
       "    </tr>\n",
       "    <tr>\n",
       "      <th>276</th>\n",
       "      <td>28.0</td>\n",
       "      <td>BASIC NET S.P.A.</td>\n",
       "      <td>BAN</td>\n",
       "      <td>IT0001033700</td>\n",
       "      <td>TO0631153</td>\n",
       "      <td>2016</td>\n",
       "      <td>3.322000</td>\n",
       "      <td>2.39</td>\n",
       "      <td>2.37</td>\n",
       "      <td>0.02</td>\n",
       "      <td>...</td>\n",
       "      <td>8.08</td>\n",
       "      <td>24.26</td>\n",
       "      <td>8.55</td>\n",
       "      <td>0.02</td>\n",
       "      <td>2.01</td>\n",
       "      <td>1.26</td>\n",
       "      <td>25.00</td>\n",
       "      <td>62.68</td>\n",
       "      <td>0.27</td>\n",
       "      <td>1.200567</td>\n",
       "    </tr>\n",
       "    <tr>\n",
       "      <th>277</th>\n",
       "      <td>28.0</td>\n",
       "      <td>BASIC NET S.P.A.</td>\n",
       "      <td>BAN</td>\n",
       "      <td>IT0001033700</td>\n",
       "      <td>TO0631153</td>\n",
       "      <td>2015</td>\n",
       "      <td>4.342000</td>\n",
       "      <td>2.55</td>\n",
       "      <td>2.53</td>\n",
       "      <td>0.02</td>\n",
       "      <td>...</td>\n",
       "      <td>9.94</td>\n",
       "      <td>29.06</td>\n",
       "      <td>13.71</td>\n",
       "      <td>0.02</td>\n",
       "      <td>3.10</td>\n",
       "      <td>1.53</td>\n",
       "      <td>23.10</td>\n",
       "      <td>49.29</td>\n",
       "      <td>0.20</td>\n",
       "      <td>1.468335</td>\n",
       "    </tr>\n",
       "    <tr>\n",
       "      <th>278</th>\n",
       "      <td>28.0</td>\n",
       "      <td>BASIC NET S.P.A.</td>\n",
       "      <td>BAN</td>\n",
       "      <td>IT0001033700</td>\n",
       "      <td>TO0631153</td>\n",
       "      <td>2014</td>\n",
       "      <td>2.262000</td>\n",
       "      <td>2.23</td>\n",
       "      <td>2.21</td>\n",
       "      <td>0.02</td>\n",
       "      <td>...</td>\n",
       "      <td>9.28</td>\n",
       "      <td>25.64</td>\n",
       "      <td>12.34</td>\n",
       "      <td>0.02</td>\n",
       "      <td>9.10</td>\n",
       "      <td>2.33</td>\n",
       "      <td>13.82</td>\n",
       "      <td>25.64</td>\n",
       "      <td>0.10</td>\n",
       "      <td>0.816249</td>\n",
       "    </tr>\n",
       "    <tr>\n",
       "      <th>279</th>\n",
       "      <td>28.0</td>\n",
       "      <td>BASIC NET S.P.A.</td>\n",
       "      <td>BAN</td>\n",
       "      <td>IT0001033700</td>\n",
       "      <td>TO0631153</td>\n",
       "      <td>2013</td>\n",
       "      <td>2.426000</td>\n",
       "      <td>1.93</td>\n",
       "      <td>1.91</td>\n",
       "      <td>0.01</td>\n",
       "      <td>...</td>\n",
       "      <td>7.79</td>\n",
       "      <td>22.94</td>\n",
       "      <td>5.83</td>\n",
       "      <td>0.02</td>\n",
       "      <td>8.35</td>\n",
       "      <td>3.55</td>\n",
       "      <td>8.35</td>\n",
       "      <td>42.59</td>\n",
       "      <td>0.17</td>\n",
       "      <td>0.886244</td>\n",
       "    </tr>\n",
       "  </tbody>\n",
       "</table>\n",
       "<p>280 rows × 22 columns</p>\n",
       "</div>"
      ],
      "text/plain": [
       "       ID   Ragione_sociale Ticker_symbol   ISIN_number Numero_CCIAA  Anni  \\\n",
       "0     1.0       MARR S.P.A.          MARR  IT0003428445    RN0276618  2022   \n",
       "1     1.0       MARR S.P.A.          MARR  IT0003428445    RN0276618  2021   \n",
       "2     1.0       MARR S.P.A.          MARR  IT0003428445    RN0276618  2020   \n",
       "3     1.0       MARR S.P.A.          MARR  IT0003428445    RN0276618  2019   \n",
       "4     1.0       MARR S.P.A.          MARR  IT0003428445    RN0276618  2018   \n",
       "..    ...               ...           ...           ...          ...   ...   \n",
       "275  28.0  BASIC NET S.P.A.           BAN  IT0001033700    TO0631153  2017   \n",
       "276  28.0  BASIC NET S.P.A.           BAN  IT0001033700    TO0631153  2016   \n",
       "277  28.0  BASIC NET S.P.A.           BAN  IT0001033700    TO0631153  2015   \n",
       "278  28.0  BASIC NET S.P.A.           BAN  IT0001033700    TO0631153  2014   \n",
       "279  28.0  BASIC NET S.P.A.           BAN  IT0001033700    TO0631153  2013   \n",
       "\n",
       "     Valori_Borsa  Indice_corrente  Indice_di_liquidità  Rotaz_cap_investito  \\\n",
       "0       12.300000             1.58                 1.18                 1.55   \n",
       "1       18.820000             1.57                 1.20                 1.17   \n",
       "2       17.799999             1.70                 1.38                 0.98   \n",
       "3       21.200001             1.46                 1.16                 1.46   \n",
       "4       21.520000             1.67                 1.34                 1.54   \n",
       "..            ...              ...                  ...                  ...   \n",
       "275      3.760000             3.34                 3.31                 0.02   \n",
       "276      3.322000             2.39                 2.37                 0.02   \n",
       "277      4.342000             2.55                 2.53                 0.02   \n",
       "278      2.262000             2.23                 2.21                 0.02   \n",
       "279      2.426000             1.93                 1.91                 0.01   \n",
       "\n",
       "     ...  Redditività_di_tutto_il_capitale_investito  \\\n",
       "0    ...                                        5.34   \n",
       "1    ...                                        7.26   \n",
       "2    ...                                        0.12   \n",
       "3    ...                                       13.31   \n",
       "4    ...                                       14.36   \n",
       "..   ...                                         ...   \n",
       "275  ...                                        7.48   \n",
       "276  ...                                        8.08   \n",
       "277  ...                                        9.94   \n",
       "278  ...                                        9.28   \n",
       "279  ...                                        7.79   \n",
       "\n",
       "     Redditività_delle_vendite  Redditività_del_capitale_proprio  \\\n",
       "0                         2.22                              7.77   \n",
       "1                         3.83                              9.50   \n",
       "2                         0.09                             -1.25   \n",
       "3                         5.88                             19.42   \n",
       "4                         5.92                             20.32   \n",
       "..                         ...                               ...   \n",
       "275                      22.97                              5.28   \n",
       "276                      24.26                              8.55   \n",
       "277                      29.06                             13.71   \n",
       "278                      25.64                             12.34   \n",
       "279                      22.94                              5.83   \n",
       "\n",
       "     Indice_di_copertura_delle_immob  Costo_denaro_a_prestito  \\\n",
       "0                               0.45                     3.79   \n",
       "1                               0.42                     4.31   \n",
       "2                               0.37                     1.60   \n",
       "3                               0.33                     2.15   \n",
       "4                               0.20                     1.87   \n",
       "..                               ...                      ...   \n",
       "275                             0.03                     1.42   \n",
       "276                             0.02                     2.01   \n",
       "277                             0.02                     3.10   \n",
       "278                             0.02                     9.10   \n",
       "279                             0.02                     8.35   \n",
       "\n",
       "     Oneri_finanz_su_fatt  Grado_di_copertura_degli_interessi_passivi  \\\n",
       "0                    0.50                                        8.11   \n",
       "1                    0.68                                        8.88   \n",
       "2                    0.57                                        5.90   \n",
       "3                    0.40                                       19.02   \n",
       "4                    0.35                                       20.30   \n",
       "..                    ...                                         ...   \n",
       "275                  1.13                                       25.64   \n",
       "276                  1.26                                       25.00   \n",
       "277                  1.53                                       23.10   \n",
       "278                  2.33                                       13.82   \n",
       "279                  3.55                                        8.35   \n",
       "\n",
       "     Debiti_v_banche_su_fatt  Debt_Equity_ratio  log_Valori_Borsa  \n",
       "0                      13.25               0.95          2.509599  \n",
       "1                      15.76               0.86          2.934920  \n",
       "2                      35.37               1.29          2.879198  \n",
       "3                      18.59               1.04          3.054001  \n",
       "4                      18.72               0.94          3.068983  \n",
       "..                       ...                ...               ...  \n",
       "275                    79.55               0.35          1.324419  \n",
       "276                    62.68               0.27          1.200567  \n",
       "277                    49.29               0.20          1.468335  \n",
       "278                    25.64               0.10          0.816249  \n",
       "279                    42.59               0.17          0.886244  \n",
       "\n",
       "[280 rows x 22 columns]"
      ]
     },
     "execution_count": 46,
     "metadata": {},
     "output_type": "execute_result"
    }
   ],
   "source": [
    "df['log_Valori_Borsa'] = df['Valori_Borsa']\n",
    "df['Valori_Borsa'] = np.e**df['log_Valori_Borsa']\n",
    "df"
   ]
  },
  {
   "cell_type": "code",
   "execution_count": 58,
   "metadata": {},
   "outputs": [
    {
     "data": {
      "application/vnd.plotly.v1+json": {
       "config": {
        "plotlyServerURL": "https://plot.ly"
       },
       "data": [
        {
         "mode": "markers",
         "name": "Ticker MARR",
         "type": "scatter",
         "x": [
          1.58,
          1.57,
          1.7,
          1.46,
          1.67,
          1.57,
          1.52,
          1.77,
          1.39,
          1.69
         ],
         "xaxis": "x",
         "y": [
          2.509599277885271,
          2.9349201179417297,
          2.8791984144362717,
          3.054001217665676,
          3.0689827565651293,
          3.07915387116492,
          2.87073576176629,
          2.8887036625848097,
          2.691243082785829,
          2.4849066497880004
         ],
         "yaxis": "y"
        },
        {
         "mode": "markers",
         "name": "Ticker MARR",
         "type": "scatter",
         "x": [
          1.58,
          1.57,
          1.7,
          1.46,
          1.67,
          1.57,
          1.52,
          1.77,
          1.39,
          1.69
         ],
         "xaxis": "x2",
         "y": [
          12.30000019073486,
          18.819999694824215,
          17.799999237060547,
          21.20000076293945,
          21.520000457763665,
          21.73999977111816,
          17.64999961853027,
          17.969999313354485,
          14.749999999999998,
          11.999999999999998
         ],
         "yaxis": "y2"
        },
        {
         "mode": "markers",
         "name": "Ticker PIA",
         "type": "scatter",
         "x": [
          0.98,
          0.95,
          0.79,
          0.83,
          0.97,
          0.87,
          1,
          1.07,
          1.05,
          0.88
         ],
         "xaxis": "x",
         "y": [
          1.077048147781857,
          1.0522192777352672,
          0.9962103346242122,
          1.007957923880542,
          0.6392188284692253,
          0.917889432671393,
          0.48365994275805774,
          0.698134717326336,
          0.9066443833247319,
          0.8569652431213597
         ],
         "yaxis": "y"
        },
        {
         "mode": "markers",
         "name": "Ticker PIA",
         "type": "scatter",
         "x": [
          0.98,
          0.95,
          0.79,
          0.83,
          0.97,
          0.87,
          1,
          1.07,
          1.05,
          0.88
         ],
         "xaxis": "x2",
         "y": [
          2.9360001087188716,
          2.864000082015991,
          2.7079999446868896,
          2.740000009536743,
          1.8949999809265134,
          2.503999948501587,
          1.621999979019165,
          2.009999990463257,
          2.476000070571899,
          2.3559999465942383
         ],
         "yaxis": "y2"
        },
        {
         "mode": "markers",
         "name": "Ticker BRE",
         "type": "scatter",
         "x": [
          1.55,
          1.64,
          1.99,
          1.32,
          1.14,
          1.65,
          1.27,
          1.21,
          1.28,
          1.06
         ],
         "xaxis": "x",
         "y": [
          2.4033350340342152,
          2.564179813062659,
          2.393218807006317,
          2.404238719152724,
          2.320425041100351,
          2.58475200201879,
          2.4890646757652832,
          2.07969149231976,
          1.6815725236803198,
          1.3681303836941336
         ],
         "yaxis": "y"
        },
        {
         "mode": "markers",
         "name": "Ticker BRE",
         "type": "scatter",
         "x": [
          1.55,
          1.64,
          1.99,
          1.32,
          1.14,
          1.65,
          1.27,
          1.21,
          1.28,
          1.06
         ],
         "xaxis": "x2",
         "y": [
          11.0600004196167,
          12.989999771118162,
          10.948678970336912,
          11.069999694824217,
          10.180000305175781,
          13.260000228881834,
          12.050000190734862,
          8.001999855041504,
          5.374000072479247,
          3.9279999732971187
         ],
         "yaxis": "y2"
        },
        {
         "mode": "markers",
         "name": "Ticker DAN",
         "type": "scatter",
         "x": [
          0.8,
          0.82,
          0.84,
          0.84,
          0.82,
          0.65,
          0.89,
          0.8,
          0.67,
          0.72
         ],
         "xaxis": "x",
         "y": [
          3.104586644253541,
          3.2790297189519984,
          2.7265447662626667,
          2.8154087651077058,
          2.785011289333365,
          3.0516398874558934,
          3.0243197266987147,
          2.740840023925201,
          3.000222186422059,
          3.2308043655777645
         ],
         "yaxis": "y"
        },
        {
         "mode": "markers",
         "name": "Ticker DAN",
         "type": "scatter",
         "x": [
          0.8,
          0.82,
          0.84,
          0.84,
          0.82,
          0.65,
          0.89,
          0.8,
          0.67,
          0.72
         ],
         "xaxis": "x2",
         "y": [
          22.299999237060543,
          26.549999237060547,
          15.279999732971186,
          16.700000762939453,
          16.20000076293945,
          21.149999618530277,
          20.57999992370605,
          15.499999999999996,
          20.090000152587887,
          25.299999237060543
         ],
         "yaxis": "y2"
        },
        {
         "mode": "markers",
         "name": "Ticker BC",
         "type": "scatter",
         "x": [
          1.53,
          1.58,
          1.21,
          1.81,
          1.92,
          2.15,
          2.18,
          2.17,
          2.1,
          1.87
         ],
         "xaxis": "x",
         "y": [
          4.269697449699962,
          4.107589776423775,
          3.5333946002941827,
          3.5587707383536116,
          3.349904087274605,
          3.363841581918742,
          3.0267462864029175,
          2.7033726319915394,
          2.8735646826837065,
          3.1705255511154085
         ],
         "yaxis": "y"
        },
        {
         "mode": "markers",
         "name": "Ticker BC",
         "type": "scatter",
         "x": [
          1.53,
          1.58,
          1.21,
          1.81,
          1.92,
          2.15,
          2.18,
          2.17,
          2.1,
          1.87
         ],
         "xaxis": "x2",
         "y": [
          71.49999999999996,
          60.79999923706053,
          34.2400016784668,
          35.11999893188476,
          28.499999999999996,
          28.89999961853027,
          20.6299991607666,
          14.930000305175776,
          17.70000076293945,
          23.81999969482422
         ],
         "yaxis": "y2"
        },
        {
         "mode": "markers",
         "name": "Ticker CLI",
         "type": "scatter",
         "x": [
          0.9,
          0.95,
          0.99,
          0.97,
          1.3,
          1.64,
          1.13,
          1.35,
          1.2,
          1.21
         ],
         "xaxis": "x",
         "y": [
          1.0543119898966447,
          1.2412686000947695,
          0.9001613654511708,
          0.9162907318741551,
          1.007957923880542,
          1.2584609841914016,
          1.1052568250710544,
          1.1933162536324886,
          0.9895412148852936,
          0.6418538736240484
         ],
         "yaxis": "y"
        },
        {
         "mode": "markers",
         "name": "Ticker CLI",
         "type": "scatter",
         "x": [
          0.9,
          0.95,
          0.99,
          0.97,
          1.3,
          1.64,
          1.13,
          1.35,
          1.2,
          1.21
         ],
         "xaxis": "x2",
         "y": [
          2.869999885559082,
          3.4600000381469727,
          2.4600000381469727,
          2.5,
          2.740000009536743,
          3.5199999809265132,
          3.0199999809265137,
          3.29800009727478,
          2.6900000572204585,
          1.899999976158142
         ],
         "yaxis": "y2"
        },
        {
         "mode": "markers",
         "name": "Ticker ELC",
         "type": "scatter",
         "x": [
          1.16,
          1.1,
          1.41,
          1.12,
          1.09,
          1.03,
          1.06,
          1.01,
          0.92,
          0.96
         ],
         "xaxis": "x",
         "y": [
          1.120047588057166,
          1.264126716369702,
          1.1265516697226583,
          1.0885619624476819,
          0.4187103223098387,
          0.9082585678678127,
          0.6097655897614381,
          0.6418538736240484,
          0.5704144453674508,
          0.5709795358097567
         ],
         "yaxis": "y"
        },
        {
         "mode": "markers",
         "name": "Ticker ELC",
         "type": "scatter",
         "x": [
          1.16,
          1.1,
          1.41,
          1.12,
          1.09,
          1.03,
          1.06,
          1.01,
          0.92,
          0.96
         ],
         "xaxis": "x2",
         "y": [
          3.065000057220459,
          3.5399999618530273,
          3.0850000381469727,
          2.9700000286102286,
          1.5199999809265137,
          2.4800000190734863,
          1.840000033378601,
          1.899999976158142,
          1.7690000534057615,
          1.7699999809265134
         ],
         "yaxis": "y2"
        },
        {
         "mode": "markers",
         "name": "Ticker GPI",
         "type": "scatter",
         "x": [
          2.12,
          1.48,
          1.84,
          1.65,
          1.76,
          1.66,
          2.07,
          1.27,
          1.21,
          1.04
         ],
         "xaxis": "x",
         "y": [
          2.653241951175182,
          2.803360380906535,
          2.101692187922208,
          2.0464016580303386,
          2.121063234666565,
          2.3702437236421723,
          2.3223877015907286,
          2.282382405139267,
          null,
          null
         ],
         "yaxis": "y"
        },
        {
         "mode": "markers",
         "name": "Ticker GPI",
         "type": "scatter",
         "x": [
          2.12,
          1.48,
          1.84,
          1.65,
          1.76,
          1.66,
          2.07,
          1.27,
          1.21,
          1.04
         ],
         "xaxis": "x2",
         "y": [
          14.199999809265131,
          16.499999999999996,
          8.180000305175781,
          7.739999771118162,
          8.340000152587889,
          10.699999809265137,
          10.199999809265133,
          9.800000190734862,
          null,
          null
         ],
         "yaxis": "y2"
        },
        {
         "mode": "markers",
         "name": "Ticker SRI",
         "type": "scatter",
         "x": [
          0.61,
          0.55,
          0.52,
          0.6,
          0.68,
          0.74,
          0.78,
          0.8,
          0.76,
          0.72
         ],
         "xaxis": "x",
         "y": [
          0.18647960255701124,
          0.7443154761953833,
          0.8285518009080817,
          1.169381368441481,
          1.2974631708642825,
          1.911022923913132,
          1.2974631708642825,
          1.341296964264569,
          1.3942625468528604,
          1.4148818606044733
         ],
         "yaxis": "y"
        },
        {
         "mode": "markers",
         "name": "Ticker SRI",
         "type": "scatter",
         "x": [
          0.61,
          0.55,
          0.52,
          0.6,
          0.68,
          0.74,
          0.78,
          0.8,
          0.76,
          0.72
         ],
         "xaxis": "x2",
         "y": [
          1.2050000429153442,
          2.1050000190734863,
          2.289999961853028,
          3.2200000286102286,
          3.660000085830689,
          6.760000228881836,
          3.660000085830689,
          3.8239998817443848,
          4.0320000648498535,
          4.116000175476073
         ],
         "yaxis": "y2"
        },
        {
         "mode": "markers",
         "name": "Ticker ALA",
         "type": "scatter",
         "x": [
          1.98,
          2.31,
          1.61,
          1.27,
          1.17,
          1.09,
          1.24,
          1.4,
          1.33,
          1.59
         ],
         "xaxis": "x",
         "y": [
          2.4680995476355903,
          2.3655598563366795,
          null,
          null,
          null,
          null,
          null,
          null,
          null,
          null
         ],
         "yaxis": "y"
        },
        {
         "mode": "markers",
         "name": "Ticker ALA",
         "type": "scatter",
         "x": [
          1.98,
          2.31,
          1.61,
          1.27,
          1.17,
          1.09,
          1.24,
          1.4,
          1.33,
          1.59
         ],
         "xaxis": "x2",
         "y": [
          11.80000019073486,
          10.64999961853027,
          null,
          null,
          null,
          null,
          null,
          null,
          null,
          null
         ],
         "yaxis": "y2"
        },
        {
         "mode": "markers",
         "name": "Ticker ICF",
         "type": "scatter",
         "x": [
          2.1,
          2.16,
          2.03,
          2.37,
          2.27,
          1.9,
          2.07,
          1.7,
          1.36,
          1.07
         ],
         "xaxis": "x",
         "y": [
          1.7155980979710415,
          1.8277698730198415,
          1.6974487967434386,
          null,
          null,
          null,
          null,
          null,
          null,
          null
         ],
         "yaxis": "y"
        },
        {
         "mode": "markers",
         "name": "Ticker ICF",
         "type": "scatter",
         "x": [
          2.1,
          2.16,
          2.03,
          2.37,
          2.27,
          1.9,
          2.07,
          1.7,
          1.36,
          1.07
         ],
         "xaxis": "x2",
         "y": [
          5.55999994277954,
          6.2199997901916495,
          5.460000038146972,
          null,
          null,
          null,
          null,
          null,
          null,
          null
         ],
         "yaxis": "y2"
        },
        {
         "mode": "markers",
         "name": "Ticker ENV",
         "type": "scatter",
         "x": [
          1.67,
          1.82,
          1.91,
          1.24,
          1.31,
          1.46,
          1.62,
          1.37,
          1.54,
          1.67
         ],
         "xaxis": "x",
         "y": [
          1.190887553182456,
          1.3350010541839938,
          1.1939224540228235,
          1.2208299523375428,
          1.1847899790762915,
          1.2470322992672698,
          1.0224509174110963,
          1.0260415821605242,
          1.249901738946927,
          1.1499389134175557
         ],
         "yaxis": "y"
        },
        {
         "mode": "markers",
         "name": "Ticker ENV",
         "type": "scatter",
         "x": [
          1.67,
          1.82,
          1.91,
          1.24,
          1.31,
          1.46,
          1.62,
          1.37,
          1.54,
          1.67
         ],
         "xaxis": "x2",
         "y": [
          3.289999961853028,
          3.799999952316284,
          3.2999999523162837,
          3.390000104904175,
          3.2699999809265132,
          3.480000019073486,
          2.7799999713897705,
          2.7899999618530273,
          3.4900000095367427,
          3.1579999923706046
         ],
         "yaxis": "y2"
        },
        {
         "mode": "markers",
         "name": "Ticker MASI",
         "type": "scatter",
         "x": [
          4.19,
          4,
          5.16,
          5.05,
          5.6,
          5.64,
          4.14,
          4.12,
          3.51,
          3.47
         ],
         "xaxis": "x",
         "y": [
          1.5062972042644385,
          1.348073123528931,
          0.943905872931563,
          1.1568812177849161,
          1.348073123528931,
          1.5040773967762742,
          1.4609378908394477,
          1.4816045625986316,
          null,
          null
         ],
         "yaxis": "y"
        },
        {
         "mode": "markers",
         "name": "Ticker MASI",
         "type": "scatter",
         "x": [
          4.19,
          4,
          5.16,
          5.05,
          5.6,
          5.64,
          4.14,
          4.12,
          3.51,
          3.47
         ],
         "xaxis": "x2",
         "y": [
          4.510000228881836,
          3.8499999046325675,
          2.569999933242798,
          3.180000066757202,
          3.8499999046325675,
          4.5,
          4.30999994277954,
          4.400000095367432,
          null,
          null
         ],
         "yaxis": "y2"
        },
        {
         "mode": "markers",
         "name": "Ticker SVS",
         "type": "scatter",
         "x": [
          1.7,
          1.9,
          1.22,
          1.12,
          1.07,
          0.89,
          0.94,
          0.87,
          0.92,
          0.92
         ],
         "xaxis": "x",
         "y": [
          2.3015845697493673,
          null,
          null,
          null,
          null,
          null,
          null,
          null,
          null,
          null
         ],
         "yaxis": "y"
        },
        {
         "mode": "markers",
         "name": "Ticker SVS",
         "type": "scatter",
         "x": [
          1.7,
          1.9,
          1.22,
          1.12,
          1.07,
          0.89,
          0.94,
          0.87,
          0.92,
          0.92
         ],
         "xaxis": "x2",
         "y": [
          9.989999771118164,
          null,
          null,
          null,
          null,
          null,
          null,
          null,
          null,
          null
         ],
         "yaxis": "y2"
        },
        {
         "mode": "markers",
         "name": "Ticker STAR7",
         "type": "scatter",
         "x": [
          1.69,
          1.96,
          1.9,
          1.26,
          1.25,
          1.33,
          1.31,
          1.29,
          1.35,
          1.43
         ],
         "xaxis": "x",
         "y": [
          2.1679101634795908,
          2.264883237693826,
          null,
          null,
          null,
          null,
          null,
          null,
          null,
          null
         ],
         "yaxis": "y"
        },
        {
         "mode": "markers",
         "name": "Ticker STAR7",
         "type": "scatter",
         "x": [
          1.69,
          1.96,
          1.9,
          1.26,
          1.25,
          1.33,
          1.31,
          1.29,
          1.35,
          1.43
         ],
         "xaxis": "x2",
         "y": [
          8.739999771118164,
          9.630000114440916,
          null,
          null,
          null,
          null,
          null,
          null,
          null,
          null
         ],
         "yaxis": "y2"
        },
        {
         "mode": "markers",
         "name": "Ticker SCK",
         "type": "scatter",
         "x": [
          1.79,
          2.85,
          2.05,
          1.44,
          1.46,
          0.98,
          1.08,
          1.01,
          0.88,
          0.89
         ],
         "xaxis": "x",
         "y": [
          2.0333975857027218,
          2.356125878001209,
          1.1151415749853149,
          0.15700371212988268,
          -0.31471071871163714,
          null,
          null,
          null,
          null,
          null
         ],
         "yaxis": "y"
        },
        {
         "mode": "markers",
         "name": "Ticker SCK",
         "type": "scatter",
         "x": [
          1.79,
          2.85,
          2.05,
          1.44,
          1.46,
          0.98,
          1.08,
          1.01,
          0.88,
          0.89
         ],
         "xaxis": "x2",
         "y": [
          7.639999866485597,
          10.55000019073486,
          3.0499999523162837,
          1.1699999570846558,
          0.7300000190734863,
          null,
          null,
          null,
          null,
          null
         ],
         "yaxis": "y2"
        },
        {
         "mode": "markers",
         "name": "Ticker MARP",
         "type": "scatter",
         "x": [
          2.04,
          1.81,
          2.14,
          1.96,
          1.69,
          1.67,
          1.45,
          1.51,
          1.14,
          1.13
         ],
         "xaxis": "x",
         "y": [
          1.4060969697165737,
          1.5475624681341262,
          1.0296194001512595,
          1.508511989624342,
          null,
          null,
          null,
          null,
          null,
          null
         ],
         "yaxis": "y"
        },
        {
         "mode": "markers",
         "name": "Ticker MARP",
         "type": "scatter",
         "x": [
          2.04,
          1.81,
          2.14,
          1.96,
          1.69,
          1.67,
          1.45,
          1.51,
          1.14,
          1.13
         ],
         "xaxis": "x2",
         "y": [
          4.079999923706054,
          4.699999809265136,
          2.7999999523162837,
          4.519999980926514,
          null,
          null,
          null,
          null,
          null,
          null
         ],
         "yaxis": "y2"
        },
        {
         "mode": "markers",
         "name": "Ticker ITD",
         "type": "scatter",
         "x": [
          0.82,
          0.8,
          1.12,
          1.85,
          2.02,
          0.81,
          0.85,
          0.84,
          1.41,
          1.47
         ],
         "xaxis": "x",
         "y": [
          2.6672281800910014,
          2.972975247406338,
          2.3513752571634776,
          1.8082887555452603,
          1.0986122886681098,
          null,
          null,
          null,
          null,
          null
         ],
         "yaxis": "y"
        },
        {
         "mode": "markers",
         "name": "Ticker ITD",
         "type": "scatter",
         "x": [
          0.82,
          0.8,
          1.12,
          1.85,
          2.02,
          0.81,
          0.85,
          0.84,
          1.41,
          1.47
         ],
         "xaxis": "x2",
         "y": [
          14.399999618530272,
          19.549999237060543,
          10.499999999999998,
          6.0999999046325675,
          3,
          null,
          null,
          null,
          null,
          null
         ],
         "yaxis": "y2"
        },
        {
         "mode": "markers",
         "name": "Ticker VIM",
         "type": "scatter",
         "x": [
          1.1,
          1.31,
          1.68,
          1.26,
          1.55,
          1.26,
          1.24,
          1.29,
          1.23,
          1.31
         ],
         "xaxis": "x",
         "y": [
          0.13102824985805775,
          0.4637340372249708,
          0.18232159653038368,
          0.7654678864965156,
          1.0818051865157,
          null,
          null,
          null,
          null,
          null
         ],
         "yaxis": "y"
        },
        {
         "mode": "markers",
         "name": "Ticker VIM",
         "type": "scatter",
         "x": [
          1.1,
          1.31,
          1.68,
          1.26,
          1.55,
          1.26,
          1.24,
          1.29,
          1.23,
          1.31
         ],
         "xaxis": "x2",
         "y": [
          1.1399999856948853,
          1.590000033378601,
          1.2000000476837158,
          2.150000095367432,
          2.950000047683716,
          null,
          null,
          null,
          null,
          null
         ],
         "yaxis": "y2"
        },
        {
         "mode": "markers",
         "name": "Ticker MDC",
         "type": "scatter",
         "x": [
          1.14,
          1.69,
          1.03,
          0.8,
          0.82,
          0.76,
          0.94,
          0.92,
          1.04,
          1.01
         ],
         "xaxis": "x",
         "y": [
          3.228826155721369,
          3.640214242083339,
          null,
          null,
          null,
          null,
          null,
          null,
          null,
          null
         ],
         "yaxis": "y"
        },
        {
         "mode": "markers",
         "name": "Ticker MDC",
         "type": "scatter",
         "x": [
          1.14,
          1.69,
          1.03,
          0.8,
          0.82,
          0.76,
          0.94,
          0.92,
          1.04,
          1.01
         ],
         "xaxis": "x2",
         "y": [
          25.249999999999996,
          38.09999847412107,
          null,
          null,
          null,
          null,
          null,
          null,
          null,
          null
         ],
         "yaxis": "y2"
        },
        {
         "mode": "markers",
         "name": "Ticker ILP",
         "type": "scatter",
         "x": [
          2.16,
          2.28,
          2.18,
          1.61,
          1.25,
          1.76,
          1.5,
          1.48,
          1.58,
          1.53
         ],
         "xaxis": "x",
         "y": [
          1.490654389331624,
          1.508511989624342,
          0.7129497891566287,
          0.779324907423567,
          null,
          null,
          null,
          null,
          null,
          null
         ],
         "yaxis": "y"
        },
        {
         "mode": "markers",
         "name": "Ticker ILP",
         "type": "scatter",
         "x": [
          2.16,
          2.28,
          2.18,
          1.61,
          1.25,
          1.76,
          1.5,
          1.48,
          1.58,
          1.53
         ],
         "xaxis": "x2",
         "y": [
          4.440000057220458,
          4.519999980926514,
          2.039999961853028,
          2.180000066757202,
          null,
          null,
          null,
          null,
          null,
          null
         ],
         "yaxis": "y2"
        },
        {
         "mode": "markers",
         "name": "Ticker CFL",
         "type": "scatter",
         "x": [
          2.98,
          3.41,
          1.74,
          1.39,
          1.38,
          1.38,
          1.43,
          1.45,
          1.47,
          1.4
         ],
         "xaxis": "x",
         "y": [
          2.536866415880321,
          2.7549338039876257,
          null,
          null,
          null,
          null,
          null,
          null,
          null,
          null
         ],
         "yaxis": "y"
        },
        {
         "mode": "markers",
         "name": "Ticker CFL",
         "type": "scatter",
         "x": [
          2.98,
          3.41,
          1.74,
          1.39,
          1.38,
          1.38,
          1.43,
          1.45,
          1.47,
          1.4
         ],
         "xaxis": "x2",
         "y": [
          12.64000034332275,
          15.720000267028805,
          null,
          null,
          null,
          null,
          null,
          null,
          null,
          null
         ],
         "yaxis": "y2"
        },
        {
         "mode": "markers",
         "name": "Ticker FCM",
         "type": "scatter",
         "x": [
          1.36,
          2.15,
          1.71,
          1.58,
          1.07,
          0.84,
          0.71,
          0.75,
          0.76,
          0.62
         ],
         "xaxis": "x",
         "y": [
          0.12221762850445134,
          0.2350721108710924,
          0.2350721108710924,
          0.47933496257972397,
          null,
          null,
          null,
          null,
          null,
          null
         ],
         "yaxis": "y"
        },
        {
         "mode": "markers",
         "name": "Ticker FCM",
         "type": "scatter",
         "x": [
          1.36,
          2.15,
          1.71,
          1.58,
          1.07,
          0.84,
          0.71,
          0.75,
          0.76,
          0.62
         ],
         "xaxis": "x2",
         "y": [
          1.1299999952316284,
          1.2649999856948853,
          1.2649999856948853,
          1.6150000095367432,
          null,
          null,
          null,
          null,
          null,
          null
         ],
         "yaxis": "y2"
        },
        {
         "mode": "markers",
         "name": "Ticker FVI",
         "type": "scatter",
         "x": [
          3.08,
          3.3,
          6.46,
          4.17,
          5.12,
          2.82,
          3.21,
          2.75,
          2.19,
          2.29
         ],
         "xaxis": "x",
         "y": [
          2.7440606508911505,
          2.69462719365756,
          2.509599277885271,
          2.4248027425974863,
          2.4061257641178835,
          null,
          null,
          null,
          null,
          null
         ],
         "yaxis": "y"
        },
        {
         "mode": "markers",
         "name": "Ticker FVI",
         "type": "scatter",
         "x": [
          3.08,
          3.3,
          6.46,
          4.17,
          5.12,
          2.82,
          3.21,
          2.75,
          2.19,
          2.29
         ],
         "xaxis": "x2",
         "y": [
          15.550000190734858,
          14.800000190734858,
          12.30000019073486,
          11.300000190734863,
          11.090909004211426,
          null,
          null,
          null,
          null,
          null
         ],
         "yaxis": "y2"
        },
        {
         "mode": "markers",
         "name": "Ticker PLT",
         "type": "scatter",
         "x": [
          1.16,
          0.96,
          2.35,
          0.9,
          0.67,
          0.67,
          1.32,
          1.64,
          1.44,
          1.2
         ],
         "xaxis": "x",
         "y": [
          null,
          null,
          null,
          null,
          null,
          null,
          null,
          null,
          null,
          null
         ],
         "yaxis": "y"
        },
        {
         "mode": "markers",
         "name": "Ticker PLT",
         "type": "scatter",
         "x": [
          1.16,
          0.96,
          2.35,
          0.9,
          0.67,
          0.67,
          1.32,
          1.64,
          1.44,
          1.2
         ],
         "xaxis": "x2",
         "y": [
          null,
          null,
          null,
          null,
          null,
          null,
          null,
          null,
          null,
          null
         ],
         "yaxis": "y2"
        },
        {
         "mode": "markers",
         "name": "Ticker LDB",
         "type": "scatter",
         "x": [
          1.23,
          2.03,
          1.78,
          1.32,
          1.13,
          1.02,
          0.91,
          1.15,
          0.82,
          1.03
         ],
         "xaxis": "x",
         "y": [
          0.6291418754934363,
          0.7952523647473517,
          null,
          null,
          null,
          null,
          null,
          null,
          null,
          null
         ],
         "yaxis": "y"
        },
        {
         "mode": "markers",
         "name": "Ticker LDB",
         "type": "scatter",
         "x": [
          1.23,
          2.03,
          1.78,
          1.32,
          1.13,
          1.02,
          0.91,
          1.15,
          0.82,
          1.03
         ],
         "xaxis": "x2",
         "y": [
          1.876000046730041,
          2.2149999141693115,
          null,
          null,
          null,
          null,
          null,
          null,
          null,
          null
         ],
         "yaxis": "y2"
        },
        {
         "mode": "markers",
         "name": "Ticker FOS",
         "type": "scatter",
         "x": [
          1.95,
          2.38,
          2.72,
          2.14,
          1.04,
          1.43,
          1.68,
          1.62,
          1.34,
          1.32
         ],
         "xaxis": "x",
         "y": [
          1.2119409427536318,
          1.3506671562994919,
          0.9082585678678127,
          1.1426291710428607,
          null,
          null,
          null,
          null,
          null,
          null
         ],
         "yaxis": "y"
        },
        {
         "mode": "markers",
         "name": "Ticker FOS",
         "type": "scatter",
         "x": [
          1.95,
          2.38,
          2.72,
          2.14,
          1.04,
          1.43,
          1.68,
          1.62,
          1.34,
          1.32
         ],
         "xaxis": "x2",
         "y": [
          3.359999895095825,
          3.859999895095825,
          2.4800000190734863,
          3.1349999904632564,
          null,
          null,
          null,
          null,
          null,
          null
         ],
         "yaxis": "y2"
        },
        {
         "mode": "markers",
         "name": "Ticker BAN",
         "type": "scatter",
         "x": [
          2.51,
          2.34,
          2.66,
          2.78,
          3.32,
          3.34,
          2.39,
          2.55,
          2.23,
          1.93
         ],
         "xaxis": "x",
         "y": [
          1.6992785780777009,
          1.814824720414034,
          1.4586150670564606,
          1.6677068565457855,
          1.4929040533163809,
          1.3244189548654353,
          1.2005670192292972,
          1.4683350732132154,
          0.8162494147953161,
          0.8862438592669583
         ],
         "yaxis": "y"
        },
        {
         "mode": "markers",
         "name": "Ticker BAN",
         "type": "scatter",
         "x": [
          2.51,
          2.34,
          2.66,
          2.78,
          3.32,
          3.34,
          2.39,
          2.55,
          2.23,
          1.93
         ],
         "xaxis": "x2",
         "y": [
          5.46999979019165,
          6.139999866485596,
          4.300000190734862,
          5.300000190734862,
          4.449999809265136,
          3.7599999904632564,
          3.3220000267028804,
          4.3420000076293945,
          2.26200008392334,
          2.4260001182556152
         ],
         "yaxis": "y2"
        }
       ],
       "layout": {
        "showlegend": false,
        "template": {
         "data": {
          "bar": [
           {
            "error_x": {
             "color": "#2a3f5f"
            },
            "error_y": {
             "color": "#2a3f5f"
            },
            "marker": {
             "line": {
              "color": "#E5ECF6",
              "width": 0.5
             },
             "pattern": {
              "fillmode": "overlay",
              "size": 10,
              "solidity": 0.2
             }
            },
            "type": "bar"
           }
          ],
          "barpolar": [
           {
            "marker": {
             "line": {
              "color": "#E5ECF6",
              "width": 0.5
             },
             "pattern": {
              "fillmode": "overlay",
              "size": 10,
              "solidity": 0.2
             }
            },
            "type": "barpolar"
           }
          ],
          "carpet": [
           {
            "aaxis": {
             "endlinecolor": "#2a3f5f",
             "gridcolor": "white",
             "linecolor": "white",
             "minorgridcolor": "white",
             "startlinecolor": "#2a3f5f"
            },
            "baxis": {
             "endlinecolor": "#2a3f5f",
             "gridcolor": "white",
             "linecolor": "white",
             "minorgridcolor": "white",
             "startlinecolor": "#2a3f5f"
            },
            "type": "carpet"
           }
          ],
          "choropleth": [
           {
            "colorbar": {
             "outlinewidth": 0,
             "ticks": ""
            },
            "type": "choropleth"
           }
          ],
          "contour": [
           {
            "colorbar": {
             "outlinewidth": 0,
             "ticks": ""
            },
            "colorscale": [
             [
              0,
              "#0d0887"
             ],
             [
              0.1111111111111111,
              "#46039f"
             ],
             [
              0.2222222222222222,
              "#7201a8"
             ],
             [
              0.3333333333333333,
              "#9c179e"
             ],
             [
              0.4444444444444444,
              "#bd3786"
             ],
             [
              0.5555555555555556,
              "#d8576b"
             ],
             [
              0.6666666666666666,
              "#ed7953"
             ],
             [
              0.7777777777777778,
              "#fb9f3a"
             ],
             [
              0.8888888888888888,
              "#fdca26"
             ],
             [
              1,
              "#f0f921"
             ]
            ],
            "type": "contour"
           }
          ],
          "contourcarpet": [
           {
            "colorbar": {
             "outlinewidth": 0,
             "ticks": ""
            },
            "type": "contourcarpet"
           }
          ],
          "heatmap": [
           {
            "colorbar": {
             "outlinewidth": 0,
             "ticks": ""
            },
            "colorscale": [
             [
              0,
              "#0d0887"
             ],
             [
              0.1111111111111111,
              "#46039f"
             ],
             [
              0.2222222222222222,
              "#7201a8"
             ],
             [
              0.3333333333333333,
              "#9c179e"
             ],
             [
              0.4444444444444444,
              "#bd3786"
             ],
             [
              0.5555555555555556,
              "#d8576b"
             ],
             [
              0.6666666666666666,
              "#ed7953"
             ],
             [
              0.7777777777777778,
              "#fb9f3a"
             ],
             [
              0.8888888888888888,
              "#fdca26"
             ],
             [
              1,
              "#f0f921"
             ]
            ],
            "type": "heatmap"
           }
          ],
          "heatmapgl": [
           {
            "colorbar": {
             "outlinewidth": 0,
             "ticks": ""
            },
            "colorscale": [
             [
              0,
              "#0d0887"
             ],
             [
              0.1111111111111111,
              "#46039f"
             ],
             [
              0.2222222222222222,
              "#7201a8"
             ],
             [
              0.3333333333333333,
              "#9c179e"
             ],
             [
              0.4444444444444444,
              "#bd3786"
             ],
             [
              0.5555555555555556,
              "#d8576b"
             ],
             [
              0.6666666666666666,
              "#ed7953"
             ],
             [
              0.7777777777777778,
              "#fb9f3a"
             ],
             [
              0.8888888888888888,
              "#fdca26"
             ],
             [
              1,
              "#f0f921"
             ]
            ],
            "type": "heatmapgl"
           }
          ],
          "histogram": [
           {
            "marker": {
             "pattern": {
              "fillmode": "overlay",
              "size": 10,
              "solidity": 0.2
             }
            },
            "type": "histogram"
           }
          ],
          "histogram2d": [
           {
            "colorbar": {
             "outlinewidth": 0,
             "ticks": ""
            },
            "colorscale": [
             [
              0,
              "#0d0887"
             ],
             [
              0.1111111111111111,
              "#46039f"
             ],
             [
              0.2222222222222222,
              "#7201a8"
             ],
             [
              0.3333333333333333,
              "#9c179e"
             ],
             [
              0.4444444444444444,
              "#bd3786"
             ],
             [
              0.5555555555555556,
              "#d8576b"
             ],
             [
              0.6666666666666666,
              "#ed7953"
             ],
             [
              0.7777777777777778,
              "#fb9f3a"
             ],
             [
              0.8888888888888888,
              "#fdca26"
             ],
             [
              1,
              "#f0f921"
             ]
            ],
            "type": "histogram2d"
           }
          ],
          "histogram2dcontour": [
           {
            "colorbar": {
             "outlinewidth": 0,
             "ticks": ""
            },
            "colorscale": [
             [
              0,
              "#0d0887"
             ],
             [
              0.1111111111111111,
              "#46039f"
             ],
             [
              0.2222222222222222,
              "#7201a8"
             ],
             [
              0.3333333333333333,
              "#9c179e"
             ],
             [
              0.4444444444444444,
              "#bd3786"
             ],
             [
              0.5555555555555556,
              "#d8576b"
             ],
             [
              0.6666666666666666,
              "#ed7953"
             ],
             [
              0.7777777777777778,
              "#fb9f3a"
             ],
             [
              0.8888888888888888,
              "#fdca26"
             ],
             [
              1,
              "#f0f921"
             ]
            ],
            "type": "histogram2dcontour"
           }
          ],
          "mesh3d": [
           {
            "colorbar": {
             "outlinewidth": 0,
             "ticks": ""
            },
            "type": "mesh3d"
           }
          ],
          "parcoords": [
           {
            "line": {
             "colorbar": {
              "outlinewidth": 0,
              "ticks": ""
             }
            },
            "type": "parcoords"
           }
          ],
          "pie": [
           {
            "automargin": true,
            "type": "pie"
           }
          ],
          "scatter": [
           {
            "fillpattern": {
             "fillmode": "overlay",
             "size": 10,
             "solidity": 0.2
            },
            "type": "scatter"
           }
          ],
          "scatter3d": [
           {
            "line": {
             "colorbar": {
              "outlinewidth": 0,
              "ticks": ""
             }
            },
            "marker": {
             "colorbar": {
              "outlinewidth": 0,
              "ticks": ""
             }
            },
            "type": "scatter3d"
           }
          ],
          "scattercarpet": [
           {
            "marker": {
             "colorbar": {
              "outlinewidth": 0,
              "ticks": ""
             }
            },
            "type": "scattercarpet"
           }
          ],
          "scattergeo": [
           {
            "marker": {
             "colorbar": {
              "outlinewidth": 0,
              "ticks": ""
             }
            },
            "type": "scattergeo"
           }
          ],
          "scattergl": [
           {
            "marker": {
             "colorbar": {
              "outlinewidth": 0,
              "ticks": ""
             }
            },
            "type": "scattergl"
           }
          ],
          "scattermapbox": [
           {
            "marker": {
             "colorbar": {
              "outlinewidth": 0,
              "ticks": ""
             }
            },
            "type": "scattermapbox"
           }
          ],
          "scatterpolar": [
           {
            "marker": {
             "colorbar": {
              "outlinewidth": 0,
              "ticks": ""
             }
            },
            "type": "scatterpolar"
           }
          ],
          "scatterpolargl": [
           {
            "marker": {
             "colorbar": {
              "outlinewidth": 0,
              "ticks": ""
             }
            },
            "type": "scatterpolargl"
           }
          ],
          "scatterternary": [
           {
            "marker": {
             "colorbar": {
              "outlinewidth": 0,
              "ticks": ""
             }
            },
            "type": "scatterternary"
           }
          ],
          "surface": [
           {
            "colorbar": {
             "outlinewidth": 0,
             "ticks": ""
            },
            "colorscale": [
             [
              0,
              "#0d0887"
             ],
             [
              0.1111111111111111,
              "#46039f"
             ],
             [
              0.2222222222222222,
              "#7201a8"
             ],
             [
              0.3333333333333333,
              "#9c179e"
             ],
             [
              0.4444444444444444,
              "#bd3786"
             ],
             [
              0.5555555555555556,
              "#d8576b"
             ],
             [
              0.6666666666666666,
              "#ed7953"
             ],
             [
              0.7777777777777778,
              "#fb9f3a"
             ],
             [
              0.8888888888888888,
              "#fdca26"
             ],
             [
              1,
              "#f0f921"
             ]
            ],
            "type": "surface"
           }
          ],
          "table": [
           {
            "cells": {
             "fill": {
              "color": "#EBF0F8"
             },
             "line": {
              "color": "white"
             }
            },
            "header": {
             "fill": {
              "color": "#C8D4E3"
             },
             "line": {
              "color": "white"
             }
            },
            "type": "table"
           }
          ]
         },
         "layout": {
          "annotationdefaults": {
           "arrowcolor": "#2a3f5f",
           "arrowhead": 0,
           "arrowwidth": 1
          },
          "autotypenumbers": "strict",
          "coloraxis": {
           "colorbar": {
            "outlinewidth": 0,
            "ticks": ""
           }
          },
          "colorscale": {
           "diverging": [
            [
             0,
             "#8e0152"
            ],
            [
             0.1,
             "#c51b7d"
            ],
            [
             0.2,
             "#de77ae"
            ],
            [
             0.3,
             "#f1b6da"
            ],
            [
             0.4,
             "#fde0ef"
            ],
            [
             0.5,
             "#f7f7f7"
            ],
            [
             0.6,
             "#e6f5d0"
            ],
            [
             0.7,
             "#b8e186"
            ],
            [
             0.8,
             "#7fbc41"
            ],
            [
             0.9,
             "#4d9221"
            ],
            [
             1,
             "#276419"
            ]
           ],
           "sequential": [
            [
             0,
             "#0d0887"
            ],
            [
             0.1111111111111111,
             "#46039f"
            ],
            [
             0.2222222222222222,
             "#7201a8"
            ],
            [
             0.3333333333333333,
             "#9c179e"
            ],
            [
             0.4444444444444444,
             "#bd3786"
            ],
            [
             0.5555555555555556,
             "#d8576b"
            ],
            [
             0.6666666666666666,
             "#ed7953"
            ],
            [
             0.7777777777777778,
             "#fb9f3a"
            ],
            [
             0.8888888888888888,
             "#fdca26"
            ],
            [
             1,
             "#f0f921"
            ]
           ],
           "sequentialminus": [
            [
             0,
             "#0d0887"
            ],
            [
             0.1111111111111111,
             "#46039f"
            ],
            [
             0.2222222222222222,
             "#7201a8"
            ],
            [
             0.3333333333333333,
             "#9c179e"
            ],
            [
             0.4444444444444444,
             "#bd3786"
            ],
            [
             0.5555555555555556,
             "#d8576b"
            ],
            [
             0.6666666666666666,
             "#ed7953"
            ],
            [
             0.7777777777777778,
             "#fb9f3a"
            ],
            [
             0.8888888888888888,
             "#fdca26"
            ],
            [
             1,
             "#f0f921"
            ]
           ]
          },
          "colorway": [
           "#636efa",
           "#EF553B",
           "#00cc96",
           "#ab63fa",
           "#FFA15A",
           "#19d3f3",
           "#FF6692",
           "#B6E880",
           "#FF97FF",
           "#FECB52"
          ],
          "font": {
           "color": "#2a3f5f"
          },
          "geo": {
           "bgcolor": "white",
           "lakecolor": "white",
           "landcolor": "#E5ECF6",
           "showlakes": true,
           "showland": true,
           "subunitcolor": "white"
          },
          "hoverlabel": {
           "align": "left"
          },
          "hovermode": "closest",
          "mapbox": {
           "style": "light"
          },
          "paper_bgcolor": "white",
          "plot_bgcolor": "#E5ECF6",
          "polar": {
           "angularaxis": {
            "gridcolor": "white",
            "linecolor": "white",
            "ticks": ""
           },
           "bgcolor": "#E5ECF6",
           "radialaxis": {
            "gridcolor": "white",
            "linecolor": "white",
            "ticks": ""
           }
          },
          "scene": {
           "xaxis": {
            "backgroundcolor": "#E5ECF6",
            "gridcolor": "white",
            "gridwidth": 2,
            "linecolor": "white",
            "showbackground": true,
            "ticks": "",
            "zerolinecolor": "white"
           },
           "yaxis": {
            "backgroundcolor": "#E5ECF6",
            "gridcolor": "white",
            "gridwidth": 2,
            "linecolor": "white",
            "showbackground": true,
            "ticks": "",
            "zerolinecolor": "white"
           },
           "zaxis": {
            "backgroundcolor": "#E5ECF6",
            "gridcolor": "white",
            "gridwidth": 2,
            "linecolor": "white",
            "showbackground": true,
            "ticks": "",
            "zerolinecolor": "white"
           }
          },
          "shapedefaults": {
           "line": {
            "color": "#2a3f5f"
           }
          },
          "ternary": {
           "aaxis": {
            "gridcolor": "white",
            "linecolor": "white",
            "ticks": ""
           },
           "baxis": {
            "gridcolor": "white",
            "linecolor": "white",
            "ticks": ""
           },
           "bgcolor": "#E5ECF6",
           "caxis": {
            "gridcolor": "white",
            "linecolor": "white",
            "ticks": ""
           }
          },
          "title": {
           "x": 0.05
          },
          "xaxis": {
           "automargin": true,
           "gridcolor": "white",
           "linecolor": "white",
           "ticks": "",
           "title": {
            "standoff": 15
           },
           "zerolinecolor": "white",
           "zerolinewidth": 2
          },
          "yaxis": {
           "automargin": true,
           "gridcolor": "white",
           "linecolor": "white",
           "ticks": "",
           "title": {
            "standoff": 15
           },
           "zerolinecolor": "white",
           "zerolinewidth": 2
          }
         }
        },
        "title": {
         "text": "Relazione tra Indice_corrente e Valori Borsa"
        },
        "xaxis": {
         "anchor": "y",
         "domain": [
          0,
          0.45
         ]
        },
        "xaxis2": {
         "anchor": "y2",
         "domain": [
          0.55,
          1
         ]
        },
        "yaxis": {
         "anchor": "x",
         "domain": [
          0,
          1
         ],
         "title": {
          "text": "Log Valori Borsa"
         }
        },
        "yaxis2": {
         "anchor": "x2",
         "domain": [
          0,
          1
         ],
         "title": {
          "text": "Valori Borsa"
         }
        }
       }
      }
     },
     "metadata": {},
     "output_type": "display_data"
    },
    {
     "data": {
      "application/vnd.plotly.v1+json": {
       "config": {
        "plotlyServerURL": "https://plot.ly"
       },
       "data": [
        {
         "mode": "markers",
         "name": "Ticker MARR",
         "type": "scatter",
         "x": [
          1.18,
          1.2,
          1.38,
          1.16,
          1.34,
          1.26,
          1.21,
          1.46,
          1.12,
          1.41
         ],
         "xaxis": "x",
         "y": [
          2.509599277885271,
          2.9349201179417297,
          2.8791984144362717,
          3.054001217665676,
          3.0689827565651293,
          3.07915387116492,
          2.87073576176629,
          2.8887036625848097,
          2.691243082785829,
          2.4849066497880004
         ],
         "yaxis": "y"
        },
        {
         "mode": "markers",
         "name": "Ticker MARR",
         "type": "scatter",
         "x": [
          1.18,
          1.2,
          1.38,
          1.16,
          1.34,
          1.26,
          1.21,
          1.46,
          1.12,
          1.41
         ],
         "xaxis": "x2",
         "y": [
          12.30000019073486,
          18.819999694824215,
          17.799999237060547,
          21.20000076293945,
          21.520000457763665,
          21.73999977111816,
          17.64999961853027,
          17.969999313354485,
          14.749999999999998,
          11.999999999999998
         ],
         "yaxis": "y2"
        },
        {
         "mode": "markers",
         "name": "Ticker PIA",
         "type": "scatter",
         "x": [
          0.6,
          0.63,
          0.54,
          0.49,
          0.53,
          0.47,
          0.63,
          0.62,
          0.61,
          0.49
         ],
         "xaxis": "x",
         "y": [
          1.077048147781857,
          1.0522192777352672,
          0.9962103346242122,
          1.007957923880542,
          0.6392188284692253,
          0.917889432671393,
          0.48365994275805774,
          0.698134717326336,
          0.9066443833247319,
          0.8569652431213597
         ],
         "yaxis": "y"
        },
        {
         "mode": "markers",
         "name": "Ticker PIA",
         "type": "scatter",
         "x": [
          0.6,
          0.63,
          0.54,
          0.49,
          0.53,
          0.47,
          0.63,
          0.62,
          0.61,
          0.49
         ],
         "xaxis": "x2",
         "y": [
          2.9360001087188716,
          2.864000082015991,
          2.7079999446868896,
          2.740000009536743,
          1.8949999809265134,
          2.503999948501587,
          1.621999979019165,
          2.009999990463257,
          2.476000070571899,
          2.3559999465942383
         ],
         "yaxis": "y2"
        },
        {
         "mode": "markers",
         "name": "Ticker BRE",
         "type": "scatter",
         "x": [
          1.23,
          1.38,
          1.7,
          1.04,
          0.91,
          1.29,
          0.92,
          0.89,
          0.97,
          0.75
         ],
         "xaxis": "x",
         "y": [
          2.4033350340342152,
          2.564179813062659,
          2.393218807006317,
          2.404238719152724,
          2.320425041100351,
          2.58475200201879,
          2.4890646757652832,
          2.07969149231976,
          1.6815725236803198,
          1.3681303836941336
         ],
         "yaxis": "y"
        },
        {
         "mode": "markers",
         "name": "Ticker BRE",
         "type": "scatter",
         "x": [
          1.23,
          1.38,
          1.7,
          1.04,
          0.91,
          1.29,
          0.92,
          0.89,
          0.97,
          0.75
         ],
         "xaxis": "x2",
         "y": [
          11.0600004196167,
          12.989999771118162,
          10.948678970336912,
          11.069999694824217,
          10.180000305175781,
          13.260000228881834,
          12.050000190734862,
          8.001999855041504,
          5.374000072479247,
          3.9279999732971187
         ],
         "yaxis": "y2"
        },
        {
         "mode": "markers",
         "name": "Ticker DAN",
         "type": "scatter",
         "x": [
          0.63,
          0.63,
          0.64,
          0.6,
          0.57,
          0.49,
          0.72,
          0.58,
          0.45,
          0.46
         ],
         "xaxis": "x",
         "y": [
          3.104586644253541,
          3.2790297189519984,
          2.7265447662626667,
          2.8154087651077058,
          2.785011289333365,
          3.0516398874558934,
          3.0243197266987147,
          2.740840023925201,
          3.000222186422059,
          3.2308043655777645
         ],
         "yaxis": "y"
        },
        {
         "mode": "markers",
         "name": "Ticker DAN",
         "type": "scatter",
         "x": [
          0.63,
          0.63,
          0.64,
          0.6,
          0.57,
          0.49,
          0.72,
          0.58,
          0.45,
          0.46
         ],
         "xaxis": "x2",
         "y": [
          22.299999237060543,
          26.549999237060547,
          15.279999732971186,
          16.700000762939453,
          16.20000076293945,
          21.149999618530277,
          20.57999992370605,
          15.499999999999996,
          20.090000152587887,
          25.299999237060543
         ],
         "yaxis": "y2"
        },
        {
         "mode": "markers",
         "name": "Ticker BC",
         "type": "scatter",
         "x": [
          1.04,
          0.99,
          0.77,
          1.12,
          1.16,
          1.24,
          1.24,
          1.26,
          1.3,
          1.15
         ],
         "xaxis": "x",
         "y": [
          4.269697449699962,
          4.107589776423775,
          3.5333946002941827,
          3.5587707383536116,
          3.349904087274605,
          3.363841581918742,
          3.0267462864029175,
          2.7033726319915394,
          2.8735646826837065,
          3.1705255511154085
         ],
         "yaxis": "y"
        },
        {
         "mode": "markers",
         "name": "Ticker BC",
         "type": "scatter",
         "x": [
          1.04,
          0.99,
          0.77,
          1.12,
          1.16,
          1.24,
          1.24,
          1.26,
          1.3,
          1.15
         ],
         "xaxis": "x2",
         "y": [
          71.49999999999996,
          60.79999923706053,
          34.2400016784668,
          35.11999893188476,
          28.499999999999996,
          28.89999961853027,
          20.6299991607666,
          14.930000305175776,
          17.70000076293945,
          23.81999969482422
         ],
         "yaxis": "y2"
        },
        {
         "mode": "markers",
         "name": "Ticker CLI",
         "type": "scatter",
         "x": [
          0.68,
          0.79,
          0.87,
          0.87,
          1.18,
          1.54,
          1.04,
          1.24,
          1.11,
          1.12
         ],
         "xaxis": "x",
         "y": [
          1.0543119898966447,
          1.2412686000947695,
          0.9001613654511708,
          0.9162907318741551,
          1.007957923880542,
          1.2584609841914016,
          1.1052568250710544,
          1.1933162536324886,
          0.9895412148852936,
          0.6418538736240484
         ],
         "yaxis": "y"
        },
        {
         "mode": "markers",
         "name": "Ticker CLI",
         "type": "scatter",
         "x": [
          0.68,
          0.79,
          0.87,
          0.87,
          1.18,
          1.54,
          1.04,
          1.24,
          1.11,
          1.12
         ],
         "xaxis": "x2",
         "y": [
          2.869999885559082,
          3.4600000381469727,
          2.4600000381469727,
          2.5,
          2.740000009536743,
          3.5199999809265132,
          3.0199999809265137,
          3.29800009727478,
          2.6900000572204585,
          1.899999976158142
         ],
         "yaxis": "y2"
        },
        {
         "mode": "markers",
         "name": "Ticker ELC",
         "type": "scatter",
         "x": [
          0.92,
          0.97,
          1.14,
          0.83,
          0.81,
          0.81,
          0.87,
          0.8,
          0.72,
          0.75
         ],
         "xaxis": "x",
         "y": [
          1.120047588057166,
          1.264126716369702,
          1.1265516697226583,
          1.0885619624476819,
          0.4187103223098387,
          0.9082585678678127,
          0.6097655897614381,
          0.6418538736240484,
          0.5704144453674508,
          0.5709795358097567
         ],
         "yaxis": "y"
        },
        {
         "mode": "markers",
         "name": "Ticker ELC",
         "type": "scatter",
         "x": [
          0.92,
          0.97,
          1.14,
          0.83,
          0.81,
          0.81,
          0.87,
          0.8,
          0.72,
          0.75
         ],
         "xaxis": "x2",
         "y": [
          3.065000057220459,
          3.5399999618530273,
          3.0850000381469727,
          2.9700000286102286,
          1.5199999809265137,
          2.4800000190734863,
          1.840000033378601,
          1.899999976158142,
          1.7690000534057615,
          1.7699999809265134
         ],
         "yaxis": "y2"
        },
        {
         "mode": "markers",
         "name": "Ticker GPI",
         "type": "scatter",
         "x": [
          1.4,
          1.45,
          1.8,
          1.62,
          1.73,
          1.62,
          2.04,
          1.15,
          1.2,
          1.03
         ],
         "xaxis": "x",
         "y": [
          2.653241951175182,
          2.803360380906535,
          2.101692187922208,
          2.0464016580303386,
          2.121063234666565,
          2.3702437236421723,
          2.3223877015907286,
          2.282382405139267,
          null,
          null
         ],
         "yaxis": "y"
        },
        {
         "mode": "markers",
         "name": "Ticker GPI",
         "type": "scatter",
         "x": [
          1.4,
          1.45,
          1.8,
          1.62,
          1.73,
          1.62,
          2.04,
          1.15,
          1.2,
          1.03
         ],
         "xaxis": "x2",
         "y": [
          14.199999809265131,
          16.499999999999996,
          8.180000305175781,
          7.739999771118162,
          8.340000152587889,
          10.699999809265137,
          10.199999809265133,
          9.800000190734862,
          null,
          null
         ],
         "yaxis": "y2"
        },
        {
         "mode": "markers",
         "name": "Ticker SRI",
         "type": "scatter",
         "x": [
          0.57,
          0.51,
          0.48,
          0.57,
          0.65,
          0.71,
          0.76,
          0.78,
          0.74,
          0.71
         ],
         "xaxis": "x",
         "y": [
          0.18647960255701124,
          0.7443154761953833,
          0.8285518009080817,
          1.169381368441481,
          1.2974631708642825,
          1.911022923913132,
          1.2974631708642825,
          1.341296964264569,
          1.3942625468528604,
          1.4148818606044733
         ],
         "yaxis": "y"
        },
        {
         "mode": "markers",
         "name": "Ticker SRI",
         "type": "scatter",
         "x": [
          0.57,
          0.51,
          0.48,
          0.57,
          0.65,
          0.71,
          0.76,
          0.78,
          0.74,
          0.71
         ],
         "xaxis": "x2",
         "y": [
          1.2050000429153442,
          2.1050000190734863,
          2.289999961853028,
          3.2200000286102286,
          3.660000085830689,
          6.760000228881836,
          3.660000085830689,
          3.8239998817443848,
          4.0320000648498535,
          4.116000175476073
         ],
         "yaxis": "y2"
        },
        {
         "mode": "markers",
         "name": "Ticker ALA",
         "type": "scatter",
         "x": [
          1.07,
          1.44,
          0.65,
          0.58,
          0.49,
          0.42,
          0.56,
          0.82,
          0.97,
          0.84
         ],
         "xaxis": "x",
         "y": [
          2.4680995476355903,
          2.3655598563366795,
          null,
          null,
          null,
          null,
          null,
          null,
          null,
          null
         ],
         "yaxis": "y"
        },
        {
         "mode": "markers",
         "name": "Ticker ALA",
         "type": "scatter",
         "x": [
          1.07,
          1.44,
          0.65,
          0.58,
          0.49,
          0.42,
          0.56,
          0.82,
          0.97,
          0.84
         ],
         "xaxis": "x2",
         "y": [
          11.80000019073486,
          10.64999961853027,
          null,
          null,
          null,
          null,
          null,
          null,
          null,
          null
         ],
         "yaxis": "y2"
        },
        {
         "mode": "markers",
         "name": "Ticker ICF",
         "type": "scatter",
         "x": [
          1.53,
          1.63,
          1.59,
          1.8,
          1.66,
          1.42,
          1.65,
          1.25,
          0.97,
          0.76
         ],
         "xaxis": "x",
         "y": [
          1.7155980979710415,
          1.8277698730198415,
          1.6974487967434386,
          null,
          null,
          null,
          null,
          null,
          null,
          null
         ],
         "yaxis": "y"
        },
        {
         "mode": "markers",
         "name": "Ticker ICF",
         "type": "scatter",
         "x": [
          1.53,
          1.63,
          1.59,
          1.8,
          1.66,
          1.42,
          1.65,
          1.25,
          0.97,
          0.76
         ],
         "xaxis": "x2",
         "y": [
          5.55999994277954,
          6.2199997901916495,
          5.460000038146972,
          null,
          null,
          null,
          null,
          null,
          null,
          null
         ],
         "yaxis": "y2"
        },
        {
         "mode": "markers",
         "name": "Ticker ENV",
         "type": "scatter",
         "x": [
          1.3,
          1.52,
          1.52,
          0.91,
          1,
          1.14,
          1.27,
          1.05,
          1.2,
          1.31
         ],
         "xaxis": "x",
         "y": [
          1.190887553182456,
          1.3350010541839938,
          1.1939224540228235,
          1.2208299523375428,
          1.1847899790762915,
          1.2470322992672698,
          1.0224509174110963,
          1.0260415821605242,
          1.249901738946927,
          1.1499389134175557
         ],
         "yaxis": "y"
        },
        {
         "mode": "markers",
         "name": "Ticker ENV",
         "type": "scatter",
         "x": [
          1.3,
          1.52,
          1.52,
          0.91,
          1,
          1.14,
          1.27,
          1.05,
          1.2,
          1.31
         ],
         "xaxis": "x2",
         "y": [
          3.289999961853028,
          3.799999952316284,
          3.2999999523162837,
          3.390000104904175,
          3.2699999809265132,
          3.480000019073486,
          2.7799999713897705,
          2.7899999618530273,
          3.4900000095367427,
          3.1579999923706046
         ],
         "yaxis": "y2"
        },
        {
         "mode": "markers",
         "name": "Ticker MASI",
         "type": "scatter",
         "x": [
          1.92,
          1.92,
          2.22,
          1.71,
          1.94,
          2.07,
          1.62,
          2.34,
          1.43,
          1.54
         ],
         "xaxis": "x",
         "y": [
          1.5062972042644385,
          1.348073123528931,
          0.943905872931563,
          1.1568812177849161,
          1.348073123528931,
          1.5040773967762742,
          1.4609378908394477,
          1.4816045625986316,
          null,
          null
         ],
         "yaxis": "y"
        },
        {
         "mode": "markers",
         "name": "Ticker MASI",
         "type": "scatter",
         "x": [
          1.92,
          1.92,
          2.22,
          1.71,
          1.94,
          2.07,
          1.62,
          2.34,
          1.43,
          1.54
         ],
         "xaxis": "x2",
         "y": [
          4.510000228881836,
          3.8499999046325675,
          2.569999933242798,
          3.180000066757202,
          3.8499999046325675,
          4.5,
          4.30999994277954,
          4.400000095367432,
          null,
          null
         ],
         "yaxis": "y2"
        },
        {
         "mode": "markers",
         "name": "Ticker SVS",
         "type": "scatter",
         "x": [
          1.22,
          1.46,
          0.79,
          0.71,
          0.69,
          0.6,
          0.65,
          0.6,
          0.62,
          0.59
         ],
         "xaxis": "x",
         "y": [
          2.3015845697493673,
          null,
          null,
          null,
          null,
          null,
          null,
          null,
          null,
          null
         ],
         "yaxis": "y"
        },
        {
         "mode": "markers",
         "name": "Ticker SVS",
         "type": "scatter",
         "x": [
          1.22,
          1.46,
          0.79,
          0.71,
          0.69,
          0.6,
          0.65,
          0.6,
          0.62,
          0.59
         ],
         "xaxis": "x2",
         "y": [
          9.989999771118164,
          null,
          null,
          null,
          null,
          null,
          null,
          null,
          null,
          null
         ],
         "yaxis": "y2"
        },
        {
         "mode": "markers",
         "name": "Ticker STAR7",
         "type": "scatter",
         "x": [
          1.68,
          1.96,
          1.9,
          1.26,
          1.24,
          1.32,
          1.29,
          1.28,
          1.32,
          1.41
         ],
         "xaxis": "x",
         "y": [
          2.1679101634795908,
          2.264883237693826,
          null,
          null,
          null,
          null,
          null,
          null,
          null,
          null
         ],
         "yaxis": "y"
        },
        {
         "mode": "markers",
         "name": "Ticker STAR7",
         "type": "scatter",
         "x": [
          1.68,
          1.96,
          1.9,
          1.26,
          1.24,
          1.32,
          1.29,
          1.28,
          1.32,
          1.41
         ],
         "xaxis": "x2",
         "y": [
          8.739999771118164,
          9.630000114440916,
          null,
          null,
          null,
          null,
          null,
          null,
          null,
          null
         ],
         "yaxis": "y2"
        },
        {
         "mode": "markers",
         "name": "Ticker SCK",
         "type": "scatter",
         "x": [
          1.59,
          2.4,
          1.45,
          0.83,
          0.96,
          0.61,
          0.65,
          0.73,
          0.66,
          0.67
         ],
         "xaxis": "x",
         "y": [
          2.0333975857027218,
          2.356125878001209,
          1.1151415749853149,
          0.15700371212988268,
          -0.31471071871163714,
          null,
          null,
          null,
          null,
          null
         ],
         "yaxis": "y"
        },
        {
         "mode": "markers",
         "name": "Ticker SCK",
         "type": "scatter",
         "x": [
          1.59,
          2.4,
          1.45,
          0.83,
          0.96,
          0.61,
          0.65,
          0.73,
          0.66,
          0.67
         ],
         "xaxis": "x2",
         "y": [
          7.639999866485597,
          10.55000019073486,
          3.0499999523162837,
          1.1699999570846558,
          0.7300000190734863,
          null,
          null,
          null,
          null,
          null
         ],
         "yaxis": "y2"
        },
        {
         "mode": "markers",
         "name": "Ticker MARP",
         "type": "scatter",
         "x": [
          1.15,
          1.04,
          1.45,
          1.23,
          1.01,
          0.97,
          0.88,
          1,
          0.76,
          0.86
         ],
         "xaxis": "x",
         "y": [
          1.4060969697165737,
          1.5475624681341262,
          1.0296194001512595,
          1.508511989624342,
          null,
          null,
          null,
          null,
          null,
          null
         ],
         "yaxis": "y"
        },
        {
         "mode": "markers",
         "name": "Ticker MARP",
         "type": "scatter",
         "x": [
          1.15,
          1.04,
          1.45,
          1.23,
          1.01,
          0.97,
          0.88,
          1,
          0.76,
          0.86
         ],
         "xaxis": "x2",
         "y": [
          4.079999923706054,
          4.699999809265136,
          2.7999999523162837,
          4.519999980926514,
          null,
          null,
          null,
          null,
          null,
          null
         ],
         "yaxis": "y2"
        },
        {
         "mode": "markers",
         "name": "Ticker ITD",
         "type": "scatter",
         "x": [
          0.81,
          0.76,
          1.12,
          1.85,
          2.02,
          0.81,
          0.85,
          0.84,
          1.41,
          1.47
         ],
         "xaxis": "x",
         "y": [
          2.6672281800910014,
          2.972975247406338,
          2.3513752571634776,
          1.8082887555452603,
          1.0986122886681098,
          null,
          null,
          null,
          null,
          null
         ],
         "yaxis": "y"
        },
        {
         "mode": "markers",
         "name": "Ticker ITD",
         "type": "scatter",
         "x": [
          0.81,
          0.76,
          1.12,
          1.85,
          2.02,
          0.81,
          0.85,
          0.84,
          1.41,
          1.47
         ],
         "xaxis": "x2",
         "y": [
          14.399999618530272,
          19.549999237060543,
          10.499999999999998,
          6.0999999046325675,
          3,
          null,
          null,
          null,
          null,
          null
         ],
         "yaxis": "y2"
        },
        {
         "mode": "markers",
         "name": "Ticker VIM",
         "type": "scatter",
         "x": [
          0.59,
          0.76,
          1.1,
          0.85,
          1.02,
          0.91,
          0.88,
          0.93,
          0.92,
          0.96
         ],
         "xaxis": "x",
         "y": [
          0.13102824985805775,
          0.4637340372249708,
          0.18232159653038368,
          0.7654678864965156,
          1.0818051865157,
          null,
          null,
          null,
          null,
          null
         ],
         "yaxis": "y"
        },
        {
         "mode": "markers",
         "name": "Ticker VIM",
         "type": "scatter",
         "x": [
          0.59,
          0.76,
          1.1,
          0.85,
          1.02,
          0.91,
          0.88,
          0.93,
          0.92,
          0.96
         ],
         "xaxis": "x2",
         "y": [
          1.1399999856948853,
          1.590000033378601,
          1.2000000476837158,
          2.150000095367432,
          2.950000047683716,
          null,
          null,
          null,
          null,
          null
         ],
         "yaxis": "y2"
        },
        {
         "mode": "markers",
         "name": "Ticker MDC",
         "type": "scatter",
         "x": [
          0.95,
          1.47,
          0.89,
          0.59,
          0.61,
          0.57,
          0.49,
          0.59,
          0.74,
          0.76
         ],
         "xaxis": "x",
         "y": [
          3.228826155721369,
          3.640214242083339,
          null,
          null,
          null,
          null,
          null,
          null,
          null,
          null
         ],
         "yaxis": "y"
        },
        {
         "mode": "markers",
         "name": "Ticker MDC",
         "type": "scatter",
         "x": [
          0.95,
          1.47,
          0.89,
          0.59,
          0.61,
          0.57,
          0.49,
          0.59,
          0.74,
          0.76
         ],
         "xaxis": "x2",
         "y": [
          25.249999999999996,
          38.09999847412107,
          null,
          null,
          null,
          null,
          null,
          null,
          null,
          null
         ],
         "yaxis": "y2"
        },
        {
         "mode": "markers",
         "name": "Ticker ILP",
         "type": "scatter",
         "x": [
          1.51,
          1.7,
          1.4,
          0.94,
          0.68,
          1.28,
          1.04,
          1.1,
          1.21,
          1.18
         ],
         "xaxis": "x",
         "y": [
          1.490654389331624,
          1.508511989624342,
          0.7129497891566287,
          0.779324907423567,
          null,
          null,
          null,
          null,
          null,
          null
         ],
         "yaxis": "y"
        },
        {
         "mode": "markers",
         "name": "Ticker ILP",
         "type": "scatter",
         "x": [
          1.51,
          1.7,
          1.4,
          0.94,
          0.68,
          1.28,
          1.04,
          1.1,
          1.21,
          1.18
         ],
         "xaxis": "x2",
         "y": [
          4.440000057220458,
          4.519999980926514,
          2.039999961853028,
          2.180000066757202,
          null,
          null,
          null,
          null,
          null,
          null
         ],
         "yaxis": "y2"
        },
        {
         "mode": "markers",
         "name": "Ticker CFL",
         "type": "scatter",
         "x": [
          2.45,
          2.77,
          1.19,
          0.9,
          0.88,
          0.98,
          0.94,
          0.93,
          0.96,
          1
         ],
         "xaxis": "x",
         "y": [
          2.536866415880321,
          2.7549338039876257,
          null,
          null,
          null,
          null,
          null,
          null,
          null,
          null
         ],
         "yaxis": "y"
        },
        {
         "mode": "markers",
         "name": "Ticker CFL",
         "type": "scatter",
         "x": [
          2.45,
          2.77,
          1.19,
          0.9,
          0.88,
          0.98,
          0.94,
          0.93,
          0.96,
          1
         ],
         "xaxis": "x2",
         "y": [
          12.64000034332275,
          15.720000267028805,
          null,
          null,
          null,
          null,
          null,
          null,
          null,
          null
         ],
         "yaxis": "y2"
        },
        {
         "mode": "markers",
         "name": "Ticker FCM",
         "type": "scatter",
         "x": [
          1.02,
          1.8,
          1.29,
          1.31,
          0.73,
          0.63,
          0.56,
          0.52,
          0.54,
          0.44
         ],
         "xaxis": "x",
         "y": [
          0.12221762850445134,
          0.2350721108710924,
          0.2350721108710924,
          0.47933496257972397,
          null,
          null,
          null,
          null,
          null,
          null
         ],
         "yaxis": "y"
        },
        {
         "mode": "markers",
         "name": "Ticker FCM",
         "type": "scatter",
         "x": [
          1.02,
          1.8,
          1.29,
          1.31,
          0.73,
          0.63,
          0.56,
          0.52,
          0.54,
          0.44
         ],
         "xaxis": "x2",
         "y": [
          1.1299999952316284,
          1.2649999856948853,
          1.2649999856948853,
          1.6150000095367432,
          null,
          null,
          null,
          null,
          null,
          null
         ],
         "yaxis": "y2"
        },
        {
         "mode": "markers",
         "name": "Ticker FVI",
         "type": "scatter",
         "x": [
          1.7,
          2.01,
          4.7,
          2.54,
          3.42,
          1.66,
          1.85,
          1.47,
          1.21,
          1.54
         ],
         "xaxis": "x",
         "y": [
          2.7440606508911505,
          2.69462719365756,
          2.509599277885271,
          2.4248027425974863,
          2.4061257641178835,
          null,
          null,
          null,
          null,
          null
         ],
         "yaxis": "y"
        },
        {
         "mode": "markers",
         "name": "Ticker FVI",
         "type": "scatter",
         "x": [
          1.7,
          2.01,
          4.7,
          2.54,
          3.42,
          1.66,
          1.85,
          1.47,
          1.21,
          1.54
         ],
         "xaxis": "x2",
         "y": [
          15.550000190734858,
          14.800000190734858,
          12.30000019073486,
          11.300000190734863,
          11.090909004211426,
          null,
          null,
          null,
          null,
          null
         ],
         "yaxis": "y2"
        },
        {
         "mode": "markers",
         "name": "Ticker PLT",
         "type": "scatter",
         "x": [
          1.11,
          0.91,
          2.32,
          0.87,
          0.64,
          0.65,
          1.27,
          1.57,
          1.42,
          1.18
         ],
         "xaxis": "x",
         "y": [
          null,
          null,
          null,
          null,
          null,
          null,
          null,
          null,
          null,
          null
         ],
         "yaxis": "y"
        },
        {
         "mode": "markers",
         "name": "Ticker PLT",
         "type": "scatter",
         "x": [
          1.11,
          0.91,
          2.32,
          0.87,
          0.64,
          0.65,
          1.27,
          1.57,
          1.42,
          1.18
         ],
         "xaxis": "x2",
         "y": [
          null,
          null,
          null,
          null,
          null,
          null,
          null,
          null,
          null,
          null
         ],
         "yaxis": "y2"
        },
        {
         "mode": "markers",
         "name": "Ticker LDB",
         "type": "scatter",
         "x": [
          1.19,
          2,
          1.75,
          1.32,
          1.12,
          1.02,
          0.91,
          1.13,
          0.82,
          1.03
         ],
         "xaxis": "x",
         "y": [
          0.6291418754934363,
          0.7952523647473517,
          null,
          null,
          null,
          null,
          null,
          null,
          null,
          null
         ],
         "yaxis": "y"
        },
        {
         "mode": "markers",
         "name": "Ticker LDB",
         "type": "scatter",
         "x": [
          1.19,
          2,
          1.75,
          1.32,
          1.12,
          1.02,
          0.91,
          1.13,
          0.82,
          1.03
         ],
         "xaxis": "x2",
         "y": [
          1.876000046730041,
          2.2149999141693115,
          null,
          null,
          null,
          null,
          null,
          null,
          null,
          null
         ],
         "yaxis": "y2"
        },
        {
         "mode": "markers",
         "name": "Ticker FOS",
         "type": "scatter",
         "x": [
          1.95,
          2.38,
          2.72,
          2.14,
          1.03,
          1.43,
          1.68,
          1.62,
          1.34,
          1.32
         ],
         "xaxis": "x",
         "y": [
          1.2119409427536318,
          1.3506671562994919,
          0.9082585678678127,
          1.1426291710428607,
          null,
          null,
          null,
          null,
          null,
          null
         ],
         "yaxis": "y"
        },
        {
         "mode": "markers",
         "name": "Ticker FOS",
         "type": "scatter",
         "x": [
          1.95,
          2.38,
          2.72,
          2.14,
          1.03,
          1.43,
          1.68,
          1.62,
          1.34,
          1.32
         ],
         "xaxis": "x2",
         "y": [
          3.359999895095825,
          3.859999895095825,
          2.4800000190734863,
          3.1349999904632564,
          null,
          null,
          null,
          null,
          null,
          null
         ],
         "yaxis": "y2"
        },
        {
         "mode": "markers",
         "name": "Ticker BAN",
         "type": "scatter",
         "x": [
          2.51,
          2.33,
          2.65,
          2.77,
          3.31,
          3.31,
          2.37,
          2.53,
          2.21,
          1.91
         ],
         "xaxis": "x",
         "y": [
          1.6992785780777009,
          1.814824720414034,
          1.4586150670564606,
          1.6677068565457855,
          1.4929040533163809,
          1.3244189548654353,
          1.2005670192292972,
          1.4683350732132154,
          0.8162494147953161,
          0.8862438592669583
         ],
         "yaxis": "y"
        },
        {
         "mode": "markers",
         "name": "Ticker BAN",
         "type": "scatter",
         "x": [
          2.51,
          2.33,
          2.65,
          2.77,
          3.31,
          3.31,
          2.37,
          2.53,
          2.21,
          1.91
         ],
         "xaxis": "x2",
         "y": [
          5.46999979019165,
          6.139999866485596,
          4.300000190734862,
          5.300000190734862,
          4.449999809265136,
          3.7599999904632564,
          3.3220000267028804,
          4.3420000076293945,
          2.26200008392334,
          2.4260001182556152
         ],
         "yaxis": "y2"
        }
       ],
       "layout": {
        "showlegend": false,
        "template": {
         "data": {
          "bar": [
           {
            "error_x": {
             "color": "#2a3f5f"
            },
            "error_y": {
             "color": "#2a3f5f"
            },
            "marker": {
             "line": {
              "color": "#E5ECF6",
              "width": 0.5
             },
             "pattern": {
              "fillmode": "overlay",
              "size": 10,
              "solidity": 0.2
             }
            },
            "type": "bar"
           }
          ],
          "barpolar": [
           {
            "marker": {
             "line": {
              "color": "#E5ECF6",
              "width": 0.5
             },
             "pattern": {
              "fillmode": "overlay",
              "size": 10,
              "solidity": 0.2
             }
            },
            "type": "barpolar"
           }
          ],
          "carpet": [
           {
            "aaxis": {
             "endlinecolor": "#2a3f5f",
             "gridcolor": "white",
             "linecolor": "white",
             "minorgridcolor": "white",
             "startlinecolor": "#2a3f5f"
            },
            "baxis": {
             "endlinecolor": "#2a3f5f",
             "gridcolor": "white",
             "linecolor": "white",
             "minorgridcolor": "white",
             "startlinecolor": "#2a3f5f"
            },
            "type": "carpet"
           }
          ],
          "choropleth": [
           {
            "colorbar": {
             "outlinewidth": 0,
             "ticks": ""
            },
            "type": "choropleth"
           }
          ],
          "contour": [
           {
            "colorbar": {
             "outlinewidth": 0,
             "ticks": ""
            },
            "colorscale": [
             [
              0,
              "#0d0887"
             ],
             [
              0.1111111111111111,
              "#46039f"
             ],
             [
              0.2222222222222222,
              "#7201a8"
             ],
             [
              0.3333333333333333,
              "#9c179e"
             ],
             [
              0.4444444444444444,
              "#bd3786"
             ],
             [
              0.5555555555555556,
              "#d8576b"
             ],
             [
              0.6666666666666666,
              "#ed7953"
             ],
             [
              0.7777777777777778,
              "#fb9f3a"
             ],
             [
              0.8888888888888888,
              "#fdca26"
             ],
             [
              1,
              "#f0f921"
             ]
            ],
            "type": "contour"
           }
          ],
          "contourcarpet": [
           {
            "colorbar": {
             "outlinewidth": 0,
             "ticks": ""
            },
            "type": "contourcarpet"
           }
          ],
          "heatmap": [
           {
            "colorbar": {
             "outlinewidth": 0,
             "ticks": ""
            },
            "colorscale": [
             [
              0,
              "#0d0887"
             ],
             [
              0.1111111111111111,
              "#46039f"
             ],
             [
              0.2222222222222222,
              "#7201a8"
             ],
             [
              0.3333333333333333,
              "#9c179e"
             ],
             [
              0.4444444444444444,
              "#bd3786"
             ],
             [
              0.5555555555555556,
              "#d8576b"
             ],
             [
              0.6666666666666666,
              "#ed7953"
             ],
             [
              0.7777777777777778,
              "#fb9f3a"
             ],
             [
              0.8888888888888888,
              "#fdca26"
             ],
             [
              1,
              "#f0f921"
             ]
            ],
            "type": "heatmap"
           }
          ],
          "heatmapgl": [
           {
            "colorbar": {
             "outlinewidth": 0,
             "ticks": ""
            },
            "colorscale": [
             [
              0,
              "#0d0887"
             ],
             [
              0.1111111111111111,
              "#46039f"
             ],
             [
              0.2222222222222222,
              "#7201a8"
             ],
             [
              0.3333333333333333,
              "#9c179e"
             ],
             [
              0.4444444444444444,
              "#bd3786"
             ],
             [
              0.5555555555555556,
              "#d8576b"
             ],
             [
              0.6666666666666666,
              "#ed7953"
             ],
             [
              0.7777777777777778,
              "#fb9f3a"
             ],
             [
              0.8888888888888888,
              "#fdca26"
             ],
             [
              1,
              "#f0f921"
             ]
            ],
            "type": "heatmapgl"
           }
          ],
          "histogram": [
           {
            "marker": {
             "pattern": {
              "fillmode": "overlay",
              "size": 10,
              "solidity": 0.2
             }
            },
            "type": "histogram"
           }
          ],
          "histogram2d": [
           {
            "colorbar": {
             "outlinewidth": 0,
             "ticks": ""
            },
            "colorscale": [
             [
              0,
              "#0d0887"
             ],
             [
              0.1111111111111111,
              "#46039f"
             ],
             [
              0.2222222222222222,
              "#7201a8"
             ],
             [
              0.3333333333333333,
              "#9c179e"
             ],
             [
              0.4444444444444444,
              "#bd3786"
             ],
             [
              0.5555555555555556,
              "#d8576b"
             ],
             [
              0.6666666666666666,
              "#ed7953"
             ],
             [
              0.7777777777777778,
              "#fb9f3a"
             ],
             [
              0.8888888888888888,
              "#fdca26"
             ],
             [
              1,
              "#f0f921"
             ]
            ],
            "type": "histogram2d"
           }
          ],
          "histogram2dcontour": [
           {
            "colorbar": {
             "outlinewidth": 0,
             "ticks": ""
            },
            "colorscale": [
             [
              0,
              "#0d0887"
             ],
             [
              0.1111111111111111,
              "#46039f"
             ],
             [
              0.2222222222222222,
              "#7201a8"
             ],
             [
              0.3333333333333333,
              "#9c179e"
             ],
             [
              0.4444444444444444,
              "#bd3786"
             ],
             [
              0.5555555555555556,
              "#d8576b"
             ],
             [
              0.6666666666666666,
              "#ed7953"
             ],
             [
              0.7777777777777778,
              "#fb9f3a"
             ],
             [
              0.8888888888888888,
              "#fdca26"
             ],
             [
              1,
              "#f0f921"
             ]
            ],
            "type": "histogram2dcontour"
           }
          ],
          "mesh3d": [
           {
            "colorbar": {
             "outlinewidth": 0,
             "ticks": ""
            },
            "type": "mesh3d"
           }
          ],
          "parcoords": [
           {
            "line": {
             "colorbar": {
              "outlinewidth": 0,
              "ticks": ""
             }
            },
            "type": "parcoords"
           }
          ],
          "pie": [
           {
            "automargin": true,
            "type": "pie"
           }
          ],
          "scatter": [
           {
            "fillpattern": {
             "fillmode": "overlay",
             "size": 10,
             "solidity": 0.2
            },
            "type": "scatter"
           }
          ],
          "scatter3d": [
           {
            "line": {
             "colorbar": {
              "outlinewidth": 0,
              "ticks": ""
             }
            },
            "marker": {
             "colorbar": {
              "outlinewidth": 0,
              "ticks": ""
             }
            },
            "type": "scatter3d"
           }
          ],
          "scattercarpet": [
           {
            "marker": {
             "colorbar": {
              "outlinewidth": 0,
              "ticks": ""
             }
            },
            "type": "scattercarpet"
           }
          ],
          "scattergeo": [
           {
            "marker": {
             "colorbar": {
              "outlinewidth": 0,
              "ticks": ""
             }
            },
            "type": "scattergeo"
           }
          ],
          "scattergl": [
           {
            "marker": {
             "colorbar": {
              "outlinewidth": 0,
              "ticks": ""
             }
            },
            "type": "scattergl"
           }
          ],
          "scattermapbox": [
           {
            "marker": {
             "colorbar": {
              "outlinewidth": 0,
              "ticks": ""
             }
            },
            "type": "scattermapbox"
           }
          ],
          "scatterpolar": [
           {
            "marker": {
             "colorbar": {
              "outlinewidth": 0,
              "ticks": ""
             }
            },
            "type": "scatterpolar"
           }
          ],
          "scatterpolargl": [
           {
            "marker": {
             "colorbar": {
              "outlinewidth": 0,
              "ticks": ""
             }
            },
            "type": "scatterpolargl"
           }
          ],
          "scatterternary": [
           {
            "marker": {
             "colorbar": {
              "outlinewidth": 0,
              "ticks": ""
             }
            },
            "type": "scatterternary"
           }
          ],
          "surface": [
           {
            "colorbar": {
             "outlinewidth": 0,
             "ticks": ""
            },
            "colorscale": [
             [
              0,
              "#0d0887"
             ],
             [
              0.1111111111111111,
              "#46039f"
             ],
             [
              0.2222222222222222,
              "#7201a8"
             ],
             [
              0.3333333333333333,
              "#9c179e"
             ],
             [
              0.4444444444444444,
              "#bd3786"
             ],
             [
              0.5555555555555556,
              "#d8576b"
             ],
             [
              0.6666666666666666,
              "#ed7953"
             ],
             [
              0.7777777777777778,
              "#fb9f3a"
             ],
             [
              0.8888888888888888,
              "#fdca26"
             ],
             [
              1,
              "#f0f921"
             ]
            ],
            "type": "surface"
           }
          ],
          "table": [
           {
            "cells": {
             "fill": {
              "color": "#EBF0F8"
             },
             "line": {
              "color": "white"
             }
            },
            "header": {
             "fill": {
              "color": "#C8D4E3"
             },
             "line": {
              "color": "white"
             }
            },
            "type": "table"
           }
          ]
         },
         "layout": {
          "annotationdefaults": {
           "arrowcolor": "#2a3f5f",
           "arrowhead": 0,
           "arrowwidth": 1
          },
          "autotypenumbers": "strict",
          "coloraxis": {
           "colorbar": {
            "outlinewidth": 0,
            "ticks": ""
           }
          },
          "colorscale": {
           "diverging": [
            [
             0,
             "#8e0152"
            ],
            [
             0.1,
             "#c51b7d"
            ],
            [
             0.2,
             "#de77ae"
            ],
            [
             0.3,
             "#f1b6da"
            ],
            [
             0.4,
             "#fde0ef"
            ],
            [
             0.5,
             "#f7f7f7"
            ],
            [
             0.6,
             "#e6f5d0"
            ],
            [
             0.7,
             "#b8e186"
            ],
            [
             0.8,
             "#7fbc41"
            ],
            [
             0.9,
             "#4d9221"
            ],
            [
             1,
             "#276419"
            ]
           ],
           "sequential": [
            [
             0,
             "#0d0887"
            ],
            [
             0.1111111111111111,
             "#46039f"
            ],
            [
             0.2222222222222222,
             "#7201a8"
            ],
            [
             0.3333333333333333,
             "#9c179e"
            ],
            [
             0.4444444444444444,
             "#bd3786"
            ],
            [
             0.5555555555555556,
             "#d8576b"
            ],
            [
             0.6666666666666666,
             "#ed7953"
            ],
            [
             0.7777777777777778,
             "#fb9f3a"
            ],
            [
             0.8888888888888888,
             "#fdca26"
            ],
            [
             1,
             "#f0f921"
            ]
           ],
           "sequentialminus": [
            [
             0,
             "#0d0887"
            ],
            [
             0.1111111111111111,
             "#46039f"
            ],
            [
             0.2222222222222222,
             "#7201a8"
            ],
            [
             0.3333333333333333,
             "#9c179e"
            ],
            [
             0.4444444444444444,
             "#bd3786"
            ],
            [
             0.5555555555555556,
             "#d8576b"
            ],
            [
             0.6666666666666666,
             "#ed7953"
            ],
            [
             0.7777777777777778,
             "#fb9f3a"
            ],
            [
             0.8888888888888888,
             "#fdca26"
            ],
            [
             1,
             "#f0f921"
            ]
           ]
          },
          "colorway": [
           "#636efa",
           "#EF553B",
           "#00cc96",
           "#ab63fa",
           "#FFA15A",
           "#19d3f3",
           "#FF6692",
           "#B6E880",
           "#FF97FF",
           "#FECB52"
          ],
          "font": {
           "color": "#2a3f5f"
          },
          "geo": {
           "bgcolor": "white",
           "lakecolor": "white",
           "landcolor": "#E5ECF6",
           "showlakes": true,
           "showland": true,
           "subunitcolor": "white"
          },
          "hoverlabel": {
           "align": "left"
          },
          "hovermode": "closest",
          "mapbox": {
           "style": "light"
          },
          "paper_bgcolor": "white",
          "plot_bgcolor": "#E5ECF6",
          "polar": {
           "angularaxis": {
            "gridcolor": "white",
            "linecolor": "white",
            "ticks": ""
           },
           "bgcolor": "#E5ECF6",
           "radialaxis": {
            "gridcolor": "white",
            "linecolor": "white",
            "ticks": ""
           }
          },
          "scene": {
           "xaxis": {
            "backgroundcolor": "#E5ECF6",
            "gridcolor": "white",
            "gridwidth": 2,
            "linecolor": "white",
            "showbackground": true,
            "ticks": "",
            "zerolinecolor": "white"
           },
           "yaxis": {
            "backgroundcolor": "#E5ECF6",
            "gridcolor": "white",
            "gridwidth": 2,
            "linecolor": "white",
            "showbackground": true,
            "ticks": "",
            "zerolinecolor": "white"
           },
           "zaxis": {
            "backgroundcolor": "#E5ECF6",
            "gridcolor": "white",
            "gridwidth": 2,
            "linecolor": "white",
            "showbackground": true,
            "ticks": "",
            "zerolinecolor": "white"
           }
          },
          "shapedefaults": {
           "line": {
            "color": "#2a3f5f"
           }
          },
          "ternary": {
           "aaxis": {
            "gridcolor": "white",
            "linecolor": "white",
            "ticks": ""
           },
           "baxis": {
            "gridcolor": "white",
            "linecolor": "white",
            "ticks": ""
           },
           "bgcolor": "#E5ECF6",
           "caxis": {
            "gridcolor": "white",
            "linecolor": "white",
            "ticks": ""
           }
          },
          "title": {
           "x": 0.05
          },
          "xaxis": {
           "automargin": true,
           "gridcolor": "white",
           "linecolor": "white",
           "ticks": "",
           "title": {
            "standoff": 15
           },
           "zerolinecolor": "white",
           "zerolinewidth": 2
          },
          "yaxis": {
           "automargin": true,
           "gridcolor": "white",
           "linecolor": "white",
           "ticks": "",
           "title": {
            "standoff": 15
           },
           "zerolinecolor": "white",
           "zerolinewidth": 2
          }
         }
        },
        "title": {
         "text": "Relazione tra Indice_di_liquidità e Valori Borsa"
        },
        "xaxis": {
         "anchor": "y",
         "domain": [
          0,
          0.45
         ]
        },
        "xaxis2": {
         "anchor": "y2",
         "domain": [
          0.55,
          1
         ]
        },
        "yaxis": {
         "anchor": "x",
         "domain": [
          0,
          1
         ],
         "title": {
          "text": "Log Valori Borsa"
         }
        },
        "yaxis2": {
         "anchor": "x2",
         "domain": [
          0,
          1
         ],
         "title": {
          "text": "Valori Borsa"
         }
        }
       }
      }
     },
     "metadata": {},
     "output_type": "display_data"
    },
    {
     "data": {
      "application/vnd.plotly.v1+json": {
       "config": {
        "plotlyServerURL": "https://plot.ly"
       },
       "data": [
        {
         "mode": "markers",
         "name": "Ticker MARR",
         "type": "scatter",
         "x": [
          1.55,
          1.17,
          0.98,
          1.46,
          1.54,
          1.57,
          1.52,
          1.63,
          1.7,
          1.6
         ],
         "xaxis": "x",
         "y": [
          2.509599277885271,
          2.9349201179417297,
          2.8791984144362717,
          3.054001217665676,
          3.0689827565651293,
          3.07915387116492,
          2.87073576176629,
          2.8887036625848097,
          2.691243082785829,
          2.4849066497880004
         ],
         "yaxis": "y"
        },
        {
         "mode": "markers",
         "name": "Ticker MARR",
         "type": "scatter",
         "x": [
          1.55,
          1.17,
          0.98,
          1.46,
          1.54,
          1.57,
          1.52,
          1.63,
          1.7,
          1.6
         ],
         "xaxis": "x2",
         "y": [
          12.30000019073486,
          18.819999694824215,
          17.799999237060547,
          21.20000076293945,
          21.520000457763665,
          21.73999977111816,
          17.64999961853027,
          17.969999313354485,
          14.749999999999998,
          11.999999999999998
         ],
         "yaxis": "y2"
        },
        {
         "mode": "markers",
         "name": "Ticker PIA",
         "type": "scatter",
         "x": [
          0.82,
          0.74,
          0.62,
          0.66,
          0.63,
          0.68,
          0.61,
          0.61,
          0.57,
          0.6
         ],
         "xaxis": "x",
         "y": [
          1.077048147781857,
          1.0522192777352672,
          0.9962103346242122,
          1.007957923880542,
          0.6392188284692253,
          0.917889432671393,
          0.48365994275805774,
          0.698134717326336,
          0.9066443833247319,
          0.8569652431213597
         ],
         "yaxis": "y"
        },
        {
         "mode": "markers",
         "name": "Ticker PIA",
         "type": "scatter",
         "x": [
          0.82,
          0.74,
          0.62,
          0.66,
          0.63,
          0.68,
          0.61,
          0.61,
          0.57,
          0.6
         ],
         "xaxis": "x2",
         "y": [
          2.9360001087188716,
          2.864000082015991,
          2.7079999446868896,
          2.740000009536743,
          1.8949999809265134,
          2.503999948501587,
          1.621999979019165,
          2.009999990463257,
          2.476000070571899,
          2.3559999465942383
         ],
         "yaxis": "y2"
        },
        {
         "mode": "markers",
         "name": "Ticker BRE",
         "type": "scatter",
         "x": [
          0.58,
          0.5,
          0.44,
          0.72,
          0.78,
          0.81,
          0.92,
          0.96,
          0.87,
          0.83
         ],
         "xaxis": "x",
         "y": [
          2.4033350340342152,
          2.564179813062659,
          2.393218807006317,
          2.404238719152724,
          2.320425041100351,
          2.58475200201879,
          2.4890646757652832,
          2.07969149231976,
          1.6815725236803198,
          1.3681303836941336
         ],
         "yaxis": "y"
        },
        {
         "mode": "markers",
         "name": "Ticker BRE",
         "type": "scatter",
         "x": [
          0.58,
          0.5,
          0.44,
          0.72,
          0.78,
          0.81,
          0.92,
          0.96,
          0.87,
          0.83
         ],
         "xaxis": "x2",
         "y": [
          11.0600004196167,
          12.989999771118162,
          10.948678970336912,
          11.069999694824217,
          10.180000305175781,
          13.260000228881834,
          12.050000190734862,
          8.001999855041504,
          5.374000072479247,
          3.9279999732971187
         ],
         "yaxis": "y2"
        },
        {
         "mode": "markers",
         "name": "Ticker DAN",
         "type": "scatter",
         "x": [
          0.3,
          0.62,
          0.27,
          0.32,
          0.46,
          0.37,
          0.68,
          0.42,
          0.5,
          0.45
         ],
         "xaxis": "x",
         "y": [
          3.104586644253541,
          3.2790297189519984,
          2.7265447662626667,
          2.8154087651077058,
          2.785011289333365,
          3.0516398874558934,
          3.0243197266987147,
          2.740840023925201,
          3.000222186422059,
          3.2308043655777645
         ],
         "yaxis": "y"
        },
        {
         "mode": "markers",
         "name": "Ticker DAN",
         "type": "scatter",
         "x": [
          0.3,
          0.62,
          0.27,
          0.32,
          0.46,
          0.37,
          0.68,
          0.42,
          0.5,
          0.45
         ],
         "xaxis": "x2",
         "y": [
          22.299999237060543,
          26.549999237060547,
          15.279999732971186,
          16.700000762939453,
          16.20000076293945,
          21.149999618530277,
          20.57999992370605,
          15.499999999999996,
          20.090000152587887,
          25.299999237060543
         ],
         "yaxis": "y2"
        },
        {
         "mode": "markers",
         "name": "Ticker BC",
         "type": "scatter",
         "x": [
          0.73,
          0.67,
          0.61,
          0.73,
          0.83,
          0.84,
          0.87,
          0.87,
          0.9,
          0.99
         ],
         "xaxis": "x",
         "y": [
          4.269697449699962,
          4.107589776423775,
          3.5333946002941827,
          3.5587707383536116,
          3.349904087274605,
          3.363841581918742,
          3.0267462864029175,
          2.7033726319915394,
          2.8735646826837065,
          3.1705255511154085
         ],
         "yaxis": "y"
        },
        {
         "mode": "markers",
         "name": "Ticker BC",
         "type": "scatter",
         "x": [
          0.73,
          0.67,
          0.61,
          0.73,
          0.83,
          0.84,
          0.87,
          0.87,
          0.9,
          0.99
         ],
         "xaxis": "x2",
         "y": [
          71.49999999999996,
          60.79999923706053,
          34.2400016784668,
          35.11999893188476,
          28.499999999999996,
          28.89999961853027,
          20.6299991607666,
          14.930000305175776,
          17.70000076293945,
          23.81999969482422
         ],
         "yaxis": "y2"
        },
        {
         "mode": "markers",
         "name": "Ticker CLI",
         "type": "scatter",
         "x": [
          1.23,
          1.06,
          0.77,
          0.61,
          0.64,
          0.64,
          0.71,
          0.91,
          1.01,
          0.97
         ],
         "xaxis": "x",
         "y": [
          1.0543119898966447,
          1.2412686000947695,
          0.9001613654511708,
          0.9162907318741551,
          1.007957923880542,
          1.2584609841914016,
          1.1052568250710544,
          1.1933162536324886,
          0.9895412148852936,
          0.6418538736240484
         ],
         "yaxis": "y"
        },
        {
         "mode": "markers",
         "name": "Ticker CLI",
         "type": "scatter",
         "x": [
          1.23,
          1.06,
          0.77,
          0.61,
          0.64,
          0.64,
          0.71,
          0.91,
          1.01,
          0.97
         ],
         "xaxis": "x2",
         "y": [
          2.869999885559082,
          3.4600000381469727,
          2.4600000381469727,
          2.5,
          2.740000009536743,
          3.5199999809265132,
          3.0199999809265137,
          3.29800009727478,
          2.6900000572204585,
          1.899999976158142
         ],
         "yaxis": "y2"
        },
        {
         "mode": "markers",
         "name": "Ticker ELC",
         "type": "scatter",
         "x": [
          0.93,
          0.97,
          0.95,
          1.2,
          1.21,
          1.14,
          0.99,
          0.97,
          0.96,
          0.95
         ],
         "xaxis": "x",
         "y": [
          1.120047588057166,
          1.264126716369702,
          1.1265516697226583,
          1.0885619624476819,
          0.4187103223098387,
          0.9082585678678127,
          0.6097655897614381,
          0.6418538736240484,
          0.5704144453674508,
          0.5709795358097567
         ],
         "yaxis": "y"
        },
        {
         "mode": "markers",
         "name": "Ticker ELC",
         "type": "scatter",
         "x": [
          0.93,
          0.97,
          0.95,
          1.2,
          1.21,
          1.14,
          0.99,
          0.97,
          0.96,
          0.95
         ],
         "xaxis": "x2",
         "y": [
          3.065000057220459,
          3.5399999618530273,
          3.0850000381469727,
          2.9700000286102286,
          1.5199999809265137,
          2.4800000190734863,
          1.840000033378601,
          1.899999976158142,
          1.7690000534057615,
          1.7699999809265134
         ],
         "yaxis": "y2"
        },
        {
         "mode": "markers",
         "name": "Ticker GPI",
         "type": "scatter",
         "x": [
          0.35,
          0.55,
          0.53,
          0.54,
          0.44,
          0.48,
          0.47,
          0.65,
          0.88,
          0.81
         ],
         "xaxis": "x",
         "y": [
          2.653241951175182,
          2.803360380906535,
          2.101692187922208,
          2.0464016580303386,
          2.121063234666565,
          2.3702437236421723,
          2.3223877015907286,
          2.282382405139267,
          null,
          null
         ],
         "yaxis": "y"
        },
        {
         "mode": "markers",
         "name": "Ticker GPI",
         "type": "scatter",
         "x": [
          0.35,
          0.55,
          0.53,
          0.54,
          0.44,
          0.48,
          0.47,
          0.65,
          0.88,
          0.81
         ],
         "xaxis": "x2",
         "y": [
          14.199999809265131,
          16.499999999999996,
          8.180000305175781,
          7.739999771118162,
          8.340000152587889,
          10.699999809265137,
          10.199999809265133,
          9.800000190734862,
          null,
          null
         ],
         "yaxis": "y2"
        },
        {
         "mode": "markers",
         "name": "Ticker SRI",
         "type": "scatter",
         "x": [
          0.6,
          0.62,
          0.55,
          0.58,
          0.64,
          0.64,
          0.6,
          0.65,
          0.69,
          0.63
         ],
         "xaxis": "x",
         "y": [
          0.18647960255701124,
          0.7443154761953833,
          0.8285518009080817,
          1.169381368441481,
          1.2974631708642825,
          1.911022923913132,
          1.2974631708642825,
          1.341296964264569,
          1.3942625468528604,
          1.4148818606044733
         ],
         "yaxis": "y"
        },
        {
         "mode": "markers",
         "name": "Ticker SRI",
         "type": "scatter",
         "x": [
          0.6,
          0.62,
          0.55,
          0.58,
          0.64,
          0.64,
          0.6,
          0.65,
          0.69,
          0.63
         ],
         "xaxis": "x2",
         "y": [
          1.2050000429153442,
          2.1050000190734863,
          2.289999961853028,
          3.2200000286102286,
          3.660000085830689,
          6.760000228881836,
          3.660000085830689,
          3.8239998817443848,
          4.0320000648498535,
          4.116000175476073
         ],
         "yaxis": "y2"
        },
        {
         "mode": "markers",
         "name": "Ticker ALA",
         "type": "scatter",
         "x": [
          0.72,
          0.85,
          0.93,
          1.03,
          0.91,
          0.85,
          0.89,
          1.08,
          0.84,
          1.27
         ],
         "xaxis": "x",
         "y": [
          2.4680995476355903,
          2.3655598563366795,
          null,
          null,
          null,
          null,
          null,
          null,
          null,
          null
         ],
         "yaxis": "y"
        },
        {
         "mode": "markers",
         "name": "Ticker ALA",
         "type": "scatter",
         "x": [
          0.72,
          0.85,
          0.93,
          1.03,
          0.91,
          0.85,
          0.89,
          1.08,
          0.84,
          1.27
         ],
         "xaxis": "x2",
         "y": [
          11.80000019073486,
          10.64999961853027,
          null,
          null,
          null,
          null,
          null,
          null,
          null,
          null
         ],
         "yaxis": "y2"
        },
        {
         "mode": "markers",
         "name": "Ticker ICF",
         "type": "scatter",
         "x": [
          0.71,
          0.59,
          0.51,
          0.86,
          1.14,
          1.02,
          0.91,
          1.44,
          1.35,
          1.28
         ],
         "xaxis": "x",
         "y": [
          1.7155980979710415,
          1.8277698730198415,
          1.6974487967434386,
          null,
          null,
          null,
          null,
          null,
          null,
          null
         ],
         "yaxis": "y"
        },
        {
         "mode": "markers",
         "name": "Ticker ICF",
         "type": "scatter",
         "x": [
          0.71,
          0.59,
          0.51,
          0.86,
          1.14,
          1.02,
          0.91,
          1.44,
          1.35,
          1.28
         ],
         "xaxis": "x2",
         "y": [
          5.55999994277954,
          6.2199997901916495,
          5.460000038146972,
          null,
          null,
          null,
          null,
          null,
          null,
          null
         ],
         "yaxis": "y2"
        },
        {
         "mode": "markers",
         "name": "Ticker ENV",
         "type": "scatter",
         "x": [
          1.12,
          0.95,
          0.81,
          1.04,
          1.24,
          1.21,
          1.26,
          1.37,
          1.31,
          1.36
         ],
         "xaxis": "x",
         "y": [
          1.190887553182456,
          1.3350010541839938,
          1.1939224540228235,
          1.2208299523375428,
          1.1847899790762915,
          1.2470322992672698,
          1.0224509174110963,
          1.0260415821605242,
          1.249901738946927,
          1.1499389134175557
         ],
         "yaxis": "y"
        },
        {
         "mode": "markers",
         "name": "Ticker ENV",
         "type": "scatter",
         "x": [
          1.12,
          0.95,
          0.81,
          1.04,
          1.24,
          1.21,
          1.26,
          1.37,
          1.31,
          1.36
         ],
         "xaxis": "x2",
         "y": [
          3.289999961853028,
          3.799999952316284,
          3.2999999523162837,
          3.390000104904175,
          3.2699999809265132,
          3.480000019073486,
          2.7799999713897705,
          2.7899999618530273,
          3.4900000095367427,
          3.1579999923706046
         ],
         "yaxis": "y2"
        },
        {
         "mode": "markers",
         "name": "Ticker MASI",
         "type": "scatter",
         "x": [
          0.34,
          0.32,
          0.29,
          0.38,
          0.4,
          0.4,
          0.45,
          0.43,
          0.5,
          0.55
         ],
         "xaxis": "x",
         "y": [
          1.5062972042644385,
          1.348073123528931,
          0.943905872931563,
          1.1568812177849161,
          1.348073123528931,
          1.5040773967762742,
          1.4609378908394477,
          1.4816045625986316,
          null,
          null
         ],
         "yaxis": "y"
        },
        {
         "mode": "markers",
         "name": "Ticker MASI",
         "type": "scatter",
         "x": [
          0.34,
          0.32,
          0.29,
          0.38,
          0.4,
          0.4,
          0.45,
          0.43,
          0.5,
          0.55
         ],
         "xaxis": "x2",
         "y": [
          4.510000228881836,
          3.8499999046325675,
          2.569999933242798,
          3.180000066757202,
          3.8499999046325675,
          4.5,
          4.30999994277954,
          4.400000095367432,
          null,
          null
         ],
         "yaxis": "y2"
        },
        {
         "mode": "markers",
         "name": "Ticker SVS",
         "type": "scatter",
         "x": [
          0.5,
          0.48,
          0.63,
          0.56,
          0.57,
          0.52,
          0.57,
          0.59,
          0.62,
          0.57
         ],
         "xaxis": "x",
         "y": [
          2.3015845697493673,
          null,
          null,
          null,
          null,
          null,
          null,
          null,
          null,
          null
         ],
         "yaxis": "y"
        },
        {
         "mode": "markers",
         "name": "Ticker SVS",
         "type": "scatter",
         "x": [
          0.5,
          0.48,
          0.63,
          0.56,
          0.57,
          0.52,
          0.57,
          0.59,
          0.62,
          0.57
         ],
         "xaxis": "x2",
         "y": [
          9.989999771118164,
          null,
          null,
          null,
          null,
          null,
          null,
          null,
          null,
          null
         ],
         "yaxis": "y2"
        },
        {
         "mode": "markers",
         "name": "Ticker STAR7",
         "type": "scatter",
         "x": [
          0.56,
          0.48,
          0.89,
          1.13,
          1.26,
          1.28,
          1.61,
          1.64,
          1.76,
          1.73
         ],
         "xaxis": "x",
         "y": [
          2.1679101634795908,
          2.264883237693826,
          null,
          null,
          null,
          null,
          null,
          null,
          null,
          null
         ],
         "yaxis": "y"
        },
        {
         "mode": "markers",
         "name": "Ticker STAR7",
         "type": "scatter",
         "x": [
          0.56,
          0.48,
          0.89,
          1.13,
          1.26,
          1.28,
          1.61,
          1.64,
          1.76,
          1.73
         ],
         "xaxis": "x2",
         "y": [
          8.739999771118164,
          9.630000114440916,
          null,
          null,
          null,
          null,
          null,
          null,
          null,
          null
         ],
         "yaxis": "y2"
        },
        {
         "mode": "markers",
         "name": "Ticker SCK",
         "type": "scatter",
         "x": [
          0.47,
          0.53,
          0.4,
          0.41,
          0.39,
          0.49,
          0.82,
          0.87,
          0.88,
          0.94
         ],
         "xaxis": "x",
         "y": [
          2.0333975857027218,
          2.356125878001209,
          1.1151415749853149,
          0.15700371212988268,
          -0.31471071871163714,
          null,
          null,
          null,
          null,
          null
         ],
         "yaxis": "y"
        },
        {
         "mode": "markers",
         "name": "Ticker SCK",
         "type": "scatter",
         "x": [
          0.47,
          0.53,
          0.4,
          0.41,
          0.39,
          0.49,
          0.82,
          0.87,
          0.88,
          0.94
         ],
         "xaxis": "x2",
         "y": [
          7.639999866485597,
          10.55000019073486,
          3.0499999523162837,
          1.1699999570846558,
          0.7300000190734863,
          null,
          null,
          null,
          null,
          null
         ],
         "yaxis": "y2"
        },
        {
         "mode": "markers",
         "name": "Ticker MARP",
         "type": "scatter",
         "x": [
          1.01,
          0.91,
          0.79,
          0.91,
          0.93,
          1.05,
          0.91,
          0.95,
          0.94,
          0.8
         ],
         "xaxis": "x",
         "y": [
          1.4060969697165737,
          1.5475624681341262,
          1.0296194001512595,
          1.508511989624342,
          null,
          null,
          null,
          null,
          null,
          null
         ],
         "yaxis": "y"
        },
        {
         "mode": "markers",
         "name": "Ticker MARP",
         "type": "scatter",
         "x": [
          1.01,
          0.91,
          0.79,
          0.91,
          0.93,
          1.05,
          0.91,
          0.95,
          0.94,
          0.8
         ],
         "xaxis": "x2",
         "y": [
          4.079999923706054,
          4.699999809265136,
          2.7999999523162837,
          4.519999980926514,
          null,
          null,
          null,
          null,
          null,
          null
         ],
         "yaxis": "y2"
        },
        {
         "mode": "markers",
         "name": "Ticker ITD",
         "type": "scatter",
         "x": [
          0.36,
          0.47,
          0.61,
          0.5,
          0.47,
          0.59,
          0.56,
          0.48,
          0.56,
          0.8
         ],
         "xaxis": "x",
         "y": [
          2.6672281800910014,
          2.972975247406338,
          2.3513752571634776,
          1.8082887555452603,
          1.0986122886681098,
          null,
          null,
          null,
          null,
          null
         ],
         "yaxis": "y"
        },
        {
         "mode": "markers",
         "name": "Ticker ITD",
         "type": "scatter",
         "x": [
          0.36,
          0.47,
          0.61,
          0.5,
          0.47,
          0.59,
          0.56,
          0.48,
          0.56,
          0.8
         ],
         "xaxis": "x2",
         "y": [
          14.399999618530272,
          19.549999237060543,
          10.499999999999998,
          6.0999999046325675,
          3,
          null,
          null,
          null,
          null,
          null
         ],
         "yaxis": "y2"
        },
        {
         "mode": "markers",
         "name": "Ticker VIM",
         "type": "scatter",
         "x": [
          0.88,
          0.79,
          0.59,
          0.69,
          0.84,
          1.13,
          1.01,
          1.01,
          1.1,
          1.03
         ],
         "xaxis": "x",
         "y": [
          0.13102824985805775,
          0.4637340372249708,
          0.18232159653038368,
          0.7654678864965156,
          1.0818051865157,
          null,
          null,
          null,
          null,
          null
         ],
         "yaxis": "y"
        },
        {
         "mode": "markers",
         "name": "Ticker VIM",
         "type": "scatter",
         "x": [
          0.88,
          0.79,
          0.59,
          0.69,
          0.84,
          1.13,
          1.01,
          1.01,
          1.1,
          1.03
         ],
         "xaxis": "x2",
         "y": [
          1.1399999856948853,
          1.590000033378601,
          1.2000000476837158,
          2.150000095367432,
          2.950000047683716,
          null,
          null,
          null,
          null,
          null
         ],
         "yaxis": "y2"
        },
        {
         "mode": "markers",
         "name": "Ticker MDC",
         "type": "scatter",
         "x": [
          0.48,
          0.52,
          0.75,
          0.79,
          0.8,
          0.79,
          0.75,
          0.78,
          0.8,
          0.83
         ],
         "xaxis": "x",
         "y": [
          3.228826155721369,
          3.640214242083339,
          null,
          null,
          null,
          null,
          null,
          null,
          null,
          null
         ],
         "yaxis": "y"
        },
        {
         "mode": "markers",
         "name": "Ticker MDC",
         "type": "scatter",
         "x": [
          0.48,
          0.52,
          0.75,
          0.79,
          0.8,
          0.79,
          0.75,
          0.78,
          0.8,
          0.83
         ],
         "xaxis": "x2",
         "y": [
          25.249999999999996,
          38.09999847412107,
          null,
          null,
          null,
          null,
          null,
          null,
          null,
          null
         ],
         "yaxis": "y2"
        },
        {
         "mode": "markers",
         "name": "Ticker ILP",
         "type": "scatter",
         "x": [
          0.6,
          0.63,
          0.53,
          0.74,
          0.82,
          0.65,
          0.58,
          0.64,
          0.63,
          0.7
         ],
         "xaxis": "x",
         "y": [
          1.490654389331624,
          1.508511989624342,
          0.7129497891566287,
          0.779324907423567,
          null,
          null,
          null,
          null,
          null,
          null
         ],
         "yaxis": "y"
        },
        {
         "mode": "markers",
         "name": "Ticker ILP",
         "type": "scatter",
         "x": [
          0.6,
          0.63,
          0.53,
          0.74,
          0.82,
          0.65,
          0.58,
          0.64,
          0.63,
          0.7
         ],
         "xaxis": "x2",
         "y": [
          4.440000057220458,
          4.519999980926514,
          2.039999961853028,
          2.180000066757202,
          null,
          null,
          null,
          null,
          null,
          null
         ],
         "yaxis": "y2"
        },
        {
         "mode": "markers",
         "name": "Ticker CFL",
         "type": "scatter",
         "x": [
          0.57,
          0.7,
          0.82,
          1.18,
          1.42,
          1.32,
          1.38,
          1.35,
          1.4,
          1.47
         ],
         "xaxis": "x",
         "y": [
          2.536866415880321,
          2.7549338039876257,
          null,
          null,
          null,
          null,
          null,
          null,
          null,
          null
         ],
         "yaxis": "y"
        },
        {
         "mode": "markers",
         "name": "Ticker CFL",
         "type": "scatter",
         "x": [
          0.57,
          0.7,
          0.82,
          1.18,
          1.42,
          1.32,
          1.38,
          1.35,
          1.4,
          1.47
         ],
         "xaxis": "x2",
         "y": [
          12.64000034332275,
          15.720000267028805,
          null,
          null,
          null,
          null,
          null,
          null,
          null,
          null
         ],
         "yaxis": "y2"
        },
        {
         "mode": "markers",
         "name": "Ticker FCM",
         "type": "scatter",
         "x": [
          0.77,
          0.68,
          0.8,
          0.77,
          0.99,
          0.9,
          0.91,
          0.69,
          0.68,
          0.65
         ],
         "xaxis": "x",
         "y": [
          0.12221762850445134,
          0.2350721108710924,
          0.2350721108710924,
          0.47933496257972397,
          null,
          null,
          null,
          null,
          null,
          null
         ],
         "yaxis": "y"
        },
        {
         "mode": "markers",
         "name": "Ticker FCM",
         "type": "scatter",
         "x": [
          0.77,
          0.68,
          0.8,
          0.77,
          0.99,
          0.9,
          0.91,
          0.69,
          0.68,
          0.65
         ],
         "xaxis": "x2",
         "y": [
          1.1299999952316284,
          1.2649999856948853,
          1.2649999856948853,
          1.6150000095367432,
          null,
          null,
          null,
          null,
          null,
          null
         ],
         "yaxis": "y2"
        },
        {
         "mode": "markers",
         "name": "Ticker FVI",
         "type": "scatter",
         "x": [
          0.57,
          0.56,
          0.51,
          0.65,
          0.67,
          0.81,
          0.86,
          0.78,
          0.65,
          0.7
         ],
         "xaxis": "x",
         "y": [
          2.7440606508911505,
          2.69462719365756,
          2.509599277885271,
          2.4248027425974863,
          2.4061257641178835,
          null,
          null,
          null,
          null,
          null
         ],
         "yaxis": "y"
        },
        {
         "mode": "markers",
         "name": "Ticker FVI",
         "type": "scatter",
         "x": [
          0.57,
          0.56,
          0.51,
          0.65,
          0.67,
          0.81,
          0.86,
          0.78,
          0.65,
          0.7
         ],
         "xaxis": "x2",
         "y": [
          15.550000190734858,
          14.800000190734858,
          12.30000019073486,
          11.300000190734863,
          11.090909004211426,
          null,
          null,
          null,
          null,
          null
         ],
         "yaxis": "y2"
        },
        {
         "mode": "markers",
         "name": "Ticker PLT",
         "type": "scatter",
         "x": [
          0.43,
          0.45,
          0.35,
          0.54,
          0.65,
          0.63,
          1.02,
          1.03,
          1.38,
          1.46
         ],
         "xaxis": "x",
         "y": [
          null,
          null,
          null,
          null,
          null,
          null,
          null,
          null,
          null,
          null
         ],
         "yaxis": "y"
        },
        {
         "mode": "markers",
         "name": "Ticker PLT",
         "type": "scatter",
         "x": [
          0.43,
          0.45,
          0.35,
          0.54,
          0.65,
          0.63,
          1.02,
          1.03,
          1.38,
          1.46
         ],
         "xaxis": "x2",
         "y": [
          null,
          null,
          null,
          null,
          null,
          null,
          null,
          null,
          null,
          null
         ],
         "yaxis": "y2"
        },
        {
         "mode": "markers",
         "name": "Ticker LDB",
         "type": "scatter",
         "x": [
          0.89,
          0.9,
          1.49,
          1.52,
          1.49,
          1.45,
          1.39,
          1.48,
          1.54,
          1.33
         ],
         "xaxis": "x",
         "y": [
          0.6291418754934363,
          0.7952523647473517,
          null,
          null,
          null,
          null,
          null,
          null,
          null,
          null
         ],
         "yaxis": "y"
        },
        {
         "mode": "markers",
         "name": "Ticker LDB",
         "type": "scatter",
         "x": [
          0.89,
          0.9,
          1.49,
          1.52,
          1.49,
          1.45,
          1.39,
          1.48,
          1.54,
          1.33
         ],
         "xaxis": "x2",
         "y": [
          1.876000046730041,
          2.2149999141693115,
          null,
          null,
          null,
          null,
          null,
          null,
          null,
          null
         ],
         "yaxis": "y2"
        },
        {
         "mode": "markers",
         "name": "Ticker FOS",
         "type": "scatter",
         "x": [
          0.37,
          0.44,
          0.39,
          0.36,
          0.54,
          0.75,
          0.57,
          0.62,
          0.67,
          0.63
         ],
         "xaxis": "x",
         "y": [
          1.2119409427536318,
          1.3506671562994919,
          0.9082585678678127,
          1.1426291710428607,
          null,
          null,
          null,
          null,
          null,
          null
         ],
         "yaxis": "y"
        },
        {
         "mode": "markers",
         "name": "Ticker FOS",
         "type": "scatter",
         "x": [
          0.37,
          0.44,
          0.39,
          0.36,
          0.54,
          0.75,
          0.57,
          0.62,
          0.67,
          0.63
         ],
         "xaxis": "x2",
         "y": [
          3.359999895095825,
          3.859999895095825,
          2.4800000190734863,
          3.1349999904632564,
          null,
          null,
          null,
          null,
          null,
          null
         ],
         "yaxis": "y2"
        },
        {
         "mode": "markers",
         "name": "Ticker BAN",
         "type": "scatter",
         "x": [
          0.01,
          0.01,
          0.02,
          0.03,
          0.03,
          0.02,
          0.02,
          0.02,
          0.02,
          0.01
         ],
         "xaxis": "x",
         "y": [
          1.6992785780777009,
          1.814824720414034,
          1.4586150670564606,
          1.6677068565457855,
          1.4929040533163809,
          1.3244189548654353,
          1.2005670192292972,
          1.4683350732132154,
          0.8162494147953161,
          0.8862438592669583
         ],
         "yaxis": "y"
        },
        {
         "mode": "markers",
         "name": "Ticker BAN",
         "type": "scatter",
         "x": [
          0.01,
          0.01,
          0.02,
          0.03,
          0.03,
          0.02,
          0.02,
          0.02,
          0.02,
          0.01
         ],
         "xaxis": "x2",
         "y": [
          5.46999979019165,
          6.139999866485596,
          4.300000190734862,
          5.300000190734862,
          4.449999809265136,
          3.7599999904632564,
          3.3220000267028804,
          4.3420000076293945,
          2.26200008392334,
          2.4260001182556152
         ],
         "yaxis": "y2"
        }
       ],
       "layout": {
        "showlegend": false,
        "template": {
         "data": {
          "bar": [
           {
            "error_x": {
             "color": "#2a3f5f"
            },
            "error_y": {
             "color": "#2a3f5f"
            },
            "marker": {
             "line": {
              "color": "#E5ECF6",
              "width": 0.5
             },
             "pattern": {
              "fillmode": "overlay",
              "size": 10,
              "solidity": 0.2
             }
            },
            "type": "bar"
           }
          ],
          "barpolar": [
           {
            "marker": {
             "line": {
              "color": "#E5ECF6",
              "width": 0.5
             },
             "pattern": {
              "fillmode": "overlay",
              "size": 10,
              "solidity": 0.2
             }
            },
            "type": "barpolar"
           }
          ],
          "carpet": [
           {
            "aaxis": {
             "endlinecolor": "#2a3f5f",
             "gridcolor": "white",
             "linecolor": "white",
             "minorgridcolor": "white",
             "startlinecolor": "#2a3f5f"
            },
            "baxis": {
             "endlinecolor": "#2a3f5f",
             "gridcolor": "white",
             "linecolor": "white",
             "minorgridcolor": "white",
             "startlinecolor": "#2a3f5f"
            },
            "type": "carpet"
           }
          ],
          "choropleth": [
           {
            "colorbar": {
             "outlinewidth": 0,
             "ticks": ""
            },
            "type": "choropleth"
           }
          ],
          "contour": [
           {
            "colorbar": {
             "outlinewidth": 0,
             "ticks": ""
            },
            "colorscale": [
             [
              0,
              "#0d0887"
             ],
             [
              0.1111111111111111,
              "#46039f"
             ],
             [
              0.2222222222222222,
              "#7201a8"
             ],
             [
              0.3333333333333333,
              "#9c179e"
             ],
             [
              0.4444444444444444,
              "#bd3786"
             ],
             [
              0.5555555555555556,
              "#d8576b"
             ],
             [
              0.6666666666666666,
              "#ed7953"
             ],
             [
              0.7777777777777778,
              "#fb9f3a"
             ],
             [
              0.8888888888888888,
              "#fdca26"
             ],
             [
              1,
              "#f0f921"
             ]
            ],
            "type": "contour"
           }
          ],
          "contourcarpet": [
           {
            "colorbar": {
             "outlinewidth": 0,
             "ticks": ""
            },
            "type": "contourcarpet"
           }
          ],
          "heatmap": [
           {
            "colorbar": {
             "outlinewidth": 0,
             "ticks": ""
            },
            "colorscale": [
             [
              0,
              "#0d0887"
             ],
             [
              0.1111111111111111,
              "#46039f"
             ],
             [
              0.2222222222222222,
              "#7201a8"
             ],
             [
              0.3333333333333333,
              "#9c179e"
             ],
             [
              0.4444444444444444,
              "#bd3786"
             ],
             [
              0.5555555555555556,
              "#d8576b"
             ],
             [
              0.6666666666666666,
              "#ed7953"
             ],
             [
              0.7777777777777778,
              "#fb9f3a"
             ],
             [
              0.8888888888888888,
              "#fdca26"
             ],
             [
              1,
              "#f0f921"
             ]
            ],
            "type": "heatmap"
           }
          ],
          "heatmapgl": [
           {
            "colorbar": {
             "outlinewidth": 0,
             "ticks": ""
            },
            "colorscale": [
             [
              0,
              "#0d0887"
             ],
             [
              0.1111111111111111,
              "#46039f"
             ],
             [
              0.2222222222222222,
              "#7201a8"
             ],
             [
              0.3333333333333333,
              "#9c179e"
             ],
             [
              0.4444444444444444,
              "#bd3786"
             ],
             [
              0.5555555555555556,
              "#d8576b"
             ],
             [
              0.6666666666666666,
              "#ed7953"
             ],
             [
              0.7777777777777778,
              "#fb9f3a"
             ],
             [
              0.8888888888888888,
              "#fdca26"
             ],
             [
              1,
              "#f0f921"
             ]
            ],
            "type": "heatmapgl"
           }
          ],
          "histogram": [
           {
            "marker": {
             "pattern": {
              "fillmode": "overlay",
              "size": 10,
              "solidity": 0.2
             }
            },
            "type": "histogram"
           }
          ],
          "histogram2d": [
           {
            "colorbar": {
             "outlinewidth": 0,
             "ticks": ""
            },
            "colorscale": [
             [
              0,
              "#0d0887"
             ],
             [
              0.1111111111111111,
              "#46039f"
             ],
             [
              0.2222222222222222,
              "#7201a8"
             ],
             [
              0.3333333333333333,
              "#9c179e"
             ],
             [
              0.4444444444444444,
              "#bd3786"
             ],
             [
              0.5555555555555556,
              "#d8576b"
             ],
             [
              0.6666666666666666,
              "#ed7953"
             ],
             [
              0.7777777777777778,
              "#fb9f3a"
             ],
             [
              0.8888888888888888,
              "#fdca26"
             ],
             [
              1,
              "#f0f921"
             ]
            ],
            "type": "histogram2d"
           }
          ],
          "histogram2dcontour": [
           {
            "colorbar": {
             "outlinewidth": 0,
             "ticks": ""
            },
            "colorscale": [
             [
              0,
              "#0d0887"
             ],
             [
              0.1111111111111111,
              "#46039f"
             ],
             [
              0.2222222222222222,
              "#7201a8"
             ],
             [
              0.3333333333333333,
              "#9c179e"
             ],
             [
              0.4444444444444444,
              "#bd3786"
             ],
             [
              0.5555555555555556,
              "#d8576b"
             ],
             [
              0.6666666666666666,
              "#ed7953"
             ],
             [
              0.7777777777777778,
              "#fb9f3a"
             ],
             [
              0.8888888888888888,
              "#fdca26"
             ],
             [
              1,
              "#f0f921"
             ]
            ],
            "type": "histogram2dcontour"
           }
          ],
          "mesh3d": [
           {
            "colorbar": {
             "outlinewidth": 0,
             "ticks": ""
            },
            "type": "mesh3d"
           }
          ],
          "parcoords": [
           {
            "line": {
             "colorbar": {
              "outlinewidth": 0,
              "ticks": ""
             }
            },
            "type": "parcoords"
           }
          ],
          "pie": [
           {
            "automargin": true,
            "type": "pie"
           }
          ],
          "scatter": [
           {
            "fillpattern": {
             "fillmode": "overlay",
             "size": 10,
             "solidity": 0.2
            },
            "type": "scatter"
           }
          ],
          "scatter3d": [
           {
            "line": {
             "colorbar": {
              "outlinewidth": 0,
              "ticks": ""
             }
            },
            "marker": {
             "colorbar": {
              "outlinewidth": 0,
              "ticks": ""
             }
            },
            "type": "scatter3d"
           }
          ],
          "scattercarpet": [
           {
            "marker": {
             "colorbar": {
              "outlinewidth": 0,
              "ticks": ""
             }
            },
            "type": "scattercarpet"
           }
          ],
          "scattergeo": [
           {
            "marker": {
             "colorbar": {
              "outlinewidth": 0,
              "ticks": ""
             }
            },
            "type": "scattergeo"
           }
          ],
          "scattergl": [
           {
            "marker": {
             "colorbar": {
              "outlinewidth": 0,
              "ticks": ""
             }
            },
            "type": "scattergl"
           }
          ],
          "scattermapbox": [
           {
            "marker": {
             "colorbar": {
              "outlinewidth": 0,
              "ticks": ""
             }
            },
            "type": "scattermapbox"
           }
          ],
          "scatterpolar": [
           {
            "marker": {
             "colorbar": {
              "outlinewidth": 0,
              "ticks": ""
             }
            },
            "type": "scatterpolar"
           }
          ],
          "scatterpolargl": [
           {
            "marker": {
             "colorbar": {
              "outlinewidth": 0,
              "ticks": ""
             }
            },
            "type": "scatterpolargl"
           }
          ],
          "scatterternary": [
           {
            "marker": {
             "colorbar": {
              "outlinewidth": 0,
              "ticks": ""
             }
            },
            "type": "scatterternary"
           }
          ],
          "surface": [
           {
            "colorbar": {
             "outlinewidth": 0,
             "ticks": ""
            },
            "colorscale": [
             [
              0,
              "#0d0887"
             ],
             [
              0.1111111111111111,
              "#46039f"
             ],
             [
              0.2222222222222222,
              "#7201a8"
             ],
             [
              0.3333333333333333,
              "#9c179e"
             ],
             [
              0.4444444444444444,
              "#bd3786"
             ],
             [
              0.5555555555555556,
              "#d8576b"
             ],
             [
              0.6666666666666666,
              "#ed7953"
             ],
             [
              0.7777777777777778,
              "#fb9f3a"
             ],
             [
              0.8888888888888888,
              "#fdca26"
             ],
             [
              1,
              "#f0f921"
             ]
            ],
            "type": "surface"
           }
          ],
          "table": [
           {
            "cells": {
             "fill": {
              "color": "#EBF0F8"
             },
             "line": {
              "color": "white"
             }
            },
            "header": {
             "fill": {
              "color": "#C8D4E3"
             },
             "line": {
              "color": "white"
             }
            },
            "type": "table"
           }
          ]
         },
         "layout": {
          "annotationdefaults": {
           "arrowcolor": "#2a3f5f",
           "arrowhead": 0,
           "arrowwidth": 1
          },
          "autotypenumbers": "strict",
          "coloraxis": {
           "colorbar": {
            "outlinewidth": 0,
            "ticks": ""
           }
          },
          "colorscale": {
           "diverging": [
            [
             0,
             "#8e0152"
            ],
            [
             0.1,
             "#c51b7d"
            ],
            [
             0.2,
             "#de77ae"
            ],
            [
             0.3,
             "#f1b6da"
            ],
            [
             0.4,
             "#fde0ef"
            ],
            [
             0.5,
             "#f7f7f7"
            ],
            [
             0.6,
             "#e6f5d0"
            ],
            [
             0.7,
             "#b8e186"
            ],
            [
             0.8,
             "#7fbc41"
            ],
            [
             0.9,
             "#4d9221"
            ],
            [
             1,
             "#276419"
            ]
           ],
           "sequential": [
            [
             0,
             "#0d0887"
            ],
            [
             0.1111111111111111,
             "#46039f"
            ],
            [
             0.2222222222222222,
             "#7201a8"
            ],
            [
             0.3333333333333333,
             "#9c179e"
            ],
            [
             0.4444444444444444,
             "#bd3786"
            ],
            [
             0.5555555555555556,
             "#d8576b"
            ],
            [
             0.6666666666666666,
             "#ed7953"
            ],
            [
             0.7777777777777778,
             "#fb9f3a"
            ],
            [
             0.8888888888888888,
             "#fdca26"
            ],
            [
             1,
             "#f0f921"
            ]
           ],
           "sequentialminus": [
            [
             0,
             "#0d0887"
            ],
            [
             0.1111111111111111,
             "#46039f"
            ],
            [
             0.2222222222222222,
             "#7201a8"
            ],
            [
             0.3333333333333333,
             "#9c179e"
            ],
            [
             0.4444444444444444,
             "#bd3786"
            ],
            [
             0.5555555555555556,
             "#d8576b"
            ],
            [
             0.6666666666666666,
             "#ed7953"
            ],
            [
             0.7777777777777778,
             "#fb9f3a"
            ],
            [
             0.8888888888888888,
             "#fdca26"
            ],
            [
             1,
             "#f0f921"
            ]
           ]
          },
          "colorway": [
           "#636efa",
           "#EF553B",
           "#00cc96",
           "#ab63fa",
           "#FFA15A",
           "#19d3f3",
           "#FF6692",
           "#B6E880",
           "#FF97FF",
           "#FECB52"
          ],
          "font": {
           "color": "#2a3f5f"
          },
          "geo": {
           "bgcolor": "white",
           "lakecolor": "white",
           "landcolor": "#E5ECF6",
           "showlakes": true,
           "showland": true,
           "subunitcolor": "white"
          },
          "hoverlabel": {
           "align": "left"
          },
          "hovermode": "closest",
          "mapbox": {
           "style": "light"
          },
          "paper_bgcolor": "white",
          "plot_bgcolor": "#E5ECF6",
          "polar": {
           "angularaxis": {
            "gridcolor": "white",
            "linecolor": "white",
            "ticks": ""
           },
           "bgcolor": "#E5ECF6",
           "radialaxis": {
            "gridcolor": "white",
            "linecolor": "white",
            "ticks": ""
           }
          },
          "scene": {
           "xaxis": {
            "backgroundcolor": "#E5ECF6",
            "gridcolor": "white",
            "gridwidth": 2,
            "linecolor": "white",
            "showbackground": true,
            "ticks": "",
            "zerolinecolor": "white"
           },
           "yaxis": {
            "backgroundcolor": "#E5ECF6",
            "gridcolor": "white",
            "gridwidth": 2,
            "linecolor": "white",
            "showbackground": true,
            "ticks": "",
            "zerolinecolor": "white"
           },
           "zaxis": {
            "backgroundcolor": "#E5ECF6",
            "gridcolor": "white",
            "gridwidth": 2,
            "linecolor": "white",
            "showbackground": true,
            "ticks": "",
            "zerolinecolor": "white"
           }
          },
          "shapedefaults": {
           "line": {
            "color": "#2a3f5f"
           }
          },
          "ternary": {
           "aaxis": {
            "gridcolor": "white",
            "linecolor": "white",
            "ticks": ""
           },
           "baxis": {
            "gridcolor": "white",
            "linecolor": "white",
            "ticks": ""
           },
           "bgcolor": "#E5ECF6",
           "caxis": {
            "gridcolor": "white",
            "linecolor": "white",
            "ticks": ""
           }
          },
          "title": {
           "x": 0.05
          },
          "xaxis": {
           "automargin": true,
           "gridcolor": "white",
           "linecolor": "white",
           "ticks": "",
           "title": {
            "standoff": 15
           },
           "zerolinecolor": "white",
           "zerolinewidth": 2
          },
          "yaxis": {
           "automargin": true,
           "gridcolor": "white",
           "linecolor": "white",
           "ticks": "",
           "title": {
            "standoff": 15
           },
           "zerolinecolor": "white",
           "zerolinewidth": 2
          }
         }
        },
        "title": {
         "text": "Relazione tra Rotaz_cap_investito e Valori Borsa"
        },
        "xaxis": {
         "anchor": "y",
         "domain": [
          0,
          0.45
         ]
        },
        "xaxis2": {
         "anchor": "y2",
         "domain": [
          0.55,
          1
         ]
        },
        "yaxis": {
         "anchor": "x",
         "domain": [
          0,
          1
         ],
         "title": {
          "text": "Log Valori Borsa"
         }
        },
        "yaxis2": {
         "anchor": "x2",
         "domain": [
          0,
          1
         ],
         "title": {
          "text": "Valori Borsa"
         }
        }
       }
      }
     },
     "metadata": {},
     "output_type": "display_data"
    },
    {
     "data": {
      "application/vnd.plotly.v1+json": {
       "config": {
        "plotlyServerURL": "https://plot.ly"
       },
       "data": [
        {
         "mode": "markers",
         "name": "Ticker MARR",
         "type": "scatter",
         "x": [
          2.21,
          1.66,
          1.4,
          2.04,
          2.06,
          2.12,
          2.09,
          2.14,
          2.28,
          2.14
         ],
         "xaxis": "x",
         "y": [
          2.509599277885271,
          2.9349201179417297,
          2.8791984144362717,
          3.054001217665676,
          3.0689827565651293,
          3.07915387116492,
          2.87073576176629,
          2.8887036625848097,
          2.691243082785829,
          2.4849066497880004
         ],
         "yaxis": "y"
        },
        {
         "mode": "markers",
         "name": "Ticker MARR",
         "type": "scatter",
         "x": [
          2.21,
          1.66,
          1.4,
          2.04,
          2.06,
          2.12,
          2.09,
          2.14,
          2.28,
          2.14
         ],
         "xaxis": "x2",
         "y": [
          12.30000019073486,
          18.819999694824215,
          17.799999237060547,
          21.20000076293945,
          21.520000457763665,
          21.73999977111816,
          17.64999961853027,
          17.969999313354485,
          14.749999999999998,
          11.999999999999998
         ],
         "yaxis": "y2"
        },
        {
         "mode": "markers",
         "name": "Ticker PIA",
         "type": "scatter",
         "x": [
          2,
          1.98,
          2.01,
          2.24,
          2.15,
          2.36,
          1.92,
          2,
          1.77,
          2
         ],
         "xaxis": "x",
         "y": [
          1.077048147781857,
          1.0522192777352672,
          0.9962103346242122,
          1.007957923880542,
          0.6392188284692253,
          0.917889432671393,
          0.48365994275805774,
          0.698134717326336,
          0.9066443833247319,
          0.8569652431213597
         ],
         "yaxis": "y"
        },
        {
         "mode": "markers",
         "name": "Ticker PIA",
         "type": "scatter",
         "x": [
          2,
          1.98,
          2.01,
          2.24,
          2.15,
          2.36,
          1.92,
          2,
          1.77,
          2
         ],
         "xaxis": "x2",
         "y": [
          2.9360001087188716,
          2.864000082015991,
          2.7079999446868896,
          2.740000009536743,
          1.8949999809265134,
          2.503999948501587,
          1.621999979019165,
          2.009999990463257,
          2.476000070571899,
          2.3559999465942383
         ],
         "yaxis": "y2"
        },
        {
         "mode": "markers",
         "name": "Ticker BRE",
         "type": "scatter",
         "x": [
          1.26,
          1.1,
          0.89,
          1.63,
          1.6,
          1.73,
          2.18,
          2.08,
          1.84,
          1.84
         ],
         "xaxis": "x",
         "y": [
          2.4033350340342152,
          2.564179813062659,
          2.393218807006317,
          2.404238719152724,
          2.320425041100351,
          2.58475200201879,
          2.4890646757652832,
          2.07969149231976,
          1.6815725236803198,
          1.3681303836941336
         ],
         "yaxis": "y"
        },
        {
         "mode": "markers",
         "name": "Ticker BRE",
         "type": "scatter",
         "x": [
          1.26,
          1.1,
          0.89,
          1.63,
          1.6,
          1.73,
          2.18,
          2.08,
          1.84,
          1.84
         ],
         "xaxis": "x2",
         "y": [
          11.0600004196167,
          12.989999771118162,
          10.948678970336912,
          11.069999694824217,
          10.180000305175781,
          13.260000228881834,
          12.050000190734862,
          8.001999855041504,
          5.374000072479247,
          3.9279999732971187
         ],
         "yaxis": "y2"
        },
        {
         "mode": "markers",
         "name": "Ticker DAN",
         "type": "scatter",
         "x": [
          0.57,
          1.27,
          0.55,
          0.69,
          1.13,
          0.86,
          1.37,
          0.93,
          1.1,
          0.88
         ],
         "xaxis": "x",
         "y": [
          3.104586644253541,
          3.2790297189519984,
          2.7265447662626667,
          2.8154087651077058,
          2.785011289333365,
          3.0516398874558934,
          3.0243197266987147,
          2.740840023925201,
          3.000222186422059,
          3.2308043655777645
         ],
         "yaxis": "y"
        },
        {
         "mode": "markers",
         "name": "Ticker DAN",
         "type": "scatter",
         "x": [
          0.57,
          1.27,
          0.55,
          0.69,
          1.13,
          0.86,
          1.37,
          0.93,
          1.1,
          0.88
         ],
         "xaxis": "x2",
         "y": [
          22.299999237060543,
          26.549999237060547,
          15.279999732971186,
          16.700000762939453,
          16.20000076293945,
          21.149999618530277,
          20.57999992370605,
          15.499999999999996,
          20.090000152587887,
          25.299999237060543
         ],
         "yaxis": "y2"
        },
        {
         "mode": "markers",
         "name": "Ticker BC",
         "type": "scatter",
         "x": [
          1.47,
          1.57,
          1.33,
          1.33,
          1.47,
          1.45,
          1.4,
          1.37,
          1.3,
          1.43
         ],
         "xaxis": "x",
         "y": [
          4.269697449699962,
          4.107589776423775,
          3.5333946002941827,
          3.5587707383536116,
          3.349904087274605,
          3.363841581918742,
          3.0267462864029175,
          2.7033726319915394,
          2.8735646826837065,
          3.1705255511154085
         ],
         "yaxis": "y"
        },
        {
         "mode": "markers",
         "name": "Ticker BC",
         "type": "scatter",
         "x": [
          1.47,
          1.57,
          1.33,
          1.33,
          1.47,
          1.45,
          1.4,
          1.37,
          1.3,
          1.43
         ],
         "xaxis": "x2",
         "y": [
          71.49999999999996,
          60.79999923706053,
          34.2400016784668,
          35.11999893188476,
          28.499999999999996,
          28.89999961853027,
          20.6299991607666,
          14.930000305175776,
          17.70000076293945,
          23.81999969482422
         ],
         "yaxis": "y2"
        },
        {
         "mode": "markers",
         "name": "Ticker CLI",
         "type": "scatter",
         "x": [
          2.96,
          2.41,
          2.06,
          2.33,
          2.22,
          1.73,
          2.42,
          2.4,
          2.93,
          2.84
         ],
         "xaxis": "x",
         "y": [
          1.0543119898966447,
          1.2412686000947695,
          0.9001613654511708,
          0.9162907318741551,
          1.007957923880542,
          1.2584609841914016,
          1.1052568250710544,
          1.1933162536324886,
          0.9895412148852936,
          0.6418538736240484
         ],
         "yaxis": "y"
        },
        {
         "mode": "markers",
         "name": "Ticker CLI",
         "type": "scatter",
         "x": [
          2.96,
          2.41,
          2.06,
          2.33,
          2.22,
          1.73,
          2.42,
          2.4,
          2.93,
          2.84
         ],
         "xaxis": "x2",
         "y": [
          2.869999885559082,
          3.4600000381469727,
          2.4600000381469727,
          2.5,
          2.740000009536743,
          3.5199999809265132,
          3.0199999809265137,
          3.29800009727478,
          2.6900000572204585,
          1.899999976158142
         ],
         "yaxis": "y2"
        },
        {
         "mode": "markers",
         "name": "Ticker ELC",
         "type": "scatter",
         "x": [
          1.95,
          1.78,
          1.65,
          2.6,
          2.49,
          2.19,
          1.87,
          2.11,
          2.21,
          2.16
         ],
         "xaxis": "x",
         "y": [
          1.120047588057166,
          1.264126716369702,
          1.1265516697226583,
          1.0885619624476819,
          0.4187103223098387,
          0.9082585678678127,
          0.6097655897614381,
          0.6418538736240484,
          0.5704144453674508,
          0.5709795358097567
         ],
         "yaxis": "y"
        },
        {
         "mode": "markers",
         "name": "Ticker ELC",
         "type": "scatter",
         "x": [
          1.95,
          1.78,
          1.65,
          2.6,
          2.49,
          2.19,
          1.87,
          2.11,
          2.21,
          2.16
         ],
         "xaxis": "x2",
         "y": [
          3.065000057220459,
          3.5399999618530273,
          3.0850000381469727,
          2.9700000286102286,
          1.5199999809265137,
          2.4800000190734863,
          1.840000033378601,
          1.899999976158142,
          1.7690000534057615,
          1.7699999809265134
         ],
         "yaxis": "y2"
        },
        {
         "mode": "markers",
         "name": "Ticker GPI",
         "type": "scatter",
         "x": [
          0.57,
          0.99,
          0.86,
          0.83,
          0.71,
          0.88,
          0.68,
          1.31,
          1.64,
          1.37
         ],
         "xaxis": "x",
         "y": [
          2.653241951175182,
          2.803360380906535,
          2.101692187922208,
          2.0464016580303386,
          2.121063234666565,
          2.3702437236421723,
          2.3223877015907286,
          2.282382405139267,
          null,
          null
         ],
         "yaxis": "y"
        },
        {
         "mode": "markers",
         "name": "Ticker GPI",
         "type": "scatter",
         "x": [
          0.57,
          0.99,
          0.86,
          0.83,
          0.71,
          0.88,
          0.68,
          1.31,
          1.64,
          1.37
         ],
         "xaxis": "x2",
         "y": [
          14.199999809265131,
          16.499999999999996,
          8.180000305175781,
          7.739999771118162,
          8.340000152587889,
          10.699999809265137,
          10.199999809265133,
          9.800000190734862,
          null,
          null
         ],
         "yaxis": "y2"
        },
        {
         "mode": "markers",
         "name": "Ticker SRI",
         "type": "scatter",
         "x": [
          2.08,
          2.44,
          2.2,
          2.31,
          2.15,
          2.1,
          1.99,
          2.02,
          2.07,
          1.73
         ],
         "xaxis": "x",
         "y": [
          0.18647960255701124,
          0.7443154761953833,
          0.8285518009080817,
          1.169381368441481,
          1.2974631708642825,
          1.911022923913132,
          1.2974631708642825,
          1.341296964264569,
          1.3942625468528604,
          1.4148818606044733
         ],
         "yaxis": "y"
        },
        {
         "mode": "markers",
         "name": "Ticker SRI",
         "type": "scatter",
         "x": [
          2.08,
          2.44,
          2.2,
          2.31,
          2.15,
          2.1,
          1.99,
          2.02,
          2.07,
          1.73
         ],
         "xaxis": "x2",
         "y": [
          1.2050000429153442,
          2.1050000190734863,
          2.289999961853028,
          3.2200000286102286,
          3.660000085830689,
          6.760000228881836,
          3.660000085830689,
          3.8239998817443848,
          4.0320000648498535,
          4.116000175476073
         ],
         "yaxis": "y2"
        },
        {
         "mode": "markers",
         "name": "Ticker ALA",
         "type": "scatter",
         "x": [
          1.37,
          1.18,
          1.36,
          1.47,
          1.33,
          1.29,
          1.31,
          1.21,
          0.86,
          1.33
         ],
         "xaxis": "x",
         "y": [
          2.4680995476355903,
          2.3655598563366795,
          null,
          null,
          null,
          null,
          null,
          null,
          null,
          null
         ],
         "yaxis": "y"
        },
        {
         "mode": "markers",
         "name": "Ticker ALA",
         "type": "scatter",
         "x": [
          1.37,
          1.18,
          1.36,
          1.47,
          1.33,
          1.29,
          1.31,
          1.21,
          0.86,
          1.33
         ],
         "xaxis": "x2",
         "y": [
          11.80000019073486,
          10.64999961853027,
          null,
          null,
          null,
          null,
          null,
          null,
          null,
          null
         ],
         "yaxis": "y2"
        },
        {
         "mode": "markers",
         "name": "Ticker ICF",
         "type": "scatter",
         "x": [
          1.62,
          1.39,
          1.33,
          1.71,
          2.16,
          1.91,
          1.86,
          2.23,
          2.16,
          2.09
         ],
         "xaxis": "x",
         "y": [
          1.7155980979710415,
          1.8277698730198415,
          1.6974487967434386,
          null,
          null,
          null,
          null,
          null,
          null,
          null
         ],
         "yaxis": "y"
        },
        {
         "mode": "markers",
         "name": "Ticker ICF",
         "type": "scatter",
         "x": [
          1.62,
          1.39,
          1.33,
          1.71,
          2.16,
          1.91,
          1.86,
          2.23,
          2.16,
          2.09
         ],
         "xaxis": "x2",
         "y": [
          5.55999994277954,
          6.2199997901916495,
          5.460000038146972,
          null,
          null,
          null,
          null,
          null,
          null,
          null
         ],
         "yaxis": "y2"
        },
        {
         "mode": "markers",
         "name": "Ticker ENV",
         "type": "scatter",
         "x": [
          1.86,
          1.67,
          1.6,
          2.52,
          2.49,
          2.21,
          2.25,
          2.66,
          2.19,
          2.08
         ],
         "xaxis": "x",
         "y": [
          1.190887553182456,
          1.3350010541839938,
          1.1939224540228235,
          1.2208299523375428,
          1.1847899790762915,
          1.2470322992672698,
          1.0224509174110963,
          1.0260415821605242,
          1.249901738946927,
          1.1499389134175557
         ],
         "yaxis": "y"
        },
        {
         "mode": "markers",
         "name": "Ticker ENV",
         "type": "scatter",
         "x": [
          1.86,
          1.67,
          1.6,
          2.52,
          2.49,
          2.21,
          2.25,
          2.66,
          2.19,
          2.08
         ],
         "xaxis": "x2",
         "y": [
          3.289999961853028,
          3.799999952316284,
          3.2999999523162837,
          3.390000104904175,
          3.2699999809265132,
          3.480000019073486,
          2.7799999713897705,
          2.7899999618530273,
          3.4900000095367427,
          3.1579999923706046
         ],
         "yaxis": "y2"
        },
        {
         "mode": "markers",
         "name": "Ticker MASI",
         "type": "scatter",
         "x": [
          0.73,
          0.67,
          0.6,
          0.85,
          0.83,
          0.82,
          1.03,
          0.85,
          1.09,
          1.24
         ],
         "xaxis": "x",
         "y": [
          1.5062972042644385,
          1.348073123528931,
          0.943905872931563,
          1.1568812177849161,
          1.348073123528931,
          1.5040773967762742,
          1.4609378908394477,
          1.4816045625986316,
          null,
          null
         ],
         "yaxis": "y"
        },
        {
         "mode": "markers",
         "name": "Ticker MASI",
         "type": "scatter",
         "x": [
          0.73,
          0.67,
          0.6,
          0.85,
          0.83,
          0.82,
          1.03,
          0.85,
          1.09,
          1.24
         ],
         "xaxis": "x2",
         "y": [
          4.510000228881836,
          3.8499999046325675,
          2.569999933242798,
          3.180000066757202,
          3.8499999046325675,
          4.5,
          4.30999994277954,
          4.400000095367432,
          null,
          null
         ],
         "yaxis": "y2"
        },
        {
         "mode": "markers",
         "name": "Ticker SVS",
         "type": "scatter",
         "x": [
          0.83,
          0.77,
          1.19,
          1.22,
          1.21,
          1.02,
          1.18,
          1.27,
          1.16,
          1.09
         ],
         "xaxis": "x",
         "y": [
          2.3015845697493673,
          null,
          null,
          null,
          null,
          null,
          null,
          null,
          null,
          null
         ],
         "yaxis": "y"
        },
        {
         "mode": "markers",
         "name": "Ticker SVS",
         "type": "scatter",
         "x": [
          0.83,
          0.77,
          1.19,
          1.22,
          1.21,
          1.02,
          1.18,
          1.27,
          1.16,
          1.09
         ],
         "xaxis": "x2",
         "y": [
          9.989999771118164,
          null,
          null,
          null,
          null,
          null,
          null,
          null,
          null,
          null
         ],
         "yaxis": "y2"
        },
        {
         "mode": "markers",
         "name": "Ticker STAR7",
         "type": "scatter",
         "x": [
          1.07,
          0.92,
          1.12,
          1.37,
          1.56,
          1.47,
          1.96,
          1.98,
          2.21,
          2.05
         ],
         "xaxis": "x",
         "y": [
          2.1679101634795908,
          2.264883237693826,
          null,
          null,
          null,
          null,
          null,
          null,
          null,
          null
         ],
         "yaxis": "y"
        },
        {
         "mode": "markers",
         "name": "Ticker STAR7",
         "type": "scatter",
         "x": [
          1.07,
          0.92,
          1.12,
          1.37,
          1.56,
          1.47,
          1.96,
          1.98,
          2.21,
          2.05
         ],
         "xaxis": "x2",
         "y": [
          8.739999771118164,
          9.630000114440916,
          null,
          null,
          null,
          null,
          null,
          null,
          null,
          null
         ],
         "yaxis": "y2"
        },
        {
         "mode": "markers",
         "name": "Ticker SCK",
         "type": "scatter",
         "x": [
          0.68,
          0.84,
          0.75,
          0.82,
          0.69,
          1.08,
          1.37,
          1.48,
          1.67,
          1.7
         ],
         "xaxis": "x",
         "y": [
          2.0333975857027218,
          2.356125878001209,
          1.1151415749853149,
          0.15700371212988268,
          -0.31471071871163714,
          null,
          null,
          null,
          null,
          null
         ],
         "yaxis": "y"
        },
        {
         "mode": "markers",
         "name": "Ticker SCK",
         "type": "scatter",
         "x": [
          0.68,
          0.84,
          0.75,
          0.82,
          0.69,
          1.08,
          1.37,
          1.48,
          1.67,
          1.7
         ],
         "xaxis": "x2",
         "y": [
          7.639999866485597,
          10.55000019073486,
          3.0499999523162837,
          1.1699999570846558,
          0.7300000190734863,
          null,
          null,
          null,
          null,
          null
         ],
         "yaxis": "y2"
        },
        {
         "mode": "markers",
         "name": "Ticker MARP",
         "type": "scatter",
         "x": [
          1.58,
          1.49,
          1.41,
          1.81,
          1.81,
          2,
          1.92,
          1.97,
          2.23,
          1.82
         ],
         "xaxis": "x",
         "y": [
          1.4060969697165737,
          1.5475624681341262,
          1.0296194001512595,
          1.508511989624342,
          null,
          null,
          null,
          null,
          null,
          null
         ],
         "yaxis": "y"
        },
        {
         "mode": "markers",
         "name": "Ticker MARP",
         "type": "scatter",
         "x": [
          1.58,
          1.49,
          1.41,
          1.81,
          1.81,
          2,
          1.92,
          1.97,
          2.23,
          1.82
         ],
         "xaxis": "x2",
         "y": [
          4.079999923706054,
          4.699999809265136,
          2.7999999523162837,
          4.519999980926514,
          null,
          null,
          null,
          null,
          null,
          null
         ],
         "yaxis": "y2"
        },
        {
         "mode": "markers",
         "name": "Ticker ITD",
         "type": "scatter",
         "x": [
          1.26,
          1.5,
          2.42,
          1.44,
          1.21,
          2.46,
          2.14,
          1.62,
          1.27,
          2.33
         ],
         "xaxis": "x",
         "y": [
          2.6672281800910014,
          2.972975247406338,
          2.3513752571634776,
          1.8082887555452603,
          1.0986122886681098,
          null,
          null,
          null,
          null,
          null
         ],
         "yaxis": "y"
        },
        {
         "mode": "markers",
         "name": "Ticker ITD",
         "type": "scatter",
         "x": [
          1.26,
          1.5,
          2.42,
          1.44,
          1.21,
          2.46,
          2.14,
          1.62,
          1.27,
          2.33
         ],
         "xaxis": "x2",
         "y": [
          14.399999618530272,
          19.549999237060543,
          10.499999999999998,
          6.0999999046325675,
          3,
          null,
          null,
          null,
          null,
          null
         ],
         "yaxis": "y2"
        },
        {
         "mode": "markers",
         "name": "Ticker VIM",
         "type": "scatter",
         "x": [
          1.81,
          1.68,
          1.3,
          1.49,
          1.66,
          1.63,
          1.82,
          1.92,
          2,
          1.83
         ],
         "xaxis": "x",
         "y": [
          0.13102824985805775,
          0.4637340372249708,
          0.18232159653038368,
          0.7654678864965156,
          1.0818051865157,
          null,
          null,
          null,
          null,
          null
         ],
         "yaxis": "y"
        },
        {
         "mode": "markers",
         "name": "Ticker VIM",
         "type": "scatter",
         "x": [
          1.81,
          1.68,
          1.3,
          1.49,
          1.66,
          1.63,
          1.82,
          1.92,
          2,
          1.83
         ],
         "xaxis": "x2",
         "y": [
          1.1399999856948853,
          1.590000033378601,
          1.2000000476837158,
          2.150000095367432,
          2.950000047683716,
          null,
          null,
          null,
          null,
          null
         ],
         "yaxis": "y2"
        },
        {
         "mode": "markers",
         "name": "Ticker MDC",
         "type": "scatter",
         "x": [
          1.25,
          0.84,
          1.41,
          2.15,
          2.34,
          2.36,
          1.59,
          1.48,
          1.51,
          1.51
         ],
         "xaxis": "x",
         "y": [
          3.228826155721369,
          3.640214242083339,
          null,
          null,
          null,
          null,
          null,
          null,
          null,
          null
         ],
         "yaxis": "y"
        },
        {
         "mode": "markers",
         "name": "Ticker MDC",
         "type": "scatter",
         "x": [
          1.25,
          0.84,
          1.41,
          2.15,
          2.34,
          2.36,
          1.59,
          1.48,
          1.51,
          1.51
         ],
         "xaxis": "x2",
         "y": [
          25.249999999999996,
          38.09999847412107,
          null,
          null,
          null,
          null,
          null,
          null,
          null,
          null
         ],
         "yaxis": "y2"
        },
        {
         "mode": "markers",
         "name": "Ticker ILP",
         "type": "scatter",
         "x": [
          0.86,
          0.92,
          0.86,
          1.16,
          1.21,
          0.87,
          0.89,
          0.87,
          0.86,
          0.95
         ],
         "xaxis": "x",
         "y": [
          1.490654389331624,
          1.508511989624342,
          0.7129497891566287,
          0.779324907423567,
          null,
          null,
          null,
          null,
          null,
          null
         ],
         "yaxis": "y"
        },
        {
         "mode": "markers",
         "name": "Ticker ILP",
         "type": "scatter",
         "x": [
          0.86,
          0.92,
          0.86,
          1.16,
          1.21,
          0.87,
          0.89,
          0.87,
          0.86,
          0.95
         ],
         "xaxis": "x2",
         "y": [
          4.440000057220458,
          4.519999980926514,
          2.039999961853028,
          2.180000066757202,
          null,
          null,
          null,
          null,
          null,
          null
         ],
         "yaxis": "y2"
        },
        {
         "mode": "markers",
         "name": "Ticker CFL",
         "type": "scatter",
         "x": [
          0.9,
          1.1,
          1.52,
          1.98,
          2.05,
          1.63,
          1.74,
          1.68,
          1.75,
          1.86
         ],
         "xaxis": "x",
         "y": [
          2.536866415880321,
          2.7549338039876257,
          null,
          null,
          null,
          null,
          null,
          null,
          null,
          null
         ],
         "yaxis": "y"
        },
        {
         "mode": "markers",
         "name": "Ticker CFL",
         "type": "scatter",
         "x": [
          0.9,
          1.1,
          1.52,
          1.98,
          2.05,
          1.63,
          1.74,
          1.68,
          1.75,
          1.86
         ],
         "xaxis": "x2",
         "y": [
          12.64000034332275,
          15.720000267028805,
          null,
          null,
          null,
          null,
          null,
          null,
          null,
          null
         ],
         "yaxis": "y2"
        },
        {
         "mode": "markers",
         "name": "Ticker FCM",
         "type": "scatter",
         "x": [
          1.3,
          1.23,
          1.79,
          1.49,
          2.15,
          1.97,
          2.04,
          1.77,
          1.79,
          1.97
         ],
         "xaxis": "x",
         "y": [
          0.12221762850445134,
          0.2350721108710924,
          0.2350721108710924,
          0.47933496257972397,
          null,
          null,
          null,
          null,
          null,
          null
         ],
         "yaxis": "y"
        },
        {
         "mode": "markers",
         "name": "Ticker FCM",
         "type": "scatter",
         "x": [
          1.3,
          1.23,
          1.79,
          1.49,
          2.15,
          1.97,
          2.04,
          1.77,
          1.79,
          1.97
         ],
         "xaxis": "x2",
         "y": [
          1.1299999952316284,
          1.2649999856948853,
          1.2649999856948853,
          1.6150000095367432,
          null,
          null,
          null,
          null,
          null,
          null
         ],
         "yaxis": "y2"
        },
        {
         "mode": "markers",
         "name": "Ticker FVI",
         "type": "scatter",
         "x": [
          1.1,
          0.89,
          0.66,
          0.94,
          0.84,
          1.08,
          1.1,
          1.02,
          0.89,
          0.94
         ],
         "xaxis": "x",
         "y": [
          2.7440606508911505,
          2.69462719365756,
          2.509599277885271,
          2.4248027425974863,
          2.4061257641178835,
          null,
          null,
          null,
          null,
          null
         ],
         "yaxis": "y"
        },
        {
         "mode": "markers",
         "name": "Ticker FVI",
         "type": "scatter",
         "x": [
          1.1,
          0.89,
          0.66,
          0.94,
          0.84,
          1.08,
          1.1,
          1.02,
          0.89,
          0.94
         ],
         "xaxis": "x2",
         "y": [
          15.550000190734858,
          14.800000190734858,
          12.30000019073486,
          11.300000190734863,
          11.090909004211426,
          null,
          null,
          null,
          null,
          null
         ],
         "yaxis": "y2"
        },
        {
         "mode": "markers",
         "name": "Ticker PLT",
         "type": "scatter",
         "x": [
          1.83,
          1.97,
          0.8,
          1.9,
          2.5,
          1.94,
          2.17,
          2.02,
          2.96,
          3.06
         ],
         "xaxis": "x",
         "y": [
          null,
          null,
          null,
          null,
          null,
          null,
          null,
          null,
          null,
          null
         ],
         "yaxis": "y"
        },
        {
         "mode": "markers",
         "name": "Ticker PLT",
         "type": "scatter",
         "x": [
          1.83,
          1.97,
          0.8,
          1.9,
          2.5,
          1.94,
          2.17,
          2.02,
          2.96,
          3.06
         ],
         "xaxis": "x2",
         "y": [
          null,
          null,
          null,
          null,
          null,
          null,
          null,
          null,
          null,
          null
         ],
         "yaxis": "y2"
        },
        {
         "mode": "markers",
         "name": "Ticker LDB",
         "type": "scatter",
         "x": [
          2.27,
          1.3,
          2.37,
          2.32,
          2.63,
          2.65,
          2.72,
          3.6,
          3.73,
          3.5
         ],
         "xaxis": "x",
         "y": [
          0.6291418754934363,
          0.7952523647473517,
          null,
          null,
          null,
          null,
          null,
          null,
          null,
          null
         ],
         "yaxis": "y"
        },
        {
         "mode": "markers",
         "name": "Ticker LDB",
         "type": "scatter",
         "x": [
          2.27,
          1.3,
          2.37,
          2.32,
          2.63,
          2.65,
          2.72,
          3.6,
          3.73,
          3.5
         ],
         "xaxis": "x2",
         "y": [
          1.876000046730041,
          2.2149999141693115,
          null,
          null,
          null,
          null,
          null,
          null,
          null,
          null
         ],
         "yaxis": "y2"
        },
        {
         "mode": "markers",
         "name": "Ticker FOS",
         "type": "scatter",
         "x": [
          0.67,
          0.69,
          0.64,
          0.56,
          1.39,
          1.22,
          0.73,
          0.77,
          0.88,
          0.86
         ],
         "xaxis": "x",
         "y": [
          1.2119409427536318,
          1.3506671562994919,
          0.9082585678678127,
          1.1426291710428607,
          null,
          null,
          null,
          null,
          null,
          null
         ],
         "yaxis": "y"
        },
        {
         "mode": "markers",
         "name": "Ticker FOS",
         "type": "scatter",
         "x": [
          0.67,
          0.69,
          0.64,
          0.56,
          1.39,
          1.22,
          0.73,
          0.77,
          0.88,
          0.86
         ],
         "xaxis": "x2",
         "y": [
          3.359999895095825,
          3.859999895095825,
          2.4800000190734863,
          3.1349999904632564,
          null,
          null,
          null,
          null,
          null,
          null
         ],
         "yaxis": "y2"
        },
        {
         "mode": "markers",
         "name": "Ticker BAN",
         "type": "scatter",
         "x": [
          0.05,
          0.03,
          0.04,
          0.05,
          0.05,
          0.04,
          0.03,
          0.03,
          0.03,
          0.02
         ],
         "xaxis": "x",
         "y": [
          1.6992785780777009,
          1.814824720414034,
          1.4586150670564606,
          1.6677068565457855,
          1.4929040533163809,
          1.3244189548654353,
          1.2005670192292972,
          1.4683350732132154,
          0.8162494147953161,
          0.8862438592669583
         ],
         "yaxis": "y"
        },
        {
         "mode": "markers",
         "name": "Ticker BAN",
         "type": "scatter",
         "x": [
          0.05,
          0.03,
          0.04,
          0.05,
          0.05,
          0.04,
          0.03,
          0.03,
          0.03,
          0.02
         ],
         "xaxis": "x2",
         "y": [
          5.46999979019165,
          6.139999866485596,
          4.300000190734862,
          5.300000190734862,
          4.449999809265136,
          3.7599999904632564,
          3.3220000267028804,
          4.3420000076293945,
          2.26200008392334,
          2.4260001182556152
         ],
         "yaxis": "y2"
        }
       ],
       "layout": {
        "showlegend": false,
        "template": {
         "data": {
          "bar": [
           {
            "error_x": {
             "color": "#2a3f5f"
            },
            "error_y": {
             "color": "#2a3f5f"
            },
            "marker": {
             "line": {
              "color": "#E5ECF6",
              "width": 0.5
             },
             "pattern": {
              "fillmode": "overlay",
              "size": 10,
              "solidity": 0.2
             }
            },
            "type": "bar"
           }
          ],
          "barpolar": [
           {
            "marker": {
             "line": {
              "color": "#E5ECF6",
              "width": 0.5
             },
             "pattern": {
              "fillmode": "overlay",
              "size": 10,
              "solidity": 0.2
             }
            },
            "type": "barpolar"
           }
          ],
          "carpet": [
           {
            "aaxis": {
             "endlinecolor": "#2a3f5f",
             "gridcolor": "white",
             "linecolor": "white",
             "minorgridcolor": "white",
             "startlinecolor": "#2a3f5f"
            },
            "baxis": {
             "endlinecolor": "#2a3f5f",
             "gridcolor": "white",
             "linecolor": "white",
             "minorgridcolor": "white",
             "startlinecolor": "#2a3f5f"
            },
            "type": "carpet"
           }
          ],
          "choropleth": [
           {
            "colorbar": {
             "outlinewidth": 0,
             "ticks": ""
            },
            "type": "choropleth"
           }
          ],
          "contour": [
           {
            "colorbar": {
             "outlinewidth": 0,
             "ticks": ""
            },
            "colorscale": [
             [
              0,
              "#0d0887"
             ],
             [
              0.1111111111111111,
              "#46039f"
             ],
             [
              0.2222222222222222,
              "#7201a8"
             ],
             [
              0.3333333333333333,
              "#9c179e"
             ],
             [
              0.4444444444444444,
              "#bd3786"
             ],
             [
              0.5555555555555556,
              "#d8576b"
             ],
             [
              0.6666666666666666,
              "#ed7953"
             ],
             [
              0.7777777777777778,
              "#fb9f3a"
             ],
             [
              0.8888888888888888,
              "#fdca26"
             ],
             [
              1,
              "#f0f921"
             ]
            ],
            "type": "contour"
           }
          ],
          "contourcarpet": [
           {
            "colorbar": {
             "outlinewidth": 0,
             "ticks": ""
            },
            "type": "contourcarpet"
           }
          ],
          "heatmap": [
           {
            "colorbar": {
             "outlinewidth": 0,
             "ticks": ""
            },
            "colorscale": [
             [
              0,
              "#0d0887"
             ],
             [
              0.1111111111111111,
              "#46039f"
             ],
             [
              0.2222222222222222,
              "#7201a8"
             ],
             [
              0.3333333333333333,
              "#9c179e"
             ],
             [
              0.4444444444444444,
              "#bd3786"
             ],
             [
              0.5555555555555556,
              "#d8576b"
             ],
             [
              0.6666666666666666,
              "#ed7953"
             ],
             [
              0.7777777777777778,
              "#fb9f3a"
             ],
             [
              0.8888888888888888,
              "#fdca26"
             ],
             [
              1,
              "#f0f921"
             ]
            ],
            "type": "heatmap"
           }
          ],
          "heatmapgl": [
           {
            "colorbar": {
             "outlinewidth": 0,
             "ticks": ""
            },
            "colorscale": [
             [
              0,
              "#0d0887"
             ],
             [
              0.1111111111111111,
              "#46039f"
             ],
             [
              0.2222222222222222,
              "#7201a8"
             ],
             [
              0.3333333333333333,
              "#9c179e"
             ],
             [
              0.4444444444444444,
              "#bd3786"
             ],
             [
              0.5555555555555556,
              "#d8576b"
             ],
             [
              0.6666666666666666,
              "#ed7953"
             ],
             [
              0.7777777777777778,
              "#fb9f3a"
             ],
             [
              0.8888888888888888,
              "#fdca26"
             ],
             [
              1,
              "#f0f921"
             ]
            ],
            "type": "heatmapgl"
           }
          ],
          "histogram": [
           {
            "marker": {
             "pattern": {
              "fillmode": "overlay",
              "size": 10,
              "solidity": 0.2
             }
            },
            "type": "histogram"
           }
          ],
          "histogram2d": [
           {
            "colorbar": {
             "outlinewidth": 0,
             "ticks": ""
            },
            "colorscale": [
             [
              0,
              "#0d0887"
             ],
             [
              0.1111111111111111,
              "#46039f"
             ],
             [
              0.2222222222222222,
              "#7201a8"
             ],
             [
              0.3333333333333333,
              "#9c179e"
             ],
             [
              0.4444444444444444,
              "#bd3786"
             ],
             [
              0.5555555555555556,
              "#d8576b"
             ],
             [
              0.6666666666666666,
              "#ed7953"
             ],
             [
              0.7777777777777778,
              "#fb9f3a"
             ],
             [
              0.8888888888888888,
              "#fdca26"
             ],
             [
              1,
              "#f0f921"
             ]
            ],
            "type": "histogram2d"
           }
          ],
          "histogram2dcontour": [
           {
            "colorbar": {
             "outlinewidth": 0,
             "ticks": ""
            },
            "colorscale": [
             [
              0,
              "#0d0887"
             ],
             [
              0.1111111111111111,
              "#46039f"
             ],
             [
              0.2222222222222222,
              "#7201a8"
             ],
             [
              0.3333333333333333,
              "#9c179e"
             ],
             [
              0.4444444444444444,
              "#bd3786"
             ],
             [
              0.5555555555555556,
              "#d8576b"
             ],
             [
              0.6666666666666666,
              "#ed7953"
             ],
             [
              0.7777777777777778,
              "#fb9f3a"
             ],
             [
              0.8888888888888888,
              "#fdca26"
             ],
             [
              1,
              "#f0f921"
             ]
            ],
            "type": "histogram2dcontour"
           }
          ],
          "mesh3d": [
           {
            "colorbar": {
             "outlinewidth": 0,
             "ticks": ""
            },
            "type": "mesh3d"
           }
          ],
          "parcoords": [
           {
            "line": {
             "colorbar": {
              "outlinewidth": 0,
              "ticks": ""
             }
            },
            "type": "parcoords"
           }
          ],
          "pie": [
           {
            "automargin": true,
            "type": "pie"
           }
          ],
          "scatter": [
           {
            "fillpattern": {
             "fillmode": "overlay",
             "size": 10,
             "solidity": 0.2
            },
            "type": "scatter"
           }
          ],
          "scatter3d": [
           {
            "line": {
             "colorbar": {
              "outlinewidth": 0,
              "ticks": ""
             }
            },
            "marker": {
             "colorbar": {
              "outlinewidth": 0,
              "ticks": ""
             }
            },
            "type": "scatter3d"
           }
          ],
          "scattercarpet": [
           {
            "marker": {
             "colorbar": {
              "outlinewidth": 0,
              "ticks": ""
             }
            },
            "type": "scattercarpet"
           }
          ],
          "scattergeo": [
           {
            "marker": {
             "colorbar": {
              "outlinewidth": 0,
              "ticks": ""
             }
            },
            "type": "scattergeo"
           }
          ],
          "scattergl": [
           {
            "marker": {
             "colorbar": {
              "outlinewidth": 0,
              "ticks": ""
             }
            },
            "type": "scattergl"
           }
          ],
          "scattermapbox": [
           {
            "marker": {
             "colorbar": {
              "outlinewidth": 0,
              "ticks": ""
             }
            },
            "type": "scattermapbox"
           }
          ],
          "scatterpolar": [
           {
            "marker": {
             "colorbar": {
              "outlinewidth": 0,
              "ticks": ""
             }
            },
            "type": "scatterpolar"
           }
          ],
          "scatterpolargl": [
           {
            "marker": {
             "colorbar": {
              "outlinewidth": 0,
              "ticks": ""
             }
            },
            "type": "scatterpolargl"
           }
          ],
          "scatterternary": [
           {
            "marker": {
             "colorbar": {
              "outlinewidth": 0,
              "ticks": ""
             }
            },
            "type": "scatterternary"
           }
          ],
          "surface": [
           {
            "colorbar": {
             "outlinewidth": 0,
             "ticks": ""
            },
            "colorscale": [
             [
              0,
              "#0d0887"
             ],
             [
              0.1111111111111111,
              "#46039f"
             ],
             [
              0.2222222222222222,
              "#7201a8"
             ],
             [
              0.3333333333333333,
              "#9c179e"
             ],
             [
              0.4444444444444444,
              "#bd3786"
             ],
             [
              0.5555555555555556,
              "#d8576b"
             ],
             [
              0.6666666666666666,
              "#ed7953"
             ],
             [
              0.7777777777777778,
              "#fb9f3a"
             ],
             [
              0.8888888888888888,
              "#fdca26"
             ],
             [
              1,
              "#f0f921"
             ]
            ],
            "type": "surface"
           }
          ],
          "table": [
           {
            "cells": {
             "fill": {
              "color": "#EBF0F8"
             },
             "line": {
              "color": "white"
             }
            },
            "header": {
             "fill": {
              "color": "#C8D4E3"
             },
             "line": {
              "color": "white"
             }
            },
            "type": "table"
           }
          ]
         },
         "layout": {
          "annotationdefaults": {
           "arrowcolor": "#2a3f5f",
           "arrowhead": 0,
           "arrowwidth": 1
          },
          "autotypenumbers": "strict",
          "coloraxis": {
           "colorbar": {
            "outlinewidth": 0,
            "ticks": ""
           }
          },
          "colorscale": {
           "diverging": [
            [
             0,
             "#8e0152"
            ],
            [
             0.1,
             "#c51b7d"
            ],
            [
             0.2,
             "#de77ae"
            ],
            [
             0.3,
             "#f1b6da"
            ],
            [
             0.4,
             "#fde0ef"
            ],
            [
             0.5,
             "#f7f7f7"
            ],
            [
             0.6,
             "#e6f5d0"
            ],
            [
             0.7,
             "#b8e186"
            ],
            [
             0.8,
             "#7fbc41"
            ],
            [
             0.9,
             "#4d9221"
            ],
            [
             1,
             "#276419"
            ]
           ],
           "sequential": [
            [
             0,
             "#0d0887"
            ],
            [
             0.1111111111111111,
             "#46039f"
            ],
            [
             0.2222222222222222,
             "#7201a8"
            ],
            [
             0.3333333333333333,
             "#9c179e"
            ],
            [
             0.4444444444444444,
             "#bd3786"
            ],
            [
             0.5555555555555556,
             "#d8576b"
            ],
            [
             0.6666666666666666,
             "#ed7953"
            ],
            [
             0.7777777777777778,
             "#fb9f3a"
            ],
            [
             0.8888888888888888,
             "#fdca26"
            ],
            [
             1,
             "#f0f921"
            ]
           ],
           "sequentialminus": [
            [
             0,
             "#0d0887"
            ],
            [
             0.1111111111111111,
             "#46039f"
            ],
            [
             0.2222222222222222,
             "#7201a8"
            ],
            [
             0.3333333333333333,
             "#9c179e"
            ],
            [
             0.4444444444444444,
             "#bd3786"
            ],
            [
             0.5555555555555556,
             "#d8576b"
            ],
            [
             0.6666666666666666,
             "#ed7953"
            ],
            [
             0.7777777777777778,
             "#fb9f3a"
            ],
            [
             0.8888888888888888,
             "#fdca26"
            ],
            [
             1,
             "#f0f921"
            ]
           ]
          },
          "colorway": [
           "#636efa",
           "#EF553B",
           "#00cc96",
           "#ab63fa",
           "#FFA15A",
           "#19d3f3",
           "#FF6692",
           "#B6E880",
           "#FF97FF",
           "#FECB52"
          ],
          "font": {
           "color": "#2a3f5f"
          },
          "geo": {
           "bgcolor": "white",
           "lakecolor": "white",
           "landcolor": "#E5ECF6",
           "showlakes": true,
           "showland": true,
           "subunitcolor": "white"
          },
          "hoverlabel": {
           "align": "left"
          },
          "hovermode": "closest",
          "mapbox": {
           "style": "light"
          },
          "paper_bgcolor": "white",
          "plot_bgcolor": "#E5ECF6",
          "polar": {
           "angularaxis": {
            "gridcolor": "white",
            "linecolor": "white",
            "ticks": ""
           },
           "bgcolor": "#E5ECF6",
           "radialaxis": {
            "gridcolor": "white",
            "linecolor": "white",
            "ticks": ""
           }
          },
          "scene": {
           "xaxis": {
            "backgroundcolor": "#E5ECF6",
            "gridcolor": "white",
            "gridwidth": 2,
            "linecolor": "white",
            "showbackground": true,
            "ticks": "",
            "zerolinecolor": "white"
           },
           "yaxis": {
            "backgroundcolor": "#E5ECF6",
            "gridcolor": "white",
            "gridwidth": 2,
            "linecolor": "white",
            "showbackground": true,
            "ticks": "",
            "zerolinecolor": "white"
           },
           "zaxis": {
            "backgroundcolor": "#E5ECF6",
            "gridcolor": "white",
            "gridwidth": 2,
            "linecolor": "white",
            "showbackground": true,
            "ticks": "",
            "zerolinecolor": "white"
           }
          },
          "shapedefaults": {
           "line": {
            "color": "#2a3f5f"
           }
          },
          "ternary": {
           "aaxis": {
            "gridcolor": "white",
            "linecolor": "white",
            "ticks": ""
           },
           "baxis": {
            "gridcolor": "white",
            "linecolor": "white",
            "ticks": ""
           },
           "bgcolor": "#E5ECF6",
           "caxis": {
            "gridcolor": "white",
            "linecolor": "white",
            "ticks": ""
           }
          },
          "title": {
           "x": 0.05
          },
          "xaxis": {
           "automargin": true,
           "gridcolor": "white",
           "linecolor": "white",
           "ticks": "",
           "title": {
            "standoff": 15
           },
           "zerolinecolor": "white",
           "zerolinewidth": 2
          },
          "yaxis": {
           "automargin": true,
           "gridcolor": "white",
           "linecolor": "white",
           "ticks": "",
           "title": {
            "standoff": 15
           },
           "zerolinecolor": "white",
           "zerolinewidth": 2
          }
         }
        },
        "title": {
         "text": "Relazione tra Rotaz_cap_cir_lordo e Valori Borsa"
        },
        "xaxis": {
         "anchor": "y",
         "domain": [
          0,
          0.45
         ]
        },
        "xaxis2": {
         "anchor": "y2",
         "domain": [
          0.55,
          1
         ]
        },
        "yaxis": {
         "anchor": "x",
         "domain": [
          0,
          1
         ],
         "title": {
          "text": "Log Valori Borsa"
         }
        },
        "yaxis2": {
         "anchor": "x2",
         "domain": [
          0,
          1
         ],
         "title": {
          "text": "Valori Borsa"
         }
        }
       }
      }
     },
     "metadata": {},
     "output_type": "display_data"
    },
    {
     "data": {
      "application/vnd.plotly.v1+json": {
       "config": {
        "plotlyServerURL": "https://plot.ly"
       },
       "data": [
        {
         "mode": "markers",
         "name": "Ticker MARR",
         "type": "scatter",
         "x": [
          3.44,
          4.61,
          0.09,
          8.84,
          9.37,
          9.16,
          9.04,
          9.88,
          10.42,
          9.33
         ],
         "xaxis": "x",
         "y": [
          2.509599277885271,
          2.9349201179417297,
          2.8791984144362717,
          3.054001217665676,
          3.0689827565651293,
          3.07915387116492,
          2.87073576176629,
          2.8887036625848097,
          2.691243082785829,
          2.4849066497880004
         ],
         "yaxis": "y"
        },
        {
         "mode": "markers",
         "name": "Ticker MARR",
         "type": "scatter",
         "x": [
          3.44,
          4.61,
          0.09,
          8.84,
          9.37,
          9.16,
          9.04,
          9.88,
          10.42,
          9.33
         ],
         "xaxis": "x2",
         "y": [
          12.30000019073486,
          18.819999694824215,
          17.799999237060547,
          21.20000076293945,
          21.520000457763665,
          21.73999977111816,
          17.64999961853027,
          17.969999313354485,
          14.749999999999998,
          11.999999999999998
         ],
         "yaxis": "y2"
        },
        {
         "mode": "markers",
         "name": "Ticker PIA",
         "type": "scatter",
         "x": [
          4.38,
          3.94,
          2.11,
          1.26,
          0.92,
          0.34,
          -0.77,
          -0.9,
          0.29,
          -0.67
         ],
         "xaxis": "x",
         "y": [
          1.077048147781857,
          1.0522192777352672,
          0.9962103346242122,
          1.007957923880542,
          0.6392188284692253,
          0.917889432671393,
          0.48365994275805774,
          0.698134717326336,
          0.9066443833247319,
          0.8569652431213597
         ],
         "yaxis": "y"
        },
        {
         "mode": "markers",
         "name": "Ticker PIA",
         "type": "scatter",
         "x": [
          4.38,
          3.94,
          2.11,
          1.26,
          0.92,
          0.34,
          -0.77,
          -0.9,
          0.29,
          -0.67
         ],
         "xaxis": "x2",
         "y": [
          2.9360001087188716,
          2.864000082015991,
          2.7079999446868896,
          2.740000009536743,
          1.8949999809265134,
          2.503999948501587,
          1.621999979019165,
          2.009999990463257,
          2.476000070571899,
          2.3559999465942383
         ],
         "yaxis": "y2"
        },
        {
         "mode": "markers",
         "name": "Ticker BRE",
         "type": "scatter",
         "x": [
          5.35,
          4.34,
          2.04,
          7.92,
          10.9,
          9.42,
          11.7,
          9.5,
          5.95,
          3.78
         ],
         "xaxis": "x",
         "y": [
          2.4033350340342152,
          2.564179813062659,
          2.393218807006317,
          2.404238719152724,
          2.320425041100351,
          2.58475200201879,
          2.4890646757652832,
          2.07969149231976,
          1.6815725236803198,
          1.3681303836941336
         ],
         "yaxis": "y"
        },
        {
         "mode": "markers",
         "name": "Ticker BRE",
         "type": "scatter",
         "x": [
          5.35,
          4.34,
          2.04,
          7.92,
          10.9,
          9.42,
          11.7,
          9.5,
          5.95,
          3.78
         ],
         "xaxis": "x2",
         "y": [
          11.0600004196167,
          12.989999771118162,
          10.948678970336912,
          11.069999694824217,
          10.180000305175781,
          13.260000228881834,
          12.050000190734862,
          8.001999855041504,
          5.374000072479247,
          3.9279999732971187
         ],
         "yaxis": "y2"
        },
        {
         "mode": "markers",
         "name": "Ticker DAN",
         "type": "scatter",
         "x": [
          -0.54,
          -0.13,
          -0.05,
          0.33,
          0.03,
          0.81,
          0.12,
          0.47,
          0.12,
          0.14
         ],
         "xaxis": "x",
         "y": [
          3.104586644253541,
          3.2790297189519984,
          2.7265447662626667,
          2.8154087651077058,
          2.785011289333365,
          3.0516398874558934,
          3.0243197266987147,
          2.740840023925201,
          3.000222186422059,
          3.2308043655777645
         ],
         "yaxis": "y"
        },
        {
         "mode": "markers",
         "name": "Ticker DAN",
         "type": "scatter",
         "x": [
          -0.54,
          -0.13,
          -0.05,
          0.33,
          0.03,
          0.81,
          0.12,
          0.47,
          0.12,
          0.14
         ],
         "xaxis": "x2",
         "y": [
          22.299999237060543,
          26.549999237060547,
          15.279999732971186,
          16.700000762939453,
          16.20000076293945,
          21.149999618530277,
          20.57999992370605,
          15.499999999999996,
          20.090000152587887,
          25.299999237060543
         ],
         "yaxis": "y2"
        },
        {
         "mode": "markers",
         "name": "Ticker BC",
         "type": "scatter",
         "x": [
          17.33,
          9.74,
          2.97,
          12.89,
          14.38,
          13.72,
          14.62,
          16.11,
          16.7,
          17.8
         ],
         "xaxis": "x",
         "y": [
          4.269697449699962,
          4.107589776423775,
          3.5333946002941827,
          3.5587707383536116,
          3.349904087274605,
          3.363841581918742,
          3.0267462864029175,
          2.7033726319915394,
          2.8735646826837065,
          3.1705255511154085
         ],
         "yaxis": "y"
        },
        {
         "mode": "markers",
         "name": "Ticker BC",
         "type": "scatter",
         "x": [
          17.33,
          9.74,
          2.97,
          12.89,
          14.38,
          13.72,
          14.62,
          16.11,
          16.7,
          17.8
         ],
         "xaxis": "x2",
         "y": [
          71.49999999999996,
          60.79999923706053,
          34.2400016784668,
          35.11999893188476,
          28.499999999999996,
          28.89999961853027,
          20.6299991607666,
          14.930000305175776,
          17.70000076293945,
          23.81999969482422
         ],
         "yaxis": "y2"
        },
        {
         "mode": "markers",
         "name": "Ticker CLI",
         "type": "scatter",
         "x": [
          0.96,
          1.93,
          3.18,
          -1.73,
          0.27,
          0.25,
          -0.43,
          2.24,
          2.81,
          1.94
         ],
         "xaxis": "x",
         "y": [
          1.0543119898966447,
          1.2412686000947695,
          0.9001613654511708,
          0.9162907318741551,
          1.007957923880542,
          1.2584609841914016,
          1.1052568250710544,
          1.1933162536324886,
          0.9895412148852936,
          0.6418538736240484
         ],
         "yaxis": "y"
        },
        {
         "mode": "markers",
         "name": "Ticker CLI",
         "type": "scatter",
         "x": [
          0.96,
          1.93,
          3.18,
          -1.73,
          0.27,
          0.25,
          -0.43,
          2.24,
          2.81,
          1.94
         ],
         "xaxis": "x2",
         "y": [
          2.869999885559082,
          3.4600000381469727,
          2.4600000381469727,
          2.5,
          2.740000009536743,
          3.5199999809265132,
          3.0199999809265137,
          3.29800009727478,
          2.6900000572204585,
          1.899999976158142
         ],
         "yaxis": "y2"
        },
        {
         "mode": "markers",
         "name": "Ticker ELC",
         "type": "scatter",
         "x": [
          6.55,
          2.83,
          -0.91,
          -0.37,
          -3.05,
          -0.09,
          -1.4,
          1.13,
          -0.27,
          -1.74
         ],
         "xaxis": "x",
         "y": [
          1.120047588057166,
          1.264126716369702,
          1.1265516697226583,
          1.0885619624476819,
          0.4187103223098387,
          0.9082585678678127,
          0.6097655897614381,
          0.6418538736240484,
          0.5704144453674508,
          0.5709795358097567
         ],
         "yaxis": "y"
        },
        {
         "mode": "markers",
         "name": "Ticker ELC",
         "type": "scatter",
         "x": [
          6.55,
          2.83,
          -0.91,
          -0.37,
          -3.05,
          -0.09,
          -1.4,
          1.13,
          -0.27,
          -1.74
         ],
         "xaxis": "x2",
         "y": [
          3.065000057220459,
          3.5399999618530273,
          3.0850000381469727,
          2.9700000286102286,
          1.5199999809265137,
          2.4800000190734863,
          1.840000033378601,
          1.899999976158142,
          1.7690000534057615,
          1.7699999809265134
         ],
         "yaxis": "y2"
        },
        {
         "mode": "markers",
         "name": "Ticker GPI",
         "type": "scatter",
         "x": [
          0.5,
          2.38,
          3.66,
          3.96,
          2.69,
          5.59,
          5.89,
          6.03,
          8.63,
          7.15
         ],
         "xaxis": "x",
         "y": [
          2.653241951175182,
          2.803360380906535,
          2.101692187922208,
          2.0464016580303386,
          2.121063234666565,
          2.3702437236421723,
          2.3223877015907286,
          2.282382405139267,
          null,
          null
         ],
         "yaxis": "y"
        },
        {
         "mode": "markers",
         "name": "Ticker GPI",
         "type": "scatter",
         "x": [
          0.5,
          2.38,
          3.66,
          3.96,
          2.69,
          5.59,
          5.89,
          6.03,
          8.63,
          7.15
         ],
         "xaxis": "x2",
         "y": [
          14.199999809265131,
          16.499999999999996,
          8.180000305175781,
          7.739999771118162,
          8.340000152587889,
          10.699999809265137,
          10.199999809265133,
          9.800000190734862,
          null,
          null
         ],
         "yaxis": "y2"
        },
        {
         "mode": "markers",
         "name": "Ticker SRI",
         "type": "scatter",
         "x": [
          0.82,
          1.74,
          -0.18,
          2.16,
          2.98,
          3.89,
          4.29,
          5.21,
          6.74,
          5.31
         ],
         "xaxis": "x",
         "y": [
          0.18647960255701124,
          0.7443154761953833,
          0.8285518009080817,
          1.169381368441481,
          1.2974631708642825,
          1.911022923913132,
          1.2974631708642825,
          1.341296964264569,
          1.3942625468528604,
          1.4148818606044733
         ],
         "yaxis": "y"
        },
        {
         "mode": "markers",
         "name": "Ticker SRI",
         "type": "scatter",
         "x": [
          0.82,
          1.74,
          -0.18,
          2.16,
          2.98,
          3.89,
          4.29,
          5.21,
          6.74,
          5.31
         ],
         "xaxis": "x2",
         "y": [
          1.2050000429153442,
          2.1050000190734863,
          2.289999961853028,
          3.2200000286102286,
          3.660000085830689,
          6.760000228881836,
          3.660000085830689,
          3.8239998817443848,
          4.0320000648498535,
          4.116000175476073
         ],
         "yaxis": "y2"
        },
        {
         "mode": "markers",
         "name": "Ticker ALA",
         "type": "scatter",
         "x": [
          8.11,
          9.4,
          7.68,
          8.55,
          7.31,
          4.28,
          5.99,
          10.04,
          8.62,
          11.58
         ],
         "xaxis": "x",
         "y": [
          2.4680995476355903,
          2.3655598563366795,
          null,
          null,
          null,
          null,
          null,
          null,
          null,
          null
         ],
         "yaxis": "y"
        },
        {
         "mode": "markers",
         "name": "Ticker ALA",
         "type": "scatter",
         "x": [
          8.11,
          9.4,
          7.68,
          8.55,
          7.31,
          4.28,
          5.99,
          10.04,
          8.62,
          11.58
         ],
         "xaxis": "x2",
         "y": [
          11.80000019073486,
          10.64999961853027,
          null,
          null,
          null,
          null,
          null,
          null,
          null,
          null
         ],
         "yaxis": "y2"
        },
        {
         "mode": "markers",
         "name": "Ticker ICF",
         "type": "scatter",
         "x": [
          2.5,
          0.51,
          2.4,
          8.97,
          0.99,
          5.07,
          8.23,
          15.95,
          8.09,
          8.49
         ],
         "xaxis": "x",
         "y": [
          1.7155980979710415,
          1.8277698730198415,
          1.6974487967434386,
          null,
          null,
          null,
          null,
          null,
          null,
          null
         ],
         "yaxis": "y"
        },
        {
         "mode": "markers",
         "name": "Ticker ICF",
         "type": "scatter",
         "x": [
          2.5,
          0.51,
          2.4,
          8.97,
          0.99,
          5.07,
          8.23,
          15.95,
          8.09,
          8.49
         ],
         "xaxis": "x2",
         "y": [
          5.55999994277954,
          6.2199997901916495,
          5.460000038146972,
          null,
          null,
          null,
          null,
          null,
          null,
          null
         ],
         "yaxis": "y2"
        },
        {
         "mode": "markers",
         "name": "Ticker ENV",
         "type": "scatter",
         "x": [
          7.6,
          6.66,
          -0.94,
          4.07,
          8.84,
          10.58,
          8.84,
          1.1,
          12.41,
          10.44
         ],
         "xaxis": "x",
         "y": [
          1.190887553182456,
          1.3350010541839938,
          1.1939224540228235,
          1.2208299523375428,
          1.1847899790762915,
          1.2470322992672698,
          1.0224509174110963,
          1.0260415821605242,
          1.249901738946927,
          1.1499389134175557
         ],
         "yaxis": "y"
        },
        {
         "mode": "markers",
         "name": "Ticker ENV",
         "type": "scatter",
         "x": [
          7.6,
          6.66,
          -0.94,
          4.07,
          8.84,
          10.58,
          8.84,
          1.1,
          12.41,
          10.44
         ],
         "xaxis": "x2",
         "y": [
          3.289999961853028,
          3.799999952316284,
          3.2999999523162837,
          3.390000104904175,
          3.2699999809265132,
          3.480000019073486,
          2.7799999713897705,
          2.7899999618530273,
          3.4900000095367427,
          3.1579999923706046
         ],
         "yaxis": "y2"
        },
        {
         "mode": "markers",
         "name": "Ticker MASI",
         "type": "scatter",
         "x": [
          4.2,
          4.43,
          1.11,
          4.82,
          4.72,
          6.33,
          6.93,
          7.41,
          10.84,
          11.6
         ],
         "xaxis": "x",
         "y": [
          1.5062972042644385,
          1.348073123528931,
          0.943905872931563,
          1.1568812177849161,
          1.348073123528931,
          1.5040773967762742,
          1.4609378908394477,
          1.4816045625986316,
          null,
          null
         ],
         "yaxis": "y"
        },
        {
         "mode": "markers",
         "name": "Ticker MASI",
         "type": "scatter",
         "x": [
          4.2,
          4.43,
          1.11,
          4.82,
          4.72,
          6.33,
          6.93,
          7.41,
          10.84,
          11.6
         ],
         "xaxis": "x2",
         "y": [
          4.510000228881836,
          3.8499999046325675,
          2.569999933242798,
          3.180000066757202,
          3.8499999046325675,
          4.5,
          4.30999994277954,
          4.400000095367432,
          null,
          null
         ],
         "yaxis": "y2"
        },
        {
         "mode": "markers",
         "name": "Ticker SVS",
         "type": "scatter",
         "x": [
          1.98,
          2.58,
          3.5,
          3.13,
          3.26,
          3.28,
          2.86,
          4.08,
          4.43,
          4.35
         ],
         "xaxis": "x",
         "y": [
          2.3015845697493673,
          null,
          null,
          null,
          null,
          null,
          null,
          null,
          null,
          null
         ],
         "yaxis": "y"
        },
        {
         "mode": "markers",
         "name": "Ticker SVS",
         "type": "scatter",
         "x": [
          1.98,
          2.58,
          3.5,
          3.13,
          3.26,
          3.28,
          2.86,
          4.08,
          4.43,
          4.35
         ],
         "xaxis": "x2",
         "y": [
          9.989999771118164,
          null,
          null,
          null,
          null,
          null,
          null,
          null,
          null,
          null
         ],
         "yaxis": "y2"
        },
        {
         "mode": "markers",
         "name": "Ticker STAR7",
         "type": "scatter",
         "x": [
          3.22,
          1.42,
          3.47,
          5.87,
          6.61,
          10,
          10.14,
          11.77,
          10.91,
          10.12
         ],
         "xaxis": "x",
         "y": [
          2.1679101634795908,
          2.264883237693826,
          null,
          null,
          null,
          null,
          null,
          null,
          null,
          null
         ],
         "yaxis": "y"
        },
        {
         "mode": "markers",
         "name": "Ticker STAR7",
         "type": "scatter",
         "x": [
          3.22,
          1.42,
          3.47,
          5.87,
          6.61,
          10,
          10.14,
          11.77,
          10.91,
          10.12
         ],
         "xaxis": "x2",
         "y": [
          8.739999771118164,
          9.630000114440916,
          null,
          null,
          null,
          null,
          null,
          null,
          null,
          null
         ],
         "yaxis": "y2"
        },
        {
         "mode": "markers",
         "name": "Ticker SCK",
         "type": "scatter",
         "x": [
          10.82,
          15.83,
          3.58,
          3.75,
          6.46,
          6.25,
          4.81,
          6.35,
          4.92,
          6.99
         ],
         "xaxis": "x",
         "y": [
          2.0333975857027218,
          2.356125878001209,
          1.1151415749853149,
          0.15700371212988268,
          -0.31471071871163714,
          null,
          null,
          null,
          null,
          null
         ],
         "yaxis": "y"
        },
        {
         "mode": "markers",
         "name": "Ticker SCK",
         "type": "scatter",
         "x": [
          10.82,
          15.83,
          3.58,
          3.75,
          6.46,
          6.25,
          4.81,
          6.35,
          4.92,
          6.99
         ],
         "xaxis": "x2",
         "y": [
          7.639999866485597,
          10.55000019073486,
          3.0499999523162837,
          1.1699999570846558,
          0.7300000190734863,
          null,
          null,
          null,
          null,
          null
         ],
         "yaxis": "y2"
        },
        {
         "mode": "markers",
         "name": "Ticker MARP",
         "type": "scatter",
         "x": [
          5.69,
          3.82,
          -3.88,
          0.42,
          6.89,
          6.44,
          4,
          7.85,
          4.08,
          3.73
         ],
         "xaxis": "x",
         "y": [
          1.4060969697165737,
          1.5475624681341262,
          1.0296194001512595,
          1.508511989624342,
          null,
          null,
          null,
          null,
          null,
          null
         ],
         "yaxis": "y"
        },
        {
         "mode": "markers",
         "name": "Ticker MARP",
         "type": "scatter",
         "x": [
          5.69,
          3.82,
          -3.88,
          0.42,
          6.89,
          6.44,
          4,
          7.85,
          4.08,
          3.73
         ],
         "xaxis": "x2",
         "y": [
          4.079999923706054,
          4.699999809265136,
          2.7999999523162837,
          4.519999980926514,
          null,
          null,
          null,
          null,
          null,
          null
         ],
         "yaxis": "y2"
        },
        {
         "mode": "markers",
         "name": "Ticker ITD",
         "type": "scatter",
         "x": [
          9.64,
          13.77,
          14,
          13.95,
          11.46,
          14.35,
          11.53,
          7.21,
          4.34,
          7.06
         ],
         "xaxis": "x",
         "y": [
          2.6672281800910014,
          2.972975247406338,
          2.3513752571634776,
          1.8082887555452603,
          1.0986122886681098,
          null,
          null,
          null,
          null,
          null
         ],
         "yaxis": "y"
        },
        {
         "mode": "markers",
         "name": "Ticker ITD",
         "type": "scatter",
         "x": [
          9.64,
          13.77,
          14,
          13.95,
          11.46,
          14.35,
          11.53,
          7.21,
          4.34,
          7.06
         ],
         "xaxis": "x2",
         "y": [
          14.399999618530272,
          19.549999237060543,
          10.499999999999998,
          6.0999999046325675,
          3,
          null,
          null,
          null,
          null,
          null
         ],
         "yaxis": "y2"
        },
        {
         "mode": "markers",
         "name": "Ticker VIM",
         "type": "scatter",
         "x": [
          0.77,
          0.05,
          -5.16,
          -5.98,
          -0.26,
          5.82,
          3.15,
          0.53,
          4.74,
          5.86
         ],
         "xaxis": "x",
         "y": [
          0.13102824985805775,
          0.4637340372249708,
          0.18232159653038368,
          0.7654678864965156,
          1.0818051865157,
          null,
          null,
          null,
          null,
          null
         ],
         "yaxis": "y"
        },
        {
         "mode": "markers",
         "name": "Ticker VIM",
         "type": "scatter",
         "x": [
          0.77,
          0.05,
          -5.16,
          -5.98,
          -0.26,
          5.82,
          3.15,
          0.53,
          4.74,
          5.86
         ],
         "xaxis": "x2",
         "y": [
          1.1399999856948853,
          1.590000033378601,
          1.2000000476837158,
          2.150000095367432,
          2.950000047683716,
          null,
          null,
          null,
          null,
          null
         ],
         "yaxis": "y2"
        },
        {
         "mode": "markers",
         "name": "Ticker MDC",
         "type": "scatter",
         "x": [
          6.37,
          3.23,
          4.6,
          3.58,
          5.93,
          1.72,
          2.03,
          3.86,
          1.27,
          3.06
         ],
         "xaxis": "x",
         "y": [
          3.228826155721369,
          3.640214242083339,
          null,
          null,
          null,
          null,
          null,
          null,
          null,
          null
         ],
         "yaxis": "y"
        },
        {
         "mode": "markers",
         "name": "Ticker MDC",
         "type": "scatter",
         "x": [
          6.37,
          3.23,
          4.6,
          3.58,
          5.93,
          1.72,
          2.03,
          3.86,
          1.27,
          3.06
         ],
         "xaxis": "x2",
         "y": [
          25.249999999999996,
          38.09999847412107,
          null,
          null,
          null,
          null,
          null,
          null,
          null,
          null
         ],
         "yaxis": "y2"
        },
        {
         "mode": "markers",
         "name": "Ticker ILP",
         "type": "scatter",
         "x": [
          9.83,
          9.78,
          6.62,
          2.98,
          8.85,
          6.76,
          5.6,
          3.1,
          3,
          2.56
         ],
         "xaxis": "x",
         "y": [
          1.490654389331624,
          1.508511989624342,
          0.7129497891566287,
          0.779324907423567,
          null,
          null,
          null,
          null,
          null,
          null
         ],
         "yaxis": "y"
        },
        {
         "mode": "markers",
         "name": "Ticker ILP",
         "type": "scatter",
         "x": [
          9.83,
          9.78,
          6.62,
          2.98,
          8.85,
          6.76,
          5.6,
          3.1,
          3,
          2.56
         ],
         "xaxis": "x2",
         "y": [
          4.440000057220458,
          4.519999980926514,
          2.039999961853028,
          2.180000066757202,
          null,
          null,
          null,
          null,
          null,
          null
         ],
         "yaxis": "y2"
        },
        {
         "mode": "markers",
         "name": "Ticker CFL",
         "type": "scatter",
         "x": [
          0.68,
          3.34,
          1.21,
          1.5,
          7.39,
          4.82,
          4.55,
          2.05,
          3.7,
          4.58
         ],
         "xaxis": "x",
         "y": [
          2.536866415880321,
          2.7549338039876257,
          null,
          null,
          null,
          null,
          null,
          null,
          null,
          null
         ],
         "yaxis": "y"
        },
        {
         "mode": "markers",
         "name": "Ticker CFL",
         "type": "scatter",
         "x": [
          0.68,
          3.34,
          1.21,
          1.5,
          7.39,
          4.82,
          4.55,
          2.05,
          3.7,
          4.58
         ],
         "xaxis": "x2",
         "y": [
          12.64000034332275,
          15.720000267028805,
          null,
          null,
          null,
          null,
          null,
          null,
          null,
          null
         ],
         "yaxis": "y2"
        },
        {
         "mode": "markers",
         "name": "Ticker FCM",
         "type": "scatter",
         "x": [
          0.94,
          1.44,
          -1.48,
          1.7,
          4,
          2.79,
          2.59,
          2.17,
          4.03,
          -0.35
         ],
         "xaxis": "x",
         "y": [
          0.12221762850445134,
          0.2350721108710924,
          0.2350721108710924,
          0.47933496257972397,
          null,
          null,
          null,
          null,
          null,
          null
         ],
         "yaxis": "y"
        },
        {
         "mode": "markers",
         "name": "Ticker FCM",
         "type": "scatter",
         "x": [
          0.94,
          1.44,
          -1.48,
          1.7,
          4,
          2.79,
          2.59,
          2.17,
          4.03,
          -0.35
         ],
         "xaxis": "x2",
         "y": [
          1.1299999952316284,
          1.2649999856948853,
          1.2649999856948853,
          1.6150000095367432,
          null,
          null,
          null,
          null,
          null,
          null
         ],
         "yaxis": "y2"
        },
        {
         "mode": "markers",
         "name": "Ticker FVI",
         "type": "scatter",
         "x": [
          6.54,
          6.42,
          7.47,
          9.3,
          10.22,
          16.09,
          15.19,
          5.23,
          5.73,
          3.55
         ],
         "xaxis": "x",
         "y": [
          2.7440606508911505,
          2.69462719365756,
          2.509599277885271,
          2.4248027425974863,
          2.4061257641178835,
          null,
          null,
          null,
          null,
          null
         ],
         "yaxis": "y"
        },
        {
         "mode": "markers",
         "name": "Ticker FVI",
         "type": "scatter",
         "x": [
          6.54,
          6.42,
          7.47,
          9.3,
          10.22,
          16.09,
          15.19,
          5.23,
          5.73,
          3.55
         ],
         "xaxis": "x2",
         "y": [
          15.550000190734858,
          14.800000190734858,
          12.30000019073486,
          11.300000190734863,
          11.090909004211426,
          null,
          null,
          null,
          null,
          null
         ],
         "yaxis": "y2"
        },
        {
         "mode": "markers",
         "name": "Ticker PLT",
         "type": "scatter",
         "x": [
          2.68,
          2.85,
          1.93,
          3.15,
          3.1,
          4.05,
          4.81,
          1,
          1.97,
          14.83
         ],
         "xaxis": "x",
         "y": [
          null,
          null,
          null,
          null,
          null,
          null,
          null,
          null,
          null,
          null
         ],
         "yaxis": "y"
        },
        {
         "mode": "markers",
         "name": "Ticker PLT",
         "type": "scatter",
         "x": [
          2.68,
          2.85,
          1.93,
          3.15,
          3.1,
          4.05,
          4.81,
          1,
          1.97,
          14.83
         ],
         "xaxis": "x2",
         "y": [
          null,
          null,
          null,
          null,
          null,
          null,
          null,
          null,
          null,
          null
         ],
         "yaxis": "y2"
        },
        {
         "mode": "markers",
         "name": "Ticker LDB",
         "type": "scatter",
         "x": [
          8.75,
          9.69,
          18.03,
          15.57,
          17.2,
          13.09,
          8.57,
          6.34,
          7.03,
          8.89
         ],
         "xaxis": "x",
         "y": [
          0.6291418754934363,
          0.7952523647473517,
          null,
          null,
          null,
          null,
          null,
          null,
          null,
          null
         ],
         "yaxis": "y"
        },
        {
         "mode": "markers",
         "name": "Ticker LDB",
         "type": "scatter",
         "x": [
          8.75,
          9.69,
          18.03,
          15.57,
          17.2,
          13.09,
          8.57,
          6.34,
          7.03,
          8.89
         ],
         "xaxis": "x2",
         "y": [
          1.876000046730041,
          2.2149999141693115,
          null,
          null,
          null,
          null,
          null,
          null,
          null,
          null
         ],
         "yaxis": "y2"
        },
        {
         "mode": "markers",
         "name": "Ticker FOS",
         "type": "scatter",
         "x": [
          2,
          0.82,
          2.29,
          1.21,
          0.2,
          4.8,
          6.39,
          5.88,
          6.77,
          4.53
         ],
         "xaxis": "x",
         "y": [
          1.2119409427536318,
          1.3506671562994919,
          0.9082585678678127,
          1.1426291710428607,
          null,
          null,
          null,
          null,
          null,
          null
         ],
         "yaxis": "y"
        },
        {
         "mode": "markers",
         "name": "Ticker FOS",
         "type": "scatter",
         "x": [
          2,
          0.82,
          2.29,
          1.21,
          0.2,
          4.8,
          6.39,
          5.88,
          6.77,
          4.53
         ],
         "xaxis": "x2",
         "y": [
          3.359999895095825,
          3.859999895095825,
          2.4800000190734863,
          3.1349999904632564,
          null,
          null,
          null,
          null,
          null,
          null
         ],
         "yaxis": "y2"
        },
        {
         "mode": "markers",
         "name": "Ticker BAN",
         "type": "scatter",
         "x": [
          2.12,
          2.9,
          2.57,
          8.06,
          8.07,
          6.48,
          6.51,
          7.92,
          7.2,
          6.01
         ],
         "xaxis": "x",
         "y": [
          1.6992785780777009,
          1.814824720414034,
          1.4586150670564606,
          1.6677068565457855,
          1.4929040533163809,
          1.3244189548654353,
          1.2005670192292972,
          1.4683350732132154,
          0.8162494147953161,
          0.8862438592669583
         ],
         "yaxis": "y"
        },
        {
         "mode": "markers",
         "name": "Ticker BAN",
         "type": "scatter",
         "x": [
          2.12,
          2.9,
          2.57,
          8.06,
          8.07,
          6.48,
          6.51,
          7.92,
          7.2,
          6.01
         ],
         "xaxis": "x2",
         "y": [
          5.46999979019165,
          6.139999866485596,
          4.300000190734862,
          5.300000190734862,
          4.449999809265136,
          3.7599999904632564,
          3.3220000267028804,
          4.3420000076293945,
          2.26200008392334,
          2.4260001182556152
         ],
         "yaxis": "y2"
        }
       ],
       "layout": {
        "showlegend": false,
        "template": {
         "data": {
          "bar": [
           {
            "error_x": {
             "color": "#2a3f5f"
            },
            "error_y": {
             "color": "#2a3f5f"
            },
            "marker": {
             "line": {
              "color": "#E5ECF6",
              "width": 0.5
             },
             "pattern": {
              "fillmode": "overlay",
              "size": 10,
              "solidity": 0.2
             }
            },
            "type": "bar"
           }
          ],
          "barpolar": [
           {
            "marker": {
             "line": {
              "color": "#E5ECF6",
              "width": 0.5
             },
             "pattern": {
              "fillmode": "overlay",
              "size": 10,
              "solidity": 0.2
             }
            },
            "type": "barpolar"
           }
          ],
          "carpet": [
           {
            "aaxis": {
             "endlinecolor": "#2a3f5f",
             "gridcolor": "white",
             "linecolor": "white",
             "minorgridcolor": "white",
             "startlinecolor": "#2a3f5f"
            },
            "baxis": {
             "endlinecolor": "#2a3f5f",
             "gridcolor": "white",
             "linecolor": "white",
             "minorgridcolor": "white",
             "startlinecolor": "#2a3f5f"
            },
            "type": "carpet"
           }
          ],
          "choropleth": [
           {
            "colorbar": {
             "outlinewidth": 0,
             "ticks": ""
            },
            "type": "choropleth"
           }
          ],
          "contour": [
           {
            "colorbar": {
             "outlinewidth": 0,
             "ticks": ""
            },
            "colorscale": [
             [
              0,
              "#0d0887"
             ],
             [
              0.1111111111111111,
              "#46039f"
             ],
             [
              0.2222222222222222,
              "#7201a8"
             ],
             [
              0.3333333333333333,
              "#9c179e"
             ],
             [
              0.4444444444444444,
              "#bd3786"
             ],
             [
              0.5555555555555556,
              "#d8576b"
             ],
             [
              0.6666666666666666,
              "#ed7953"
             ],
             [
              0.7777777777777778,
              "#fb9f3a"
             ],
             [
              0.8888888888888888,
              "#fdca26"
             ],
             [
              1,
              "#f0f921"
             ]
            ],
            "type": "contour"
           }
          ],
          "contourcarpet": [
           {
            "colorbar": {
             "outlinewidth": 0,
             "ticks": ""
            },
            "type": "contourcarpet"
           }
          ],
          "heatmap": [
           {
            "colorbar": {
             "outlinewidth": 0,
             "ticks": ""
            },
            "colorscale": [
             [
              0,
              "#0d0887"
             ],
             [
              0.1111111111111111,
              "#46039f"
             ],
             [
              0.2222222222222222,
              "#7201a8"
             ],
             [
              0.3333333333333333,
              "#9c179e"
             ],
             [
              0.4444444444444444,
              "#bd3786"
             ],
             [
              0.5555555555555556,
              "#d8576b"
             ],
             [
              0.6666666666666666,
              "#ed7953"
             ],
             [
              0.7777777777777778,
              "#fb9f3a"
             ],
             [
              0.8888888888888888,
              "#fdca26"
             ],
             [
              1,
              "#f0f921"
             ]
            ],
            "type": "heatmap"
           }
          ],
          "heatmapgl": [
           {
            "colorbar": {
             "outlinewidth": 0,
             "ticks": ""
            },
            "colorscale": [
             [
              0,
              "#0d0887"
             ],
             [
              0.1111111111111111,
              "#46039f"
             ],
             [
              0.2222222222222222,
              "#7201a8"
             ],
             [
              0.3333333333333333,
              "#9c179e"
             ],
             [
              0.4444444444444444,
              "#bd3786"
             ],
             [
              0.5555555555555556,
              "#d8576b"
             ],
             [
              0.6666666666666666,
              "#ed7953"
             ],
             [
              0.7777777777777778,
              "#fb9f3a"
             ],
             [
              0.8888888888888888,
              "#fdca26"
             ],
             [
              1,
              "#f0f921"
             ]
            ],
            "type": "heatmapgl"
           }
          ],
          "histogram": [
           {
            "marker": {
             "pattern": {
              "fillmode": "overlay",
              "size": 10,
              "solidity": 0.2
             }
            },
            "type": "histogram"
           }
          ],
          "histogram2d": [
           {
            "colorbar": {
             "outlinewidth": 0,
             "ticks": ""
            },
            "colorscale": [
             [
              0,
              "#0d0887"
             ],
             [
              0.1111111111111111,
              "#46039f"
             ],
             [
              0.2222222222222222,
              "#7201a8"
             ],
             [
              0.3333333333333333,
              "#9c179e"
             ],
             [
              0.4444444444444444,
              "#bd3786"
             ],
             [
              0.5555555555555556,
              "#d8576b"
             ],
             [
              0.6666666666666666,
              "#ed7953"
             ],
             [
              0.7777777777777778,
              "#fb9f3a"
             ],
             [
              0.8888888888888888,
              "#fdca26"
             ],
             [
              1,
              "#f0f921"
             ]
            ],
            "type": "histogram2d"
           }
          ],
          "histogram2dcontour": [
           {
            "colorbar": {
             "outlinewidth": 0,
             "ticks": ""
            },
            "colorscale": [
             [
              0,
              "#0d0887"
             ],
             [
              0.1111111111111111,
              "#46039f"
             ],
             [
              0.2222222222222222,
              "#7201a8"
             ],
             [
              0.3333333333333333,
              "#9c179e"
             ],
             [
              0.4444444444444444,
              "#bd3786"
             ],
             [
              0.5555555555555556,
              "#d8576b"
             ],
             [
              0.6666666666666666,
              "#ed7953"
             ],
             [
              0.7777777777777778,
              "#fb9f3a"
             ],
             [
              0.8888888888888888,
              "#fdca26"
             ],
             [
              1,
              "#f0f921"
             ]
            ],
            "type": "histogram2dcontour"
           }
          ],
          "mesh3d": [
           {
            "colorbar": {
             "outlinewidth": 0,
             "ticks": ""
            },
            "type": "mesh3d"
           }
          ],
          "parcoords": [
           {
            "line": {
             "colorbar": {
              "outlinewidth": 0,
              "ticks": ""
             }
            },
            "type": "parcoords"
           }
          ],
          "pie": [
           {
            "automargin": true,
            "type": "pie"
           }
          ],
          "scatter": [
           {
            "fillpattern": {
             "fillmode": "overlay",
             "size": 10,
             "solidity": 0.2
            },
            "type": "scatter"
           }
          ],
          "scatter3d": [
           {
            "line": {
             "colorbar": {
              "outlinewidth": 0,
              "ticks": ""
             }
            },
            "marker": {
             "colorbar": {
              "outlinewidth": 0,
              "ticks": ""
             }
            },
            "type": "scatter3d"
           }
          ],
          "scattercarpet": [
           {
            "marker": {
             "colorbar": {
              "outlinewidth": 0,
              "ticks": ""
             }
            },
            "type": "scattercarpet"
           }
          ],
          "scattergeo": [
           {
            "marker": {
             "colorbar": {
              "outlinewidth": 0,
              "ticks": ""
             }
            },
            "type": "scattergeo"
           }
          ],
          "scattergl": [
           {
            "marker": {
             "colorbar": {
              "outlinewidth": 0,
              "ticks": ""
             }
            },
            "type": "scattergl"
           }
          ],
          "scattermapbox": [
           {
            "marker": {
             "colorbar": {
              "outlinewidth": 0,
              "ticks": ""
             }
            },
            "type": "scattermapbox"
           }
          ],
          "scatterpolar": [
           {
            "marker": {
             "colorbar": {
              "outlinewidth": 0,
              "ticks": ""
             }
            },
            "type": "scatterpolar"
           }
          ],
          "scatterpolargl": [
           {
            "marker": {
             "colorbar": {
              "outlinewidth": 0,
              "ticks": ""
             }
            },
            "type": "scatterpolargl"
           }
          ],
          "scatterternary": [
           {
            "marker": {
             "colorbar": {
              "outlinewidth": 0,
              "ticks": ""
             }
            },
            "type": "scatterternary"
           }
          ],
          "surface": [
           {
            "colorbar": {
             "outlinewidth": 0,
             "ticks": ""
            },
            "colorscale": [
             [
              0,
              "#0d0887"
             ],
             [
              0.1111111111111111,
              "#46039f"
             ],
             [
              0.2222222222222222,
              "#7201a8"
             ],
             [
              0.3333333333333333,
              "#9c179e"
             ],
             [
              0.4444444444444444,
              "#bd3786"
             ],
             [
              0.5555555555555556,
              "#d8576b"
             ],
             [
              0.6666666666666666,
              "#ed7953"
             ],
             [
              0.7777777777777778,
              "#fb9f3a"
             ],
             [
              0.8888888888888888,
              "#fdca26"
             ],
             [
              1,
              "#f0f921"
             ]
            ],
            "type": "surface"
           }
          ],
          "table": [
           {
            "cells": {
             "fill": {
              "color": "#EBF0F8"
             },
             "line": {
              "color": "white"
             }
            },
            "header": {
             "fill": {
              "color": "#C8D4E3"
             },
             "line": {
              "color": "white"
             }
            },
            "type": "table"
           }
          ]
         },
         "layout": {
          "annotationdefaults": {
           "arrowcolor": "#2a3f5f",
           "arrowhead": 0,
           "arrowwidth": 1
          },
          "autotypenumbers": "strict",
          "coloraxis": {
           "colorbar": {
            "outlinewidth": 0,
            "ticks": ""
           }
          },
          "colorscale": {
           "diverging": [
            [
             0,
             "#8e0152"
            ],
            [
             0.1,
             "#c51b7d"
            ],
            [
             0.2,
             "#de77ae"
            ],
            [
             0.3,
             "#f1b6da"
            ],
            [
             0.4,
             "#fde0ef"
            ],
            [
             0.5,
             "#f7f7f7"
            ],
            [
             0.6,
             "#e6f5d0"
            ],
            [
             0.7,
             "#b8e186"
            ],
            [
             0.8,
             "#7fbc41"
            ],
            [
             0.9,
             "#4d9221"
            ],
            [
             1,
             "#276419"
            ]
           ],
           "sequential": [
            [
             0,
             "#0d0887"
            ],
            [
             0.1111111111111111,
             "#46039f"
            ],
            [
             0.2222222222222222,
             "#7201a8"
            ],
            [
             0.3333333333333333,
             "#9c179e"
            ],
            [
             0.4444444444444444,
             "#bd3786"
            ],
            [
             0.5555555555555556,
             "#d8576b"
            ],
            [
             0.6666666666666666,
             "#ed7953"
            ],
            [
             0.7777777777777778,
             "#fb9f3a"
            ],
            [
             0.8888888888888888,
             "#fdca26"
            ],
            [
             1,
             "#f0f921"
            ]
           ],
           "sequentialminus": [
            [
             0,
             "#0d0887"
            ],
            [
             0.1111111111111111,
             "#46039f"
            ],
            [
             0.2222222222222222,
             "#7201a8"
            ],
            [
             0.3333333333333333,
             "#9c179e"
            ],
            [
             0.4444444444444444,
             "#bd3786"
            ],
            [
             0.5555555555555556,
             "#d8576b"
            ],
            [
             0.6666666666666666,
             "#ed7953"
            ],
            [
             0.7777777777777778,
             "#fb9f3a"
            ],
            [
             0.8888888888888888,
             "#fdca26"
            ],
            [
             1,
             "#f0f921"
            ]
           ]
          },
          "colorway": [
           "#636efa",
           "#EF553B",
           "#00cc96",
           "#ab63fa",
           "#FFA15A",
           "#19d3f3",
           "#FF6692",
           "#B6E880",
           "#FF97FF",
           "#FECB52"
          ],
          "font": {
           "color": "#2a3f5f"
          },
          "geo": {
           "bgcolor": "white",
           "lakecolor": "white",
           "landcolor": "#E5ECF6",
           "showlakes": true,
           "showland": true,
           "subunitcolor": "white"
          },
          "hoverlabel": {
           "align": "left"
          },
          "hovermode": "closest",
          "mapbox": {
           "style": "light"
          },
          "paper_bgcolor": "white",
          "plot_bgcolor": "#E5ECF6",
          "polar": {
           "angularaxis": {
            "gridcolor": "white",
            "linecolor": "white",
            "ticks": ""
           },
           "bgcolor": "#E5ECF6",
           "radialaxis": {
            "gridcolor": "white",
            "linecolor": "white",
            "ticks": ""
           }
          },
          "scene": {
           "xaxis": {
            "backgroundcolor": "#E5ECF6",
            "gridcolor": "white",
            "gridwidth": 2,
            "linecolor": "white",
            "showbackground": true,
            "ticks": "",
            "zerolinecolor": "white"
           },
           "yaxis": {
            "backgroundcolor": "#E5ECF6",
            "gridcolor": "white",
            "gridwidth": 2,
            "linecolor": "white",
            "showbackground": true,
            "ticks": "",
            "zerolinecolor": "white"
           },
           "zaxis": {
            "backgroundcolor": "#E5ECF6",
            "gridcolor": "white",
            "gridwidth": 2,
            "linecolor": "white",
            "showbackground": true,
            "ticks": "",
            "zerolinecolor": "white"
           }
          },
          "shapedefaults": {
           "line": {
            "color": "#2a3f5f"
           }
          },
          "ternary": {
           "aaxis": {
            "gridcolor": "white",
            "linecolor": "white",
            "ticks": ""
           },
           "baxis": {
            "gridcolor": "white",
            "linecolor": "white",
            "ticks": ""
           },
           "bgcolor": "#E5ECF6",
           "caxis": {
            "gridcolor": "white",
            "linecolor": "white",
            "ticks": ""
           }
          },
          "title": {
           "x": 0.05
          },
          "xaxis": {
           "automargin": true,
           "gridcolor": "white",
           "linecolor": "white",
           "ticks": "",
           "title": {
            "standoff": 15
           },
           "zerolinecolor": "white",
           "zerolinewidth": 2
          },
          "yaxis": {
           "automargin": true,
           "gridcolor": "white",
           "linecolor": "white",
           "ticks": "",
           "title": {
            "standoff": 15
           },
           "zerolinecolor": "white",
           "zerolinewidth": 2
          }
         }
        },
        "title": {
         "text": "Relazione tra Redditività_del_totale_attivo e Valori Borsa"
        },
        "xaxis": {
         "anchor": "y",
         "domain": [
          0,
          0.45
         ]
        },
        "xaxis2": {
         "anchor": "y2",
         "domain": [
          0.55,
          1
         ]
        },
        "yaxis": {
         "anchor": "x",
         "domain": [
          0,
          1
         ],
         "title": {
          "text": "Log Valori Borsa"
         }
        },
        "yaxis2": {
         "anchor": "x2",
         "domain": [
          0,
          1
         ],
         "title": {
          "text": "Valori Borsa"
         }
        }
       }
      }
     },
     "metadata": {},
     "output_type": "display_data"
    },
    {
     "data": {
      "application/vnd.plotly.v1+json": {
       "config": {
        "plotlyServerURL": "https://plot.ly"
       },
       "data": [
        {
         "mode": "markers",
         "name": "Ticker MARR",
         "type": "scatter",
         "x": [
          5.34,
          7.26,
          0.12,
          13.31,
          14.36,
          14.49,
          14.37,
          15.71,
          17.22,
          15.29
         ],
         "xaxis": "x",
         "y": [
          2.509599277885271,
          2.9349201179417297,
          2.8791984144362717,
          3.054001217665676,
          3.0689827565651293,
          3.07915387116492,
          2.87073576176629,
          2.8887036625848097,
          2.691243082785829,
          2.4849066497880004
         ],
         "yaxis": "y"
        },
        {
         "mode": "markers",
         "name": "Ticker MARR",
         "type": "scatter",
         "x": [
          5.34,
          7.26,
          0.12,
          13.31,
          14.36,
          14.49,
          14.37,
          15.71,
          17.22,
          15.29
         ],
         "xaxis": "x2",
         "y": [
          12.30000019073486,
          18.819999694824215,
          17.799999237060547,
          21.20000076293945,
          21.520000457763665,
          21.73999977111816,
          17.64999961853027,
          17.969999313354485,
          14.749999999999998,
          11.999999999999998
         ],
         "yaxis": "y2"
        },
        {
         "mode": "markers",
         "name": "Ticker PIA",
         "type": "scatter",
         "x": [
          7.41,
          6.32,
          3.13,
          1.85,
          1.33,
          0.5,
          -1.11,
          -1.28,
          0.42,
          -0.98
         ],
         "xaxis": "x",
         "y": [
          1.077048147781857,
          1.0522192777352672,
          0.9962103346242122,
          1.007957923880542,
          0.6392188284692253,
          0.917889432671393,
          0.48365994275805774,
          0.698134717326336,
          0.9066443833247319,
          0.8569652431213597
         ],
         "yaxis": "y"
        },
        {
         "mode": "markers",
         "name": "Ticker PIA",
         "type": "scatter",
         "x": [
          7.41,
          6.32,
          3.13,
          1.85,
          1.33,
          0.5,
          -1.11,
          -1.28,
          0.42,
          -0.98
         ],
         "xaxis": "x2",
         "y": [
          2.9360001087188716,
          2.864000082015991,
          2.7079999446868896,
          2.740000009536743,
          1.8949999809265134,
          2.503999948501587,
          1.621999979019165,
          2.009999990463257,
          2.476000070571899,
          2.3559999465942383
         ],
         "yaxis": "y2"
        },
        {
         "mode": "markers",
         "name": "Ticker BRE",
         "type": "scatter",
         "x": [
          7.13,
          5.68,
          2.63,
          10.92,
          17.2,
          13.46,
          16.46,
          14.81,
          9.4,
          6.47
         ],
         "xaxis": "x",
         "y": [
          2.4033350340342152,
          2.564179813062659,
          2.393218807006317,
          2.404238719152724,
          2.320425041100351,
          2.58475200201879,
          2.4890646757652832,
          2.07969149231976,
          1.6815725236803198,
          1.3681303836941336
         ],
         "yaxis": "y"
        },
        {
         "mode": "markers",
         "name": "Ticker BRE",
         "type": "scatter",
         "x": [
          7.13,
          5.68,
          2.63,
          10.92,
          17.2,
          13.46,
          16.46,
          14.81,
          9.4,
          6.47
         ],
         "xaxis": "x2",
         "y": [
          11.0600004196167,
          12.989999771118162,
          10.948678970336912,
          11.069999694824217,
          10.180000305175781,
          13.260000228881834,
          12.050000190734862,
          8.001999855041504,
          5.374000072479247,
          3.9279999732971187
         ],
         "yaxis": "y2"
        },
        {
         "mode": "markers",
         "name": "Ticker DAN",
         "type": "scatter",
         "x": [
          -1.26,
          -0.23,
          -0.08,
          0.66,
          0.06,
          1.91,
          0.28,
          1.19,
          0.42,
          0.57
         ],
         "xaxis": "x",
         "y": [
          3.104586644253541,
          3.2790297189519984,
          2.7265447662626667,
          2.8154087651077058,
          2.785011289333365,
          3.0516398874558934,
          3.0243197266987147,
          2.740840023925201,
          3.000222186422059,
          3.2308043655777645
         ],
         "yaxis": "y"
        },
        {
         "mode": "markers",
         "name": "Ticker DAN",
         "type": "scatter",
         "x": [
          -1.26,
          -0.23,
          -0.08,
          0.66,
          0.06,
          1.91,
          0.28,
          1.19,
          0.42,
          0.57
         ],
         "xaxis": "x2",
         "y": [
          22.299999237060543,
          26.549999237060547,
          15.279999732971186,
          16.700000762939453,
          16.20000076293945,
          21.149999618530277,
          20.57999992370605,
          15.499999999999996,
          20.090000152587887,
          25.299999237060543
         ],
         "yaxis": "y2"
        },
        {
         "mode": "markers",
         "name": "Ticker BC",
         "type": "scatter",
         "x": [
          22.59,
          12.42,
          3.81,
          15.82,
          18.05,
          16.92,
          18.28,
          20.72,
          21.48,
          24.94
         ],
         "xaxis": "x",
         "y": [
          4.269697449699962,
          4.107589776423775,
          3.5333946002941827,
          3.5587707383536116,
          3.349904087274605,
          3.363841581918742,
          3.0267462864029175,
          2.7033726319915394,
          2.8735646826837065,
          3.1705255511154085
         ],
         "yaxis": "y"
        },
        {
         "mode": "markers",
         "name": "Ticker BC",
         "type": "scatter",
         "x": [
          22.59,
          12.42,
          3.81,
          15.82,
          18.05,
          16.92,
          18.28,
          20.72,
          21.48,
          24.94
         ],
         "xaxis": "x2",
         "y": [
          71.49999999999996,
          60.79999923706053,
          34.2400016784668,
          35.11999893188476,
          28.499999999999996,
          28.89999961853027,
          20.6299991607666,
          14.930000305175776,
          17.70000076293945,
          23.81999969482422
         ],
         "yaxis": "y2"
        },
        {
         "mode": "markers",
         "name": "Ticker CLI",
         "type": "scatter",
         "x": [
          1.66,
          3.45,
          4.38,
          -2.18,
          0.35,
          0.32,
          -0.57,
          3.15,
          4.1,
          2.79
         ],
         "xaxis": "x",
         "y": [
          1.0543119898966447,
          1.2412686000947695,
          0.9001613654511708,
          0.9162907318741551,
          1.007957923880542,
          1.2584609841914016,
          1.1052568250710544,
          1.1933162536324886,
          0.9895412148852936,
          0.6418538736240484
         ],
         "yaxis": "y"
        },
        {
         "mode": "markers",
         "name": "Ticker CLI",
         "type": "scatter",
         "x": [
          1.66,
          3.45,
          4.38,
          -2.18,
          0.35,
          0.32,
          -0.57,
          3.15,
          4.1,
          2.79
         ],
         "xaxis": "x2",
         "y": [
          2.869999885559082,
          3.4600000381469727,
          2.4600000381469727,
          2.5,
          2.740000009536743,
          3.5199999809265132,
          3.0199999809265137,
          3.29800009727478,
          2.6900000572204585,
          1.899999976158142
         ],
         "yaxis": "y2"
        },
        {
         "mode": "markers",
         "name": "Ticker ELC",
         "type": "scatter",
         "x": [
          10.76,
          5.84,
          -1.65,
          -0.66,
          -5.41,
          -0.17,
          -2.35,
          1.81,
          -0.41,
          -2.75
         ],
         "xaxis": "x",
         "y": [
          1.120047588057166,
          1.264126716369702,
          1.1265516697226583,
          1.0885619624476819,
          0.4187103223098387,
          0.9082585678678127,
          0.6097655897614381,
          0.6418538736240484,
          0.5704144453674508,
          0.5709795358097567
         ],
         "yaxis": "y"
        },
        {
         "mode": "markers",
         "name": "Ticker ELC",
         "type": "scatter",
         "x": [
          10.76,
          5.84,
          -1.65,
          -0.66,
          -5.41,
          -0.17,
          -2.35,
          1.81,
          -0.41,
          -2.75
         ],
         "xaxis": "x2",
         "y": [
          3.065000057220459,
          3.5399999618530273,
          3.0850000381469727,
          2.9700000286102286,
          1.5199999809265137,
          2.4800000190734863,
          1.840000033378601,
          1.899999976158142,
          1.7690000534057615,
          1.7699999809265134
         ],
         "yaxis": "y2"
        },
        {
         "mode": "markers",
         "name": "Ticker GPI",
         "type": "scatter",
         "x": [
          0.61,
          3.13,
          4.69,
          5.37,
          3.58,
          7.49,
          7.3,
          8.4,
          14.14,
          12.7
         ],
         "xaxis": "x",
         "y": [
          2.653241951175182,
          2.803360380906535,
          2.101692187922208,
          2.0464016580303386,
          2.121063234666565,
          2.3702437236421723,
          2.3223877015907286,
          2.282382405139267,
          null,
          null
         ],
         "yaxis": "y"
        },
        {
         "mode": "markers",
         "name": "Ticker GPI",
         "type": "scatter",
         "x": [
          0.61,
          3.13,
          4.69,
          5.37,
          3.58,
          7.49,
          7.3,
          8.4,
          14.14,
          12.7
         ],
         "xaxis": "x2",
         "y": [
          14.199999809265131,
          16.499999999999996,
          8.180000305175781,
          7.739999771118162,
          8.340000152587889,
          10.699999809265137,
          10.199999809265133,
          9.800000190734862,
          null,
          null
         ],
         "yaxis": "y2"
        },
        {
         "mode": "markers",
         "name": "Ticker SRI",
         "type": "scatter",
         "x": [
          1.17,
          2.47,
          -0.26,
          2.97,
          4.28,
          5.54,
          5.78,
          7.42,
          10.3,
          8.23
         ],
         "xaxis": "x",
         "y": [
          0.18647960255701124,
          0.7443154761953833,
          0.8285518009080817,
          1.169381368441481,
          1.2974631708642825,
          1.911022923913132,
          1.2974631708642825,
          1.341296964264569,
          1.3942625468528604,
          1.4148818606044733
         ],
         "yaxis": "y"
        },
        {
         "mode": "markers",
         "name": "Ticker SRI",
         "type": "scatter",
         "x": [
          1.17,
          2.47,
          -0.26,
          2.97,
          4.28,
          5.54,
          5.78,
          7.42,
          10.3,
          8.23
         ],
         "xaxis": "x2",
         "y": [
          1.2050000429153442,
          2.1050000190734863,
          2.289999961853028,
          3.2200000286102286,
          3.660000085830689,
          6.760000228881836,
          3.660000085830689,
          3.8239998817443848,
          4.0320000648498535,
          4.116000175476073
         ],
         "yaxis": "y2"
        },
        {
         "mode": "markers",
         "name": "Ticker ALA",
         "type": "scatter",
         "x": [
          10.2,
          12.05,
          10.99,
          13.28,
          11.52,
          6.42,
          9.2,
          16.89,
          11.73,
          20.21
         ],
         "xaxis": "x",
         "y": [
          2.4680995476355903,
          2.3655598563366795,
          null,
          null,
          null,
          null,
          null,
          null,
          null,
          null
         ],
         "yaxis": "y"
        },
        {
         "mode": "markers",
         "name": "Ticker ALA",
         "type": "scatter",
         "x": [
          10.2,
          12.05,
          10.99,
          13.28,
          11.52,
          6.42,
          9.2,
          16.89,
          11.73,
          20.21
         ],
         "xaxis": "x2",
         "y": [
          11.80000019073486,
          10.64999961853027,
          null,
          null,
          null,
          null,
          null,
          null,
          null,
          null
         ],
         "yaxis": "y2"
        },
        {
         "mode": "markers",
         "name": "Ticker ICF",
         "type": "scatter",
         "x": [
          3.2,
          0.65,
          2.91,
          11.2,
          1.28,
          6.96,
          10.75,
          24.32,
          11.8,
          12
         ],
         "xaxis": "x",
         "y": [
          1.7155980979710415,
          1.8277698730198415,
          1.6974487967434386,
          null,
          null,
          null,
          null,
          null,
          null,
          null
         ],
         "yaxis": "y"
        },
        {
         "mode": "markers",
         "name": "Ticker ICF",
         "type": "scatter",
         "x": [
          3.2,
          0.65,
          2.91,
          11.2,
          1.28,
          6.96,
          10.75,
          24.32,
          11.8,
          12
         ],
         "xaxis": "x2",
         "y": [
          5.55999994277954,
          6.2199997901916495,
          5.460000038146972,
          null,
          null,
          null,
          null,
          null,
          null,
          null
         ],
         "yaxis": "y2"
        },
        {
         "mode": "markers",
         "name": "Ticker ENV",
         "type": "scatter",
         "x": [
          11.19,
          9.24,
          -1.24,
          5.98,
          14.39,
          16.97,
          13.66,
          1.84,
          20.57,
          17.8
         ],
         "xaxis": "x",
         "y": [
          1.190887553182456,
          1.3350010541839938,
          1.1939224540228235,
          1.2208299523375428,
          1.1847899790762915,
          1.2470322992672698,
          1.0224509174110963,
          1.0260415821605242,
          1.249901738946927,
          1.1499389134175557
         ],
         "yaxis": "y"
        },
        {
         "mode": "markers",
         "name": "Ticker ENV",
         "type": "scatter",
         "x": [
          11.19,
          9.24,
          -1.24,
          5.98,
          14.39,
          16.97,
          13.66,
          1.84,
          20.57,
          17.8
         ],
         "xaxis": "x2",
         "y": [
          3.289999961853028,
          3.799999952316284,
          3.2999999523162837,
          3.390000104904175,
          3.2699999809265132,
          3.480000019073486,
          2.7799999713897705,
          2.7899999618530273,
          3.4900000095367427,
          3.1579999923706046
         ],
         "yaxis": "y2"
        },
        {
         "mode": "markers",
         "name": "Ticker MASI",
         "type": "scatter",
         "x": [
          4.56,
          4.91,
          1.2,
          5.31,
          5.19,
          6.96,
          7.63,
          8.24,
          12.17,
          12.94
         ],
         "xaxis": "x",
         "y": [
          1.5062972042644385,
          1.348073123528931,
          0.943905872931563,
          1.1568812177849161,
          1.348073123528931,
          1.5040773967762742,
          1.4609378908394477,
          1.4816045625986316,
          null,
          null
         ],
         "yaxis": "y"
        },
        {
         "mode": "markers",
         "name": "Ticker MASI",
         "type": "scatter",
         "x": [
          4.56,
          4.91,
          1.2,
          5.31,
          5.19,
          6.96,
          7.63,
          8.24,
          12.17,
          12.94
         ],
         "xaxis": "x2",
         "y": [
          4.510000228881836,
          3.8499999046325675,
          2.569999933242798,
          3.180000066757202,
          3.8499999046325675,
          4.5,
          4.30999994277954,
          4.400000095367432,
          null,
          null
         ],
         "yaxis": "y2"
        },
        {
         "mode": "markers",
         "name": "Ticker SVS",
         "type": "scatter",
         "x": [
          2.47,
          3.18,
          4.74,
          4.22,
          4.48,
          4.58,
          4.22,
          6.97,
          7.06,
          6.89
         ],
         "xaxis": "x",
         "y": [
          2.3015845697493673,
          null,
          null,
          null,
          null,
          null,
          null,
          null,
          null,
          null
         ],
         "yaxis": "y"
        },
        {
         "mode": "markers",
         "name": "Ticker SVS",
         "type": "scatter",
         "x": [
          2.47,
          3.18,
          4.74,
          4.22,
          4.48,
          4.58,
          4.22,
          6.97,
          7.06,
          6.89
         ],
         "xaxis": "x2",
         "y": [
          9.989999771118164,
          null,
          null,
          null,
          null,
          null,
          null,
          null,
          null,
          null
         ],
         "yaxis": "y2"
        },
        {
         "mode": "markers",
         "name": "Ticker STAR7",
         "type": "scatter",
         "x": [
          4.02,
          1.79,
          5.17,
          8.28,
          12.19,
          16.56,
          21.01,
          22.27,
          24.39,
          29.55
         ],
         "xaxis": "x",
         "y": [
          2.1679101634795908,
          2.264883237693826,
          null,
          null,
          null,
          null,
          null,
          null,
          null,
          null
         ],
         "yaxis": "y"
        },
        {
         "mode": "markers",
         "name": "Ticker STAR7",
         "type": "scatter",
         "x": [
          4.02,
          1.79,
          5.17,
          8.28,
          12.19,
          16.56,
          21.01,
          22.27,
          24.39,
          29.55
         ],
         "xaxis": "x2",
         "y": [
          8.739999771118164,
          9.630000114440916,
          null,
          null,
          null,
          null,
          null,
          null,
          null,
          null
         ],
         "yaxis": "y2"
        },
        {
         "mode": "markers",
         "name": "Ticker SCK",
         "type": "scatter",
         "x": [
          17.04,
          20.99,
          4.7,
          5.29,
          9.99,
          11.02,
          11.43,
          18.02,
          17.92,
          26.92
         ],
         "xaxis": "x",
         "y": [
          2.0333975857027218,
          2.356125878001209,
          1.1151415749853149,
          0.15700371212988268,
          -0.31471071871163714,
          null,
          null,
          null,
          null,
          null
         ],
         "yaxis": "y"
        },
        {
         "mode": "markers",
         "name": "Ticker SCK",
         "type": "scatter",
         "x": [
          17.04,
          20.99,
          4.7,
          5.29,
          9.99,
          11.02,
          11.43,
          18.02,
          17.92,
          26.92
         ],
         "xaxis": "x2",
         "y": [
          7.639999866485597,
          10.55000019073486,
          3.0499999523162837,
          1.1699999570846558,
          0.7300000190734863,
          null,
          null,
          null,
          null,
          null
         ],
         "yaxis": "y2"
        },
        {
         "mode": "markers",
         "name": "Ticker MARP",
         "type": "scatter",
         "x": [
          8.04,
          5.68,
          -5.35,
          0.6,
          10.19,
          10.55,
          6.77,
          13.96,
          6.42,
          5.93
         ],
         "xaxis": "x",
         "y": [
          1.4060969697165737,
          1.5475624681341262,
          1.0296194001512595,
          1.508511989624342,
          null,
          null,
          null,
          null,
          null,
          null
         ],
         "yaxis": "y"
        },
        {
         "mode": "markers",
         "name": "Ticker MARP",
         "type": "scatter",
         "x": [
          8.04,
          5.68,
          -5.35,
          0.6,
          10.19,
          10.55,
          6.77,
          13.96,
          6.42,
          5.93
         ],
         "xaxis": "x2",
         "y": [
          4.079999923706054,
          4.699999809265136,
          2.7999999523162837,
          4.519999980926514,
          null,
          null,
          null,
          null,
          null,
          null
         ],
         "yaxis": "y2"
        },
        {
         "mode": "markers",
         "name": "Ticker ITD",
         "type": "scatter",
         "x": [
          15.77,
          23.48,
          20.99,
          20.22,
          16.29,
          24.13,
          21,
          12.3,
          7.09,
          10.67
         ],
         "xaxis": "x",
         "y": [
          2.6672281800910014,
          2.972975247406338,
          2.3513752571634776,
          1.8082887555452603,
          1.0986122886681098,
          null,
          null,
          null,
          null,
          null
         ],
         "yaxis": "y"
        },
        {
         "mode": "markers",
         "name": "Ticker ITD",
         "type": "scatter",
         "x": [
          15.77,
          23.48,
          20.99,
          20.22,
          16.29,
          24.13,
          21,
          12.3,
          7.09,
          10.67
         ],
         "xaxis": "x2",
         "y": [
          14.399999618530272,
          19.549999237060543,
          10.499999999999998,
          6.0999999046325675,
          3,
          null,
          null,
          null,
          null,
          null
         ],
         "yaxis": "y2"
        },
        {
         "mode": "markers",
         "name": "Ticker VIM",
         "type": "scatter",
         "x": [
          1.08,
          0.07,
          -6.65,
          -7.93,
          -0.35,
          9.86,
          4.88,
          0.79,
          7.17,
          8.89
         ],
         "xaxis": "x",
         "y": [
          0.13102824985805775,
          0.4637340372249708,
          0.18232159653038368,
          0.7654678864965156,
          1.0818051865157,
          null,
          null,
          null,
          null,
          null
         ],
         "yaxis": "y"
        },
        {
         "mode": "markers",
         "name": "Ticker VIM",
         "type": "scatter",
         "x": [
          1.08,
          0.07,
          -6.65,
          -7.93,
          -0.35,
          9.86,
          4.88,
          0.79,
          7.17,
          8.89
         ],
         "xaxis": "x2",
         "y": [
          1.1399999856948853,
          1.590000033378601,
          1.2000000476837158,
          2.150000095367432,
          2.950000047683716,
          null,
          null,
          null,
          null,
          null
         ],
         "yaxis": "y2"
        },
        {
         "mode": "markers",
         "name": "Ticker MDC",
         "type": "scatter",
         "x": [
          10.02,
          5.46,
          10.58,
          6.74,
          10.98,
          3.13,
          3.34,
          6.2,
          2.6,
          6.07
         ],
         "xaxis": "x",
         "y": [
          3.228826155721369,
          3.640214242083339,
          null,
          null,
          null,
          null,
          null,
          null,
          null,
          null
         ],
         "yaxis": "y"
        },
        {
         "mode": "markers",
         "name": "Ticker MDC",
         "type": "scatter",
         "x": [
          10.02,
          5.46,
          10.58,
          6.74,
          10.98,
          3.13,
          3.34,
          6.2,
          2.6,
          6.07
         ],
         "xaxis": "x2",
         "y": [
          25.249999999999996,
          38.09999847412107,
          null,
          null,
          null,
          null,
          null,
          null,
          null,
          null
         ],
         "yaxis": "y2"
        },
        {
         "mode": "markers",
         "name": "Ticker ILP",
         "type": "scatter",
         "x": [
          13.74,
          13.54,
          9.19,
          4.73,
          19.58,
          12.85,
          9.91,
          5.12,
          4.68,
          3.81
         ],
         "xaxis": "x",
         "y": [
          1.490654389331624,
          1.508511989624342,
          0.7129497891566287,
          0.779324907423567,
          null,
          null,
          null,
          null,
          null,
          null
         ],
         "yaxis": "y"
        },
        {
         "mode": "markers",
         "name": "Ticker ILP",
         "type": "scatter",
         "x": [
          13.74,
          13.54,
          9.19,
          4.73,
          19.58,
          12.85,
          9.91,
          5.12,
          4.68,
          3.81
         ],
         "xaxis": "x2",
         "y": [
          4.440000057220458,
          4.519999980926514,
          2.039999961853028,
          2.180000066757202,
          null,
          null,
          null,
          null,
          null,
          null
         ],
         "yaxis": "y2"
        },
        {
         "mode": "markers",
         "name": "Ticker CFL",
         "type": "scatter",
         "x": [
          0.84,
          4.31,
          1.8,
          2.26,
          12.19,
          8.61,
          7.15,
          3.23,
          5.9,
          7.48
         ],
         "xaxis": "x",
         "y": [
          2.536866415880321,
          2.7549338039876257,
          null,
          null,
          null,
          null,
          null,
          null,
          null,
          null
         ],
         "yaxis": "y"
        },
        {
         "mode": "markers",
         "name": "Ticker CFL",
         "type": "scatter",
         "x": [
          0.84,
          4.31,
          1.8,
          2.26,
          12.19,
          8.61,
          7.15,
          3.23,
          5.9,
          7.48
         ],
         "xaxis": "x2",
         "y": [
          12.64000034332275,
          15.720000267028805,
          null,
          null,
          null,
          null,
          null,
          null,
          null,
          null
         ],
         "yaxis": "y2"
        },
        {
         "mode": "markers",
         "name": "Ticker FCM",
         "type": "scatter",
         "x": [
          1.51,
          1.85,
          -1.97,
          2.4,
          6.18,
          4.44,
          4.14,
          3.48,
          6.54,
          -0.56
         ],
         "xaxis": "x",
         "y": [
          0.12221762850445134,
          0.2350721108710924,
          0.2350721108710924,
          0.47933496257972397,
          null,
          null,
          null,
          null,
          null,
          null
         ],
         "yaxis": "y"
        },
        {
         "mode": "markers",
         "name": "Ticker FCM",
         "type": "scatter",
         "x": [
          1.51,
          1.85,
          -1.97,
          2.4,
          6.18,
          4.44,
          4.14,
          3.48,
          6.54,
          -0.56
         ],
         "xaxis": "x2",
         "y": [
          1.1299999952316284,
          1.2649999856948853,
          1.2649999856948853,
          1.6150000095367432,
          null,
          null,
          null,
          null,
          null,
          null
         ],
         "yaxis": "y2"
        },
        {
         "mode": "markers",
         "name": "Ticker FVI",
         "type": "scatter",
         "x": [
          7.89,
          7.72,
          8.59,
          11.51,
          12.43,
          21.11,
          19.98,
          6.51,
          7.2,
          5.62
         ],
         "xaxis": "x",
         "y": [
          2.7440606508911505,
          2.69462719365756,
          2.509599277885271,
          2.4248027425974863,
          2.4061257641178835,
          null,
          null,
          null,
          null,
          null
         ],
         "yaxis": "y"
        },
        {
         "mode": "markers",
         "name": "Ticker FVI",
         "type": "scatter",
         "x": [
          7.89,
          7.72,
          8.59,
          11.51,
          12.43,
          21.11,
          19.98,
          6.51,
          7.2,
          5.62
         ],
         "xaxis": "x2",
         "y": [
          15.550000190734858,
          14.800000190734858,
          12.30000019073486,
          11.300000190734863,
          11.090909004211426,
          null,
          null,
          null,
          null,
          null
         ],
         "yaxis": "y2"
        },
        {
         "mode": "markers",
         "name": "Ticker PLT",
         "type": "scatter",
         "x": [
          3.68,
          4.22,
          2.63,
          5.01,
          5.11,
          6.82,
          7.8,
          1.52,
          3.47,
          29.43
         ],
         "xaxis": "x",
         "y": [
          null,
          null,
          null,
          null,
          null,
          null,
          null,
          null,
          null,
          null
         ],
         "yaxis": "y"
        },
        {
         "mode": "markers",
         "name": "Ticker PLT",
         "type": "scatter",
         "x": [
          3.68,
          4.22,
          2.63,
          5.01,
          5.11,
          6.82,
          7.8,
          1.52,
          3.47,
          29.43
         ],
         "xaxis": "x2",
         "y": [
          null,
          null,
          null,
          null,
          null,
          null,
          null,
          null,
          null,
          null
         ],
         "yaxis": "y2"
        },
        {
         "mode": "markers",
         "name": "Ticker LDB",
         "type": "scatter",
         "x": [
          13.35,
          13.36,
          29.8,
          27.24,
          28.77,
          21.95,
          13.85,
          9.52,
          11.84,
          14.98
         ],
         "xaxis": "x",
         "y": [
          0.6291418754934363,
          0.7952523647473517,
          null,
          null,
          null,
          null,
          null,
          null,
          null,
          null
         ],
         "yaxis": "y"
        },
        {
         "mode": "markers",
         "name": "Ticker LDB",
         "type": "scatter",
         "x": [
          13.35,
          13.36,
          29.8,
          27.24,
          28.77,
          21.95,
          13.85,
          9.52,
          11.84,
          14.98
         ],
         "xaxis": "x2",
         "y": [
          1.876000046730041,
          2.2149999141693115,
          null,
          null,
          null,
          null,
          null,
          null,
          null,
          null
         ],
         "yaxis": "y2"
        },
        {
         "mode": "markers",
         "name": "Ticker FOS",
         "type": "scatter",
         "x": [
          2.98,
          1.22,
          3.31,
          1.81,
          0.32,
          8.09,
          9.53,
          8.77,
          12.39,
          7.72
         ],
         "xaxis": "x",
         "y": [
          1.2119409427536318,
          1.3506671562994919,
          0.9082585678678127,
          1.1426291710428607,
          null,
          null,
          null,
          null,
          null,
          null
         ],
         "yaxis": "y"
        },
        {
         "mode": "markers",
         "name": "Ticker FOS",
         "type": "scatter",
         "x": [
          2.98,
          1.22,
          3.31,
          1.81,
          0.32,
          8.09,
          9.53,
          8.77,
          12.39,
          7.72
         ],
         "xaxis": "x2",
         "y": [
          3.359999895095825,
          3.859999895095825,
          2.4800000190734863,
          3.1349999904632564,
          null,
          null,
          null,
          null,
          null,
          null
         ],
         "yaxis": "y2"
        },
        {
         "mode": "markers",
         "name": "Ticker BAN",
         "type": "scatter",
         "x": [
          2.35,
          3.31,
          2.9,
          9.39,
          9.27,
          7.48,
          8.08,
          9.94,
          9.28,
          7.79
         ],
         "xaxis": "x",
         "y": [
          1.6992785780777009,
          1.814824720414034,
          1.4586150670564606,
          1.6677068565457855,
          1.4929040533163809,
          1.3244189548654353,
          1.2005670192292972,
          1.4683350732132154,
          0.8162494147953161,
          0.8862438592669583
         ],
         "yaxis": "y"
        },
        {
         "mode": "markers",
         "name": "Ticker BAN",
         "type": "scatter",
         "x": [
          2.35,
          3.31,
          2.9,
          9.39,
          9.27,
          7.48,
          8.08,
          9.94,
          9.28,
          7.79
         ],
         "xaxis": "x2",
         "y": [
          5.46999979019165,
          6.139999866485596,
          4.300000190734862,
          5.300000190734862,
          4.449999809265136,
          3.7599999904632564,
          3.3220000267028804,
          4.3420000076293945,
          2.26200008392334,
          2.4260001182556152
         ],
         "yaxis": "y2"
        }
       ],
       "layout": {
        "showlegend": false,
        "template": {
         "data": {
          "bar": [
           {
            "error_x": {
             "color": "#2a3f5f"
            },
            "error_y": {
             "color": "#2a3f5f"
            },
            "marker": {
             "line": {
              "color": "#E5ECF6",
              "width": 0.5
             },
             "pattern": {
              "fillmode": "overlay",
              "size": 10,
              "solidity": 0.2
             }
            },
            "type": "bar"
           }
          ],
          "barpolar": [
           {
            "marker": {
             "line": {
              "color": "#E5ECF6",
              "width": 0.5
             },
             "pattern": {
              "fillmode": "overlay",
              "size": 10,
              "solidity": 0.2
             }
            },
            "type": "barpolar"
           }
          ],
          "carpet": [
           {
            "aaxis": {
             "endlinecolor": "#2a3f5f",
             "gridcolor": "white",
             "linecolor": "white",
             "minorgridcolor": "white",
             "startlinecolor": "#2a3f5f"
            },
            "baxis": {
             "endlinecolor": "#2a3f5f",
             "gridcolor": "white",
             "linecolor": "white",
             "minorgridcolor": "white",
             "startlinecolor": "#2a3f5f"
            },
            "type": "carpet"
           }
          ],
          "choropleth": [
           {
            "colorbar": {
             "outlinewidth": 0,
             "ticks": ""
            },
            "type": "choropleth"
           }
          ],
          "contour": [
           {
            "colorbar": {
             "outlinewidth": 0,
             "ticks": ""
            },
            "colorscale": [
             [
              0,
              "#0d0887"
             ],
             [
              0.1111111111111111,
              "#46039f"
             ],
             [
              0.2222222222222222,
              "#7201a8"
             ],
             [
              0.3333333333333333,
              "#9c179e"
             ],
             [
              0.4444444444444444,
              "#bd3786"
             ],
             [
              0.5555555555555556,
              "#d8576b"
             ],
             [
              0.6666666666666666,
              "#ed7953"
             ],
             [
              0.7777777777777778,
              "#fb9f3a"
             ],
             [
              0.8888888888888888,
              "#fdca26"
             ],
             [
              1,
              "#f0f921"
             ]
            ],
            "type": "contour"
           }
          ],
          "contourcarpet": [
           {
            "colorbar": {
             "outlinewidth": 0,
             "ticks": ""
            },
            "type": "contourcarpet"
           }
          ],
          "heatmap": [
           {
            "colorbar": {
             "outlinewidth": 0,
             "ticks": ""
            },
            "colorscale": [
             [
              0,
              "#0d0887"
             ],
             [
              0.1111111111111111,
              "#46039f"
             ],
             [
              0.2222222222222222,
              "#7201a8"
             ],
             [
              0.3333333333333333,
              "#9c179e"
             ],
             [
              0.4444444444444444,
              "#bd3786"
             ],
             [
              0.5555555555555556,
              "#d8576b"
             ],
             [
              0.6666666666666666,
              "#ed7953"
             ],
             [
              0.7777777777777778,
              "#fb9f3a"
             ],
             [
              0.8888888888888888,
              "#fdca26"
             ],
             [
              1,
              "#f0f921"
             ]
            ],
            "type": "heatmap"
           }
          ],
          "heatmapgl": [
           {
            "colorbar": {
             "outlinewidth": 0,
             "ticks": ""
            },
            "colorscale": [
             [
              0,
              "#0d0887"
             ],
             [
              0.1111111111111111,
              "#46039f"
             ],
             [
              0.2222222222222222,
              "#7201a8"
             ],
             [
              0.3333333333333333,
              "#9c179e"
             ],
             [
              0.4444444444444444,
              "#bd3786"
             ],
             [
              0.5555555555555556,
              "#d8576b"
             ],
             [
              0.6666666666666666,
              "#ed7953"
             ],
             [
              0.7777777777777778,
              "#fb9f3a"
             ],
             [
              0.8888888888888888,
              "#fdca26"
             ],
             [
              1,
              "#f0f921"
             ]
            ],
            "type": "heatmapgl"
           }
          ],
          "histogram": [
           {
            "marker": {
             "pattern": {
              "fillmode": "overlay",
              "size": 10,
              "solidity": 0.2
             }
            },
            "type": "histogram"
           }
          ],
          "histogram2d": [
           {
            "colorbar": {
             "outlinewidth": 0,
             "ticks": ""
            },
            "colorscale": [
             [
              0,
              "#0d0887"
             ],
             [
              0.1111111111111111,
              "#46039f"
             ],
             [
              0.2222222222222222,
              "#7201a8"
             ],
             [
              0.3333333333333333,
              "#9c179e"
             ],
             [
              0.4444444444444444,
              "#bd3786"
             ],
             [
              0.5555555555555556,
              "#d8576b"
             ],
             [
              0.6666666666666666,
              "#ed7953"
             ],
             [
              0.7777777777777778,
              "#fb9f3a"
             ],
             [
              0.8888888888888888,
              "#fdca26"
             ],
             [
              1,
              "#f0f921"
             ]
            ],
            "type": "histogram2d"
           }
          ],
          "histogram2dcontour": [
           {
            "colorbar": {
             "outlinewidth": 0,
             "ticks": ""
            },
            "colorscale": [
             [
              0,
              "#0d0887"
             ],
             [
              0.1111111111111111,
              "#46039f"
             ],
             [
              0.2222222222222222,
              "#7201a8"
             ],
             [
              0.3333333333333333,
              "#9c179e"
             ],
             [
              0.4444444444444444,
              "#bd3786"
             ],
             [
              0.5555555555555556,
              "#d8576b"
             ],
             [
              0.6666666666666666,
              "#ed7953"
             ],
             [
              0.7777777777777778,
              "#fb9f3a"
             ],
             [
              0.8888888888888888,
              "#fdca26"
             ],
             [
              1,
              "#f0f921"
             ]
            ],
            "type": "histogram2dcontour"
           }
          ],
          "mesh3d": [
           {
            "colorbar": {
             "outlinewidth": 0,
             "ticks": ""
            },
            "type": "mesh3d"
           }
          ],
          "parcoords": [
           {
            "line": {
             "colorbar": {
              "outlinewidth": 0,
              "ticks": ""
             }
            },
            "type": "parcoords"
           }
          ],
          "pie": [
           {
            "automargin": true,
            "type": "pie"
           }
          ],
          "scatter": [
           {
            "fillpattern": {
             "fillmode": "overlay",
             "size": 10,
             "solidity": 0.2
            },
            "type": "scatter"
           }
          ],
          "scatter3d": [
           {
            "line": {
             "colorbar": {
              "outlinewidth": 0,
              "ticks": ""
             }
            },
            "marker": {
             "colorbar": {
              "outlinewidth": 0,
              "ticks": ""
             }
            },
            "type": "scatter3d"
           }
          ],
          "scattercarpet": [
           {
            "marker": {
             "colorbar": {
              "outlinewidth": 0,
              "ticks": ""
             }
            },
            "type": "scattercarpet"
           }
          ],
          "scattergeo": [
           {
            "marker": {
             "colorbar": {
              "outlinewidth": 0,
              "ticks": ""
             }
            },
            "type": "scattergeo"
           }
          ],
          "scattergl": [
           {
            "marker": {
             "colorbar": {
              "outlinewidth": 0,
              "ticks": ""
             }
            },
            "type": "scattergl"
           }
          ],
          "scattermapbox": [
           {
            "marker": {
             "colorbar": {
              "outlinewidth": 0,
              "ticks": ""
             }
            },
            "type": "scattermapbox"
           }
          ],
          "scatterpolar": [
           {
            "marker": {
             "colorbar": {
              "outlinewidth": 0,
              "ticks": ""
             }
            },
            "type": "scatterpolar"
           }
          ],
          "scatterpolargl": [
           {
            "marker": {
             "colorbar": {
              "outlinewidth": 0,
              "ticks": ""
             }
            },
            "type": "scatterpolargl"
           }
          ],
          "scatterternary": [
           {
            "marker": {
             "colorbar": {
              "outlinewidth": 0,
              "ticks": ""
             }
            },
            "type": "scatterternary"
           }
          ],
          "surface": [
           {
            "colorbar": {
             "outlinewidth": 0,
             "ticks": ""
            },
            "colorscale": [
             [
              0,
              "#0d0887"
             ],
             [
              0.1111111111111111,
              "#46039f"
             ],
             [
              0.2222222222222222,
              "#7201a8"
             ],
             [
              0.3333333333333333,
              "#9c179e"
             ],
             [
              0.4444444444444444,
              "#bd3786"
             ],
             [
              0.5555555555555556,
              "#d8576b"
             ],
             [
              0.6666666666666666,
              "#ed7953"
             ],
             [
              0.7777777777777778,
              "#fb9f3a"
             ],
             [
              0.8888888888888888,
              "#fdca26"
             ],
             [
              1,
              "#f0f921"
             ]
            ],
            "type": "surface"
           }
          ],
          "table": [
           {
            "cells": {
             "fill": {
              "color": "#EBF0F8"
             },
             "line": {
              "color": "white"
             }
            },
            "header": {
             "fill": {
              "color": "#C8D4E3"
             },
             "line": {
              "color": "white"
             }
            },
            "type": "table"
           }
          ]
         },
         "layout": {
          "annotationdefaults": {
           "arrowcolor": "#2a3f5f",
           "arrowhead": 0,
           "arrowwidth": 1
          },
          "autotypenumbers": "strict",
          "coloraxis": {
           "colorbar": {
            "outlinewidth": 0,
            "ticks": ""
           }
          },
          "colorscale": {
           "diverging": [
            [
             0,
             "#8e0152"
            ],
            [
             0.1,
             "#c51b7d"
            ],
            [
             0.2,
             "#de77ae"
            ],
            [
             0.3,
             "#f1b6da"
            ],
            [
             0.4,
             "#fde0ef"
            ],
            [
             0.5,
             "#f7f7f7"
            ],
            [
             0.6,
             "#e6f5d0"
            ],
            [
             0.7,
             "#b8e186"
            ],
            [
             0.8,
             "#7fbc41"
            ],
            [
             0.9,
             "#4d9221"
            ],
            [
             1,
             "#276419"
            ]
           ],
           "sequential": [
            [
             0,
             "#0d0887"
            ],
            [
             0.1111111111111111,
             "#46039f"
            ],
            [
             0.2222222222222222,
             "#7201a8"
            ],
            [
             0.3333333333333333,
             "#9c179e"
            ],
            [
             0.4444444444444444,
             "#bd3786"
            ],
            [
             0.5555555555555556,
             "#d8576b"
            ],
            [
             0.6666666666666666,
             "#ed7953"
            ],
            [
             0.7777777777777778,
             "#fb9f3a"
            ],
            [
             0.8888888888888888,
             "#fdca26"
            ],
            [
             1,
             "#f0f921"
            ]
           ],
           "sequentialminus": [
            [
             0,
             "#0d0887"
            ],
            [
             0.1111111111111111,
             "#46039f"
            ],
            [
             0.2222222222222222,
             "#7201a8"
            ],
            [
             0.3333333333333333,
             "#9c179e"
            ],
            [
             0.4444444444444444,
             "#bd3786"
            ],
            [
             0.5555555555555556,
             "#d8576b"
            ],
            [
             0.6666666666666666,
             "#ed7953"
            ],
            [
             0.7777777777777778,
             "#fb9f3a"
            ],
            [
             0.8888888888888888,
             "#fdca26"
            ],
            [
             1,
             "#f0f921"
            ]
           ]
          },
          "colorway": [
           "#636efa",
           "#EF553B",
           "#00cc96",
           "#ab63fa",
           "#FFA15A",
           "#19d3f3",
           "#FF6692",
           "#B6E880",
           "#FF97FF",
           "#FECB52"
          ],
          "font": {
           "color": "#2a3f5f"
          },
          "geo": {
           "bgcolor": "white",
           "lakecolor": "white",
           "landcolor": "#E5ECF6",
           "showlakes": true,
           "showland": true,
           "subunitcolor": "white"
          },
          "hoverlabel": {
           "align": "left"
          },
          "hovermode": "closest",
          "mapbox": {
           "style": "light"
          },
          "paper_bgcolor": "white",
          "plot_bgcolor": "#E5ECF6",
          "polar": {
           "angularaxis": {
            "gridcolor": "white",
            "linecolor": "white",
            "ticks": ""
           },
           "bgcolor": "#E5ECF6",
           "radialaxis": {
            "gridcolor": "white",
            "linecolor": "white",
            "ticks": ""
           }
          },
          "scene": {
           "xaxis": {
            "backgroundcolor": "#E5ECF6",
            "gridcolor": "white",
            "gridwidth": 2,
            "linecolor": "white",
            "showbackground": true,
            "ticks": "",
            "zerolinecolor": "white"
           },
           "yaxis": {
            "backgroundcolor": "#E5ECF6",
            "gridcolor": "white",
            "gridwidth": 2,
            "linecolor": "white",
            "showbackground": true,
            "ticks": "",
            "zerolinecolor": "white"
           },
           "zaxis": {
            "backgroundcolor": "#E5ECF6",
            "gridcolor": "white",
            "gridwidth": 2,
            "linecolor": "white",
            "showbackground": true,
            "ticks": "",
            "zerolinecolor": "white"
           }
          },
          "shapedefaults": {
           "line": {
            "color": "#2a3f5f"
           }
          },
          "ternary": {
           "aaxis": {
            "gridcolor": "white",
            "linecolor": "white",
            "ticks": ""
           },
           "baxis": {
            "gridcolor": "white",
            "linecolor": "white",
            "ticks": ""
           },
           "bgcolor": "#E5ECF6",
           "caxis": {
            "gridcolor": "white",
            "linecolor": "white",
            "ticks": ""
           }
          },
          "title": {
           "x": 0.05
          },
          "xaxis": {
           "automargin": true,
           "gridcolor": "white",
           "linecolor": "white",
           "ticks": "",
           "title": {
            "standoff": 15
           },
           "zerolinecolor": "white",
           "zerolinewidth": 2
          },
          "yaxis": {
           "automargin": true,
           "gridcolor": "white",
           "linecolor": "white",
           "ticks": "",
           "title": {
            "standoff": 15
           },
           "zerolinecolor": "white",
           "zerolinewidth": 2
          }
         }
        },
        "title": {
         "text": "Relazione tra Redditività_di_tutto_il_capitale_investito e Valori Borsa"
        },
        "xaxis": {
         "anchor": "y",
         "domain": [
          0,
          0.45
         ]
        },
        "xaxis2": {
         "anchor": "y2",
         "domain": [
          0.55,
          1
         ]
        },
        "yaxis": {
         "anchor": "x",
         "domain": [
          0,
          1
         ],
         "title": {
          "text": "Log Valori Borsa"
         }
        },
        "yaxis2": {
         "anchor": "x2",
         "domain": [
          0,
          1
         ],
         "title": {
          "text": "Valori Borsa"
         }
        }
       }
      }
     },
     "metadata": {},
     "output_type": "display_data"
    },
    {
     "data": {
      "application/vnd.plotly.v1+json": {
       "config": {
        "plotlyServerURL": "https://plot.ly"
       },
       "data": [
        {
         "mode": "markers",
         "name": "Ticker MARR",
         "type": "scatter",
         "x": [
          2.22,
          3.83,
          0.09,
          5.88,
          5.92,
          5.71,
          5.77,
          5.91,
          5.98,
          5.71
         ],
         "xaxis": "x",
         "y": [
          2.509599277885271,
          2.9349201179417297,
          2.8791984144362717,
          3.054001217665676,
          3.0689827565651293,
          3.07915387116492,
          2.87073576176629,
          2.8887036625848097,
          2.691243082785829,
          2.4849066497880004
         ],
         "yaxis": "y"
        },
        {
         "mode": "markers",
         "name": "Ticker MARR",
         "type": "scatter",
         "x": [
          2.22,
          3.83,
          0.09,
          5.88,
          5.92,
          5.71,
          5.77,
          5.91,
          5.98,
          5.71
         ],
         "xaxis": "x2",
         "y": [
          12.30000019073486,
          18.819999694824215,
          17.799999237060547,
          21.20000076293945,
          21.520000457763665,
          21.73999977111816,
          17.64999961853027,
          17.969999313354485,
          14.749999999999998,
          11.999999999999998
         ],
         "yaxis": "y2"
        },
        {
         "mode": "markers",
         "name": "Ticker PIA",
         "type": "scatter",
         "x": [
          4.9,
          4.91,
          3.12,
          1.73,
          1.34,
          0.46,
          -1.15,
          -1.34,
          0.45,
          -1.01
         ],
         "xaxis": "x",
         "y": [
          1.077048147781857,
          1.0522192777352672,
          0.9962103346242122,
          1.007957923880542,
          0.6392188284692253,
          0.917889432671393,
          0.48365994275805774,
          0.698134717326336,
          0.9066443833247319,
          0.8569652431213597
         ],
         "yaxis": "y"
        },
        {
         "mode": "markers",
         "name": "Ticker PIA",
         "type": "scatter",
         "x": [
          4.9,
          4.91,
          3.12,
          1.73,
          1.34,
          0.46,
          -1.15,
          -1.34,
          0.45,
          -1.01
         ],
         "xaxis": "x2",
         "y": [
          2.9360001087188716,
          2.864000082015991,
          2.7079999446868896,
          2.740000009536743,
          1.8949999809265134,
          2.503999948501587,
          1.621999979019165,
          2.009999990463257,
          2.476000070571899,
          2.3559999465942383
         ],
         "yaxis": "y2"
        },
        {
         "mode": "markers",
         "name": "Ticker BRE",
         "type": "scatter",
         "x": [
          8.73,
          8.37,
          4.42,
          10.39,
          13.23,
          11.12,
          12.19,
          9.5,
          6.58,
          4.34
         ],
         "xaxis": "x",
         "y": [
          2.4033350340342152,
          2.564179813062659,
          2.393218807006317,
          2.404238719152724,
          2.320425041100351,
          2.58475200201879,
          2.4890646757652832,
          2.07969149231976,
          1.6815725236803198,
          1.3681303836941336
         ],
         "yaxis": "y"
        },
        {
         "mode": "markers",
         "name": "Ticker BRE",
         "type": "scatter",
         "x": [
          8.73,
          8.37,
          4.42,
          10.39,
          13.23,
          11.12,
          12.19,
          9.5,
          6.58,
          4.34
         ],
         "xaxis": "x2",
         "y": [
          11.0600004196167,
          12.989999771118162,
          10.948678970336912,
          11.069999694824217,
          10.180000305175781,
          13.260000228881834,
          12.050000190734862,
          8.001999855041504,
          5.374000072479247,
          3.9279999732971187
         ],
         "yaxis": "y2"
        },
        {
         "mode": "markers",
         "name": "Ticker DAN",
         "type": "scatter",
         "x": [
          -1.74,
          -0.21,
          -0.16,
          0.98,
          0.07,
          2.11,
          0.17,
          1.08,
          0.25,
          0.3
         ],
         "xaxis": "x",
         "y": [
          3.104586644253541,
          3.2790297189519984,
          2.7265447662626667,
          2.8154087651077058,
          2.785011289333365,
          3.0516398874558934,
          3.0243197266987147,
          2.740840023925201,
          3.000222186422059,
          3.2308043655777645
         ],
         "yaxis": "y"
        },
        {
         "mode": "markers",
         "name": "Ticker DAN",
         "type": "scatter",
         "x": [
          -1.74,
          -0.21,
          -0.16,
          0.98,
          0.07,
          2.11,
          0.17,
          1.08,
          0.25,
          0.3
         ],
         "xaxis": "x2",
         "y": [
          22.299999237060543,
          26.549999237060547,
          15.279999732971186,
          16.700000762939453,
          16.20000076293945,
          21.149999618530277,
          20.57999992370605,
          15.499999999999996,
          20.090000152587887,
          25.299999237060543
         ],
         "yaxis": "y2"
        },
        {
         "mode": "markers",
         "name": "Ticker BC",
         "type": "scatter",
         "x": [
          22.33,
          14.05,
          4.86,
          17.59,
          17.18,
          16.24,
          16.69,
          18.38,
          18.39,
          17.75
         ],
         "xaxis": "x",
         "y": [
          4.269697449699962,
          4.107589776423775,
          3.5333946002941827,
          3.5587707383536116,
          3.349904087274605,
          3.363841581918742,
          3.0267462864029175,
          2.7033726319915394,
          2.8735646826837065,
          3.1705255511154085
         ],
         "yaxis": "y"
        },
        {
         "mode": "markers",
         "name": "Ticker BC",
         "type": "scatter",
         "x": [
          22.33,
          14.05,
          4.86,
          17.59,
          17.18,
          16.24,
          16.69,
          18.38,
          18.39,
          17.75
         ],
         "xaxis": "x2",
         "y": [
          71.49999999999996,
          60.79999923706053,
          34.2400016784668,
          35.11999893188476,
          28.499999999999996,
          28.89999961853027,
          20.6299991607666,
          14.930000305175776,
          17.70000076293945,
          23.81999969482422
         ],
         "yaxis": "y2"
        },
        {
         "mode": "markers",
         "name": "Ticker CLI",
         "type": "scatter",
         "x": [
          0.77,
          1.78,
          4.06,
          -2.81,
          0.42,
          0.39,
          -0.61,
          2.45,
          2.77,
          1.98
         ],
         "xaxis": "x",
         "y": [
          1.0543119898966447,
          1.2412686000947695,
          0.9001613654511708,
          0.9162907318741551,
          1.007957923880542,
          1.2584609841914016,
          1.1052568250710544,
          1.1933162536324886,
          0.9895412148852936,
          0.6418538736240484
         ],
         "yaxis": "y"
        },
        {
         "mode": "markers",
         "name": "Ticker CLI",
         "type": "scatter",
         "x": [
          0.77,
          1.78,
          4.06,
          -2.81,
          0.42,
          0.39,
          -0.61,
          2.45,
          2.77,
          1.98
         ],
         "xaxis": "x2",
         "y": [
          2.869999885559082,
          3.4600000381469727,
          2.4600000381469727,
          2.5,
          2.740000009536743,
          3.5199999809265132,
          3.0199999809265137,
          3.29800009727478,
          2.6900000572204585,
          1.899999976158142
         ],
         "yaxis": "y2"
        },
        {
         "mode": "markers",
         "name": "Ticker ELC",
         "type": "scatter",
         "x": [
          6.76,
          2.91,
          -0.95,
          -0.31,
          -2.51,
          -0.08,
          -1.4,
          1.15,
          -0.27,
          -1.81
         ],
         "xaxis": "x",
         "y": [
          1.120047588057166,
          1.264126716369702,
          1.1265516697226583,
          1.0885619624476819,
          0.4187103223098387,
          0.9082585678678127,
          0.6097655897614381,
          0.6418538736240484,
          0.5704144453674508,
          0.5709795358097567
         ],
         "yaxis": "y"
        },
        {
         "mode": "markers",
         "name": "Ticker ELC",
         "type": "scatter",
         "x": [
          6.76,
          2.91,
          -0.95,
          -0.31,
          -2.51,
          -0.08,
          -1.4,
          1.15,
          -0.27,
          -1.81
         ],
         "xaxis": "x2",
         "y": [
          3.065000057220459,
          3.5399999618530273,
          3.0850000381469727,
          2.9700000286102286,
          1.5199999809265137,
          2.4800000190734863,
          1.840000033378601,
          1.899999976158142,
          1.7690000534057615,
          1.7699999809265134
         ],
         "yaxis": "y2"
        },
        {
         "mode": "markers",
         "name": "Ticker GPI",
         "type": "scatter",
         "x": [
          1.4,
          4.22,
          6.73,
          7.1,
          5.95,
          10.96,
          12.24,
          9.11,
          9.64,
          8.45
         ],
         "xaxis": "x",
         "y": [
          2.653241951175182,
          2.803360380906535,
          2.101692187922208,
          2.0464016580303386,
          2.121063234666565,
          2.3702437236421723,
          2.3223877015907286,
          2.282382405139267,
          null,
          null
         ],
         "yaxis": "y"
        },
        {
         "mode": "markers",
         "name": "Ticker GPI",
         "type": "scatter",
         "x": [
          1.4,
          4.22,
          6.73,
          7.1,
          5.95,
          10.96,
          12.24,
          9.11,
          9.64,
          8.45
         ],
         "xaxis": "x2",
         "y": [
          14.199999809265131,
          16.499999999999996,
          8.180000305175781,
          7.739999771118162,
          8.340000152587889,
          10.699999809265137,
          10.199999809265133,
          9.800000190734862,
          null,
          null
         ],
         "yaxis": "y2"
        },
        {
         "mode": "markers",
         "name": "Ticker SRI",
         "type": "scatter",
         "x": [
          1.32,
          2.71,
          -0.32,
          3.65,
          4.55,
          5.85,
          6.87,
          7.59,
          9.28,
          8
         ],
         "xaxis": "x",
         "y": [
          0.18647960255701124,
          0.7443154761953833,
          0.8285518009080817,
          1.169381368441481,
          1.2974631708642825,
          1.911022923913132,
          1.2974631708642825,
          1.341296964264569,
          1.3942625468528604,
          1.4148818606044733
         ],
         "yaxis": "y"
        },
        {
         "mode": "markers",
         "name": "Ticker SRI",
         "type": "scatter",
         "x": [
          1.32,
          2.71,
          -0.32,
          3.65,
          4.55,
          5.85,
          6.87,
          7.59,
          9.28,
          8
         ],
         "xaxis": "x2",
         "y": [
          1.2050000429153442,
          2.1050000190734863,
          2.289999961853028,
          3.2200000286102286,
          3.660000085830689,
          6.760000228881836,
          3.660000085830689,
          3.8239998817443848,
          4.0320000648498535,
          4.116000175476073
         ],
         "yaxis": "y2"
        },
        {
         "mode": "markers",
         "name": "Ticker ALA",
         "type": "scatter",
         "x": [
          11.19,
          10.96,
          8.18,
          8.29,
          8.02,
          5.04,
          6.7,
          9.28,
          10.29,
          9.1
         ],
         "xaxis": "x",
         "y": [
          2.4680995476355903,
          2.3655598563366795,
          null,
          null,
          null,
          null,
          null,
          null,
          null,
          null
         ],
         "yaxis": "y"
        },
        {
         "mode": "markers",
         "name": "Ticker ALA",
         "type": "scatter",
         "x": [
          11.19,
          10.96,
          8.18,
          8.29,
          8.02,
          5.04,
          6.7,
          9.28,
          10.29,
          9.1
         ],
         "xaxis": "x2",
         "y": [
          11.80000019073486,
          10.64999961853027,
          null,
          null,
          null,
          null,
          null,
          null,
          null,
          null
         ],
         "yaxis": "y2"
        },
        {
         "mode": "markers",
         "name": "Ticker ICF",
         "type": "scatter",
         "x": [
          3.52,
          0.85,
          4.71,
          10.27,
          0.86,
          4.96,
          8.95,
          10.7,
          5.76,
          6.41
         ],
         "xaxis": "x",
         "y": [
          1.7155980979710415,
          1.8277698730198415,
          1.6974487967434386,
          null,
          null,
          null,
          null,
          null,
          null,
          null
         ],
         "yaxis": "y"
        },
        {
         "mode": "markers",
         "name": "Ticker ICF",
         "type": "scatter",
         "x": [
          3.52,
          0.85,
          4.71,
          10.27,
          0.86,
          4.96,
          8.95,
          10.7,
          5.76,
          6.41
         ],
         "xaxis": "x2",
         "y": [
          5.55999994277954,
          6.2199997901916495,
          5.460000038146972,
          null,
          null,
          null,
          null,
          null,
          null,
          null
         ],
         "yaxis": "y2"
        },
        {
         "mode": "markers",
         "name": "Ticker ENV",
         "type": "scatter",
         "x": [
          6.8,
          6.99,
          -1.15,
          3.88,
          6.99,
          8.68,
          6.99,
          0.79,
          9.36,
          7.58
         ],
         "xaxis": "x",
         "y": [
          1.190887553182456,
          1.3350010541839938,
          1.1939224540228235,
          1.2208299523375428,
          1.1847899790762915,
          1.2470322992672698,
          1.0224509174110963,
          1.0260415821605242,
          1.249901738946927,
          1.1499389134175557
         ],
         "yaxis": "y"
        },
        {
         "mode": "markers",
         "name": "Ticker ENV",
         "type": "scatter",
         "x": [
          6.8,
          6.99,
          -1.15,
          3.88,
          6.99,
          8.68,
          6.99,
          0.79,
          9.36,
          7.58
         ],
         "xaxis": "x2",
         "y": [
          3.289999961853028,
          3.799999952316284,
          3.2999999523162837,
          3.390000104904175,
          3.2699999809265132,
          3.480000019073486,
          2.7799999713897705,
          2.7899999618530273,
          3.4900000095367427,
          3.1579999923706046
         ],
         "yaxis": "y2"
        },
        {
         "mode": "markers",
         "name": "Ticker MASI",
         "type": "scatter",
         "x": [
          11.56,
          13.1,
          3.74,
          12.14,
          11.54,
          15.58,
          14.92,
          16.22,
          21.11,
          20.32
         ],
         "xaxis": "x",
         "y": [
          1.5062972042644385,
          1.348073123528931,
          0.943905872931563,
          1.1568812177849161,
          1.348073123528931,
          1.5040773967762742,
          1.4609378908394477,
          1.4816045625986316,
          null,
          null
         ],
         "yaxis": "y"
        },
        {
         "mode": "markers",
         "name": "Ticker MASI",
         "type": "scatter",
         "x": [
          11.56,
          13.1,
          3.74,
          12.14,
          11.54,
          15.58,
          14.92,
          16.22,
          21.11,
          20.32
         ],
         "xaxis": "x2",
         "y": [
          4.510000228881836,
          3.8499999046325675,
          2.569999933242798,
          3.180000066757202,
          3.8499999046325675,
          4.5,
          4.30999994277954,
          4.400000095367432,
          null,
          null
         ],
         "yaxis": "y2"
        },
        {
         "mode": "markers",
         "name": "Ticker SVS",
         "type": "scatter",
         "x": [
          3.82,
          5.34,
          5.51,
          5.55,
          5.65,
          6.21,
          4.96,
          6.82,
          6.95,
          7.43
         ],
         "xaxis": "x",
         "y": [
          2.3015845697493673,
          null,
          null,
          null,
          null,
          null,
          null,
          null,
          null,
          null
         ],
         "yaxis": "y"
        },
        {
         "mode": "markers",
         "name": "Ticker SVS",
         "type": "scatter",
         "x": [
          3.82,
          5.34,
          5.51,
          5.55,
          5.65,
          6.21,
          4.96,
          6.82,
          6.95,
          7.43
         ],
         "xaxis": "x2",
         "y": [
          9.989999771118164,
          null,
          null,
          null,
          null,
          null,
          null,
          null,
          null,
          null
         ],
         "yaxis": "y2"
        },
        {
         "mode": "markers",
         "name": "Ticker STAR7",
         "type": "scatter",
         "x": [
          5.69,
          2.93,
          3.84,
          5.01,
          5.15,
          7.59,
          6.26,
          7.16,
          6.19,
          5.82
         ],
         "xaxis": "x",
         "y": [
          2.1679101634795908,
          2.264883237693826,
          null,
          null,
          null,
          null,
          null,
          null,
          null,
          null
         ],
         "yaxis": "y"
        },
        {
         "mode": "markers",
         "name": "Ticker STAR7",
         "type": "scatter",
         "x": [
          5.69,
          2.93,
          3.84,
          5.01,
          5.15,
          7.59,
          6.26,
          7.16,
          6.19,
          5.82
         ],
         "xaxis": "x2",
         "y": [
          8.739999771118164,
          9.630000114440916,
          null,
          null,
          null,
          null,
          null,
          null,
          null,
          null
         ],
         "yaxis": "y2"
        },
        {
         "mode": "markers",
         "name": "Ticker SCK",
         "type": "scatter",
         "x": [
          22.44,
          29.44,
          8.57,
          8.73,
          14.16,
          11.79,
          5.71,
          6.84,
          5.17,
          7.12
         ],
         "xaxis": "x",
         "y": [
          2.0333975857027218,
          2.356125878001209,
          1.1151415749853149,
          0.15700371212988268,
          -0.31471071871163714,
          null,
          null,
          null,
          null,
          null
         ],
         "yaxis": "y"
        },
        {
         "mode": "markers",
         "name": "Ticker SCK",
         "type": "scatter",
         "x": [
          22.44,
          29.44,
          8.57,
          8.73,
          14.16,
          11.79,
          5.71,
          6.84,
          5.17,
          7.12
         ],
         "xaxis": "x2",
         "y": [
          7.639999866485597,
          10.55000019073486,
          3.0499999523162837,
          1.1699999570846558,
          0.7300000190734863,
          null,
          null,
          null,
          null,
          null
         ],
         "yaxis": "y2"
        },
        {
         "mode": "markers",
         "name": "Ticker MARP",
         "type": "scatter",
         "x": [
          5.5,
          4.11,
          -4.79,
          0.45,
          7.19,
          6.05,
          4.24,
          7.84,
          4.1,
          4.27
         ],
         "xaxis": "x",
         "y": [
          1.4060969697165737,
          1.5475624681341262,
          1.0296194001512595,
          1.508511989624342,
          null,
          null,
          null,
          null,
          null,
          null
         ],
         "yaxis": "y"
        },
        {
         "mode": "markers",
         "name": "Ticker MARP",
         "type": "scatter",
         "x": [
          5.5,
          4.11,
          -4.79,
          0.45,
          7.19,
          6.05,
          4.24,
          7.84,
          4.1,
          4.27
         ],
         "xaxis": "x2",
         "y": [
          4.079999923706054,
          4.699999809265136,
          2.7999999523162837,
          4.519999980926514,
          null,
          null,
          null,
          null,
          null,
          null
         ],
         "yaxis": "y2"
        },
        {
         "mode": "markers",
         "name": "Ticker ITD",
         "type": "scatter",
         "x": [
          26.39,
          28.59,
          22.33,
          27.18,
          23.43,
          23.85,
          19.97,
          14.46,
          7.8,
          8.76
         ],
         "xaxis": "x",
         "y": [
          2.6672281800910014,
          2.972975247406338,
          2.3513752571634776,
          1.8082887555452603,
          1.0986122886681098,
          null,
          null,
          null,
          null,
          null
         ],
         "yaxis": "y"
        },
        {
         "mode": "markers",
         "name": "Ticker ITD",
         "type": "scatter",
         "x": [
          26.39,
          28.59,
          22.33,
          27.18,
          23.43,
          23.85,
          19.97,
          14.46,
          7.8,
          8.76
         ],
         "xaxis": "x2",
         "y": [
          14.399999618530272,
          19.549999237060543,
          10.499999999999998,
          6.0999999046325675,
          3,
          null,
          null,
          null,
          null,
          null
         ],
         "yaxis": "y2"
        },
        {
         "mode": "markers",
         "name": "Ticker VIM",
         "type": "scatter",
         "x": [
          0.85,
          0.06,
          -8.5,
          -8.6,
          -0.3,
          5.09,
          3.07,
          0.52,
          4.27,
          5.65
         ],
         "xaxis": "x",
         "y": [
          0.13102824985805775,
          0.4637340372249708,
          0.18232159653038368,
          0.7654678864965156,
          1.0818051865157,
          null,
          null,
          null,
          null,
          null
         ],
         "yaxis": "y"
        },
        {
         "mode": "markers",
         "name": "Ticker VIM",
         "type": "scatter",
         "x": [
          0.85,
          0.06,
          -8.5,
          -8.6,
          -0.3,
          5.09,
          3.07,
          0.52,
          4.27,
          5.65
         ],
         "xaxis": "x2",
         "y": [
          1.1399999856948853,
          1.590000033378601,
          1.2000000476837158,
          2.150000095367432,
          2.950000047683716,
          null,
          null,
          null,
          null,
          null
         ],
         "yaxis": "y2"
        },
        {
         "mode": "markers",
         "name": "Ticker MDC",
         "type": "scatter",
         "x": [
          12.25,
          6.22,
          6.13,
          4.46,
          7.19,
          2.12,
          2.65,
          4.9,
          1.55,
          3.5
         ],
         "xaxis": "x",
         "y": [
          3.228826155721369,
          3.640214242083339,
          null,
          null,
          null,
          null,
          null,
          null,
          null,
          null
         ],
         "yaxis": "y"
        },
        {
         "mode": "markers",
         "name": "Ticker MDC",
         "type": "scatter",
         "x": [
          12.25,
          6.22,
          6.13,
          4.46,
          7.19,
          2.12,
          2.65,
          4.9,
          1.55,
          3.5
         ],
         "xaxis": "x2",
         "y": [
          25.249999999999996,
          38.09999847412107,
          null,
          null,
          null,
          null,
          null,
          null,
          null,
          null
         ],
         "yaxis": "y2"
        },
        {
         "mode": "markers",
         "name": "Ticker ILP",
         "type": "scatter",
         "x": [
          15.77,
          14.64,
          12.08,
          3.87,
          10.46,
          10.06,
          9.01,
          4.7,
          4.57,
          3.41
         ],
         "xaxis": "x",
         "y": [
          1.490654389331624,
          1.508511989624342,
          0.7129497891566287,
          0.779324907423567,
          null,
          null,
          null,
          null,
          null,
          null
         ],
         "yaxis": "y"
        },
        {
         "mode": "markers",
         "name": "Ticker ILP",
         "type": "scatter",
         "x": [
          15.77,
          14.64,
          12.08,
          3.87,
          10.46,
          10.06,
          9.01,
          4.7,
          4.57,
          3.41
         ],
         "xaxis": "x2",
         "y": [
          4.440000057220458,
          4.519999980926514,
          2.039999961853028,
          2.180000066757202,
          null,
          null,
          null,
          null,
          null,
          null
         ],
         "yaxis": "y2"
        },
        {
         "mode": "markers",
         "name": "Ticker CFL",
         "type": "scatter",
         "x": [
          1.13,
          4.58,
          1.43,
          1.24,
          5.04,
          3.6,
          3.24,
          1.51,
          2.63,
          3.09
         ],
         "xaxis": "x",
         "y": [
          2.536866415880321,
          2.7549338039876257,
          null,
          null,
          null,
          null,
          null,
          null,
          null,
          null
         ],
         "yaxis": "y"
        },
        {
         "mode": "markers",
         "name": "Ticker CFL",
         "type": "scatter",
         "x": [
          1.13,
          4.58,
          1.43,
          1.24,
          5.04,
          3.6,
          3.24,
          1.51,
          2.63,
          3.09
         ],
         "xaxis": "x2",
         "y": [
          12.64000034332275,
          15.720000267028805,
          null,
          null,
          null,
          null,
          null,
          null,
          null,
          null
         ],
         "yaxis": "y2"
        },
        {
         "mode": "markers",
         "name": "Ticker FCM",
         "type": "scatter",
         "x": [
          1.2,
          2.08,
          -1.82,
          2.18,
          3.98,
          2.96,
          2.82,
          3.13,
          5.9,
          -0.53
         ],
         "xaxis": "x",
         "y": [
          0.12221762850445134,
          0.2350721108710924,
          0.2350721108710924,
          0.47933496257972397,
          null,
          null,
          null,
          null,
          null,
          null
         ],
         "yaxis": "y"
        },
        {
         "mode": "markers",
         "name": "Ticker FCM",
         "type": "scatter",
         "x": [
          1.2,
          2.08,
          -1.82,
          2.18,
          3.98,
          2.96,
          2.82,
          3.13,
          5.9,
          -0.53
         ],
         "xaxis": "x2",
         "y": [
          1.1299999952316284,
          1.2649999856948853,
          1.2649999856948853,
          1.6150000095367432,
          null,
          null,
          null,
          null,
          null,
          null
         ],
         "yaxis": "y2"
        },
        {
         "mode": "markers",
         "name": "Ticker FVI",
         "type": "scatter",
         "x": [
          11.18,
          11.46,
          14.59,
          14.04,
          15.02,
          19.61,
          17.57,
          6.7,
          8.85,
          5.08
         ],
         "xaxis": "x",
         "y": [
          2.7440606508911505,
          2.69462719365756,
          2.509599277885271,
          2.4248027425974863,
          2.4061257641178835,
          null,
          null,
          null,
          null,
          null
         ],
         "yaxis": "y"
        },
        {
         "mode": "markers",
         "name": "Ticker FVI",
         "type": "scatter",
         "x": [
          11.18,
          11.46,
          14.59,
          14.04,
          15.02,
          19.61,
          17.57,
          6.7,
          8.85,
          5.08
         ],
         "xaxis": "x2",
         "y": [
          15.550000190734858,
          14.800000190734858,
          12.30000019073486,
          11.300000190734863,
          11.090909004211426,
          null,
          null,
          null,
          null,
          null
         ],
         "yaxis": "y2"
        },
        {
         "mode": "markers",
         "name": "Ticker PLT",
         "type": "scatter",
         "x": [
          5.98,
          6.1,
          5.37,
          5.73,
          4.61,
          6.17,
          4.55,
          0.94,
          1.39,
          9.78
         ],
         "xaxis": "x",
         "y": [
          null,
          null,
          null,
          null,
          null,
          null,
          null,
          null,
          null,
          null
         ],
         "yaxis": "y"
        },
        {
         "mode": "markers",
         "name": "Ticker PLT",
         "type": "scatter",
         "x": [
          5.98,
          6.1,
          5.37,
          5.73,
          4.61,
          6.17,
          4.55,
          0.94,
          1.39,
          9.78
         ],
         "xaxis": "x2",
         "y": [
          null,
          null,
          null,
          null,
          null,
          null,
          null,
          null,
          null,
          null
         ],
         "yaxis": "y2"
        },
        {
         "mode": "markers",
         "name": "Ticker LDB",
         "type": "scatter",
         "x": [
          9.64,
          10.74,
          12,
          10.11,
          11.42,
          8.82,
          6.02,
          4.27,
          4.55,
          6.61
         ],
         "xaxis": "x",
         "y": [
          0.6291418754934363,
          0.7952523647473517,
          null,
          null,
          null,
          null,
          null,
          null,
          null,
          null
         ],
         "yaxis": "y"
        },
        {
         "mode": "markers",
         "name": "Ticker LDB",
         "type": "scatter",
         "x": [
          9.64,
          10.74,
          12,
          10.11,
          11.42,
          8.82,
          6.02,
          4.27,
          4.55,
          6.61
         ],
         "xaxis": "x2",
         "y": [
          1.876000046730041,
          2.2149999141693115,
          null,
          null,
          null,
          null,
          null,
          null,
          null,
          null
         ],
         "yaxis": "y2"
        },
        {
         "mode": "markers",
         "name": "Ticker FOS",
         "type": "scatter",
         "x": [
          4.95,
          1.68,
          5.21,
          2.98,
          0.33,
          6.22,
          9.95,
          7.68,
          8.33,
          5.85
         ],
         "xaxis": "x",
         "y": [
          1.2119409427536318,
          1.3506671562994919,
          0.9082585678678127,
          1.1426291710428607,
          null,
          null,
          null,
          null,
          null,
          null
         ],
         "yaxis": "y"
        },
        {
         "mode": "markers",
         "name": "Ticker FOS",
         "type": "scatter",
         "x": [
          4.95,
          1.68,
          5.21,
          2.98,
          0.33,
          6.22,
          9.95,
          7.68,
          8.33,
          5.85
         ],
         "xaxis": "x2",
         "y": [
          3.359999895095825,
          3.859999895095825,
          2.4800000190734863,
          3.1349999904632564,
          null,
          null,
          null,
          null,
          null,
          null
         ],
         "yaxis": "y2"
        },
        {
         "mode": "markers",
         "name": "Ticker BAN",
         "type": "scatter",
         "x": [
          10.02,
          14.93,
          9.21,
          24.59,
          24.91,
          22.97,
          24.26,
          29.06,
          25.64,
          22.94
         ],
         "xaxis": "x",
         "y": [
          1.6992785780777009,
          1.814824720414034,
          1.4586150670564606,
          1.6677068565457855,
          1.4929040533163809,
          1.3244189548654353,
          1.2005670192292972,
          1.4683350732132154,
          0.8162494147953161,
          0.8862438592669583
         ],
         "yaxis": "y"
        },
        {
         "mode": "markers",
         "name": "Ticker BAN",
         "type": "scatter",
         "x": [
          10.02,
          14.93,
          9.21,
          24.59,
          24.91,
          22.97,
          24.26,
          29.06,
          25.64,
          22.94
         ],
         "xaxis": "x2",
         "y": [
          5.46999979019165,
          6.139999866485596,
          4.300000190734862,
          5.300000190734862,
          4.449999809265136,
          3.7599999904632564,
          3.3220000267028804,
          4.3420000076293945,
          2.26200008392334,
          2.4260001182556152
         ],
         "yaxis": "y2"
        }
       ],
       "layout": {
        "showlegend": false,
        "template": {
         "data": {
          "bar": [
           {
            "error_x": {
             "color": "#2a3f5f"
            },
            "error_y": {
             "color": "#2a3f5f"
            },
            "marker": {
             "line": {
              "color": "#E5ECF6",
              "width": 0.5
             },
             "pattern": {
              "fillmode": "overlay",
              "size": 10,
              "solidity": 0.2
             }
            },
            "type": "bar"
           }
          ],
          "barpolar": [
           {
            "marker": {
             "line": {
              "color": "#E5ECF6",
              "width": 0.5
             },
             "pattern": {
              "fillmode": "overlay",
              "size": 10,
              "solidity": 0.2
             }
            },
            "type": "barpolar"
           }
          ],
          "carpet": [
           {
            "aaxis": {
             "endlinecolor": "#2a3f5f",
             "gridcolor": "white",
             "linecolor": "white",
             "minorgridcolor": "white",
             "startlinecolor": "#2a3f5f"
            },
            "baxis": {
             "endlinecolor": "#2a3f5f",
             "gridcolor": "white",
             "linecolor": "white",
             "minorgridcolor": "white",
             "startlinecolor": "#2a3f5f"
            },
            "type": "carpet"
           }
          ],
          "choropleth": [
           {
            "colorbar": {
             "outlinewidth": 0,
             "ticks": ""
            },
            "type": "choropleth"
           }
          ],
          "contour": [
           {
            "colorbar": {
             "outlinewidth": 0,
             "ticks": ""
            },
            "colorscale": [
             [
              0,
              "#0d0887"
             ],
             [
              0.1111111111111111,
              "#46039f"
             ],
             [
              0.2222222222222222,
              "#7201a8"
             ],
             [
              0.3333333333333333,
              "#9c179e"
             ],
             [
              0.4444444444444444,
              "#bd3786"
             ],
             [
              0.5555555555555556,
              "#d8576b"
             ],
             [
              0.6666666666666666,
              "#ed7953"
             ],
             [
              0.7777777777777778,
              "#fb9f3a"
             ],
             [
              0.8888888888888888,
              "#fdca26"
             ],
             [
              1,
              "#f0f921"
             ]
            ],
            "type": "contour"
           }
          ],
          "contourcarpet": [
           {
            "colorbar": {
             "outlinewidth": 0,
             "ticks": ""
            },
            "type": "contourcarpet"
           }
          ],
          "heatmap": [
           {
            "colorbar": {
             "outlinewidth": 0,
             "ticks": ""
            },
            "colorscale": [
             [
              0,
              "#0d0887"
             ],
             [
              0.1111111111111111,
              "#46039f"
             ],
             [
              0.2222222222222222,
              "#7201a8"
             ],
             [
              0.3333333333333333,
              "#9c179e"
             ],
             [
              0.4444444444444444,
              "#bd3786"
             ],
             [
              0.5555555555555556,
              "#d8576b"
             ],
             [
              0.6666666666666666,
              "#ed7953"
             ],
             [
              0.7777777777777778,
              "#fb9f3a"
             ],
             [
              0.8888888888888888,
              "#fdca26"
             ],
             [
              1,
              "#f0f921"
             ]
            ],
            "type": "heatmap"
           }
          ],
          "heatmapgl": [
           {
            "colorbar": {
             "outlinewidth": 0,
             "ticks": ""
            },
            "colorscale": [
             [
              0,
              "#0d0887"
             ],
             [
              0.1111111111111111,
              "#46039f"
             ],
             [
              0.2222222222222222,
              "#7201a8"
             ],
             [
              0.3333333333333333,
              "#9c179e"
             ],
             [
              0.4444444444444444,
              "#bd3786"
             ],
             [
              0.5555555555555556,
              "#d8576b"
             ],
             [
              0.6666666666666666,
              "#ed7953"
             ],
             [
              0.7777777777777778,
              "#fb9f3a"
             ],
             [
              0.8888888888888888,
              "#fdca26"
             ],
             [
              1,
              "#f0f921"
             ]
            ],
            "type": "heatmapgl"
           }
          ],
          "histogram": [
           {
            "marker": {
             "pattern": {
              "fillmode": "overlay",
              "size": 10,
              "solidity": 0.2
             }
            },
            "type": "histogram"
           }
          ],
          "histogram2d": [
           {
            "colorbar": {
             "outlinewidth": 0,
             "ticks": ""
            },
            "colorscale": [
             [
              0,
              "#0d0887"
             ],
             [
              0.1111111111111111,
              "#46039f"
             ],
             [
              0.2222222222222222,
              "#7201a8"
             ],
             [
              0.3333333333333333,
              "#9c179e"
             ],
             [
              0.4444444444444444,
              "#bd3786"
             ],
             [
              0.5555555555555556,
              "#d8576b"
             ],
             [
              0.6666666666666666,
              "#ed7953"
             ],
             [
              0.7777777777777778,
              "#fb9f3a"
             ],
             [
              0.8888888888888888,
              "#fdca26"
             ],
             [
              1,
              "#f0f921"
             ]
            ],
            "type": "histogram2d"
           }
          ],
          "histogram2dcontour": [
           {
            "colorbar": {
             "outlinewidth": 0,
             "ticks": ""
            },
            "colorscale": [
             [
              0,
              "#0d0887"
             ],
             [
              0.1111111111111111,
              "#46039f"
             ],
             [
              0.2222222222222222,
              "#7201a8"
             ],
             [
              0.3333333333333333,
              "#9c179e"
             ],
             [
              0.4444444444444444,
              "#bd3786"
             ],
             [
              0.5555555555555556,
              "#d8576b"
             ],
             [
              0.6666666666666666,
              "#ed7953"
             ],
             [
              0.7777777777777778,
              "#fb9f3a"
             ],
             [
              0.8888888888888888,
              "#fdca26"
             ],
             [
              1,
              "#f0f921"
             ]
            ],
            "type": "histogram2dcontour"
           }
          ],
          "mesh3d": [
           {
            "colorbar": {
             "outlinewidth": 0,
             "ticks": ""
            },
            "type": "mesh3d"
           }
          ],
          "parcoords": [
           {
            "line": {
             "colorbar": {
              "outlinewidth": 0,
              "ticks": ""
             }
            },
            "type": "parcoords"
           }
          ],
          "pie": [
           {
            "automargin": true,
            "type": "pie"
           }
          ],
          "scatter": [
           {
            "fillpattern": {
             "fillmode": "overlay",
             "size": 10,
             "solidity": 0.2
            },
            "type": "scatter"
           }
          ],
          "scatter3d": [
           {
            "line": {
             "colorbar": {
              "outlinewidth": 0,
              "ticks": ""
             }
            },
            "marker": {
             "colorbar": {
              "outlinewidth": 0,
              "ticks": ""
             }
            },
            "type": "scatter3d"
           }
          ],
          "scattercarpet": [
           {
            "marker": {
             "colorbar": {
              "outlinewidth": 0,
              "ticks": ""
             }
            },
            "type": "scattercarpet"
           }
          ],
          "scattergeo": [
           {
            "marker": {
             "colorbar": {
              "outlinewidth": 0,
              "ticks": ""
             }
            },
            "type": "scattergeo"
           }
          ],
          "scattergl": [
           {
            "marker": {
             "colorbar": {
              "outlinewidth": 0,
              "ticks": ""
             }
            },
            "type": "scattergl"
           }
          ],
          "scattermapbox": [
           {
            "marker": {
             "colorbar": {
              "outlinewidth": 0,
              "ticks": ""
             }
            },
            "type": "scattermapbox"
           }
          ],
          "scatterpolar": [
           {
            "marker": {
             "colorbar": {
              "outlinewidth": 0,
              "ticks": ""
             }
            },
            "type": "scatterpolar"
           }
          ],
          "scatterpolargl": [
           {
            "marker": {
             "colorbar": {
              "outlinewidth": 0,
              "ticks": ""
             }
            },
            "type": "scatterpolargl"
           }
          ],
          "scatterternary": [
           {
            "marker": {
             "colorbar": {
              "outlinewidth": 0,
              "ticks": ""
             }
            },
            "type": "scatterternary"
           }
          ],
          "surface": [
           {
            "colorbar": {
             "outlinewidth": 0,
             "ticks": ""
            },
            "colorscale": [
             [
              0,
              "#0d0887"
             ],
             [
              0.1111111111111111,
              "#46039f"
             ],
             [
              0.2222222222222222,
              "#7201a8"
             ],
             [
              0.3333333333333333,
              "#9c179e"
             ],
             [
              0.4444444444444444,
              "#bd3786"
             ],
             [
              0.5555555555555556,
              "#d8576b"
             ],
             [
              0.6666666666666666,
              "#ed7953"
             ],
             [
              0.7777777777777778,
              "#fb9f3a"
             ],
             [
              0.8888888888888888,
              "#fdca26"
             ],
             [
              1,
              "#f0f921"
             ]
            ],
            "type": "surface"
           }
          ],
          "table": [
           {
            "cells": {
             "fill": {
              "color": "#EBF0F8"
             },
             "line": {
              "color": "white"
             }
            },
            "header": {
             "fill": {
              "color": "#C8D4E3"
             },
             "line": {
              "color": "white"
             }
            },
            "type": "table"
           }
          ]
         },
         "layout": {
          "annotationdefaults": {
           "arrowcolor": "#2a3f5f",
           "arrowhead": 0,
           "arrowwidth": 1
          },
          "autotypenumbers": "strict",
          "coloraxis": {
           "colorbar": {
            "outlinewidth": 0,
            "ticks": ""
           }
          },
          "colorscale": {
           "diverging": [
            [
             0,
             "#8e0152"
            ],
            [
             0.1,
             "#c51b7d"
            ],
            [
             0.2,
             "#de77ae"
            ],
            [
             0.3,
             "#f1b6da"
            ],
            [
             0.4,
             "#fde0ef"
            ],
            [
             0.5,
             "#f7f7f7"
            ],
            [
             0.6,
             "#e6f5d0"
            ],
            [
             0.7,
             "#b8e186"
            ],
            [
             0.8,
             "#7fbc41"
            ],
            [
             0.9,
             "#4d9221"
            ],
            [
             1,
             "#276419"
            ]
           ],
           "sequential": [
            [
             0,
             "#0d0887"
            ],
            [
             0.1111111111111111,
             "#46039f"
            ],
            [
             0.2222222222222222,
             "#7201a8"
            ],
            [
             0.3333333333333333,
             "#9c179e"
            ],
            [
             0.4444444444444444,
             "#bd3786"
            ],
            [
             0.5555555555555556,
             "#d8576b"
            ],
            [
             0.6666666666666666,
             "#ed7953"
            ],
            [
             0.7777777777777778,
             "#fb9f3a"
            ],
            [
             0.8888888888888888,
             "#fdca26"
            ],
            [
             1,
             "#f0f921"
            ]
           ],
           "sequentialminus": [
            [
             0,
             "#0d0887"
            ],
            [
             0.1111111111111111,
             "#46039f"
            ],
            [
             0.2222222222222222,
             "#7201a8"
            ],
            [
             0.3333333333333333,
             "#9c179e"
            ],
            [
             0.4444444444444444,
             "#bd3786"
            ],
            [
             0.5555555555555556,
             "#d8576b"
            ],
            [
             0.6666666666666666,
             "#ed7953"
            ],
            [
             0.7777777777777778,
             "#fb9f3a"
            ],
            [
             0.8888888888888888,
             "#fdca26"
            ],
            [
             1,
             "#f0f921"
            ]
           ]
          },
          "colorway": [
           "#636efa",
           "#EF553B",
           "#00cc96",
           "#ab63fa",
           "#FFA15A",
           "#19d3f3",
           "#FF6692",
           "#B6E880",
           "#FF97FF",
           "#FECB52"
          ],
          "font": {
           "color": "#2a3f5f"
          },
          "geo": {
           "bgcolor": "white",
           "lakecolor": "white",
           "landcolor": "#E5ECF6",
           "showlakes": true,
           "showland": true,
           "subunitcolor": "white"
          },
          "hoverlabel": {
           "align": "left"
          },
          "hovermode": "closest",
          "mapbox": {
           "style": "light"
          },
          "paper_bgcolor": "white",
          "plot_bgcolor": "#E5ECF6",
          "polar": {
           "angularaxis": {
            "gridcolor": "white",
            "linecolor": "white",
            "ticks": ""
           },
           "bgcolor": "#E5ECF6",
           "radialaxis": {
            "gridcolor": "white",
            "linecolor": "white",
            "ticks": ""
           }
          },
          "scene": {
           "xaxis": {
            "backgroundcolor": "#E5ECF6",
            "gridcolor": "white",
            "gridwidth": 2,
            "linecolor": "white",
            "showbackground": true,
            "ticks": "",
            "zerolinecolor": "white"
           },
           "yaxis": {
            "backgroundcolor": "#E5ECF6",
            "gridcolor": "white",
            "gridwidth": 2,
            "linecolor": "white",
            "showbackground": true,
            "ticks": "",
            "zerolinecolor": "white"
           },
           "zaxis": {
            "backgroundcolor": "#E5ECF6",
            "gridcolor": "white",
            "gridwidth": 2,
            "linecolor": "white",
            "showbackground": true,
            "ticks": "",
            "zerolinecolor": "white"
           }
          },
          "shapedefaults": {
           "line": {
            "color": "#2a3f5f"
           }
          },
          "ternary": {
           "aaxis": {
            "gridcolor": "white",
            "linecolor": "white",
            "ticks": ""
           },
           "baxis": {
            "gridcolor": "white",
            "linecolor": "white",
            "ticks": ""
           },
           "bgcolor": "#E5ECF6",
           "caxis": {
            "gridcolor": "white",
            "linecolor": "white",
            "ticks": ""
           }
          },
          "title": {
           "x": 0.05
          },
          "xaxis": {
           "automargin": true,
           "gridcolor": "white",
           "linecolor": "white",
           "ticks": "",
           "title": {
            "standoff": 15
           },
           "zerolinecolor": "white",
           "zerolinewidth": 2
          },
          "yaxis": {
           "automargin": true,
           "gridcolor": "white",
           "linecolor": "white",
           "ticks": "",
           "title": {
            "standoff": 15
           },
           "zerolinecolor": "white",
           "zerolinewidth": 2
          }
         }
        },
        "title": {
         "text": "Relazione tra Redditività_delle_vendite e Valori Borsa"
        },
        "xaxis": {
         "anchor": "y",
         "domain": [
          0,
          0.45
         ]
        },
        "xaxis2": {
         "anchor": "y2",
         "domain": [
          0.55,
          1
         ]
        },
        "yaxis": {
         "anchor": "x",
         "domain": [
          0,
          1
         ],
         "title": {
          "text": "Log Valori Borsa"
         }
        },
        "yaxis2": {
         "anchor": "x2",
         "domain": [
          0,
          1
         ],
         "title": {
          "text": "Valori Borsa"
         }
        }
       }
      }
     },
     "metadata": {},
     "output_type": "display_data"
    },
    {
     "data": {
      "application/vnd.plotly.v1+json": {
       "config": {
        "plotlyServerURL": "https://plot.ly"
       },
       "data": [
        {
         "mode": "markers",
         "name": "Ticker MARR",
         "type": "scatter",
         "x": [
          7.77,
          9.5,
          -1.25,
          19.42,
          20.32,
          21.25,
          19.89,
          21.17,
          20.88,
          19.63
         ],
         "xaxis": "x",
         "y": [
          2.509599277885271,
          2.9349201179417297,
          2.8791984144362717,
          3.054001217665676,
          3.0689827565651293,
          3.07915387116492,
          2.87073576176629,
          2.8887036625848097,
          2.691243082785829,
          2.4849066497880004
         ],
         "yaxis": "y"
        },
        {
         "mode": "markers",
         "name": "Ticker MARR",
         "type": "scatter",
         "x": [
          7.77,
          9.5,
          -1.25,
          19.42,
          20.32,
          21.25,
          19.89,
          21.17,
          20.88,
          19.63
         ],
         "xaxis": "x2",
         "y": [
          12.30000019073486,
          18.819999694824215,
          17.799999237060547,
          21.20000076293945,
          21.520000457763665,
          21.73999977111816,
          17.64999961853027,
          17.969999313354485,
          14.749999999999998,
          11.999999999999998
         ],
         "yaxis": "y2"
        },
        {
         "mode": "markers",
         "name": "Ticker PIA",
         "type": "scatter",
         "x": [
          21.64,
          17.4,
          12.28,
          14.94,
          11.21,
          6.63,
          4.39,
          4.7,
          4.5,
          -0.52
         ],
         "xaxis": "x",
         "y": [
          1.077048147781857,
          1.0522192777352672,
          0.9962103346242122,
          1.007957923880542,
          0.6392188284692253,
          0.917889432671393,
          0.48365994275805774,
          0.698134717326336,
          0.9066443833247319,
          0.8569652431213597
         ],
         "yaxis": "y"
        },
        {
         "mode": "markers",
         "name": "Ticker PIA",
         "type": "scatter",
         "x": [
          21.64,
          17.4,
          12.28,
          14.94,
          11.21,
          6.63,
          4.39,
          4.7,
          4.5,
          -0.52
         ],
         "xaxis": "x2",
         "y": [
          2.9360001087188716,
          2.864000082015991,
          2.7079999446868896,
          2.740000009536743,
          1.8949999809265134,
          2.503999948501587,
          1.621999979019165,
          2.009999990463257,
          2.476000070571899,
          2.3559999465942383
         ],
         "yaxis": "y2"
        },
        {
         "mode": "markers",
         "name": "Ticker BRE",
         "type": "scatter",
         "x": [
          19.12,
          13.04,
          11.72,
          29,
          21.85,
          31.17,
          35.06,
          33.38,
          26.73,
          18.57
         ],
         "xaxis": "x",
         "y": [
          2.4033350340342152,
          2.564179813062659,
          2.393218807006317,
          2.404238719152724,
          2.320425041100351,
          2.58475200201879,
          2.4890646757652832,
          2.07969149231976,
          1.6815725236803198,
          1.3681303836941336
         ],
         "yaxis": "y"
        },
        {
         "mode": "markers",
         "name": "Ticker BRE",
         "type": "scatter",
         "x": [
          19.12,
          13.04,
          11.72,
          29,
          21.85,
          31.17,
          35.06,
          33.38,
          26.73,
          18.57
         ],
         "xaxis": "x2",
         "y": [
          11.0600004196167,
          12.989999771118162,
          10.948678970336912,
          11.069999694824217,
          10.180000305175781,
          13.260000228881834,
          12.050000190734862,
          8.001999855041504,
          5.374000072479247,
          3.9279999732971187
         ],
         "yaxis": "y2"
        },
        {
         "mode": "markers",
         "name": "Ticker DAN",
         "type": "scatter",
         "x": [
          3.6,
          0.36,
          -0.34,
          0.02,
          24.21,
          2.07,
          0.49,
          19.02,
          21.27,
          14.04
         ],
         "xaxis": "x",
         "y": [
          3.104586644253541,
          3.2790297189519984,
          2.7265447662626667,
          2.8154087651077058,
          2.785011289333365,
          3.0516398874558934,
          3.0243197266987147,
          2.740840023925201,
          3.000222186422059,
          3.2308043655777645
         ],
         "yaxis": "y"
        },
        {
         "mode": "markers",
         "name": "Ticker DAN",
         "type": "scatter",
         "x": [
          3.6,
          0.36,
          -0.34,
          0.02,
          24.21,
          2.07,
          0.49,
          19.02,
          21.27,
          14.04
         ],
         "xaxis": "x2",
         "y": [
          22.299999237060543,
          26.549999237060547,
          15.279999732971186,
          16.700000762939453,
          16.20000076293945,
          21.149999618530277,
          20.57999992370605,
          15.499999999999996,
          20.090000152587887,
          25.299999237060543
         ],
         "yaxis": "y2"
        },
        {
         "mode": "markers",
         "name": "Ticker BC",
         "type": "scatter",
         "x": [
          21.96,
          16.56,
          -8.28,
          17.05,
          17.39,
          17.75,
          16.46,
          19.44,
          21.66,
          21.58
         ],
         "xaxis": "x",
         "y": [
          4.269697449699962,
          4.107589776423775,
          3.5333946002941827,
          3.5587707383536116,
          3.349904087274605,
          3.363841581918742,
          3.0267462864029175,
          2.7033726319915394,
          2.8735646826837065,
          3.1705255511154085
         ],
         "yaxis": "y"
        },
        {
         "mode": "markers",
         "name": "Ticker BC",
         "type": "scatter",
         "x": [
          21.96,
          16.56,
          -8.28,
          17.05,
          17.39,
          17.75,
          16.46,
          19.44,
          21.66,
          21.58
         ],
         "xaxis": "x2",
         "y": [
          71.49999999999996,
          60.79999923706053,
          34.2400016784668,
          35.11999893188476,
          28.499999999999996,
          28.89999961853027,
          20.6299991607666,
          14.930000305175776,
          17.70000076293945,
          23.81999969482422
         ],
         "yaxis": "y2"
        },
        {
         "mode": "markers",
         "name": "Ticker CLI",
         "type": "scatter",
         "x": [
          0.24,
          3.63,
          6.76,
          -5.16,
          0.71,
          0.3,
          18.89,
          2.71,
          3.27,
          2.7
         ],
         "xaxis": "x",
         "y": [
          1.0543119898966447,
          1.2412686000947695,
          0.9001613654511708,
          0.9162907318741551,
          1.007957923880542,
          1.2584609841914016,
          1.1052568250710544,
          1.1933162536324886,
          0.9895412148852936,
          0.6418538736240484
         ],
         "yaxis": "y"
        },
        {
         "mode": "markers",
         "name": "Ticker CLI",
         "type": "scatter",
         "x": [
          0.24,
          3.63,
          6.76,
          -5.16,
          0.71,
          0.3,
          18.89,
          2.71,
          3.27,
          2.7
         ],
         "xaxis": "x2",
         "y": [
          2.869999885559082,
          3.4600000381469727,
          2.4600000381469727,
          2.5,
          2.740000009536743,
          3.5199999809265132,
          3.0199999809265137,
          3.29800009727478,
          2.6900000572204585,
          1.899999976158142
         ],
         "yaxis": "y2"
        },
        {
         "mode": "markers",
         "name": "Ticker ELC",
         "type": "scatter",
         "x": [
          14.59,
          10.69,
          -3.71,
          -1.67,
          0.62,
          -25.69,
          -5.85,
          5.6,
          4.38,
          -1.57
         ],
         "xaxis": "x",
         "y": [
          1.120047588057166,
          1.264126716369702,
          1.1265516697226583,
          1.0885619624476819,
          0.4187103223098387,
          0.9082585678678127,
          0.6097655897614381,
          0.6418538736240484,
          0.5704144453674508,
          0.5709795358097567
         ],
         "yaxis": "y"
        },
        {
         "mode": "markers",
         "name": "Ticker ELC",
         "type": "scatter",
         "x": [
          14.59,
          10.69,
          -3.71,
          -1.67,
          0.62,
          -25.69,
          -5.85,
          5.6,
          4.38,
          -1.57
         ],
         "xaxis": "x2",
         "y": [
          3.065000057220459,
          3.5399999618530273,
          3.0850000381469727,
          2.9700000286102286,
          1.5199999809265137,
          2.4800000190734863,
          1.840000033378601,
          1.899999976158142,
          1.7690000534057615,
          1.7699999809265134
         ],
         "yaxis": "y2"
        },
        {
         "mode": "markers",
         "name": "Ticker GPI",
         "type": "scatter",
         "x": [
          3.59,
          10.45,
          10.51,
          18.6,
          11.58,
          12.35,
          11.37,
          16.57,
          15.82,
          17.69
         ],
         "xaxis": "x",
         "y": [
          2.653241951175182,
          2.803360380906535,
          2.101692187922208,
          2.0464016580303386,
          2.121063234666565,
          2.3702437236421723,
          2.3223877015907286,
          2.282382405139267,
          null,
          null
         ],
         "yaxis": "y"
        },
        {
         "mode": "markers",
         "name": "Ticker GPI",
         "type": "scatter",
         "x": [
          3.59,
          10.45,
          10.51,
          18.6,
          11.58,
          12.35,
          11.37,
          16.57,
          15.82,
          17.69
         ],
         "xaxis": "x2",
         "y": [
          14.199999809265131,
          16.499999999999996,
          8.180000305175781,
          7.739999771118162,
          8.340000152587889,
          10.699999809265137,
          10.199999809265133,
          9.800000190734862,
          null,
          null
         ],
         "yaxis": "y2"
        },
        {
         "mode": "markers",
         "name": "Ticker SRI",
         "type": "scatter",
         "x": [
          1.38,
          3.95,
          2.14,
          5.77,
          8.03,
          9.7,
          7.99,
          8.49,
          10.05,
          8.32
         ],
         "xaxis": "x",
         "y": [
          0.18647960255701124,
          0.7443154761953833,
          0.8285518009080817,
          1.169381368441481,
          1.2974631708642825,
          1.911022923913132,
          1.2974631708642825,
          1.341296964264569,
          1.3942625468528604,
          1.4148818606044733
         ],
         "yaxis": "y"
        },
        {
         "mode": "markers",
         "name": "Ticker SRI",
         "type": "scatter",
         "x": [
          1.38,
          3.95,
          2.14,
          5.77,
          8.03,
          9.7,
          7.99,
          8.49,
          10.05,
          8.32
         ],
         "xaxis": "x2",
         "y": [
          1.2050000429153442,
          2.1050000190734863,
          2.289999961853028,
          3.2200000286102286,
          3.660000085830689,
          6.760000228881836,
          3.660000085830689,
          3.8239998817443848,
          4.0320000648498535,
          4.116000175476073
         ],
         "yaxis": "y2"
        },
        {
         "mode": "markers",
         "name": "Ticker ALA",
         "type": "scatter",
         "x": [
          11.02,
          10.59,
          14.12,
          15.1,
          12.95,
          4.41,
          9.74,
          22.08,
          27.09,
          21
         ],
         "xaxis": "x",
         "y": [
          2.4680995476355903,
          2.3655598563366795,
          null,
          null,
          null,
          null,
          null,
          null,
          null,
          null
         ],
         "yaxis": "y"
        },
        {
         "mode": "markers",
         "name": "Ticker ALA",
         "type": "scatter",
         "x": [
          11.02,
          10.59,
          14.12,
          15.1,
          12.95,
          4.41,
          9.74,
          22.08,
          27.09,
          21
         ],
         "xaxis": "x2",
         "y": [
          11.80000019073486,
          10.64999961853027,
          null,
          null,
          null,
          null,
          null,
          null,
          null,
          null
         ],
         "yaxis": "y2"
        },
        {
         "mode": "markers",
         "name": "Ticker ICF",
         "type": "scatter",
         "x": [
          4.18,
          2.82,
          3.02,
          10.17,
          -2.15,
          3.23,
          8.17,
          22.31,
          9.14,
          12.69
         ],
         "xaxis": "x",
         "y": [
          1.7155980979710415,
          1.8277698730198415,
          1.6974487967434386,
          null,
          null,
          null,
          null,
          null,
          null,
          null
         ],
         "yaxis": "y"
        },
        {
         "mode": "markers",
         "name": "Ticker ICF",
         "type": "scatter",
         "x": [
          4.18,
          2.82,
          3.02,
          10.17,
          -2.15,
          3.23,
          8.17,
          22.31,
          9.14,
          12.69
         ],
         "xaxis": "x2",
         "y": [
          5.55999994277954,
          6.2199997901916495,
          5.460000038146972,
          null,
          null,
          null,
          null,
          null,
          null,
          null
         ],
         "yaxis": "y2"
        },
        {
         "mode": "markers",
         "name": "Ticker ENV",
         "type": "scatter",
         "x": [
          14.03,
          13.31,
          -9.02,
          3.64,
          15.74,
          12.33,
          10.62,
          0.68,
          10.75,
          11.1
         ],
         "xaxis": "x",
         "y": [
          1.190887553182456,
          1.3350010541839938,
          1.1939224540228235,
          1.2208299523375428,
          1.1847899790762915,
          1.2470322992672698,
          1.0224509174110963,
          1.0260415821605242,
          1.249901738946927,
          1.1499389134175557
         ],
         "yaxis": "y"
        },
        {
         "mode": "markers",
         "name": "Ticker ENV",
         "type": "scatter",
         "x": [
          14.03,
          13.31,
          -9.02,
          3.64,
          15.74,
          12.33,
          10.62,
          0.68,
          10.75,
          11.1
         ],
         "xaxis": "x2",
         "y": [
          3.289999961853028,
          3.799999952316284,
          3.2999999523162837,
          3.390000104904175,
          3.2699999809265132,
          3.480000019073486,
          2.7799999713897705,
          2.7899999618530273,
          3.4900000095367427,
          3.1579999923706046
         ],
         "yaxis": "y2"
        },
        {
         "mode": "markers",
         "name": "Ticker MASI",
         "type": "scatter",
         "x": [
          2.99,
          3.87,
          0.85,
          4.13,
          4.85,
          5.26,
          5.14,
          5.28,
          8.81,
          9.96
         ],
         "xaxis": "x",
         "y": [
          1.5062972042644385,
          1.348073123528931,
          0.943905872931563,
          1.1568812177849161,
          1.348073123528931,
          1.5040773967762742,
          1.4609378908394477,
          1.4816045625986316,
          null,
          null
         ],
         "yaxis": "y"
        },
        {
         "mode": "markers",
         "name": "Ticker MASI",
         "type": "scatter",
         "x": [
          2.99,
          3.87,
          0.85,
          4.13,
          4.85,
          5.26,
          5.14,
          5.28,
          8.81,
          9.96
         ],
         "xaxis": "x2",
         "y": [
          4.510000228881836,
          3.8499999046325675,
          2.569999933242798,
          3.180000066757202,
          3.8499999046325675,
          4.5,
          4.30999994277954,
          4.400000095367432,
          null,
          null
         ],
         "yaxis": "y2"
        },
        {
         "mode": "markers",
         "name": "Ticker SVS",
         "type": "scatter",
         "x": [
          1.7,
          2.43,
          5.18,
          3.28,
          3.25,
          4.61,
          2.62,
          1.52,
          1.62,
          1.44
         ],
         "xaxis": "x",
         "y": [
          2.3015845697493673,
          null,
          null,
          null,
          null,
          null,
          null,
          null,
          null,
          null
         ],
         "yaxis": "y"
        },
        {
         "mode": "markers",
         "name": "Ticker SVS",
         "type": "scatter",
         "x": [
          1.7,
          2.43,
          5.18,
          3.28,
          3.25,
          4.61,
          2.62,
          1.52,
          1.62,
          1.44
         ],
         "xaxis": "x2",
         "y": [
          9.989999771118164,
          null,
          null,
          null,
          null,
          null,
          null,
          null,
          null,
          null
         ],
         "yaxis": "y2"
        },
        {
         "mode": "markers",
         "name": "Ticker STAR7",
         "type": "scatter",
         "x": [
          15.17,
          3.39,
          11.49,
          17.02,
          24.02,
          33.54,
          23.68,
          22.24,
          18.49,
          20.29
         ],
         "xaxis": "x",
         "y": [
          2.1679101634795908,
          2.264883237693826,
          null,
          null,
          null,
          null,
          null,
          null,
          null,
          null
         ],
         "yaxis": "y"
        },
        {
         "mode": "markers",
         "name": "Ticker STAR7",
         "type": "scatter",
         "x": [
          15.17,
          3.39,
          11.49,
          17.02,
          24.02,
          33.54,
          23.68,
          22.24,
          18.49,
          20.29
         ],
         "xaxis": "x2",
         "y": [
          8.739999771118164,
          9.630000114440916,
          null,
          null,
          null,
          null,
          null,
          null,
          null,
          null
         ],
         "yaxis": "y2"
        },
        {
         "mode": "markers",
         "name": "Ticker SCK",
         "type": "scatter",
         "x": [
          22.11,
          21.12,
          2.18,
          1.57,
          10.14,
          17.13,
          9.15,
          13.75,
          10.85,
          19.35
         ],
         "xaxis": "x",
         "y": [
          2.0333975857027218,
          2.356125878001209,
          1.1151415749853149,
          0.15700371212988268,
          -0.31471071871163714,
          null,
          null,
          null,
          null,
          null
         ],
         "yaxis": "y"
        },
        {
         "mode": "markers",
         "name": "Ticker SCK",
         "type": "scatter",
         "x": [
          22.11,
          21.12,
          2.18,
          1.57,
          10.14,
          17.13,
          9.15,
          13.75,
          10.85,
          19.35
         ],
         "xaxis": "x2",
         "y": [
          7.639999866485597,
          10.55000019073486,
          3.0499999523162837,
          1.1699999570846558,
          0.7300000190734863,
          null,
          null,
          null,
          null,
          null
         ],
         "yaxis": "y2"
        },
        {
         "mode": "markers",
         "name": "Ticker MARP",
         "type": "scatter",
         "x": [
          10.9,
          6.27,
          -0.3,
          -1.41,
          24.15,
          12.62,
          9.58,
          14.01,
          5.17,
          4.4
         ],
         "xaxis": "x",
         "y": [
          1.4060969697165737,
          1.5475624681341262,
          1.0296194001512595,
          1.508511989624342,
          null,
          null,
          null,
          null,
          null,
          null
         ],
         "yaxis": "y"
        },
        {
         "mode": "markers",
         "name": "Ticker MARP",
         "type": "scatter",
         "x": [
          10.9,
          6.27,
          -0.3,
          -1.41,
          24.15,
          12.62,
          9.58,
          14.01,
          5.17,
          4.4
         ],
         "xaxis": "x2",
         "y": [
          4.079999923706054,
          4.699999809265136,
          2.7999999523162837,
          4.519999980926514,
          null,
          null,
          null,
          null,
          null,
          null
         ],
         "yaxis": "y2"
        },
        {
         "mode": "markers",
         "name": "Ticker ITD",
         "type": "scatter",
         "x": [
          18.07,
          21.4,
          18.92,
          16.22,
          14.17,
          26.88,
          23.69,
          16.38,
          8.63,
          11.8
         ],
         "xaxis": "x",
         "y": [
          2.6672281800910014,
          2.972975247406338,
          2.3513752571634776,
          1.8082887555452603,
          1.0986122886681098,
          null,
          null,
          null,
          null,
          null
         ],
         "yaxis": "y"
        },
        {
         "mode": "markers",
         "name": "Ticker ITD",
         "type": "scatter",
         "x": [
          18.07,
          21.4,
          18.92,
          16.22,
          14.17,
          26.88,
          23.69,
          16.38,
          8.63,
          11.8
         ],
         "xaxis": "x2",
         "y": [
          14.399999618530272,
          19.549999237060543,
          10.499999999999998,
          6.0999999046325675,
          3,
          null,
          null,
          null,
          null,
          null
         ],
         "yaxis": "y2"
        },
        {
         "mode": "markers",
         "name": "Ticker VIM",
         "type": "scatter",
         "x": [
          3.85,
          1.99,
          -8.71,
          -9.51,
          -0.2,
          12.05,
          4.78,
          0.11,
          5.22,
          7.17
         ],
         "xaxis": "x",
         "y": [
          0.13102824985805775,
          0.4637340372249708,
          0.18232159653038368,
          0.7654678864965156,
          1.0818051865157,
          null,
          null,
          null,
          null,
          null
         ],
         "yaxis": "y"
        },
        {
         "mode": "markers",
         "name": "Ticker VIM",
         "type": "scatter",
         "x": [
          3.85,
          1.99,
          -8.71,
          -9.51,
          -0.2,
          12.05,
          4.78,
          0.11,
          5.22,
          7.17
         ],
         "xaxis": "x2",
         "y": [
          1.1399999856948853,
          1.590000033378601,
          1.2000000476837158,
          2.150000095367432,
          2.950000047683716,
          null,
          null,
          null,
          null,
          null
         ],
         "yaxis": "y2"
        },
        {
         "mode": "markers",
         "name": "Ticker MDC",
         "type": "scatter",
         "x": [
          10.04,
          6.42,
          11.51,
          10.74,
          17.56,
          2.82,
          5.68,
          11.95,
          2.43,
          6.86
         ],
         "xaxis": "x",
         "y": [
          3.228826155721369,
          3.640214242083339,
          null,
          null,
          null,
          null,
          null,
          null,
          null,
          null
         ],
         "yaxis": "y"
        },
        {
         "mode": "markers",
         "name": "Ticker MDC",
         "type": "scatter",
         "x": [
          10.04,
          6.42,
          11.51,
          10.74,
          17.56,
          2.82,
          5.68,
          11.95,
          2.43,
          6.86
         ],
         "xaxis": "x2",
         "y": [
          25.249999999999996,
          38.09999847412107,
          null,
          null,
          null,
          null,
          null,
          null,
          null,
          null
         ],
         "yaxis": "y2"
        },
        {
         "mode": "markers",
         "name": "Ticker ILP",
         "type": "scatter",
         "x": [
          19.1,
          18.53,
          11.7,
          11.18,
          38.49,
          12.3,
          4.88,
          0.41,
          0.34,
          0.76
         ],
         "xaxis": "x",
         "y": [
          1.490654389331624,
          1.508511989624342,
          0.7129497891566287,
          0.779324907423567,
          null,
          null,
          null,
          null,
          null,
          null
         ],
         "yaxis": "y"
        },
        {
         "mode": "markers",
         "name": "Ticker ILP",
         "type": "scatter",
         "x": [
          19.1,
          18.53,
          11.7,
          11.18,
          38.49,
          12.3,
          4.88,
          0.41,
          0.34,
          0.76
         ],
         "xaxis": "x2",
         "y": [
          4.440000057220458,
          4.519999980926514,
          2.039999961853028,
          2.180000066757202,
          null,
          null,
          null,
          null,
          null,
          null
         ],
         "yaxis": "y2"
        },
        {
         "mode": "markers",
         "name": "Ticker CFL",
         "type": "scatter",
         "x": [
          10.34,
          32.99,
          37.05,
          8.81,
          19.96,
          16.49,
          12.06,
          5.78,
          6.2,
          9.21
         ],
         "xaxis": "x",
         "y": [
          2.536866415880321,
          2.7549338039876257,
          null,
          null,
          null,
          null,
          null,
          null,
          null,
          null
         ],
         "yaxis": "y"
        },
        {
         "mode": "markers",
         "name": "Ticker CFL",
         "type": "scatter",
         "x": [
          10.34,
          32.99,
          37.05,
          8.81,
          19.96,
          16.49,
          12.06,
          5.78,
          6.2,
          9.21
         ],
         "xaxis": "x2",
         "y": [
          12.64000034332275,
          15.720000267028805,
          null,
          null,
          null,
          null,
          null,
          null,
          null,
          null
         ],
         "yaxis": "y2"
        },
        {
         "mode": "markers",
         "name": "Ticker FCM",
         "type": "scatter",
         "x": [
          0.28,
          0.09,
          -2.98,
          0.59,
          3.66,
          1.11,
          0.32,
          -0.37,
          0.88,
          2.4
         ],
         "xaxis": "x",
         "y": [
          0.12221762850445134,
          0.2350721108710924,
          0.2350721108710924,
          0.47933496257972397,
          null,
          null,
          null,
          null,
          null,
          null
         ],
         "yaxis": "y"
        },
        {
         "mode": "markers",
         "name": "Ticker FCM",
         "type": "scatter",
         "x": [
          0.28,
          0.09,
          -2.98,
          0.59,
          3.66,
          1.11,
          0.32,
          -0.37,
          0.88,
          2.4
         ],
         "xaxis": "x2",
         "y": [
          1.1299999952316284,
          1.2649999856948853,
          1.2649999856948853,
          1.6150000095367432,
          null,
          null,
          null,
          null,
          null,
          null
         ],
         "yaxis": "y2"
        },
        {
         "mode": "markers",
         "name": "Ticker FVI",
         "type": "scatter",
         "x": [
          7.48,
          7.52,
          8.79,
          9.87,
          9.94,
          20.5,
          31.08,
          20.86,
          25.84,
          7.81
         ],
         "xaxis": "x",
         "y": [
          2.7440606508911505,
          2.69462719365756,
          2.509599277885271,
          2.4248027425974863,
          2.4061257641178835,
          null,
          null,
          null,
          null,
          null
         ],
         "yaxis": "y"
        },
        {
         "mode": "markers",
         "name": "Ticker FVI",
         "type": "scatter",
         "x": [
          7.48,
          7.52,
          8.79,
          9.87,
          9.94,
          20.5,
          31.08,
          20.86,
          25.84,
          7.81
         ],
         "xaxis": "x2",
         "y": [
          15.550000190734858,
          14.800000190734858,
          12.30000019073486,
          11.300000190734863,
          11.090909004211426,
          null,
          null,
          null,
          null,
          null
         ],
         "yaxis": "y2"
        },
        {
         "mode": "markers",
         "name": "Ticker PLT",
         "type": "scatter",
         "x": [
          4.37,
          5.36,
          7.82,
          14.08,
          14.82,
          16.01,
          12.13,
          8.92,
          6.66,
          23.65
         ],
         "xaxis": "x",
         "y": [
          null,
          null,
          null,
          null,
          null,
          null,
          null,
          null,
          null,
          null
         ],
         "yaxis": "y"
        },
        {
         "mode": "markers",
         "name": "Ticker PLT",
         "type": "scatter",
         "x": [
          4.37,
          5.36,
          7.82,
          14.08,
          14.82,
          16.01,
          12.13,
          8.92,
          6.66,
          23.65
         ],
         "xaxis": "x2",
         "y": [
          null,
          null,
          null,
          null,
          null,
          null,
          null,
          null,
          null,
          null
         ],
         "yaxis": "y2"
        },
        {
         "mode": "markers",
         "name": "Ticker LDB",
         "type": "scatter",
         "x": [
          13.6,
          16.01,
          54.59,
          46.55,
          51.53,
          46.92,
          33.02,
          32.2,
          21.17,
          26.02
         ],
         "xaxis": "x",
         "y": [
          0.6291418754934363,
          0.7952523647473517,
          null,
          null,
          null,
          null,
          null,
          null,
          null,
          null
         ],
         "yaxis": "y"
        },
        {
         "mode": "markers",
         "name": "Ticker LDB",
         "type": "scatter",
         "x": [
          13.6,
          16.01,
          54.59,
          46.55,
          51.53,
          46.92,
          33.02,
          32.2,
          21.17,
          26.02
         ],
         "xaxis": "x2",
         "y": [
          1.876000046730041,
          2.2149999141693115,
          null,
          null,
          null,
          null,
          null,
          null,
          null,
          null
         ],
         "yaxis": "y2"
        },
        {
         "mode": "markers",
         "name": "Ticker FOS",
         "type": "scatter",
         "x": [
          8.34,
          5.88,
          7.74,
          4.67,
          2.1,
          6.55,
          17.98,
          3.46,
          2.46,
          1.19
         ],
         "xaxis": "x",
         "y": [
          1.2119409427536318,
          1.3506671562994919,
          0.9082585678678127,
          1.1426291710428607,
          null,
          null,
          null,
          null,
          null,
          null
         ],
         "yaxis": "y"
        },
        {
         "mode": "markers",
         "name": "Ticker FOS",
         "type": "scatter",
         "x": [
          8.34,
          5.88,
          7.74,
          4.67,
          2.1,
          6.55,
          17.98,
          3.46,
          2.46,
          1.19
         ],
         "xaxis": "x2",
         "y": [
          3.359999895095825,
          3.859999895095825,
          2.4800000190734863,
          3.1349999904632564,
          null,
          null,
          null,
          null,
          null,
          null
         ],
         "yaxis": "y2"
        },
        {
         "mode": "markers",
         "name": "Ticker BAN",
         "type": "scatter",
         "x": [
          7.6,
          44.4,
          5.19,
          15.21,
          14.12,
          5.28,
          8.55,
          13.71,
          12.34,
          5.83
         ],
         "xaxis": "x",
         "y": [
          1.6992785780777009,
          1.814824720414034,
          1.4586150670564606,
          1.6677068565457855,
          1.4929040533163809,
          1.3244189548654353,
          1.2005670192292972,
          1.4683350732132154,
          0.8162494147953161,
          0.8862438592669583
         ],
         "yaxis": "y"
        },
        {
         "mode": "markers",
         "name": "Ticker BAN",
         "type": "scatter",
         "x": [
          7.6,
          44.4,
          5.19,
          15.21,
          14.12,
          5.28,
          8.55,
          13.71,
          12.34,
          5.83
         ],
         "xaxis": "x2",
         "y": [
          5.46999979019165,
          6.139999866485596,
          4.300000190734862,
          5.300000190734862,
          4.449999809265136,
          3.7599999904632564,
          3.3220000267028804,
          4.3420000076293945,
          2.26200008392334,
          2.4260001182556152
         ],
         "yaxis": "y2"
        }
       ],
       "layout": {
        "showlegend": false,
        "template": {
         "data": {
          "bar": [
           {
            "error_x": {
             "color": "#2a3f5f"
            },
            "error_y": {
             "color": "#2a3f5f"
            },
            "marker": {
             "line": {
              "color": "#E5ECF6",
              "width": 0.5
             },
             "pattern": {
              "fillmode": "overlay",
              "size": 10,
              "solidity": 0.2
             }
            },
            "type": "bar"
           }
          ],
          "barpolar": [
           {
            "marker": {
             "line": {
              "color": "#E5ECF6",
              "width": 0.5
             },
             "pattern": {
              "fillmode": "overlay",
              "size": 10,
              "solidity": 0.2
             }
            },
            "type": "barpolar"
           }
          ],
          "carpet": [
           {
            "aaxis": {
             "endlinecolor": "#2a3f5f",
             "gridcolor": "white",
             "linecolor": "white",
             "minorgridcolor": "white",
             "startlinecolor": "#2a3f5f"
            },
            "baxis": {
             "endlinecolor": "#2a3f5f",
             "gridcolor": "white",
             "linecolor": "white",
             "minorgridcolor": "white",
             "startlinecolor": "#2a3f5f"
            },
            "type": "carpet"
           }
          ],
          "choropleth": [
           {
            "colorbar": {
             "outlinewidth": 0,
             "ticks": ""
            },
            "type": "choropleth"
           }
          ],
          "contour": [
           {
            "colorbar": {
             "outlinewidth": 0,
             "ticks": ""
            },
            "colorscale": [
             [
              0,
              "#0d0887"
             ],
             [
              0.1111111111111111,
              "#46039f"
             ],
             [
              0.2222222222222222,
              "#7201a8"
             ],
             [
              0.3333333333333333,
              "#9c179e"
             ],
             [
              0.4444444444444444,
              "#bd3786"
             ],
             [
              0.5555555555555556,
              "#d8576b"
             ],
             [
              0.6666666666666666,
              "#ed7953"
             ],
             [
              0.7777777777777778,
              "#fb9f3a"
             ],
             [
              0.8888888888888888,
              "#fdca26"
             ],
             [
              1,
              "#f0f921"
             ]
            ],
            "type": "contour"
           }
          ],
          "contourcarpet": [
           {
            "colorbar": {
             "outlinewidth": 0,
             "ticks": ""
            },
            "type": "contourcarpet"
           }
          ],
          "heatmap": [
           {
            "colorbar": {
             "outlinewidth": 0,
             "ticks": ""
            },
            "colorscale": [
             [
              0,
              "#0d0887"
             ],
             [
              0.1111111111111111,
              "#46039f"
             ],
             [
              0.2222222222222222,
              "#7201a8"
             ],
             [
              0.3333333333333333,
              "#9c179e"
             ],
             [
              0.4444444444444444,
              "#bd3786"
             ],
             [
              0.5555555555555556,
              "#d8576b"
             ],
             [
              0.6666666666666666,
              "#ed7953"
             ],
             [
              0.7777777777777778,
              "#fb9f3a"
             ],
             [
              0.8888888888888888,
              "#fdca26"
             ],
             [
              1,
              "#f0f921"
             ]
            ],
            "type": "heatmap"
           }
          ],
          "heatmapgl": [
           {
            "colorbar": {
             "outlinewidth": 0,
             "ticks": ""
            },
            "colorscale": [
             [
              0,
              "#0d0887"
             ],
             [
              0.1111111111111111,
              "#46039f"
             ],
             [
              0.2222222222222222,
              "#7201a8"
             ],
             [
              0.3333333333333333,
              "#9c179e"
             ],
             [
              0.4444444444444444,
              "#bd3786"
             ],
             [
              0.5555555555555556,
              "#d8576b"
             ],
             [
              0.6666666666666666,
              "#ed7953"
             ],
             [
              0.7777777777777778,
              "#fb9f3a"
             ],
             [
              0.8888888888888888,
              "#fdca26"
             ],
             [
              1,
              "#f0f921"
             ]
            ],
            "type": "heatmapgl"
           }
          ],
          "histogram": [
           {
            "marker": {
             "pattern": {
              "fillmode": "overlay",
              "size": 10,
              "solidity": 0.2
             }
            },
            "type": "histogram"
           }
          ],
          "histogram2d": [
           {
            "colorbar": {
             "outlinewidth": 0,
             "ticks": ""
            },
            "colorscale": [
             [
              0,
              "#0d0887"
             ],
             [
              0.1111111111111111,
              "#46039f"
             ],
             [
              0.2222222222222222,
              "#7201a8"
             ],
             [
              0.3333333333333333,
              "#9c179e"
             ],
             [
              0.4444444444444444,
              "#bd3786"
             ],
             [
              0.5555555555555556,
              "#d8576b"
             ],
             [
              0.6666666666666666,
              "#ed7953"
             ],
             [
              0.7777777777777778,
              "#fb9f3a"
             ],
             [
              0.8888888888888888,
              "#fdca26"
             ],
             [
              1,
              "#f0f921"
             ]
            ],
            "type": "histogram2d"
           }
          ],
          "histogram2dcontour": [
           {
            "colorbar": {
             "outlinewidth": 0,
             "ticks": ""
            },
            "colorscale": [
             [
              0,
              "#0d0887"
             ],
             [
              0.1111111111111111,
              "#46039f"
             ],
             [
              0.2222222222222222,
              "#7201a8"
             ],
             [
              0.3333333333333333,
              "#9c179e"
             ],
             [
              0.4444444444444444,
              "#bd3786"
             ],
             [
              0.5555555555555556,
              "#d8576b"
             ],
             [
              0.6666666666666666,
              "#ed7953"
             ],
             [
              0.7777777777777778,
              "#fb9f3a"
             ],
             [
              0.8888888888888888,
              "#fdca26"
             ],
             [
              1,
              "#f0f921"
             ]
            ],
            "type": "histogram2dcontour"
           }
          ],
          "mesh3d": [
           {
            "colorbar": {
             "outlinewidth": 0,
             "ticks": ""
            },
            "type": "mesh3d"
           }
          ],
          "parcoords": [
           {
            "line": {
             "colorbar": {
              "outlinewidth": 0,
              "ticks": ""
             }
            },
            "type": "parcoords"
           }
          ],
          "pie": [
           {
            "automargin": true,
            "type": "pie"
           }
          ],
          "scatter": [
           {
            "fillpattern": {
             "fillmode": "overlay",
             "size": 10,
             "solidity": 0.2
            },
            "type": "scatter"
           }
          ],
          "scatter3d": [
           {
            "line": {
             "colorbar": {
              "outlinewidth": 0,
              "ticks": ""
             }
            },
            "marker": {
             "colorbar": {
              "outlinewidth": 0,
              "ticks": ""
             }
            },
            "type": "scatter3d"
           }
          ],
          "scattercarpet": [
           {
            "marker": {
             "colorbar": {
              "outlinewidth": 0,
              "ticks": ""
             }
            },
            "type": "scattercarpet"
           }
          ],
          "scattergeo": [
           {
            "marker": {
             "colorbar": {
              "outlinewidth": 0,
              "ticks": ""
             }
            },
            "type": "scattergeo"
           }
          ],
          "scattergl": [
           {
            "marker": {
             "colorbar": {
              "outlinewidth": 0,
              "ticks": ""
             }
            },
            "type": "scattergl"
           }
          ],
          "scattermapbox": [
           {
            "marker": {
             "colorbar": {
              "outlinewidth": 0,
              "ticks": ""
             }
            },
            "type": "scattermapbox"
           }
          ],
          "scatterpolar": [
           {
            "marker": {
             "colorbar": {
              "outlinewidth": 0,
              "ticks": ""
             }
            },
            "type": "scatterpolar"
           }
          ],
          "scatterpolargl": [
           {
            "marker": {
             "colorbar": {
              "outlinewidth": 0,
              "ticks": ""
             }
            },
            "type": "scatterpolargl"
           }
          ],
          "scatterternary": [
           {
            "marker": {
             "colorbar": {
              "outlinewidth": 0,
              "ticks": ""
             }
            },
            "type": "scatterternary"
           }
          ],
          "surface": [
           {
            "colorbar": {
             "outlinewidth": 0,
             "ticks": ""
            },
            "colorscale": [
             [
              0,
              "#0d0887"
             ],
             [
              0.1111111111111111,
              "#46039f"
             ],
             [
              0.2222222222222222,
              "#7201a8"
             ],
             [
              0.3333333333333333,
              "#9c179e"
             ],
             [
              0.4444444444444444,
              "#bd3786"
             ],
             [
              0.5555555555555556,
              "#d8576b"
             ],
             [
              0.6666666666666666,
              "#ed7953"
             ],
             [
              0.7777777777777778,
              "#fb9f3a"
             ],
             [
              0.8888888888888888,
              "#fdca26"
             ],
             [
              1,
              "#f0f921"
             ]
            ],
            "type": "surface"
           }
          ],
          "table": [
           {
            "cells": {
             "fill": {
              "color": "#EBF0F8"
             },
             "line": {
              "color": "white"
             }
            },
            "header": {
             "fill": {
              "color": "#C8D4E3"
             },
             "line": {
              "color": "white"
             }
            },
            "type": "table"
           }
          ]
         },
         "layout": {
          "annotationdefaults": {
           "arrowcolor": "#2a3f5f",
           "arrowhead": 0,
           "arrowwidth": 1
          },
          "autotypenumbers": "strict",
          "coloraxis": {
           "colorbar": {
            "outlinewidth": 0,
            "ticks": ""
           }
          },
          "colorscale": {
           "diverging": [
            [
             0,
             "#8e0152"
            ],
            [
             0.1,
             "#c51b7d"
            ],
            [
             0.2,
             "#de77ae"
            ],
            [
             0.3,
             "#f1b6da"
            ],
            [
             0.4,
             "#fde0ef"
            ],
            [
             0.5,
             "#f7f7f7"
            ],
            [
             0.6,
             "#e6f5d0"
            ],
            [
             0.7,
             "#b8e186"
            ],
            [
             0.8,
             "#7fbc41"
            ],
            [
             0.9,
             "#4d9221"
            ],
            [
             1,
             "#276419"
            ]
           ],
           "sequential": [
            [
             0,
             "#0d0887"
            ],
            [
             0.1111111111111111,
             "#46039f"
            ],
            [
             0.2222222222222222,
             "#7201a8"
            ],
            [
             0.3333333333333333,
             "#9c179e"
            ],
            [
             0.4444444444444444,
             "#bd3786"
            ],
            [
             0.5555555555555556,
             "#d8576b"
            ],
            [
             0.6666666666666666,
             "#ed7953"
            ],
            [
             0.7777777777777778,
             "#fb9f3a"
            ],
            [
             0.8888888888888888,
             "#fdca26"
            ],
            [
             1,
             "#f0f921"
            ]
           ],
           "sequentialminus": [
            [
             0,
             "#0d0887"
            ],
            [
             0.1111111111111111,
             "#46039f"
            ],
            [
             0.2222222222222222,
             "#7201a8"
            ],
            [
             0.3333333333333333,
             "#9c179e"
            ],
            [
             0.4444444444444444,
             "#bd3786"
            ],
            [
             0.5555555555555556,
             "#d8576b"
            ],
            [
             0.6666666666666666,
             "#ed7953"
            ],
            [
             0.7777777777777778,
             "#fb9f3a"
            ],
            [
             0.8888888888888888,
             "#fdca26"
            ],
            [
             1,
             "#f0f921"
            ]
           ]
          },
          "colorway": [
           "#636efa",
           "#EF553B",
           "#00cc96",
           "#ab63fa",
           "#FFA15A",
           "#19d3f3",
           "#FF6692",
           "#B6E880",
           "#FF97FF",
           "#FECB52"
          ],
          "font": {
           "color": "#2a3f5f"
          },
          "geo": {
           "bgcolor": "white",
           "lakecolor": "white",
           "landcolor": "#E5ECF6",
           "showlakes": true,
           "showland": true,
           "subunitcolor": "white"
          },
          "hoverlabel": {
           "align": "left"
          },
          "hovermode": "closest",
          "mapbox": {
           "style": "light"
          },
          "paper_bgcolor": "white",
          "plot_bgcolor": "#E5ECF6",
          "polar": {
           "angularaxis": {
            "gridcolor": "white",
            "linecolor": "white",
            "ticks": ""
           },
           "bgcolor": "#E5ECF6",
           "radialaxis": {
            "gridcolor": "white",
            "linecolor": "white",
            "ticks": ""
           }
          },
          "scene": {
           "xaxis": {
            "backgroundcolor": "#E5ECF6",
            "gridcolor": "white",
            "gridwidth": 2,
            "linecolor": "white",
            "showbackground": true,
            "ticks": "",
            "zerolinecolor": "white"
           },
           "yaxis": {
            "backgroundcolor": "#E5ECF6",
            "gridcolor": "white",
            "gridwidth": 2,
            "linecolor": "white",
            "showbackground": true,
            "ticks": "",
            "zerolinecolor": "white"
           },
           "zaxis": {
            "backgroundcolor": "#E5ECF6",
            "gridcolor": "white",
            "gridwidth": 2,
            "linecolor": "white",
            "showbackground": true,
            "ticks": "",
            "zerolinecolor": "white"
           }
          },
          "shapedefaults": {
           "line": {
            "color": "#2a3f5f"
           }
          },
          "ternary": {
           "aaxis": {
            "gridcolor": "white",
            "linecolor": "white",
            "ticks": ""
           },
           "baxis": {
            "gridcolor": "white",
            "linecolor": "white",
            "ticks": ""
           },
           "bgcolor": "#E5ECF6",
           "caxis": {
            "gridcolor": "white",
            "linecolor": "white",
            "ticks": ""
           }
          },
          "title": {
           "x": 0.05
          },
          "xaxis": {
           "automargin": true,
           "gridcolor": "white",
           "linecolor": "white",
           "ticks": "",
           "title": {
            "standoff": 15
           },
           "zerolinecolor": "white",
           "zerolinewidth": 2
          },
          "yaxis": {
           "automargin": true,
           "gridcolor": "white",
           "linecolor": "white",
           "ticks": "",
           "title": {
            "standoff": 15
           },
           "zerolinecolor": "white",
           "zerolinewidth": 2
          }
         }
        },
        "title": {
         "text": "Relazione tra Redditività_del_capitale_proprio e Valori Borsa"
        },
        "xaxis": {
         "anchor": "y",
         "domain": [
          0,
          0.45
         ]
        },
        "xaxis2": {
         "anchor": "y2",
         "domain": [
          0.55,
          1
         ]
        },
        "yaxis": {
         "anchor": "x",
         "domain": [
          0,
          1
         ],
         "title": {
          "text": "Log Valori Borsa"
         }
        },
        "yaxis2": {
         "anchor": "x2",
         "domain": [
          0,
          1
         ],
         "title": {
          "text": "Valori Borsa"
         }
        }
       }
      }
     },
     "metadata": {},
     "output_type": "display_data"
    },
    {
     "data": {
      "application/vnd.plotly.v1+json": {
       "config": {
        "plotlyServerURL": "https://plot.ly"
       },
       "data": [
        {
         "mode": "markers",
         "name": "Ticker MARR",
         "type": "scatter",
         "x": [
          0.45,
          0.42,
          0.37,
          0.33,
          0.2,
          0.22,
          0.23,
          0.23,
          0.25,
          0.26
         ],
         "xaxis": "x",
         "y": [
          2.509599277885271,
          2.9349201179417297,
          2.8791984144362717,
          3.054001217665676,
          3.0689827565651293,
          3.07915387116492,
          2.87073576176629,
          2.8887036625848097,
          2.691243082785829,
          2.4849066497880004
         ],
         "yaxis": "y"
        },
        {
         "mode": "markers",
         "name": "Ticker MARR",
         "type": "scatter",
         "x": [
          0.45,
          0.42,
          0.37,
          0.33,
          0.2,
          0.22,
          0.23,
          0.23,
          0.25,
          0.26
         ],
         "xaxis": "x2",
         "y": [
          12.30000019073486,
          18.819999694824215,
          17.799999237060547,
          21.20000076293945,
          21.520000457763665,
          21.73999977111816,
          17.64999961853027,
          17.969999313354485,
          14.749999999999998,
          11.999999999999998
         ],
         "yaxis": "y2"
        },
        {
         "mode": "markers",
         "name": "Ticker PIA",
         "type": "scatter",
         "x": [
          0.52,
          0.57,
          0.62,
          0.57,
          0.53,
          0.55,
          0.58,
          0.59,
          0.6,
          0.64
         ],
         "xaxis": "x",
         "y": [
          1.077048147781857,
          1.0522192777352672,
          0.9962103346242122,
          1.007957923880542,
          0.6392188284692253,
          0.917889432671393,
          0.48365994275805774,
          0.698134717326336,
          0.9066443833247319,
          0.8569652431213597
         ],
         "yaxis": "y"
        },
        {
         "mode": "markers",
         "name": "Ticker PIA",
         "type": "scatter",
         "x": [
          0.52,
          0.57,
          0.62,
          0.57,
          0.53,
          0.55,
          0.58,
          0.59,
          0.6,
          0.64
         ],
         "xaxis": "x2",
         "y": [
          2.9360001087188716,
          2.864000082015991,
          2.7079999446868896,
          2.740000009536743,
          1.8949999809265134,
          2.503999948501587,
          1.621999979019165,
          2.009999990463257,
          2.476000070571899,
          2.3559999465942383
         ],
         "yaxis": "y2"
        },
        {
         "mode": "markers",
         "name": "Ticker BRE",
         "type": "scatter",
         "x": [
          0.32,
          0.32,
          0.38,
          0.46,
          0.35,
          0.34,
          0.34,
          0.39,
          0.47,
          0.53
         ],
         "xaxis": "x",
         "y": [
          2.4033350340342152,
          2.564179813062659,
          2.393218807006317,
          2.404238719152724,
          2.320425041100351,
          2.58475200201879,
          2.4890646757652832,
          2.07969149231976,
          1.6815725236803198,
          1.3681303836941336
         ],
         "yaxis": "y"
        },
        {
         "mode": "markers",
         "name": "Ticker BRE",
         "type": "scatter",
         "x": [
          0.32,
          0.32,
          0.38,
          0.46,
          0.35,
          0.34,
          0.34,
          0.39,
          0.47,
          0.53
         ],
         "xaxis": "x2",
         "y": [
          11.0600004196167,
          12.989999771118162,
          10.948678970336912,
          11.069999694824217,
          10.180000305175781,
          13.260000228881834,
          12.050000190734862,
          8.001999855041504,
          5.374000072479247,
          3.9279999732971187
         ],
         "yaxis": "y2"
        },
        {
         "mode": "markers",
         "name": "Ticker DAN",
         "type": "scatter",
         "x": [
          0.09,
          0.09,
          0.08,
          0.07,
          0.07,
          0.1,
          0.1,
          0.11,
          0.13,
          0.16
         ],
         "xaxis": "x",
         "y": [
          3.104586644253541,
          3.2790297189519984,
          2.7265447662626667,
          2.8154087651077058,
          2.785011289333365,
          3.0516398874558934,
          3.0243197266987147,
          2.740840023925201,
          3.000222186422059,
          3.2308043655777645
         ],
         "yaxis": "y"
        },
        {
         "mode": "markers",
         "name": "Ticker DAN",
         "type": "scatter",
         "x": [
          0.09,
          0.09,
          0.08,
          0.07,
          0.07,
          0.1,
          0.1,
          0.11,
          0.13,
          0.16
         ],
         "xaxis": "x2",
         "y": [
          22.299999237060543,
          26.549999237060547,
          15.279999732971186,
          16.700000762939453,
          16.20000076293945,
          21.149999618530277,
          20.57999992370605,
          15.499999999999996,
          20.090000152587887,
          25.299999237060543
         ],
         "yaxis": "y2"
        },
        {
         "mode": "markers",
         "name": "Ticker BC",
         "type": "scatter",
         "x": [
          0.37,
          0.38,
          0.43,
          0.4,
          0.25,
          0.28,
          0.32,
          0.31,
          0.32,
          0.29
         ],
         "xaxis": "x",
         "y": [
          4.269697449699962,
          4.107589776423775,
          3.5333946002941827,
          3.5587707383536116,
          3.349904087274605,
          3.363841581918742,
          3.0267462864029175,
          2.7033726319915394,
          2.8735646826837065,
          3.1705255511154085
         ],
         "yaxis": "y"
        },
        {
         "mode": "markers",
         "name": "Ticker BC",
         "type": "scatter",
         "x": [
          0.37,
          0.38,
          0.43,
          0.4,
          0.25,
          0.28,
          0.32,
          0.31,
          0.32,
          0.29
         ],
         "xaxis": "x2",
         "y": [
          71.49999999999996,
          60.79999923706053,
          34.2400016784668,
          35.11999893188476,
          28.499999999999996,
          28.89999961853027,
          20.6299991607666,
          14.930000305175776,
          17.70000076293945,
          23.81999969482422
         ],
         "yaxis": "y2"
        },
        {
         "mode": "markers",
         "name": "Ticker CLI",
         "type": "scatter",
         "x": [
          1.95,
          2.01,
          2.03,
          0.49,
          0.4,
          0.28,
          0.24,
          0.37,
          0.36,
          0.37
         ],
         "xaxis": "x",
         "y": [
          1.0543119898966447,
          1.2412686000947695,
          0.9001613654511708,
          0.9162907318741551,
          1.007957923880542,
          1.2584609841914016,
          1.1052568250710544,
          1.1933162536324886,
          0.9895412148852936,
          0.6418538736240484
         ],
         "yaxis": "y"
        },
        {
         "mode": "markers",
         "name": "Ticker CLI",
         "type": "scatter",
         "x": [
          1.95,
          2.01,
          2.03,
          0.49,
          0.4,
          0.28,
          0.24,
          0.37,
          0.36,
          0.37
         ],
         "xaxis": "x2",
         "y": [
          2.869999885559082,
          3.4600000381469727,
          2.4600000381469727,
          2.5,
          2.740000009536743,
          3.5199999809265132,
          3.0199999809265137,
          3.29800009727478,
          2.6900000572204585,
          1.899999976158142
         ],
         "yaxis": "y2"
        },
        {
         "mode": "markers",
         "name": "Ticker ELC",
         "type": "scatter",
         "x": [
          0.22,
          0.28,
          0.56,
          0.6,
          0.55,
          0.54,
          0.4,
          0.36,
          0.38,
          0.38
         ],
         "xaxis": "x",
         "y": [
          1.120047588057166,
          1.264126716369702,
          1.1265516697226583,
          1.0885619624476819,
          0.4187103223098387,
          0.9082585678678127,
          0.6097655897614381,
          0.6418538736240484,
          0.5704144453674508,
          0.5709795358097567
         ],
         "yaxis": "y"
        },
        {
         "mode": "markers",
         "name": "Ticker ELC",
         "type": "scatter",
         "x": [
          0.22,
          0.28,
          0.56,
          0.6,
          0.55,
          0.54,
          0.4,
          0.36,
          0.38,
          0.38
         ],
         "xaxis": "x2",
         "y": [
          3.065000057220459,
          3.5399999618530273,
          3.0850000381469727,
          2.9700000286102286,
          1.5199999809265137,
          2.4800000190734863,
          1.840000033378601,
          1.899999976158142,
          1.7690000534057615,
          1.7699999809265134
         ],
         "yaxis": "y2"
        },
        {
         "mode": "markers",
         "name": "Ticker GPI",
         "type": "scatter",
         "x": [
          0.08,
          0.19,
          0.25,
          0.31,
          0.19,
          0.18,
          0.18,
          0.23,
          0.19,
          0.22
         ],
         "xaxis": "x",
         "y": [
          2.653241951175182,
          2.803360380906535,
          2.101692187922208,
          2.0464016580303386,
          2.121063234666565,
          2.3702437236421723,
          2.3223877015907286,
          2.282382405139267,
          null,
          null
         ],
         "yaxis": "y"
        },
        {
         "mode": "markers",
         "name": "Ticker GPI",
         "type": "scatter",
         "x": [
          0.08,
          0.19,
          0.25,
          0.31,
          0.19,
          0.18,
          0.18,
          0.23,
          0.19,
          0.22
         ],
         "xaxis": "x2",
         "y": [
          14.199999809265131,
          16.499999999999996,
          8.180000305175781,
          7.739999771118162,
          8.340000152587889,
          10.699999809265137,
          10.199999809265133,
          9.800000190734862,
          null,
          null
         ],
         "yaxis": "y2"
        },
        {
         "mode": "markers",
         "name": "Ticker SRI",
         "type": "scatter",
         "x": [
          0.98,
          1.06,
          1.11,
          0.94,
          0.71,
          0.7,
          0.63,
          0.73,
          0.84,
          0.97
         ],
         "xaxis": "x",
         "y": [
          0.18647960255701124,
          0.7443154761953833,
          0.8285518009080817,
          1.169381368441481,
          1.2974631708642825,
          1.911022923913132,
          1.2974631708642825,
          1.341296964264569,
          1.3942625468528604,
          1.4148818606044733
         ],
         "yaxis": "y"
        },
        {
         "mode": "markers",
         "name": "Ticker SRI",
         "type": "scatter",
         "x": [
          0.98,
          1.06,
          1.11,
          0.94,
          0.71,
          0.7,
          0.63,
          0.73,
          0.84,
          0.97
         ],
         "xaxis": "x2",
         "y": [
          1.2050000429153442,
          2.1050000190734863,
          2.289999961853028,
          3.2200000286102286,
          3.660000085830689,
          6.760000228881836,
          3.660000085830689,
          3.8239998817443848,
          4.0320000648498535,
          4.116000175476073
         ],
         "yaxis": "y2"
        },
        {
         "mode": "markers",
         "name": "Ticker ALA",
         "type": "scatter",
         "x": [
          0.02,
          0.02,
          0.04,
          0.06,
          0.08,
          0.1,
          0.08,
          0.08,
          0.07,
          0.08
         ],
         "xaxis": "x",
         "y": [
          2.4680995476355903,
          2.3655598563366795,
          null,
          null,
          null,
          null,
          null,
          null,
          null,
          null
         ],
         "yaxis": "y"
        },
        {
         "mode": "markers",
         "name": "Ticker ALA",
         "type": "scatter",
         "x": [
          0.02,
          0.02,
          0.04,
          0.06,
          0.08,
          0.1,
          0.08,
          0.08,
          0.07,
          0.08
         ],
         "xaxis": "x2",
         "y": [
          11.80000019073486,
          10.64999961853027,
          null,
          null,
          null,
          null,
          null,
          null,
          null,
          null
         ],
         "yaxis": "y2"
        },
        {
         "mode": "markers",
         "name": "Ticker ICF",
         "type": "scatter",
         "x": [
          0.2,
          0.21,
          0.2,
          0.35,
          0.18,
          0.18,
          0.19,
          0.13,
          0.18,
          0.22
         ],
         "xaxis": "x",
         "y": [
          1.7155980979710415,
          1.8277698730198415,
          1.6974487967434386,
          null,
          null,
          null,
          null,
          null,
          null,
          null
         ],
         "yaxis": "y"
        },
        {
         "mode": "markers",
         "name": "Ticker ICF",
         "type": "scatter",
         "x": [
          0.2,
          0.21,
          0.2,
          0.35,
          0.18,
          0.18,
          0.19,
          0.13,
          0.18,
          0.22
         ],
         "xaxis": "x2",
         "y": [
          5.55999994277954,
          6.2199997901916495,
          5.460000038146972,
          null,
          null,
          null,
          null,
          null,
          null,
          null
         ],
         "yaxis": "y2"
        },
        {
         "mode": "markers",
         "name": "Ticker ENV",
         "type": "scatter",
         "x": [
          0.52,
          0.64,
          0.86,
          0.88,
          0.47,
          0.43,
          0.41,
          0.48,
          0.35,
          0.23
         ],
         "xaxis": "x",
         "y": [
          1.190887553182456,
          1.3350010541839938,
          1.1939224540228235,
          1.2208299523375428,
          1.1847899790762915,
          1.2470322992672698,
          1.0224509174110963,
          1.0260415821605242,
          1.249901738946927,
          1.1499389134175557
         ],
         "yaxis": "y"
        },
        {
         "mode": "markers",
         "name": "Ticker ENV",
         "type": "scatter",
         "x": [
          0.52,
          0.64,
          0.86,
          0.88,
          0.47,
          0.43,
          0.41,
          0.48,
          0.35,
          0.23
         ],
         "xaxis": "x2",
         "y": [
          3.289999961853028,
          3.799999952316284,
          3.2999999523162837,
          3.390000104904175,
          3.2699999809265132,
          3.480000019073486,
          2.7799999713897705,
          2.7899999618530273,
          3.4900000095367427,
          3.1579999923706046
         ],
         "yaxis": "y2"
        },
        {
         "mode": "markers",
         "name": "Ticker MASI",
         "type": "scatter",
         "x": [
          0.43,
          0.4,
          0.4,
          0.39,
          0.36,
          0.35,
          0.36,
          0.36,
          0.33,
          0.35
         ],
         "xaxis": "x",
         "y": [
          1.5062972042644385,
          1.348073123528931,
          0.943905872931563,
          1.1568812177849161,
          1.348073123528931,
          1.5040773967762742,
          1.4609378908394477,
          1.4816045625986316,
          null,
          null
         ],
         "yaxis": "y"
        },
        {
         "mode": "markers",
         "name": "Ticker MASI",
         "type": "scatter",
         "x": [
          0.43,
          0.4,
          0.4,
          0.39,
          0.36,
          0.35,
          0.36,
          0.36,
          0.33,
          0.35
         ],
         "xaxis": "x2",
         "y": [
          4.510000228881836,
          3.8499999046325675,
          2.569999933242798,
          3.180000066757202,
          3.8499999046325675,
          4.5,
          4.30999994277954,
          4.400000095367432,
          null,
          null
         ],
         "yaxis": "y2"
        },
        {
         "mode": "markers",
         "name": "Ticker SVS",
         "type": "scatter",
         "x": [
          0.36,
          0.37,
          0.71,
          0.61,
          0.58,
          0.58,
          0.58,
          0.57,
          0.67,
          0.66
         ],
         "xaxis": "x",
         "y": [
          2.3015845697493673,
          null,
          null,
          null,
          null,
          null,
          null,
          null,
          null,
          null
         ],
         "yaxis": "y"
        },
        {
         "mode": "markers",
         "name": "Ticker SVS",
         "type": "scatter",
         "x": [
          0.36,
          0.37,
          0.71,
          0.61,
          0.58,
          0.58,
          0.58,
          0.57,
          0.67,
          0.66
         ],
         "xaxis": "x2",
         "y": [
          9.989999771118164,
          null,
          null,
          null,
          null,
          null,
          null,
          null,
          null,
          null
         ],
         "yaxis": "y2"
        },
        {
         "mode": "markers",
         "name": "Ticker STAR7",
         "type": "scatter",
         "x": [
          0.05,
          0.03,
          0.07,
          0.12,
          0.1,
          0.09,
          0.12,
          0.12,
          0.15,
          0.17
         ],
         "xaxis": "x",
         "y": [
          2.1679101634795908,
          2.264883237693826,
          null,
          null,
          null,
          null,
          null,
          null,
          null,
          null
         ],
         "yaxis": "y"
        },
        {
         "mode": "markers",
         "name": "Ticker STAR7",
         "type": "scatter",
         "x": [
          0.05,
          0.03,
          0.07,
          0.12,
          0.1,
          0.09,
          0.12,
          0.12,
          0.15,
          0.17
         ],
         "xaxis": "x2",
         "y": [
          8.739999771118164,
          9.630000114440916,
          null,
          null,
          null,
          null,
          null,
          null,
          null,
          null
         ],
         "yaxis": "y2"
        },
        {
         "mode": "markers",
         "name": "Ticker SCK",
         "type": "scatter",
         "x": [
          0.73,
          0.47,
          1.36,
          1.24,
          1.02,
          2.8,
          0.8,
          0.78,
          1.66,
          1.97
         ],
         "xaxis": "x",
         "y": [
          2.0333975857027218,
          2.356125878001209,
          1.1151415749853149,
          0.15700371212988268,
          -0.31471071871163714,
          null,
          null,
          null,
          null,
          null
         ],
         "yaxis": "y"
        },
        {
         "mode": "markers",
         "name": "Ticker SCK",
         "type": "scatter",
         "x": [
          0.73,
          0.47,
          1.36,
          1.24,
          1.02,
          2.8,
          0.8,
          0.78,
          1.66,
          1.97
         ],
         "xaxis": "x2",
         "y": [
          7.639999866485597,
          10.55000019073486,
          3.0499999523162837,
          1.1699999570846558,
          0.7300000190734863,
          null,
          null,
          null,
          null,
          null
         ],
         "yaxis": "y2"
        },
        {
         "mode": "markers",
         "name": "Ticker MARP",
         "type": "scatter",
         "x": [
          0.63,
          0.77,
          0.91,
          1.02,
          1.91,
          1.17,
          1.37,
          1.23,
          1.43,
          1.55
         ],
         "xaxis": "x",
         "y": [
          1.4060969697165737,
          1.5475624681341262,
          1.0296194001512595,
          1.508511989624342,
          null,
          null,
          null,
          null,
          null,
          null
         ],
         "yaxis": "y"
        },
        {
         "mode": "markers",
         "name": "Ticker MARP",
         "type": "scatter",
         "x": [
          0.63,
          0.77,
          0.91,
          1.02,
          1.91,
          1.17,
          1.37,
          1.23,
          1.43,
          1.55
         ],
         "xaxis": "x2",
         "y": [
          4.079999923706054,
          4.699999809265136,
          2.7999999523162837,
          4.519999980926514,
          null,
          null,
          null,
          null,
          null,
          null
         ],
         "yaxis": "y2"
        },
        {
         "mode": "markers",
         "name": "Ticker ITD",
         "type": "scatter",
         "x": [
          1.22,
          0.89,
          0.76,
          0.75,
          0.75,
          1.52,
          1.71,
          1.93,
          1.33,
          1.27
         ],
         "xaxis": "x",
         "y": [
          2.6672281800910014,
          2.972975247406338,
          2.3513752571634776,
          1.8082887555452603,
          1.0986122886681098,
          null,
          null,
          null,
          null,
          null
         ],
         "yaxis": "y"
        },
        {
         "mode": "markers",
         "name": "Ticker ITD",
         "type": "scatter",
         "x": [
          1.22,
          0.89,
          0.76,
          0.75,
          0.75,
          1.52,
          1.71,
          1.93,
          1.33,
          1.27
         ],
         "xaxis": "x2",
         "y": [
          14.399999618530272,
          19.549999237060543,
          10.499999999999998,
          6.0999999046325675,
          3,
          null,
          null,
          null,
          null,
          null
         ],
         "yaxis": "y2"
        },
        {
         "mode": "markers",
         "name": "Ticker VIM",
         "type": "scatter",
         "x": [
          0.59,
          0.66,
          0.75,
          0.78,
          0.55,
          0.82,
          0.92,
          1.01,
          0.94,
          0.95
         ],
         "xaxis": "x",
         "y": [
          0.13102824985805775,
          0.4637340372249708,
          0.18232159653038368,
          0.7654678864965156,
          1.0818051865157,
          null,
          null,
          null,
          null,
          null
         ],
         "yaxis": "y"
        },
        {
         "mode": "markers",
         "name": "Ticker VIM",
         "type": "scatter",
         "x": [
          0.59,
          0.66,
          0.75,
          0.78,
          0.55,
          0.82,
          0.92,
          1.01,
          0.94,
          0.95
         ],
         "xaxis": "x2",
         "y": [
          1.1399999856948853,
          1.590000033378601,
          1.2000000476837158,
          2.150000095367432,
          2.950000047683716,
          null,
          null,
          null,
          null,
          null
         ],
         "yaxis": "y2"
        },
        {
         "mode": "markers",
         "name": "Ticker MDC",
         "type": "scatter",
         "x": [
          0.1,
          0.18,
          0.57,
          0.7,
          0.88,
          1.23,
          0.62,
          0.34,
          0.33,
          0.4
         ],
         "xaxis": "x",
         "y": [
          3.228826155721369,
          3.640214242083339,
          null,
          null,
          null,
          null,
          null,
          null,
          null,
          null
         ],
         "yaxis": "y"
        },
        {
         "mode": "markers",
         "name": "Ticker MDC",
         "type": "scatter",
         "x": [
          0.1,
          0.18,
          0.57,
          0.7,
          0.88,
          1.23,
          0.62,
          0.34,
          0.33,
          0.4
         ],
         "xaxis": "x2",
         "y": [
          25.249999999999996,
          38.09999847412107,
          null,
          null,
          null,
          null,
          null,
          null,
          null,
          null
         ],
         "yaxis": "y2"
        },
        {
         "mode": "markers",
         "name": "Ticker ILP",
         "type": "scatter",
         "x": [
          0.19,
          0.22,
          0.29,
          0.52,
          1.1,
          0.62,
          0.68,
          0.68,
          0.72,
          0.71
         ],
         "xaxis": "x",
         "y": [
          1.490654389331624,
          1.508511989624342,
          0.7129497891566287,
          0.779324907423567,
          null,
          null,
          null,
          null,
          null,
          null
         ],
         "yaxis": "y"
        },
        {
         "mode": "markers",
         "name": "Ticker ILP",
         "type": "scatter",
         "x": [
          0.19,
          0.22,
          0.29,
          0.52,
          1.1,
          0.62,
          0.68,
          0.68,
          0.72,
          0.71
         ],
         "xaxis": "x2",
         "y": [
          4.440000057220458,
          4.519999980926514,
          2.039999961853028,
          2.180000066757202,
          null,
          null,
          null,
          null,
          null,
          null
         ],
         "yaxis": "y2"
        },
        {
         "mode": "markers",
         "name": "Ticker CFL",
         "type": "scatter",
         "x": [
          0.08,
          0.08,
          0.15,
          0.25,
          0.3,
          0.45,
          0.51,
          0.63,
          0.63,
          0.66
         ],
         "xaxis": "x",
         "y": [
          2.536866415880321,
          2.7549338039876257,
          null,
          null,
          null,
          null,
          null,
          null,
          null,
          null
         ],
         "yaxis": "y"
        },
        {
         "mode": "markers",
         "name": "Ticker CFL",
         "type": "scatter",
         "x": [
          0.08,
          0.08,
          0.15,
          0.25,
          0.3,
          0.45,
          0.51,
          0.63,
          0.63,
          0.66
         ],
         "xaxis": "x2",
         "y": [
          12.64000034332275,
          15.720000267028805,
          null,
          null,
          null,
          null,
          null,
          null,
          null,
          null
         ],
         "yaxis": "y2"
        },
        {
         "mode": "markers",
         "name": "Ticker FCM",
         "type": "scatter",
         "x": [
          0.15,
          0.16,
          0.16,
          0.18,
          0.34,
          0.6,
          0.6,
          0.66,
          0.65,
          0.84
         ],
         "xaxis": "x",
         "y": [
          0.12221762850445134,
          0.2350721108710924,
          0.2350721108710924,
          0.47933496257972397,
          null,
          null,
          null,
          null,
          null,
          null
         ],
         "yaxis": "y"
        },
        {
         "mode": "markers",
         "name": "Ticker FCM",
         "type": "scatter",
         "x": [
          0.15,
          0.16,
          0.16,
          0.18,
          0.34,
          0.6,
          0.6,
          0.66,
          0.65,
          0.84
         ],
         "xaxis": "x2",
         "y": [
          1.1299999952316284,
          1.2649999856948853,
          1.2649999856948853,
          1.6150000095367432,
          null,
          null,
          null,
          null,
          null,
          null
         ],
         "yaxis": "y2"
        },
        {
         "mode": "markers",
         "name": "Ticker FVI",
         "type": "scatter",
         "x": [
          0.01,
          0.01,
          0.01,
          0.01,
          0.01,
          0.03,
          0.06,
          0.07,
          0.09,
          0.07
         ],
         "xaxis": "x",
         "y": [
          2.7440606508911505,
          2.69462719365756,
          2.509599277885271,
          2.4248027425974863,
          2.4061257641178835,
          null,
          null,
          null,
          null,
          null
         ],
         "yaxis": "y"
        },
        {
         "mode": "markers",
         "name": "Ticker FVI",
         "type": "scatter",
         "x": [
          0.01,
          0.01,
          0.01,
          0.01,
          0.01,
          0.03,
          0.06,
          0.07,
          0.09,
          0.07
         ],
         "xaxis": "x2",
         "y": [
          15.550000190734858,
          14.800000190734858,
          12.30000019073486,
          11.300000190734863,
          11.090909004211426,
          null,
          null,
          null,
          null,
          null
         ],
         "yaxis": "y2"
        },
        {
         "mode": "markers",
         "name": "Ticker PLT",
         "type": "scatter",
         "x": [
          1.2,
          1.3,
          1.12,
          2.73,
          2.37,
          2.02,
          0.79,
          0.66,
          0.61,
          0.69
         ],
         "xaxis": "x",
         "y": [
          null,
          null,
          null,
          null,
          null,
          null,
          null,
          null,
          null,
          null
         ],
         "yaxis": "y"
        },
        {
         "mode": "markers",
         "name": "Ticker PLT",
         "type": "scatter",
         "x": [
          1.2,
          1.3,
          1.12,
          2.73,
          2.37,
          2.02,
          0.79,
          0.66,
          0.61,
          0.69
         ],
         "xaxis": "x2",
         "y": [
          null,
          null,
          null,
          null,
          null,
          null,
          null,
          null,
          null,
          null
         ],
         "yaxis": "y2"
        },
        {
         "mode": "markers",
         "name": "Ticker LDB",
         "type": "scatter",
         "x": [
          0.37,
          0.25,
          0.82,
          1.1,
          1.32,
          1.49,
          2.05,
          2.32,
          2.96,
          2.69
         ],
         "xaxis": "x",
         "y": [
          0.6291418754934363,
          0.7952523647473517,
          null,
          null,
          null,
          null,
          null,
          null,
          null,
          null
         ],
         "yaxis": "y"
        },
        {
         "mode": "markers",
         "name": "Ticker LDB",
         "type": "scatter",
         "x": [
          0.37,
          0.25,
          0.82,
          1.1,
          1.32,
          1.49,
          2.05,
          2.32,
          2.96,
          2.69
         ],
         "xaxis": "x2",
         "y": [
          1.876000046730041,
          2.2149999141693115,
          null,
          null,
          null,
          null,
          null,
          null,
          null,
          null
         ],
         "yaxis": "y2"
        },
        {
         "mode": "markers",
         "name": "Ticker FOS",
         "type": "scatter",
         "x": [
          0.02,
          0.03,
          0.01,
          0.01,
          0.06,
          0.04,
          0.06,
          0.07,
          0.09,
          0.11
         ],
         "xaxis": "x",
         "y": [
          1.2119409427536318,
          1.3506671562994919,
          0.9082585678678127,
          1.1426291710428607,
          null,
          null,
          null,
          null,
          null,
          null
         ],
         "yaxis": "y"
        },
        {
         "mode": "markers",
         "name": "Ticker FOS",
         "type": "scatter",
         "x": [
          0.02,
          0.03,
          0.01,
          0.01,
          0.06,
          0.04,
          0.06,
          0.07,
          0.09,
          0.11
         ],
         "xaxis": "x2",
         "y": [
          3.359999895095825,
          3.859999895095825,
          2.4800000190734863,
          3.1349999904632564,
          null,
          null,
          null,
          null,
          null,
          null
         ],
         "yaxis": "y2"
        },
        {
         "mode": "markers",
         "name": "Ticker BAN",
         "type": "scatter",
         "x": [
          0.06,
          0.08,
          0.14,
          0.13,
          0.03,
          0.03,
          0.02,
          0.02,
          0.02,
          0.02
         ],
         "xaxis": "x",
         "y": [
          1.6992785780777009,
          1.814824720414034,
          1.4586150670564606,
          1.6677068565457855,
          1.4929040533163809,
          1.3244189548654353,
          1.2005670192292972,
          1.4683350732132154,
          0.8162494147953161,
          0.8862438592669583
         ],
         "yaxis": "y"
        },
        {
         "mode": "markers",
         "name": "Ticker BAN",
         "type": "scatter",
         "x": [
          0.06,
          0.08,
          0.14,
          0.13,
          0.03,
          0.03,
          0.02,
          0.02,
          0.02,
          0.02
         ],
         "xaxis": "x2",
         "y": [
          5.46999979019165,
          6.139999866485596,
          4.300000190734862,
          5.300000190734862,
          4.449999809265136,
          3.7599999904632564,
          3.3220000267028804,
          4.3420000076293945,
          2.26200008392334,
          2.4260001182556152
         ],
         "yaxis": "y2"
        }
       ],
       "layout": {
        "showlegend": false,
        "template": {
         "data": {
          "bar": [
           {
            "error_x": {
             "color": "#2a3f5f"
            },
            "error_y": {
             "color": "#2a3f5f"
            },
            "marker": {
             "line": {
              "color": "#E5ECF6",
              "width": 0.5
             },
             "pattern": {
              "fillmode": "overlay",
              "size": 10,
              "solidity": 0.2
             }
            },
            "type": "bar"
           }
          ],
          "barpolar": [
           {
            "marker": {
             "line": {
              "color": "#E5ECF6",
              "width": 0.5
             },
             "pattern": {
              "fillmode": "overlay",
              "size": 10,
              "solidity": 0.2
             }
            },
            "type": "barpolar"
           }
          ],
          "carpet": [
           {
            "aaxis": {
             "endlinecolor": "#2a3f5f",
             "gridcolor": "white",
             "linecolor": "white",
             "minorgridcolor": "white",
             "startlinecolor": "#2a3f5f"
            },
            "baxis": {
             "endlinecolor": "#2a3f5f",
             "gridcolor": "white",
             "linecolor": "white",
             "minorgridcolor": "white",
             "startlinecolor": "#2a3f5f"
            },
            "type": "carpet"
           }
          ],
          "choropleth": [
           {
            "colorbar": {
             "outlinewidth": 0,
             "ticks": ""
            },
            "type": "choropleth"
           }
          ],
          "contour": [
           {
            "colorbar": {
             "outlinewidth": 0,
             "ticks": ""
            },
            "colorscale": [
             [
              0,
              "#0d0887"
             ],
             [
              0.1111111111111111,
              "#46039f"
             ],
             [
              0.2222222222222222,
              "#7201a8"
             ],
             [
              0.3333333333333333,
              "#9c179e"
             ],
             [
              0.4444444444444444,
              "#bd3786"
             ],
             [
              0.5555555555555556,
              "#d8576b"
             ],
             [
              0.6666666666666666,
              "#ed7953"
             ],
             [
              0.7777777777777778,
              "#fb9f3a"
             ],
             [
              0.8888888888888888,
              "#fdca26"
             ],
             [
              1,
              "#f0f921"
             ]
            ],
            "type": "contour"
           }
          ],
          "contourcarpet": [
           {
            "colorbar": {
             "outlinewidth": 0,
             "ticks": ""
            },
            "type": "contourcarpet"
           }
          ],
          "heatmap": [
           {
            "colorbar": {
             "outlinewidth": 0,
             "ticks": ""
            },
            "colorscale": [
             [
              0,
              "#0d0887"
             ],
             [
              0.1111111111111111,
              "#46039f"
             ],
             [
              0.2222222222222222,
              "#7201a8"
             ],
             [
              0.3333333333333333,
              "#9c179e"
             ],
             [
              0.4444444444444444,
              "#bd3786"
             ],
             [
              0.5555555555555556,
              "#d8576b"
             ],
             [
              0.6666666666666666,
              "#ed7953"
             ],
             [
              0.7777777777777778,
              "#fb9f3a"
             ],
             [
              0.8888888888888888,
              "#fdca26"
             ],
             [
              1,
              "#f0f921"
             ]
            ],
            "type": "heatmap"
           }
          ],
          "heatmapgl": [
           {
            "colorbar": {
             "outlinewidth": 0,
             "ticks": ""
            },
            "colorscale": [
             [
              0,
              "#0d0887"
             ],
             [
              0.1111111111111111,
              "#46039f"
             ],
             [
              0.2222222222222222,
              "#7201a8"
             ],
             [
              0.3333333333333333,
              "#9c179e"
             ],
             [
              0.4444444444444444,
              "#bd3786"
             ],
             [
              0.5555555555555556,
              "#d8576b"
             ],
             [
              0.6666666666666666,
              "#ed7953"
             ],
             [
              0.7777777777777778,
              "#fb9f3a"
             ],
             [
              0.8888888888888888,
              "#fdca26"
             ],
             [
              1,
              "#f0f921"
             ]
            ],
            "type": "heatmapgl"
           }
          ],
          "histogram": [
           {
            "marker": {
             "pattern": {
              "fillmode": "overlay",
              "size": 10,
              "solidity": 0.2
             }
            },
            "type": "histogram"
           }
          ],
          "histogram2d": [
           {
            "colorbar": {
             "outlinewidth": 0,
             "ticks": ""
            },
            "colorscale": [
             [
              0,
              "#0d0887"
             ],
             [
              0.1111111111111111,
              "#46039f"
             ],
             [
              0.2222222222222222,
              "#7201a8"
             ],
             [
              0.3333333333333333,
              "#9c179e"
             ],
             [
              0.4444444444444444,
              "#bd3786"
             ],
             [
              0.5555555555555556,
              "#d8576b"
             ],
             [
              0.6666666666666666,
              "#ed7953"
             ],
             [
              0.7777777777777778,
              "#fb9f3a"
             ],
             [
              0.8888888888888888,
              "#fdca26"
             ],
             [
              1,
              "#f0f921"
             ]
            ],
            "type": "histogram2d"
           }
          ],
          "histogram2dcontour": [
           {
            "colorbar": {
             "outlinewidth": 0,
             "ticks": ""
            },
            "colorscale": [
             [
              0,
              "#0d0887"
             ],
             [
              0.1111111111111111,
              "#46039f"
             ],
             [
              0.2222222222222222,
              "#7201a8"
             ],
             [
              0.3333333333333333,
              "#9c179e"
             ],
             [
              0.4444444444444444,
              "#bd3786"
             ],
             [
              0.5555555555555556,
              "#d8576b"
             ],
             [
              0.6666666666666666,
              "#ed7953"
             ],
             [
              0.7777777777777778,
              "#fb9f3a"
             ],
             [
              0.8888888888888888,
              "#fdca26"
             ],
             [
              1,
              "#f0f921"
             ]
            ],
            "type": "histogram2dcontour"
           }
          ],
          "mesh3d": [
           {
            "colorbar": {
             "outlinewidth": 0,
             "ticks": ""
            },
            "type": "mesh3d"
           }
          ],
          "parcoords": [
           {
            "line": {
             "colorbar": {
              "outlinewidth": 0,
              "ticks": ""
             }
            },
            "type": "parcoords"
           }
          ],
          "pie": [
           {
            "automargin": true,
            "type": "pie"
           }
          ],
          "scatter": [
           {
            "fillpattern": {
             "fillmode": "overlay",
             "size": 10,
             "solidity": 0.2
            },
            "type": "scatter"
           }
          ],
          "scatter3d": [
           {
            "line": {
             "colorbar": {
              "outlinewidth": 0,
              "ticks": ""
             }
            },
            "marker": {
             "colorbar": {
              "outlinewidth": 0,
              "ticks": ""
             }
            },
            "type": "scatter3d"
           }
          ],
          "scattercarpet": [
           {
            "marker": {
             "colorbar": {
              "outlinewidth": 0,
              "ticks": ""
             }
            },
            "type": "scattercarpet"
           }
          ],
          "scattergeo": [
           {
            "marker": {
             "colorbar": {
              "outlinewidth": 0,
              "ticks": ""
             }
            },
            "type": "scattergeo"
           }
          ],
          "scattergl": [
           {
            "marker": {
             "colorbar": {
              "outlinewidth": 0,
              "ticks": ""
             }
            },
            "type": "scattergl"
           }
          ],
          "scattermapbox": [
           {
            "marker": {
             "colorbar": {
              "outlinewidth": 0,
              "ticks": ""
             }
            },
            "type": "scattermapbox"
           }
          ],
          "scatterpolar": [
           {
            "marker": {
             "colorbar": {
              "outlinewidth": 0,
              "ticks": ""
             }
            },
            "type": "scatterpolar"
           }
          ],
          "scatterpolargl": [
           {
            "marker": {
             "colorbar": {
              "outlinewidth": 0,
              "ticks": ""
             }
            },
            "type": "scatterpolargl"
           }
          ],
          "scatterternary": [
           {
            "marker": {
             "colorbar": {
              "outlinewidth": 0,
              "ticks": ""
             }
            },
            "type": "scatterternary"
           }
          ],
          "surface": [
           {
            "colorbar": {
             "outlinewidth": 0,
             "ticks": ""
            },
            "colorscale": [
             [
              0,
              "#0d0887"
             ],
             [
              0.1111111111111111,
              "#46039f"
             ],
             [
              0.2222222222222222,
              "#7201a8"
             ],
             [
              0.3333333333333333,
              "#9c179e"
             ],
             [
              0.4444444444444444,
              "#bd3786"
             ],
             [
              0.5555555555555556,
              "#d8576b"
             ],
             [
              0.6666666666666666,
              "#ed7953"
             ],
             [
              0.7777777777777778,
              "#fb9f3a"
             ],
             [
              0.8888888888888888,
              "#fdca26"
             ],
             [
              1,
              "#f0f921"
             ]
            ],
            "type": "surface"
           }
          ],
          "table": [
           {
            "cells": {
             "fill": {
              "color": "#EBF0F8"
             },
             "line": {
              "color": "white"
             }
            },
            "header": {
             "fill": {
              "color": "#C8D4E3"
             },
             "line": {
              "color": "white"
             }
            },
            "type": "table"
           }
          ]
         },
         "layout": {
          "annotationdefaults": {
           "arrowcolor": "#2a3f5f",
           "arrowhead": 0,
           "arrowwidth": 1
          },
          "autotypenumbers": "strict",
          "coloraxis": {
           "colorbar": {
            "outlinewidth": 0,
            "ticks": ""
           }
          },
          "colorscale": {
           "diverging": [
            [
             0,
             "#8e0152"
            ],
            [
             0.1,
             "#c51b7d"
            ],
            [
             0.2,
             "#de77ae"
            ],
            [
             0.3,
             "#f1b6da"
            ],
            [
             0.4,
             "#fde0ef"
            ],
            [
             0.5,
             "#f7f7f7"
            ],
            [
             0.6,
             "#e6f5d0"
            ],
            [
             0.7,
             "#b8e186"
            ],
            [
             0.8,
             "#7fbc41"
            ],
            [
             0.9,
             "#4d9221"
            ],
            [
             1,
             "#276419"
            ]
           ],
           "sequential": [
            [
             0,
             "#0d0887"
            ],
            [
             0.1111111111111111,
             "#46039f"
            ],
            [
             0.2222222222222222,
             "#7201a8"
            ],
            [
             0.3333333333333333,
             "#9c179e"
            ],
            [
             0.4444444444444444,
             "#bd3786"
            ],
            [
             0.5555555555555556,
             "#d8576b"
            ],
            [
             0.6666666666666666,
             "#ed7953"
            ],
            [
             0.7777777777777778,
             "#fb9f3a"
            ],
            [
             0.8888888888888888,
             "#fdca26"
            ],
            [
             1,
             "#f0f921"
            ]
           ],
           "sequentialminus": [
            [
             0,
             "#0d0887"
            ],
            [
             0.1111111111111111,
             "#46039f"
            ],
            [
             0.2222222222222222,
             "#7201a8"
            ],
            [
             0.3333333333333333,
             "#9c179e"
            ],
            [
             0.4444444444444444,
             "#bd3786"
            ],
            [
             0.5555555555555556,
             "#d8576b"
            ],
            [
             0.6666666666666666,
             "#ed7953"
            ],
            [
             0.7777777777777778,
             "#fb9f3a"
            ],
            [
             0.8888888888888888,
             "#fdca26"
            ],
            [
             1,
             "#f0f921"
            ]
           ]
          },
          "colorway": [
           "#636efa",
           "#EF553B",
           "#00cc96",
           "#ab63fa",
           "#FFA15A",
           "#19d3f3",
           "#FF6692",
           "#B6E880",
           "#FF97FF",
           "#FECB52"
          ],
          "font": {
           "color": "#2a3f5f"
          },
          "geo": {
           "bgcolor": "white",
           "lakecolor": "white",
           "landcolor": "#E5ECF6",
           "showlakes": true,
           "showland": true,
           "subunitcolor": "white"
          },
          "hoverlabel": {
           "align": "left"
          },
          "hovermode": "closest",
          "mapbox": {
           "style": "light"
          },
          "paper_bgcolor": "white",
          "plot_bgcolor": "#E5ECF6",
          "polar": {
           "angularaxis": {
            "gridcolor": "white",
            "linecolor": "white",
            "ticks": ""
           },
           "bgcolor": "#E5ECF6",
           "radialaxis": {
            "gridcolor": "white",
            "linecolor": "white",
            "ticks": ""
           }
          },
          "scene": {
           "xaxis": {
            "backgroundcolor": "#E5ECF6",
            "gridcolor": "white",
            "gridwidth": 2,
            "linecolor": "white",
            "showbackground": true,
            "ticks": "",
            "zerolinecolor": "white"
           },
           "yaxis": {
            "backgroundcolor": "#E5ECF6",
            "gridcolor": "white",
            "gridwidth": 2,
            "linecolor": "white",
            "showbackground": true,
            "ticks": "",
            "zerolinecolor": "white"
           },
           "zaxis": {
            "backgroundcolor": "#E5ECF6",
            "gridcolor": "white",
            "gridwidth": 2,
            "linecolor": "white",
            "showbackground": true,
            "ticks": "",
            "zerolinecolor": "white"
           }
          },
          "shapedefaults": {
           "line": {
            "color": "#2a3f5f"
           }
          },
          "ternary": {
           "aaxis": {
            "gridcolor": "white",
            "linecolor": "white",
            "ticks": ""
           },
           "baxis": {
            "gridcolor": "white",
            "linecolor": "white",
            "ticks": ""
           },
           "bgcolor": "#E5ECF6",
           "caxis": {
            "gridcolor": "white",
            "linecolor": "white",
            "ticks": ""
           }
          },
          "title": {
           "x": 0.05
          },
          "xaxis": {
           "automargin": true,
           "gridcolor": "white",
           "linecolor": "white",
           "ticks": "",
           "title": {
            "standoff": 15
           },
           "zerolinecolor": "white",
           "zerolinewidth": 2
          },
          "yaxis": {
           "automargin": true,
           "gridcolor": "white",
           "linecolor": "white",
           "ticks": "",
           "title": {
            "standoff": 15
           },
           "zerolinecolor": "white",
           "zerolinewidth": 2
          }
         }
        },
        "title": {
         "text": "Relazione tra Indice_di_copertura_delle_immob e Valori Borsa"
        },
        "xaxis": {
         "anchor": "y",
         "domain": [
          0,
          0.45
         ]
        },
        "xaxis2": {
         "anchor": "y2",
         "domain": [
          0.55,
          1
         ]
        },
        "yaxis": {
         "anchor": "x",
         "domain": [
          0,
          1
         ],
         "title": {
          "text": "Log Valori Borsa"
         }
        },
        "yaxis2": {
         "anchor": "x2",
         "domain": [
          0,
          1
         ],
         "title": {
          "text": "Valori Borsa"
         }
        }
       }
      }
     },
     "metadata": {},
     "output_type": "display_data"
    },
    {
     "data": {
      "application/vnd.plotly.v1+json": {
       "config": {
        "plotlyServerURL": "https://plot.ly"
       },
       "data": [
        {
         "mode": "markers",
         "name": "Ticker MARR",
         "type": "scatter",
         "x": [
          3.79,
          4.31,
          1.6,
          2.15,
          1.87,
          2.31,
          3.24,
          4.14,
          6.07,
          5.27
         ],
         "xaxis": "x",
         "y": [
          2.509599277885271,
          2.9349201179417297,
          2.8791984144362717,
          3.054001217665676,
          3.0689827565651293,
          3.07915387116492,
          2.87073576176629,
          2.8887036625848097,
          2.691243082785829,
          2.4849066497880004
         ],
         "yaxis": "y"
        },
        {
         "mode": "markers",
         "name": "Ticker MARR",
         "type": "scatter",
         "x": [
          3.79,
          4.31,
          1.6,
          2.15,
          1.87,
          2.31,
          3.24,
          4.14,
          6.07,
          5.27
         ],
         "xaxis": "x2",
         "y": [
          12.30000019073486,
          18.819999694824215,
          17.799999237060547,
          21.20000076293945,
          21.520000457763665,
          21.73999977111816,
          17.64999961853027,
          17.969999313354485,
          14.749999999999998,
          11.999999999999998
         ],
         "yaxis": "y2"
        },
        {
         "mode": "markers",
         "name": "Ticker PIA",
         "type": "scatter",
         "x": [
          7.25,
          13.33,
          6.71,
          7.9,
          10.55,
          19.33,
          9.59,
          11.85,
          15.57,
          10.96
         ],
         "xaxis": "x",
         "y": [
          1.077048147781857,
          1.0522192777352672,
          0.9962103346242122,
          1.007957923880542,
          0.6392188284692253,
          0.917889432671393,
          0.48365994275805774,
          0.698134717326336,
          0.9066443833247319,
          0.8569652431213597
         ],
         "yaxis": "y"
        },
        {
         "mode": "markers",
         "name": "Ticker PIA",
         "type": "scatter",
         "x": [
          7.25,
          13.33,
          6.71,
          7.9,
          10.55,
          19.33,
          9.59,
          11.85,
          15.57,
          10.96
         ],
         "xaxis": "x2",
         "y": [
          2.9360001087188716,
          2.864000082015991,
          2.7079999446868896,
          2.740000009536743,
          1.8949999809265134,
          2.503999948501587,
          1.621999979019165,
          2.009999990463257,
          2.476000070571899,
          2.3559999465942383
         ],
         "yaxis": "y2"
        },
        {
         "mode": "markers",
         "name": "Ticker BRE",
         "type": "scatter",
         "x": [
          1.71,
          1.08,
          1.59,
          2.03,
          2.65,
          1.19,
          1.56,
          2.93,
          3.62,
          4.38
         ],
         "xaxis": "x",
         "y": [
          2.4033350340342152,
          2.564179813062659,
          2.393218807006317,
          2.404238719152724,
          2.320425041100351,
          2.58475200201879,
          2.4890646757652832,
          2.07969149231976,
          1.6815725236803198,
          1.3681303836941336
         ],
         "yaxis": "y"
        },
        {
         "mode": "markers",
         "name": "Ticker BRE",
         "type": "scatter",
         "x": [
          1.71,
          1.08,
          1.59,
          2.03,
          2.65,
          1.19,
          1.56,
          2.93,
          3.62,
          4.38
         ],
         "xaxis": "x2",
         "y": [
          11.0600004196167,
          12.989999771118162,
          10.948678970336912,
          11.069999694824217,
          10.180000305175781,
          13.260000228881834,
          12.050000190734862,
          8.001999855041504,
          5.374000072479247,
          3.9279999732971187
         ],
         "yaxis": "y2"
        },
        {
         "mode": "markers",
         "name": "Ticker DAN",
         "type": "scatter",
         "x": [
          6.35,
          0.19,
          1.11,
          4.33,
          3.69,
          1.08,
          1.42,
          2.36,
          7.89,
          8.53
         ],
         "xaxis": "x",
         "y": [
          3.104586644253541,
          3.2790297189519984,
          2.7265447662626667,
          2.8154087651077058,
          2.785011289333365,
          3.0516398874558934,
          3.0243197266987147,
          2.740840023925201,
          3.000222186422059,
          3.2308043655777645
         ],
         "yaxis": "y"
        },
        {
         "mode": "markers",
         "name": "Ticker DAN",
         "type": "scatter",
         "x": [
          6.35,
          0.19,
          1.11,
          4.33,
          3.69,
          1.08,
          1.42,
          2.36,
          7.89,
          8.53
         ],
         "xaxis": "x2",
         "y": [
          22.299999237060543,
          26.549999237060547,
          15.279999732971186,
          16.700000762939453,
          16.20000076293945,
          21.149999618530277,
          20.57999992370605,
          15.499999999999996,
          20.090000152587887,
          25.299999237060543
         ],
         "yaxis": "y2"
        },
        {
         "mode": "markers",
         "name": "Ticker BC",
         "type": "scatter",
         "x": [
          4.23,
          4.52,
          4.71,
          3.62,
          2.08,
          2.12,
          4.8,
          4.41,
          3.54,
          4.79
         ],
         "xaxis": "x",
         "y": [
          4.269697449699962,
          4.107589776423775,
          3.5333946002941827,
          3.5587707383536116,
          3.349904087274605,
          3.363841581918742,
          3.0267462864029175,
          2.7033726319915394,
          2.8735646826837065,
          3.1705255511154085
         ],
         "yaxis": "y"
        },
        {
         "mode": "markers",
         "name": "Ticker BC",
         "type": "scatter",
         "x": [
          4.23,
          4.52,
          4.71,
          3.62,
          2.08,
          2.12,
          4.8,
          4.41,
          3.54,
          4.79
         ],
         "xaxis": "x2",
         "y": [
          71.49999999999996,
          60.79999923706053,
          34.2400016784668,
          35.11999893188476,
          28.499999999999996,
          28.89999961853027,
          20.6299991607666,
          14.930000305175776,
          17.70000076293945,
          23.81999969482422
         ],
         "yaxis": "y2"
        },
        {
         "mode": "markers",
         "name": "Ticker CLI",
         "type": "scatter",
         "x": [
          3.05,
          2.73,
          2.13,
          3.6,
          4.26,
          1.57,
          1.8,
          2.27,
          4.91,
          2.74
         ],
         "xaxis": "x",
         "y": [
          1.0543119898966447,
          1.2412686000947695,
          0.9001613654511708,
          0.9162907318741551,
          1.007957923880542,
          1.2584609841914016,
          1.1052568250710544,
          1.1933162536324886,
          0.9895412148852936,
          0.6418538736240484
         ],
         "yaxis": "y"
        },
        {
         "mode": "markers",
         "name": "Ticker CLI",
         "type": "scatter",
         "x": [
          3.05,
          2.73,
          2.13,
          3.6,
          4.26,
          1.57,
          1.8,
          2.27,
          4.91,
          2.74
         ],
         "xaxis": "x2",
         "y": [
          2.869999885559082,
          3.4600000381469727,
          2.4600000381469727,
          2.5,
          2.740000009536743,
          3.5199999809265132,
          3.0199999809265137,
          3.29800009727478,
          2.6900000572204585,
          1.899999976158142
         ],
         "yaxis": "y2"
        },
        {
         "mode": "markers",
         "name": "Ticker ELC",
         "type": "scatter",
         "x": [
          2.92,
          2.13,
          2.68,
          3.82,
          3.15,
          3.52,
          5.99,
          4.91,
          5.37,
          4.59
         ],
         "xaxis": "x",
         "y": [
          1.120047588057166,
          1.264126716369702,
          1.1265516697226583,
          1.0885619624476819,
          0.4187103223098387,
          0.9082585678678127,
          0.6097655897614381,
          0.6418538736240484,
          0.5704144453674508,
          0.5709795358097567
         ],
         "yaxis": "y"
        },
        {
         "mode": "markers",
         "name": "Ticker ELC",
         "type": "scatter",
         "x": [
          2.92,
          2.13,
          2.68,
          3.82,
          3.15,
          3.52,
          5.99,
          4.91,
          5.37,
          4.59
         ],
         "xaxis": "x2",
         "y": [
          3.065000057220459,
          3.5399999618530273,
          3.0850000381469727,
          2.9700000286102286,
          1.5199999809265137,
          2.4800000190734863,
          1.840000033378601,
          1.899999976158142,
          1.7690000534057615,
          1.7699999809265134
         ],
         "yaxis": "y2"
        },
        {
         "mode": "markers",
         "name": "Ticker GPI",
         "type": "scatter",
         "x": [
          6.32,
          6.19,
          6.32,
          4.31,
          3.78,
          7.01,
          6.79,
          5.07,
          10.4,
          7.36
         ],
         "xaxis": "x",
         "y": [
          2.653241951175182,
          2.803360380906535,
          2.101692187922208,
          2.0464016580303386,
          2.121063234666565,
          2.3702437236421723,
          2.3223877015907286,
          2.282382405139267,
          null,
          null
         ],
         "yaxis": "y"
        },
        {
         "mode": "markers",
         "name": "Ticker GPI",
         "type": "scatter",
         "x": [
          6.32,
          6.19,
          6.32,
          4.31,
          3.78,
          7.01,
          6.79,
          5.07,
          10.4,
          7.36
         ],
         "xaxis": "x2",
         "y": [
          14.199999809265131,
          16.499999999999996,
          8.180000305175781,
          7.739999771118162,
          8.340000152587889,
          10.699999809265137,
          10.199999809265133,
          9.800000190734862,
          null,
          null
         ],
         "yaxis": "y2"
        },
        {
         "mode": "markers",
         "name": "Ticker SRI",
         "type": "scatter",
         "x": [
          3.58,
          2.66,
          3.24,
          2.91,
          1.17,
          1.4,
          1.72,
          2.99,
          5.61,
          5.3
         ],
         "xaxis": "x",
         "y": [
          0.18647960255701124,
          0.7443154761953833,
          0.8285518009080817,
          1.169381368441481,
          1.2974631708642825,
          1.911022923913132,
          1.2974631708642825,
          1.341296964264569,
          1.3942625468528604,
          1.4148818606044733
         ],
         "yaxis": "y"
        },
        {
         "mode": "markers",
         "name": "Ticker SRI",
         "type": "scatter",
         "x": [
          3.58,
          2.66,
          3.24,
          2.91,
          1.17,
          1.4,
          1.72,
          2.99,
          5.61,
          5.3
         ],
         "xaxis": "x2",
         "y": [
          1.2050000429153442,
          2.1050000190734863,
          2.289999961853028,
          3.2200000286102286,
          3.660000085830689,
          6.760000228881836,
          3.660000085830689,
          3.8239998817443848,
          4.0320000648498535,
          4.116000175476073
         ],
         "yaxis": "y2"
        },
        {
         "mode": "markers",
         "name": "Ticker ALA",
         "type": "scatter",
         "x": [
          4.79,
          6.55,
          5.82,
          5.44,
          5.08,
          5.07,
          3.77,
          3.53,
          2.24,
          6.84
         ],
         "xaxis": "x",
         "y": [
          2.4680995476355903,
          2.3655598563366795,
          null,
          null,
          null,
          null,
          null,
          null,
          null,
          null
         ],
         "yaxis": "y"
        },
        {
         "mode": "markers",
         "name": "Ticker ALA",
         "type": "scatter",
         "x": [
          4.79,
          6.55,
          5.82,
          5.44,
          5.08,
          5.07,
          3.77,
          3.53,
          2.24,
          6.84
         ],
         "xaxis": "x2",
         "y": [
          11.80000019073486,
          10.64999961853027,
          null,
          null,
          null,
          null,
          null,
          null,
          null,
          null
         ],
         "yaxis": "y2"
        },
        {
         "mode": "markers",
         "name": "Ticker ICF",
         "type": "scatter",
         "x": [
          4.42,
          7.6,
          7.93,
          7.56,
          4.42,
          4.48,
          3.6,
          6.43,
          5.01,
          3.82
         ],
         "xaxis": "x",
         "y": [
          1.7155980979710415,
          1.8277698730198415,
          1.6974487967434386,
          null,
          null,
          null,
          null,
          null,
          null,
          null
         ],
         "yaxis": "y"
        },
        {
         "mode": "markers",
         "name": "Ticker ICF",
         "type": "scatter",
         "x": [
          4.42,
          7.6,
          7.93,
          7.56,
          4.42,
          4.48,
          3.6,
          6.43,
          5.01,
          3.82
         ],
         "xaxis": "x2",
         "y": [
          5.55999994277954,
          6.2199997901916495,
          5.460000038146972,
          null,
          null,
          null,
          null,
          null,
          null,
          null
         ],
         "yaxis": "y2"
        },
        {
         "mode": "markers",
         "name": "Ticker ENV",
         "type": "scatter",
         "x": [
          2.42,
          2,
          10.77,
          4.06,
          2.9,
          11.49,
          3.06,
          3.45,
          4.15,
          6.85
         ],
         "xaxis": "x",
         "y": [
          1.190887553182456,
          1.3350010541839938,
          1.1939224540228235,
          1.2208299523375428,
          1.1847899790762915,
          1.2470322992672698,
          1.0224509174110963,
          1.0260415821605242,
          1.249901738946927,
          1.1499389134175557
         ],
         "yaxis": "y"
        },
        {
         "mode": "markers",
         "name": "Ticker ENV",
         "type": "scatter",
         "x": [
          2.42,
          2,
          10.77,
          4.06,
          2.9,
          11.49,
          3.06,
          3.45,
          4.15,
          6.85
         ],
         "xaxis": "x2",
         "y": [
          3.289999961853028,
          3.799999952316284,
          3.2999999523162837,
          3.390000104904175,
          3.2699999809265132,
          3.480000019073486,
          2.7799999713897705,
          2.7899999618530273,
          3.4900000095367427,
          3.1579999923706046
         ],
         "yaxis": "y2"
        },
        {
         "mode": "markers",
         "name": "Ticker MASI",
         "type": "scatter",
         "x": [
          2.36,
          2.76,
          1.31,
          1.58,
          1.58,
          2.17,
          3.74,
          3.18,
          3.29,
          2.85
         ],
         "xaxis": "x",
         "y": [
          1.5062972042644385,
          1.348073123528931,
          0.943905872931563,
          1.1568812177849161,
          1.348073123528931,
          1.5040773967762742,
          1.4609378908394477,
          1.4816045625986316,
          null,
          null
         ],
         "yaxis": "y"
        },
        {
         "mode": "markers",
         "name": "Ticker MASI",
         "type": "scatter",
         "x": [
          2.36,
          2.76,
          1.31,
          1.58,
          1.58,
          2.17,
          3.74,
          3.18,
          3.29,
          2.85
         ],
         "xaxis": "x2",
         "y": [
          4.510000228881836,
          3.8499999046325675,
          2.569999933242798,
          3.180000066757202,
          3.8499999046325675,
          4.5,
          4.30999994277954,
          4.400000095367432,
          null,
          null
         ],
         "yaxis": "y2"
        },
        {
         "mode": "markers",
         "name": "Ticker SVS",
         "type": "scatter",
         "x": [
          4.67,
          5.29,
          7.52,
          8.92,
          7.75,
          6.76,
          7,
          10.72,
          9.56,
          11.1
         ],
         "xaxis": "x",
         "y": [
          2.3015845697493673,
          null,
          null,
          null,
          null,
          null,
          null,
          null,
          null,
          null
         ],
         "yaxis": "y"
        },
        {
         "mode": "markers",
         "name": "Ticker SVS",
         "type": "scatter",
         "x": [
          4.67,
          5.29,
          7.52,
          8.92,
          7.75,
          6.76,
          7,
          10.72,
          9.56,
          11.1
         ],
         "xaxis": "x2",
         "y": [
          9.989999771118164,
          null,
          null,
          null,
          null,
          null,
          null,
          null,
          null,
          null
         ],
         "yaxis": "y2"
        },
        {
         "mode": "markers",
         "name": "Ticker STAR7",
         "type": "scatter",
         "x": [
          8.5,
          2.38,
          1.12,
          0.87,
          0.88,
          1.08,
          2.63,
          3.21,
          8.75,
          8.44
         ],
         "xaxis": "x",
         "y": [
          2.1679101634795908,
          2.264883237693826,
          null,
          null,
          null,
          null,
          null,
          null,
          null,
          null
         ],
         "yaxis": "y"
        },
        {
         "mode": "markers",
         "name": "Ticker STAR7",
         "type": "scatter",
         "x": [
          8.5,
          2.38,
          1.12,
          0.87,
          0.88,
          1.08,
          2.63,
          3.21,
          8.75,
          8.44
         ],
         "xaxis": "x2",
         "y": [
          8.739999771118164,
          9.630000114440916,
          null,
          null,
          null,
          null,
          null,
          null,
          null,
          null
         ],
         "yaxis": "y2"
        },
        {
         "mode": "markers",
         "name": "Ticker SCK",
         "type": "scatter",
         "x": [
          3.46,
          6.95,
          9.68,
          6.69,
          9.44,
          7.53,
          7.14,
          9.49,
          16.92,
          11.1
         ],
         "xaxis": "x",
         "y": [
          2.0333975857027218,
          2.356125878001209,
          1.1151415749853149,
          0.15700371212988268,
          -0.31471071871163714,
          null,
          null,
          null,
          null,
          null
         ],
         "yaxis": "y"
        },
        {
         "mode": "markers",
         "name": "Ticker SCK",
         "type": "scatter",
         "x": [
          3.46,
          6.95,
          9.68,
          6.69,
          9.44,
          7.53,
          7.14,
          9.49,
          16.92,
          11.1
         ],
         "xaxis": "x2",
         "y": [
          7.639999866485597,
          10.55000019073486,
          3.0499999523162837,
          1.1699999570846558,
          0.7300000190734863,
          null,
          null,
          null,
          null,
          null
         ],
         "yaxis": "y2"
        },
        {
         "mode": "markers",
         "name": "Ticker MARP",
         "type": "scatter",
         "x": [
          2.73,
          2.13,
          2.03,
          6.48,
          2.44,
          3.03,
          2.99,
          4.77,
          4.63,
          3.78
         ],
         "xaxis": "x",
         "y": [
          1.4060969697165737,
          1.5475624681341262,
          1.0296194001512595,
          1.508511989624342,
          null,
          null,
          null,
          null,
          null,
          null
         ],
         "yaxis": "y"
        },
        {
         "mode": "markers",
         "name": "Ticker MARP",
         "type": "scatter",
         "x": [
          2.73,
          2.13,
          2.03,
          6.48,
          2.44,
          3.03,
          2.99,
          4.77,
          4.63,
          3.78
         ],
         "xaxis": "x2",
         "y": [
          4.079999923706054,
          4.699999809265136,
          2.7999999523162837,
          4.519999980926514,
          null,
          null,
          null,
          null,
          null,
          null
         ],
         "yaxis": "y2"
        },
        {
         "mode": "markers",
         "name": "Ticker ITD",
         "type": "scatter",
         "x": [
          0.83,
          0.69,
          1.24,
          2.29,
          2.48,
          1.96,
          1.79,
          2.02,
          1.86,
          2.37
         ],
         "xaxis": "x",
         "y": [
          2.6672281800910014,
          2.972975247406338,
          2.3513752571634776,
          1.8082887555452603,
          1.0986122886681098,
          null,
          null,
          null,
          null,
          null
         ],
         "yaxis": "y"
        },
        {
         "mode": "markers",
         "name": "Ticker ITD",
         "type": "scatter",
         "x": [
          0.83,
          0.69,
          1.24,
          2.29,
          2.48,
          1.96,
          1.79,
          2.02,
          1.86,
          2.37
         ],
         "xaxis": "x2",
         "y": [
          14.399999618530272,
          19.549999237060543,
          10.499999999999998,
          6.0999999046325675,
          3,
          null,
          null,
          null,
          null,
          null
         ],
         "yaxis": "y2"
        },
        {
         "mode": "markers",
         "name": "Ticker VIM",
         "type": "scatter",
         "x": [
          2.07,
          1.91,
          1.83,
          1.54,
          1.07,
          0.96,
          0.7,
          1.03,
          2.24,
          2.6
         ],
         "xaxis": "x",
         "y": [
          0.13102824985805775,
          0.4637340372249708,
          0.18232159653038368,
          0.7654678864965156,
          1.0818051865157,
          null,
          null,
          null,
          null,
          null
         ],
         "yaxis": "y"
        },
        {
         "mode": "markers",
         "name": "Ticker VIM",
         "type": "scatter",
         "x": [
          2.07,
          1.91,
          1.83,
          1.54,
          1.07,
          0.96,
          0.7,
          1.03,
          2.24,
          2.6
         ],
         "xaxis": "x2",
         "y": [
          1.1399999856948853,
          1.590000033378601,
          1.2000000476837158,
          2.150000095367432,
          2.950000047683716,
          null,
          null,
          null,
          null,
          null
         ],
         "yaxis": "y2"
        },
        {
         "mode": "markers",
         "name": "Ticker MDC",
         "type": "scatter",
         "x": [
          1.5,
          1.78,
          1.44,
          1.71,
          1.83,
          1.75,
          1.96,
          1.68,
          4.15,
          4.87
         ],
         "xaxis": "x",
         "y": [
          3.228826155721369,
          3.640214242083339,
          null,
          null,
          null,
          null,
          null,
          null,
          null,
          null
         ],
         "yaxis": "y"
        },
        {
         "mode": "markers",
         "name": "Ticker MDC",
         "type": "scatter",
         "x": [
          1.5,
          1.78,
          1.44,
          1.71,
          1.83,
          1.75,
          1.96,
          1.68,
          4.15,
          4.87
         ],
         "xaxis": "x2",
         "y": [
          25.249999999999996,
          38.09999847412107,
          null,
          null,
          null,
          null,
          null,
          null,
          null,
          null
         ],
         "yaxis": "y2"
        },
        {
         "mode": "markers",
         "name": "Ticker ILP",
         "type": "scatter",
         "x": [
          1.78,
          1.71,
          2.53,
          3.47,
          7.13,
          9.8,
          10.69,
          9.52,
          9.25,
          7.02
         ],
         "xaxis": "x",
         "y": [
          1.490654389331624,
          1.508511989624342,
          0.7129497891566287,
          0.779324907423567,
          null,
          null,
          null,
          null,
          null,
          null
         ],
         "yaxis": "y"
        },
        {
         "mode": "markers",
         "name": "Ticker ILP",
         "type": "scatter",
         "x": [
          1.78,
          1.71,
          2.53,
          3.47,
          7.13,
          9.8,
          10.69,
          9.52,
          9.25,
          7.02
         ],
         "xaxis": "x2",
         "y": [
          4.440000057220458,
          4.519999980926514,
          2.039999961853028,
          2.180000066757202,
          null,
          null,
          null,
          null,
          null,
          null
         ],
         "yaxis": "y2"
        },
        {
         "mode": "markers",
         "name": "Ticker CFL",
         "type": "scatter",
         "x": [
          1.75,
          1.5,
          1.36,
          1.57,
          1.9,
          1.37,
          1.53,
          2.04,
          3.34,
          3.67
         ],
         "xaxis": "x",
         "y": [
          2.536866415880321,
          2.7549338039876257,
          null,
          null,
          null,
          null,
          null,
          null,
          null,
          null
         ],
         "yaxis": "y"
        },
        {
         "mode": "markers",
         "name": "Ticker CFL",
         "type": "scatter",
         "x": [
          1.75,
          1.5,
          1.36,
          1.57,
          1.9,
          1.37,
          1.53,
          2.04,
          3.34,
          3.67
         ],
         "xaxis": "x2",
         "y": [
          12.64000034332275,
          15.720000267028805,
          null,
          null,
          null,
          null,
          null,
          null,
          null,
          null
         ],
         "yaxis": "y2"
        },
        {
         "mode": "markers",
         "name": "Ticker FCM",
         "type": "scatter",
         "x": [
          5.69,
          3.33,
          4.81,
          6.19,
          7.82,
          5.46,
          6.45,
          7.58,
          9.88,
          9.69
         ],
         "xaxis": "x",
         "y": [
          0.12221762850445134,
          0.2350721108710924,
          0.2350721108710924,
          0.47933496257972397,
          null,
          null,
          null,
          null,
          null,
          null
         ],
         "yaxis": "y"
        },
        {
         "mode": "markers",
         "name": "Ticker FCM",
         "type": "scatter",
         "x": [
          5.69,
          3.33,
          4.81,
          6.19,
          7.82,
          5.46,
          6.45,
          7.58,
          9.88,
          9.69
         ],
         "xaxis": "x2",
         "y": [
          1.1299999952316284,
          1.2649999856948853,
          1.2649999856948853,
          1.6150000095367432,
          null,
          null,
          null,
          null,
          null,
          null
         ],
         "yaxis": "y2"
        },
        {
         "mode": "markers",
         "name": "Ticker FVI",
         "type": "scatter",
         "x": [
          0.7,
          0.58,
          0.32,
          1.79,
          0.62,
          0.34,
          0.98,
          1.83,
          1.68,
          3.55
         ],
         "xaxis": "x",
         "y": [
          2.7440606508911505,
          2.69462719365756,
          2.509599277885271,
          2.4248027425974863,
          2.4061257641178835,
          null,
          null,
          null,
          null,
          null
         ],
         "yaxis": "y"
        },
        {
         "mode": "markers",
         "name": "Ticker FVI",
         "type": "scatter",
         "x": [
          0.7,
          0.58,
          0.32,
          1.79,
          0.62,
          0.34,
          0.98,
          1.83,
          1.68,
          3.55
         ],
         "xaxis": "x2",
         "y": [
          15.550000190734858,
          14.800000190734858,
          12.30000019073486,
          11.300000190734863,
          11.090909004211426,
          null,
          null,
          null,
          null,
          null
         ],
         "yaxis": "y2"
        },
        {
         "mode": "markers",
         "name": "Ticker PLT",
         "type": "scatter",
         "x": [
          2.52,
          1.99,
          1.51,
          1.35,
          0.85,
          0.6,
          1.15,
          0.47,
          2.64,
          4.79
         ],
         "xaxis": "x",
         "y": [
          null,
          null,
          null,
          null,
          null,
          null,
          null,
          null,
          null,
          null
         ],
         "yaxis": "y"
        },
        {
         "mode": "markers",
         "name": "Ticker PLT",
         "type": "scatter",
         "x": [
          2.52,
          1.99,
          1.51,
          1.35,
          0.85,
          0.6,
          1.15,
          0.47,
          2.64,
          4.79
         ],
         "xaxis": "x2",
         "y": [
          null,
          null,
          null,
          null,
          null,
          null,
          null,
          null,
          null,
          null
         ],
         "yaxis": "y2"
        },
        {
         "mode": "markers",
         "name": "Ticker LDB",
         "type": "scatter",
         "x": [
          7.06,
          1.07,
          1.7,
          1.74,
          2.1,
          2.47,
          2.48,
          2.82,
          3.36,
          4.3
         ],
         "xaxis": "x",
         "y": [
          0.6291418754934363,
          0.7952523647473517,
          null,
          null,
          null,
          null,
          null,
          null,
          null,
          null
         ],
         "yaxis": "y"
        },
        {
         "mode": "markers",
         "name": "Ticker LDB",
         "type": "scatter",
         "x": [
          7.06,
          1.07,
          1.7,
          1.74,
          2.1,
          2.47,
          2.48,
          2.82,
          3.36,
          4.3
         ],
         "xaxis": "x2",
         "y": [
          1.876000046730041,
          2.2149999141693115,
          null,
          null,
          null,
          null,
          null,
          null,
          null,
          null
         ],
         "yaxis": "y2"
        },
        {
         "mode": "markers",
         "name": "Ticker FOS",
         "type": "scatter",
         "x": [
          1.6,
          2,
          3.46,
          3.72,
          2.48,
          5.8,
          4.69,
          4.11,
          7.86,
          7.67
         ],
         "xaxis": "x",
         "y": [
          1.2119409427536318,
          1.3506671562994919,
          0.9082585678678127,
          1.1426291710428607,
          null,
          null,
          null,
          null,
          null,
          null
         ],
         "yaxis": "y"
        },
        {
         "mode": "markers",
         "name": "Ticker FOS",
         "type": "scatter",
         "x": [
          1.6,
          2,
          3.46,
          3.72,
          2.48,
          5.8,
          4.69,
          4.11,
          7.86,
          7.67
         ],
         "xaxis": "x2",
         "y": [
          3.359999895095825,
          3.859999895095825,
          2.4800000190734863,
          3.1349999904632564,
          null,
          null,
          null,
          null,
          null,
          null
         ],
         "yaxis": "y2"
        },
        {
         "mode": "markers",
         "name": "Ticker BAN",
         "type": "scatter",
         "x": [
          4.1,
          1.86,
          1.56,
          1.4,
          1.69,
          1.42,
          2.01,
          3.1,
          9.1,
          8.35
         ],
         "xaxis": "x",
         "y": [
          1.6992785780777009,
          1.814824720414034,
          1.4586150670564606,
          1.6677068565457855,
          1.4929040533163809,
          1.3244189548654353,
          1.2005670192292972,
          1.4683350732132154,
          0.8162494147953161,
          0.8862438592669583
         ],
         "yaxis": "y"
        },
        {
         "mode": "markers",
         "name": "Ticker BAN",
         "type": "scatter",
         "x": [
          4.1,
          1.86,
          1.56,
          1.4,
          1.69,
          1.42,
          2.01,
          3.1,
          9.1,
          8.35
         ],
         "xaxis": "x2",
         "y": [
          5.46999979019165,
          6.139999866485596,
          4.300000190734862,
          5.300000190734862,
          4.449999809265136,
          3.7599999904632564,
          3.3220000267028804,
          4.3420000076293945,
          2.26200008392334,
          2.4260001182556152
         ],
         "yaxis": "y2"
        }
       ],
       "layout": {
        "showlegend": false,
        "template": {
         "data": {
          "bar": [
           {
            "error_x": {
             "color": "#2a3f5f"
            },
            "error_y": {
             "color": "#2a3f5f"
            },
            "marker": {
             "line": {
              "color": "#E5ECF6",
              "width": 0.5
             },
             "pattern": {
              "fillmode": "overlay",
              "size": 10,
              "solidity": 0.2
             }
            },
            "type": "bar"
           }
          ],
          "barpolar": [
           {
            "marker": {
             "line": {
              "color": "#E5ECF6",
              "width": 0.5
             },
             "pattern": {
              "fillmode": "overlay",
              "size": 10,
              "solidity": 0.2
             }
            },
            "type": "barpolar"
           }
          ],
          "carpet": [
           {
            "aaxis": {
             "endlinecolor": "#2a3f5f",
             "gridcolor": "white",
             "linecolor": "white",
             "minorgridcolor": "white",
             "startlinecolor": "#2a3f5f"
            },
            "baxis": {
             "endlinecolor": "#2a3f5f",
             "gridcolor": "white",
             "linecolor": "white",
             "minorgridcolor": "white",
             "startlinecolor": "#2a3f5f"
            },
            "type": "carpet"
           }
          ],
          "choropleth": [
           {
            "colorbar": {
             "outlinewidth": 0,
             "ticks": ""
            },
            "type": "choropleth"
           }
          ],
          "contour": [
           {
            "colorbar": {
             "outlinewidth": 0,
             "ticks": ""
            },
            "colorscale": [
             [
              0,
              "#0d0887"
             ],
             [
              0.1111111111111111,
              "#46039f"
             ],
             [
              0.2222222222222222,
              "#7201a8"
             ],
             [
              0.3333333333333333,
              "#9c179e"
             ],
             [
              0.4444444444444444,
              "#bd3786"
             ],
             [
              0.5555555555555556,
              "#d8576b"
             ],
             [
              0.6666666666666666,
              "#ed7953"
             ],
             [
              0.7777777777777778,
              "#fb9f3a"
             ],
             [
              0.8888888888888888,
              "#fdca26"
             ],
             [
              1,
              "#f0f921"
             ]
            ],
            "type": "contour"
           }
          ],
          "contourcarpet": [
           {
            "colorbar": {
             "outlinewidth": 0,
             "ticks": ""
            },
            "type": "contourcarpet"
           }
          ],
          "heatmap": [
           {
            "colorbar": {
             "outlinewidth": 0,
             "ticks": ""
            },
            "colorscale": [
             [
              0,
              "#0d0887"
             ],
             [
              0.1111111111111111,
              "#46039f"
             ],
             [
              0.2222222222222222,
              "#7201a8"
             ],
             [
              0.3333333333333333,
              "#9c179e"
             ],
             [
              0.4444444444444444,
              "#bd3786"
             ],
             [
              0.5555555555555556,
              "#d8576b"
             ],
             [
              0.6666666666666666,
              "#ed7953"
             ],
             [
              0.7777777777777778,
              "#fb9f3a"
             ],
             [
              0.8888888888888888,
              "#fdca26"
             ],
             [
              1,
              "#f0f921"
             ]
            ],
            "type": "heatmap"
           }
          ],
          "heatmapgl": [
           {
            "colorbar": {
             "outlinewidth": 0,
             "ticks": ""
            },
            "colorscale": [
             [
              0,
              "#0d0887"
             ],
             [
              0.1111111111111111,
              "#46039f"
             ],
             [
              0.2222222222222222,
              "#7201a8"
             ],
             [
              0.3333333333333333,
              "#9c179e"
             ],
             [
              0.4444444444444444,
              "#bd3786"
             ],
             [
              0.5555555555555556,
              "#d8576b"
             ],
             [
              0.6666666666666666,
              "#ed7953"
             ],
             [
              0.7777777777777778,
              "#fb9f3a"
             ],
             [
              0.8888888888888888,
              "#fdca26"
             ],
             [
              1,
              "#f0f921"
             ]
            ],
            "type": "heatmapgl"
           }
          ],
          "histogram": [
           {
            "marker": {
             "pattern": {
              "fillmode": "overlay",
              "size": 10,
              "solidity": 0.2
             }
            },
            "type": "histogram"
           }
          ],
          "histogram2d": [
           {
            "colorbar": {
             "outlinewidth": 0,
             "ticks": ""
            },
            "colorscale": [
             [
              0,
              "#0d0887"
             ],
             [
              0.1111111111111111,
              "#46039f"
             ],
             [
              0.2222222222222222,
              "#7201a8"
             ],
             [
              0.3333333333333333,
              "#9c179e"
             ],
             [
              0.4444444444444444,
              "#bd3786"
             ],
             [
              0.5555555555555556,
              "#d8576b"
             ],
             [
              0.6666666666666666,
              "#ed7953"
             ],
             [
              0.7777777777777778,
              "#fb9f3a"
             ],
             [
              0.8888888888888888,
              "#fdca26"
             ],
             [
              1,
              "#f0f921"
             ]
            ],
            "type": "histogram2d"
           }
          ],
          "histogram2dcontour": [
           {
            "colorbar": {
             "outlinewidth": 0,
             "ticks": ""
            },
            "colorscale": [
             [
              0,
              "#0d0887"
             ],
             [
              0.1111111111111111,
              "#46039f"
             ],
             [
              0.2222222222222222,
              "#7201a8"
             ],
             [
              0.3333333333333333,
              "#9c179e"
             ],
             [
              0.4444444444444444,
              "#bd3786"
             ],
             [
              0.5555555555555556,
              "#d8576b"
             ],
             [
              0.6666666666666666,
              "#ed7953"
             ],
             [
              0.7777777777777778,
              "#fb9f3a"
             ],
             [
              0.8888888888888888,
              "#fdca26"
             ],
             [
              1,
              "#f0f921"
             ]
            ],
            "type": "histogram2dcontour"
           }
          ],
          "mesh3d": [
           {
            "colorbar": {
             "outlinewidth": 0,
             "ticks": ""
            },
            "type": "mesh3d"
           }
          ],
          "parcoords": [
           {
            "line": {
             "colorbar": {
              "outlinewidth": 0,
              "ticks": ""
             }
            },
            "type": "parcoords"
           }
          ],
          "pie": [
           {
            "automargin": true,
            "type": "pie"
           }
          ],
          "scatter": [
           {
            "fillpattern": {
             "fillmode": "overlay",
             "size": 10,
             "solidity": 0.2
            },
            "type": "scatter"
           }
          ],
          "scatter3d": [
           {
            "line": {
             "colorbar": {
              "outlinewidth": 0,
              "ticks": ""
             }
            },
            "marker": {
             "colorbar": {
              "outlinewidth": 0,
              "ticks": ""
             }
            },
            "type": "scatter3d"
           }
          ],
          "scattercarpet": [
           {
            "marker": {
             "colorbar": {
              "outlinewidth": 0,
              "ticks": ""
             }
            },
            "type": "scattercarpet"
           }
          ],
          "scattergeo": [
           {
            "marker": {
             "colorbar": {
              "outlinewidth": 0,
              "ticks": ""
             }
            },
            "type": "scattergeo"
           }
          ],
          "scattergl": [
           {
            "marker": {
             "colorbar": {
              "outlinewidth": 0,
              "ticks": ""
             }
            },
            "type": "scattergl"
           }
          ],
          "scattermapbox": [
           {
            "marker": {
             "colorbar": {
              "outlinewidth": 0,
              "ticks": ""
             }
            },
            "type": "scattermapbox"
           }
          ],
          "scatterpolar": [
           {
            "marker": {
             "colorbar": {
              "outlinewidth": 0,
              "ticks": ""
             }
            },
            "type": "scatterpolar"
           }
          ],
          "scatterpolargl": [
           {
            "marker": {
             "colorbar": {
              "outlinewidth": 0,
              "ticks": ""
             }
            },
            "type": "scatterpolargl"
           }
          ],
          "scatterternary": [
           {
            "marker": {
             "colorbar": {
              "outlinewidth": 0,
              "ticks": ""
             }
            },
            "type": "scatterternary"
           }
          ],
          "surface": [
           {
            "colorbar": {
             "outlinewidth": 0,
             "ticks": ""
            },
            "colorscale": [
             [
              0,
              "#0d0887"
             ],
             [
              0.1111111111111111,
              "#46039f"
             ],
             [
              0.2222222222222222,
              "#7201a8"
             ],
             [
              0.3333333333333333,
              "#9c179e"
             ],
             [
              0.4444444444444444,
              "#bd3786"
             ],
             [
              0.5555555555555556,
              "#d8576b"
             ],
             [
              0.6666666666666666,
              "#ed7953"
             ],
             [
              0.7777777777777778,
              "#fb9f3a"
             ],
             [
              0.8888888888888888,
              "#fdca26"
             ],
             [
              1,
              "#f0f921"
             ]
            ],
            "type": "surface"
           }
          ],
          "table": [
           {
            "cells": {
             "fill": {
              "color": "#EBF0F8"
             },
             "line": {
              "color": "white"
             }
            },
            "header": {
             "fill": {
              "color": "#C8D4E3"
             },
             "line": {
              "color": "white"
             }
            },
            "type": "table"
           }
          ]
         },
         "layout": {
          "annotationdefaults": {
           "arrowcolor": "#2a3f5f",
           "arrowhead": 0,
           "arrowwidth": 1
          },
          "autotypenumbers": "strict",
          "coloraxis": {
           "colorbar": {
            "outlinewidth": 0,
            "ticks": ""
           }
          },
          "colorscale": {
           "diverging": [
            [
             0,
             "#8e0152"
            ],
            [
             0.1,
             "#c51b7d"
            ],
            [
             0.2,
             "#de77ae"
            ],
            [
             0.3,
             "#f1b6da"
            ],
            [
             0.4,
             "#fde0ef"
            ],
            [
             0.5,
             "#f7f7f7"
            ],
            [
             0.6,
             "#e6f5d0"
            ],
            [
             0.7,
             "#b8e186"
            ],
            [
             0.8,
             "#7fbc41"
            ],
            [
             0.9,
             "#4d9221"
            ],
            [
             1,
             "#276419"
            ]
           ],
           "sequential": [
            [
             0,
             "#0d0887"
            ],
            [
             0.1111111111111111,
             "#46039f"
            ],
            [
             0.2222222222222222,
             "#7201a8"
            ],
            [
             0.3333333333333333,
             "#9c179e"
            ],
            [
             0.4444444444444444,
             "#bd3786"
            ],
            [
             0.5555555555555556,
             "#d8576b"
            ],
            [
             0.6666666666666666,
             "#ed7953"
            ],
            [
             0.7777777777777778,
             "#fb9f3a"
            ],
            [
             0.8888888888888888,
             "#fdca26"
            ],
            [
             1,
             "#f0f921"
            ]
           ],
           "sequentialminus": [
            [
             0,
             "#0d0887"
            ],
            [
             0.1111111111111111,
             "#46039f"
            ],
            [
             0.2222222222222222,
             "#7201a8"
            ],
            [
             0.3333333333333333,
             "#9c179e"
            ],
            [
             0.4444444444444444,
             "#bd3786"
            ],
            [
             0.5555555555555556,
             "#d8576b"
            ],
            [
             0.6666666666666666,
             "#ed7953"
            ],
            [
             0.7777777777777778,
             "#fb9f3a"
            ],
            [
             0.8888888888888888,
             "#fdca26"
            ],
            [
             1,
             "#f0f921"
            ]
           ]
          },
          "colorway": [
           "#636efa",
           "#EF553B",
           "#00cc96",
           "#ab63fa",
           "#FFA15A",
           "#19d3f3",
           "#FF6692",
           "#B6E880",
           "#FF97FF",
           "#FECB52"
          ],
          "font": {
           "color": "#2a3f5f"
          },
          "geo": {
           "bgcolor": "white",
           "lakecolor": "white",
           "landcolor": "#E5ECF6",
           "showlakes": true,
           "showland": true,
           "subunitcolor": "white"
          },
          "hoverlabel": {
           "align": "left"
          },
          "hovermode": "closest",
          "mapbox": {
           "style": "light"
          },
          "paper_bgcolor": "white",
          "plot_bgcolor": "#E5ECF6",
          "polar": {
           "angularaxis": {
            "gridcolor": "white",
            "linecolor": "white",
            "ticks": ""
           },
           "bgcolor": "#E5ECF6",
           "radialaxis": {
            "gridcolor": "white",
            "linecolor": "white",
            "ticks": ""
           }
          },
          "scene": {
           "xaxis": {
            "backgroundcolor": "#E5ECF6",
            "gridcolor": "white",
            "gridwidth": 2,
            "linecolor": "white",
            "showbackground": true,
            "ticks": "",
            "zerolinecolor": "white"
           },
           "yaxis": {
            "backgroundcolor": "#E5ECF6",
            "gridcolor": "white",
            "gridwidth": 2,
            "linecolor": "white",
            "showbackground": true,
            "ticks": "",
            "zerolinecolor": "white"
           },
           "zaxis": {
            "backgroundcolor": "#E5ECF6",
            "gridcolor": "white",
            "gridwidth": 2,
            "linecolor": "white",
            "showbackground": true,
            "ticks": "",
            "zerolinecolor": "white"
           }
          },
          "shapedefaults": {
           "line": {
            "color": "#2a3f5f"
           }
          },
          "ternary": {
           "aaxis": {
            "gridcolor": "white",
            "linecolor": "white",
            "ticks": ""
           },
           "baxis": {
            "gridcolor": "white",
            "linecolor": "white",
            "ticks": ""
           },
           "bgcolor": "#E5ECF6",
           "caxis": {
            "gridcolor": "white",
            "linecolor": "white",
            "ticks": ""
           }
          },
          "title": {
           "x": 0.05
          },
          "xaxis": {
           "automargin": true,
           "gridcolor": "white",
           "linecolor": "white",
           "ticks": "",
           "title": {
            "standoff": 15
           },
           "zerolinecolor": "white",
           "zerolinewidth": 2
          },
          "yaxis": {
           "automargin": true,
           "gridcolor": "white",
           "linecolor": "white",
           "ticks": "",
           "title": {
            "standoff": 15
           },
           "zerolinecolor": "white",
           "zerolinewidth": 2
          }
         }
        },
        "title": {
         "text": "Relazione tra Costo_denaro_a_prestito e Valori Borsa"
        },
        "xaxis": {
         "anchor": "y",
         "domain": [
          0,
          0.45
         ]
        },
        "xaxis2": {
         "anchor": "y2",
         "domain": [
          0.55,
          1
         ]
        },
        "yaxis": {
         "anchor": "x",
         "domain": [
          0,
          1
         ],
         "title": {
          "text": "Log Valori Borsa"
         }
        },
        "yaxis2": {
         "anchor": "x2",
         "domain": [
          0,
          1
         ],
         "title": {
          "text": "Valori Borsa"
         }
        }
       }
      }
     },
     "metadata": {},
     "output_type": "display_data"
    },
    {
     "data": {
      "application/vnd.plotly.v1+json": {
       "config": {
        "plotlyServerURL": "https://plot.ly"
       },
       "data": [
        {
         "mode": "markers",
         "name": "Ticker MARR",
         "type": "scatter",
         "x": [
          0.5,
          0.68,
          0.57,
          0.4,
          0.35,
          0.39,
          0.52,
          0.64,
          0.81,
          0.81
         ],
         "xaxis": "x",
         "y": [
          2.509599277885271,
          2.9349201179417297,
          2.8791984144362717,
          3.054001217665676,
          3.0689827565651293,
          3.07915387116492,
          2.87073576176629,
          2.8887036625848097,
          2.691243082785829,
          2.4849066497880004
         ],
         "yaxis": "y"
        },
        {
         "mode": "markers",
         "name": "Ticker MARR",
         "type": "scatter",
         "x": [
          0.5,
          0.68,
          0.57,
          0.4,
          0.35,
          0.39,
          0.52,
          0.64,
          0.81,
          0.81
         ],
         "xaxis": "x2",
         "y": [
          12.30000019073486,
          18.819999694824215,
          17.799999237060547,
          21.20000076293945,
          21.520000457763665,
          21.73999977111816,
          17.64999961853027,
          17.969999313354485,
          14.749999999999998,
          11.999999999999998
         ],
         "yaxis": "y2"
        },
        {
         "mode": "markers",
         "name": "Ticker PIA",
         "type": "scatter",
         "x": [
          1.62,
          3.85,
          2.23,
          2.18,
          2.9,
          3.77,
          2.97,
          3.1,
          4.06,
          3.65
         ],
         "xaxis": "x",
         "y": [
          1.077048147781857,
          1.0522192777352672,
          0.9962103346242122,
          1.007957923880542,
          0.6392188284692253,
          0.917889432671393,
          0.48365994275805774,
          0.698134717326336,
          0.9066443833247319,
          0.8569652431213597
         ],
         "yaxis": "y"
        },
        {
         "mode": "markers",
         "name": "Ticker PIA",
         "type": "scatter",
         "x": [
          1.62,
          3.85,
          2.23,
          2.18,
          2.9,
          3.77,
          2.97,
          3.1,
          4.06,
          3.65
         ],
         "xaxis": "x2",
         "y": [
          2.9360001087188716,
          2.864000082015991,
          2.7079999446868896,
          2.740000009536743,
          1.8949999809265134,
          2.503999948501587,
          1.621999979019165,
          2.009999990463257,
          2.476000070571899,
          2.3559999465942383
         ],
         "yaxis": "y2"
        },
        {
         "mode": "markers",
         "name": "Ticker BRE",
         "type": "scatter",
         "x": [
          0.81,
          0.65,
          1.18,
          0.52,
          0.68,
          0.38,
          0.46,
          0.76,
          1.24,
          1.42
         ],
         "xaxis": "x",
         "y": [
          2.4033350340342152,
          2.564179813062659,
          2.393218807006317,
          2.404238719152724,
          2.320425041100351,
          2.58475200201879,
          2.4890646757652832,
          2.07969149231976,
          1.6815725236803198,
          1.3681303836941336
         ],
         "yaxis": "y"
        },
        {
         "mode": "markers",
         "name": "Ticker BRE",
         "type": "scatter",
         "x": [
          0.81,
          0.65,
          1.18,
          0.52,
          0.68,
          0.38,
          0.46,
          0.76,
          1.24,
          1.42
         ],
         "xaxis": "x2",
         "y": [
          11.0600004196167,
          12.989999771118162,
          10.948678970336912,
          11.069999694824217,
          10.180000305175781,
          13.260000228881834,
          12.050000190734862,
          8.001999855041504,
          5.374000072479247,
          3.9279999732971187
         ],
         "yaxis": "y2"
        },
        {
         "mode": "markers",
         "name": "Ticker DAN",
         "type": "scatter",
         "x": [
          2.64,
          0.07,
          0.91,
          1.95,
          1.1,
          0.4,
          0.29,
          0.5,
          0.68,
          0.86
         ],
         "xaxis": "x",
         "y": [
          3.104586644253541,
          3.2790297189519984,
          2.7265447662626667,
          2.8154087651077058,
          2.785011289333365,
          3.0516398874558934,
          3.0243197266987147,
          2.740840023925201,
          3.000222186422059,
          3.2308043655777645
         ],
         "yaxis": "y"
        },
        {
         "mode": "markers",
         "name": "Ticker DAN",
         "type": "scatter",
         "x": [
          2.64,
          0.07,
          0.91,
          1.95,
          1.1,
          0.4,
          0.29,
          0.5,
          0.68,
          0.86
         ],
         "xaxis": "x2",
         "y": [
          22.299999237060543,
          26.549999237060547,
          15.279999732971186,
          16.700000762939453,
          16.20000076293945,
          21.149999618530277,
          20.57999992370605,
          15.499999999999996,
          20.090000152587887,
          25.299999237060543
         ],
         "yaxis": "y2"
        },
        {
         "mode": "markers",
         "name": "Ticker BC",
         "type": "scatter",
         "x": [
          0.78,
          1.1,
          1.84,
          0.83,
          0.4,
          0.44,
          1,
          1.06,
          0.9,
          0.83
         ],
         "xaxis": "x",
         "y": [
          4.269697449699962,
          4.107589776423775,
          3.5333946002941827,
          3.5587707383536116,
          3.349904087274605,
          3.363841581918742,
          3.0267462864029175,
          2.7033726319915394,
          2.8735646826837065,
          3.1705255511154085
         ],
         "yaxis": "y"
        },
        {
         "mode": "markers",
         "name": "Ticker BC",
         "type": "scatter",
         "x": [
          0.78,
          1.1,
          1.84,
          0.83,
          0.4,
          0.44,
          1,
          1.06,
          0.9,
          0.83
         ],
         "xaxis": "x2",
         "y": [
          71.49999999999996,
          60.79999923706053,
          34.2400016784668,
          35.11999893188476,
          28.499999999999996,
          28.89999961853027,
          20.6299991607666,
          14.930000305175776,
          17.70000076293945,
          23.81999969482422
         ],
         "yaxis": "y2"
        },
        {
         "mode": "markers",
         "name": "Ticker CLI",
         "type": "scatter",
         "x": [
          0.64,
          0.71,
          1.15,
          1,
          0.74,
          0.3,
          0.33,
          0.41,
          0.54,
          0.37
         ],
         "xaxis": "x",
         "y": [
          1.0543119898966447,
          1.2412686000947695,
          0.9001613654511708,
          0.9162907318741551,
          1.007957923880542,
          1.2584609841914016,
          1.1052568250710544,
          1.1933162536324886,
          0.9895412148852936,
          0.6418538736240484
         ],
         "yaxis": "y"
        },
        {
         "mode": "markers",
         "name": "Ticker CLI",
         "type": "scatter",
         "x": [
          0.64,
          0.71,
          1.15,
          1,
          0.74,
          0.3,
          0.33,
          0.41,
          0.54,
          0.37
         ],
         "xaxis": "x2",
         "y": [
          2.869999885559082,
          3.4600000381469727,
          2.4600000381469727,
          2.5,
          2.740000009536743,
          3.5199999809265132,
          3.0199999809265137,
          3.29800009727478,
          2.6900000572204585,
          1.899999976158142
         ],
         "yaxis": "y2"
        },
        {
         "mode": "markers",
         "name": "Ticker ELC",
         "type": "scatter",
         "x": [
          0.8,
          0.55,
          0.83,
          0.79,
          0.72,
          0.89,
          1.5,
          1.25,
          1.49,
          1.28
         ],
         "xaxis": "x",
         "y": [
          1.120047588057166,
          1.264126716369702,
          1.1265516697226583,
          1.0885619624476819,
          0.4187103223098387,
          0.9082585678678127,
          0.6097655897614381,
          0.6418538736240484,
          0.5704144453674508,
          0.5709795358097567
         ],
         "yaxis": "y"
        },
        {
         "mode": "markers",
         "name": "Ticker ELC",
         "type": "scatter",
         "x": [
          0.8,
          0.55,
          0.83,
          0.79,
          0.72,
          0.89,
          1.5,
          1.25,
          1.49,
          1.28
         ],
         "xaxis": "x2",
         "y": [
          3.065000057220459,
          3.5399999618530273,
          3.0850000381469727,
          2.9700000286102286,
          1.5199999809265137,
          2.4800000190734863,
          1.840000033378601,
          1.899999976158142,
          1.7690000534057615,
          1.7699999809265134
         ],
         "yaxis": "y2"
        },
        {
         "mode": "markers",
         "name": "Ticker GPI",
         "type": "scatter",
         "x": [
          4.84,
          2.87,
          3.36,
          1.79,
          2.8,
          2.5,
          3.33,
          2.78,
          2.39,
          2.47
         ],
         "xaxis": "x",
         "y": [
          2.653241951175182,
          2.803360380906535,
          2.101692187922208,
          2.0464016580303386,
          2.121063234666565,
          2.3702437236421723,
          2.3223877015907286,
          2.282382405139267,
          null,
          null
         ],
         "yaxis": "y"
        },
        {
         "mode": "markers",
         "name": "Ticker GPI",
         "type": "scatter",
         "x": [
          4.84,
          2.87,
          3.36,
          1.79,
          2.8,
          2.5,
          3.33,
          2.78,
          2.39,
          2.47
         ],
         "xaxis": "x2",
         "y": [
          14.199999809265131,
          16.499999999999996,
          8.180000305175781,
          7.739999771118162,
          8.340000152587889,
          10.699999809265137,
          10.199999809265133,
          9.800000190734862,
          null,
          null
         ],
         "yaxis": "y2"
        },
        {
         "mode": "markers",
         "name": "Ticker SRI",
         "type": "scatter",
         "x": [
          1.68,
          1.13,
          1.56,
          1.27,
          0.48,
          0.54,
          0.75,
          1.1,
          1.75,
          2.04
         ],
         "xaxis": "x",
         "y": [
          0.18647960255701124,
          0.7443154761953833,
          0.8285518009080817,
          1.169381368441481,
          1.2974631708642825,
          1.911022923913132,
          1.2974631708642825,
          1.341296964264569,
          1.3942625468528604,
          1.4148818606044733
         ],
         "yaxis": "y"
        },
        {
         "mode": "markers",
         "name": "Ticker SRI",
         "type": "scatter",
         "x": [
          1.68,
          1.13,
          1.56,
          1.27,
          0.48,
          0.54,
          0.75,
          1.1,
          1.75,
          2.04
         ],
         "xaxis": "x2",
         "y": [
          1.2050000429153442,
          2.1050000190734863,
          2.289999961853028,
          3.2200000286102286,
          3.660000085830689,
          6.760000228881836,
          3.660000085830689,
          3.8239998817443848,
          4.0320000648498535,
          4.116000175476073
         ],
         "yaxis": "y2"
        },
        {
         "mode": "markers",
         "name": "Ticker ALA",
         "type": "scatter",
         "x": [
          2.52,
          2.2,
          2.2,
          1.72,
          1.89,
          2.31,
          1.53,
          1.06,
          1.44,
          1.46
         ],
         "xaxis": "x",
         "y": [
          2.4680995476355903,
          2.3655598563366795,
          null,
          null,
          null,
          null,
          null,
          null,
          null,
          null
         ],
         "yaxis": "y"
        },
        {
         "mode": "markers",
         "name": "Ticker ALA",
         "type": "scatter",
         "x": [
          2.52,
          2.2,
          2.2,
          1.72,
          1.89,
          2.31,
          1.53,
          1.06,
          1.44,
          1.46
         ],
         "xaxis": "x2",
         "y": [
          11.80000019073486,
          10.64999961853027,
          null,
          null,
          null,
          null,
          null,
          null,
          null,
          null
         ],
         "yaxis": "y2"
        },
        {
         "mode": "markers",
         "name": "Ticker ICF",
         "type": "scatter",
         "x": [
          0.61,
          1.43,
          1.56,
          1.27,
          0.78,
          0.89,
          1.01,
          0.41,
          0.84,
          0.88
         ],
         "xaxis": "x",
         "y": [
          1.7155980979710415,
          1.8277698730198415,
          1.6974487967434386,
          null,
          null,
          null,
          null,
          null,
          null,
          null
         ],
         "yaxis": "y"
        },
        {
         "mode": "markers",
         "name": "Ticker ICF",
         "type": "scatter",
         "x": [
          0.61,
          1.43,
          1.56,
          1.27,
          0.78,
          0.89,
          1.01,
          0.41,
          0.84,
          0.88
         ],
         "xaxis": "x2",
         "y": [
          5.55999994277954,
          6.2199997901916495,
          5.460000038146972,
          null,
          null,
          null,
          null,
          null,
          null,
          null
         ],
         "yaxis": "y2"
        },
        {
         "mode": "markers",
         "name": "Ticker ENV",
         "type": "scatter",
         "x": [
          0.41,
          0.52,
          4.21,
          0.65,
          0.15,
          1.02,
          0.3,
          0.16,
          0.14,
          0.16
         ],
         "xaxis": "x",
         "y": [
          1.190887553182456,
          1.3350010541839938,
          1.1939224540228235,
          1.2208299523375428,
          1.1847899790762915,
          1.2470322992672698,
          1.0224509174110963,
          1.0260415821605242,
          1.249901738946927,
          1.1499389134175557
         ],
         "yaxis": "y"
        },
        {
         "mode": "markers",
         "name": "Ticker ENV",
         "type": "scatter",
         "x": [
          0.41,
          0.52,
          4.21,
          0.65,
          0.15,
          1.02,
          0.3,
          0.16,
          0.14,
          0.16
         ],
         "xaxis": "x2",
         "y": [
          3.289999961853028,
          3.799999952316284,
          3.2999999523162837,
          3.390000104904175,
          3.2699999809265132,
          3.480000019073486,
          2.7799999713897705,
          2.7899999618530273,
          3.4900000095367427,
          3.1579999923706046
         ],
         "yaxis": "y2"
        },
        {
         "mode": "markers",
         "name": "Ticker MASI",
         "type": "scatter",
         "x": [
          0.99,
          0.93,
          0.65,
          0.33,
          0.35,
          0.52,
          0.69,
          0.84,
          1.19,
          1.16
         ],
         "xaxis": "x",
         "y": [
          1.5062972042644385,
          1.348073123528931,
          0.943905872931563,
          1.1568812177849161,
          1.348073123528931,
          1.5040773967762742,
          1.4609378908394477,
          1.4816045625986316,
          null,
          null
         ],
         "yaxis": "y"
        },
        {
         "mode": "markers",
         "name": "Ticker MASI",
         "type": "scatter",
         "x": [
          0.99,
          0.93,
          0.65,
          0.33,
          0.35,
          0.52,
          0.69,
          0.84,
          1.19,
          1.16
         ],
         "xaxis": "x2",
         "y": [
          4.510000228881836,
          3.8499999046325675,
          2.569999933242798,
          3.180000066757202,
          3.8499999046325675,
          4.5,
          4.30999994277954,
          4.400000095367432,
          null,
          null
         ],
         "yaxis": "y2"
        },
        {
         "mode": "markers",
         "name": "Ticker SVS",
         "type": "scatter",
         "x": [
          2.7,
          3.02,
          3.22,
          3.52,
          3.14,
          3.04,
          3.26,
          3.43,
          3.66,
          4.2
         ],
         "xaxis": "x",
         "y": [
          2.3015845697493673,
          null,
          null,
          null,
          null,
          null,
          null,
          null,
          null,
          null
         ],
         "yaxis": "y"
        },
        {
         "mode": "markers",
         "name": "Ticker SVS",
         "type": "scatter",
         "x": [
          2.7,
          3.02,
          3.22,
          3.52,
          3.14,
          3.04,
          3.26,
          3.43,
          3.66,
          4.2
         ],
         "xaxis": "x2",
         "y": [
          9.989999771118164,
          null,
          null,
          null,
          null,
          null,
          null,
          null,
          null,
          null
         ],
         "yaxis": "y2"
        },
        {
         "mode": "markers",
         "name": "Ticker STAR7",
         "type": "scatter",
         "x": [
          3.31,
          1.1,
          0.54,
          0.36,
          0.2,
          0.28,
          0.33,
          0.46,
          0.66,
          0.51
         ],
         "xaxis": "x",
         "y": [
          2.1679101634795908,
          2.264883237693826,
          null,
          null,
          null,
          null,
          null,
          null,
          null,
          null
         ],
         "yaxis": "y"
        },
        {
         "mode": "markers",
         "name": "Ticker STAR7",
         "type": "scatter",
         "x": [
          3.31,
          1.1,
          0.54,
          0.36,
          0.2,
          0.28,
          0.33,
          0.46,
          0.66,
          0.51
         ],
         "xaxis": "x2",
         "y": [
          8.739999771118164,
          9.630000114440916,
          null,
          null,
          null,
          null,
          null,
          null,
          null,
          null
         ],
         "yaxis": "y2"
        },
        {
         "mode": "markers",
         "name": "Ticker SCK",
         "type": "scatter",
         "x": [
          1.61,
          1.36,
          5.21,
          3.37,
          2.77,
          2.51,
          1.74,
          1.53,
          1.61,
          0.9
         ],
         "xaxis": "x",
         "y": [
          2.0333975857027218,
          2.356125878001209,
          1.1151415749853149,
          0.15700371212988268,
          -0.31471071871163714,
          null,
          null,
          null,
          null,
          null
         ],
         "yaxis": "y"
        },
        {
         "mode": "markers",
         "name": "Ticker SCK",
         "type": "scatter",
         "x": [
          1.61,
          1.36,
          5.21,
          3.37,
          2.77,
          2.51,
          1.74,
          1.53,
          1.61,
          0.9
         ],
         "xaxis": "x2",
         "y": [
          7.639999866485597,
          10.55000019073486,
          3.0499999523162837,
          1.1699999570846558,
          0.7300000190734863,
          null,
          null,
          null,
          null,
          null
         ],
         "yaxis": "y2"
        },
        {
         "mode": "markers",
         "name": "Ticker MARP",
         "type": "scatter",
         "x": [
          0.73,
          0.59,
          0.8,
          2.09,
          1.15,
          0.74,
          0.82,
          0.97,
          1.35,
          1.38
         ],
         "xaxis": "x",
         "y": [
          1.4060969697165737,
          1.5475624681341262,
          1.0296194001512595,
          1.508511989624342,
          null,
          null,
          null,
          null,
          null,
          null
         ],
         "yaxis": "y"
        },
        {
         "mode": "markers",
         "name": "Ticker MARP",
         "type": "scatter",
         "x": [
          0.73,
          0.59,
          0.8,
          2.09,
          1.15,
          0.74,
          0.82,
          0.97,
          1.35,
          1.38
         ],
         "xaxis": "x2",
         "y": [
          4.079999923706054,
          4.699999809265136,
          2.7999999523162837,
          4.519999980926514,
          null,
          null,
          null,
          null,
          null,
          null
         ],
         "yaxis": "y2"
        },
        {
         "mode": "markers",
         "name": "Ticker ITD",
         "type": "scatter",
         "x": [
          0.52,
          0.17,
          0.22,
          0.2,
          0.42,
          0.69,
          0.66,
          1.13,
          0.98,
          0.54
         ],
         "xaxis": "x",
         "y": [
          2.6672281800910014,
          2.972975247406338,
          2.3513752571634776,
          1.8082887555452603,
          1.0986122886681098,
          null,
          null,
          null,
          null,
          null
         ],
         "yaxis": "y"
        },
        {
         "mode": "markers",
         "name": "Ticker ITD",
         "type": "scatter",
         "x": [
          0.52,
          0.17,
          0.22,
          0.2,
          0.42,
          0.69,
          0.66,
          1.13,
          0.98,
          0.54
         ],
         "xaxis": "x2",
         "y": [
          14.399999618530272,
          19.549999237060543,
          10.499999999999998,
          6.0999999046325675,
          3,
          null,
          null,
          null,
          null,
          null
         ],
         "yaxis": "y2"
        },
        {
         "mode": "markers",
         "name": "Ticker VIM",
         "type": "scatter",
         "x": [
          0.57,
          0.59,
          0.99,
          0.65,
          0.35,
          0.2,
          0.12,
          0.21,
          0.37,
          0.5
         ],
         "xaxis": "x",
         "y": [
          0.13102824985805775,
          0.4637340372249708,
          0.18232159653038368,
          0.7654678864965156,
          1.0818051865157,
          null,
          null,
          null,
          null,
          null
         ],
         "yaxis": "y"
        },
        {
         "mode": "markers",
         "name": "Ticker VIM",
         "type": "scatter",
         "x": [
          0.57,
          0.59,
          0.99,
          0.65,
          0.35,
          0.2,
          0.12,
          0.21,
          0.37,
          0.5
         ],
         "xaxis": "x2",
         "y": [
          1.1399999856948853,
          1.590000033378601,
          1.2000000476837158,
          2.150000095367432,
          2.950000047683716,
          null,
          null,
          null,
          null,
          null
         ],
         "yaxis": "y2"
        },
        {
         "mode": "markers",
         "name": "Ticker MDC",
         "type": "scatter",
         "x": [
          0.54,
          0.4,
          0.43,
          0.62,
          0.7,
          0.79,
          1.07,
          0.9,
          1.51,
          1.65
         ],
         "xaxis": "x",
         "y": [
          3.228826155721369,
          3.640214242083339,
          null,
          null,
          null,
          null,
          null,
          null,
          null,
          null
         ],
         "yaxis": "y"
        },
        {
         "mode": "markers",
         "name": "Ticker MDC",
         "type": "scatter",
         "x": [
          0.54,
          0.4,
          0.43,
          0.62,
          0.7,
          0.79,
          1.07,
          0.9,
          1.51,
          1.65
         ],
         "xaxis": "x2",
         "y": [
          25.249999999999996,
          38.09999847412107,
          null,
          null,
          null,
          null,
          null,
          null,
          null,
          null
         ],
         "yaxis": "y2"
        },
        {
         "mode": "markers",
         "name": "Ticker ILP",
         "type": "scatter",
         "x": [
          0.69,
          0.66,
          1.22,
          1.21,
          2.04,
          2.35,
          3.17,
          3.27,
          3.59,
          2.83
         ],
         "xaxis": "x",
         "y": [
          1.490654389331624,
          1.508511989624342,
          0.7129497891566287,
          0.779324907423567,
          null,
          null,
          null,
          null,
          null,
          null
         ],
         "yaxis": "y"
        },
        {
         "mode": "markers",
         "name": "Ticker ILP",
         "type": "scatter",
         "x": [
          0.69,
          0.66,
          1.22,
          1.21,
          2.04,
          2.35,
          3.17,
          3.27,
          3.59,
          2.83
         ],
         "xaxis": "x2",
         "y": [
          4.440000057220458,
          4.519999980926514,
          2.039999961853028,
          2.180000066757202,
          null,
          null,
          null,
          null,
          null,
          null
         ],
         "yaxis": "y2"
        },
        {
         "mode": "markers",
         "name": "Ticker CFL",
         "type": "scatter",
         "x": [
          0.44,
          0.37,
          0.52,
          0.47,
          0.41,
          0.35,
          0.46,
          0.66,
          0.97,
          1
         ],
         "xaxis": "x",
         "y": [
          2.536866415880321,
          2.7549338039876257,
          null,
          null,
          null,
          null,
          null,
          null,
          null,
          null
         ],
         "yaxis": "y"
        },
        {
         "mode": "markers",
         "name": "Ticker CFL",
         "type": "scatter",
         "x": [
          0.44,
          0.37,
          0.52,
          0.47,
          0.41,
          0.35,
          0.46,
          0.66,
          0.97,
          1
         ],
         "xaxis": "x2",
         "y": [
          12.64000034332275,
          15.720000267028805,
          null,
          null,
          null,
          null,
          null,
          null,
          null,
          null
         ],
         "yaxis": "y2"
        },
        {
         "mode": "markers",
         "name": "Ticker FCM",
         "type": "scatter",
         "x": [
          1.67,
          1.45,
          1.48,
          1.35,
          1.97,
          2.12,
          2.42,
          3.4,
          3.75,
          4.37
         ],
         "xaxis": "x",
         "y": [
          0.12221762850445134,
          0.2350721108710924,
          0.2350721108710924,
          0.47933496257972397,
          null,
          null,
          null,
          null,
          null,
          null
         ],
         "yaxis": "y"
        },
        {
         "mode": "markers",
         "name": "Ticker FCM",
         "type": "scatter",
         "x": [
          1.67,
          1.45,
          1.48,
          1.35,
          1.97,
          2.12,
          2.42,
          3.4,
          3.75,
          4.37
         ],
         "xaxis": "x2",
         "y": [
          1.1299999952316284,
          1.2649999856948853,
          1.2649999856948853,
          1.6150000095367432,
          null,
          null,
          null,
          null,
          null,
          null
         ],
         "yaxis": "y2"
        },
        {
         "mode": "markers",
         "name": "Ticker FVI",
         "type": "scatter",
         "x": [
          0.15,
          0.18,
          0.13,
          0.13,
          0.08,
          0.09,
          0.2,
          0.71,
          0.95,
          1.09
         ],
         "xaxis": "x",
         "y": [
          2.7440606508911505,
          2.69462719365756,
          2.509599277885271,
          2.4248027425974863,
          2.4061257641178835,
          null,
          null,
          null,
          null,
          null
         ],
         "yaxis": "y"
        },
        {
         "mode": "markers",
         "name": "Ticker FVI",
         "type": "scatter",
         "x": [
          0.15,
          0.18,
          0.13,
          0.13,
          0.08,
          0.09,
          0.2,
          0.71,
          0.95,
          1.09
         ],
         "xaxis": "x2",
         "y": [
          15.550000190734858,
          14.800000190734858,
          12.30000019073486,
          11.300000190734863,
          11.090909004211426,
          null,
          null,
          null,
          null,
          null
         ],
         "yaxis": "y2"
        },
        {
         "mode": "markers",
         "name": "Ticker PLT",
         "type": "scatter",
         "x": [
          1.37,
          1.12,
          1.35,
          0.99,
          0.42,
          0.29,
          0.22,
          0.11,
          0.14,
          0.08
         ],
         "xaxis": "x",
         "y": [
          null,
          null,
          null,
          null,
          null,
          null,
          null,
          null,
          null,
          null
         ],
         "yaxis": "y"
        },
        {
         "mode": "markers",
         "name": "Ticker PLT",
         "type": "scatter",
         "x": [
          1.37,
          1.12,
          1.35,
          0.99,
          0.42,
          0.29,
          0.22,
          0.11,
          0.14,
          0.08
         ],
         "xaxis": "x2",
         "y": [
          null,
          null,
          null,
          null,
          null,
          null,
          null,
          null,
          null,
          null
         ],
         "yaxis": "y2"
        },
        {
         "mode": "markers",
         "name": "Ticker LDB",
         "type": "scatter",
         "x": [
          1.43,
          0.29,
          0.41,
          0.39,
          0.51,
          0.68,
          0.81,
          0.92,
          0.96,
          1.23
         ],
         "xaxis": "x",
         "y": [
          0.6291418754934363,
          0.7952523647473517,
          null,
          null,
          null,
          null,
          null,
          null,
          null,
          null
         ],
         "yaxis": "y"
        },
        {
         "mode": "markers",
         "name": "Ticker LDB",
         "type": "scatter",
         "x": [
          1.43,
          0.29,
          0.41,
          0.39,
          0.51,
          0.68,
          0.81,
          0.92,
          0.96,
          1.23
         ],
         "xaxis": "x2",
         "y": [
          1.876000046730041,
          2.2149999141693115,
          null,
          null,
          null,
          null,
          null,
          null,
          null,
          null
         ],
         "yaxis": "y2"
        },
        {
         "mode": "markers",
         "name": "Ticker FOS",
         "type": "scatter",
         "x": [
          1,
          0.9,
          1.92,
          1.81,
          1.91,
          2.03,
          2.67,
          2.27,
          3.04,
          3.43
         ],
         "xaxis": "x",
         "y": [
          1.2119409427536318,
          1.3506671562994919,
          0.9082585678678127,
          1.1426291710428607,
          null,
          null,
          null,
          null,
          null,
          null
         ],
         "yaxis": "y"
        },
        {
         "mode": "markers",
         "name": "Ticker FOS",
         "type": "scatter",
         "x": [
          1,
          0.9,
          1.92,
          1.81,
          1.91,
          2.03,
          2.67,
          2.27,
          3.04,
          3.43
         ],
         "xaxis": "x2",
         "y": [
          3.359999895095825,
          3.859999895095825,
          2.4800000190734863,
          3.1349999904632564,
          null,
          null,
          null,
          null,
          null,
          null
         ],
         "yaxis": "y2"
        },
        {
         "mode": "markers",
         "name": "Ticker BAN",
         "type": "scatter",
         "x": [
          1.07,
          1.1,
          1.24,
          0.68,
          1.06,
          1.13,
          1.26,
          1.53,
          2.33,
          3.55
         ],
         "xaxis": "x",
         "y": [
          1.6992785780777009,
          1.814824720414034,
          1.4586150670564606,
          1.6677068565457855,
          1.4929040533163809,
          1.3244189548654353,
          1.2005670192292972,
          1.4683350732132154,
          0.8162494147953161,
          0.8862438592669583
         ],
         "yaxis": "y"
        },
        {
         "mode": "markers",
         "name": "Ticker BAN",
         "type": "scatter",
         "x": [
          1.07,
          1.1,
          1.24,
          0.68,
          1.06,
          1.13,
          1.26,
          1.53,
          2.33,
          3.55
         ],
         "xaxis": "x2",
         "y": [
          5.46999979019165,
          6.139999866485596,
          4.300000190734862,
          5.300000190734862,
          4.449999809265136,
          3.7599999904632564,
          3.3220000267028804,
          4.3420000076293945,
          2.26200008392334,
          2.4260001182556152
         ],
         "yaxis": "y2"
        }
       ],
       "layout": {
        "showlegend": false,
        "template": {
         "data": {
          "bar": [
           {
            "error_x": {
             "color": "#2a3f5f"
            },
            "error_y": {
             "color": "#2a3f5f"
            },
            "marker": {
             "line": {
              "color": "#E5ECF6",
              "width": 0.5
             },
             "pattern": {
              "fillmode": "overlay",
              "size": 10,
              "solidity": 0.2
             }
            },
            "type": "bar"
           }
          ],
          "barpolar": [
           {
            "marker": {
             "line": {
              "color": "#E5ECF6",
              "width": 0.5
             },
             "pattern": {
              "fillmode": "overlay",
              "size": 10,
              "solidity": 0.2
             }
            },
            "type": "barpolar"
           }
          ],
          "carpet": [
           {
            "aaxis": {
             "endlinecolor": "#2a3f5f",
             "gridcolor": "white",
             "linecolor": "white",
             "minorgridcolor": "white",
             "startlinecolor": "#2a3f5f"
            },
            "baxis": {
             "endlinecolor": "#2a3f5f",
             "gridcolor": "white",
             "linecolor": "white",
             "minorgridcolor": "white",
             "startlinecolor": "#2a3f5f"
            },
            "type": "carpet"
           }
          ],
          "choropleth": [
           {
            "colorbar": {
             "outlinewidth": 0,
             "ticks": ""
            },
            "type": "choropleth"
           }
          ],
          "contour": [
           {
            "colorbar": {
             "outlinewidth": 0,
             "ticks": ""
            },
            "colorscale": [
             [
              0,
              "#0d0887"
             ],
             [
              0.1111111111111111,
              "#46039f"
             ],
             [
              0.2222222222222222,
              "#7201a8"
             ],
             [
              0.3333333333333333,
              "#9c179e"
             ],
             [
              0.4444444444444444,
              "#bd3786"
             ],
             [
              0.5555555555555556,
              "#d8576b"
             ],
             [
              0.6666666666666666,
              "#ed7953"
             ],
             [
              0.7777777777777778,
              "#fb9f3a"
             ],
             [
              0.8888888888888888,
              "#fdca26"
             ],
             [
              1,
              "#f0f921"
             ]
            ],
            "type": "contour"
           }
          ],
          "contourcarpet": [
           {
            "colorbar": {
             "outlinewidth": 0,
             "ticks": ""
            },
            "type": "contourcarpet"
           }
          ],
          "heatmap": [
           {
            "colorbar": {
             "outlinewidth": 0,
             "ticks": ""
            },
            "colorscale": [
             [
              0,
              "#0d0887"
             ],
             [
              0.1111111111111111,
              "#46039f"
             ],
             [
              0.2222222222222222,
              "#7201a8"
             ],
             [
              0.3333333333333333,
              "#9c179e"
             ],
             [
              0.4444444444444444,
              "#bd3786"
             ],
             [
              0.5555555555555556,
              "#d8576b"
             ],
             [
              0.6666666666666666,
              "#ed7953"
             ],
             [
              0.7777777777777778,
              "#fb9f3a"
             ],
             [
              0.8888888888888888,
              "#fdca26"
             ],
             [
              1,
              "#f0f921"
             ]
            ],
            "type": "heatmap"
           }
          ],
          "heatmapgl": [
           {
            "colorbar": {
             "outlinewidth": 0,
             "ticks": ""
            },
            "colorscale": [
             [
              0,
              "#0d0887"
             ],
             [
              0.1111111111111111,
              "#46039f"
             ],
             [
              0.2222222222222222,
              "#7201a8"
             ],
             [
              0.3333333333333333,
              "#9c179e"
             ],
             [
              0.4444444444444444,
              "#bd3786"
             ],
             [
              0.5555555555555556,
              "#d8576b"
             ],
             [
              0.6666666666666666,
              "#ed7953"
             ],
             [
              0.7777777777777778,
              "#fb9f3a"
             ],
             [
              0.8888888888888888,
              "#fdca26"
             ],
             [
              1,
              "#f0f921"
             ]
            ],
            "type": "heatmapgl"
           }
          ],
          "histogram": [
           {
            "marker": {
             "pattern": {
              "fillmode": "overlay",
              "size": 10,
              "solidity": 0.2
             }
            },
            "type": "histogram"
           }
          ],
          "histogram2d": [
           {
            "colorbar": {
             "outlinewidth": 0,
             "ticks": ""
            },
            "colorscale": [
             [
              0,
              "#0d0887"
             ],
             [
              0.1111111111111111,
              "#46039f"
             ],
             [
              0.2222222222222222,
              "#7201a8"
             ],
             [
              0.3333333333333333,
              "#9c179e"
             ],
             [
              0.4444444444444444,
              "#bd3786"
             ],
             [
              0.5555555555555556,
              "#d8576b"
             ],
             [
              0.6666666666666666,
              "#ed7953"
             ],
             [
              0.7777777777777778,
              "#fb9f3a"
             ],
             [
              0.8888888888888888,
              "#fdca26"
             ],
             [
              1,
              "#f0f921"
             ]
            ],
            "type": "histogram2d"
           }
          ],
          "histogram2dcontour": [
           {
            "colorbar": {
             "outlinewidth": 0,
             "ticks": ""
            },
            "colorscale": [
             [
              0,
              "#0d0887"
             ],
             [
              0.1111111111111111,
              "#46039f"
             ],
             [
              0.2222222222222222,
              "#7201a8"
             ],
             [
              0.3333333333333333,
              "#9c179e"
             ],
             [
              0.4444444444444444,
              "#bd3786"
             ],
             [
              0.5555555555555556,
              "#d8576b"
             ],
             [
              0.6666666666666666,
              "#ed7953"
             ],
             [
              0.7777777777777778,
              "#fb9f3a"
             ],
             [
              0.8888888888888888,
              "#fdca26"
             ],
             [
              1,
              "#f0f921"
             ]
            ],
            "type": "histogram2dcontour"
           }
          ],
          "mesh3d": [
           {
            "colorbar": {
             "outlinewidth": 0,
             "ticks": ""
            },
            "type": "mesh3d"
           }
          ],
          "parcoords": [
           {
            "line": {
             "colorbar": {
              "outlinewidth": 0,
              "ticks": ""
             }
            },
            "type": "parcoords"
           }
          ],
          "pie": [
           {
            "automargin": true,
            "type": "pie"
           }
          ],
          "scatter": [
           {
            "fillpattern": {
             "fillmode": "overlay",
             "size": 10,
             "solidity": 0.2
            },
            "type": "scatter"
           }
          ],
          "scatter3d": [
           {
            "line": {
             "colorbar": {
              "outlinewidth": 0,
              "ticks": ""
             }
            },
            "marker": {
             "colorbar": {
              "outlinewidth": 0,
              "ticks": ""
             }
            },
            "type": "scatter3d"
           }
          ],
          "scattercarpet": [
           {
            "marker": {
             "colorbar": {
              "outlinewidth": 0,
              "ticks": ""
             }
            },
            "type": "scattercarpet"
           }
          ],
          "scattergeo": [
           {
            "marker": {
             "colorbar": {
              "outlinewidth": 0,
              "ticks": ""
             }
            },
            "type": "scattergeo"
           }
          ],
          "scattergl": [
           {
            "marker": {
             "colorbar": {
              "outlinewidth": 0,
              "ticks": ""
             }
            },
            "type": "scattergl"
           }
          ],
          "scattermapbox": [
           {
            "marker": {
             "colorbar": {
              "outlinewidth": 0,
              "ticks": ""
             }
            },
            "type": "scattermapbox"
           }
          ],
          "scatterpolar": [
           {
            "marker": {
             "colorbar": {
              "outlinewidth": 0,
              "ticks": ""
             }
            },
            "type": "scatterpolar"
           }
          ],
          "scatterpolargl": [
           {
            "marker": {
             "colorbar": {
              "outlinewidth": 0,
              "ticks": ""
             }
            },
            "type": "scatterpolargl"
           }
          ],
          "scatterternary": [
           {
            "marker": {
             "colorbar": {
              "outlinewidth": 0,
              "ticks": ""
             }
            },
            "type": "scatterternary"
           }
          ],
          "surface": [
           {
            "colorbar": {
             "outlinewidth": 0,
             "ticks": ""
            },
            "colorscale": [
             [
              0,
              "#0d0887"
             ],
             [
              0.1111111111111111,
              "#46039f"
             ],
             [
              0.2222222222222222,
              "#7201a8"
             ],
             [
              0.3333333333333333,
              "#9c179e"
             ],
             [
              0.4444444444444444,
              "#bd3786"
             ],
             [
              0.5555555555555556,
              "#d8576b"
             ],
             [
              0.6666666666666666,
              "#ed7953"
             ],
             [
              0.7777777777777778,
              "#fb9f3a"
             ],
             [
              0.8888888888888888,
              "#fdca26"
             ],
             [
              1,
              "#f0f921"
             ]
            ],
            "type": "surface"
           }
          ],
          "table": [
           {
            "cells": {
             "fill": {
              "color": "#EBF0F8"
             },
             "line": {
              "color": "white"
             }
            },
            "header": {
             "fill": {
              "color": "#C8D4E3"
             },
             "line": {
              "color": "white"
             }
            },
            "type": "table"
           }
          ]
         },
         "layout": {
          "annotationdefaults": {
           "arrowcolor": "#2a3f5f",
           "arrowhead": 0,
           "arrowwidth": 1
          },
          "autotypenumbers": "strict",
          "coloraxis": {
           "colorbar": {
            "outlinewidth": 0,
            "ticks": ""
           }
          },
          "colorscale": {
           "diverging": [
            [
             0,
             "#8e0152"
            ],
            [
             0.1,
             "#c51b7d"
            ],
            [
             0.2,
             "#de77ae"
            ],
            [
             0.3,
             "#f1b6da"
            ],
            [
             0.4,
             "#fde0ef"
            ],
            [
             0.5,
             "#f7f7f7"
            ],
            [
             0.6,
             "#e6f5d0"
            ],
            [
             0.7,
             "#b8e186"
            ],
            [
             0.8,
             "#7fbc41"
            ],
            [
             0.9,
             "#4d9221"
            ],
            [
             1,
             "#276419"
            ]
           ],
           "sequential": [
            [
             0,
             "#0d0887"
            ],
            [
             0.1111111111111111,
             "#46039f"
            ],
            [
             0.2222222222222222,
             "#7201a8"
            ],
            [
             0.3333333333333333,
             "#9c179e"
            ],
            [
             0.4444444444444444,
             "#bd3786"
            ],
            [
             0.5555555555555556,
             "#d8576b"
            ],
            [
             0.6666666666666666,
             "#ed7953"
            ],
            [
             0.7777777777777778,
             "#fb9f3a"
            ],
            [
             0.8888888888888888,
             "#fdca26"
            ],
            [
             1,
             "#f0f921"
            ]
           ],
           "sequentialminus": [
            [
             0,
             "#0d0887"
            ],
            [
             0.1111111111111111,
             "#46039f"
            ],
            [
             0.2222222222222222,
             "#7201a8"
            ],
            [
             0.3333333333333333,
             "#9c179e"
            ],
            [
             0.4444444444444444,
             "#bd3786"
            ],
            [
             0.5555555555555556,
             "#d8576b"
            ],
            [
             0.6666666666666666,
             "#ed7953"
            ],
            [
             0.7777777777777778,
             "#fb9f3a"
            ],
            [
             0.8888888888888888,
             "#fdca26"
            ],
            [
             1,
             "#f0f921"
            ]
           ]
          },
          "colorway": [
           "#636efa",
           "#EF553B",
           "#00cc96",
           "#ab63fa",
           "#FFA15A",
           "#19d3f3",
           "#FF6692",
           "#B6E880",
           "#FF97FF",
           "#FECB52"
          ],
          "font": {
           "color": "#2a3f5f"
          },
          "geo": {
           "bgcolor": "white",
           "lakecolor": "white",
           "landcolor": "#E5ECF6",
           "showlakes": true,
           "showland": true,
           "subunitcolor": "white"
          },
          "hoverlabel": {
           "align": "left"
          },
          "hovermode": "closest",
          "mapbox": {
           "style": "light"
          },
          "paper_bgcolor": "white",
          "plot_bgcolor": "#E5ECF6",
          "polar": {
           "angularaxis": {
            "gridcolor": "white",
            "linecolor": "white",
            "ticks": ""
           },
           "bgcolor": "#E5ECF6",
           "radialaxis": {
            "gridcolor": "white",
            "linecolor": "white",
            "ticks": ""
           }
          },
          "scene": {
           "xaxis": {
            "backgroundcolor": "#E5ECF6",
            "gridcolor": "white",
            "gridwidth": 2,
            "linecolor": "white",
            "showbackground": true,
            "ticks": "",
            "zerolinecolor": "white"
           },
           "yaxis": {
            "backgroundcolor": "#E5ECF6",
            "gridcolor": "white",
            "gridwidth": 2,
            "linecolor": "white",
            "showbackground": true,
            "ticks": "",
            "zerolinecolor": "white"
           },
           "zaxis": {
            "backgroundcolor": "#E5ECF6",
            "gridcolor": "white",
            "gridwidth": 2,
            "linecolor": "white",
            "showbackground": true,
            "ticks": "",
            "zerolinecolor": "white"
           }
          },
          "shapedefaults": {
           "line": {
            "color": "#2a3f5f"
           }
          },
          "ternary": {
           "aaxis": {
            "gridcolor": "white",
            "linecolor": "white",
            "ticks": ""
           },
           "baxis": {
            "gridcolor": "white",
            "linecolor": "white",
            "ticks": ""
           },
           "bgcolor": "#E5ECF6",
           "caxis": {
            "gridcolor": "white",
            "linecolor": "white",
            "ticks": ""
           }
          },
          "title": {
           "x": 0.05
          },
          "xaxis": {
           "automargin": true,
           "gridcolor": "white",
           "linecolor": "white",
           "ticks": "",
           "title": {
            "standoff": 15
           },
           "zerolinecolor": "white",
           "zerolinewidth": 2
          },
          "yaxis": {
           "automargin": true,
           "gridcolor": "white",
           "linecolor": "white",
           "ticks": "",
           "title": {
            "standoff": 15
           },
           "zerolinecolor": "white",
           "zerolinewidth": 2
          }
         }
        },
        "title": {
         "text": "Relazione tra Oneri_finanz_su_fatt e Valori Borsa"
        },
        "xaxis": {
         "anchor": "y",
         "domain": [
          0,
          0.45
         ]
        },
        "xaxis2": {
         "anchor": "y2",
         "domain": [
          0.55,
          1
         ]
        },
        "yaxis": {
         "anchor": "x",
         "domain": [
          0,
          1
         ],
         "title": {
          "text": "Log Valori Borsa"
         }
        },
        "yaxis2": {
         "anchor": "x2",
         "domain": [
          0,
          1
         ],
         "title": {
          "text": "Valori Borsa"
         }
        }
       }
      }
     },
     "metadata": {},
     "output_type": "display_data"
    },
    {
     "data": {
      "application/vnd.plotly.v1+json": {
       "config": {
        "plotlyServerURL": "https://plot.ly"
       },
       "data": [
        {
         "mode": "markers",
         "name": "Ticker MARR",
         "type": "scatter",
         "x": [
          8.11,
          8.88,
          5.9,
          19.02,
          20.3,
          17.32,
          13.27,
          10.92,
          8.72,
          8.31
         ],
         "xaxis": "x",
         "y": [
          2.509599277885271,
          2.9349201179417297,
          2.8791984144362717,
          3.054001217665676,
          3.0689827565651293,
          3.07915387116492,
          2.87073576176629,
          2.8887036625848097,
          2.691243082785829,
          2.4849066497880004
         ],
         "yaxis": "y"
        },
        {
         "mode": "markers",
         "name": "Ticker MARR",
         "type": "scatter",
         "x": [
          8.11,
          8.88,
          5.9,
          19.02,
          20.3,
          17.32,
          13.27,
          10.92,
          8.72,
          8.31
         ],
         "xaxis": "x2",
         "y": [
          12.30000019073486,
          18.819999694824215,
          17.799999237060547,
          21.20000076293945,
          21.520000457763665,
          21.73999977111816,
          17.64999961853027,
          17.969999313354485,
          14.749999999999998,
          11.999999999999998
         ],
         "yaxis": "y2"
        },
        {
         "mode": "markers",
         "name": "Ticker PIA",
         "type": "scatter",
         "x": [
          7.47,
          3.27,
          5.51,
          5.31,
          3.87,
          2.85,
          2.79,
          2.63,
          2.24,
          2.05
         ],
         "xaxis": "x",
         "y": [
          1.077048147781857,
          1.0522192777352672,
          0.9962103346242122,
          1.007957923880542,
          0.6392188284692253,
          0.917889432671393,
          0.48365994275805774,
          0.698134717326336,
          0.9066443833247319,
          0.8569652431213597
         ],
         "yaxis": "y"
        },
        {
         "mode": "markers",
         "name": "Ticker PIA",
         "type": "scatter",
         "x": [
          7.47,
          3.27,
          5.51,
          5.31,
          3.87,
          2.85,
          2.79,
          2.63,
          2.24,
          2.05
         ],
         "xaxis": "x2",
         "y": [
          2.9360001087188716,
          2.864000082015991,
          2.7079999446868896,
          2.740000009536743,
          1.8949999809265134,
          2.503999948501587,
          1.621999979019165,
          2.009999990463257,
          2.476000070571899,
          2.3559999465942383
         ],
         "yaxis": "y2"
        },
        {
         "mode": "markers",
         "name": "Ticker BRE",
         "type": "scatter",
         "x": [
          17.58,
          22.1,
          10.07,
          30.83,
          26.38,
          40.43,
          35.65,
          18.17,
          9.34,
          7.16
         ],
         "xaxis": "x",
         "y": [
          2.4033350340342152,
          2.564179813062659,
          2.393218807006317,
          2.404238719152724,
          2.320425041100351,
          2.58475200201879,
          2.4890646757652832,
          2.07969149231976,
          1.6815725236803198,
          1.3681303836941336
         ],
         "yaxis": "y"
        },
        {
         "mode": "markers",
         "name": "Ticker BRE",
         "type": "scatter",
         "x": [
          17.58,
          22.1,
          10.07,
          30.83,
          26.38,
          40.43,
          35.65,
          18.17,
          9.34,
          7.16
         ],
         "xaxis": "x2",
         "y": [
          11.0600004196167,
          12.989999771118162,
          10.948678970336912,
          11.069999694824217,
          10.180000305175781,
          13.260000228881834,
          12.050000190734862,
          8.001999855041504,
          5.374000072479247,
          3.9279999732971187
         ],
         "yaxis": "y2"
        },
        {
         "mode": "markers",
         "name": "Ticker DAN",
         "type": "scatter",
         "x": [
          0.58,
          14.95,
          2.09,
          2.11,
          1.85,
          10.6,
          5.13,
          6.21,
          2.78,
          1.83
         ],
         "xaxis": "x",
         "y": [
          3.104586644253541,
          3.2790297189519984,
          2.7265447662626667,
          2.8154087651077058,
          2.785011289333365,
          3.0516398874558934,
          3.0243197266987147,
          2.740840023925201,
          3.000222186422059,
          3.2308043655777645
         ],
         "yaxis": "y"
        },
        {
         "mode": "markers",
         "name": "Ticker DAN",
         "type": "scatter",
         "x": [
          0.58,
          14.95,
          2.09,
          2.11,
          1.85,
          10.6,
          5.13,
          6.21,
          2.78,
          1.83
         ],
         "xaxis": "x2",
         "y": [
          22.299999237060543,
          26.549999237060547,
          15.279999732971186,
          16.700000762939453,
          16.20000076293945,
          21.149999618530277,
          20.57999992370605,
          15.499999999999996,
          20.090000152587887,
          25.299999237060543
         ],
         "yaxis": "y2"
        },
        {
         "mode": "markers",
         "name": "Ticker BC",
         "type": "scatter",
         "x": [
          33.7,
          16.89,
          5.75,
          26.53,
          49.72,
          43.89,
          19.62,
          19.73,
          22.79,
          24.02
         ],
         "xaxis": "x",
         "y": [
          4.269697449699962,
          4.107589776423775,
          3.5333946002941827,
          3.5587707383536116,
          3.349904087274605,
          3.363841581918742,
          3.0267462864029175,
          2.7033726319915394,
          2.8735646826837065,
          3.1705255511154085
         ],
         "yaxis": "y"
        },
        {
         "mode": "markers",
         "name": "Ticker BC",
         "type": "scatter",
         "x": [
          33.7,
          16.89,
          5.75,
          26.53,
          49.72,
          43.89,
          19.62,
          19.73,
          22.79,
          24.02
         ],
         "xaxis": "x2",
         "y": [
          71.49999999999996,
          60.79999923706053,
          34.2400016784668,
          35.11999893188476,
          28.499999999999996,
          28.89999961853027,
          20.6299991607666,
          14.930000305175776,
          17.70000076293945,
          23.81999969482422
         ],
         "yaxis": "y2"
        },
        {
         "mode": "markers",
         "name": "Ticker CLI",
         "type": "scatter",
         "x": [
          9.73,
          10.77,
          8.68,
          1.95,
          4.19,
          10.29,
          6.92,
          12.81,
          9.85,
          14.26
         ],
         "xaxis": "x",
         "y": [
          1.0543119898966447,
          1.2412686000947695,
          0.9001613654511708,
          0.9162907318741551,
          1.007957923880542,
          1.2584609841914016,
          1.1052568250710544,
          1.1933162536324886,
          0.9895412148852936,
          0.6418538736240484
         ],
         "yaxis": "y"
        },
        {
         "mode": "markers",
         "name": "Ticker CLI",
         "type": "scatter",
         "x": [
          9.73,
          10.77,
          8.68,
          1.95,
          4.19,
          10.29,
          6.92,
          12.81,
          9.85,
          14.26
         ],
         "xaxis": "x2",
         "y": [
          2.869999885559082,
          3.4600000381469727,
          2.4600000381469727,
          2.5,
          2.740000009536743,
          3.5199999809265132,
          3.0199999809265137,
          3.29800009727478,
          2.6900000572204585,
          1.899999976158142
         ],
         "yaxis": "y2"
        },
        {
         "mode": "markers",
         "name": "Ticker ELC",
         "type": "scatter",
         "x": [
          12.24,
          12.8,
          5.4,
          5.33,
          4.99,
          3.56,
          1.17,
          3.38,
          1.7,
          0.79
         ],
         "xaxis": "x",
         "y": [
          1.120047588057166,
          1.264126716369702,
          1.1265516697226583,
          1.0885619624476819,
          0.4187103223098387,
          0.9082585678678127,
          0.6097655897614381,
          0.6418538736240484,
          0.5704144453674508,
          0.5709795358097567
         ],
         "yaxis": "y"
        },
        {
         "mode": "markers",
         "name": "Ticker ELC",
         "type": "scatter",
         "x": [
          12.24,
          12.8,
          5.4,
          5.33,
          4.99,
          3.56,
          1.17,
          3.38,
          1.7,
          0.79
         ],
         "xaxis": "x2",
         "y": [
          3.065000057220459,
          3.5399999618530273,
          3.0850000381469727,
          2.9700000286102286,
          1.5199999809265137,
          2.4800000190734863,
          1.840000033378601,
          1.899999976158142,
          1.7690000534057615,
          1.7699999809265134
         ],
         "yaxis": "y2"
        },
        {
         "mode": "markers",
         "name": "Ticker GPI",
         "type": "scatter",
         "x": [
          1.62,
          3.54,
          3.73,
          6.83,
          3.53,
          5.75,
          4.53,
          5.7,
          6.84,
          6.09
         ],
         "xaxis": "x",
         "y": [
          2.653241951175182,
          2.803360380906535,
          2.101692187922208,
          2.0464016580303386,
          2.121063234666565,
          2.3702437236421723,
          2.3223877015907286,
          2.282382405139267,
          null,
          null
         ],
         "yaxis": "y"
        },
        {
         "mode": "markers",
         "name": "Ticker GPI",
         "type": "scatter",
         "x": [
          1.62,
          3.54,
          3.73,
          6.83,
          3.53,
          5.75,
          4.53,
          5.7,
          6.84,
          6.09
         ],
         "xaxis": "x2",
         "y": [
          14.199999809265131,
          16.499999999999996,
          8.180000305175781,
          7.739999771118162,
          8.340000152587889,
          10.699999809265137,
          10.199999809265133,
          9.800000190734862,
          null,
          null
         ],
         "yaxis": "y2"
        },
        {
         "mode": "markers",
         "name": "Ticker SRI",
         "type": "scatter",
         "x": [
          12.66,
          20.42,
          13.43,
          17.91,
          50.33,
          46.68,
          33.88,
          23.48,
          14.96,
          12.57
         ],
         "xaxis": "x",
         "y": [
          0.18647960255701124,
          0.7443154761953833,
          0.8285518009080817,
          1.169381368441481,
          1.2974631708642825,
          1.911022923913132,
          1.2974631708642825,
          1.341296964264569,
          1.3942625468528604,
          1.4148818606044733
         ],
         "yaxis": "y"
        },
        {
         "mode": "markers",
         "name": "Ticker SRI",
         "type": "scatter",
         "x": [
          12.66,
          20.42,
          13.43,
          17.91,
          50.33,
          46.68,
          33.88,
          23.48,
          14.96,
          12.57
         ],
         "xaxis": "x2",
         "y": [
          1.2050000429153442,
          2.1050000190734863,
          2.289999961853028,
          3.2200000286102286,
          3.660000085830689,
          6.760000228881836,
          3.660000085830689,
          3.8239998817443848,
          4.0320000648498535,
          4.116000175476073
         ],
         "yaxis": "y2"
        },
        {
         "mode": "markers",
         "name": "Ticker ALA",
         "type": "scatter",
         "x": [
          5.2,
          5.7,
          4.35,
          5.72,
          5.13,
          2.76,
          4.96,
          9.58,
          7.94,
          7.04
         ],
         "xaxis": "x",
         "y": [
          2.4680995476355903,
          2.3655598563366795,
          null,
          null,
          null,
          null,
          null,
          null,
          null,
          null
         ],
         "yaxis": "y"
        },
        {
         "mode": "markers",
         "name": "Ticker ALA",
         "type": "scatter",
         "x": [
          5.2,
          5.7,
          4.35,
          5.72,
          5.13,
          2.76,
          4.96,
          9.58,
          7.94,
          7.04
         ],
         "xaxis": "x2",
         "y": [
          11.80000019073486,
          10.64999961853027,
          null,
          null,
          null,
          null,
          null,
          null,
          null,
          null
         ],
         "yaxis": "y2"
        },
        {
         "mode": "markers",
         "name": "Ticker ICF",
         "type": "scatter",
         "x": [
          14.38,
          4.74,
          7.65,
          10.58,
          8.44,
          11.88,
          14.79,
          31.07,
          9.41,
          9.73
         ],
         "xaxis": "x",
         "y": [
          1.7155980979710415,
          1.8277698730198415,
          1.6974487967434386,
          null,
          null,
          null,
          null,
          null,
          null,
          null
         ],
         "yaxis": "y"
        },
        {
         "mode": "markers",
         "name": "Ticker ICF",
         "type": "scatter",
         "x": [
          14.38,
          4.74,
          7.65,
          10.58,
          8.44,
          11.88,
          14.79,
          31.07,
          9.41,
          9.73
         ],
         "xaxis": "x2",
         "y": [
          5.55999994277954,
          6.2199997901916495,
          5.460000038146972,
          null,
          null,
          null,
          null,
          null,
          null,
          null
         ],
         "yaxis": "y2"
        },
        {
         "mode": "markers",
         "name": "Ticker ENV",
         "type": "scatter",
         "x": [
          29.76,
          25.26,
          1.58,
          14.25,
          68.88,
          12.13,
          36.72,
          40.88,
          89.64,
          62.24
         ],
         "xaxis": "x",
         "y": [
          1.190887553182456,
          1.3350010541839938,
          1.1939224540228235,
          1.2208299523375428,
          1.1847899790762915,
          1.2470322992672698,
          1.0224509174110963,
          1.0260415821605242,
          1.249901738946927,
          1.1499389134175557
         ],
         "yaxis": "y"
        },
        {
         "mode": "markers",
         "name": "Ticker ENV",
         "type": "scatter",
         "x": [
          29.76,
          25.26,
          1.58,
          14.25,
          68.88,
          12.13,
          36.72,
          40.88,
          89.64,
          62.24
         ],
         "xaxis": "x2",
         "y": [
          3.289999961853028,
          3.799999952316284,
          3.2999999523162837,
          3.390000104904175,
          3.2699999809265132,
          3.480000019073486,
          2.7799999713897705,
          2.7899999618530273,
          3.4900000095367427,
          3.1579999923706046
         ],
         "yaxis": "y2"
        },
        {
         "mode": "markers",
         "name": "Ticker MASI",
         "type": "scatter",
         "x": [
          15.9,
          19.01,
          14.57,
          49.73,
          43.68,
          37.52,
          32.56,
          28.13,
          23,
          22.6
         ],
         "xaxis": "x",
         "y": [
          1.5062972042644385,
          1.348073123528931,
          0.943905872931563,
          1.1568812177849161,
          1.348073123528931,
          1.5040773967762742,
          1.4609378908394477,
          1.4816045625986316,
          null,
          null
         ],
         "yaxis": "y"
        },
        {
         "mode": "markers",
         "name": "Ticker MASI",
         "type": "scatter",
         "x": [
          15.9,
          19.01,
          14.57,
          49.73,
          43.68,
          37.52,
          32.56,
          28.13,
          23,
          22.6
         ],
         "xaxis": "x2",
         "y": [
          4.510000228881836,
          3.8499999046325675,
          2.569999933242798,
          3.180000066757202,
          3.8499999046325675,
          4.5,
          4.30999994277954,
          4.400000095367432,
          null,
          null
         ],
         "yaxis": "y2"
        },
        {
         "mode": "markers",
         "name": "Ticker SVS",
         "type": "scatter",
         "x": [
          3.76,
          3.83,
          3.4,
          3.09,
          3.49,
          3.9,
          3.12,
          3.17,
          2.92,
          2.51
         ],
         "xaxis": "x",
         "y": [
          2.3015845697493673,
          null,
          null,
          null,
          null,
          null,
          null,
          null,
          null,
          null
         ],
         "yaxis": "y"
        },
        {
         "mode": "markers",
         "name": "Ticker SVS",
         "type": "scatter",
         "x": [
          3.76,
          3.83,
          3.4,
          3.09,
          3.49,
          3.9,
          3.12,
          3.17,
          2.92,
          2.51
         ],
         "xaxis": "x2",
         "y": [
          9.989999771118164,
          null,
          null,
          null,
          null,
          null,
          null,
          null,
          null,
          null
         ],
         "yaxis": "y2"
        },
        {
         "mode": "markers",
         "name": "Ticker STAR7",
         "type": "scatter",
         "x": [
          3.09,
          6.74,
          11.18,
          18.33,
          35.38,
          30.72,
          22.76,
          18.67,
          12.87,
          15.15
         ],
         "xaxis": "x",
         "y": [
          2.1679101634795908,
          2.264883237693826,
          null,
          null,
          null,
          null,
          null,
          null,
          null,
          null
         ],
         "yaxis": "y"
        },
        {
         "mode": "markers",
         "name": "Ticker STAR7",
         "type": "scatter",
         "x": [
          3.09,
          6.74,
          11.18,
          18.33,
          35.38,
          30.72,
          22.76,
          18.67,
          12.87,
          15.15
         ],
         "xaxis": "x2",
         "y": [
          8.739999771118164,
          9.630000114440916,
          null,
          null,
          null,
          null,
          null,
          null,
          null,
          null
         ],
         "yaxis": "y2"
        },
        {
         "mode": "markers",
         "name": "Ticker SCK",
         "type": "scatter",
         "x": [
          16.82,
          26.96,
          3.88,
          5.05,
          8.33,
          8.89,
          6.58,
          7.82,
          6.92,
          10.69
         ],
         "xaxis": "x",
         "y": [
          2.0333975857027218,
          2.356125878001209,
          1.1151415749853149,
          0.15700371212988268,
          -0.31471071871163714,
          null,
          null,
          null,
          null,
          null
         ],
         "yaxis": "y"
        },
        {
         "mode": "markers",
         "name": "Ticker SCK",
         "type": "scatter",
         "x": [
          16.82,
          26.96,
          3.88,
          5.05,
          8.33,
          8.89,
          6.58,
          7.82,
          6.92,
          10.69
         ],
         "xaxis": "x2",
         "y": [
          7.639999866485597,
          10.55000019073486,
          3.0499999523162837,
          1.1699999570846558,
          0.7300000190734863,
          null,
          null,
          null,
          null,
          null
         ],
         "yaxis": "y2"
        },
        {
         "mode": "markers",
         "name": "Ticker MARP",
         "type": "scatter",
         "x": [
          15.93,
          19.93,
          6.53,
          4.41,
          13.47,
          19.24,
          12.75,
          14.16,
          7.04,
          6.59
         ],
         "xaxis": "x",
         "y": [
          1.4060969697165737,
          1.5475624681341262,
          1.0296194001512595,
          1.508511989624342,
          null,
          null,
          null,
          null,
          null,
          null
         ],
         "yaxis": "y"
        },
        {
         "mode": "markers",
         "name": "Ticker MARP",
         "type": "scatter",
         "x": [
          15.93,
          19.93,
          6.53,
          4.41,
          13.47,
          19.24,
          12.75,
          14.16,
          7.04,
          6.59
         ],
         "xaxis": "x2",
         "y": [
          4.079999923706054,
          4.699999809265136,
          2.7999999523162837,
          4.519999980926514,
          null,
          null,
          null,
          null,
          null,
          null
         ],
         "yaxis": "y2"
        },
        {
         "mode": "markers",
         "name": "Ticker ITD",
         "type": "scatter",
         "x": [
          82.23,
          258.42,
          175.82,
          210.03,
          89.56,
          56.15,
          51.7,
          23.42,
          19.2,
          36.27
         ],
         "xaxis": "x",
         "y": [
          2.6672281800910014,
          2.972975247406338,
          2.3513752571634776,
          1.8082887555452603,
          1.0986122886681098,
          null,
          null,
          null,
          null,
          null
         ],
         "yaxis": "y"
        },
        {
         "mode": "markers",
         "name": "Ticker ITD",
         "type": "scatter",
         "x": [
          82.23,
          258.42,
          175.82,
          210.03,
          89.56,
          56.15,
          51.7,
          23.42,
          19.2,
          36.27
         ],
         "xaxis": "x2",
         "y": [
          14.399999618530272,
          19.549999237060543,
          10.499999999999998,
          6.0999999046325675,
          3,
          null,
          null,
          null,
          null,
          null
         ],
         "yaxis": "y2"
        },
        {
         "mode": "markers",
         "name": "Ticker VIM",
         "type": "scatter",
         "x": [
          14.86,
          15.47,
          3.9,
          2.3,
          18.13,
          58.56,
          81.87,
          32.29,
          24.65,
          20.53
         ],
         "xaxis": "x",
         "y": [
          0.13102824985805775,
          0.4637340372249708,
          0.18232159653038368,
          0.7654678864965156,
          1.0818051865157,
          null,
          null,
          null,
          null,
          null
         ],
         "yaxis": "y"
        },
        {
         "mode": "markers",
         "name": "Ticker VIM",
         "type": "scatter",
         "x": [
          14.86,
          15.47,
          3.9,
          2.3,
          18.13,
          58.56,
          81.87,
          32.29,
          24.65,
          20.53
         ],
         "xaxis": "x2",
         "y": [
          1.1399999856948853,
          1.590000033378601,
          1.2000000476837158,
          2.150000095367432,
          2.950000047683716,
          null,
          null,
          null,
          null,
          null
         ],
         "yaxis": "y2"
        },
        {
         "mode": "markers",
         "name": "Ticker MDC",
         "type": "scatter",
         "x": [
          30.35,
          27.23,
          23.42,
          14.32,
          14.79,
          6.6,
          5.06,
          8.6,
          3.04,
          3.85
         ],
         "xaxis": "x",
         "y": [
          3.228826155721369,
          3.640214242083339,
          null,
          null,
          null,
          null,
          null,
          null,
          null,
          null
         ],
         "yaxis": "y"
        },
        {
         "mode": "markers",
         "name": "Ticker MDC",
         "type": "scatter",
         "x": [
          30.35,
          27.23,
          23.42,
          14.32,
          14.79,
          6.6,
          5.06,
          8.6,
          3.04,
          3.85
         ],
         "xaxis": "x2",
         "y": [
          25.249999999999996,
          38.09999847412107,
          null,
          null,
          null,
          null,
          null,
          null,
          null,
          null
         ],
         "yaxis": "y2"
        },
        {
         "mode": "markers",
         "name": "Ticker ILP",
         "type": "scatter",
         "x": [
          31.82,
          30.82,
          16.28,
          8.73,
          7.67,
          6.41,
          4.44,
          2.91,
          2.31,
          2.24
         ],
         "xaxis": "x",
         "y": [
          1.490654389331624,
          1.508511989624342,
          0.7129497891566287,
          0.779324907423567,
          null,
          null,
          null,
          null,
          null,
          null
         ],
         "yaxis": "y"
        },
        {
         "mode": "markers",
         "name": "Ticker ILP",
         "type": "scatter",
         "x": [
          31.82,
          30.82,
          16.28,
          8.73,
          7.67,
          6.41,
          4.44,
          2.91,
          2.31,
          2.24
         ],
         "xaxis": "x2",
         "y": [
          4.440000057220458,
          4.519999980926514,
          2.039999961853028,
          2.180000066757202,
          null,
          null,
          null,
          null,
          null,
          null
         ],
         "yaxis": "y2"
        },
        {
         "mode": "markers",
         "name": "Ticker CFL",
         "type": "scatter",
         "x": [
          9.19,
          20.19,
          7.23,
          7.44,
          17.52,
          16.88,
          12.72,
          6.28,
          5.35,
          5.58
         ],
         "xaxis": "x",
         "y": [
          2.536866415880321,
          2.7549338039876257,
          null,
          null,
          null,
          null,
          null,
          null,
          null,
          null
         ],
         "yaxis": "y"
        },
        {
         "mode": "markers",
         "name": "Ticker CFL",
         "type": "scatter",
         "x": [
          9.19,
          20.19,
          7.23,
          7.44,
          17.52,
          16.88,
          12.72,
          6.28,
          5.35,
          5.58
         ],
         "xaxis": "x2",
         "y": [
          12.64000034332275,
          15.720000267028805,
          null,
          null,
          null,
          null,
          null,
          null,
          null,
          null
         ],
         "yaxis": "y2"
        },
        {
         "mode": "markers",
         "name": "Ticker FCM",
         "type": "scatter",
         "x": [
          2.95,
          4.52,
          2.54,
          6.27,
          5.04,
          4.46,
          3.5,
          3.07,
          4.2,
          2.32
         ],
         "xaxis": "x",
         "y": [
          0.12221762850445134,
          0.2350721108710924,
          0.2350721108710924,
          0.47933496257972397,
          null,
          null,
          null,
          null,
          null,
          null
         ],
         "yaxis": "y"
        },
        {
         "mode": "markers",
         "name": "Ticker FCM",
         "type": "scatter",
         "x": [
          2.95,
          4.52,
          2.54,
          6.27,
          5.04,
          4.46,
          3.5,
          3.07,
          4.2,
          2.32
         ],
         "xaxis": "x2",
         "y": [
          1.1299999952316284,
          1.2649999856948853,
          1.2649999856948853,
          1.6150000095367432,
          null,
          null,
          null,
          null,
          null,
          null
         ],
         "yaxis": "y2"
        },
        {
         "mode": "markers",
         "name": "Ticker FVI",
         "type": "scatter",
         "x": [
          86.94,
          71.11,
          140.46,
          126.71,
          231.17,
          237.58,
          95.68,
          25.71,
          22.98,
          17.65
         ],
         "xaxis": "x",
         "y": [
          2.7440606508911505,
          2.69462719365756,
          2.509599277885271,
          2.4248027425974863,
          2.4061257641178835,
          null,
          null,
          null,
          null,
          null
         ],
         "yaxis": "y"
        },
        {
         "mode": "markers",
         "name": "Ticker FVI",
         "type": "scatter",
         "x": [
          86.94,
          71.11,
          140.46,
          126.71,
          231.17,
          237.58,
          95.68,
          25.71,
          22.98,
          17.65
         ],
         "xaxis": "x2",
         "y": [
          15.550000190734858,
          14.800000190734858,
          12.30000019073486,
          11.300000190734863,
          11.090909004211426,
          null,
          null,
          null,
          null,
          null
         ],
         "yaxis": "y2"
        },
        {
         "mode": "markers",
         "name": "Ticker PLT",
         "type": "scatter",
         "x": [
          18.76,
          21.47,
          17.09,
          21.77,
          46.7,
          67.42,
          71.32,
          118.75,
          94.14,
          236.16
         ],
         "xaxis": "x",
         "y": [
          null,
          null,
          null,
          null,
          null,
          null,
          null,
          null,
          null,
          null
         ],
         "yaxis": "y"
        },
        {
         "mode": "markers",
         "name": "Ticker PLT",
         "type": "scatter",
         "x": [
          18.76,
          21.47,
          17.09,
          21.77,
          46.7,
          67.42,
          71.32,
          118.75,
          94.14,
          236.16
         ],
         "xaxis": "x2",
         "y": [
          null,
          null,
          null,
          null,
          null,
          null,
          null,
          null,
          null,
          null
         ],
         "yaxis": "y2"
        },
        {
         "mode": "markers",
         "name": "Ticker LDB",
         "type": "scatter",
         "x": [
          9.99,
          49.65,
          34.59,
          32.56,
          29.36,
          17.77,
          12.12,
          9.71,
          8.24,
          9.28
         ],
         "xaxis": "x",
         "y": [
          0.6291418754934363,
          0.7952523647473517,
          null,
          null,
          null,
          null,
          null,
          null,
          null,
          null
         ],
         "yaxis": "y"
        },
        {
         "mode": "markers",
         "name": "Ticker LDB",
         "type": "scatter",
         "x": [
          9.99,
          49.65,
          34.59,
          32.56,
          29.36,
          17.77,
          12.12,
          9.71,
          8.24,
          9.28
         ],
         "xaxis": "x2",
         "y": [
          1.876000046730041,
          2.2149999141693115,
          null,
          null,
          null,
          null,
          null,
          null,
          null,
          null
         ],
         "yaxis": "y2"
        },
        {
         "mode": "markers",
         "name": "Ticker FOS",
         "type": "scatter",
         "x": [
          17.45,
          18.54,
          11.16,
          10.6,
          5.85,
          5.75,
          4.89,
          5.9,
          4.95,
          4.79
         ],
         "xaxis": "x",
         "y": [
          1.2119409427536318,
          1.3506671562994919,
          0.9082585678678127,
          1.1426291710428607,
          null,
          null,
          null,
          null,
          null,
          null
         ],
         "yaxis": "y"
        },
        {
         "mode": "markers",
         "name": "Ticker FOS",
         "type": "scatter",
         "x": [
          17.45,
          18.54,
          11.16,
          10.6,
          5.85,
          5.75,
          4.89,
          5.9,
          4.95,
          4.79
         ],
         "xaxis": "x2",
         "y": [
          3.359999895095825,
          3.859999895095825,
          2.4800000190734863,
          3.1349999904632564,
          null,
          null,
          null,
          null,
          null,
          null
         ],
         "yaxis": "y2"
        },
        {
         "mode": "markers",
         "name": "Ticker BAN",
         "type": "scatter",
         "x": [
          19.89,
          23.3,
          23.41,
          48.79,
          29.05,
          25.64,
          25,
          23.1,
          13.82,
          8.35
         ],
         "xaxis": "x",
         "y": [
          1.6992785780777009,
          1.814824720414034,
          1.4586150670564606,
          1.6677068565457855,
          1.4929040533163809,
          1.3244189548654353,
          1.2005670192292972,
          1.4683350732132154,
          0.8162494147953161,
          0.8862438592669583
         ],
         "yaxis": "y"
        },
        {
         "mode": "markers",
         "name": "Ticker BAN",
         "type": "scatter",
         "x": [
          19.89,
          23.3,
          23.41,
          48.79,
          29.05,
          25.64,
          25,
          23.1,
          13.82,
          8.35
         ],
         "xaxis": "x2",
         "y": [
          5.46999979019165,
          6.139999866485596,
          4.300000190734862,
          5.300000190734862,
          4.449999809265136,
          3.7599999904632564,
          3.3220000267028804,
          4.3420000076293945,
          2.26200008392334,
          2.4260001182556152
         ],
         "yaxis": "y2"
        }
       ],
       "layout": {
        "showlegend": false,
        "template": {
         "data": {
          "bar": [
           {
            "error_x": {
             "color": "#2a3f5f"
            },
            "error_y": {
             "color": "#2a3f5f"
            },
            "marker": {
             "line": {
              "color": "#E5ECF6",
              "width": 0.5
             },
             "pattern": {
              "fillmode": "overlay",
              "size": 10,
              "solidity": 0.2
             }
            },
            "type": "bar"
           }
          ],
          "barpolar": [
           {
            "marker": {
             "line": {
              "color": "#E5ECF6",
              "width": 0.5
             },
             "pattern": {
              "fillmode": "overlay",
              "size": 10,
              "solidity": 0.2
             }
            },
            "type": "barpolar"
           }
          ],
          "carpet": [
           {
            "aaxis": {
             "endlinecolor": "#2a3f5f",
             "gridcolor": "white",
             "linecolor": "white",
             "minorgridcolor": "white",
             "startlinecolor": "#2a3f5f"
            },
            "baxis": {
             "endlinecolor": "#2a3f5f",
             "gridcolor": "white",
             "linecolor": "white",
             "minorgridcolor": "white",
             "startlinecolor": "#2a3f5f"
            },
            "type": "carpet"
           }
          ],
          "choropleth": [
           {
            "colorbar": {
             "outlinewidth": 0,
             "ticks": ""
            },
            "type": "choropleth"
           }
          ],
          "contour": [
           {
            "colorbar": {
             "outlinewidth": 0,
             "ticks": ""
            },
            "colorscale": [
             [
              0,
              "#0d0887"
             ],
             [
              0.1111111111111111,
              "#46039f"
             ],
             [
              0.2222222222222222,
              "#7201a8"
             ],
             [
              0.3333333333333333,
              "#9c179e"
             ],
             [
              0.4444444444444444,
              "#bd3786"
             ],
             [
              0.5555555555555556,
              "#d8576b"
             ],
             [
              0.6666666666666666,
              "#ed7953"
             ],
             [
              0.7777777777777778,
              "#fb9f3a"
             ],
             [
              0.8888888888888888,
              "#fdca26"
             ],
             [
              1,
              "#f0f921"
             ]
            ],
            "type": "contour"
           }
          ],
          "contourcarpet": [
           {
            "colorbar": {
             "outlinewidth": 0,
             "ticks": ""
            },
            "type": "contourcarpet"
           }
          ],
          "heatmap": [
           {
            "colorbar": {
             "outlinewidth": 0,
             "ticks": ""
            },
            "colorscale": [
             [
              0,
              "#0d0887"
             ],
             [
              0.1111111111111111,
              "#46039f"
             ],
             [
              0.2222222222222222,
              "#7201a8"
             ],
             [
              0.3333333333333333,
              "#9c179e"
             ],
             [
              0.4444444444444444,
              "#bd3786"
             ],
             [
              0.5555555555555556,
              "#d8576b"
             ],
             [
              0.6666666666666666,
              "#ed7953"
             ],
             [
              0.7777777777777778,
              "#fb9f3a"
             ],
             [
              0.8888888888888888,
              "#fdca26"
             ],
             [
              1,
              "#f0f921"
             ]
            ],
            "type": "heatmap"
           }
          ],
          "heatmapgl": [
           {
            "colorbar": {
             "outlinewidth": 0,
             "ticks": ""
            },
            "colorscale": [
             [
              0,
              "#0d0887"
             ],
             [
              0.1111111111111111,
              "#46039f"
             ],
             [
              0.2222222222222222,
              "#7201a8"
             ],
             [
              0.3333333333333333,
              "#9c179e"
             ],
             [
              0.4444444444444444,
              "#bd3786"
             ],
             [
              0.5555555555555556,
              "#d8576b"
             ],
             [
              0.6666666666666666,
              "#ed7953"
             ],
             [
              0.7777777777777778,
              "#fb9f3a"
             ],
             [
              0.8888888888888888,
              "#fdca26"
             ],
             [
              1,
              "#f0f921"
             ]
            ],
            "type": "heatmapgl"
           }
          ],
          "histogram": [
           {
            "marker": {
             "pattern": {
              "fillmode": "overlay",
              "size": 10,
              "solidity": 0.2
             }
            },
            "type": "histogram"
           }
          ],
          "histogram2d": [
           {
            "colorbar": {
             "outlinewidth": 0,
             "ticks": ""
            },
            "colorscale": [
             [
              0,
              "#0d0887"
             ],
             [
              0.1111111111111111,
              "#46039f"
             ],
             [
              0.2222222222222222,
              "#7201a8"
             ],
             [
              0.3333333333333333,
              "#9c179e"
             ],
             [
              0.4444444444444444,
              "#bd3786"
             ],
             [
              0.5555555555555556,
              "#d8576b"
             ],
             [
              0.6666666666666666,
              "#ed7953"
             ],
             [
              0.7777777777777778,
              "#fb9f3a"
             ],
             [
              0.8888888888888888,
              "#fdca26"
             ],
             [
              1,
              "#f0f921"
             ]
            ],
            "type": "histogram2d"
           }
          ],
          "histogram2dcontour": [
           {
            "colorbar": {
             "outlinewidth": 0,
             "ticks": ""
            },
            "colorscale": [
             [
              0,
              "#0d0887"
             ],
             [
              0.1111111111111111,
              "#46039f"
             ],
             [
              0.2222222222222222,
              "#7201a8"
             ],
             [
              0.3333333333333333,
              "#9c179e"
             ],
             [
              0.4444444444444444,
              "#bd3786"
             ],
             [
              0.5555555555555556,
              "#d8576b"
             ],
             [
              0.6666666666666666,
              "#ed7953"
             ],
             [
              0.7777777777777778,
              "#fb9f3a"
             ],
             [
              0.8888888888888888,
              "#fdca26"
             ],
             [
              1,
              "#f0f921"
             ]
            ],
            "type": "histogram2dcontour"
           }
          ],
          "mesh3d": [
           {
            "colorbar": {
             "outlinewidth": 0,
             "ticks": ""
            },
            "type": "mesh3d"
           }
          ],
          "parcoords": [
           {
            "line": {
             "colorbar": {
              "outlinewidth": 0,
              "ticks": ""
             }
            },
            "type": "parcoords"
           }
          ],
          "pie": [
           {
            "automargin": true,
            "type": "pie"
           }
          ],
          "scatter": [
           {
            "fillpattern": {
             "fillmode": "overlay",
             "size": 10,
             "solidity": 0.2
            },
            "type": "scatter"
           }
          ],
          "scatter3d": [
           {
            "line": {
             "colorbar": {
              "outlinewidth": 0,
              "ticks": ""
             }
            },
            "marker": {
             "colorbar": {
              "outlinewidth": 0,
              "ticks": ""
             }
            },
            "type": "scatter3d"
           }
          ],
          "scattercarpet": [
           {
            "marker": {
             "colorbar": {
              "outlinewidth": 0,
              "ticks": ""
             }
            },
            "type": "scattercarpet"
           }
          ],
          "scattergeo": [
           {
            "marker": {
             "colorbar": {
              "outlinewidth": 0,
              "ticks": ""
             }
            },
            "type": "scattergeo"
           }
          ],
          "scattergl": [
           {
            "marker": {
             "colorbar": {
              "outlinewidth": 0,
              "ticks": ""
             }
            },
            "type": "scattergl"
           }
          ],
          "scattermapbox": [
           {
            "marker": {
             "colorbar": {
              "outlinewidth": 0,
              "ticks": ""
             }
            },
            "type": "scattermapbox"
           }
          ],
          "scatterpolar": [
           {
            "marker": {
             "colorbar": {
              "outlinewidth": 0,
              "ticks": ""
             }
            },
            "type": "scatterpolar"
           }
          ],
          "scatterpolargl": [
           {
            "marker": {
             "colorbar": {
              "outlinewidth": 0,
              "ticks": ""
             }
            },
            "type": "scatterpolargl"
           }
          ],
          "scatterternary": [
           {
            "marker": {
             "colorbar": {
              "outlinewidth": 0,
              "ticks": ""
             }
            },
            "type": "scatterternary"
           }
          ],
          "surface": [
           {
            "colorbar": {
             "outlinewidth": 0,
             "ticks": ""
            },
            "colorscale": [
             [
              0,
              "#0d0887"
             ],
             [
              0.1111111111111111,
              "#46039f"
             ],
             [
              0.2222222222222222,
              "#7201a8"
             ],
             [
              0.3333333333333333,
              "#9c179e"
             ],
             [
              0.4444444444444444,
              "#bd3786"
             ],
             [
              0.5555555555555556,
              "#d8576b"
             ],
             [
              0.6666666666666666,
              "#ed7953"
             ],
             [
              0.7777777777777778,
              "#fb9f3a"
             ],
             [
              0.8888888888888888,
              "#fdca26"
             ],
             [
              1,
              "#f0f921"
             ]
            ],
            "type": "surface"
           }
          ],
          "table": [
           {
            "cells": {
             "fill": {
              "color": "#EBF0F8"
             },
             "line": {
              "color": "white"
             }
            },
            "header": {
             "fill": {
              "color": "#C8D4E3"
             },
             "line": {
              "color": "white"
             }
            },
            "type": "table"
           }
          ]
         },
         "layout": {
          "annotationdefaults": {
           "arrowcolor": "#2a3f5f",
           "arrowhead": 0,
           "arrowwidth": 1
          },
          "autotypenumbers": "strict",
          "coloraxis": {
           "colorbar": {
            "outlinewidth": 0,
            "ticks": ""
           }
          },
          "colorscale": {
           "diverging": [
            [
             0,
             "#8e0152"
            ],
            [
             0.1,
             "#c51b7d"
            ],
            [
             0.2,
             "#de77ae"
            ],
            [
             0.3,
             "#f1b6da"
            ],
            [
             0.4,
             "#fde0ef"
            ],
            [
             0.5,
             "#f7f7f7"
            ],
            [
             0.6,
             "#e6f5d0"
            ],
            [
             0.7,
             "#b8e186"
            ],
            [
             0.8,
             "#7fbc41"
            ],
            [
             0.9,
             "#4d9221"
            ],
            [
             1,
             "#276419"
            ]
           ],
           "sequential": [
            [
             0,
             "#0d0887"
            ],
            [
             0.1111111111111111,
             "#46039f"
            ],
            [
             0.2222222222222222,
             "#7201a8"
            ],
            [
             0.3333333333333333,
             "#9c179e"
            ],
            [
             0.4444444444444444,
             "#bd3786"
            ],
            [
             0.5555555555555556,
             "#d8576b"
            ],
            [
             0.6666666666666666,
             "#ed7953"
            ],
            [
             0.7777777777777778,
             "#fb9f3a"
            ],
            [
             0.8888888888888888,
             "#fdca26"
            ],
            [
             1,
             "#f0f921"
            ]
           ],
           "sequentialminus": [
            [
             0,
             "#0d0887"
            ],
            [
             0.1111111111111111,
             "#46039f"
            ],
            [
             0.2222222222222222,
             "#7201a8"
            ],
            [
             0.3333333333333333,
             "#9c179e"
            ],
            [
             0.4444444444444444,
             "#bd3786"
            ],
            [
             0.5555555555555556,
             "#d8576b"
            ],
            [
             0.6666666666666666,
             "#ed7953"
            ],
            [
             0.7777777777777778,
             "#fb9f3a"
            ],
            [
             0.8888888888888888,
             "#fdca26"
            ],
            [
             1,
             "#f0f921"
            ]
           ]
          },
          "colorway": [
           "#636efa",
           "#EF553B",
           "#00cc96",
           "#ab63fa",
           "#FFA15A",
           "#19d3f3",
           "#FF6692",
           "#B6E880",
           "#FF97FF",
           "#FECB52"
          ],
          "font": {
           "color": "#2a3f5f"
          },
          "geo": {
           "bgcolor": "white",
           "lakecolor": "white",
           "landcolor": "#E5ECF6",
           "showlakes": true,
           "showland": true,
           "subunitcolor": "white"
          },
          "hoverlabel": {
           "align": "left"
          },
          "hovermode": "closest",
          "mapbox": {
           "style": "light"
          },
          "paper_bgcolor": "white",
          "plot_bgcolor": "#E5ECF6",
          "polar": {
           "angularaxis": {
            "gridcolor": "white",
            "linecolor": "white",
            "ticks": ""
           },
           "bgcolor": "#E5ECF6",
           "radialaxis": {
            "gridcolor": "white",
            "linecolor": "white",
            "ticks": ""
           }
          },
          "scene": {
           "xaxis": {
            "backgroundcolor": "#E5ECF6",
            "gridcolor": "white",
            "gridwidth": 2,
            "linecolor": "white",
            "showbackground": true,
            "ticks": "",
            "zerolinecolor": "white"
           },
           "yaxis": {
            "backgroundcolor": "#E5ECF6",
            "gridcolor": "white",
            "gridwidth": 2,
            "linecolor": "white",
            "showbackground": true,
            "ticks": "",
            "zerolinecolor": "white"
           },
           "zaxis": {
            "backgroundcolor": "#E5ECF6",
            "gridcolor": "white",
            "gridwidth": 2,
            "linecolor": "white",
            "showbackground": true,
            "ticks": "",
            "zerolinecolor": "white"
           }
          },
          "shapedefaults": {
           "line": {
            "color": "#2a3f5f"
           }
          },
          "ternary": {
           "aaxis": {
            "gridcolor": "white",
            "linecolor": "white",
            "ticks": ""
           },
           "baxis": {
            "gridcolor": "white",
            "linecolor": "white",
            "ticks": ""
           },
           "bgcolor": "#E5ECF6",
           "caxis": {
            "gridcolor": "white",
            "linecolor": "white",
            "ticks": ""
           }
          },
          "title": {
           "x": 0.05
          },
          "xaxis": {
           "automargin": true,
           "gridcolor": "white",
           "linecolor": "white",
           "ticks": "",
           "title": {
            "standoff": 15
           },
           "zerolinecolor": "white",
           "zerolinewidth": 2
          },
          "yaxis": {
           "automargin": true,
           "gridcolor": "white",
           "linecolor": "white",
           "ticks": "",
           "title": {
            "standoff": 15
           },
           "zerolinecolor": "white",
           "zerolinewidth": 2
          }
         }
        },
        "title": {
         "text": "Relazione tra Grado_di_copertura_degli_interessi_passivi e Valori Borsa"
        },
        "xaxis": {
         "anchor": "y",
         "domain": [
          0,
          0.45
         ]
        },
        "xaxis2": {
         "anchor": "y2",
         "domain": [
          0.55,
          1
         ]
        },
        "yaxis": {
         "anchor": "x",
         "domain": [
          0,
          1
         ],
         "title": {
          "text": "Log Valori Borsa"
         }
        },
        "yaxis2": {
         "anchor": "x2",
         "domain": [
          0,
          1
         ],
         "title": {
          "text": "Valori Borsa"
         }
        }
       }
      }
     },
     "metadata": {},
     "output_type": "display_data"
    },
    {
     "data": {
      "application/vnd.plotly.v1+json": {
       "config": {
        "plotlyServerURL": "https://plot.ly"
       },
       "data": [
        {
         "mode": "markers",
         "name": "Ticker MARR",
         "type": "scatter",
         "x": [
          13.25,
          15.76,
          35.37,
          18.59,
          18.72,
          17.07,
          15.94,
          15.46,
          13.3,
          15.47
         ],
         "xaxis": "x",
         "y": [
          2.509599277885271,
          2.9349201179417297,
          2.8791984144362717,
          3.054001217665676,
          3.0689827565651293,
          3.07915387116492,
          2.87073576176629,
          2.8887036625848097,
          2.691243082785829,
          2.4849066497880004
         ],
         "yaxis": "y"
        },
        {
         "mode": "markers",
         "name": "Ticker MARR",
         "type": "scatter",
         "x": [
          13.25,
          15.76,
          35.37,
          18.59,
          18.72,
          17.07,
          15.94,
          15.46,
          13.3,
          15.47
         ],
         "xaxis": "x2",
         "y": [
          12.30000019073486,
          18.819999694824215,
          17.799999237060547,
          21.20000076293945,
          21.520000457763665,
          21.73999977111816,
          17.64999961853027,
          17.969999313354485,
          14.749999999999998,
          11.999999999999998
         ],
         "yaxis": "y2"
        },
        {
         "mode": "markers",
         "name": "Ticker PIA",
         "type": "scatter",
         "x": [
          22.36,
          28.91,
          33.15,
          27.62,
          27.53,
          19.48,
          30.92,
          26.14,
          26.1,
          33.32
         ],
         "xaxis": "x",
         "y": [
          1.077048147781857,
          1.0522192777352672,
          0.9962103346242122,
          1.007957923880542,
          0.6392188284692253,
          0.917889432671393,
          0.48365994275805774,
          0.698134717326336,
          0.9066443833247319,
          0.8569652431213597
         ],
         "yaxis": "y"
        },
        {
         "mode": "markers",
         "name": "Ticker PIA",
         "type": "scatter",
         "x": [
          22.36,
          28.91,
          33.15,
          27.62,
          27.53,
          19.48,
          30.92,
          26.14,
          26.1,
          33.32
         ],
         "xaxis": "x2",
         "y": [
          2.9360001087188716,
          2.864000082015991,
          2.7079999446868896,
          2.740000009536743,
          1.8949999809265134,
          2.503999948501587,
          1.621999979019165,
          2.009999990463257,
          2.476000070571899,
          2.3559999465942383
         ],
         "yaxis": "y2"
        },
        {
         "mode": "markers",
         "name": "Ticker BRE",
         "type": "scatter",
         "x": [
          47.33,
          60.26,
          74.3,
          25.64,
          25.5,
          31.72,
          29.26,
          25.86,
          34.3,
          32.37
         ],
         "xaxis": "x",
         "y": [
          2.4033350340342152,
          2.564179813062659,
          2.393218807006317,
          2.404238719152724,
          2.320425041100351,
          2.58475200201879,
          2.4890646757652832,
          2.07969149231976,
          1.6815725236803198,
          1.3681303836941336
         ],
         "yaxis": "y"
        },
        {
         "mode": "markers",
         "name": "Ticker BRE",
         "type": "scatter",
         "x": [
          47.33,
          60.26,
          74.3,
          25.64,
          25.5,
          31.72,
          29.26,
          25.86,
          34.3,
          32.37
         ],
         "xaxis": "x2",
         "y": [
          11.0600004196167,
          12.989999771118162,
          10.948678970336912,
          11.069999694824217,
          10.180000305175781,
          13.260000228881834,
          12.050000190734862,
          8.001999855041504,
          5.374000072479247,
          3.9279999732971187
         ],
         "yaxis": "y2"
        },
        {
         "mode": "markers",
         "name": "Ticker DAN",
         "type": "scatter",
         "x": [
          41.57,
          38.37,
          81.98,
          45.02,
          29.85,
          37.22,
          20.13,
          21.33,
          8.59,
          10.12
         ],
         "xaxis": "x",
         "y": [
          3.104586644253541,
          3.2790297189519984,
          2.7265447662626667,
          2.8154087651077058,
          2.785011289333365,
          3.0516398874558934,
          3.0243197266987147,
          2.740840023925201,
          3.000222186422059,
          3.2308043655777645
         ],
         "yaxis": "y"
        },
        {
         "mode": "markers",
         "name": "Ticker DAN",
         "type": "scatter",
         "x": [
          41.57,
          38.37,
          81.98,
          45.02,
          29.85,
          37.22,
          20.13,
          21.33,
          8.59,
          10.12
         ],
         "xaxis": "x2",
         "y": [
          22.299999237060543,
          26.549999237060547,
          15.279999732971186,
          16.700000762939453,
          16.20000076293945,
          21.149999618530277,
          20.57999992370605,
          15.499999999999996,
          20.090000152587887,
          25.299999237060543
         ],
         "yaxis": "y2"
        },
        {
         "mode": "markers",
         "name": "Ticker BC",
         "type": "scatter",
         "x": [
          18.36,
          24.29,
          39.1,
          22.96,
          19.22,
          20.81,
          20.79,
          24.06,
          25.56,
          17.33
         ],
         "xaxis": "x",
         "y": [
          4.269697449699962,
          4.107589776423775,
          3.5333946002941827,
          3.5587707383536116,
          3.349904087274605,
          3.363841581918742,
          3.0267462864029175,
          2.7033726319915394,
          2.8735646826837065,
          3.1705255511154085
         ],
         "yaxis": "y"
        },
        {
         "mode": "markers",
         "name": "Ticker BC",
         "type": "scatter",
         "x": [
          18.36,
          24.29,
          39.1,
          22.96,
          19.22,
          20.81,
          20.79,
          24.06,
          25.56,
          17.33
         ],
         "xaxis": "x2",
         "y": [
          71.49999999999996,
          60.79999923706053,
          34.2400016784668,
          35.11999893188476,
          28.499999999999996,
          28.89999961853027,
          20.6299991607666,
          14.930000305175776,
          17.70000076293945,
          23.81999969482422
         ],
         "yaxis": "y2"
        },
        {
         "mode": "markers",
         "name": "Ticker CLI",
         "type": "scatter",
         "x": [
          20.97,
          26.07,
          53.89,
          27.84,
          17.38,
          19.09,
          18.21,
          18.2,
          10.94,
          13.35
         ],
         "xaxis": "x",
         "y": [
          1.0543119898966447,
          1.2412686000947695,
          0.9001613654511708,
          0.9162907318741551,
          1.007957923880542,
          1.2584609841914016,
          1.1052568250710544,
          1.1933162536324886,
          0.9895412148852936,
          0.6418538736240484
         ],
         "yaxis": "y"
        },
        {
         "mode": "markers",
         "name": "Ticker CLI",
         "type": "scatter",
         "x": [
          20.97,
          26.07,
          53.89,
          27.84,
          17.38,
          19.09,
          18.21,
          18.2,
          10.94,
          13.35
         ],
         "xaxis": "x2",
         "y": [
          2.869999885559082,
          3.4600000381469727,
          2.4600000381469727,
          2.5,
          2.740000009536743,
          3.5199999809265132,
          3.0199999809265137,
          3.29800009727478,
          2.6900000572204585,
          1.899999976158142
         ],
         "yaxis": "y2"
        },
        {
         "mode": "markers",
         "name": "Ticker ELC",
         "type": "scatter",
         "x": [
          27.38,
          25.69,
          31.06,
          20.58,
          22.73,
          25.21,
          25.12,
          25.38,
          27.7,
          27.93
         ],
         "xaxis": "x",
         "y": [
          1.120047588057166,
          1.264126716369702,
          1.1265516697226583,
          1.0885619624476819,
          0.4187103223098387,
          0.9082585678678127,
          0.6097655897614381,
          0.6418538736240484,
          0.5704144453674508,
          0.5709795358097567
         ],
         "yaxis": "y"
        },
        {
         "mode": "markers",
         "name": "Ticker ELC",
         "type": "scatter",
         "x": [
          27.38,
          25.69,
          31.06,
          20.58,
          22.73,
          25.21,
          25.12,
          25.38,
          27.7,
          27.93
         ],
         "xaxis": "x2",
         "y": [
          3.065000057220459,
          3.5399999618530273,
          3.0850000381469727,
          2.9700000286102286,
          1.5199999809265137,
          2.4800000190734863,
          1.840000033378601,
          1.899999976158142,
          1.7690000534057615,
          1.7699999809265134
         ],
         "yaxis": "y2"
        },
        {
         "mode": "markers",
         "name": "Ticker GPI",
         "type": "scatter",
         "x": [
          76.64,
          46.38,
          53.2,
          41.59,
          74.16,
          35.72,
          49.04,
          54.85,
          22.99,
          33.57
         ],
         "xaxis": "x",
         "y": [
          2.653241951175182,
          2.803360380906535,
          2.101692187922208,
          2.0464016580303386,
          2.121063234666565,
          2.3702437236421723,
          2.3223877015907286,
          2.282382405139267,
          null,
          null
         ],
         "yaxis": "y"
        },
        {
         "mode": "markers",
         "name": "Ticker GPI",
         "type": "scatter",
         "x": [
          76.64,
          46.38,
          53.2,
          41.59,
          74.16,
          35.72,
          49.04,
          54.85,
          22.99,
          33.57
         ],
         "xaxis": "x2",
         "y": [
          14.199999809265131,
          16.499999999999996,
          8.180000305175781,
          7.739999771118162,
          8.340000152587889,
          10.699999809265137,
          10.199999809265133,
          9.800000190734862,
          null,
          null
         ],
         "yaxis": "y2"
        },
        {
         "mode": "markers",
         "name": "Ticker SRI",
         "type": "scatter",
         "x": [
          46.95,
          42.28,
          48.32,
          43.49,
          40.95,
          38.8,
          43.78,
          36.73,
          31.18,
          38.39
         ],
         "xaxis": "x",
         "y": [
          0.18647960255701124,
          0.7443154761953833,
          0.8285518009080817,
          1.169381368441481,
          1.2974631708642825,
          1.911022923913132,
          1.2974631708642825,
          1.341296964264569,
          1.3942625468528604,
          1.4148818606044733
         ],
         "yaxis": "y"
        },
        {
         "mode": "markers",
         "name": "Ticker SRI",
         "type": "scatter",
         "x": [
          46.95,
          42.28,
          48.32,
          43.49,
          40.95,
          38.8,
          43.78,
          36.73,
          31.18,
          38.39
         ],
         "xaxis": "x2",
         "y": [
          1.2050000429153442,
          2.1050000190734863,
          2.289999961853028,
          3.2200000286102286,
          3.660000085830689,
          6.760000228881836,
          3.660000085830689,
          3.8239998817443848,
          4.0320000648498535,
          4.116000175476073
         ],
         "yaxis": "y2"
        },
        {
         "mode": "markers",
         "name": "Ticker ALA",
         "type": "scatter",
         "x": [
          52.48,
          33.55,
          37.79,
          31.54,
          37.15,
          45.49,
          40.64,
          30.16,
          64.17,
          21.36
         ],
         "xaxis": "x",
         "y": [
          2.4680995476355903,
          2.3655598563366795,
          null,
          null,
          null,
          null,
          null,
          null,
          null,
          null
         ],
         "yaxis": "y"
        },
        {
         "mode": "markers",
         "name": "Ticker ALA",
         "type": "scatter",
         "x": [
          52.48,
          33.55,
          37.79,
          31.54,
          37.15,
          45.49,
          40.64,
          30.16,
          64.17,
          21.36
         ],
         "xaxis": "x2",
         "y": [
          11.80000019073486,
          10.64999961853027,
          null,
          null,
          null,
          null,
          null,
          null,
          null,
          null
         ],
         "yaxis": "y2"
        },
        {
         "mode": "markers",
         "name": "Ticker ICF",
         "type": "scatter",
         "x": [
          13.81,
          18.79,
          19.72,
          16.81,
          17.67,
          19.9,
          28.08,
          6.37,
          16.83,
          23.06
         ],
         "xaxis": "x",
         "y": [
          1.7155980979710415,
          1.8277698730198415,
          1.6974487967434386,
          null,
          null,
          null,
          null,
          null,
          null,
          null
         ],
         "yaxis": "y"
        },
        {
         "mode": "markers",
         "name": "Ticker ICF",
         "type": "scatter",
         "x": [
          13.81,
          18.79,
          19.72,
          16.81,
          17.67,
          19.9,
          28.08,
          6.37,
          16.83,
          23.06
         ],
         "xaxis": "x2",
         "y": [
          5.55999994277954,
          6.2199997901916495,
          5.460000038146972,
          null,
          null,
          null,
          null,
          null,
          null,
          null
         ],
         "yaxis": "y2"
        },
        {
         "mode": "markers",
         "name": "Ticker ENV",
         "type": "scatter",
         "x": [
          16.75,
          26.2,
          39.07,
          15.91,
          5.35,
          8.89,
          9.8,
          4.54,
          3.33,
          2.4
         ],
         "xaxis": "x",
         "y": [
          1.190887553182456,
          1.3350010541839938,
          1.1939224540228235,
          1.2208299523375428,
          1.1847899790762915,
          1.2470322992672698,
          1.0224509174110963,
          1.0260415821605242,
          1.249901738946927,
          1.1499389134175557
         ],
         "yaxis": "y"
        },
        {
         "mode": "markers",
         "name": "Ticker ENV",
         "type": "scatter",
         "x": [
          16.75,
          26.2,
          39.07,
          15.91,
          5.35,
          8.89,
          9.8,
          4.54,
          3.33,
          2.4
         ],
         "xaxis": "x2",
         "y": [
          3.289999961853028,
          3.799999952316284,
          3.2999999523162837,
          3.390000104904175,
          3.2699999809265132,
          3.480000019073486,
          2.7799999713897705,
          2.7899999618530273,
          3.4900000095367427,
          3.1579999923706046
         ],
         "yaxis": "y2"
        },
        {
         "mode": "markers",
         "name": "Ticker MASI",
         "type": "scatter",
         "x": [
          42.12,
          33.71,
          49.47,
          21,
          22.31,
          23.91,
          18.35,
          26.46,
          36.09,
          40.69
         ],
         "xaxis": "x",
         "y": [
          1.5062972042644385,
          1.348073123528931,
          0.943905872931563,
          1.1568812177849161,
          1.348073123528931,
          1.5040773967762742,
          1.4609378908394477,
          1.4816045625986316,
          null,
          null
         ],
         "yaxis": "y"
        },
        {
         "mode": "markers",
         "name": "Ticker MASI",
         "type": "scatter",
         "x": [
          42.12,
          33.71,
          49.47,
          21,
          22.31,
          23.91,
          18.35,
          26.46,
          36.09,
          40.69
         ],
         "xaxis": "x2",
         "y": [
          4.510000228881836,
          3.8499999046325675,
          2.569999933242798,
          3.180000066757202,
          3.8499999046325675,
          4.5,
          4.30999994277954,
          4.400000095367432,
          null,
          null
         ],
         "yaxis": "y2"
        },
        {
         "mode": "markers",
         "name": "Ticker SVS",
         "type": "scatter",
         "x": [
          57.84,
          56.96,
          42.82,
          39.44,
          40.52,
          44.95,
          46.62,
          32.01,
          38.22,
          37.81
         ],
         "xaxis": "x",
         "y": [
          2.3015845697493673,
          null,
          null,
          null,
          null,
          null,
          null,
          null,
          null,
          null
         ],
         "yaxis": "y"
        },
        {
         "mode": "markers",
         "name": "Ticker SVS",
         "type": "scatter",
         "x": [
          57.84,
          56.96,
          42.82,
          39.44,
          40.52,
          44.95,
          46.62,
          32.01,
          38.22,
          37.81
         ],
         "xaxis": "x2",
         "y": [
          9.989999771118164,
          null,
          null,
          null,
          null,
          null,
          null,
          null,
          null,
          null
         ],
         "yaxis": "y2"
        },
        {
         "mode": "markers",
         "name": "Ticker STAR7",
         "type": "scatter",
         "x": [
          38.92,
          46.21,
          48.5,
          41.32,
          22.32,
          26.11,
          12.38,
          14.18,
          7.59,
          6.05
         ],
         "xaxis": "x",
         "y": [
          2.1679101634795908,
          2.264883237693826,
          null,
          null,
          null,
          null,
          null,
          null,
          null,
          null
         ],
         "yaxis": "y"
        },
        {
         "mode": "markers",
         "name": "Ticker STAR7",
         "type": "scatter",
         "x": [
          38.92,
          46.21,
          48.5,
          41.32,
          22.32,
          26.11,
          12.38,
          14.18,
          7.59,
          6.05
         ],
         "xaxis": "x2",
         "y": [
          8.739999771118164,
          9.630000114440916,
          null,
          null,
          null,
          null,
          null,
          null,
          null,
          null
         ],
         "yaxis": "y2"
        },
        {
         "mode": "markers",
         "name": "Ticker SCK",
         "type": "scatter",
         "x": [
          46.44,
          19.63,
          53.86,
          50.37,
          29.33,
          33.31,
          24.29,
          16.16,
          9.51,
          8.11
         ],
         "xaxis": "x",
         "y": [
          2.0333975857027218,
          2.356125878001209,
          1.1151415749853149,
          0.15700371212988268,
          -0.31471071871163714,
          null,
          null,
          null,
          null,
          null
         ],
         "yaxis": "y"
        },
        {
         "mode": "markers",
         "name": "Ticker SCK",
         "type": "scatter",
         "x": [
          46.44,
          19.63,
          53.86,
          50.37,
          29.33,
          33.31,
          24.29,
          16.16,
          9.51,
          8.11
         ],
         "xaxis": "x2",
         "y": [
          7.639999866485597,
          10.55000019073486,
          3.0499999523162837,
          1.1699999570846558,
          0.7300000190734863,
          null,
          null,
          null,
          null,
          null
         ],
         "yaxis": "y2"
        },
        {
         "mode": "markers",
         "name": "Ticker MARP",
         "type": "scatter",
         "x": [
          26.87,
          27.85,
          39.53,
          32.25,
          47.09,
          24.25,
          27.42,
          20.23,
          29.27,
          36.47
         ],
         "xaxis": "x",
         "y": [
          1.4060969697165737,
          1.5475624681341262,
          1.0296194001512595,
          1.508511989624342,
          null,
          null,
          null,
          null,
          null,
          null
         ],
         "yaxis": "y"
        },
        {
         "mode": "markers",
         "name": "Ticker MARP",
         "type": "scatter",
         "x": [
          26.87,
          27.85,
          39.53,
          32.25,
          47.09,
          24.25,
          27.42,
          20.23,
          29.27,
          36.47
         ],
         "xaxis": "x2",
         "y": [
          4.079999923706054,
          4.699999809265136,
          2.7999999523162837,
          4.519999980926514,
          null,
          null,
          null,
          null,
          null,
          null
         ],
         "yaxis": "y2"
        },
        {
         "mode": "markers",
         "name": "Ticker ITD",
         "type": "scatter",
         "x": [
          63.2,
          24.06,
          17.59,
          8.55,
          17.13,
          34.95,
          36.92,
          55.92,
          52.68,
          22.88
         ],
         "xaxis": "x",
         "y": [
          2.6672281800910014,
          2.972975247406338,
          2.3513752571634776,
          1.8082887555452603,
          1.0986122886681098,
          null,
          null,
          null,
          null,
          null
         ],
         "yaxis": "y"
        },
        {
         "mode": "markers",
         "name": "Ticker ITD",
         "type": "scatter",
         "x": [
          63.2,
          24.06,
          17.59,
          8.55,
          17.13,
          34.95,
          36.92,
          55.92,
          52.68,
          22.88
         ],
         "xaxis": "x2",
         "y": [
          14.399999618530272,
          19.549999237060543,
          10.499999999999998,
          6.0999999046325675,
          3,
          null,
          null,
          null,
          null,
          null
         ],
         "yaxis": "y2"
        },
        {
         "mode": "markers",
         "name": "Ticker VIM",
         "type": "scatter",
         "x": [
          27.52,
          31.13,
          53.92,
          42.24,
          33.05,
          20.95,
          17.2,
          20.24,
          16.62,
          19.39
         ],
         "xaxis": "x",
         "y": [
          0.13102824985805775,
          0.4637340372249708,
          0.18232159653038368,
          0.7654678864965156,
          1.0818051865157,
          null,
          null,
          null,
          null,
          null
         ],
         "yaxis": "y"
        },
        {
         "mode": "markers",
         "name": "Ticker VIM",
         "type": "scatter",
         "x": [
          27.52,
          31.13,
          53.92,
          42.24,
          33.05,
          20.95,
          17.2,
          20.24,
          16.62,
          19.39
         ],
         "xaxis": "x2",
         "y": [
          1.1399999856948853,
          1.590000033378601,
          1.2000000476837158,
          2.150000095367432,
          2.950000047683716,
          null,
          null,
          null,
          null,
          null
         ],
         "yaxis": "y2"
        },
        {
         "mode": "markers",
         "name": "Ticker MDC",
         "type": "scatter",
         "x": [
          36.36,
          22.65,
          29.9,
          36.22,
          38.57,
          45,
          54.43,
          53.59,
          36.38,
          33.86
         ],
         "xaxis": "x",
         "y": [
          3.228826155721369,
          3.640214242083339,
          null,
          null,
          null,
          null,
          null,
          null,
          null,
          null
         ],
         "yaxis": "y"
        },
        {
         "mode": "markers",
         "name": "Ticker MDC",
         "type": "scatter",
         "x": [
          36.36,
          22.65,
          29.9,
          36.22,
          38.57,
          45,
          54.43,
          53.59,
          36.38,
          33.86
         ],
         "xaxis": "x2",
         "y": [
          25.249999999999996,
          38.09999847412107,
          null,
          null,
          null,
          null,
          null,
          null,
          null,
          null
         ],
         "yaxis": "y2"
        },
        {
         "mode": "markers",
         "name": "Ticker ILP",
         "type": "scatter",
         "x": [
          38.49,
          38.49,
          48.37,
          34.97,
          28.65,
          23.94,
          29.65,
          34.35,
          38.84,
          40.29
         ],
         "xaxis": "x",
         "y": [
          1.490654389331624,
          1.508511989624342,
          0.7129497891566287,
          0.779324907423567,
          null,
          null,
          null,
          null,
          null,
          null
         ],
         "yaxis": "y"
        },
        {
         "mode": "markers",
         "name": "Ticker ILP",
         "type": "scatter",
         "x": [
          38.49,
          38.49,
          48.37,
          34.97,
          28.65,
          23.94,
          29.65,
          34.35,
          38.84,
          40.29
         ],
         "xaxis": "x2",
         "y": [
          4.440000057220458,
          4.519999980926514,
          2.039999961853028,
          2.180000066757202,
          null,
          null,
          null,
          null,
          null,
          null
         ],
         "yaxis": "y2"
        },
        {
         "mode": "markers",
         "name": "Ticker CFL",
         "type": "scatter",
         "x": [
          25.17,
          24.67,
          37.81,
          29.76,
          21.51,
          25.41,
          29.86,
          32.16,
          29.22,
          27.18
         ],
         "xaxis": "x",
         "y": [
          2.536866415880321,
          2.7549338039876257,
          null,
          null,
          null,
          null,
          null,
          null,
          null,
          null
         ],
         "yaxis": "y"
        },
        {
         "mode": "markers",
         "name": "Ticker CFL",
         "type": "scatter",
         "x": [
          25.17,
          24.67,
          37.81,
          29.76,
          21.51,
          25.41,
          29.86,
          32.16,
          29.22,
          27.18
         ],
         "xaxis": "x2",
         "y": [
          12.64000034332275,
          15.720000267028805,
          null,
          null,
          null,
          null,
          null,
          null,
          null,
          null
         ],
         "yaxis": "y2"
        },
        {
         "mode": "markers",
         "name": "Ticker FCM",
         "type": "scatter",
         "x": [
          29.3,
          43.48,
          30.79,
          21.87,
          25.23,
          38.83,
          37.56,
          44.84,
          37.99,
          45.09
         ],
         "xaxis": "x",
         "y": [
          0.12221762850445134,
          0.2350721108710924,
          0.2350721108710924,
          0.47933496257972397,
          null,
          null,
          null,
          null,
          null,
          null
         ],
         "yaxis": "y"
        },
        {
         "mode": "markers",
         "name": "Ticker FCM",
         "type": "scatter",
         "x": [
          29.3,
          43.48,
          30.79,
          21.87,
          25.23,
          38.83,
          37.56,
          44.84,
          37.99,
          45.09
         ],
         "xaxis": "x2",
         "y": [
          1.1299999952316284,
          1.2649999856948853,
          1.2649999856948853,
          1.6150000095367432,
          null,
          null,
          null,
          null,
          null,
          null
         ],
         "yaxis": "y2"
        },
        {
         "mode": "markers",
         "name": "Ticker FVI",
         "type": "scatter",
         "x": [
          21.32,
          32.09,
          38.98,
          7.51,
          12.68,
          27.1,
          20.76,
          38.78,
          56.4,
          30.76
         ],
         "xaxis": "x",
         "y": [
          2.7440606508911505,
          2.69462719365756,
          2.509599277885271,
          2.4248027425974863,
          2.4061257641178835,
          null,
          null,
          null,
          null,
          null
         ],
         "yaxis": "y"
        },
        {
         "mode": "markers",
         "name": "Ticker FVI",
         "type": "scatter",
         "x": [
          21.32,
          32.09,
          38.98,
          7.51,
          12.68,
          27.1,
          20.76,
          38.78,
          56.4,
          30.76
         ],
         "xaxis": "x2",
         "y": [
          15.550000190734858,
          14.800000190734858,
          12.30000019073486,
          11.300000190734863,
          11.090909004211426,
          null,
          null,
          null,
          null,
          null
         ],
         "yaxis": "y2"
        },
        {
         "mode": "markers",
         "name": "Ticker PLT",
         "type": "scatter",
         "x": [
          54.57,
          56.46,
          89.41,
          73.71,
          49.36,
          48.99,
          19.47,
          23.81,
          5.21,
          1.69
         ],
         "xaxis": "x",
         "y": [
          null,
          null,
          null,
          null,
          null,
          null,
          null,
          null,
          null,
          null
         ],
         "yaxis": "y"
        },
        {
         "mode": "markers",
         "name": "Ticker PLT",
         "type": "scatter",
         "x": [
          54.57,
          56.46,
          89.41,
          73.71,
          49.36,
          48.99,
          19.47,
          23.81,
          5.21,
          1.69
         ],
         "xaxis": "x2",
         "y": [
          null,
          null,
          null,
          null,
          null,
          null,
          null,
          null,
          null,
          null
         ],
         "yaxis": "y2"
        },
        {
         "mode": "markers",
         "name": "Ticker LDB",
         "type": "scatter",
         "x": [
          20.29,
          27.63,
          24.25,
          22.43,
          24.22,
          27.5,
          32.82,
          32.5,
          28.64,
          28.58
         ],
         "xaxis": "x",
         "y": [
          0.6291418754934363,
          0.7952523647473517,
          null,
          null,
          null,
          null,
          null,
          null,
          null,
          null
         ],
         "yaxis": "y"
        },
        {
         "mode": "markers",
         "name": "Ticker LDB",
         "type": "scatter",
         "x": [
          20.29,
          27.63,
          24.25,
          22.43,
          24.22,
          27.5,
          32.82,
          32.5,
          28.64,
          28.58
         ],
         "xaxis": "x2",
         "y": [
          1.876000046730041,
          2.2149999141693115,
          null,
          null,
          null,
          null,
          null,
          null,
          null,
          null
         ],
         "yaxis": "y2"
        },
        {
         "mode": "markers",
         "name": "Ticker FOS",
         "type": "scatter",
         "x": [
          62.79,
          44.96,
          55.43,
          48.55,
          77.17,
          34.99,
          57.05,
          55.31,
          38.73,
          44.68
         ],
         "xaxis": "x",
         "y": [
          1.2119409427536318,
          1.3506671562994919,
          0.9082585678678127,
          1.1426291710428607,
          null,
          null,
          null,
          null,
          null,
          null
         ],
         "yaxis": "y"
        },
        {
         "mode": "markers",
         "name": "Ticker FOS",
         "type": "scatter",
         "x": [
          62.79,
          44.96,
          55.43,
          48.55,
          77.17,
          34.99,
          57.05,
          55.31,
          38.73,
          44.68
         ],
         "xaxis": "x2",
         "y": [
          3.359999895095825,
          3.859999895095825,
          2.4800000190734863,
          3.1349999904632564,
          null,
          null,
          null,
          null,
          null,
          null
         ],
         "yaxis": "y2"
        },
        {
         "mode": "markers",
         "name": "Ticker BAN",
         "type": "scatter",
         "x": [
          26.23,
          59.19,
          79.85,
          48.79,
          62.56,
          79.55,
          62.68,
          49.29,
          25.64,
          42.59
         ],
         "xaxis": "x",
         "y": [
          1.6992785780777009,
          1.814824720414034,
          1.4586150670564606,
          1.6677068565457855,
          1.4929040533163809,
          1.3244189548654353,
          1.2005670192292972,
          1.4683350732132154,
          0.8162494147953161,
          0.8862438592669583
         ],
         "yaxis": "y"
        },
        {
         "mode": "markers",
         "name": "Ticker BAN",
         "type": "scatter",
         "x": [
          26.23,
          59.19,
          79.85,
          48.79,
          62.56,
          79.55,
          62.68,
          49.29,
          25.64,
          42.59
         ],
         "xaxis": "x2",
         "y": [
          5.46999979019165,
          6.139999866485596,
          4.300000190734862,
          5.300000190734862,
          4.449999809265136,
          3.7599999904632564,
          3.3220000267028804,
          4.3420000076293945,
          2.26200008392334,
          2.4260001182556152
         ],
         "yaxis": "y2"
        }
       ],
       "layout": {
        "showlegend": false,
        "template": {
         "data": {
          "bar": [
           {
            "error_x": {
             "color": "#2a3f5f"
            },
            "error_y": {
             "color": "#2a3f5f"
            },
            "marker": {
             "line": {
              "color": "#E5ECF6",
              "width": 0.5
             },
             "pattern": {
              "fillmode": "overlay",
              "size": 10,
              "solidity": 0.2
             }
            },
            "type": "bar"
           }
          ],
          "barpolar": [
           {
            "marker": {
             "line": {
              "color": "#E5ECF6",
              "width": 0.5
             },
             "pattern": {
              "fillmode": "overlay",
              "size": 10,
              "solidity": 0.2
             }
            },
            "type": "barpolar"
           }
          ],
          "carpet": [
           {
            "aaxis": {
             "endlinecolor": "#2a3f5f",
             "gridcolor": "white",
             "linecolor": "white",
             "minorgridcolor": "white",
             "startlinecolor": "#2a3f5f"
            },
            "baxis": {
             "endlinecolor": "#2a3f5f",
             "gridcolor": "white",
             "linecolor": "white",
             "minorgridcolor": "white",
             "startlinecolor": "#2a3f5f"
            },
            "type": "carpet"
           }
          ],
          "choropleth": [
           {
            "colorbar": {
             "outlinewidth": 0,
             "ticks": ""
            },
            "type": "choropleth"
           }
          ],
          "contour": [
           {
            "colorbar": {
             "outlinewidth": 0,
             "ticks": ""
            },
            "colorscale": [
             [
              0,
              "#0d0887"
             ],
             [
              0.1111111111111111,
              "#46039f"
             ],
             [
              0.2222222222222222,
              "#7201a8"
             ],
             [
              0.3333333333333333,
              "#9c179e"
             ],
             [
              0.4444444444444444,
              "#bd3786"
             ],
             [
              0.5555555555555556,
              "#d8576b"
             ],
             [
              0.6666666666666666,
              "#ed7953"
             ],
             [
              0.7777777777777778,
              "#fb9f3a"
             ],
             [
              0.8888888888888888,
              "#fdca26"
             ],
             [
              1,
              "#f0f921"
             ]
            ],
            "type": "contour"
           }
          ],
          "contourcarpet": [
           {
            "colorbar": {
             "outlinewidth": 0,
             "ticks": ""
            },
            "type": "contourcarpet"
           }
          ],
          "heatmap": [
           {
            "colorbar": {
             "outlinewidth": 0,
             "ticks": ""
            },
            "colorscale": [
             [
              0,
              "#0d0887"
             ],
             [
              0.1111111111111111,
              "#46039f"
             ],
             [
              0.2222222222222222,
              "#7201a8"
             ],
             [
              0.3333333333333333,
              "#9c179e"
             ],
             [
              0.4444444444444444,
              "#bd3786"
             ],
             [
              0.5555555555555556,
              "#d8576b"
             ],
             [
              0.6666666666666666,
              "#ed7953"
             ],
             [
              0.7777777777777778,
              "#fb9f3a"
             ],
             [
              0.8888888888888888,
              "#fdca26"
             ],
             [
              1,
              "#f0f921"
             ]
            ],
            "type": "heatmap"
           }
          ],
          "heatmapgl": [
           {
            "colorbar": {
             "outlinewidth": 0,
             "ticks": ""
            },
            "colorscale": [
             [
              0,
              "#0d0887"
             ],
             [
              0.1111111111111111,
              "#46039f"
             ],
             [
              0.2222222222222222,
              "#7201a8"
             ],
             [
              0.3333333333333333,
              "#9c179e"
             ],
             [
              0.4444444444444444,
              "#bd3786"
             ],
             [
              0.5555555555555556,
              "#d8576b"
             ],
             [
              0.6666666666666666,
              "#ed7953"
             ],
             [
              0.7777777777777778,
              "#fb9f3a"
             ],
             [
              0.8888888888888888,
              "#fdca26"
             ],
             [
              1,
              "#f0f921"
             ]
            ],
            "type": "heatmapgl"
           }
          ],
          "histogram": [
           {
            "marker": {
             "pattern": {
              "fillmode": "overlay",
              "size": 10,
              "solidity": 0.2
             }
            },
            "type": "histogram"
           }
          ],
          "histogram2d": [
           {
            "colorbar": {
             "outlinewidth": 0,
             "ticks": ""
            },
            "colorscale": [
             [
              0,
              "#0d0887"
             ],
             [
              0.1111111111111111,
              "#46039f"
             ],
             [
              0.2222222222222222,
              "#7201a8"
             ],
             [
              0.3333333333333333,
              "#9c179e"
             ],
             [
              0.4444444444444444,
              "#bd3786"
             ],
             [
              0.5555555555555556,
              "#d8576b"
             ],
             [
              0.6666666666666666,
              "#ed7953"
             ],
             [
              0.7777777777777778,
              "#fb9f3a"
             ],
             [
              0.8888888888888888,
              "#fdca26"
             ],
             [
              1,
              "#f0f921"
             ]
            ],
            "type": "histogram2d"
           }
          ],
          "histogram2dcontour": [
           {
            "colorbar": {
             "outlinewidth": 0,
             "ticks": ""
            },
            "colorscale": [
             [
              0,
              "#0d0887"
             ],
             [
              0.1111111111111111,
              "#46039f"
             ],
             [
              0.2222222222222222,
              "#7201a8"
             ],
             [
              0.3333333333333333,
              "#9c179e"
             ],
             [
              0.4444444444444444,
              "#bd3786"
             ],
             [
              0.5555555555555556,
              "#d8576b"
             ],
             [
              0.6666666666666666,
              "#ed7953"
             ],
             [
              0.7777777777777778,
              "#fb9f3a"
             ],
             [
              0.8888888888888888,
              "#fdca26"
             ],
             [
              1,
              "#f0f921"
             ]
            ],
            "type": "histogram2dcontour"
           }
          ],
          "mesh3d": [
           {
            "colorbar": {
             "outlinewidth": 0,
             "ticks": ""
            },
            "type": "mesh3d"
           }
          ],
          "parcoords": [
           {
            "line": {
             "colorbar": {
              "outlinewidth": 0,
              "ticks": ""
             }
            },
            "type": "parcoords"
           }
          ],
          "pie": [
           {
            "automargin": true,
            "type": "pie"
           }
          ],
          "scatter": [
           {
            "fillpattern": {
             "fillmode": "overlay",
             "size": 10,
             "solidity": 0.2
            },
            "type": "scatter"
           }
          ],
          "scatter3d": [
           {
            "line": {
             "colorbar": {
              "outlinewidth": 0,
              "ticks": ""
             }
            },
            "marker": {
             "colorbar": {
              "outlinewidth": 0,
              "ticks": ""
             }
            },
            "type": "scatter3d"
           }
          ],
          "scattercarpet": [
           {
            "marker": {
             "colorbar": {
              "outlinewidth": 0,
              "ticks": ""
             }
            },
            "type": "scattercarpet"
           }
          ],
          "scattergeo": [
           {
            "marker": {
             "colorbar": {
              "outlinewidth": 0,
              "ticks": ""
             }
            },
            "type": "scattergeo"
           }
          ],
          "scattergl": [
           {
            "marker": {
             "colorbar": {
              "outlinewidth": 0,
              "ticks": ""
             }
            },
            "type": "scattergl"
           }
          ],
          "scattermapbox": [
           {
            "marker": {
             "colorbar": {
              "outlinewidth": 0,
              "ticks": ""
             }
            },
            "type": "scattermapbox"
           }
          ],
          "scatterpolar": [
           {
            "marker": {
             "colorbar": {
              "outlinewidth": 0,
              "ticks": ""
             }
            },
            "type": "scatterpolar"
           }
          ],
          "scatterpolargl": [
           {
            "marker": {
             "colorbar": {
              "outlinewidth": 0,
              "ticks": ""
             }
            },
            "type": "scatterpolargl"
           }
          ],
          "scatterternary": [
           {
            "marker": {
             "colorbar": {
              "outlinewidth": 0,
              "ticks": ""
             }
            },
            "type": "scatterternary"
           }
          ],
          "surface": [
           {
            "colorbar": {
             "outlinewidth": 0,
             "ticks": ""
            },
            "colorscale": [
             [
              0,
              "#0d0887"
             ],
             [
              0.1111111111111111,
              "#46039f"
             ],
             [
              0.2222222222222222,
              "#7201a8"
             ],
             [
              0.3333333333333333,
              "#9c179e"
             ],
             [
              0.4444444444444444,
              "#bd3786"
             ],
             [
              0.5555555555555556,
              "#d8576b"
             ],
             [
              0.6666666666666666,
              "#ed7953"
             ],
             [
              0.7777777777777778,
              "#fb9f3a"
             ],
             [
              0.8888888888888888,
              "#fdca26"
             ],
             [
              1,
              "#f0f921"
             ]
            ],
            "type": "surface"
           }
          ],
          "table": [
           {
            "cells": {
             "fill": {
              "color": "#EBF0F8"
             },
             "line": {
              "color": "white"
             }
            },
            "header": {
             "fill": {
              "color": "#C8D4E3"
             },
             "line": {
              "color": "white"
             }
            },
            "type": "table"
           }
          ]
         },
         "layout": {
          "annotationdefaults": {
           "arrowcolor": "#2a3f5f",
           "arrowhead": 0,
           "arrowwidth": 1
          },
          "autotypenumbers": "strict",
          "coloraxis": {
           "colorbar": {
            "outlinewidth": 0,
            "ticks": ""
           }
          },
          "colorscale": {
           "diverging": [
            [
             0,
             "#8e0152"
            ],
            [
             0.1,
             "#c51b7d"
            ],
            [
             0.2,
             "#de77ae"
            ],
            [
             0.3,
             "#f1b6da"
            ],
            [
             0.4,
             "#fde0ef"
            ],
            [
             0.5,
             "#f7f7f7"
            ],
            [
             0.6,
             "#e6f5d0"
            ],
            [
             0.7,
             "#b8e186"
            ],
            [
             0.8,
             "#7fbc41"
            ],
            [
             0.9,
             "#4d9221"
            ],
            [
             1,
             "#276419"
            ]
           ],
           "sequential": [
            [
             0,
             "#0d0887"
            ],
            [
             0.1111111111111111,
             "#46039f"
            ],
            [
             0.2222222222222222,
             "#7201a8"
            ],
            [
             0.3333333333333333,
             "#9c179e"
            ],
            [
             0.4444444444444444,
             "#bd3786"
            ],
            [
             0.5555555555555556,
             "#d8576b"
            ],
            [
             0.6666666666666666,
             "#ed7953"
            ],
            [
             0.7777777777777778,
             "#fb9f3a"
            ],
            [
             0.8888888888888888,
             "#fdca26"
            ],
            [
             1,
             "#f0f921"
            ]
           ],
           "sequentialminus": [
            [
             0,
             "#0d0887"
            ],
            [
             0.1111111111111111,
             "#46039f"
            ],
            [
             0.2222222222222222,
             "#7201a8"
            ],
            [
             0.3333333333333333,
             "#9c179e"
            ],
            [
             0.4444444444444444,
             "#bd3786"
            ],
            [
             0.5555555555555556,
             "#d8576b"
            ],
            [
             0.6666666666666666,
             "#ed7953"
            ],
            [
             0.7777777777777778,
             "#fb9f3a"
            ],
            [
             0.8888888888888888,
             "#fdca26"
            ],
            [
             1,
             "#f0f921"
            ]
           ]
          },
          "colorway": [
           "#636efa",
           "#EF553B",
           "#00cc96",
           "#ab63fa",
           "#FFA15A",
           "#19d3f3",
           "#FF6692",
           "#B6E880",
           "#FF97FF",
           "#FECB52"
          ],
          "font": {
           "color": "#2a3f5f"
          },
          "geo": {
           "bgcolor": "white",
           "lakecolor": "white",
           "landcolor": "#E5ECF6",
           "showlakes": true,
           "showland": true,
           "subunitcolor": "white"
          },
          "hoverlabel": {
           "align": "left"
          },
          "hovermode": "closest",
          "mapbox": {
           "style": "light"
          },
          "paper_bgcolor": "white",
          "plot_bgcolor": "#E5ECF6",
          "polar": {
           "angularaxis": {
            "gridcolor": "white",
            "linecolor": "white",
            "ticks": ""
           },
           "bgcolor": "#E5ECF6",
           "radialaxis": {
            "gridcolor": "white",
            "linecolor": "white",
            "ticks": ""
           }
          },
          "scene": {
           "xaxis": {
            "backgroundcolor": "#E5ECF6",
            "gridcolor": "white",
            "gridwidth": 2,
            "linecolor": "white",
            "showbackground": true,
            "ticks": "",
            "zerolinecolor": "white"
           },
           "yaxis": {
            "backgroundcolor": "#E5ECF6",
            "gridcolor": "white",
            "gridwidth": 2,
            "linecolor": "white",
            "showbackground": true,
            "ticks": "",
            "zerolinecolor": "white"
           },
           "zaxis": {
            "backgroundcolor": "#E5ECF6",
            "gridcolor": "white",
            "gridwidth": 2,
            "linecolor": "white",
            "showbackground": true,
            "ticks": "",
            "zerolinecolor": "white"
           }
          },
          "shapedefaults": {
           "line": {
            "color": "#2a3f5f"
           }
          },
          "ternary": {
           "aaxis": {
            "gridcolor": "white",
            "linecolor": "white",
            "ticks": ""
           },
           "baxis": {
            "gridcolor": "white",
            "linecolor": "white",
            "ticks": ""
           },
           "bgcolor": "#E5ECF6",
           "caxis": {
            "gridcolor": "white",
            "linecolor": "white",
            "ticks": ""
           }
          },
          "title": {
           "x": 0.05
          },
          "xaxis": {
           "automargin": true,
           "gridcolor": "white",
           "linecolor": "white",
           "ticks": "",
           "title": {
            "standoff": 15
           },
           "zerolinecolor": "white",
           "zerolinewidth": 2
          },
          "yaxis": {
           "automargin": true,
           "gridcolor": "white",
           "linecolor": "white",
           "ticks": "",
           "title": {
            "standoff": 15
           },
           "zerolinecolor": "white",
           "zerolinewidth": 2
          }
         }
        },
        "title": {
         "text": "Relazione tra Debiti_v_banche_su_fatt e Valori Borsa"
        },
        "xaxis": {
         "anchor": "y",
         "domain": [
          0,
          0.45
         ]
        },
        "xaxis2": {
         "anchor": "y2",
         "domain": [
          0.55,
          1
         ]
        },
        "yaxis": {
         "anchor": "x",
         "domain": [
          0,
          1
         ],
         "title": {
          "text": "Log Valori Borsa"
         }
        },
        "yaxis2": {
         "anchor": "x2",
         "domain": [
          0,
          1
         ],
         "title": {
          "text": "Valori Borsa"
         }
        }
       }
      }
     },
     "metadata": {},
     "output_type": "display_data"
    },
    {
     "data": {
      "application/vnd.plotly.v1+json": {
       "config": {
        "plotlyServerURL": "https://plot.ly"
       },
       "data": [
        {
         "mode": "markers",
         "name": "Ticker MARR",
         "type": "scatter",
         "x": [
          0.95,
          0.86,
          1.29,
          1.04,
          0.94,
          0.92,
          0.89,
          0.8,
          0.71,
          0.82
         ],
         "xaxis": "x",
         "y": [
          2.509599277885271,
          2.9349201179417297,
          2.8791984144362717,
          3.054001217665676,
          3.0689827565651293,
          3.07915387116492,
          2.87073576176629,
          2.8887036625848097,
          2.691243082785829,
          2.4849066497880004
         ],
         "yaxis": "y"
        },
        {
         "mode": "markers",
         "name": "Ticker MARR",
         "type": "scatter",
         "x": [
          0.95,
          0.86,
          1.29,
          1.04,
          0.94,
          0.92,
          0.89,
          0.8,
          0.71,
          0.82
         ],
         "xaxis": "x2",
         "y": [
          12.30000019073486,
          18.819999694824215,
          17.799999237060547,
          21.20000076293945,
          21.520000457763665,
          21.73999977111816,
          17.64999961853027,
          17.969999313354485,
          14.749999999999998,
          11.999999999999998
         ],
         "yaxis": "y2"
        },
        {
         "mode": "markers",
         "name": "Ticker PIA",
         "type": "scatter",
         "x": [
          0.96,
          1.12,
          1.09,
          0.91,
          0.82,
          0.64,
          0.92,
          0.78,
          0.74,
          0.95
         ],
         "xaxis": "x",
         "y": [
          1.077048147781857,
          1.0522192777352672,
          0.9962103346242122,
          1.007957923880542,
          0.6392188284692253,
          0.917889432671393,
          0.48365994275805774,
          0.698134717326336,
          0.9066443833247319,
          0.8569652431213597
         ],
         "yaxis": "y"
        },
        {
         "mode": "markers",
         "name": "Ticker PIA",
         "type": "scatter",
         "x": [
          0.96,
          1.12,
          1.09,
          0.91,
          0.82,
          0.64,
          0.92,
          0.78,
          0.74,
          0.95
         ],
         "xaxis": "x2",
         "y": [
          2.9360001087188716,
          2.864000082015991,
          2.7079999446868896,
          2.740000009536743,
          1.8949999809265134,
          2.503999948501587,
          1.621999979019165,
          2.009999990463257,
          2.476000070571899,
          2.3559999465942383
         ],
         "yaxis": "y2"
        },
        {
         "mode": "markers",
         "name": "Ticker BRE",
         "type": "scatter",
         "x": [
          0.76,
          0.84,
          0.98,
          0.55,
          0.5,
          0.63,
          0.66,
          0.69,
          1.01,
          1
         ],
         "xaxis": "x",
         "y": [
          2.4033350340342152,
          2.564179813062659,
          2.393218807006317,
          2.404238719152724,
          2.320425041100351,
          2.58475200201879,
          2.4890646757652832,
          2.07969149231976,
          1.6815725236803198,
          1.3681303836941336
         ],
         "yaxis": "y"
        },
        {
         "mode": "markers",
         "name": "Ticker BRE",
         "type": "scatter",
         "x": [
          0.76,
          0.84,
          0.98,
          0.55,
          0.5,
          0.63,
          0.66,
          0.69,
          1.01,
          1
         ],
         "xaxis": "x2",
         "y": [
          11.0600004196167,
          12.989999771118162,
          10.948678970336912,
          11.069999694824217,
          10.180000305175781,
          13.260000228881834,
          12.050000190734862,
          8.001999855041504,
          5.374000072479247,
          3.9279999732971187
         ],
         "yaxis": "y2"
        },
        {
         "mode": "markers",
         "name": "Ticker DAN",
         "type": "scatter",
         "x": [
          0.45,
          0.76,
          0.73,
          0.43,
          0.37,
          0.51,
          0.51,
          0.31,
          0.18,
          0.25
         ],
         "xaxis": "x",
         "y": [
          3.104586644253541,
          3.2790297189519984,
          2.7265447662626667,
          2.8154087651077058,
          2.785011289333365,
          3.0516398874558934,
          3.0243197266987147,
          2.740840023925201,
          3.000222186422059,
          3.2308043655777645
         ],
         "yaxis": "y"
        },
        {
         "mode": "markers",
         "name": "Ticker DAN",
         "type": "scatter",
         "x": [
          0.45,
          0.76,
          0.73,
          0.43,
          0.37,
          0.51,
          0.51,
          0.31,
          0.18,
          0.25
         ],
         "xaxis": "x2",
         "y": [
          22.299999237060543,
          26.549999237060547,
          15.279999732971186,
          16.700000762939453,
          16.20000076293945,
          21.149999618530277,
          20.57999992370605,
          15.499999999999996,
          20.090000152587887,
          25.299999237060543
         ],
         "yaxis": "y2"
        },
        {
         "mode": "markers",
         "name": "Ticker BC",
         "type": "scatter",
         "x": [
          0.44,
          0.48,
          0.72,
          0.48,
          0.27,
          0.29,
          0.33,
          0.42,
          0.48,
          0.33
         ],
         "xaxis": "x",
         "y": [
          4.269697449699962,
          4.107589776423775,
          3.5333946002941827,
          3.5587707383536116,
          3.349904087274605,
          3.363841581918742,
          3.0267462864029175,
          2.7033726319915394,
          2.8735646826837065,
          3.1705255511154085
         ],
         "yaxis": "y"
        },
        {
         "mode": "markers",
         "name": "Ticker BC",
         "type": "scatter",
         "x": [
          0.44,
          0.48,
          0.72,
          0.48,
          0.27,
          0.29,
          0.33,
          0.42,
          0.48,
          0.33
         ],
         "xaxis": "x2",
         "y": [
          71.49999999999996,
          60.79999923706053,
          34.2400016784668,
          35.11999893188476,
          28.499999999999996,
          28.89999961853027,
          20.6299991607666,
          14.930000305175776,
          17.70000076293945,
          23.81999969482422
         ],
         "yaxis": "y2"
        },
        {
         "mode": "markers",
         "name": "Ticker CLI",
         "type": "scatter",
         "x": [
          1.26,
          1.36,
          1.78,
          0.36,
          0.21,
          0.23,
          0.2,
          0.31,
          0.2,
          0.23
         ],
         "xaxis": "x",
         "y": [
          1.0543119898966447,
          1.2412686000947695,
          0.9001613654511708,
          0.9162907318741551,
          1.007957923880542,
          1.2584609841914016,
          1.1052568250710544,
          1.1933162536324886,
          0.9895412148852936,
          0.6418538736240484
         ],
         "yaxis": "y"
        },
        {
         "mode": "markers",
         "name": "Ticker CLI",
         "type": "scatter",
         "x": [
          1.26,
          1.36,
          1.78,
          0.36,
          0.21,
          0.23,
          0.2,
          0.31,
          0.2,
          0.23
         ],
         "xaxis": "x2",
         "y": [
          2.869999885559082,
          3.4600000381469727,
          2.4600000381469727,
          2.5,
          2.740000009536743,
          3.5199999809265132,
          3.0199999809265137,
          3.29800009727478,
          2.6900000572204585,
          1.899999976158142
         ],
         "yaxis": "y2"
        },
        {
         "mode": "markers",
         "name": "Ticker ELC",
         "type": "scatter",
         "x": [
          0.82,
          1.13,
          1.3,
          0.92,
          0.96,
          1.07,
          0.75,
          0.72,
          0.75,
          0.74
         ],
         "xaxis": "x",
         "y": [
          1.120047588057166,
          1.264126716369702,
          1.1265516697226583,
          1.0885619624476819,
          0.4187103223098387,
          0.9082585678678127,
          0.6097655897614381,
          0.6418538736240484,
          0.5704144453674508,
          0.5709795358097567
         ],
         "yaxis": "y"
        },
        {
         "mode": "markers",
         "name": "Ticker ELC",
         "type": "scatter",
         "x": [
          0.82,
          1.13,
          1.3,
          0.92,
          0.96,
          1.07,
          0.75,
          0.72,
          0.75,
          0.74
         ],
         "xaxis": "x2",
         "y": [
          3.065000057220459,
          3.5399999618530273,
          3.0850000381469727,
          2.9700000286102286,
          1.5199999809265137,
          2.4800000190734863,
          1.840000033378601,
          1.899999976158142,
          1.7690000534057615,
          1.7699999809265134
         ],
         "yaxis": "y2"
        },
        {
         "mode": "markers",
         "name": "Ticker GPI",
         "type": "scatter",
         "x": [
          0.92,
          1.2,
          1.49,
          1.28,
          1.37,
          0.63,
          0.77,
          2.22,
          0.89,
          1.35
         ],
         "xaxis": "x",
         "y": [
          2.653241951175182,
          2.803360380906535,
          2.101692187922208,
          2.0464016580303386,
          2.121063234666565,
          2.3702437236421723,
          2.3223877015907286,
          2.282382405139267,
          null,
          null
         ],
         "yaxis": "y"
        },
        {
         "mode": "markers",
         "name": "Ticker GPI",
         "type": "scatter",
         "x": [
          0.92,
          1.2,
          1.49,
          1.28,
          1.37,
          0.63,
          0.77,
          2.22,
          0.89,
          1.35
         ],
         "xaxis": "x2",
         "y": [
          14.199999809265131,
          16.499999999999996,
          8.180000305175781,
          7.739999771118162,
          8.340000152587889,
          10.699999809265137,
          10.199999809265133,
          9.800000190734862,
          null,
          null
         ],
         "yaxis": "y2"
        },
        {
         "mode": "markers",
         "name": "Ticker SRI",
         "type": "scatter",
         "x": [
          1.06,
          0.99,
          1.06,
          0.92,
          0.66,
          0.63,
          0.61,
          0.57,
          0.53,
          0.75
         ],
         "xaxis": "x",
         "y": [
          0.18647960255701124,
          0.7443154761953833,
          0.8285518009080817,
          1.169381368441481,
          1.2974631708642825,
          1.911022923913132,
          1.2974631708642825,
          1.341296964264569,
          1.3942625468528604,
          1.4148818606044733
         ],
         "yaxis": "y"
        },
        {
         "mode": "markers",
         "name": "Ticker SRI",
         "type": "scatter",
         "x": [
          1.06,
          0.99,
          1.06,
          0.92,
          0.66,
          0.63,
          0.61,
          0.57,
          0.53,
          0.75
         ],
         "xaxis": "x2",
         "y": [
          1.2050000429153442,
          2.1050000190734863,
          2.289999961853028,
          3.2200000286102286,
          3.660000085830689,
          6.760000228881836,
          3.660000085830689,
          3.8239998817443848,
          4.0320000648498535,
          4.116000175476073
         ],
         "yaxis": "y2"
        },
        {
         "mode": "markers",
         "name": "Ticker ALA",
         "type": "scatter",
         "x": [
          0.92,
          0.58,
          1.03,
          1.02,
          1.14,
          1.38,
          1.27,
          1.23,
          2.86,
          1.01
         ],
         "xaxis": "x",
         "y": [
          2.4680995476355903,
          2.3655598563366795,
          null,
          null,
          null,
          null,
          null,
          null,
          null,
          null
         ],
         "yaxis": "y"
        },
        {
         "mode": "markers",
         "name": "Ticker ALA",
         "type": "scatter",
         "x": [
          0.92,
          0.58,
          1.03,
          1.02,
          1.14,
          1.38,
          1.27,
          1.23,
          2.86,
          1.01
         ],
         "xaxis": "x2",
         "y": [
          11.80000019073486,
          10.64999961853027,
          null,
          null,
          null,
          null,
          null,
          null,
          null,
          null
         ],
         "yaxis": "y2"
        },
        {
         "mode": "markers",
         "name": "Ticker ICF",
         "type": "scatter",
         "x": [
          0.24,
          0.29,
          0.25,
          0.42,
          0.36,
          0.39,
          0.51,
          0.17,
          0.53,
          0.76
         ],
         "xaxis": "x",
         "y": [
          1.7155980979710415,
          1.8277698730198415,
          1.6974487967434386,
          null,
          null,
          null,
          null,
          null,
          null,
          null
         ],
         "yaxis": "y"
        },
        {
         "mode": "markers",
         "name": "Ticker ICF",
         "type": "scatter",
         "x": [
          0.24,
          0.29,
          0.25,
          0.42,
          0.36,
          0.39,
          0.51,
          0.17,
          0.53,
          0.76
         ],
         "xaxis": "x2",
         "y": [
          5.55999994277954,
          6.2199997901916495,
          5.460000038146972,
          null,
          null,
          null,
          null,
          null,
          null,
          null
         ],
         "yaxis": "y2"
        },
        {
         "mode": "markers",
         "name": "Ticker ENV",
         "type": "scatter",
         "x": [
          0.57,
          0.78,
          1.08,
          0.61,
          0.13,
          0.22,
          0.26,
          0.12,
          0.08,
          0.06
         ],
         "xaxis": "x",
         "y": [
          1.190887553182456,
          1.3350010541839938,
          1.1939224540228235,
          1.2208299523375428,
          1.1847899790762915,
          1.2470322992672698,
          1.0224509174110963,
          1.0260415821605242,
          1.249901738946927,
          1.1499389134175557
         ],
         "yaxis": "y"
        },
        {
         "mode": "markers",
         "name": "Ticker ENV",
         "type": "scatter",
         "x": [
          0.57,
          0.78,
          1.08,
          0.61,
          0.13,
          0.22,
          0.26,
          0.12,
          0.08,
          0.06
         ],
         "xaxis": "x2",
         "y": [
          3.289999961853028,
          3.799999952316284,
          3.2999999523162837,
          3.390000104904175,
          3.2699999809265132,
          3.480000019073486,
          2.7799999713897705,
          2.7899999618530273,
          3.4900000095367427,
          3.1579999923706046
         ],
         "yaxis": "y2"
        },
        {
         "mode": "markers",
         "name": "Ticker MASI",
         "type": "scatter",
         "x": [
          0.24,
          0.17,
          0.21,
          0.12,
          0.11,
          0.12,
          0.11,
          0.16,
          0.27,
          0.36
         ],
         "xaxis": "x",
         "y": [
          1.5062972042644385,
          1.348073123528931,
          0.943905872931563,
          1.1568812177849161,
          1.348073123528931,
          1.5040773967762742,
          1.4609378908394477,
          1.4816045625986316,
          null,
          null
         ],
         "yaxis": "y"
        },
        {
         "mode": "markers",
         "name": "Ticker MASI",
         "type": "scatter",
         "x": [
          0.24,
          0.17,
          0.21,
          0.12,
          0.11,
          0.12,
          0.11,
          0.16,
          0.27,
          0.36
         ],
         "xaxis": "x2",
         "y": [
          4.510000228881836,
          3.8499999046325675,
          2.569999933242798,
          3.180000066757202,
          3.8499999046325675,
          4.5,
          4.30999994277954,
          4.400000095367432,
          null,
          null
         ],
         "yaxis": "y2"
        },
        {
         "mode": "markers",
         "name": "Ticker SVS",
         "type": "scatter",
         "x": [
          0.76,
          0.69,
          1.03,
          0.69,
          0.67,
          0.8,
          0.86,
          0.54,
          0.8,
          0.76
         ],
         "xaxis": "x",
         "y": [
          2.3015845697493673,
          null,
          null,
          null,
          null,
          null,
          null,
          null,
          null,
          null
         ],
         "yaxis": "y"
        },
        {
         "mode": "markers",
         "name": "Ticker SVS",
         "type": "scatter",
         "x": [
          0.76,
          0.69,
          1.03,
          0.69,
          0.67,
          0.8,
          0.86,
          0.54,
          0.8,
          0.76
         ],
         "xaxis": "x2",
         "y": [
          9.989999771118164,
          null,
          null,
          null,
          null,
          null,
          null,
          null,
          null,
          null
         ],
         "yaxis": "y2"
        },
        {
         "mode": "markers",
         "name": "Ticker STAR7",
         "type": "scatter",
         "x": [
          0.9,
          1.18,
          1.9,
          2.15,
          1.12,
          1.32,
          0.72,
          1.02,
          0.71,
          0.47
         ],
         "xaxis": "x",
         "y": [
          2.1679101634795908,
          2.264883237693826,
          null,
          null,
          null,
          null,
          null,
          null,
          null,
          null
         ],
         "yaxis": "y"
        },
        {
         "mode": "markers",
         "name": "Ticker STAR7",
         "type": "scatter",
         "x": [
          0.9,
          1.18,
          1.9,
          2.15,
          1.12,
          1.32,
          0.72,
          1.02,
          0.71,
          0.47
         ],
         "xaxis": "x2",
         "y": [
          8.739999771118164,
          9.630000114440916,
          null,
          null,
          null,
          null,
          null,
          null,
          null,
          null
         ],
         "yaxis": "y2"
        },
        {
         "mode": "markers",
         "name": "Ticker SCK",
         "type": "scatter",
         "x": [
          1.06,
          0.48,
          1.42,
          1.09,
          0.8,
          2.23,
          1,
          0.74,
          0.49,
          0.47
         ],
         "xaxis": "x",
         "y": [
          2.0333975857027218,
          2.356125878001209,
          1.1151415749853149,
          0.15700371212988268,
          -0.31471071871163714,
          null,
          null,
          null,
          null,
          null
         ],
         "yaxis": "y"
        },
        {
         "mode": "markers",
         "name": "Ticker SCK",
         "type": "scatter",
         "x": [
          1.06,
          0.48,
          1.42,
          1.09,
          0.8,
          2.23,
          1,
          0.74,
          0.49,
          0.47
         ],
         "xaxis": "x2",
         "y": [
          7.639999866485597,
          10.55000019073486,
          3.0499999523162837,
          1.1699999570846558,
          0.7300000190734863,
          null,
          null,
          null,
          null,
          null
         ],
         "yaxis": "y2"
        },
        {
         "mode": "markers",
         "name": "Ticker MARP",
         "type": "scatter",
         "x": [
          0.69,
          0.67,
          0.79,
          0.73,
          2.01,
          0.74,
          0.79,
          0.58,
          0.89,
          1.03
         ],
         "xaxis": "x",
         "y": [
          1.4060969697165737,
          1.5475624681341262,
          1.0296194001512595,
          1.508511989624342,
          null,
          null,
          null,
          null,
          null,
          null
         ],
         "yaxis": "y"
        },
        {
         "mode": "markers",
         "name": "Ticker MARP",
         "type": "scatter",
         "x": [
          0.69,
          0.67,
          0.79,
          0.73,
          2.01,
          0.74,
          0.79,
          0.58,
          0.89,
          1.03
         ],
         "xaxis": "x2",
         "y": [
          4.079999923706054,
          4.699999809265136,
          2.7999999523162837,
          4.519999980926514,
          null,
          null,
          null,
          null,
          null,
          null
         ],
         "yaxis": "y2"
        },
        {
         "mode": "markers",
         "name": "Ticker ITD",
         "type": "scatter",
         "x": [
          0.61,
          0.25,
          0.2,
          0.07,
          0.14,
          0.55,
          0.63,
          0.99,
          0.92,
          0.39
         ],
         "xaxis": "x",
         "y": [
          2.6672281800910014,
          2.972975247406338,
          2.3513752571634776,
          1.8082887555452603,
          1.0986122886681098,
          null,
          null,
          null,
          null,
          null
         ],
         "yaxis": "y"
        },
        {
         "mode": "markers",
         "name": "Ticker ITD",
         "type": "scatter",
         "x": [
          0.61,
          0.25,
          0.2,
          0.07,
          0.14,
          0.55,
          0.63,
          0.99,
          0.92,
          0.39
         ],
         "xaxis": "x2",
         "y": [
          14.399999618530272,
          19.549999237060543,
          10.499999999999998,
          6.0999999046325675,
          3,
          null,
          null,
          null,
          null,
          null
         ],
         "yaxis": "y2"
        },
        {
         "mode": "markers",
         "name": "Ticker VIM",
         "type": "scatter",
         "x": [
          0.69,
          0.75,
          1.02,
          0.94,
          0.63,
          0.68,
          0.38,
          0.44,
          0.39,
          0.44
         ],
         "xaxis": "x",
         "y": [
          0.13102824985805775,
          0.4637340372249708,
          0.18232159653038368,
          0.7654678864965156,
          1.0818051865157,
          null,
          null,
          null,
          null,
          null
         ],
         "yaxis": "y"
        },
        {
         "mode": "markers",
         "name": "Ticker VIM",
         "type": "scatter",
         "x": [
          0.69,
          0.75,
          1.02,
          0.94,
          0.63,
          0.68,
          0.38,
          0.44,
          0.39,
          0.44
         ],
         "xaxis": "x2",
         "y": [
          1.1399999856948853,
          1.590000033378601,
          1.2000000476837158,
          2.150000095367432,
          2.950000047683716,
          null,
          null,
          null,
          null,
          null
         ],
         "yaxis": "y2"
        },
        {
         "mode": "markers",
         "name": "Ticker MDC",
         "type": "scatter",
         "x": [
          0.42,
          0.25,
          1.07,
          1.21,
          1.43,
          1.98,
          2.18,
          2.1,
          1.56,
          1.74
         ],
         "xaxis": "x",
         "y": [
          3.228826155721369,
          3.640214242083339,
          null,
          null,
          null,
          null,
          null,
          null,
          null,
          null
         ],
         "yaxis": "y"
        },
        {
         "mode": "markers",
         "name": "Ticker MDC",
         "type": "scatter",
         "x": [
          0.42,
          0.25,
          1.07,
          1.21,
          1.43,
          1.98,
          2.18,
          2.1,
          1.56,
          1.74
         ],
         "xaxis": "x2",
         "y": [
          25.249999999999996,
          38.09999847412107,
          null,
          null,
          null,
          null,
          null,
          null,
          null,
          null
         ],
         "yaxis": "y2"
        },
        {
         "mode": "markers",
         "name": "Ticker ILP",
         "type": "scatter",
         "x": [
          0.5,
          0.55,
          0.58,
          0.75,
          1.3,
          0.55,
          0.64,
          0.79,
          0.89,
          1.07
         ],
         "xaxis": "x",
         "y": [
          1.490654389331624,
          1.508511989624342,
          0.7129497891566287,
          0.779324907423567,
          null,
          null,
          null,
          null,
          null,
          null
         ],
         "yaxis": "y"
        },
        {
         "mode": "markers",
         "name": "Ticker ILP",
         "type": "scatter",
         "x": [
          0.5,
          0.55,
          0.58,
          0.75,
          1.3,
          0.55,
          0.64,
          0.79,
          0.89,
          1.07
         ],
         "xaxis": "x2",
         "y": [
          4.440000057220458,
          4.519999980926514,
          2.039999961853028,
          2.180000066757202,
          null,
          null,
          null,
          null,
          null,
          null
         ],
         "yaxis": "y2"
        },
        {
         "mode": "markers",
         "name": "Ticker CFL",
         "type": "scatter",
         "x": [
          0.29,
          0.33,
          0.94,
          1.29,
          1.25,
          1.55,
          1.94,
          2.23,
          1.96,
          2
         ],
         "xaxis": "x",
         "y": [
          2.536866415880321,
          2.7549338039876257,
          null,
          null,
          null,
          null,
          null,
          null,
          null,
          null
         ],
         "yaxis": "y"
        },
        {
         "mode": "markers",
         "name": "Ticker CFL",
         "type": "scatter",
         "x": [
          0.29,
          0.33,
          0.94,
          1.29,
          1.25,
          1.55,
          1.94,
          2.23,
          1.96,
          2
         ],
         "xaxis": "x2",
         "y": [
          12.64000034332275,
          15.720000267028805,
          null,
          null,
          null,
          null,
          null,
          null,
          null,
          null
         ],
         "yaxis": "y2"
        },
        {
         "mode": "markers",
         "name": "Ticker FCM",
         "type": "scatter",
         "x": [
          0.72,
          0.78,
          0.5,
          0.33,
          0.7,
          1.54,
          1.59,
          1.4,
          1.21,
          1.62
         ],
         "xaxis": "x",
         "y": [
          0.12221762850445134,
          0.2350721108710924,
          0.2350721108710924,
          0.47933496257972397,
          null,
          null,
          null,
          null,
          null,
          null
         ],
         "yaxis": "y"
        },
        {
         "mode": "markers",
         "name": "Ticker FCM",
         "type": "scatter",
         "x": [
          0.72,
          0.78,
          0.5,
          0.33,
          0.7,
          1.54,
          1.59,
          1.4,
          1.21,
          1.62
         ],
         "xaxis": "x2",
         "y": [
          1.1299999952316284,
          1.2649999856948853,
          1.2649999856948853,
          1.6150000095367432,
          null,
          null,
          null,
          null,
          null,
          null
         ],
         "yaxis": "y2"
        },
        {
         "mode": "markers",
         "name": "Ticker FVI",
         "type": "scatter",
         "x": [
          0.18,
          0.28,
          0.3,
          0.07,
          0.12,
          0.41,
          0.56,
          2.56,
          3.7,
          1.43
         ],
         "xaxis": "x",
         "y": [
          2.7440606508911505,
          2.69462719365756,
          2.509599277885271,
          2.4248027425974863,
          2.4061257641178835,
          null,
          null,
          null,
          null,
          null
         ],
         "yaxis": "y"
        },
        {
         "mode": "markers",
         "name": "Ticker FVI",
         "type": "scatter",
         "x": [
          0.18,
          0.28,
          0.3,
          0.07,
          0.12,
          0.41,
          0.56,
          2.56,
          3.7,
          1.43
         ],
         "xaxis": "x2",
         "y": [
          15.550000190734858,
          14.800000190734858,
          12.30000019073486,
          11.300000190734863,
          11.090909004211426,
          null,
          null,
          null,
          null,
          null
         ],
         "yaxis": "y2"
        },
        {
         "mode": "markers",
         "name": "Ticker PLT",
         "type": "scatter",
         "x": [
          0.58,
          0.64,
          0.78,
          1.82,
          1.21,
          1.18,
          0.5,
          0.63,
          0.15,
          0.05
         ],
         "xaxis": "x",
         "y": [
          null,
          null,
          null,
          null,
          null,
          null,
          null,
          null,
          null,
          null
         ],
         "yaxis": "y"
        },
        {
         "mode": "markers",
         "name": "Ticker PLT",
         "type": "scatter",
         "x": [
          0.58,
          0.64,
          0.78,
          1.82,
          1.21,
          1.18,
          0.5,
          0.63,
          0.15,
          0.05
         ],
         "xaxis": "x2",
         "y": [
          null,
          null,
          null,
          null,
          null,
          null,
          null,
          null,
          null,
          null
         ],
         "yaxis": "y2"
        },
        {
         "mode": "markers",
         "name": "Ticker LDB",
         "type": "scatter",
         "x": [
          0.39,
          0.52,
          1.51,
          1.53,
          1.57,
          2.17,
          3.08,
          2.64,
          2.92,
          1.84
         ],
         "xaxis": "x",
         "y": [
          0.6291418754934363,
          0.7952523647473517,
          null,
          null,
          null,
          null,
          null,
          null,
          null,
          null
         ],
         "yaxis": "y"
        },
        {
         "mode": "markers",
         "name": "Ticker LDB",
         "type": "scatter",
         "x": [
          0.39,
          0.52,
          1.51,
          1.53,
          1.57,
          2.17,
          3.08,
          2.64,
          2.92,
          1.84
         ],
         "xaxis": "x2",
         "y": [
          1.876000046730041,
          2.2149999141693115,
          null,
          null,
          null,
          null,
          null,
          null,
          null,
          null
         ],
         "yaxis": "y2"
        },
        {
         "mode": "markers",
         "name": "Ticker FOS",
         "type": "scatter",
         "x": [
          0.61,
          0.48,
          0.54,
          0.42,
          3.01,
          0.87,
          1.51,
          2.02,
          1.97,
          2.32
         ],
         "xaxis": "x",
         "y": [
          1.2119409427536318,
          1.3506671562994919,
          0.9082585678678127,
          1.1426291710428607,
          null,
          null,
          null,
          null,
          null,
          null
         ],
         "yaxis": "y"
        },
        {
         "mode": "markers",
         "name": "Ticker FOS",
         "type": "scatter",
         "x": [
          0.61,
          0.48,
          0.54,
          0.42,
          3.01,
          0.87,
          1.51,
          2.02,
          1.97,
          2.32
         ],
         "xaxis": "x2",
         "y": [
          3.359999895095825,
          3.859999895095825,
          2.4800000190734863,
          3.1349999904632564,
          null,
          null,
          null,
          null,
          null,
          null
         ],
         "yaxis": "y2"
        },
        {
         "mode": "markers",
         "name": "Ticker BAN",
         "type": "scatter",
         "x": [
          0.12,
          0.22,
          0.48,
          0.35,
          0.3,
          0.35,
          0.27,
          0.2,
          0.1,
          0.17
         ],
         "xaxis": "x",
         "y": [
          1.6992785780777009,
          1.814824720414034,
          1.4586150670564606,
          1.6677068565457855,
          1.4929040533163809,
          1.3244189548654353,
          1.2005670192292972,
          1.4683350732132154,
          0.8162494147953161,
          0.8862438592669583
         ],
         "yaxis": "y"
        },
        {
         "mode": "markers",
         "name": "Ticker BAN",
         "type": "scatter",
         "x": [
          0.12,
          0.22,
          0.48,
          0.35,
          0.3,
          0.35,
          0.27,
          0.2,
          0.1,
          0.17
         ],
         "xaxis": "x2",
         "y": [
          5.46999979019165,
          6.139999866485596,
          4.300000190734862,
          5.300000190734862,
          4.449999809265136,
          3.7599999904632564,
          3.3220000267028804,
          4.3420000076293945,
          2.26200008392334,
          2.4260001182556152
         ],
         "yaxis": "y2"
        }
       ],
       "layout": {
        "showlegend": false,
        "template": {
         "data": {
          "bar": [
           {
            "error_x": {
             "color": "#2a3f5f"
            },
            "error_y": {
             "color": "#2a3f5f"
            },
            "marker": {
             "line": {
              "color": "#E5ECF6",
              "width": 0.5
             },
             "pattern": {
              "fillmode": "overlay",
              "size": 10,
              "solidity": 0.2
             }
            },
            "type": "bar"
           }
          ],
          "barpolar": [
           {
            "marker": {
             "line": {
              "color": "#E5ECF6",
              "width": 0.5
             },
             "pattern": {
              "fillmode": "overlay",
              "size": 10,
              "solidity": 0.2
             }
            },
            "type": "barpolar"
           }
          ],
          "carpet": [
           {
            "aaxis": {
             "endlinecolor": "#2a3f5f",
             "gridcolor": "white",
             "linecolor": "white",
             "minorgridcolor": "white",
             "startlinecolor": "#2a3f5f"
            },
            "baxis": {
             "endlinecolor": "#2a3f5f",
             "gridcolor": "white",
             "linecolor": "white",
             "minorgridcolor": "white",
             "startlinecolor": "#2a3f5f"
            },
            "type": "carpet"
           }
          ],
          "choropleth": [
           {
            "colorbar": {
             "outlinewidth": 0,
             "ticks": ""
            },
            "type": "choropleth"
           }
          ],
          "contour": [
           {
            "colorbar": {
             "outlinewidth": 0,
             "ticks": ""
            },
            "colorscale": [
             [
              0,
              "#0d0887"
             ],
             [
              0.1111111111111111,
              "#46039f"
             ],
             [
              0.2222222222222222,
              "#7201a8"
             ],
             [
              0.3333333333333333,
              "#9c179e"
             ],
             [
              0.4444444444444444,
              "#bd3786"
             ],
             [
              0.5555555555555556,
              "#d8576b"
             ],
             [
              0.6666666666666666,
              "#ed7953"
             ],
             [
              0.7777777777777778,
              "#fb9f3a"
             ],
             [
              0.8888888888888888,
              "#fdca26"
             ],
             [
              1,
              "#f0f921"
             ]
            ],
            "type": "contour"
           }
          ],
          "contourcarpet": [
           {
            "colorbar": {
             "outlinewidth": 0,
             "ticks": ""
            },
            "type": "contourcarpet"
           }
          ],
          "heatmap": [
           {
            "colorbar": {
             "outlinewidth": 0,
             "ticks": ""
            },
            "colorscale": [
             [
              0,
              "#0d0887"
             ],
             [
              0.1111111111111111,
              "#46039f"
             ],
             [
              0.2222222222222222,
              "#7201a8"
             ],
             [
              0.3333333333333333,
              "#9c179e"
             ],
             [
              0.4444444444444444,
              "#bd3786"
             ],
             [
              0.5555555555555556,
              "#d8576b"
             ],
             [
              0.6666666666666666,
              "#ed7953"
             ],
             [
              0.7777777777777778,
              "#fb9f3a"
             ],
             [
              0.8888888888888888,
              "#fdca26"
             ],
             [
              1,
              "#f0f921"
             ]
            ],
            "type": "heatmap"
           }
          ],
          "heatmapgl": [
           {
            "colorbar": {
             "outlinewidth": 0,
             "ticks": ""
            },
            "colorscale": [
             [
              0,
              "#0d0887"
             ],
             [
              0.1111111111111111,
              "#46039f"
             ],
             [
              0.2222222222222222,
              "#7201a8"
             ],
             [
              0.3333333333333333,
              "#9c179e"
             ],
             [
              0.4444444444444444,
              "#bd3786"
             ],
             [
              0.5555555555555556,
              "#d8576b"
             ],
             [
              0.6666666666666666,
              "#ed7953"
             ],
             [
              0.7777777777777778,
              "#fb9f3a"
             ],
             [
              0.8888888888888888,
              "#fdca26"
             ],
             [
              1,
              "#f0f921"
             ]
            ],
            "type": "heatmapgl"
           }
          ],
          "histogram": [
           {
            "marker": {
             "pattern": {
              "fillmode": "overlay",
              "size": 10,
              "solidity": 0.2
             }
            },
            "type": "histogram"
           }
          ],
          "histogram2d": [
           {
            "colorbar": {
             "outlinewidth": 0,
             "ticks": ""
            },
            "colorscale": [
             [
              0,
              "#0d0887"
             ],
             [
              0.1111111111111111,
              "#46039f"
             ],
             [
              0.2222222222222222,
              "#7201a8"
             ],
             [
              0.3333333333333333,
              "#9c179e"
             ],
             [
              0.4444444444444444,
              "#bd3786"
             ],
             [
              0.5555555555555556,
              "#d8576b"
             ],
             [
              0.6666666666666666,
              "#ed7953"
             ],
             [
              0.7777777777777778,
              "#fb9f3a"
             ],
             [
              0.8888888888888888,
              "#fdca26"
             ],
             [
              1,
              "#f0f921"
             ]
            ],
            "type": "histogram2d"
           }
          ],
          "histogram2dcontour": [
           {
            "colorbar": {
             "outlinewidth": 0,
             "ticks": ""
            },
            "colorscale": [
             [
              0,
              "#0d0887"
             ],
             [
              0.1111111111111111,
              "#46039f"
             ],
             [
              0.2222222222222222,
              "#7201a8"
             ],
             [
              0.3333333333333333,
              "#9c179e"
             ],
             [
              0.4444444444444444,
              "#bd3786"
             ],
             [
              0.5555555555555556,
              "#d8576b"
             ],
             [
              0.6666666666666666,
              "#ed7953"
             ],
             [
              0.7777777777777778,
              "#fb9f3a"
             ],
             [
              0.8888888888888888,
              "#fdca26"
             ],
             [
              1,
              "#f0f921"
             ]
            ],
            "type": "histogram2dcontour"
           }
          ],
          "mesh3d": [
           {
            "colorbar": {
             "outlinewidth": 0,
             "ticks": ""
            },
            "type": "mesh3d"
           }
          ],
          "parcoords": [
           {
            "line": {
             "colorbar": {
              "outlinewidth": 0,
              "ticks": ""
             }
            },
            "type": "parcoords"
           }
          ],
          "pie": [
           {
            "automargin": true,
            "type": "pie"
           }
          ],
          "scatter": [
           {
            "fillpattern": {
             "fillmode": "overlay",
             "size": 10,
             "solidity": 0.2
            },
            "type": "scatter"
           }
          ],
          "scatter3d": [
           {
            "line": {
             "colorbar": {
              "outlinewidth": 0,
              "ticks": ""
             }
            },
            "marker": {
             "colorbar": {
              "outlinewidth": 0,
              "ticks": ""
             }
            },
            "type": "scatter3d"
           }
          ],
          "scattercarpet": [
           {
            "marker": {
             "colorbar": {
              "outlinewidth": 0,
              "ticks": ""
             }
            },
            "type": "scattercarpet"
           }
          ],
          "scattergeo": [
           {
            "marker": {
             "colorbar": {
              "outlinewidth": 0,
              "ticks": ""
             }
            },
            "type": "scattergeo"
           }
          ],
          "scattergl": [
           {
            "marker": {
             "colorbar": {
              "outlinewidth": 0,
              "ticks": ""
             }
            },
            "type": "scattergl"
           }
          ],
          "scattermapbox": [
           {
            "marker": {
             "colorbar": {
              "outlinewidth": 0,
              "ticks": ""
             }
            },
            "type": "scattermapbox"
           }
          ],
          "scatterpolar": [
           {
            "marker": {
             "colorbar": {
              "outlinewidth": 0,
              "ticks": ""
             }
            },
            "type": "scatterpolar"
           }
          ],
          "scatterpolargl": [
           {
            "marker": {
             "colorbar": {
              "outlinewidth": 0,
              "ticks": ""
             }
            },
            "type": "scatterpolargl"
           }
          ],
          "scatterternary": [
           {
            "marker": {
             "colorbar": {
              "outlinewidth": 0,
              "ticks": ""
             }
            },
            "type": "scatterternary"
           }
          ],
          "surface": [
           {
            "colorbar": {
             "outlinewidth": 0,
             "ticks": ""
            },
            "colorscale": [
             [
              0,
              "#0d0887"
             ],
             [
              0.1111111111111111,
              "#46039f"
             ],
             [
              0.2222222222222222,
              "#7201a8"
             ],
             [
              0.3333333333333333,
              "#9c179e"
             ],
             [
              0.4444444444444444,
              "#bd3786"
             ],
             [
              0.5555555555555556,
              "#d8576b"
             ],
             [
              0.6666666666666666,
              "#ed7953"
             ],
             [
              0.7777777777777778,
              "#fb9f3a"
             ],
             [
              0.8888888888888888,
              "#fdca26"
             ],
             [
              1,
              "#f0f921"
             ]
            ],
            "type": "surface"
           }
          ],
          "table": [
           {
            "cells": {
             "fill": {
              "color": "#EBF0F8"
             },
             "line": {
              "color": "white"
             }
            },
            "header": {
             "fill": {
              "color": "#C8D4E3"
             },
             "line": {
              "color": "white"
             }
            },
            "type": "table"
           }
          ]
         },
         "layout": {
          "annotationdefaults": {
           "arrowcolor": "#2a3f5f",
           "arrowhead": 0,
           "arrowwidth": 1
          },
          "autotypenumbers": "strict",
          "coloraxis": {
           "colorbar": {
            "outlinewidth": 0,
            "ticks": ""
           }
          },
          "colorscale": {
           "diverging": [
            [
             0,
             "#8e0152"
            ],
            [
             0.1,
             "#c51b7d"
            ],
            [
             0.2,
             "#de77ae"
            ],
            [
             0.3,
             "#f1b6da"
            ],
            [
             0.4,
             "#fde0ef"
            ],
            [
             0.5,
             "#f7f7f7"
            ],
            [
             0.6,
             "#e6f5d0"
            ],
            [
             0.7,
             "#b8e186"
            ],
            [
             0.8,
             "#7fbc41"
            ],
            [
             0.9,
             "#4d9221"
            ],
            [
             1,
             "#276419"
            ]
           ],
           "sequential": [
            [
             0,
             "#0d0887"
            ],
            [
             0.1111111111111111,
             "#46039f"
            ],
            [
             0.2222222222222222,
             "#7201a8"
            ],
            [
             0.3333333333333333,
             "#9c179e"
            ],
            [
             0.4444444444444444,
             "#bd3786"
            ],
            [
             0.5555555555555556,
             "#d8576b"
            ],
            [
             0.6666666666666666,
             "#ed7953"
            ],
            [
             0.7777777777777778,
             "#fb9f3a"
            ],
            [
             0.8888888888888888,
             "#fdca26"
            ],
            [
             1,
             "#f0f921"
            ]
           ],
           "sequentialminus": [
            [
             0,
             "#0d0887"
            ],
            [
             0.1111111111111111,
             "#46039f"
            ],
            [
             0.2222222222222222,
             "#7201a8"
            ],
            [
             0.3333333333333333,
             "#9c179e"
            ],
            [
             0.4444444444444444,
             "#bd3786"
            ],
            [
             0.5555555555555556,
             "#d8576b"
            ],
            [
             0.6666666666666666,
             "#ed7953"
            ],
            [
             0.7777777777777778,
             "#fb9f3a"
            ],
            [
             0.8888888888888888,
             "#fdca26"
            ],
            [
             1,
             "#f0f921"
            ]
           ]
          },
          "colorway": [
           "#636efa",
           "#EF553B",
           "#00cc96",
           "#ab63fa",
           "#FFA15A",
           "#19d3f3",
           "#FF6692",
           "#B6E880",
           "#FF97FF",
           "#FECB52"
          ],
          "font": {
           "color": "#2a3f5f"
          },
          "geo": {
           "bgcolor": "white",
           "lakecolor": "white",
           "landcolor": "#E5ECF6",
           "showlakes": true,
           "showland": true,
           "subunitcolor": "white"
          },
          "hoverlabel": {
           "align": "left"
          },
          "hovermode": "closest",
          "mapbox": {
           "style": "light"
          },
          "paper_bgcolor": "white",
          "plot_bgcolor": "#E5ECF6",
          "polar": {
           "angularaxis": {
            "gridcolor": "white",
            "linecolor": "white",
            "ticks": ""
           },
           "bgcolor": "#E5ECF6",
           "radialaxis": {
            "gridcolor": "white",
            "linecolor": "white",
            "ticks": ""
           }
          },
          "scene": {
           "xaxis": {
            "backgroundcolor": "#E5ECF6",
            "gridcolor": "white",
            "gridwidth": 2,
            "linecolor": "white",
            "showbackground": true,
            "ticks": "",
            "zerolinecolor": "white"
           },
           "yaxis": {
            "backgroundcolor": "#E5ECF6",
            "gridcolor": "white",
            "gridwidth": 2,
            "linecolor": "white",
            "showbackground": true,
            "ticks": "",
            "zerolinecolor": "white"
           },
           "zaxis": {
            "backgroundcolor": "#E5ECF6",
            "gridcolor": "white",
            "gridwidth": 2,
            "linecolor": "white",
            "showbackground": true,
            "ticks": "",
            "zerolinecolor": "white"
           }
          },
          "shapedefaults": {
           "line": {
            "color": "#2a3f5f"
           }
          },
          "ternary": {
           "aaxis": {
            "gridcolor": "white",
            "linecolor": "white",
            "ticks": ""
           },
           "baxis": {
            "gridcolor": "white",
            "linecolor": "white",
            "ticks": ""
           },
           "bgcolor": "#E5ECF6",
           "caxis": {
            "gridcolor": "white",
            "linecolor": "white",
            "ticks": ""
           }
          },
          "title": {
           "x": 0.05
          },
          "xaxis": {
           "automargin": true,
           "gridcolor": "white",
           "linecolor": "white",
           "ticks": "",
           "title": {
            "standoff": 15
           },
           "zerolinecolor": "white",
           "zerolinewidth": 2
          },
          "yaxis": {
           "automargin": true,
           "gridcolor": "white",
           "linecolor": "white",
           "ticks": "",
           "title": {
            "standoff": 15
           },
           "zerolinecolor": "white",
           "zerolinewidth": 2
          }
         }
        },
        "title": {
         "text": "Relazione tra Debt_Equity_ratio e Valori Borsa"
        },
        "xaxis": {
         "anchor": "y",
         "domain": [
          0,
          0.45
         ]
        },
        "xaxis2": {
         "anchor": "y2",
         "domain": [
          0.55,
          1
         ]
        },
        "yaxis": {
         "anchor": "x",
         "domain": [
          0,
          1
         ],
         "title": {
          "text": "Log Valori Borsa"
         }
        },
        "yaxis2": {
         "anchor": "x2",
         "domain": [
          0,
          1
         ],
         "title": {
          "text": "Valori Borsa"
         }
        }
       }
      }
     },
     "metadata": {},
     "output_type": "display_data"
    },
    {
     "data": {
      "application/vnd.plotly.v1+json": {
       "config": {
        "plotlyServerURL": "https://plot.ly"
       },
       "data": [
        {
         "mode": "markers",
         "name": "Ticker MARR",
         "type": "scatter",
         "x": [
          2.509599277885271,
          2.9349201179417297,
          2.8791984144362717,
          3.054001217665676,
          3.0689827565651293,
          3.07915387116492,
          2.87073576176629,
          2.8887036625848097,
          2.691243082785829,
          2.4849066497880004
         ],
         "xaxis": "x",
         "y": [
          2.509599277885271,
          2.9349201179417297,
          2.8791984144362717,
          3.054001217665676,
          3.0689827565651293,
          3.07915387116492,
          2.87073576176629,
          2.8887036625848097,
          2.691243082785829,
          2.4849066497880004
         ],
         "yaxis": "y"
        },
        {
         "mode": "markers",
         "name": "Ticker MARR",
         "type": "scatter",
         "x": [
          2.509599277885271,
          2.9349201179417297,
          2.8791984144362717,
          3.054001217665676,
          3.0689827565651293,
          3.07915387116492,
          2.87073576176629,
          2.8887036625848097,
          2.691243082785829,
          2.4849066497880004
         ],
         "xaxis": "x2",
         "y": [
          12.30000019073486,
          18.819999694824215,
          17.799999237060547,
          21.20000076293945,
          21.520000457763665,
          21.73999977111816,
          17.64999961853027,
          17.969999313354485,
          14.749999999999998,
          11.999999999999998
         ],
         "yaxis": "y2"
        },
        {
         "mode": "markers",
         "name": "Ticker PIA",
         "type": "scatter",
         "x": [
          1.077048147781857,
          1.0522192777352672,
          0.9962103346242122,
          1.007957923880542,
          0.6392188284692253,
          0.917889432671393,
          0.48365994275805774,
          0.698134717326336,
          0.9066443833247319,
          0.8569652431213597
         ],
         "xaxis": "x",
         "y": [
          1.077048147781857,
          1.0522192777352672,
          0.9962103346242122,
          1.007957923880542,
          0.6392188284692253,
          0.917889432671393,
          0.48365994275805774,
          0.698134717326336,
          0.9066443833247319,
          0.8569652431213597
         ],
         "yaxis": "y"
        },
        {
         "mode": "markers",
         "name": "Ticker PIA",
         "type": "scatter",
         "x": [
          1.077048147781857,
          1.0522192777352672,
          0.9962103346242122,
          1.007957923880542,
          0.6392188284692253,
          0.917889432671393,
          0.48365994275805774,
          0.698134717326336,
          0.9066443833247319,
          0.8569652431213597
         ],
         "xaxis": "x2",
         "y": [
          2.9360001087188716,
          2.864000082015991,
          2.7079999446868896,
          2.740000009536743,
          1.8949999809265134,
          2.503999948501587,
          1.621999979019165,
          2.009999990463257,
          2.476000070571899,
          2.3559999465942383
         ],
         "yaxis": "y2"
        },
        {
         "mode": "markers",
         "name": "Ticker BRE",
         "type": "scatter",
         "x": [
          2.4033350340342152,
          2.564179813062659,
          2.393218807006317,
          2.404238719152724,
          2.320425041100351,
          2.58475200201879,
          2.4890646757652832,
          2.07969149231976,
          1.6815725236803198,
          1.3681303836941336
         ],
         "xaxis": "x",
         "y": [
          2.4033350340342152,
          2.564179813062659,
          2.393218807006317,
          2.404238719152724,
          2.320425041100351,
          2.58475200201879,
          2.4890646757652832,
          2.07969149231976,
          1.6815725236803198,
          1.3681303836941336
         ],
         "yaxis": "y"
        },
        {
         "mode": "markers",
         "name": "Ticker BRE",
         "type": "scatter",
         "x": [
          2.4033350340342152,
          2.564179813062659,
          2.393218807006317,
          2.404238719152724,
          2.320425041100351,
          2.58475200201879,
          2.4890646757652832,
          2.07969149231976,
          1.6815725236803198,
          1.3681303836941336
         ],
         "xaxis": "x2",
         "y": [
          11.0600004196167,
          12.989999771118162,
          10.948678970336912,
          11.069999694824217,
          10.180000305175781,
          13.260000228881834,
          12.050000190734862,
          8.001999855041504,
          5.374000072479247,
          3.9279999732971187
         ],
         "yaxis": "y2"
        },
        {
         "mode": "markers",
         "name": "Ticker DAN",
         "type": "scatter",
         "x": [
          3.104586644253541,
          3.2790297189519984,
          2.7265447662626667,
          2.8154087651077058,
          2.785011289333365,
          3.0516398874558934,
          3.0243197266987147,
          2.740840023925201,
          3.000222186422059,
          3.2308043655777645
         ],
         "xaxis": "x",
         "y": [
          3.104586644253541,
          3.2790297189519984,
          2.7265447662626667,
          2.8154087651077058,
          2.785011289333365,
          3.0516398874558934,
          3.0243197266987147,
          2.740840023925201,
          3.000222186422059,
          3.2308043655777645
         ],
         "yaxis": "y"
        },
        {
         "mode": "markers",
         "name": "Ticker DAN",
         "type": "scatter",
         "x": [
          3.104586644253541,
          3.2790297189519984,
          2.7265447662626667,
          2.8154087651077058,
          2.785011289333365,
          3.0516398874558934,
          3.0243197266987147,
          2.740840023925201,
          3.000222186422059,
          3.2308043655777645
         ],
         "xaxis": "x2",
         "y": [
          22.299999237060543,
          26.549999237060547,
          15.279999732971186,
          16.700000762939453,
          16.20000076293945,
          21.149999618530277,
          20.57999992370605,
          15.499999999999996,
          20.090000152587887,
          25.299999237060543
         ],
         "yaxis": "y2"
        },
        {
         "mode": "markers",
         "name": "Ticker BC",
         "type": "scatter",
         "x": [
          4.269697449699962,
          4.107589776423775,
          3.5333946002941827,
          3.5587707383536116,
          3.349904087274605,
          3.363841581918742,
          3.0267462864029175,
          2.7033726319915394,
          2.8735646826837065,
          3.1705255511154085
         ],
         "xaxis": "x",
         "y": [
          4.269697449699962,
          4.107589776423775,
          3.5333946002941827,
          3.5587707383536116,
          3.349904087274605,
          3.363841581918742,
          3.0267462864029175,
          2.7033726319915394,
          2.8735646826837065,
          3.1705255511154085
         ],
         "yaxis": "y"
        },
        {
         "mode": "markers",
         "name": "Ticker BC",
         "type": "scatter",
         "x": [
          4.269697449699962,
          4.107589776423775,
          3.5333946002941827,
          3.5587707383536116,
          3.349904087274605,
          3.363841581918742,
          3.0267462864029175,
          2.7033726319915394,
          2.8735646826837065,
          3.1705255511154085
         ],
         "xaxis": "x2",
         "y": [
          71.49999999999996,
          60.79999923706053,
          34.2400016784668,
          35.11999893188476,
          28.499999999999996,
          28.89999961853027,
          20.6299991607666,
          14.930000305175776,
          17.70000076293945,
          23.81999969482422
         ],
         "yaxis": "y2"
        },
        {
         "mode": "markers",
         "name": "Ticker CLI",
         "type": "scatter",
         "x": [
          1.0543119898966447,
          1.2412686000947695,
          0.9001613654511708,
          0.9162907318741551,
          1.007957923880542,
          1.2584609841914016,
          1.1052568250710544,
          1.1933162536324886,
          0.9895412148852936,
          0.6418538736240484
         ],
         "xaxis": "x",
         "y": [
          1.0543119898966447,
          1.2412686000947695,
          0.9001613654511708,
          0.9162907318741551,
          1.007957923880542,
          1.2584609841914016,
          1.1052568250710544,
          1.1933162536324886,
          0.9895412148852936,
          0.6418538736240484
         ],
         "yaxis": "y"
        },
        {
         "mode": "markers",
         "name": "Ticker CLI",
         "type": "scatter",
         "x": [
          1.0543119898966447,
          1.2412686000947695,
          0.9001613654511708,
          0.9162907318741551,
          1.007957923880542,
          1.2584609841914016,
          1.1052568250710544,
          1.1933162536324886,
          0.9895412148852936,
          0.6418538736240484
         ],
         "xaxis": "x2",
         "y": [
          2.869999885559082,
          3.4600000381469727,
          2.4600000381469727,
          2.5,
          2.740000009536743,
          3.5199999809265132,
          3.0199999809265137,
          3.29800009727478,
          2.6900000572204585,
          1.899999976158142
         ],
         "yaxis": "y2"
        },
        {
         "mode": "markers",
         "name": "Ticker ELC",
         "type": "scatter",
         "x": [
          1.120047588057166,
          1.264126716369702,
          1.1265516697226583,
          1.0885619624476819,
          0.4187103223098387,
          0.9082585678678127,
          0.6097655897614381,
          0.6418538736240484,
          0.5704144453674508,
          0.5709795358097567
         ],
         "xaxis": "x",
         "y": [
          1.120047588057166,
          1.264126716369702,
          1.1265516697226583,
          1.0885619624476819,
          0.4187103223098387,
          0.9082585678678127,
          0.6097655897614381,
          0.6418538736240484,
          0.5704144453674508,
          0.5709795358097567
         ],
         "yaxis": "y"
        },
        {
         "mode": "markers",
         "name": "Ticker ELC",
         "type": "scatter",
         "x": [
          1.120047588057166,
          1.264126716369702,
          1.1265516697226583,
          1.0885619624476819,
          0.4187103223098387,
          0.9082585678678127,
          0.6097655897614381,
          0.6418538736240484,
          0.5704144453674508,
          0.5709795358097567
         ],
         "xaxis": "x2",
         "y": [
          3.065000057220459,
          3.5399999618530273,
          3.0850000381469727,
          2.9700000286102286,
          1.5199999809265137,
          2.4800000190734863,
          1.840000033378601,
          1.899999976158142,
          1.7690000534057615,
          1.7699999809265134
         ],
         "yaxis": "y2"
        },
        {
         "mode": "markers",
         "name": "Ticker GPI",
         "type": "scatter",
         "x": [
          2.653241951175182,
          2.803360380906535,
          2.101692187922208,
          2.0464016580303386,
          2.121063234666565,
          2.3702437236421723,
          2.3223877015907286,
          2.282382405139267,
          null,
          null
         ],
         "xaxis": "x",
         "y": [
          2.653241951175182,
          2.803360380906535,
          2.101692187922208,
          2.0464016580303386,
          2.121063234666565,
          2.3702437236421723,
          2.3223877015907286,
          2.282382405139267,
          null,
          null
         ],
         "yaxis": "y"
        },
        {
         "mode": "markers",
         "name": "Ticker GPI",
         "type": "scatter",
         "x": [
          2.653241951175182,
          2.803360380906535,
          2.101692187922208,
          2.0464016580303386,
          2.121063234666565,
          2.3702437236421723,
          2.3223877015907286,
          2.282382405139267,
          null,
          null
         ],
         "xaxis": "x2",
         "y": [
          14.199999809265131,
          16.499999999999996,
          8.180000305175781,
          7.739999771118162,
          8.340000152587889,
          10.699999809265137,
          10.199999809265133,
          9.800000190734862,
          null,
          null
         ],
         "yaxis": "y2"
        },
        {
         "mode": "markers",
         "name": "Ticker SRI",
         "type": "scatter",
         "x": [
          0.18647960255701124,
          0.7443154761953833,
          0.8285518009080817,
          1.169381368441481,
          1.2974631708642825,
          1.911022923913132,
          1.2974631708642825,
          1.341296964264569,
          1.3942625468528604,
          1.4148818606044733
         ],
         "xaxis": "x",
         "y": [
          0.18647960255701124,
          0.7443154761953833,
          0.8285518009080817,
          1.169381368441481,
          1.2974631708642825,
          1.911022923913132,
          1.2974631708642825,
          1.341296964264569,
          1.3942625468528604,
          1.4148818606044733
         ],
         "yaxis": "y"
        },
        {
         "mode": "markers",
         "name": "Ticker SRI",
         "type": "scatter",
         "x": [
          0.18647960255701124,
          0.7443154761953833,
          0.8285518009080817,
          1.169381368441481,
          1.2974631708642825,
          1.911022923913132,
          1.2974631708642825,
          1.341296964264569,
          1.3942625468528604,
          1.4148818606044733
         ],
         "xaxis": "x2",
         "y": [
          1.2050000429153442,
          2.1050000190734863,
          2.289999961853028,
          3.2200000286102286,
          3.660000085830689,
          6.760000228881836,
          3.660000085830689,
          3.8239998817443848,
          4.0320000648498535,
          4.116000175476073
         ],
         "yaxis": "y2"
        },
        {
         "mode": "markers",
         "name": "Ticker ALA",
         "type": "scatter",
         "x": [
          2.4680995476355903,
          2.3655598563366795,
          null,
          null,
          null,
          null,
          null,
          null,
          null,
          null
         ],
         "xaxis": "x",
         "y": [
          2.4680995476355903,
          2.3655598563366795,
          null,
          null,
          null,
          null,
          null,
          null,
          null,
          null
         ],
         "yaxis": "y"
        },
        {
         "mode": "markers",
         "name": "Ticker ALA",
         "type": "scatter",
         "x": [
          2.4680995476355903,
          2.3655598563366795,
          null,
          null,
          null,
          null,
          null,
          null,
          null,
          null
         ],
         "xaxis": "x2",
         "y": [
          11.80000019073486,
          10.64999961853027,
          null,
          null,
          null,
          null,
          null,
          null,
          null,
          null
         ],
         "yaxis": "y2"
        },
        {
         "mode": "markers",
         "name": "Ticker ICF",
         "type": "scatter",
         "x": [
          1.7155980979710415,
          1.8277698730198415,
          1.6974487967434386,
          null,
          null,
          null,
          null,
          null,
          null,
          null
         ],
         "xaxis": "x",
         "y": [
          1.7155980979710415,
          1.8277698730198415,
          1.6974487967434386,
          null,
          null,
          null,
          null,
          null,
          null,
          null
         ],
         "yaxis": "y"
        },
        {
         "mode": "markers",
         "name": "Ticker ICF",
         "type": "scatter",
         "x": [
          1.7155980979710415,
          1.8277698730198415,
          1.6974487967434386,
          null,
          null,
          null,
          null,
          null,
          null,
          null
         ],
         "xaxis": "x2",
         "y": [
          5.55999994277954,
          6.2199997901916495,
          5.460000038146972,
          null,
          null,
          null,
          null,
          null,
          null,
          null
         ],
         "yaxis": "y2"
        },
        {
         "mode": "markers",
         "name": "Ticker ENV",
         "type": "scatter",
         "x": [
          1.190887553182456,
          1.3350010541839938,
          1.1939224540228235,
          1.2208299523375428,
          1.1847899790762915,
          1.2470322992672698,
          1.0224509174110963,
          1.0260415821605242,
          1.249901738946927,
          1.1499389134175557
         ],
         "xaxis": "x",
         "y": [
          1.190887553182456,
          1.3350010541839938,
          1.1939224540228235,
          1.2208299523375428,
          1.1847899790762915,
          1.2470322992672698,
          1.0224509174110963,
          1.0260415821605242,
          1.249901738946927,
          1.1499389134175557
         ],
         "yaxis": "y"
        },
        {
         "mode": "markers",
         "name": "Ticker ENV",
         "type": "scatter",
         "x": [
          1.190887553182456,
          1.3350010541839938,
          1.1939224540228235,
          1.2208299523375428,
          1.1847899790762915,
          1.2470322992672698,
          1.0224509174110963,
          1.0260415821605242,
          1.249901738946927,
          1.1499389134175557
         ],
         "xaxis": "x2",
         "y": [
          3.289999961853028,
          3.799999952316284,
          3.2999999523162837,
          3.390000104904175,
          3.2699999809265132,
          3.480000019073486,
          2.7799999713897705,
          2.7899999618530273,
          3.4900000095367427,
          3.1579999923706046
         ],
         "yaxis": "y2"
        },
        {
         "mode": "markers",
         "name": "Ticker MASI",
         "type": "scatter",
         "x": [
          1.5062972042644385,
          1.348073123528931,
          0.943905872931563,
          1.1568812177849161,
          1.348073123528931,
          1.5040773967762742,
          1.4609378908394477,
          1.4816045625986316,
          null,
          null
         ],
         "xaxis": "x",
         "y": [
          1.5062972042644385,
          1.348073123528931,
          0.943905872931563,
          1.1568812177849161,
          1.348073123528931,
          1.5040773967762742,
          1.4609378908394477,
          1.4816045625986316,
          null,
          null
         ],
         "yaxis": "y"
        },
        {
         "mode": "markers",
         "name": "Ticker MASI",
         "type": "scatter",
         "x": [
          1.5062972042644385,
          1.348073123528931,
          0.943905872931563,
          1.1568812177849161,
          1.348073123528931,
          1.5040773967762742,
          1.4609378908394477,
          1.4816045625986316,
          null,
          null
         ],
         "xaxis": "x2",
         "y": [
          4.510000228881836,
          3.8499999046325675,
          2.569999933242798,
          3.180000066757202,
          3.8499999046325675,
          4.5,
          4.30999994277954,
          4.400000095367432,
          null,
          null
         ],
         "yaxis": "y2"
        },
        {
         "mode": "markers",
         "name": "Ticker SVS",
         "type": "scatter",
         "x": [
          2.3015845697493673,
          null,
          null,
          null,
          null,
          null,
          null,
          null,
          null,
          null
         ],
         "xaxis": "x",
         "y": [
          2.3015845697493673,
          null,
          null,
          null,
          null,
          null,
          null,
          null,
          null,
          null
         ],
         "yaxis": "y"
        },
        {
         "mode": "markers",
         "name": "Ticker SVS",
         "type": "scatter",
         "x": [
          2.3015845697493673,
          null,
          null,
          null,
          null,
          null,
          null,
          null,
          null,
          null
         ],
         "xaxis": "x2",
         "y": [
          9.989999771118164,
          null,
          null,
          null,
          null,
          null,
          null,
          null,
          null,
          null
         ],
         "yaxis": "y2"
        },
        {
         "mode": "markers",
         "name": "Ticker STAR7",
         "type": "scatter",
         "x": [
          2.1679101634795908,
          2.264883237693826,
          null,
          null,
          null,
          null,
          null,
          null,
          null,
          null
         ],
         "xaxis": "x",
         "y": [
          2.1679101634795908,
          2.264883237693826,
          null,
          null,
          null,
          null,
          null,
          null,
          null,
          null
         ],
         "yaxis": "y"
        },
        {
         "mode": "markers",
         "name": "Ticker STAR7",
         "type": "scatter",
         "x": [
          2.1679101634795908,
          2.264883237693826,
          null,
          null,
          null,
          null,
          null,
          null,
          null,
          null
         ],
         "xaxis": "x2",
         "y": [
          8.739999771118164,
          9.630000114440916,
          null,
          null,
          null,
          null,
          null,
          null,
          null,
          null
         ],
         "yaxis": "y2"
        },
        {
         "mode": "markers",
         "name": "Ticker SCK",
         "type": "scatter",
         "x": [
          2.0333975857027218,
          2.356125878001209,
          1.1151415749853149,
          0.15700371212988268,
          -0.31471071871163714,
          null,
          null,
          null,
          null,
          null
         ],
         "xaxis": "x",
         "y": [
          2.0333975857027218,
          2.356125878001209,
          1.1151415749853149,
          0.15700371212988268,
          -0.31471071871163714,
          null,
          null,
          null,
          null,
          null
         ],
         "yaxis": "y"
        },
        {
         "mode": "markers",
         "name": "Ticker SCK",
         "type": "scatter",
         "x": [
          2.0333975857027218,
          2.356125878001209,
          1.1151415749853149,
          0.15700371212988268,
          -0.31471071871163714,
          null,
          null,
          null,
          null,
          null
         ],
         "xaxis": "x2",
         "y": [
          7.639999866485597,
          10.55000019073486,
          3.0499999523162837,
          1.1699999570846558,
          0.7300000190734863,
          null,
          null,
          null,
          null,
          null
         ],
         "yaxis": "y2"
        },
        {
         "mode": "markers",
         "name": "Ticker MARP",
         "type": "scatter",
         "x": [
          1.4060969697165737,
          1.5475624681341262,
          1.0296194001512595,
          1.508511989624342,
          null,
          null,
          null,
          null,
          null,
          null
         ],
         "xaxis": "x",
         "y": [
          1.4060969697165737,
          1.5475624681341262,
          1.0296194001512595,
          1.508511989624342,
          null,
          null,
          null,
          null,
          null,
          null
         ],
         "yaxis": "y"
        },
        {
         "mode": "markers",
         "name": "Ticker MARP",
         "type": "scatter",
         "x": [
          1.4060969697165737,
          1.5475624681341262,
          1.0296194001512595,
          1.508511989624342,
          null,
          null,
          null,
          null,
          null,
          null
         ],
         "xaxis": "x2",
         "y": [
          4.079999923706054,
          4.699999809265136,
          2.7999999523162837,
          4.519999980926514,
          null,
          null,
          null,
          null,
          null,
          null
         ],
         "yaxis": "y2"
        },
        {
         "mode": "markers",
         "name": "Ticker ITD",
         "type": "scatter",
         "x": [
          2.6672281800910014,
          2.972975247406338,
          2.3513752571634776,
          1.8082887555452603,
          1.0986122886681098,
          null,
          null,
          null,
          null,
          null
         ],
         "xaxis": "x",
         "y": [
          2.6672281800910014,
          2.972975247406338,
          2.3513752571634776,
          1.8082887555452603,
          1.0986122886681098,
          null,
          null,
          null,
          null,
          null
         ],
         "yaxis": "y"
        },
        {
         "mode": "markers",
         "name": "Ticker ITD",
         "type": "scatter",
         "x": [
          2.6672281800910014,
          2.972975247406338,
          2.3513752571634776,
          1.8082887555452603,
          1.0986122886681098,
          null,
          null,
          null,
          null,
          null
         ],
         "xaxis": "x2",
         "y": [
          14.399999618530272,
          19.549999237060543,
          10.499999999999998,
          6.0999999046325675,
          3,
          null,
          null,
          null,
          null,
          null
         ],
         "yaxis": "y2"
        },
        {
         "mode": "markers",
         "name": "Ticker VIM",
         "type": "scatter",
         "x": [
          0.13102824985805775,
          0.4637340372249708,
          0.18232159653038368,
          0.7654678864965156,
          1.0818051865157,
          null,
          null,
          null,
          null,
          null
         ],
         "xaxis": "x",
         "y": [
          0.13102824985805775,
          0.4637340372249708,
          0.18232159653038368,
          0.7654678864965156,
          1.0818051865157,
          null,
          null,
          null,
          null,
          null
         ],
         "yaxis": "y"
        },
        {
         "mode": "markers",
         "name": "Ticker VIM",
         "type": "scatter",
         "x": [
          0.13102824985805775,
          0.4637340372249708,
          0.18232159653038368,
          0.7654678864965156,
          1.0818051865157,
          null,
          null,
          null,
          null,
          null
         ],
         "xaxis": "x2",
         "y": [
          1.1399999856948853,
          1.590000033378601,
          1.2000000476837158,
          2.150000095367432,
          2.950000047683716,
          null,
          null,
          null,
          null,
          null
         ],
         "yaxis": "y2"
        },
        {
         "mode": "markers",
         "name": "Ticker MDC",
         "type": "scatter",
         "x": [
          3.228826155721369,
          3.640214242083339,
          null,
          null,
          null,
          null,
          null,
          null,
          null,
          null
         ],
         "xaxis": "x",
         "y": [
          3.228826155721369,
          3.640214242083339,
          null,
          null,
          null,
          null,
          null,
          null,
          null,
          null
         ],
         "yaxis": "y"
        },
        {
         "mode": "markers",
         "name": "Ticker MDC",
         "type": "scatter",
         "x": [
          3.228826155721369,
          3.640214242083339,
          null,
          null,
          null,
          null,
          null,
          null,
          null,
          null
         ],
         "xaxis": "x2",
         "y": [
          25.249999999999996,
          38.09999847412107,
          null,
          null,
          null,
          null,
          null,
          null,
          null,
          null
         ],
         "yaxis": "y2"
        },
        {
         "mode": "markers",
         "name": "Ticker ILP",
         "type": "scatter",
         "x": [
          1.490654389331624,
          1.508511989624342,
          0.7129497891566287,
          0.779324907423567,
          null,
          null,
          null,
          null,
          null,
          null
         ],
         "xaxis": "x",
         "y": [
          1.490654389331624,
          1.508511989624342,
          0.7129497891566287,
          0.779324907423567,
          null,
          null,
          null,
          null,
          null,
          null
         ],
         "yaxis": "y"
        },
        {
         "mode": "markers",
         "name": "Ticker ILP",
         "type": "scatter",
         "x": [
          1.490654389331624,
          1.508511989624342,
          0.7129497891566287,
          0.779324907423567,
          null,
          null,
          null,
          null,
          null,
          null
         ],
         "xaxis": "x2",
         "y": [
          4.440000057220458,
          4.519999980926514,
          2.039999961853028,
          2.180000066757202,
          null,
          null,
          null,
          null,
          null,
          null
         ],
         "yaxis": "y2"
        },
        {
         "mode": "markers",
         "name": "Ticker CFL",
         "type": "scatter",
         "x": [
          2.536866415880321,
          2.7549338039876257,
          null,
          null,
          null,
          null,
          null,
          null,
          null,
          null
         ],
         "xaxis": "x",
         "y": [
          2.536866415880321,
          2.7549338039876257,
          null,
          null,
          null,
          null,
          null,
          null,
          null,
          null
         ],
         "yaxis": "y"
        },
        {
         "mode": "markers",
         "name": "Ticker CFL",
         "type": "scatter",
         "x": [
          2.536866415880321,
          2.7549338039876257,
          null,
          null,
          null,
          null,
          null,
          null,
          null,
          null
         ],
         "xaxis": "x2",
         "y": [
          12.64000034332275,
          15.720000267028805,
          null,
          null,
          null,
          null,
          null,
          null,
          null,
          null
         ],
         "yaxis": "y2"
        },
        {
         "mode": "markers",
         "name": "Ticker FCM",
         "type": "scatter",
         "x": [
          0.12221762850445134,
          0.2350721108710924,
          0.2350721108710924,
          0.47933496257972397,
          null,
          null,
          null,
          null,
          null,
          null
         ],
         "xaxis": "x",
         "y": [
          0.12221762850445134,
          0.2350721108710924,
          0.2350721108710924,
          0.47933496257972397,
          null,
          null,
          null,
          null,
          null,
          null
         ],
         "yaxis": "y"
        },
        {
         "mode": "markers",
         "name": "Ticker FCM",
         "type": "scatter",
         "x": [
          0.12221762850445134,
          0.2350721108710924,
          0.2350721108710924,
          0.47933496257972397,
          null,
          null,
          null,
          null,
          null,
          null
         ],
         "xaxis": "x2",
         "y": [
          1.1299999952316284,
          1.2649999856948853,
          1.2649999856948853,
          1.6150000095367432,
          null,
          null,
          null,
          null,
          null,
          null
         ],
         "yaxis": "y2"
        },
        {
         "mode": "markers",
         "name": "Ticker FVI",
         "type": "scatter",
         "x": [
          2.7440606508911505,
          2.69462719365756,
          2.509599277885271,
          2.4248027425974863,
          2.4061257641178835,
          null,
          null,
          null,
          null,
          null
         ],
         "xaxis": "x",
         "y": [
          2.7440606508911505,
          2.69462719365756,
          2.509599277885271,
          2.4248027425974863,
          2.4061257641178835,
          null,
          null,
          null,
          null,
          null
         ],
         "yaxis": "y"
        },
        {
         "mode": "markers",
         "name": "Ticker FVI",
         "type": "scatter",
         "x": [
          2.7440606508911505,
          2.69462719365756,
          2.509599277885271,
          2.4248027425974863,
          2.4061257641178835,
          null,
          null,
          null,
          null,
          null
         ],
         "xaxis": "x2",
         "y": [
          15.550000190734858,
          14.800000190734858,
          12.30000019073486,
          11.300000190734863,
          11.090909004211426,
          null,
          null,
          null,
          null,
          null
         ],
         "yaxis": "y2"
        },
        {
         "mode": "markers",
         "name": "Ticker PLT",
         "type": "scatter",
         "x": [
          null,
          null,
          null,
          null,
          null,
          null,
          null,
          null,
          null,
          null
         ],
         "xaxis": "x",
         "y": [
          null,
          null,
          null,
          null,
          null,
          null,
          null,
          null,
          null,
          null
         ],
         "yaxis": "y"
        },
        {
         "mode": "markers",
         "name": "Ticker PLT",
         "type": "scatter",
         "x": [
          null,
          null,
          null,
          null,
          null,
          null,
          null,
          null,
          null,
          null
         ],
         "xaxis": "x2",
         "y": [
          null,
          null,
          null,
          null,
          null,
          null,
          null,
          null,
          null,
          null
         ],
         "yaxis": "y2"
        },
        {
         "mode": "markers",
         "name": "Ticker LDB",
         "type": "scatter",
         "x": [
          0.6291418754934363,
          0.7952523647473517,
          null,
          null,
          null,
          null,
          null,
          null,
          null,
          null
         ],
         "xaxis": "x",
         "y": [
          0.6291418754934363,
          0.7952523647473517,
          null,
          null,
          null,
          null,
          null,
          null,
          null,
          null
         ],
         "yaxis": "y"
        },
        {
         "mode": "markers",
         "name": "Ticker LDB",
         "type": "scatter",
         "x": [
          0.6291418754934363,
          0.7952523647473517,
          null,
          null,
          null,
          null,
          null,
          null,
          null,
          null
         ],
         "xaxis": "x2",
         "y": [
          1.876000046730041,
          2.2149999141693115,
          null,
          null,
          null,
          null,
          null,
          null,
          null,
          null
         ],
         "yaxis": "y2"
        },
        {
         "mode": "markers",
         "name": "Ticker FOS",
         "type": "scatter",
         "x": [
          1.2119409427536318,
          1.3506671562994919,
          0.9082585678678127,
          1.1426291710428607,
          null,
          null,
          null,
          null,
          null,
          null
         ],
         "xaxis": "x",
         "y": [
          1.2119409427536318,
          1.3506671562994919,
          0.9082585678678127,
          1.1426291710428607,
          null,
          null,
          null,
          null,
          null,
          null
         ],
         "yaxis": "y"
        },
        {
         "mode": "markers",
         "name": "Ticker FOS",
         "type": "scatter",
         "x": [
          1.2119409427536318,
          1.3506671562994919,
          0.9082585678678127,
          1.1426291710428607,
          null,
          null,
          null,
          null,
          null,
          null
         ],
         "xaxis": "x2",
         "y": [
          3.359999895095825,
          3.859999895095825,
          2.4800000190734863,
          3.1349999904632564,
          null,
          null,
          null,
          null,
          null,
          null
         ],
         "yaxis": "y2"
        },
        {
         "mode": "markers",
         "name": "Ticker BAN",
         "type": "scatter",
         "x": [
          1.6992785780777009,
          1.814824720414034,
          1.4586150670564606,
          1.6677068565457855,
          1.4929040533163809,
          1.3244189548654353,
          1.2005670192292972,
          1.4683350732132154,
          0.8162494147953161,
          0.8862438592669583
         ],
         "xaxis": "x",
         "y": [
          1.6992785780777009,
          1.814824720414034,
          1.4586150670564606,
          1.6677068565457855,
          1.4929040533163809,
          1.3244189548654353,
          1.2005670192292972,
          1.4683350732132154,
          0.8162494147953161,
          0.8862438592669583
         ],
         "yaxis": "y"
        },
        {
         "mode": "markers",
         "name": "Ticker BAN",
         "type": "scatter",
         "x": [
          1.6992785780777009,
          1.814824720414034,
          1.4586150670564606,
          1.6677068565457855,
          1.4929040533163809,
          1.3244189548654353,
          1.2005670192292972,
          1.4683350732132154,
          0.8162494147953161,
          0.8862438592669583
         ],
         "xaxis": "x2",
         "y": [
          5.46999979019165,
          6.139999866485596,
          4.300000190734862,
          5.300000190734862,
          4.449999809265136,
          3.7599999904632564,
          3.3220000267028804,
          4.3420000076293945,
          2.26200008392334,
          2.4260001182556152
         ],
         "yaxis": "y2"
        }
       ],
       "layout": {
        "showlegend": false,
        "template": {
         "data": {
          "bar": [
           {
            "error_x": {
             "color": "#2a3f5f"
            },
            "error_y": {
             "color": "#2a3f5f"
            },
            "marker": {
             "line": {
              "color": "#E5ECF6",
              "width": 0.5
             },
             "pattern": {
              "fillmode": "overlay",
              "size": 10,
              "solidity": 0.2
             }
            },
            "type": "bar"
           }
          ],
          "barpolar": [
           {
            "marker": {
             "line": {
              "color": "#E5ECF6",
              "width": 0.5
             },
             "pattern": {
              "fillmode": "overlay",
              "size": 10,
              "solidity": 0.2
             }
            },
            "type": "barpolar"
           }
          ],
          "carpet": [
           {
            "aaxis": {
             "endlinecolor": "#2a3f5f",
             "gridcolor": "white",
             "linecolor": "white",
             "minorgridcolor": "white",
             "startlinecolor": "#2a3f5f"
            },
            "baxis": {
             "endlinecolor": "#2a3f5f",
             "gridcolor": "white",
             "linecolor": "white",
             "minorgridcolor": "white",
             "startlinecolor": "#2a3f5f"
            },
            "type": "carpet"
           }
          ],
          "choropleth": [
           {
            "colorbar": {
             "outlinewidth": 0,
             "ticks": ""
            },
            "type": "choropleth"
           }
          ],
          "contour": [
           {
            "colorbar": {
             "outlinewidth": 0,
             "ticks": ""
            },
            "colorscale": [
             [
              0,
              "#0d0887"
             ],
             [
              0.1111111111111111,
              "#46039f"
             ],
             [
              0.2222222222222222,
              "#7201a8"
             ],
             [
              0.3333333333333333,
              "#9c179e"
             ],
             [
              0.4444444444444444,
              "#bd3786"
             ],
             [
              0.5555555555555556,
              "#d8576b"
             ],
             [
              0.6666666666666666,
              "#ed7953"
             ],
             [
              0.7777777777777778,
              "#fb9f3a"
             ],
             [
              0.8888888888888888,
              "#fdca26"
             ],
             [
              1,
              "#f0f921"
             ]
            ],
            "type": "contour"
           }
          ],
          "contourcarpet": [
           {
            "colorbar": {
             "outlinewidth": 0,
             "ticks": ""
            },
            "type": "contourcarpet"
           }
          ],
          "heatmap": [
           {
            "colorbar": {
             "outlinewidth": 0,
             "ticks": ""
            },
            "colorscale": [
             [
              0,
              "#0d0887"
             ],
             [
              0.1111111111111111,
              "#46039f"
             ],
             [
              0.2222222222222222,
              "#7201a8"
             ],
             [
              0.3333333333333333,
              "#9c179e"
             ],
             [
              0.4444444444444444,
              "#bd3786"
             ],
             [
              0.5555555555555556,
              "#d8576b"
             ],
             [
              0.6666666666666666,
              "#ed7953"
             ],
             [
              0.7777777777777778,
              "#fb9f3a"
             ],
             [
              0.8888888888888888,
              "#fdca26"
             ],
             [
              1,
              "#f0f921"
             ]
            ],
            "type": "heatmap"
           }
          ],
          "heatmapgl": [
           {
            "colorbar": {
             "outlinewidth": 0,
             "ticks": ""
            },
            "colorscale": [
             [
              0,
              "#0d0887"
             ],
             [
              0.1111111111111111,
              "#46039f"
             ],
             [
              0.2222222222222222,
              "#7201a8"
             ],
             [
              0.3333333333333333,
              "#9c179e"
             ],
             [
              0.4444444444444444,
              "#bd3786"
             ],
             [
              0.5555555555555556,
              "#d8576b"
             ],
             [
              0.6666666666666666,
              "#ed7953"
             ],
             [
              0.7777777777777778,
              "#fb9f3a"
             ],
             [
              0.8888888888888888,
              "#fdca26"
             ],
             [
              1,
              "#f0f921"
             ]
            ],
            "type": "heatmapgl"
           }
          ],
          "histogram": [
           {
            "marker": {
             "pattern": {
              "fillmode": "overlay",
              "size": 10,
              "solidity": 0.2
             }
            },
            "type": "histogram"
           }
          ],
          "histogram2d": [
           {
            "colorbar": {
             "outlinewidth": 0,
             "ticks": ""
            },
            "colorscale": [
             [
              0,
              "#0d0887"
             ],
             [
              0.1111111111111111,
              "#46039f"
             ],
             [
              0.2222222222222222,
              "#7201a8"
             ],
             [
              0.3333333333333333,
              "#9c179e"
             ],
             [
              0.4444444444444444,
              "#bd3786"
             ],
             [
              0.5555555555555556,
              "#d8576b"
             ],
             [
              0.6666666666666666,
              "#ed7953"
             ],
             [
              0.7777777777777778,
              "#fb9f3a"
             ],
             [
              0.8888888888888888,
              "#fdca26"
             ],
             [
              1,
              "#f0f921"
             ]
            ],
            "type": "histogram2d"
           }
          ],
          "histogram2dcontour": [
           {
            "colorbar": {
             "outlinewidth": 0,
             "ticks": ""
            },
            "colorscale": [
             [
              0,
              "#0d0887"
             ],
             [
              0.1111111111111111,
              "#46039f"
             ],
             [
              0.2222222222222222,
              "#7201a8"
             ],
             [
              0.3333333333333333,
              "#9c179e"
             ],
             [
              0.4444444444444444,
              "#bd3786"
             ],
             [
              0.5555555555555556,
              "#d8576b"
             ],
             [
              0.6666666666666666,
              "#ed7953"
             ],
             [
              0.7777777777777778,
              "#fb9f3a"
             ],
             [
              0.8888888888888888,
              "#fdca26"
             ],
             [
              1,
              "#f0f921"
             ]
            ],
            "type": "histogram2dcontour"
           }
          ],
          "mesh3d": [
           {
            "colorbar": {
             "outlinewidth": 0,
             "ticks": ""
            },
            "type": "mesh3d"
           }
          ],
          "parcoords": [
           {
            "line": {
             "colorbar": {
              "outlinewidth": 0,
              "ticks": ""
             }
            },
            "type": "parcoords"
           }
          ],
          "pie": [
           {
            "automargin": true,
            "type": "pie"
           }
          ],
          "scatter": [
           {
            "fillpattern": {
             "fillmode": "overlay",
             "size": 10,
             "solidity": 0.2
            },
            "type": "scatter"
           }
          ],
          "scatter3d": [
           {
            "line": {
             "colorbar": {
              "outlinewidth": 0,
              "ticks": ""
             }
            },
            "marker": {
             "colorbar": {
              "outlinewidth": 0,
              "ticks": ""
             }
            },
            "type": "scatter3d"
           }
          ],
          "scattercarpet": [
           {
            "marker": {
             "colorbar": {
              "outlinewidth": 0,
              "ticks": ""
             }
            },
            "type": "scattercarpet"
           }
          ],
          "scattergeo": [
           {
            "marker": {
             "colorbar": {
              "outlinewidth": 0,
              "ticks": ""
             }
            },
            "type": "scattergeo"
           }
          ],
          "scattergl": [
           {
            "marker": {
             "colorbar": {
              "outlinewidth": 0,
              "ticks": ""
             }
            },
            "type": "scattergl"
           }
          ],
          "scattermapbox": [
           {
            "marker": {
             "colorbar": {
              "outlinewidth": 0,
              "ticks": ""
             }
            },
            "type": "scattermapbox"
           }
          ],
          "scatterpolar": [
           {
            "marker": {
             "colorbar": {
              "outlinewidth": 0,
              "ticks": ""
             }
            },
            "type": "scatterpolar"
           }
          ],
          "scatterpolargl": [
           {
            "marker": {
             "colorbar": {
              "outlinewidth": 0,
              "ticks": ""
             }
            },
            "type": "scatterpolargl"
           }
          ],
          "scatterternary": [
           {
            "marker": {
             "colorbar": {
              "outlinewidth": 0,
              "ticks": ""
             }
            },
            "type": "scatterternary"
           }
          ],
          "surface": [
           {
            "colorbar": {
             "outlinewidth": 0,
             "ticks": ""
            },
            "colorscale": [
             [
              0,
              "#0d0887"
             ],
             [
              0.1111111111111111,
              "#46039f"
             ],
             [
              0.2222222222222222,
              "#7201a8"
             ],
             [
              0.3333333333333333,
              "#9c179e"
             ],
             [
              0.4444444444444444,
              "#bd3786"
             ],
             [
              0.5555555555555556,
              "#d8576b"
             ],
             [
              0.6666666666666666,
              "#ed7953"
             ],
             [
              0.7777777777777778,
              "#fb9f3a"
             ],
             [
              0.8888888888888888,
              "#fdca26"
             ],
             [
              1,
              "#f0f921"
             ]
            ],
            "type": "surface"
           }
          ],
          "table": [
           {
            "cells": {
             "fill": {
              "color": "#EBF0F8"
             },
             "line": {
              "color": "white"
             }
            },
            "header": {
             "fill": {
              "color": "#C8D4E3"
             },
             "line": {
              "color": "white"
             }
            },
            "type": "table"
           }
          ]
         },
         "layout": {
          "annotationdefaults": {
           "arrowcolor": "#2a3f5f",
           "arrowhead": 0,
           "arrowwidth": 1
          },
          "autotypenumbers": "strict",
          "coloraxis": {
           "colorbar": {
            "outlinewidth": 0,
            "ticks": ""
           }
          },
          "colorscale": {
           "diverging": [
            [
             0,
             "#8e0152"
            ],
            [
             0.1,
             "#c51b7d"
            ],
            [
             0.2,
             "#de77ae"
            ],
            [
             0.3,
             "#f1b6da"
            ],
            [
             0.4,
             "#fde0ef"
            ],
            [
             0.5,
             "#f7f7f7"
            ],
            [
             0.6,
             "#e6f5d0"
            ],
            [
             0.7,
             "#b8e186"
            ],
            [
             0.8,
             "#7fbc41"
            ],
            [
             0.9,
             "#4d9221"
            ],
            [
             1,
             "#276419"
            ]
           ],
           "sequential": [
            [
             0,
             "#0d0887"
            ],
            [
             0.1111111111111111,
             "#46039f"
            ],
            [
             0.2222222222222222,
             "#7201a8"
            ],
            [
             0.3333333333333333,
             "#9c179e"
            ],
            [
             0.4444444444444444,
             "#bd3786"
            ],
            [
             0.5555555555555556,
             "#d8576b"
            ],
            [
             0.6666666666666666,
             "#ed7953"
            ],
            [
             0.7777777777777778,
             "#fb9f3a"
            ],
            [
             0.8888888888888888,
             "#fdca26"
            ],
            [
             1,
             "#f0f921"
            ]
           ],
           "sequentialminus": [
            [
             0,
             "#0d0887"
            ],
            [
             0.1111111111111111,
             "#46039f"
            ],
            [
             0.2222222222222222,
             "#7201a8"
            ],
            [
             0.3333333333333333,
             "#9c179e"
            ],
            [
             0.4444444444444444,
             "#bd3786"
            ],
            [
             0.5555555555555556,
             "#d8576b"
            ],
            [
             0.6666666666666666,
             "#ed7953"
            ],
            [
             0.7777777777777778,
             "#fb9f3a"
            ],
            [
             0.8888888888888888,
             "#fdca26"
            ],
            [
             1,
             "#f0f921"
            ]
           ]
          },
          "colorway": [
           "#636efa",
           "#EF553B",
           "#00cc96",
           "#ab63fa",
           "#FFA15A",
           "#19d3f3",
           "#FF6692",
           "#B6E880",
           "#FF97FF",
           "#FECB52"
          ],
          "font": {
           "color": "#2a3f5f"
          },
          "geo": {
           "bgcolor": "white",
           "lakecolor": "white",
           "landcolor": "#E5ECF6",
           "showlakes": true,
           "showland": true,
           "subunitcolor": "white"
          },
          "hoverlabel": {
           "align": "left"
          },
          "hovermode": "closest",
          "mapbox": {
           "style": "light"
          },
          "paper_bgcolor": "white",
          "plot_bgcolor": "#E5ECF6",
          "polar": {
           "angularaxis": {
            "gridcolor": "white",
            "linecolor": "white",
            "ticks": ""
           },
           "bgcolor": "#E5ECF6",
           "radialaxis": {
            "gridcolor": "white",
            "linecolor": "white",
            "ticks": ""
           }
          },
          "scene": {
           "xaxis": {
            "backgroundcolor": "#E5ECF6",
            "gridcolor": "white",
            "gridwidth": 2,
            "linecolor": "white",
            "showbackground": true,
            "ticks": "",
            "zerolinecolor": "white"
           },
           "yaxis": {
            "backgroundcolor": "#E5ECF6",
            "gridcolor": "white",
            "gridwidth": 2,
            "linecolor": "white",
            "showbackground": true,
            "ticks": "",
            "zerolinecolor": "white"
           },
           "zaxis": {
            "backgroundcolor": "#E5ECF6",
            "gridcolor": "white",
            "gridwidth": 2,
            "linecolor": "white",
            "showbackground": true,
            "ticks": "",
            "zerolinecolor": "white"
           }
          },
          "shapedefaults": {
           "line": {
            "color": "#2a3f5f"
           }
          },
          "ternary": {
           "aaxis": {
            "gridcolor": "white",
            "linecolor": "white",
            "ticks": ""
           },
           "baxis": {
            "gridcolor": "white",
            "linecolor": "white",
            "ticks": ""
           },
           "bgcolor": "#E5ECF6",
           "caxis": {
            "gridcolor": "white",
            "linecolor": "white",
            "ticks": ""
           }
          },
          "title": {
           "x": 0.05
          },
          "xaxis": {
           "automargin": true,
           "gridcolor": "white",
           "linecolor": "white",
           "ticks": "",
           "title": {
            "standoff": 15
           },
           "zerolinecolor": "white",
           "zerolinewidth": 2
          },
          "yaxis": {
           "automargin": true,
           "gridcolor": "white",
           "linecolor": "white",
           "ticks": "",
           "title": {
            "standoff": 15
           },
           "zerolinecolor": "white",
           "zerolinewidth": 2
          }
         }
        },
        "title": {
         "text": "Relazione tra log_Valori_Borsa e Valori Borsa"
        },
        "xaxis": {
         "anchor": "y",
         "domain": [
          0,
          0.45
         ]
        },
        "xaxis2": {
         "anchor": "y2",
         "domain": [
          0.55,
          1
         ]
        },
        "yaxis": {
         "anchor": "x",
         "domain": [
          0,
          1
         ],
         "title": {
          "text": "Log Valori Borsa"
         }
        },
        "yaxis2": {
         "anchor": "x2",
         "domain": [
          0,
          1
         ],
         "title": {
          "text": "Valori Borsa"
         }
        }
       }
      }
     },
     "metadata": {},
     "output_type": "display_data"
    }
   ],
   "source": [
    "from plotly.subplots import make_subplots\n",
    "import plotly.graph_objects as go\n",
    "\n",
    "for indice in df.columns[7:]:\n",
    "    # Creare una figura con subplots\n",
    "    fig = make_subplots(rows=1, cols=2,)\n",
    "    \n",
    "    for tick_symbol in df['Ticker_symbol'].unique():\n",
    "        # Filtrare il DataFrame per il Ticker_symbol corrente\n",
    "        df_subset = df[df['Ticker_symbol'] == tick_symbol]\n",
    "        \n",
    "        # Creare lo scatter plot con i valori di borsa originali\n",
    "        scatter1 = go.Scatter(x=df_subset[indice], y=df_subset[\"log_Valori_Borsa\"], mode='markers', name=f'Ticker {tick_symbol}')\n",
    "        \n",
    "        # Aggiungere la traccia al primo subplot\n",
    "        fig.add_trace(scatter1, row=1, col=1)\n",
    "        \n",
    "        # Creare lo scatter plot con i valori di borsa trasformati con il logaritmo\n",
    "        scatter2 = go.Scatter(x=df_subset[indice], y=df_subset[\"Valori_Borsa\"], mode='markers', name=f'Ticker {tick_symbol}')\n",
    "        \n",
    "        # Aggiungere la traccia al secondo subplot\n",
    "        fig.add_trace(scatter2, row=1, col=2)\n",
    "    \n",
    "    # Aggiornare la disposizione del layout\n",
    "    fig.update_layout(title_text=f'Relazione tra {indice} e Valori Borsa', showlegend=False)\n",
    "    \n",
    "    # Aggiungere le etichette degli assi y\n",
    "    fig.update_yaxes(title_text='Log Valori Borsa', row=1, col=1)\n",
    "    fig.update_yaxes(title_text='Valori Borsa', row=1, col=2)\n",
    "    \n",
    "    # Mostrare la figura\n",
    "    fig.show()\n",
    "\n",
    "    "
   ]
  },
  {
   "cell_type": "markdown",
   "metadata": {},
   "source": [
    "# prepara il df"
   ]
  },
  {
   "cell_type": "code",
   "execution_count": null,
   "metadata": {},
   "outputs": [],
   "source": [
    "# crea le variabili dummy\n",
    "df_dummies = pd.get_dummies(df[\"Ticker_symbol\"])\n",
    "print(df_dummies)\n",
    "# unsci le dummies al df\n",
    "df_con_dummies = df.join(df_dummies)\n",
    "df_con_dummies\n"
   ]
  },
  {
   "cell_type": "code",
   "execution_count": null,
   "metadata": {},
   "outputs": [],
   "source": [
    "df_con_dummies.columns"
   ]
  },
  {
   "cell_type": "markdown",
   "metadata": {},
   "source": [
    "Construct the regression equation. Note that we are leaving out one dummy variable so as to avoid perfect Multicollinearity between the 7 dummy variables. la dummy omessa è BAN \n",
    "#RIVEDI"
   ]
  },
  {
   "cell_type": "markdown",
   "metadata": {},
   "source": [
    "### definisci le variabili da usare nel modello"
   ]
  },
  {
   "cell_type": "code",
   "execution_count": null,
   "metadata": {},
   "outputs": [],
   "source": [
    "# definisce le var dipendenti e indipendenti\n",
    "y_var_name = 'Valori_Borsa'\n",
    "x_var_names =  [\n",
    "    'Anni',\n",
    "    'Indice_corrente', \n",
    "    'Indice_di_liquidità',\n",
    "    'Rotaz_cap_investito', \n",
    "    'Rotaz_cap_cir_lordo',\n",
    "    'Redditività_del_totale_attivo',\n",
    "    'Redditività_di_tutto_il_capitale_investito',\n",
    "    'Redditività_delle_vendite', \n",
    "    'Redditività_del_capitale_proprio',\n",
    "    'Indice_di_copertura_delle_immob', \n",
    "    'Costo_denaro_a_prestito',\n",
    "    'Oneri_finanz_su_fatt', \n",
    "    'Grado_di_copertura_degli_interessi_passivi',\n",
    "    'Debiti_v_banche_su_fatt', \n",
    "    'Debt_Equity_ratio'\n",
    "    ]\n",
    "\n",
    "unit_names = [\n",
    "    'MARR', \n",
    "    'PIA', \n",
    "    'BRE', \n",
    "    'DAN', \n",
    "    'BC', \n",
    "    'CLI', \n",
    "    'ELC', \n",
    "    'GPI', \n",
    "    'SRI',\n",
    "    'ALA', \n",
    "    'ICF', \n",
    "    'ENV', \n",
    "    'MASI', \n",
    "    'SVS', \n",
    "    'STAR7', \n",
    "    'SCK', \n",
    "    'MARP', \n",
    "    'ITD',\n",
    "    'VIM', \n",
    "    'MDC', \n",
    "    'ILP', \n",
    "    'CFL', \n",
    "    'FCM', \n",
    "    'FVI', \n",
    "    'PLT', \n",
    "    'LDB', \n",
    "    'FOS',\n",
    "    'BAN'\n",
    "    ]\n",
    "\n",
    "#only_value = [x for x in unit_names if x not in tickers_non_scaricati]\n",
    "#unit_names = only_value\n"
   ]
  },
  {
   "cell_type": "markdown",
   "metadata": {},
   "source": [
    "### crea il modello"
   ]
  },
  {
   "cell_type": "code",
   "execution_count": null,
   "metadata": {},
   "outputs": [],
   "source": [
    "lsdv_expr = y_var_name + ' ~ '\n",
    "i = 0\n",
    "for x_var_name in x_var_names:\n",
    "    if i > 0:\n",
    "        lsdv_expr = lsdv_expr + ' + ' + x_var_name\n",
    "    else:\n",
    "        lsdv_expr = lsdv_expr + x_var_name\n",
    "    i = i + 1\n",
    "for dummy_name in unit_names[:-1]:\n",
    "    lsdv_expr = lsdv_expr + ' + ' + dummy_name\n",
    " \n",
    "print('Regression expression for OLS with dummies=' + lsdv_expr)"
   ]
  },
  {
   "cell_type": "code",
   "execution_count": null,
   "metadata": {},
   "outputs": [],
   "source": [
    "lsdv_model = smf.ols(formula=lsdv_expr, data=df_con_dummies)\n",
    "lsdv_model_results = lsdv_model.fit()\n",
    "print(lsdv_model_results.summary())"
   ]
  },
  {
   "cell_type": "code",
   "execution_count": null,
   "metadata": {},
   "outputs": [],
   "source": [
    "robust_results = lsdv_model_results.get_robustcov_results(cov_type='HAC', maxlags=2, groups=df['ID'], time=df['Anni'])\n",
    "\n",
    "print(robust_results.summary())"
   ]
  },
  {
   "cell_type": "markdown",
   "metadata": {},
   "source": [
    "### errori"
   ]
  },
  {
   "cell_type": "code",
   "execution_count": null,
   "metadata": {},
   "outputs": [],
   "source": [
    "errors = []"
   ]
  },
  {
   "cell_type": "code",
   "execution_count": null,
   "metadata": {},
   "outputs": [],
   "source": [
    "# Ottieni le previsioni per tutte le righe nel dataframe\n",
    "predictions = lsdv_model_results.predict()\n",
    "\n",
    "# trasform predictions to the original scale and the share values\n",
    "predictions = np.e**predictions\n",
    "val_borsa = (np.e**df['Valori_Borsa']).dropna()\n",
    "#val_borsa = df['Valori_Borsa'].dropna()\n",
    "\n",
    "rmse = np.sqrt(mean_squared_error(val_borsa, predictions))\n",
    "mae = mean_absolute_error(val_borsa, predictions)\n",
    "rsquared = lsdv_model_results.rsquared\n",
    "\n",
    "# Aggiungi i dati alla lista\n",
    "errors.append({\n",
    "    'Formula': 'log ' + lsdv_expr,\n",
    "    'RMSE': rmse,\n",
    "    'MAE': mae,\n",
    "    'R-Squared': rsquared,\n",
    "})\n"
   ]
  },
  {
   "cell_type": "code",
   "execution_count": null,
   "metadata": {},
   "outputs": [],
   "source": [
    "pd.set_option('display.max_colwidth', 2500)\n",
    "errors_df = pd.DataFrame(errors)\n",
    "\n",
    "err = pd.read_csv(\"./data/errori.csv\")\n",
    "err"
   ]
  },
  {
   "cell_type": "markdown",
   "metadata": {},
   "source": [
    "### residui"
   ]
  },
  {
   "cell_type": "code",
   "execution_count": null,
   "metadata": {},
   "outputs": [],
   "source": [
    "previsioni = df[['ID','Ticker_symbol','Anni', 'Valori_Borsa']].dropna()\n",
    "previsioni['Valori_Borsa'] = val_borsa\n",
    "previsioni['predictions'] = predictions\n",
    "#previsioni[previsioni['Ticker_symbol']=='LDB']\n",
    "previsioni['residui'] = previsioni['Valori_Borsa'] - previsioni['predictions'] \n",
    "previsioni"
   ]
  },
  {
   "cell_type": "code",
   "execution_count": null,
   "metadata": {},
   "outputs": [],
   "source": [
    "previsioni = df[['ID','Ticker_symbol','Anni', 'Valori_Borsa']].dropna()\n",
    "previsioni['predictions'] = robust_results.predict()\n",
    "previsioni['residui'] = previsioni['Valori_Borsa'] - previsioni['predictions'] \n",
    "previsioni"
   ]
  },
  {
   "cell_type": "code",
   "execution_count": null,
   "metadata": {},
   "outputs": [],
   "source": [
    "import pandas as pd\n",
    "import matplotlib.pyplot as plt\n",
    "from statsmodels.graphics.tsaplots import plot_acf\n",
    "from scipy import stats\n",
    "\n",
    "# Calcola le correlazioni a vari lag\n",
    "lag_max = 6\n",
    "correlations = []\n",
    "\n",
    "for lag in range(1, lag_max+1):\n",
    "    correlation = previsioni['residui'].autocorr(lag=lag)\n",
    "    correlations.append(correlation)\n",
    "\n",
    "# Calcola le bande di significatività\n",
    "alpha = 0.05\n",
    "nobs = len(previsioni)\n",
    "z_critical = stats.norm.ppf(1 - alpha/2) / (nobs**0.5)\n",
    "lower_band = [-z_critical] * lag_max\n",
    "upper_band = [z_critical] * lag_max\n",
    "\n",
    "# Crea un grafico ACF con bande di significatività\n",
    "fig, ax = plt.subplots(figsize=(10, 5))\n",
    "\n",
    "plot_acf(previsioni['residui'], lags=lag_max, ax=ax)\n",
    "ax.axhline(y=0, color='gray', linestyle='--', linewidth=0.8)  # Aggiunge una linea orizzontale a 0\n",
    "\n",
    "# Aggiunge bande di significatività\n",
    "ax.fill_between(range(1, lag_max+1), lower_band, upper_band, color='gray', alpha=0.2)\n",
    "\n",
    "plt.title('Autocorrelation Function (ACF) dei Residui')\n",
    "plt.show()\n"
   ]
  },
  {
   "cell_type": "code",
   "execution_count": null,
   "metadata": {},
   "outputs": [],
   "source": [
    "import math\n",
    "corrs = []\n",
    "for i in range(0,10):\n",
    "    \n",
    "    previsioni['res_lag' + str(i)] = previsioni.groupby(['ID'])['residui'].shift(i)\n",
    "\n",
    "    correlazione = previsioni['residui'].corr(previsioni['res_lag' + str(i)])\n",
    "    err_std = 1.96*(1/math.sqrt(previsioni['res_lag' + str(i)].count()))\n",
    "    corrs.append((correlazione - err_std ,\n",
    "    correlazione ,\n",
    "    correlazione + err_std))\n",
    "\n"
   ]
  },
  {
   "cell_type": "code",
   "execution_count": null,
   "metadata": {},
   "outputs": [],
   "source": [
    "# Estrai i valori delle correlazioni e i range\n",
    "correlazioni = [x[1] for x in corrs]\n",
    "minimi = [x[0] for x in corrs]\n",
    "massimi = [x[2] for x in corrs]\n",
    "\n",
    "# Creare un DataFrame\n",
    "corrs = pd.DataFrame({'Lag': range(1,len(correlazioni)+1), 'Correlazione': correlazioni, 'Minimo': minimi, 'Massimo': massimi})\n",
    "# riportiamo solo 6 lag , oltre ha troppa incertezza\n",
    "corrs = corrs[:6]\n",
    "corrs"
   ]
  },
  {
   "cell_type": "code",
   "execution_count": null,
   "metadata": {},
   "outputs": [],
   "source": [
    "import plotly.graph_objects as go\n",
    "\n",
    "# Creare il grafico\n",
    "fig = go.Figure()\n",
    "\n",
    "# Aggiungere i valori di correlazione\n",
    "fig.add_trace(go.Bar(x=corrs['Lag'], y=corrs['Correlazione'], name='Correlazione'))\n",
    "\n",
    "# Aggiungere le linee per i range dell'intervallo di confidenza\n",
    "fig.add_trace(go.Scatter(x=corrs['Lag'], y=corrs['Minimo'], mode='lines', name='Minimo'))\n",
    "fig.add_trace(go.Scatter(x=corrs['Lag'], y=corrs['Massimo'], mode='lines', name='Massimo'))\n",
    "\n",
    "# Aggiungere layout\n",
    "fig.update_layout(title='Funzione di Autocorrelazione',\n",
    "                  xaxis_title='Lag',\n",
    "                  yaxis_title='Correlazione',\n",
    "                  xaxis=dict(tickmode='array', tickvals=corrs['Lag'], ticktext=corrs['Lag']))\n",
    "\n",
    "# Mostrare il grafico\n",
    "fig.show()\n"
   ]
  },
  {
   "cell_type": "markdown",
   "metadata": {},
   "source": [
    "crea grafico delle previsioni e residui per ogni azienda"
   ]
  },
  {
   "cell_type": "code",
   "execution_count": null,
   "metadata": {},
   "outputs": [],
   "source": [
    "\n",
    "fig = px.line(previsioni, x=\"Anni\", y=\"residui\", color=\"Ticker_symbol\",\n",
    "              title=\"Relazione tra Anni e Residui del modello\",\n",
    "              labels={'residui': 'Residui', 'Anni': 'Anno'},\n",
    "              height=750)\n",
    "\n",
    "# Mostra il grafico\n",
    "fig.show()"
   ]
  },
  {
   "cell_type": "markdown",
   "metadata": {},
   "source": [
    "controllo omoschedasticità, se sono omogenei lungo x rispetto a y"
   ]
  },
  {
   "cell_type": "code",
   "execution_count": null,
   "metadata": {},
   "outputs": [],
   "source": [
    "# Crea un grafico a dispersione dei residui rispetto alle previsioni\n",
    "plt.scatter(previsioni['predictions'], previsioni['residui'])\n",
    "plt.xlabel('Previsioni')\n",
    "plt.ylabel('Residui')\n",
    "plt.title('Grafico dei Residui vs. Valori previsti')\n",
    "plt.show()"
   ]
  },
  {
   "cell_type": "markdown",
   "metadata": {},
   "source": [
    "acf dei residui: controllo autocorrelazione"
   ]
  },
  {
   "cell_type": "code",
   "execution_count": null,
   "metadata": {},
   "outputs": [],
   "source": [
    "\n",
    "from statsmodels.graphics.tsaplots import plot_acf\n",
    "\n",
    "acf_residui = sm.tsa.acf(previsioni['residui'], nlags=13)\n",
    "plot_acf(acf_residui, title=f'ACF residui')\n"
   ]
  },
  {
   "cell_type": "markdown",
   "metadata": {},
   "source": [
    "controllo normalità"
   ]
  },
  {
   "cell_type": "code",
   "execution_count": null,
   "metadata": {},
   "outputs": [],
   "source": [
    "from scipy.stats import shapiro\n",
    "\n",
    "# Esegue il test di Shapiro-Wilk\n",
    "statistica, p_value = shapiro(previsioni['residui'])\n",
    "\n",
    "# Stampa i risultati del test\n",
    "print(f'Statistica del test di Shapiro-Wilk: {statistica}')\n",
    "print(f'p-value del test di Shapiro-Wilk: {p_value}')\n",
    "\n",
    "# Confronta il p-value con un livello di significatività (e.g., 0.05)\n",
    "if p_value > 0.05:\n",
    "    print(\"Non abbiamo sufficienti prove per rifiutare l'ipotesi che i residui seguano una distribuzione normale.\")\n",
    "else:\n",
    "    print(\"Rifiutiamo l'ipotesi che i residui seguano una distribuzione normale.\")\n"
   ]
  },
  {
   "cell_type": "code",
   "execution_count": null,
   "metadata": {},
   "outputs": [],
   "source": [
    "# Crea il QQ-plot\n",
    "sm.qqplot(previsioni['residui'], line='s')  # 's' indica una linea di riferimento per una distribuzione normale\n",
    "plt.title('QQ-Plot dei Residui')\n",
    "plt.show()"
   ]
  },
  {
   "cell_type": "markdown",
   "metadata": {},
   "source": [
    "### covarianza tra errori e indici\n",
    "#### quarta condizione"
   ]
  },
  {
   "cell_type": "code",
   "execution_count": null,
   "metadata": {},
   "outputs": [],
   "source": [
    "# Crea una griglia 5x3 di subplot\n",
    "fig = make_subplots(rows=5, cols=3)\n",
    "\n",
    "# Cicla attraverso le colonne a partire dalla 7a\n",
    "for idx, col_name in enumerate(df.columns[7:]):\n",
    "    # Calcola la riga e la colonna corrispondenti nella griglia 5x3\n",
    "    row = idx // 3 + 1\n",
    "    col = idx % 3 + 1\n",
    "\n",
    "    # Aggiungi un grafico a questa posizione\n",
    "    scatter = px.scatter(df.dropna(), y=previsioni['residui'], x=col_name)\n",
    "    fig.add_trace(scatter.data[0], row=row, col=col)\n",
    "\n",
    "    # Aggiungi titoli agli assi x e y\n",
    "    fig.update_xaxes(title_text=col_name, row=row, col=col)\n",
    "    fig.update_yaxes(title_text='Errori', row=row, col=col)\n",
    "\n",
    "\n",
    "# Aggiungi un layout per personalizzare il titolo e le dimensioni\n",
    "fig.update_layout(\n",
    "    title='residui vs indici',\n",
    "    height=1000,  # Imposta l'altezza della griglia\n",
    "    width=1200    # Imposta la larghezza della griglia\n",
    ")\n",
    "\n",
    "# Visualizza la griglia\n",
    "fig.show()\n"
   ]
  },
  {
   "cell_type": "code",
   "execution_count": 66,
   "metadata": {},
   "outputs": [
    {
     "name": "stderr",
     "output_type": "stream",
     "text": [
      "/home/leonardo/Documenti/UNIFI/LAUREA/MATERIALE/hive/env_tesi/lib/python3.10/site-packages/statsmodels/stats/outliers_influence.py:848: RuntimeWarning:\n",
      "\n",
      "invalid value encountered in sqrt\n",
      "\n"
     ]
    },
    {
     "name": "stdout",
     "output_type": "stream",
     "text": [
      "[1.52228547e-02 3.60904704e-04 2.05810244e-04 6.28025123e-04\n",
      " 9.43801404e-04 1.45247759e-03 1.26068551e-04 6.54297938e-04\n",
      " 7.07633163e-05 1.49077406e-03 3.44328497e-03 5.69985755e-04\n",
      " 3.32571486e-04 5.86414495e-08 2.06547878e-03 1.16846298e-03\n",
      " 1.51140682e-03 1.46536661e-04 4.96367553e-03 7.98731507e-03\n",
      " 9.91090546e-05 8.68952612e-04 1.34702738e-03 1.00692622e-04\n",
      " 1.13590813e-03 2.49108426e-03 4.98133290e-03 6.73525846e-05\n",
      " 2.82681369e-03 9.97943669e-03 3.83950808e-04 1.37296185e-03\n",
      " 1.81767506e-02 2.03833430e-03 3.51703795e-03 5.63139340e-06\n",
      " 1.93126085e-03 2.15423046e-03 2.12146676e-03 2.06323356e-02\n",
      " 9.05730546e-03 1.25253968e-02 6.44910102e-03 7.69063018e-05\n",
      " 7.70885015e-04 2.80752944e-06 9.83991326e-04 9.35889865e-03\n",
      " 3.59692972e-03 4.16936993e-05 1.28050190e-04 7.60242058e-03\n",
      " 1.70238324e-03 1.38702940e-03 7.27461395e-04 2.12047776e-03\n",
      " 4.39305971e-06 1.80388184e-03 8.72874013e-06 3.94667708e-03\n",
      " 7.39771896e-03 9.89682297e-07 4.28411079e-03 2.30981125e-03\n",
      " 6.77190394e-03 7.30837131e-03 8.93833267e-05 5.16817255e-04\n",
      " 3.24266459e-04 5.93782943e-05 4.33762106e-02 7.45618676e-03\n",
      " 3.64171756e-03 8.69385966e-03 2.73278027e-03 7.63251205e-04\n",
      " 3.94978133e-04 2.36902751e-02 4.47999158e-02 1.12813047e-02\n",
      " 2.11892308e-03 3.97389229e-06 2.09381962e-06 1.40851432e-02\n",
      " 4.15246200e-04 1.81768149e-03 4.66175844e-03 1.38797028e-02\n",
      " 9.88283581e-05 9.88283582e-05 1.56377767e-03 3.44518658e-03\n",
      " 4.38653696e-04 1.54730478e-03 6.37559990e-05 2.53295911e-02\n",
      " 1.37537615e-03 3.04475858e-03 1.40754284e-04 3.62014704e-04\n",
      " 6.36760699e-04 3.43359967e-04 4.51277247e-05 6.66725365e-04\n",
      " 9.16732736e-03 6.82903837e-03 1.09030358e-03 6.61853276e-03\n",
      " 1.36460730e-02 2.72898050e-03 4.14184025e-04            nan\n",
      " 3.71988294e-03 3.71988294e-03 2.71040431e-02 1.37884836e-01\n",
      " 5.36525213e-02 2.72502006e-02 1.55744769e-01 1.48766921e-03\n",
      " 3.69540435e-04 8.05866601e-03 1.05109128e-02 1.02708974e-01\n",
      " 2.78741602e-02 1.96056488e-02 2.48136116e-02 1.17363836e-01\n",
      " 3.35437152e-02 2.79269099e-03 3.60401775e-03 1.59456998e-02\n",
      " 2.30843903e-02 6.27859383e-02 6.27859383e-02 1.32875783e-03\n",
      " 5.20532060e-03 1.52630926e-02 2.88903710e-04 1.77062100e-03\n",
      " 1.77062100e-03 3.88061227e-03 1.08022583e-03 2.19323102e-04\n",
      " 5.76811710e-03 1.26177346e-02 1.23784570e-02 3.29382888e-02\n",
      " 1.77002270e-08 2.70294758e-02 6.17432268e-03 6.17432267e-03\n",
      " 7.82143093e-04 5.17470168e-03 9.22392176e-03 1.96723354e-03\n",
      " 3.66127708e-02 1.74695941e-02 1.45671798e-02 2.57243648e-04\n",
      " 1.54804271e-04 1.58769320e-03 2.05051299e-03 1.51347922e-04\n",
      " 1.67339983e-02 2.68274625e-03]\n"
     ]
    },
    {
     "data": {
      "image/png": "[encoded data removed]",
      "text/plain": [
       "<Figure size 1000x600 with 1 Axes>"
      ]
     },
     "metadata": {},
     "output_type": "display_data"
    }
   ],
   "source": [
    "\n",
    "\n",
    "# Calcolare l'influenza e la distanza di Cook\n",
    "influence = robust_results.get_influence()\n",
    "cooks_distance = influence.cooks_distance\n",
    "\n",
    "# Stampa i valori di distanza di Cook\n",
    "print(cooks_distance[0])\n",
    "# Creare un array con gli indici delle osservazioni\n",
    "indices = range(len(cooks_distance[0]))\n",
    "\n",
    "# Creare il grafico a dispersione\n",
    "plt.figure(figsize=(10, 6))\n",
    "plt.scatter(indices, cooks_distance[0], c='blue', label='Distanza di Cook')\n",
    "\n",
    "# Aggiungere etichette e titoli\n",
    "plt.xlabel('Indice Osservazione')\n",
    "plt.ylabel('Distanza di Cook')\n",
    "plt.title('Distanza di Cook per Osservazione')\n",
    "\n",
    "# Mostrare il grafico\n",
    "plt.legend()\n",
    "plt.show()\n",
    "\n",
    "\n"
   ]
  },
  {
   "cell_type": "code",
   "execution_count": 76,
   "metadata": {},
   "outputs": [
    {
     "data": {
      "text/html": [
       "<div>\n",
       "<style scoped>\n",
       "    .dataframe tbody tr th:only-of-type {\n",
       "        vertical-align: middle;\n",
       "    }\n",
       "\n",
       "    .dataframe tbody tr th {\n",
       "        vertical-align: top;\n",
       "    }\n",
       "\n",
       "    .dataframe thead th {\n",
       "        text-align: right;\n",
       "    }\n",
       "</style>\n",
       "<table border=\"1\" class=\"dataframe\">\n",
       "  <thead>\n",
       "    <tr style=\"text-align: right;\">\n",
       "      <th></th>\n",
       "      <th>ID</th>\n",
       "      <th>Ticker_symbol</th>\n",
       "      <th>Anni</th>\n",
       "      <th>Valori_Borsa</th>\n",
       "      <th>predictions</th>\n",
       "      <th>residui</th>\n",
       "      <th>res_lag0</th>\n",
       "      <th>res_lag1</th>\n",
       "      <th>res_lag2</th>\n",
       "      <th>res_lag3</th>\n",
       "      <th>res_lag4</th>\n",
       "      <th>res_lag5</th>\n",
       "      <th>res_lag6</th>\n",
       "      <th>res_lag7</th>\n",
       "      <th>res_lag8</th>\n",
       "      <th>res_lag9</th>\n",
       "      <th>cook</th>\n",
       "    </tr>\n",
       "  </thead>\n",
       "  <tbody>\n",
       "    <tr>\n",
       "      <th>0</th>\n",
       "      <td>1.0</td>\n",
       "      <td>MARR</td>\n",
       "      <td>2022</td>\n",
       "      <td>2.509599</td>\n",
       "      <td>2.963589</td>\n",
       "      <td>-0.453990</td>\n",
       "      <td>-0.453990</td>\n",
       "      <td>NaN</td>\n",
       "      <td>NaN</td>\n",
       "      <td>NaN</td>\n",
       "      <td>NaN</td>\n",
       "      <td>NaN</td>\n",
       "      <td>NaN</td>\n",
       "      <td>NaN</td>\n",
       "      <td>NaN</td>\n",
       "      <td>NaN</td>\n",
       "      <td>0.015223</td>\n",
       "    </tr>\n",
       "    <tr>\n",
       "      <th>1</th>\n",
       "      <td>1.0</td>\n",
       "      <td>MARR</td>\n",
       "      <td>2021</td>\n",
       "      <td>2.934920</td>\n",
       "      <td>3.009185</td>\n",
       "      <td>-0.074265</td>\n",
       "      <td>-0.074265</td>\n",
       "      <td>-0.453990</td>\n",
       "      <td>NaN</td>\n",
       "      <td>NaN</td>\n",
       "      <td>NaN</td>\n",
       "      <td>NaN</td>\n",
       "      <td>NaN</td>\n",
       "      <td>NaN</td>\n",
       "      <td>NaN</td>\n",
       "      <td>NaN</td>\n",
       "      <td>0.000361</td>\n",
       "    </tr>\n",
       "    <tr>\n",
       "      <th>2</th>\n",
       "      <td>1.0</td>\n",
       "      <td>MARR</td>\n",
       "      <td>2020</td>\n",
       "      <td>2.879198</td>\n",
       "      <td>2.838172</td>\n",
       "      <td>0.041026</td>\n",
       "      <td>0.041026</td>\n",
       "      <td>-0.074265</td>\n",
       "      <td>-0.453990</td>\n",
       "      <td>NaN</td>\n",
       "      <td>NaN</td>\n",
       "      <td>NaN</td>\n",
       "      <td>NaN</td>\n",
       "      <td>NaN</td>\n",
       "      <td>NaN</td>\n",
       "      <td>NaN</td>\n",
       "      <td>0.000206</td>\n",
       "    </tr>\n",
       "    <tr>\n",
       "      <th>3</th>\n",
       "      <td>1.0</td>\n",
       "      <td>MARR</td>\n",
       "      <td>2019</td>\n",
       "      <td>3.054001</td>\n",
       "      <td>2.920100</td>\n",
       "      <td>0.133902</td>\n",
       "      <td>0.133902</td>\n",
       "      <td>0.041026</td>\n",
       "      <td>-0.074265</td>\n",
       "      <td>-0.453990</td>\n",
       "      <td>NaN</td>\n",
       "      <td>NaN</td>\n",
       "      <td>NaN</td>\n",
       "      <td>NaN</td>\n",
       "      <td>NaN</td>\n",
       "      <td>NaN</td>\n",
       "      <td>0.000628</td>\n",
       "    </tr>\n",
       "    <tr>\n",
       "      <th>4</th>\n",
       "      <td>1.0</td>\n",
       "      <td>MARR</td>\n",
       "      <td>2018</td>\n",
       "      <td>3.068983</td>\n",
       "      <td>2.901062</td>\n",
       "      <td>0.167921</td>\n",
       "      <td>0.167921</td>\n",
       "      <td>0.133902</td>\n",
       "      <td>0.041026</td>\n",
       "      <td>-0.074265</td>\n",
       "      <td>-0.453990</td>\n",
       "      <td>NaN</td>\n",
       "      <td>NaN</td>\n",
       "      <td>NaN</td>\n",
       "      <td>NaN</td>\n",
       "      <td>NaN</td>\n",
       "      <td>0.000944</td>\n",
       "    </tr>\n",
       "    <tr>\n",
       "      <th>...</th>\n",
       "      <td>...</td>\n",
       "      <td>...</td>\n",
       "      <td>...</td>\n",
       "      <td>...</td>\n",
       "      <td>...</td>\n",
       "      <td>...</td>\n",
       "      <td>...</td>\n",
       "      <td>...</td>\n",
       "      <td>...</td>\n",
       "      <td>...</td>\n",
       "      <td>...</td>\n",
       "      <td>...</td>\n",
       "      <td>...</td>\n",
       "      <td>...</td>\n",
       "      <td>...</td>\n",
       "      <td>...</td>\n",
       "      <td>...</td>\n",
       "    </tr>\n",
       "    <tr>\n",
       "      <th>275</th>\n",
       "      <td>28.0</td>\n",
       "      <td>BAN</td>\n",
       "      <td>2017</td>\n",
       "      <td>1.324419</td>\n",
       "      <td>1.469303</td>\n",
       "      <td>-0.144884</td>\n",
       "      <td>-0.144884</td>\n",
       "      <td>-0.056466</td>\n",
       "      <td>0.078286</td>\n",
       "      <td>0.308739</td>\n",
       "      <td>0.257327</td>\n",
       "      <td>0.424789</td>\n",
       "      <td>NaN</td>\n",
       "      <td>NaN</td>\n",
       "      <td>NaN</td>\n",
       "      <td>NaN</td>\n",
       "      <td>0.001588</td>\n",
       "    </tr>\n",
       "    <tr>\n",
       "      <th>276</th>\n",
       "      <td>28.0</td>\n",
       "      <td>BAN</td>\n",
       "      <td>2016</td>\n",
       "      <td>1.200567</td>\n",
       "      <td>1.412986</td>\n",
       "      <td>-0.212419</td>\n",
       "      <td>-0.212419</td>\n",
       "      <td>-0.144884</td>\n",
       "      <td>-0.056466</td>\n",
       "      <td>0.078286</td>\n",
       "      <td>0.308739</td>\n",
       "      <td>0.257327</td>\n",
       "      <td>0.424789</td>\n",
       "      <td>NaN</td>\n",
       "      <td>NaN</td>\n",
       "      <td>NaN</td>\n",
       "      <td>0.002051</td>\n",
       "    </tr>\n",
       "    <tr>\n",
       "      <th>277</th>\n",
       "      <td>28.0</td>\n",
       "      <td>BAN</td>\n",
       "      <td>2015</td>\n",
       "      <td>1.468335</td>\n",
       "      <td>1.514338</td>\n",
       "      <td>-0.046003</td>\n",
       "      <td>-0.046003</td>\n",
       "      <td>-0.212419</td>\n",
       "      <td>-0.144884</td>\n",
       "      <td>-0.056466</td>\n",
       "      <td>0.078286</td>\n",
       "      <td>0.308739</td>\n",
       "      <td>0.257327</td>\n",
       "      <td>0.424789</td>\n",
       "      <td>NaN</td>\n",
       "      <td>NaN</td>\n",
       "      <td>0.000151</td>\n",
       "    </tr>\n",
       "    <tr>\n",
       "      <th>278</th>\n",
       "      <td>28.0</td>\n",
       "      <td>BAN</td>\n",
       "      <td>2014</td>\n",
       "      <td>0.816249</td>\n",
       "      <td>1.265864</td>\n",
       "      <td>-0.449615</td>\n",
       "      <td>-0.449615</td>\n",
       "      <td>-0.046003</td>\n",
       "      <td>-0.212419</td>\n",
       "      <td>-0.144884</td>\n",
       "      <td>-0.056466</td>\n",
       "      <td>0.078286</td>\n",
       "      <td>0.308739</td>\n",
       "      <td>0.257327</td>\n",
       "      <td>0.424789</td>\n",
       "      <td>NaN</td>\n",
       "      <td>0.016734</td>\n",
       "    </tr>\n",
       "    <tr>\n",
       "      <th>279</th>\n",
       "      <td>28.0</td>\n",
       "      <td>BAN</td>\n",
       "      <td>2013</td>\n",
       "      <td>0.886244</td>\n",
       "      <td>1.045997</td>\n",
       "      <td>-0.159753</td>\n",
       "      <td>-0.159753</td>\n",
       "      <td>-0.449615</td>\n",
       "      <td>-0.046003</td>\n",
       "      <td>-0.212419</td>\n",
       "      <td>-0.144884</td>\n",
       "      <td>-0.056466</td>\n",
       "      <td>0.078286</td>\n",
       "      <td>0.308739</td>\n",
       "      <td>0.257327</td>\n",
       "      <td>0.424789</td>\n",
       "      <td>0.002683</td>\n",
       "    </tr>\n",
       "  </tbody>\n",
       "</table>\n",
       "<p>166 rows × 17 columns</p>\n",
       "</div>"
      ],
      "text/plain": [
       "       ID Ticker_symbol  Anni  Valori_Borsa  predictions   residui  res_lag0  \\\n",
       "0     1.0          MARR  2022      2.509599     2.963589 -0.453990 -0.453990   \n",
       "1     1.0          MARR  2021      2.934920     3.009185 -0.074265 -0.074265   \n",
       "2     1.0          MARR  2020      2.879198     2.838172  0.041026  0.041026   \n",
       "3     1.0          MARR  2019      3.054001     2.920100  0.133902  0.133902   \n",
       "4     1.0          MARR  2018      3.068983     2.901062  0.167921  0.167921   \n",
       "..    ...           ...   ...           ...          ...       ...       ...   \n",
       "275  28.0           BAN  2017      1.324419     1.469303 -0.144884 -0.144884   \n",
       "276  28.0           BAN  2016      1.200567     1.412986 -0.212419 -0.212419   \n",
       "277  28.0           BAN  2015      1.468335     1.514338 -0.046003 -0.046003   \n",
       "278  28.0           BAN  2014      0.816249     1.265864 -0.449615 -0.449615   \n",
       "279  28.0           BAN  2013      0.886244     1.045997 -0.159753 -0.159753   \n",
       "\n",
       "     res_lag1  res_lag2  res_lag3  res_lag4  res_lag5  res_lag6  res_lag7  \\\n",
       "0         NaN       NaN       NaN       NaN       NaN       NaN       NaN   \n",
       "1   -0.453990       NaN       NaN       NaN       NaN       NaN       NaN   \n",
       "2   -0.074265 -0.453990       NaN       NaN       NaN       NaN       NaN   \n",
       "3    0.041026 -0.074265 -0.453990       NaN       NaN       NaN       NaN   \n",
       "4    0.133902  0.041026 -0.074265 -0.453990       NaN       NaN       NaN   \n",
       "..        ...       ...       ...       ...       ...       ...       ...   \n",
       "275 -0.056466  0.078286  0.308739  0.257327  0.424789       NaN       NaN   \n",
       "276 -0.144884 -0.056466  0.078286  0.308739  0.257327  0.424789       NaN   \n",
       "277 -0.212419 -0.144884 -0.056466  0.078286  0.308739  0.257327  0.424789   \n",
       "278 -0.046003 -0.212419 -0.144884 -0.056466  0.078286  0.308739  0.257327   \n",
       "279 -0.449615 -0.046003 -0.212419 -0.144884 -0.056466  0.078286  0.308739   \n",
       "\n",
       "     res_lag8  res_lag9      cook  \n",
       "0         NaN       NaN  0.015223  \n",
       "1         NaN       NaN  0.000361  \n",
       "2         NaN       NaN  0.000206  \n",
       "3         NaN       NaN  0.000628  \n",
       "4         NaN       NaN  0.000944  \n",
       "..        ...       ...       ...  \n",
       "275       NaN       NaN  0.001588  \n",
       "276       NaN       NaN  0.002051  \n",
       "277       NaN       NaN  0.000151  \n",
       "278  0.424789       NaN  0.016734  \n",
       "279  0.257327  0.424789  0.002683  \n",
       "\n",
       "[166 rows x 17 columns]"
      ]
     },
     "execution_count": 76,
     "metadata": {},
     "output_type": "execute_result"
    }
   ],
   "source": [
    "previsioni['cook'] = cooks_distance[0]\n",
    "previsioni"
   ]
  },
  {
   "cell_type": "code",
   "execution_count": 82,
   "metadata": {},
   "outputs": [
    {
     "data": {
      "application/vnd.plotly.v1+json": {
       "config": {
        "plotlyServerURL": "https://plot.ly"
       },
       "data": [
        {
         "hovertemplate": "Ticker_symbol=MARR<br>Indice Previsione=%{x}<br>Distanza di Cook=%{y}<extra></extra>",
         "legendgroup": "MARR",
         "marker": {
          "color": "#636EFA",
          "symbol": "circle"
         },
         "mode": "markers",
         "name": "MARR",
         "orientation": "v",
         "showlegend": true,
         "type": "scatter",
         "x": [
          0,
          1,
          2,
          3,
          4,
          5,
          6,
          7,
          8,
          9
         ],
         "xaxis": "x",
         "y": [
          0.015222854688466105,
          0.00036090470425329414,
          0.00020581024354427368,
          0.0006280251230014627,
          0.0009438014039087685,
          0.0014524775912688813,
          0.00012606855115332948,
          0.000654297937984422,
          0.00007076331630710002,
          0.001490774059453439
         ],
         "yaxis": "y"
        },
        {
         "hovertemplate": "Ticker_symbol=PIA<br>Indice Previsione=%{x}<br>Distanza di Cook=%{y}<extra></extra>",
         "legendgroup": "PIA",
         "marker": {
          "color": "#EF553B",
          "symbol": "circle"
         },
         "mode": "markers",
         "name": "PIA",
         "orientation": "v",
         "showlegend": true,
         "type": "scatter",
         "x": [
          10,
          11,
          12,
          13,
          14,
          15,
          16,
          17,
          18,
          19
         ],
         "xaxis": "x",
         "y": [
          0.0034432849725406344,
          0.000569985755241443,
          0.0003325714857198899,
          5.864144950190601e-8,
          0.002065478784090056,
          0.0011684629836374947,
          0.0015114068169772659,
          0.0001465366610632834,
          0.004963675530356031,
          0.007987315067748154
         ],
         "yaxis": "y"
        },
        {
         "hovertemplate": "Ticker_symbol=BRE<br>Indice Previsione=%{x}<br>Distanza di Cook=%{y}<extra></extra>",
         "legendgroup": "BRE",
         "marker": {
          "color": "#00CC96",
          "symbol": "circle"
         },
         "mode": "markers",
         "name": "BRE",
         "orientation": "v",
         "showlegend": true,
         "type": "scatter",
         "x": [
          20,
          21,
          22,
          23,
          24,
          25,
          26,
          27,
          28,
          29
         ],
         "xaxis": "x",
         "y": [
          0.00009910905458930164,
          0.0008689526116913033,
          0.0013470273843606765,
          0.00010069262198566954,
          0.001135908133512701,
          0.0024910842640689123,
          0.004981332899875938,
          0.00006735258463233374,
          0.0028268136896237124,
          0.00997943669223756
         ],
         "yaxis": "y"
        },
        {
         "hovertemplate": "Ticker_symbol=DAN<br>Indice Previsione=%{x}<br>Distanza di Cook=%{y}<extra></extra>",
         "legendgroup": "DAN",
         "marker": {
          "color": "#AB63FA",
          "symbol": "circle"
         },
         "mode": "markers",
         "name": "DAN",
         "orientation": "v",
         "showlegend": true,
         "type": "scatter",
         "x": [
          30,
          31,
          32,
          33,
          34,
          35,
          36,
          37,
          38,
          39
         ],
         "xaxis": "x",
         "y": [
          0.0003839508083658173,
          0.0013729618512102236,
          0.018176750555793302,
          0.0020383342982805246,
          0.0035170379471954343,
          0.000005631393395198839,
          0.001931260846367546,
          0.0021542304597134856,
          0.0021214667591033494,
          0.02063233558283331
         ],
         "yaxis": "y"
        },
        {
         "hovertemplate": "Ticker_symbol=BC<br>Indice Previsione=%{x}<br>Distanza di Cook=%{y}<extra></extra>",
         "legendgroup": "BC",
         "marker": {
          "color": "#FFA15A",
          "symbol": "circle"
         },
         "mode": "markers",
         "name": "BC",
         "orientation": "v",
         "showlegend": true,
         "type": "scatter",
         "x": [
          40,
          41,
          42,
          43,
          44,
          45,
          46,
          47,
          48,
          49
         ],
         "xaxis": "x",
         "y": [
          0.009057305457024113,
          0.012525396799995486,
          0.006449101022246539,
          0.0000769063017664873,
          0.000770885014595852,
          0.0000028075294406479636,
          0.0009839913259417563,
          0.009358898645587465,
          0.0035969297150788815,
          0.000041693699341515384
         ],
         "yaxis": "y"
        },
        {
         "hovertemplate": "Ticker_symbol=CLI<br>Indice Previsione=%{x}<br>Distanza di Cook=%{y}<extra></extra>",
         "legendgroup": "CLI",
         "marker": {
          "color": "#19D3F3",
          "symbol": "circle"
         },
         "mode": "markers",
         "name": "CLI",
         "orientation": "v",
         "showlegend": true,
         "type": "scatter",
         "x": [
          50,
          51,
          52,
          53,
          54,
          55,
          56,
          57,
          58,
          59
         ],
         "xaxis": "x",
         "y": [
          0.00012805018993751867,
          0.007602420575722848,
          0.001702383244345663,
          0.0013870294025750197,
          0.000727461395459104,
          0.002120477756065958,
          0.0000043930597096667096,
          0.0018038818433978225,
          0.000008728740134024564,
          0.003946677076340708
         ],
         "yaxis": "y"
        },
        {
         "hovertemplate": "Ticker_symbol=ELC<br>Indice Previsione=%{x}<br>Distanza di Cook=%{y}<extra></extra>",
         "legendgroup": "ELC",
         "marker": {
          "color": "#FF6692",
          "symbol": "circle"
         },
         "mode": "markers",
         "name": "ELC",
         "orientation": "v",
         "showlegend": true,
         "type": "scatter",
         "x": [
          60,
          61,
          62,
          63,
          64,
          65,
          66,
          67,
          68,
          69
         ],
         "xaxis": "x",
         "y": [
          0.007397718963918696,
          9.896822972121513e-7,
          0.004284110788072284,
          0.0023098112470170515,
          0.006771903936990026,
          0.007308371313952454,
          0.00008938332669822854,
          0.0005168172551973696,
          0.0003242664587457864,
          0.000059378294314283556
         ],
         "yaxis": "y"
        },
        {
         "hovertemplate": "Ticker_symbol=GPI<br>Indice Previsione=%{x}<br>Distanza di Cook=%{y}<extra></extra>",
         "legendgroup": "GPI",
         "marker": {
          "color": "#B6E880",
          "symbol": "circle"
         },
         "mode": "markers",
         "name": "GPI",
         "orientation": "v",
         "showlegend": true,
         "type": "scatter",
         "x": [
          70,
          71,
          72,
          73,
          74,
          75,
          76,
          77
         ],
         "xaxis": "x",
         "y": [
          0.043376210609915075,
          0.007456186755388991,
          0.0036417175566789326,
          0.00869385966399311,
          0.002732780271986767,
          0.0007632512053645981,
          0.0003949781333181173,
          0.023690275132824082
         ],
         "yaxis": "y"
        },
        {
         "hovertemplate": "Ticker_symbol=SRI<br>Indice Previsione=%{x}<br>Distanza di Cook=%{y}<extra></extra>",
         "legendgroup": "SRI",
         "marker": {
          "color": "#FF97FF",
          "symbol": "circle"
         },
         "mode": "markers",
         "name": "SRI",
         "orientation": "v",
         "showlegend": true,
         "type": "scatter",
         "x": [
          80,
          81,
          82,
          83,
          84,
          85,
          86,
          87,
          88,
          89
         ],
         "xaxis": "x",
         "y": [
          0.04479991584851909,
          0.011281304741848564,
          0.0021189230849279995,
          0.000003973892287915539,
          0.000002093819623610296,
          0.014085143203099974,
          0.00041524619993252385,
          0.00181768149114691,
          0.004661758439347013,
          0.013879702837074293
         ],
         "yaxis": "y"
        },
        {
         "hovertemplate": "Ticker_symbol=ALA<br>Indice Previsione=%{x}<br>Distanza di Cook=%{y}<extra></extra>",
         "legendgroup": "ALA",
         "marker": {
          "color": "#FECB52",
          "symbol": "circle"
         },
         "mode": "markers",
         "name": "ALA",
         "orientation": "v",
         "showlegend": true,
         "type": "scatter",
         "x": [
          90,
          91
         ],
         "xaxis": "x",
         "y": [
          0.00009882835805005297,
          0.00009882835816297655
         ],
         "yaxis": "y"
        },
        {
         "hovertemplate": "Ticker_symbol=ICF<br>Indice Previsione=%{x}<br>Distanza di Cook=%{y}<extra></extra>",
         "legendgroup": "ICF",
         "marker": {
          "color": "#636EFA",
          "symbol": "circle"
         },
         "mode": "markers",
         "name": "ICF",
         "orientation": "v",
         "showlegend": true,
         "type": "scatter",
         "x": [
          100,
          101,
          102
         ],
         "xaxis": "x",
         "y": [
          0.0015637776718520108,
          0.003445186584457333,
          0.00043865369595733273
         ],
         "yaxis": "y"
        },
        {
         "hovertemplate": "Ticker_symbol=ENV<br>Indice Previsione=%{x}<br>Distanza di Cook=%{y}<extra></extra>",
         "legendgroup": "ENV",
         "marker": {
          "color": "#EF553B",
          "symbol": "circle"
         },
         "mode": "markers",
         "name": "ENV",
         "orientation": "v",
         "showlegend": true,
         "type": "scatter",
         "x": [
          110,
          111,
          112,
          113,
          114,
          115,
          116,
          117,
          118,
          119
         ],
         "xaxis": "x",
         "y": [
          0.0015473047792365197,
          0.00006375599900624463,
          0.025329591059335802,
          0.0013753761460162989,
          0.0030447585798305437,
          0.00014075428416689343,
          0.00036201470383231173,
          0.0006367606990212893,
          0.0003433599670858311,
          0.000045127724706238525
         ],
         "yaxis": "y"
        },
        {
         "hovertemplate": "Ticker_symbol=MASI<br>Indice Previsione=%{x}<br>Distanza di Cook=%{y}<extra></extra>",
         "legendgroup": "MASI",
         "marker": {
          "color": "#00CC96",
          "symbol": "circle"
         },
         "mode": "markers",
         "name": "MASI",
         "orientation": "v",
         "showlegend": true,
         "type": "scatter",
         "x": [
          120,
          121,
          122,
          123,
          124,
          125,
          126,
          127
         ],
         "xaxis": "x",
         "y": [
          0.0006667253650180867,
          0.009167327361282592,
          0.00682903837420793,
          0.0010903035813716602,
          0.006618532763144665,
          0.013646073013543985,
          0.0027289804951265723,
          0.00041418402477354476
         ],
         "yaxis": "y"
        },
        {
         "hovertemplate": "Ticker_symbol=SVS<br>Indice Previsione=%{x}<br>Distanza di Cook=%{y}<extra></extra>",
         "legendgroup": "SVS",
         "marker": {
          "color": "#AB63FA",
          "symbol": "circle"
         },
         "mode": "markers",
         "name": "SVS",
         "orientation": "v",
         "showlegend": true,
         "type": "scatter",
         "x": [
          130
         ],
         "xaxis": "x",
         "y": [
          null
         ],
         "yaxis": "y"
        },
        {
         "hovertemplate": "Ticker_symbol=STAR7<br>Indice Previsione=%{x}<br>Distanza di Cook=%{y}<extra></extra>",
         "legendgroup": "STAR7",
         "marker": {
          "color": "#FFA15A",
          "symbol": "circle"
         },
         "mode": "markers",
         "name": "STAR7",
         "orientation": "v",
         "showlegend": true,
         "type": "scatter",
         "x": [
          140,
          141
         ],
         "xaxis": "x",
         "y": [
          0.003719882938469262,
          0.0037198829377026103
         ],
         "yaxis": "y"
        },
        {
         "hovertemplate": "Ticker_symbol=SCK<br>Indice Previsione=%{x}<br>Distanza di Cook=%{y}<extra></extra>",
         "legendgroup": "SCK",
         "marker": {
          "color": "#19D3F3",
          "symbol": "circle"
         },
         "mode": "markers",
         "name": "SCK",
         "orientation": "v",
         "showlegend": true,
         "type": "scatter",
         "x": [
          150,
          151,
          152,
          153,
          154
         ],
         "xaxis": "x",
         "y": [
          0.027104043074125898,
          0.13788483640450058,
          0.05365252132673786,
          0.0272502005865423,
          0.15574476887717617
         ],
         "yaxis": "y"
        },
        {
         "hovertemplate": "Ticker_symbol=MARP<br>Indice Previsione=%{x}<br>Distanza di Cook=%{y}<extra></extra>",
         "legendgroup": "MARP",
         "marker": {
          "color": "#FF6692",
          "symbol": "circle"
         },
         "mode": "markers",
         "name": "MARP",
         "orientation": "v",
         "showlegend": true,
         "type": "scatter",
         "x": [
          160,
          161,
          162,
          163
         ],
         "xaxis": "x",
         "y": [
          0.0014876692104388246,
          0.0003695404349956684,
          0.008058666014938454,
          0.010510912762450546
         ],
         "yaxis": "y"
        },
        {
         "hovertemplate": "Ticker_symbol=ITD<br>Indice Previsione=%{x}<br>Distanza di Cook=%{y}<extra></extra>",
         "legendgroup": "ITD",
         "marker": {
          "color": "#B6E880",
          "symbol": "circle"
         },
         "mode": "markers",
         "name": "ITD",
         "orientation": "v",
         "showlegend": true,
         "type": "scatter",
         "x": [
          170,
          171,
          172,
          173,
          174
         ],
         "xaxis": "x",
         "y": [
          0.10270897441541287,
          0.02787416019826774,
          0.019605648753543158,
          0.024813611582316646,
          0.11736383591001884
         ],
         "yaxis": "y"
        },
        {
         "hovertemplate": "Ticker_symbol=VIM<br>Indice Previsione=%{x}<br>Distanza di Cook=%{y}<extra></extra>",
         "legendgroup": "VIM",
         "marker": {
          "color": "#FF97FF",
          "symbol": "circle"
         },
         "mode": "markers",
         "name": "VIM",
         "orientation": "v",
         "showlegend": true,
         "type": "scatter",
         "x": [
          180,
          181,
          182,
          183,
          184
         ],
         "xaxis": "x",
         "y": [
          0.033543715245137544,
          0.0027926909906522256,
          0.0036040177530608213,
          0.015945699799806114,
          0.023084390305043802
         ],
         "yaxis": "y"
        },
        {
         "hovertemplate": "Ticker_symbol=MDC<br>Indice Previsione=%{x}<br>Distanza di Cook=%{y}<extra></extra>",
         "legendgroup": "MDC",
         "marker": {
          "color": "#FECB52",
          "symbol": "circle"
         },
         "mode": "markers",
         "name": "MDC",
         "orientation": "v",
         "showlegend": true,
         "type": "scatter",
         "x": [
          190,
          191
         ],
         "xaxis": "x",
         "y": [
          0.06278593832342917,
          0.06278593832046289
         ],
         "yaxis": "y"
        },
        {
         "hovertemplate": "Ticker_symbol=ILP<br>Indice Previsione=%{x}<br>Distanza di Cook=%{y}<extra></extra>",
         "legendgroup": "ILP",
         "marker": {
          "color": "#636EFA",
          "symbol": "circle"
         },
         "mode": "markers",
         "name": "ILP",
         "orientation": "v",
         "showlegend": true,
         "type": "scatter",
         "x": [
          200,
          201,
          202,
          203
         ],
         "xaxis": "x",
         "y": [
          0.001328757834583469,
          0.005205320600836373,
          0.015263092598003436,
          0.00028890370953846446
         ],
         "yaxis": "y"
        },
        {
         "hovertemplate": "Ticker_symbol=CFL<br>Indice Previsione=%{x}<br>Distanza di Cook=%{y}<extra></extra>",
         "legendgroup": "CFL",
         "marker": {
          "color": "#EF553B",
          "symbol": "circle"
         },
         "mode": "markers",
         "name": "CFL",
         "orientation": "v",
         "showlegend": true,
         "type": "scatter",
         "x": [
          210,
          211
         ],
         "xaxis": "x",
         "y": [
          0.001770621004816947,
          0.001770621004328522
         ],
         "yaxis": "y"
        },
        {
         "hovertemplate": "Ticker_symbol=FCM<br>Indice Previsione=%{x}<br>Distanza di Cook=%{y}<extra></extra>",
         "legendgroup": "FCM",
         "marker": {
          "color": "#00CC96",
          "symbol": "circle"
         },
         "mode": "markers",
         "name": "FCM",
         "orientation": "v",
         "showlegend": true,
         "type": "scatter",
         "x": [
          220,
          221,
          222,
          223
         ],
         "xaxis": "x",
         "y": [
          0.0038806122699557885,
          0.0010802258295620618,
          0.00021932310169318905,
          0.0057681170989394865
         ],
         "yaxis": "y"
        },
        {
         "hovertemplate": "Ticker_symbol=FVI<br>Indice Previsione=%{x}<br>Distanza di Cook=%{y}<extra></extra>",
         "legendgroup": "FVI",
         "marker": {
          "color": "#AB63FA",
          "symbol": "circle"
         },
         "mode": "markers",
         "name": "FVI",
         "orientation": "v",
         "showlegend": true,
         "type": "scatter",
         "x": [
          230,
          231,
          232,
          233,
          234
         ],
         "xaxis": "x",
         "y": [
          0.012617734556887009,
          0.012378457043493109,
          0.03293828875566247,
          1.7700226951635705e-8,
          0.027029475806047146
         ],
         "yaxis": "y"
        },
        {
         "hovertemplate": "Ticker_symbol=LDB<br>Indice Previsione=%{x}<br>Distanza di Cook=%{y}<extra></extra>",
         "legendgroup": "LDB",
         "marker": {
          "color": "#FFA15A",
          "symbol": "circle"
         },
         "mode": "markers",
         "name": "LDB",
         "orientation": "v",
         "showlegend": true,
         "type": "scatter",
         "x": [
          250,
          251
         ],
         "xaxis": "x",
         "y": [
          0.006174322675122732,
          0.006174322674029805
         ],
         "yaxis": "y"
        },
        {
         "hovertemplate": "Ticker_symbol=FOS<br>Indice Previsione=%{x}<br>Distanza di Cook=%{y}<extra></extra>",
         "legendgroup": "FOS",
         "marker": {
          "color": "#19D3F3",
          "symbol": "circle"
         },
         "mode": "markers",
         "name": "FOS",
         "orientation": "v",
         "showlegend": true,
         "type": "scatter",
         "x": [
          260,
          261,
          262,
          263
         ],
         "xaxis": "x",
         "y": [
          0.0007821430930672106,
          0.005174701684036543,
          0.00922392176437569,
          0.001967233542910315
         ],
         "yaxis": "y"
        },
        {
         "hovertemplate": "Ticker_symbol=BAN<br>Indice Previsione=%{x}<br>Distanza di Cook=%{y}<extra></extra>",
         "legendgroup": "BAN",
         "marker": {
          "color": "#FF6692",
          "symbol": "circle"
         },
         "mode": "markers",
         "name": "BAN",
         "orientation": "v",
         "showlegend": true,
         "type": "scatter",
         "x": [
          270,
          271,
          272,
          273,
          274,
          275,
          276,
          277,
          278,
          279
         ],
         "xaxis": "x",
         "y": [
          0.03661277078324346,
          0.017469594078148416,
          0.0145671798378063,
          0.0002572436476384899,
          0.00015480427079664425,
          0.001587693204964853,
          0.0020505129860206805,
          0.00015134792182803987,
          0.016733998254038547,
          0.0026827462450209356
         ],
         "yaxis": "y"
        }
       ],
       "layout": {
        "height": 750,
        "legend": {
         "title": {
          "text": "Ticker_symbol"
         },
         "tracegroupgap": 0
        },
        "template": {
         "data": {
          "bar": [
           {
            "error_x": {
             "color": "#2a3f5f"
            },
            "error_y": {
             "color": "#2a3f5f"
            },
            "marker": {
             "line": {
              "color": "#E5ECF6",
              "width": 0.5
             },
             "pattern": {
              "fillmode": "overlay",
              "size": 10,
              "solidity": 0.2
             }
            },
            "type": "bar"
           }
          ],
          "barpolar": [
           {
            "marker": {
             "line": {
              "color": "#E5ECF6",
              "width": 0.5
             },
             "pattern": {
              "fillmode": "overlay",
              "size": 10,
              "solidity": 0.2
             }
            },
            "type": "barpolar"
           }
          ],
          "carpet": [
           {
            "aaxis": {
             "endlinecolor": "#2a3f5f",
             "gridcolor": "white",
             "linecolor": "white",
             "minorgridcolor": "white",
             "startlinecolor": "#2a3f5f"
            },
            "baxis": {
             "endlinecolor": "#2a3f5f",
             "gridcolor": "white",
             "linecolor": "white",
             "minorgridcolor": "white",
             "startlinecolor": "#2a3f5f"
            },
            "type": "carpet"
           }
          ],
          "choropleth": [
           {
            "colorbar": {
             "outlinewidth": 0,
             "ticks": ""
            },
            "type": "choropleth"
           }
          ],
          "contour": [
           {
            "colorbar": {
             "outlinewidth": 0,
             "ticks": ""
            },
            "colorscale": [
             [
              0,
              "#0d0887"
             ],
             [
              0.1111111111111111,
              "#46039f"
             ],
             [
              0.2222222222222222,
              "#7201a8"
             ],
             [
              0.3333333333333333,
              "#9c179e"
             ],
             [
              0.4444444444444444,
              "#bd3786"
             ],
             [
              0.5555555555555556,
              "#d8576b"
             ],
             [
              0.6666666666666666,
              "#ed7953"
             ],
             [
              0.7777777777777778,
              "#fb9f3a"
             ],
             [
              0.8888888888888888,
              "#fdca26"
             ],
             [
              1,
              "#f0f921"
             ]
            ],
            "type": "contour"
           }
          ],
          "contourcarpet": [
           {
            "colorbar": {
             "outlinewidth": 0,
             "ticks": ""
            },
            "type": "contourcarpet"
           }
          ],
          "heatmap": [
           {
            "colorbar": {
             "outlinewidth": 0,
             "ticks": ""
            },
            "colorscale": [
             [
              0,
              "#0d0887"
             ],
             [
              0.1111111111111111,
              "#46039f"
             ],
             [
              0.2222222222222222,
              "#7201a8"
             ],
             [
              0.3333333333333333,
              "#9c179e"
             ],
             [
              0.4444444444444444,
              "#bd3786"
             ],
             [
              0.5555555555555556,
              "#d8576b"
             ],
             [
              0.6666666666666666,
              "#ed7953"
             ],
             [
              0.7777777777777778,
              "#fb9f3a"
             ],
             [
              0.8888888888888888,
              "#fdca26"
             ],
             [
              1,
              "#f0f921"
             ]
            ],
            "type": "heatmap"
           }
          ],
          "heatmapgl": [
           {
            "colorbar": {
             "outlinewidth": 0,
             "ticks": ""
            },
            "colorscale": [
             [
              0,
              "#0d0887"
             ],
             [
              0.1111111111111111,
              "#46039f"
             ],
             [
              0.2222222222222222,
              "#7201a8"
             ],
             [
              0.3333333333333333,
              "#9c179e"
             ],
             [
              0.4444444444444444,
              "#bd3786"
             ],
             [
              0.5555555555555556,
              "#d8576b"
             ],
             [
              0.6666666666666666,
              "#ed7953"
             ],
             [
              0.7777777777777778,
              "#fb9f3a"
             ],
             [
              0.8888888888888888,
              "#fdca26"
             ],
             [
              1,
              "#f0f921"
             ]
            ],
            "type": "heatmapgl"
           }
          ],
          "histogram": [
           {
            "marker": {
             "pattern": {
              "fillmode": "overlay",
              "size": 10,
              "solidity": 0.2
             }
            },
            "type": "histogram"
           }
          ],
          "histogram2d": [
           {
            "colorbar": {
             "outlinewidth": 0,
             "ticks": ""
            },
            "colorscale": [
             [
              0,
              "#0d0887"
             ],
             [
              0.1111111111111111,
              "#46039f"
             ],
             [
              0.2222222222222222,
              "#7201a8"
             ],
             [
              0.3333333333333333,
              "#9c179e"
             ],
             [
              0.4444444444444444,
              "#bd3786"
             ],
             [
              0.5555555555555556,
              "#d8576b"
             ],
             [
              0.6666666666666666,
              "#ed7953"
             ],
             [
              0.7777777777777778,
              "#fb9f3a"
             ],
             [
              0.8888888888888888,
              "#fdca26"
             ],
             [
              1,
              "#f0f921"
             ]
            ],
            "type": "histogram2d"
           }
          ],
          "histogram2dcontour": [
           {
            "colorbar": {
             "outlinewidth": 0,
             "ticks": ""
            },
            "colorscale": [
             [
              0,
              "#0d0887"
             ],
             [
              0.1111111111111111,
              "#46039f"
             ],
             [
              0.2222222222222222,
              "#7201a8"
             ],
             [
              0.3333333333333333,
              "#9c179e"
             ],
             [
              0.4444444444444444,
              "#bd3786"
             ],
             [
              0.5555555555555556,
              "#d8576b"
             ],
             [
              0.6666666666666666,
              "#ed7953"
             ],
             [
              0.7777777777777778,
              "#fb9f3a"
             ],
             [
              0.8888888888888888,
              "#fdca26"
             ],
             [
              1,
              "#f0f921"
             ]
            ],
            "type": "histogram2dcontour"
           }
          ],
          "mesh3d": [
           {
            "colorbar": {
             "outlinewidth": 0,
             "ticks": ""
            },
            "type": "mesh3d"
           }
          ],
          "parcoords": [
           {
            "line": {
             "colorbar": {
              "outlinewidth": 0,
              "ticks": ""
             }
            },
            "type": "parcoords"
           }
          ],
          "pie": [
           {
            "automargin": true,
            "type": "pie"
           }
          ],
          "scatter": [
           {
            "fillpattern": {
             "fillmode": "overlay",
             "size": 10,
             "solidity": 0.2
            },
            "type": "scatter"
           }
          ],
          "scatter3d": [
           {
            "line": {
             "colorbar": {
              "outlinewidth": 0,
              "ticks": ""
             }
            },
            "marker": {
             "colorbar": {
              "outlinewidth": 0,
              "ticks": ""
             }
            },
            "type": "scatter3d"
           }
          ],
          "scattercarpet": [
           {
            "marker": {
             "colorbar": {
              "outlinewidth": 0,
              "ticks": ""
             }
            },
            "type": "scattercarpet"
           }
          ],
          "scattergeo": [
           {
            "marker": {
             "colorbar": {
              "outlinewidth": 0,
              "ticks": ""
             }
            },
            "type": "scattergeo"
           }
          ],
          "scattergl": [
           {
            "marker": {
             "colorbar": {
              "outlinewidth": 0,
              "ticks": ""
             }
            },
            "type": "scattergl"
           }
          ],
          "scattermapbox": [
           {
            "marker": {
             "colorbar": {
              "outlinewidth": 0,
              "ticks": ""
             }
            },
            "type": "scattermapbox"
           }
          ],
          "scatterpolar": [
           {
            "marker": {
             "colorbar": {
              "outlinewidth": 0,
              "ticks": ""
             }
            },
            "type": "scatterpolar"
           }
          ],
          "scatterpolargl": [
           {
            "marker": {
             "colorbar": {
              "outlinewidth": 0,
              "ticks": ""
             }
            },
            "type": "scatterpolargl"
           }
          ],
          "scatterternary": [
           {
            "marker": {
             "colorbar": {
              "outlinewidth": 0,
              "ticks": ""
             }
            },
            "type": "scatterternary"
           }
          ],
          "surface": [
           {
            "colorbar": {
             "outlinewidth": 0,
             "ticks": ""
            },
            "colorscale": [
             [
              0,
              "#0d0887"
             ],
             [
              0.1111111111111111,
              "#46039f"
             ],
             [
              0.2222222222222222,
              "#7201a8"
             ],
             [
              0.3333333333333333,
              "#9c179e"
             ],
             [
              0.4444444444444444,
              "#bd3786"
             ],
             [
              0.5555555555555556,
              "#d8576b"
             ],
             [
              0.6666666666666666,
              "#ed7953"
             ],
             [
              0.7777777777777778,
              "#fb9f3a"
             ],
             [
              0.8888888888888888,
              "#fdca26"
             ],
             [
              1,
              "#f0f921"
             ]
            ],
            "type": "surface"
           }
          ],
          "table": [
           {
            "cells": {
             "fill": {
              "color": "#EBF0F8"
             },
             "line": {
              "color": "white"
             }
            },
            "header": {
             "fill": {
              "color": "#C8D4E3"
             },
             "line": {
              "color": "white"
             }
            },
            "type": "table"
           }
          ]
         },
         "layout": {
          "annotationdefaults": {
           "arrowcolor": "#2a3f5f",
           "arrowhead": 0,
           "arrowwidth": 1
          },
          "autotypenumbers": "strict",
          "coloraxis": {
           "colorbar": {
            "outlinewidth": 0,
            "ticks": ""
           }
          },
          "colorscale": {
           "diverging": [
            [
             0,
             "#8e0152"
            ],
            [
             0.1,
             "#c51b7d"
            ],
            [
             0.2,
             "#de77ae"
            ],
            [
             0.3,
             "#f1b6da"
            ],
            [
             0.4,
             "#fde0ef"
            ],
            [
             0.5,
             "#f7f7f7"
            ],
            [
             0.6,
             "#e6f5d0"
            ],
            [
             0.7,
             "#b8e186"
            ],
            [
             0.8,
             "#7fbc41"
            ],
            [
             0.9,
             "#4d9221"
            ],
            [
             1,
             "#276419"
            ]
           ],
           "sequential": [
            [
             0,
             "#0d0887"
            ],
            [
             0.1111111111111111,
             "#46039f"
            ],
            [
             0.2222222222222222,
             "#7201a8"
            ],
            [
             0.3333333333333333,
             "#9c179e"
            ],
            [
             0.4444444444444444,
             "#bd3786"
            ],
            [
             0.5555555555555556,
             "#d8576b"
            ],
            [
             0.6666666666666666,
             "#ed7953"
            ],
            [
             0.7777777777777778,
             "#fb9f3a"
            ],
            [
             0.8888888888888888,
             "#fdca26"
            ],
            [
             1,
             "#f0f921"
            ]
           ],
           "sequentialminus": [
            [
             0,
             "#0d0887"
            ],
            [
             0.1111111111111111,
             "#46039f"
            ],
            [
             0.2222222222222222,
             "#7201a8"
            ],
            [
             0.3333333333333333,
             "#9c179e"
            ],
            [
             0.4444444444444444,
             "#bd3786"
            ],
            [
             0.5555555555555556,
             "#d8576b"
            ],
            [
             0.6666666666666666,
             "#ed7953"
            ],
            [
             0.7777777777777778,
             "#fb9f3a"
            ],
            [
             0.8888888888888888,
             "#fdca26"
            ],
            [
             1,
             "#f0f921"
            ]
           ]
          },
          "colorway": [
           "#636efa",
           "#EF553B",
           "#00cc96",
           "#ab63fa",
           "#FFA15A",
           "#19d3f3",
           "#FF6692",
           "#B6E880",
           "#FF97FF",
           "#FECB52"
          ],
          "font": {
           "color": "#2a3f5f"
          },
          "geo": {
           "bgcolor": "white",
           "lakecolor": "white",
           "landcolor": "#E5ECF6",
           "showlakes": true,
           "showland": true,
           "subunitcolor": "white"
          },
          "hoverlabel": {
           "align": "left"
          },
          "hovermode": "closest",
          "mapbox": {
           "style": "light"
          },
          "paper_bgcolor": "white",
          "plot_bgcolor": "#E5ECF6",
          "polar": {
           "angularaxis": {
            "gridcolor": "white",
            "linecolor": "white",
            "ticks": ""
           },
           "bgcolor": "#E5ECF6",
           "radialaxis": {
            "gridcolor": "white",
            "linecolor": "white",
            "ticks": ""
           }
          },
          "scene": {
           "xaxis": {
            "backgroundcolor": "#E5ECF6",
            "gridcolor": "white",
            "gridwidth": 2,
            "linecolor": "white",
            "showbackground": true,
            "ticks": "",
            "zerolinecolor": "white"
           },
           "yaxis": {
            "backgroundcolor": "#E5ECF6",
            "gridcolor": "white",
            "gridwidth": 2,
            "linecolor": "white",
            "showbackground": true,
            "ticks": "",
            "zerolinecolor": "white"
           },
           "zaxis": {
            "backgroundcolor": "#E5ECF6",
            "gridcolor": "white",
            "gridwidth": 2,
            "linecolor": "white",
            "showbackground": true,
            "ticks": "",
            "zerolinecolor": "white"
           }
          },
          "shapedefaults": {
           "line": {
            "color": "#2a3f5f"
           }
          },
          "ternary": {
           "aaxis": {
            "gridcolor": "white",
            "linecolor": "white",
            "ticks": ""
           },
           "baxis": {
            "gridcolor": "white",
            "linecolor": "white",
            "ticks": ""
           },
           "bgcolor": "#E5ECF6",
           "caxis": {
            "gridcolor": "white",
            "linecolor": "white",
            "ticks": ""
           }
          },
          "title": {
           "x": 0.05
          },
          "xaxis": {
           "automargin": true,
           "gridcolor": "white",
           "linecolor": "white",
           "ticks": "",
           "title": {
            "standoff": 15
           },
           "zerolinecolor": "white",
           "zerolinewidth": 2
          },
          "yaxis": {
           "automargin": true,
           "gridcolor": "white",
           "linecolor": "white",
           "ticks": "",
           "title": {
            "standoff": 15
           },
           "zerolinecolor": "white",
           "zerolinewidth": 2
          }
         }
        },
        "title": {
         "text": "Scatter plot della Distanza di Cook per Previsione"
        },
        "xaxis": {
         "anchor": "y",
         "domain": [
          0,
          1
         ],
         "title": {
          "text": "Indice Previsione"
         }
        },
        "yaxis": {
         "anchor": "x",
         "domain": [
          0,
          1
         ],
         "title": {
          "text": "Distanza di Cook"
         }
        }
       }
      }
     },
     "metadata": {},
     "output_type": "display_data"
    }
   ],
   "source": [
    "# Seleziona solo le colonne che ti interessano\n",
    "df_plot = previsioni[['Ticker_symbol', 'cook']]\n",
    "\n",
    "# Crea uno scatter plot\n",
    "fig = px.scatter(df_plot, x=df_plot.index, y='cook', color='Ticker_symbol', \n",
    "                 title='Scatter plot della Distanza di Cook per Previsione', \n",
    "                 labels={'index': 'Indice Previsione', 'cook': 'Distanza di Cook'},\n",
    "                 color_discrete_sequence=px.colors.qualitative.Plotly)\n",
    "\n",
    "# Aggiungi titoli e etichette\n",
    "fig.update_layout(xaxis_title='Indice Previsione', yaxis_title='Distanza di Cook', height=750)\n",
    "\n",
    "# Mostra il grafico\n",
    "fig.show()"
   ]
  }
 ],
 "metadata": {
  "kernelspec": {
   "display_name": "env_tesi",
   "language": "python",
   "name": "python3"
  },
  "language_info": {
   "codemirror_mode": {
    "name": "ipython",
    "version": 3
   },
   "file_extension": ".py",
   "mimetype": "text/x-python",
   "name": "python",
   "nbconvert_exporter": "python",
   "pygments_lexer": "ipython3",
   "version": "3.10.12"
  },
  "orig_nbformat": 4
 },
 "nbformat": 4,
 "nbformat_minor": 2
}
