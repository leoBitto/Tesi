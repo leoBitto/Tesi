{
 "cells": [
  {
   "cell_type": "code",
   "execution_count": 52,
   "metadata": {},
   "outputs": [],
   "source": [
    "# essential imports\n",
    "import pandas as pd\n",
    "import re\n",
    "import yahooquery as yq\n",
    "import datetime\n",
    "import numpy as np\n",
    "\n",
    "# imports for the models\n",
    "import scipy.stats as st\n",
    "import statsmodels.api as sm\n",
    "import statsmodels.formula.api as smf\n",
    "from matplotlib import pyplot as plt\n",
    "import plotly.express as px"
   ]
  },
  {
   "cell_type": "code",
   "execution_count": null,
   "metadata": {},
   "outputs": [],
   "source": [
    "# Leggi il file CSV\n",
    "df = pd.read_csv('./data/tesi28.csv', sep=';')\n",
    "#pulisci i nome dei df\n",
    "# sostituisci gli spazi con _ e togli le parentesi\n",
    "df.columns = [re.sub(r'\\(.*\\)', '', col) for col in df.columns]\n",
    "# Rimuovere lo spazio dagli header delle colonne alla fine e tra le parole\n",
    "df.columns = df.columns.str.rstrip(' ')\n",
    "df.columns = df.columns.str.rstrip('.')\n",
    "df.columns = df.columns.str.replace(' ', '_')\n",
    "df.columns = df.columns.str.replace('/', '_')\n",
    "df.columns = df.columns.str.replace('.', '')\n",
    "df"
   ]
  },
  {
   "cell_type": "markdown",
   "metadata": {},
   "source": [
    "## scarica i valori di borsa per ogni ticker, per ogni anno"
   ]
  },
  {
   "cell_type": "code",
   "execution_count": null,
   "metadata": {},
   "outputs": [],
   "source": [
    "tickers = df['Ticker_symbol']\n",
    "valori_borsa = []\n",
    "tickers_non_scaricati=[]\n",
    "\n",
    "# Scarica i dati storici per ciascun ticker e anno\n",
    "for ticker in tickers:\n",
    "    yq_ticker = yq.Ticker(ticker+\".mi\")\n",
    "    for year in range(2023, 2013, -1):\n",
    "        # Specifica la data desiderata come \"YYYY-MM-DD\" (31 dicembre dell'anno specificato)\n",
    "        datainizio = f\"{year}-01-01\"\n",
    "        datafine = f\"{year}-01-10\"\n",
    "\n",
    "        # Converti la data desiderata in un oggetto datetime\n",
    "        datainizio = datetime.datetime.strptime(datainizio, \"%Y-%m-%d\").date()\n",
    "        datafine = datetime.datetime.strptime(datafine, \"%Y-%m-%d\").date()\n",
    "\n",
    "\n",
    "        try:\n",
    "            val = yq_ticker.history(start=datainizio, end=datafine)['close'][-1]\n",
    "        except Exception as e:\n",
    "            print(e.__cause__)\n",
    "            val = \"NaN\"\n",
    "            tickers_non_scaricati.append(ticker)\n",
    "\n",
    "        print(ticker, val)\n",
    "        valori_borsa.append(val)\n",
    "\n"
   ]
  },
  {
   "cell_type": "code",
   "execution_count": null,
   "metadata": {},
   "outputs": [],
   "source": [
    "print(len(valori_borsa))\n",
    "tickers_non_scaricati = set(tickers_non_scaricati)\n",
    "print(tickers_non_scaricati)"
   ]
  },
  {
   "cell_type": "markdown",
   "metadata": {},
   "source": [
    "## crea nuovo df\n",
    "1. prendi info di interesse, moltiplica per ogni anno ogni osservazione \n",
    "2. aggiungi gli anni di interesse\n",
    "3. doppio ciclo for: per ogni riga df originale prendi i primi nove valori e trasponi il risultato, passa ai prossimi nove (secondo ciclo)"
   ]
  },
  {
   "cell_type": "markdown",
   "metadata": {},
   "source": [
    "#### crea df delle info "
   ]
  },
  {
   "cell_type": "code",
   "execution_count": null,
   "metadata": {},
   "outputs": [],
   "source": [
    "info = pd.concat([df.iloc[:, 0:5]] * 10)\n",
    "info.sort_index(inplace=True)\n",
    "info"
   ]
  },
  {
   "cell_type": "markdown",
   "metadata": {},
   "source": [
    "#### crea colonna degli anni, aggiungi a info"
   ]
  },
  {
   "cell_type": "code",
   "execution_count": null,
   "metadata": {},
   "outputs": [],
   "source": [
    "anni = [anno for anno in range(2022, 2012, -1)] * 28\n",
    "info['Anni'] = anni\n",
    "info"
   ]
  },
  {
   "cell_type": "markdown",
   "metadata": {},
   "source": [
    "#### df degli indici"
   ]
  },
  {
   "cell_type": "code",
   "execution_count": null,
   "metadata": {},
   "outputs": [],
   "source": [
    "# Rimuovi il carattere '\\n' e tutti quelli che seguono dalle intestazioni delle colonne\n",
    "df.columns = df.columns.str.replace(r'\\n.*', '', regex=True)\n",
    "df.columns = df.columns.str.rstrip('_')\n",
    "nomi_colonne = df.columns.unique()[5:]\n",
    "# prendi df di interesse, serve a semplificare gli indici\n",
    "indici = df.iloc[:, 5:]\n",
    "for i in indici.columns:\n",
    "    print(i)\n",
    "# crea nuovo df\n",
    "new_df = pd.DataFrame()\n",
    "\n",
    "col = 0\n",
    "#per ogni set di 10 valori riga di df originario INDICI\n",
    "for i in range(0, 140, 10):\n",
    "    \n",
    "    indice = []\n",
    "    #per ogni riga AZIENDA\n",
    "    for j in range(1,len(indici)+1):\n",
    "        # prendi i nove valori, trasponili e aggiungili al vettore dell'indice considerato\n",
    "        valori = indici.iloc[j-1:j, i:i+10].values[0]\n",
    "        valori = valori.T.tolist()\n",
    "        \n",
    "        indice= indice + valori\n",
    "        \n",
    "    # aggiungi colonna a new_df con insert\n",
    "    new_df.insert(col, nomi_colonne[col], indice)\n",
    "    col += 1\n",
    "\n",
    "\n",
    "for col in new_df.columns:\n",
    "    new_df[col] = new_df[col].str.replace(',' , '.').astype(float)\n",
    "    #print(type(X[col]))\n",
    "\n",
    "new_df"
   ]
  },
  {
   "cell_type": "markdown",
   "metadata": {},
   "source": [
    "#### aggiungi anche valori azionari"
   ]
  },
  {
   "cell_type": "code",
   "execution_count": null,
   "metadata": {},
   "outputs": [],
   "source": [
    "# aggiungi i valori della borsa al df info\n",
    "info['Valori_Borsa'] = valori_borsa\n",
    "info"
   ]
  },
  {
   "cell_type": "markdown",
   "metadata": {},
   "source": [
    "##### esegui il join dei due dataframe, resetta gli indici!!\n"
   ]
  },
  {
   "cell_type": "code",
   "execution_count": null,
   "metadata": {},
   "outputs": [],
   "source": [
    "#resetta indici\n",
    "info = info.reset_index(drop=True)\n",
    "new_df = new_df.reset_index(drop=True)\n",
    "#esegui il join\n",
    "dati_puliti = info.join(new_df)\n",
    "dati_puliti\n"
   ]
  },
  {
   "cell_type": "markdown",
   "metadata": {},
   "source": [
    "##### ripulisci i dati, togli le aziende che non hanno valori di borsa per almeno un anno e calcola gli indici per ogni azienda"
   ]
  },
  {
   "cell_type": "code",
   "execution_count": null,
   "metadata": {},
   "outputs": [],
   "source": [
    "# elimina le aziende tramite una maschera\n",
    "tickers_non_scaricati = list(set(tickers_non_scaricati))\n",
    "maschera = dati_puliti['Ticker_symbol'].isin(tickers_non_scaricati)\n",
    "df_pulito = dati_puliti[~maschera]\n",
    "#df_pulito = df_pulito.drop(columns=[\"Unnamed: 0\"])\n",
    "df_pulito"
   ]
  },
  {
   "cell_type": "markdown",
   "metadata": {},
   "source": [
    "### salva il df senza aziende che non hanno alcuni valori di borsa\n"
   ]
  },
  {
   "cell_type": "code",
   "execution_count": null,
   "metadata": {},
   "outputs": [],
   "source": [
    "df_pulito.to_csv(\"dati_puliti.csv\")"
   ]
  },
  {
   "cell_type": "markdown",
   "metadata": {},
   "source": [
    "### df con tutte e 28 le aziende"
   ]
  },
  {
   "cell_type": "code",
   "execution_count": null,
   "metadata": {},
   "outputs": [],
   "source": [
    "dati_puliti.to_csv(\"dati_puliti28.csv\")"
   ]
  },
  {
   "cell_type": "markdown",
   "metadata": {},
   "source": [
    "# CREA IL MODELLO\n"
   ]
  },
  {
   "cell_type": "code",
   "execution_count": null,
   "metadata": {},
   "outputs": [],
   "source": [
    "df = pd.read_csv('/home/leonardo/Documenti/UNIFI/LAUREA/MATERIALE/hive/dati_puliti28.csv', sep=',')\n",
    "df = df.drop(columns=[\"Unnamed: 0\"])\n",
    "#calcola i logaritmo dei valori di borsa\n",
    "df['Valori_Borsa'] = np.log(df['Valori_Borsa'])\n",
    "df"
   ]
  },
  {
   "cell_type": "code",
   "execution_count": null,
   "metadata": {},
   "outputs": [],
   "source": [
    "\n",
    "\n",
    "print(df.columns[6:])\n",
    "correlations = df.iloc[ : , 6:].corr().iloc[0,:]"
   ]
  },
  {
   "cell_type": "code",
   "execution_count": null,
   "metadata": {},
   "outputs": [],
   "source": [
    "fig = px.scatter(df, y=\"Valori_Borsa\", x=\"Indice_corrente\", color='Ticker_symbol')\n",
    "fig"
   ]
  },
  {
   "cell_type": "code",
   "execution_count": null,
   "metadata": {},
   "outputs": [],
   "source": [
    "fig = px.scatter(df, y=\"Valori_Borsa\", x=\"Indice_di_liquidità\", color='Ticker_symbol')\n",
    "fig"
   ]
  },
  {
   "cell_type": "code",
   "execution_count": null,
   "metadata": {},
   "outputs": [],
   "source": [
    "fig = px.scatter(df, y=\"Valori_Borsa\", x=\"Rotaz_cap_investito\", color='Ticker_symbol')\n",
    "fig"
   ]
  },
  {
   "cell_type": "code",
   "execution_count": null,
   "metadata": {},
   "outputs": [],
   "source": [
    "fig = px.scatter(df, y=\"Valori_Borsa\", x=\"Rotaz_cap_cir_lordo\", color='Ticker_symbol')\n",
    "fig"
   ]
  },
  {
   "cell_type": "code",
   "execution_count": null,
   "metadata": {},
   "outputs": [],
   "source": [
    "fig = px.scatter(df, y=\"Valori_Borsa\", x=\"Redditività_del_totale_attivo\", color='Ticker_symbol')\n",
    "fig"
   ]
  },
  {
   "cell_type": "code",
   "execution_count": null,
   "metadata": {},
   "outputs": [],
   "source": [
    "fig = px.scatter(df, y=\"Valori_Borsa\", x=\"Redditività_di_tutto_il_capitale_investito\", color='Ticker_symbol')\n",
    "fig"
   ]
  },
  {
   "cell_type": "code",
   "execution_count": null,
   "metadata": {},
   "outputs": [],
   "source": [
    "fig = px.scatter(df, y=\"Valori_Borsa\", x=\"Redditività_delle_vendite\", color='Ticker_symbol')\n",
    "fig"
   ]
  },
  {
   "cell_type": "code",
   "execution_count": null,
   "metadata": {},
   "outputs": [],
   "source": [
    "fig = px.scatter(df, y=\"Valori_Borsa\", x=\"Redditività_del_capitale_proprio\", color='Ticker_symbol')\n",
    "fig"
   ]
  },
  {
   "cell_type": "code",
   "execution_count": null,
   "metadata": {},
   "outputs": [],
   "source": [
    "fig = px.scatter(df, y=\"Valori_Borsa\", x=\"Indice_di_copertura_delle_immob\", color='Ticker_symbol')\n",
    "fig"
   ]
  },
  {
   "cell_type": "code",
   "execution_count": null,
   "metadata": {},
   "outputs": [],
   "source": [
    "fig = px.scatter(df, y=\"Valori_Borsa\", x=\"Costo_denaro_a_prestito\", color='Ticker_symbol')\n",
    "fig"
   ]
  },
  {
   "cell_type": "code",
   "execution_count": null,
   "metadata": {},
   "outputs": [],
   "source": [
    "fig = px.scatter(df, y=\"Valori_Borsa\", x=\"Oneri_finanz_su_fatt\", color='Ticker_symbol')\n",
    "fig"
   ]
  },
  {
   "cell_type": "code",
   "execution_count": null,
   "metadata": {},
   "outputs": [],
   "source": [
    "fig = px.scatter(df, y=\"Valori_Borsa\", x=\"Grado_di_copertura_degli_interessi_passivi\", color='Ticker_symbol')\n",
    "fig"
   ]
  },
  {
   "cell_type": "code",
   "execution_count": null,
   "metadata": {},
   "outputs": [],
   "source": [
    "fig = px.scatter(df, y=\"Valori_Borsa\", x=\"Debiti_v_banche_su_fatt\", color='Ticker_symbol')\n",
    "fig"
   ]
  },
  {
   "cell_type": "code",
   "execution_count": null,
   "metadata": {},
   "outputs": [],
   "source": [
    "fig = px.scatter(df, y=\"Valori_Borsa\", x=\"Debt_Equity_ratio\", color='Ticker_symbol')\n",
    "fig"
   ]
  },
  {
   "cell_type": "markdown",
   "metadata": {},
   "source": [
    "# prepara il df"
   ]
  },
  {
   "cell_type": "code",
   "execution_count": 45,
   "metadata": {},
   "outputs": [
    {
     "name": "stdout",
     "output_type": "stream",
     "text": [
      "       ALA    BAN     BC    BRE    CFL    CLI    DAN    ELC    ENV    FCM  \\\n",
      "0    False  False  False  False  False  False  False  False  False  False   \n",
      "1    False  False  False  False  False  False  False  False  False  False   \n",
      "2    False  False  False  False  False  False  False  False  False  False   \n",
      "3    False  False  False  False  False  False  False  False  False  False   \n",
      "4    False  False  False  False  False  False  False  False  False  False   \n",
      "..     ...    ...    ...    ...    ...    ...    ...    ...    ...    ...   \n",
      "275  False   True  False  False  False  False  False  False  False  False   \n",
      "276  False   True  False  False  False  False  False  False  False  False   \n",
      "277  False   True  False  False  False  False  False  False  False  False   \n",
      "278  False   True  False  False  False  False  False  False  False  False   \n",
      "279  False   True  False  False  False  False  False  False  False  False   \n",
      "\n",
      "     ...   MARR   MASI    MDC    PIA    PLT    SCK    SRI  STAR7    SVS    VIM  \n",
      "0    ...   True  False  False  False  False  False  False  False  False  False  \n",
      "1    ...   True  False  False  False  False  False  False  False  False  False  \n",
      "2    ...   True  False  False  False  False  False  False  False  False  False  \n",
      "3    ...   True  False  False  False  False  False  False  False  False  False  \n",
      "4    ...   True  False  False  False  False  False  False  False  False  False  \n",
      "..   ...    ...    ...    ...    ...    ...    ...    ...    ...    ...    ...  \n",
      "275  ...  False  False  False  False  False  False  False  False  False  False  \n",
      "276  ...  False  False  False  False  False  False  False  False  False  False  \n",
      "277  ...  False  False  False  False  False  False  False  False  False  False  \n",
      "278  ...  False  False  False  False  False  False  False  False  False  False  \n",
      "279  ...  False  False  False  False  False  False  False  False  False  False  \n",
      "\n",
      "[280 rows x 28 columns]\n"
     ]
    },
    {
     "data": {
      "text/html": [
       "<div>\n",
       "<style scoped>\n",
       "    .dataframe tbody tr th:only-of-type {\n",
       "        vertical-align: middle;\n",
       "    }\n",
       "\n",
       "    .dataframe tbody tr th {\n",
       "        vertical-align: top;\n",
       "    }\n",
       "\n",
       "    .dataframe thead th {\n",
       "        text-align: right;\n",
       "    }\n",
       "</style>\n",
       "<table border=\"1\" class=\"dataframe\">\n",
       "  <thead>\n",
       "    <tr style=\"text-align: right;\">\n",
       "      <th></th>\n",
       "      <th>ID</th>\n",
       "      <th>Ragione_sociale</th>\n",
       "      <th>Ticker_symbol</th>\n",
       "      <th>ISIN_number</th>\n",
       "      <th>Numero_CCIAA</th>\n",
       "      <th>Anni</th>\n",
       "      <th>Valori_Borsa</th>\n",
       "      <th>Indice_corrente</th>\n",
       "      <th>Indice_di_liquidità</th>\n",
       "      <th>Rotaz_cap_investito</th>\n",
       "      <th>...</th>\n",
       "      <th>MARR</th>\n",
       "      <th>MASI</th>\n",
       "      <th>MDC</th>\n",
       "      <th>PIA</th>\n",
       "      <th>PLT</th>\n",
       "      <th>SCK</th>\n",
       "      <th>SRI</th>\n",
       "      <th>STAR7</th>\n",
       "      <th>SVS</th>\n",
       "      <th>VIM</th>\n",
       "    </tr>\n",
       "  </thead>\n",
       "  <tbody>\n",
       "    <tr>\n",
       "      <th>0</th>\n",
       "      <td>1.0</td>\n",
       "      <td>MARR S.P.A.</td>\n",
       "      <td>MARR</td>\n",
       "      <td>IT0003428445</td>\n",
       "      <td>RN0276618</td>\n",
       "      <td>2022</td>\n",
       "      <td>2.509599</td>\n",
       "      <td>1.58</td>\n",
       "      <td>1.18</td>\n",
       "      <td>1.55</td>\n",
       "      <td>...</td>\n",
       "      <td>True</td>\n",
       "      <td>False</td>\n",
       "      <td>False</td>\n",
       "      <td>False</td>\n",
       "      <td>False</td>\n",
       "      <td>False</td>\n",
       "      <td>False</td>\n",
       "      <td>False</td>\n",
       "      <td>False</td>\n",
       "      <td>False</td>\n",
       "    </tr>\n",
       "    <tr>\n",
       "      <th>1</th>\n",
       "      <td>1.0</td>\n",
       "      <td>MARR S.P.A.</td>\n",
       "      <td>MARR</td>\n",
       "      <td>IT0003428445</td>\n",
       "      <td>RN0276618</td>\n",
       "      <td>2021</td>\n",
       "      <td>2.934920</td>\n",
       "      <td>1.57</td>\n",
       "      <td>1.20</td>\n",
       "      <td>1.17</td>\n",
       "      <td>...</td>\n",
       "      <td>True</td>\n",
       "      <td>False</td>\n",
       "      <td>False</td>\n",
       "      <td>False</td>\n",
       "      <td>False</td>\n",
       "      <td>False</td>\n",
       "      <td>False</td>\n",
       "      <td>False</td>\n",
       "      <td>False</td>\n",
       "      <td>False</td>\n",
       "    </tr>\n",
       "    <tr>\n",
       "      <th>2</th>\n",
       "      <td>1.0</td>\n",
       "      <td>MARR S.P.A.</td>\n",
       "      <td>MARR</td>\n",
       "      <td>IT0003428445</td>\n",
       "      <td>RN0276618</td>\n",
       "      <td>2020</td>\n",
       "      <td>2.879198</td>\n",
       "      <td>1.70</td>\n",
       "      <td>1.38</td>\n",
       "      <td>0.98</td>\n",
       "      <td>...</td>\n",
       "      <td>True</td>\n",
       "      <td>False</td>\n",
       "      <td>False</td>\n",
       "      <td>False</td>\n",
       "      <td>False</td>\n",
       "      <td>False</td>\n",
       "      <td>False</td>\n",
       "      <td>False</td>\n",
       "      <td>False</td>\n",
       "      <td>False</td>\n",
       "    </tr>\n",
       "    <tr>\n",
       "      <th>3</th>\n",
       "      <td>1.0</td>\n",
       "      <td>MARR S.P.A.</td>\n",
       "      <td>MARR</td>\n",
       "      <td>IT0003428445</td>\n",
       "      <td>RN0276618</td>\n",
       "      <td>2019</td>\n",
       "      <td>3.054001</td>\n",
       "      <td>1.46</td>\n",
       "      <td>1.16</td>\n",
       "      <td>1.46</td>\n",
       "      <td>...</td>\n",
       "      <td>True</td>\n",
       "      <td>False</td>\n",
       "      <td>False</td>\n",
       "      <td>False</td>\n",
       "      <td>False</td>\n",
       "      <td>False</td>\n",
       "      <td>False</td>\n",
       "      <td>False</td>\n",
       "      <td>False</td>\n",
       "      <td>False</td>\n",
       "    </tr>\n",
       "    <tr>\n",
       "      <th>4</th>\n",
       "      <td>1.0</td>\n",
       "      <td>MARR S.P.A.</td>\n",
       "      <td>MARR</td>\n",
       "      <td>IT0003428445</td>\n",
       "      <td>RN0276618</td>\n",
       "      <td>2018</td>\n",
       "      <td>3.068983</td>\n",
       "      <td>1.67</td>\n",
       "      <td>1.34</td>\n",
       "      <td>1.54</td>\n",
       "      <td>...</td>\n",
       "      <td>True</td>\n",
       "      <td>False</td>\n",
       "      <td>False</td>\n",
       "      <td>False</td>\n",
       "      <td>False</td>\n",
       "      <td>False</td>\n",
       "      <td>False</td>\n",
       "      <td>False</td>\n",
       "      <td>False</td>\n",
       "      <td>False</td>\n",
       "    </tr>\n",
       "    <tr>\n",
       "      <th>...</th>\n",
       "      <td>...</td>\n",
       "      <td>...</td>\n",
       "      <td>...</td>\n",
       "      <td>...</td>\n",
       "      <td>...</td>\n",
       "      <td>...</td>\n",
       "      <td>...</td>\n",
       "      <td>...</td>\n",
       "      <td>...</td>\n",
       "      <td>...</td>\n",
       "      <td>...</td>\n",
       "      <td>...</td>\n",
       "      <td>...</td>\n",
       "      <td>...</td>\n",
       "      <td>...</td>\n",
       "      <td>...</td>\n",
       "      <td>...</td>\n",
       "      <td>...</td>\n",
       "      <td>...</td>\n",
       "      <td>...</td>\n",
       "      <td>...</td>\n",
       "    </tr>\n",
       "    <tr>\n",
       "      <th>275</th>\n",
       "      <td>28.0</td>\n",
       "      <td>BASIC NET S.P.A.</td>\n",
       "      <td>BAN</td>\n",
       "      <td>IT0001033700</td>\n",
       "      <td>TO0631153</td>\n",
       "      <td>2017</td>\n",
       "      <td>1.324419</td>\n",
       "      <td>3.34</td>\n",
       "      <td>3.31</td>\n",
       "      <td>0.02</td>\n",
       "      <td>...</td>\n",
       "      <td>False</td>\n",
       "      <td>False</td>\n",
       "      <td>False</td>\n",
       "      <td>False</td>\n",
       "      <td>False</td>\n",
       "      <td>False</td>\n",
       "      <td>False</td>\n",
       "      <td>False</td>\n",
       "      <td>False</td>\n",
       "      <td>False</td>\n",
       "    </tr>\n",
       "    <tr>\n",
       "      <th>276</th>\n",
       "      <td>28.0</td>\n",
       "      <td>BASIC NET S.P.A.</td>\n",
       "      <td>BAN</td>\n",
       "      <td>IT0001033700</td>\n",
       "      <td>TO0631153</td>\n",
       "      <td>2016</td>\n",
       "      <td>1.200567</td>\n",
       "      <td>2.39</td>\n",
       "      <td>2.37</td>\n",
       "      <td>0.02</td>\n",
       "      <td>...</td>\n",
       "      <td>False</td>\n",
       "      <td>False</td>\n",
       "      <td>False</td>\n",
       "      <td>False</td>\n",
       "      <td>False</td>\n",
       "      <td>False</td>\n",
       "      <td>False</td>\n",
       "      <td>False</td>\n",
       "      <td>False</td>\n",
       "      <td>False</td>\n",
       "    </tr>\n",
       "    <tr>\n",
       "      <th>277</th>\n",
       "      <td>28.0</td>\n",
       "      <td>BASIC NET S.P.A.</td>\n",
       "      <td>BAN</td>\n",
       "      <td>IT0001033700</td>\n",
       "      <td>TO0631153</td>\n",
       "      <td>2015</td>\n",
       "      <td>1.468335</td>\n",
       "      <td>2.55</td>\n",
       "      <td>2.53</td>\n",
       "      <td>0.02</td>\n",
       "      <td>...</td>\n",
       "      <td>False</td>\n",
       "      <td>False</td>\n",
       "      <td>False</td>\n",
       "      <td>False</td>\n",
       "      <td>False</td>\n",
       "      <td>False</td>\n",
       "      <td>False</td>\n",
       "      <td>False</td>\n",
       "      <td>False</td>\n",
       "      <td>False</td>\n",
       "    </tr>\n",
       "    <tr>\n",
       "      <th>278</th>\n",
       "      <td>28.0</td>\n",
       "      <td>BASIC NET S.P.A.</td>\n",
       "      <td>BAN</td>\n",
       "      <td>IT0001033700</td>\n",
       "      <td>TO0631153</td>\n",
       "      <td>2014</td>\n",
       "      <td>0.816249</td>\n",
       "      <td>2.23</td>\n",
       "      <td>2.21</td>\n",
       "      <td>0.02</td>\n",
       "      <td>...</td>\n",
       "      <td>False</td>\n",
       "      <td>False</td>\n",
       "      <td>False</td>\n",
       "      <td>False</td>\n",
       "      <td>False</td>\n",
       "      <td>False</td>\n",
       "      <td>False</td>\n",
       "      <td>False</td>\n",
       "      <td>False</td>\n",
       "      <td>False</td>\n",
       "    </tr>\n",
       "    <tr>\n",
       "      <th>279</th>\n",
       "      <td>28.0</td>\n",
       "      <td>BASIC NET S.P.A.</td>\n",
       "      <td>BAN</td>\n",
       "      <td>IT0001033700</td>\n",
       "      <td>TO0631153</td>\n",
       "      <td>2013</td>\n",
       "      <td>0.886244</td>\n",
       "      <td>1.93</td>\n",
       "      <td>1.91</td>\n",
       "      <td>0.01</td>\n",
       "      <td>...</td>\n",
       "      <td>False</td>\n",
       "      <td>False</td>\n",
       "      <td>False</td>\n",
       "      <td>False</td>\n",
       "      <td>False</td>\n",
       "      <td>False</td>\n",
       "      <td>False</td>\n",
       "      <td>False</td>\n",
       "      <td>False</td>\n",
       "      <td>False</td>\n",
       "    </tr>\n",
       "  </tbody>\n",
       "</table>\n",
       "<p>280 rows × 49 columns</p>\n",
       "</div>"
      ],
      "text/plain": [
       "       ID   Ragione_sociale Ticker_symbol   ISIN_number Numero_CCIAA  Anni  \\\n",
       "0     1.0       MARR S.P.A.          MARR  IT0003428445    RN0276618  2022   \n",
       "1     1.0       MARR S.P.A.          MARR  IT0003428445    RN0276618  2021   \n",
       "2     1.0       MARR S.P.A.          MARR  IT0003428445    RN0276618  2020   \n",
       "3     1.0       MARR S.P.A.          MARR  IT0003428445    RN0276618  2019   \n",
       "4     1.0       MARR S.P.A.          MARR  IT0003428445    RN0276618  2018   \n",
       "..    ...               ...           ...           ...          ...   ...   \n",
       "275  28.0  BASIC NET S.P.A.           BAN  IT0001033700    TO0631153  2017   \n",
       "276  28.0  BASIC NET S.P.A.           BAN  IT0001033700    TO0631153  2016   \n",
       "277  28.0  BASIC NET S.P.A.           BAN  IT0001033700    TO0631153  2015   \n",
       "278  28.0  BASIC NET S.P.A.           BAN  IT0001033700    TO0631153  2014   \n",
       "279  28.0  BASIC NET S.P.A.           BAN  IT0001033700    TO0631153  2013   \n",
       "\n",
       "     Valori_Borsa  Indice_corrente  Indice_di_liquidità  Rotaz_cap_investito  \\\n",
       "0        2.509599             1.58                 1.18                 1.55   \n",
       "1        2.934920             1.57                 1.20                 1.17   \n",
       "2        2.879198             1.70                 1.38                 0.98   \n",
       "3        3.054001             1.46                 1.16                 1.46   \n",
       "4        3.068983             1.67                 1.34                 1.54   \n",
       "..            ...              ...                  ...                  ...   \n",
       "275      1.324419             3.34                 3.31                 0.02   \n",
       "276      1.200567             2.39                 2.37                 0.02   \n",
       "277      1.468335             2.55                 2.53                 0.02   \n",
       "278      0.816249             2.23                 2.21                 0.02   \n",
       "279      0.886244             1.93                 1.91                 0.01   \n",
       "\n",
       "     ...   MARR   MASI    MDC    PIA    PLT    SCK    SRI  STAR7    SVS    VIM  \n",
       "0    ...   True  False  False  False  False  False  False  False  False  False  \n",
       "1    ...   True  False  False  False  False  False  False  False  False  False  \n",
       "2    ...   True  False  False  False  False  False  False  False  False  False  \n",
       "3    ...   True  False  False  False  False  False  False  False  False  False  \n",
       "4    ...   True  False  False  False  False  False  False  False  False  False  \n",
       "..   ...    ...    ...    ...    ...    ...    ...    ...    ...    ...    ...  \n",
       "275  ...  False  False  False  False  False  False  False  False  False  False  \n",
       "276  ...  False  False  False  False  False  False  False  False  False  False  \n",
       "277  ...  False  False  False  False  False  False  False  False  False  False  \n",
       "278  ...  False  False  False  False  False  False  False  False  False  False  \n",
       "279  ...  False  False  False  False  False  False  False  False  False  False  \n",
       "\n",
       "[280 rows x 49 columns]"
      ]
     },
     "execution_count": 45,
     "metadata": {},
     "output_type": "execute_result"
    }
   ],
   "source": [
    "# crea le variabili dummy\n",
    "df_dummies = pd.get_dummies(df[\"Ticker_symbol\"])\n",
    "print(df_dummies)\n",
    "# unsci le dummies al df\n",
    "df_con_dummies = df.join(df_dummies)\n",
    "df_con_dummies\n"
   ]
  },
  {
   "cell_type": "code",
   "execution_count": 46,
   "metadata": {},
   "outputs": [
    {
     "data": {
      "text/plain": [
       "Index(['ID', 'Ragione_sociale', 'Ticker_symbol', 'ISIN_number', 'Numero_CCIAA',\n",
       "       'Anni', 'Valori_Borsa', 'Indice_corrente', 'Indice_di_liquidità',\n",
       "       'Rotaz_cap_investito', 'Rotaz_cap_cir_lordo',\n",
       "       'Redditività_del_totale_attivo',\n",
       "       'Redditività_di_tutto_il_capitale_investito',\n",
       "       'Redditività_delle_vendite', 'Redditività_del_capitale_proprio',\n",
       "       'Indice_di_copertura_delle_immob', 'Costo_denaro_a_prestito',\n",
       "       'Oneri_finanz_su_fatt', 'Grado_di_copertura_degli_interessi_passivi',\n",
       "       'Debiti_v_banche_su_fatt', 'Debt_Equity_ratio', 'ALA', 'BAN', 'BC',\n",
       "       'BRE', 'CFL', 'CLI', 'DAN', 'ELC', 'ENV', 'FCM', 'FOS', 'FVI', 'GPI',\n",
       "       'ICF', 'ILP', 'ITD', 'LDB', 'MARP', 'MARR', 'MASI', 'MDC', 'PIA', 'PLT',\n",
       "       'SCK', 'SRI', 'STAR7', 'SVS', 'VIM'],\n",
       "      dtype='object')"
      ]
     },
     "execution_count": 46,
     "metadata": {},
     "output_type": "execute_result"
    }
   ],
   "source": [
    "df_con_dummies.columns"
   ]
  },
  {
   "cell_type": "markdown",
   "metadata": {},
   "source": [
    "Construct the regression equation. Note that we are leaving out one dummy variable so as to avoid perfect Multicollinearity between the 7 dummy variables. la dummy omessa è BAN \n",
    "#RIVEDI"
   ]
  },
  {
   "cell_type": "markdown",
   "metadata": {},
   "source": [
    "### definisci le variabili da usare nel modello"
   ]
  },
  {
   "cell_type": "code",
   "execution_count": 47,
   "metadata": {},
   "outputs": [],
   "source": [
    "# definisce le var dipendenti e indipendenti\n",
    "y_var_name = 'Valori_Borsa'\n",
    "x_var_names =  [\n",
    "    'Anni',\n",
    "    'Indice_corrente', \n",
    "    'Indice_di_liquidità',\n",
    "    'Rotaz_cap_investito', \n",
    "    'Rotaz_cap_cir_lordo',\n",
    "    'Redditività_del_totale_attivo',\n",
    "    'Redditività_di_tutto_il_capitale_investito',\n",
    "    'Redditività_delle_vendite', \n",
    "    'Redditività_del_capitale_proprio',\n",
    "    'Indice_di_copertura_delle_immob', \n",
    "    'Costo_denaro_a_prestito',\n",
    "    'Oneri_finanz_su_fatt', \n",
    "    'Grado_di_copertura_degli_interessi_passivi',\n",
    "    'Debiti_v_banche_su_fatt', \n",
    "    'Debt_Equity_ratio'\n",
    "    ]\n",
    "\n",
    "unit_names = [\n",
    "    'MARR', \n",
    "    'PIA', \n",
    "    'BRE', \n",
    "    'DAN', \n",
    "    'BC', \n",
    "    'CLI', \n",
    "    'ELC', \n",
    "    'GPI', \n",
    "    'SRI',\n",
    "    'ALA', \n",
    "    'ICF', \n",
    "    'ENV', \n",
    "    'MASI', \n",
    "    'SVS', \n",
    "    'STAR7', \n",
    "    'SCK', \n",
    "    'MARP', \n",
    "    'ITD',\n",
    "    'VIM', \n",
    "    'MDC', \n",
    "    'ILP', \n",
    "    'CFL', \n",
    "    'FCM', \n",
    "    'FVI', \n",
    "    'PLT', \n",
    "    'LDB', \n",
    "    'FOS',\n",
    "    'BAN'\n",
    "    ]\n",
    "\n",
    "#only_value = [x for x in unit_names if x not in tickers_non_scaricati]\n",
    "#unit_names = only_value\n"
   ]
  },
  {
   "cell_type": "markdown",
   "metadata": {},
   "source": [
    "### crea il modello"
   ]
  },
  {
   "cell_type": "code",
   "execution_count": 48,
   "metadata": {},
   "outputs": [
    {
     "name": "stdout",
     "output_type": "stream",
     "text": [
      "Regression expression for OLS with dummies=Valori_Borsa ~ Anni + Indice_corrente + Indice_di_liquidità + Rotaz_cap_investito + Rotaz_cap_cir_lordo + Redditività_del_totale_attivo + Redditività_di_tutto_il_capitale_investito + Redditività_delle_vendite + Redditività_del_capitale_proprio + Indice_di_copertura_delle_immob + Costo_denaro_a_prestito + Oneri_finanz_su_fatt + Grado_di_copertura_degli_interessi_passivi + Debiti_v_banche_su_fatt + Debt_Equity_ratio + MARR + PIA + BRE + DAN + BC + CLI + ELC + GPI + SRI + ALA + ICF + ENV + MASI + SVS + STAR7 + SCK + MARP + ITD + VIM + MDC + ILP + CFL + FCM + FVI + PLT + LDB + FOS\n"
     ]
    }
   ],
   "source": [
    "\n",
    "lsdv_expr = y_var_name + ' ~ '\n",
    "i = 0\n",
    "for x_var_name in x_var_names:\n",
    "    if i > 0:\n",
    "        lsdv_expr = lsdv_expr + ' + ' + x_var_name\n",
    "    else:\n",
    "        lsdv_expr = lsdv_expr + x_var_name\n",
    "    i = i + 1\n",
    "for dummy_name in unit_names[:-1]:\n",
    "    lsdv_expr = lsdv_expr + ' + ' + dummy_name\n",
    " \n",
    "print('Regression expression for OLS with dummies=' + lsdv_expr)"
   ]
  },
  {
   "cell_type": "code",
   "execution_count": 49,
   "metadata": {},
   "outputs": [
    {
     "name": "stdout",
     "output_type": "stream",
     "text": [
      "                            OLS Regression Results                            \n",
      "==============================================================================\n",
      "Dep. Variable:           Valori_Borsa   R-squared:                       0.911\n",
      "Model:                            OLS   Adj. R-squared:                  0.881\n",
      "Method:                 Least Squares   F-statistic:                     30.78\n",
      "Date:                Mon, 21 Aug 2023   Prob (F-statistic):           5.15e-48\n",
      "Time:                        16:52:21   Log-Likelihood:                -24.819\n",
      "No. Observations:                 166   AIC:                             133.6\n",
      "Df Residuals:                     124   BIC:                             264.3\n",
      "Df Model:                          41                                         \n",
      "Covariance Type:            nonrobust                                         \n",
      "==============================================================================================================\n",
      "                                                 coef    std err          t      P>|t|      [0.025      0.975]\n",
      "--------------------------------------------------------------------------------------------------------------\n",
      "Intercept                                   -111.6044     26.186     -4.262      0.000    -163.433     -59.776\n",
      "MARR[T.True]                                   2.4275      0.475      5.110      0.000       1.487       3.368\n",
      "PIA[T.True]                                    0.5118      0.362      1.415      0.160      -0.204       1.228\n",
      "BRE[T.True]                                    1.5083      0.305      4.953      0.000       0.906       2.111\n",
      "DAN[T.True]                                    2.5241      0.326      7.739      0.000       1.879       3.170\n",
      "BC[T.True]                                     2.8431      0.363      7.838      0.000       2.125       3.561\n",
      "CLI[T.True]                                    0.5402      0.362      1.494      0.138      -0.176       1.256\n",
      "ELC[T.True]                                    0.4879      0.387      1.260      0.210      -0.278       1.254\n",
      "GPI[T.True]                                    1.7288      0.320      5.404      0.000       1.096       2.362\n",
      "SRI[T.True]                                    0.5245      0.336      1.561      0.121      -0.141       1.190\n",
      "ALA[T.True]                                    1.8295      0.445      4.114      0.000       0.949       2.710\n",
      "ICF[T.True]                                    1.0468      0.354      2.960      0.004       0.347       1.747\n",
      "ENV[T.True]                                    0.5630      0.379      1.485      0.140      -0.187       1.313\n",
      "MASI[T.True]                                   1.0040      0.473      2.123      0.036       0.068       1.940\n",
      "SVS[T.True]                                    1.6824      0.437      3.847      0.000       0.817       2.548\n",
      "STAR7[T.True]                                  1.4199      0.386      3.681      0.000       0.656       2.183\n",
      "SCK[T.True]                                    0.1740      0.270      0.645      0.520      -0.360       0.708\n",
      "MARP[T.True]                                   0.9537      0.378      2.523      0.013       0.206       1.702\n",
      "ITD[T.True]                                    0.1390      0.361      0.385      0.701      -0.576       0.854\n",
      "VIM[T.True]                                    0.1574      0.369      0.427      0.670      -0.573       0.887\n",
      "MDC[T.True]                                    2.3183      0.337      6.872      0.000       1.651       2.986\n",
      "ILP[T.True]                                    0.2733      0.313      0.874      0.384      -0.346       0.892\n",
      "CFL[T.True]                                    1.7939      0.378      4.742      0.000       1.045       2.543\n",
      "FCM[T.True]                                   -0.3044      0.366     -0.832      0.407      -1.028       0.420\n",
      "FVI[T.True]                                    1.5146      0.367      4.128      0.000       0.788       2.241\n",
      "PLT[T.True]                                -9.343e-16   3.76e-16     -2.485      0.014   -1.68e-15    -1.9e-16\n",
      "LDB[T.True]                                   -0.3243      0.392     -0.828      0.409      -1.099       0.451\n",
      "FOS[T.True]                                    0.2227      0.292      0.762      0.447      -0.356       0.801\n",
      "Anni                                           0.0555      0.013      4.283      0.000       0.030       0.081\n",
      "Indice_corrente                               -0.2319      0.157     -1.480      0.142      -0.542       0.078\n",
      "Indice_di_liquidità                            0.3222      0.191      1.684      0.095      -0.057       0.701\n",
      "Rotaz_cap_investito                           -0.1905      0.464     -0.411      0.682      -1.109       0.728\n",
      "Rotaz_cap_cir_lordo                            0.1029      0.179      0.574      0.567      -0.252       0.457\n",
      "Redditività_del_totale_attivo                 -0.1389      0.083     -1.672      0.097      -0.303       0.026\n",
      "Redditività_di_tutto_il_capitale_investito     0.0773      0.051      1.514      0.133      -0.024       0.178\n",
      "Redditività_delle_vendite                      0.0425      0.018      2.384      0.019       0.007       0.078\n",
      "Redditività_del_capitale_proprio               0.0038      0.005      0.750      0.455      -0.006       0.014\n",
      "Indice_di_copertura_delle_immob               -0.0833      0.201     -0.415      0.679      -0.481       0.314\n",
      "Costo_denaro_a_prestito                        0.0056      0.028      0.203      0.840      -0.049       0.060\n",
      "Oneri_finanz_su_fatt                          -0.0436      0.084     -0.520      0.604      -0.209       0.122\n",
      "Grado_di_copertura_degli_interessi_passivi     0.0030      0.002      1.727      0.087      -0.000       0.006\n",
      "Debiti_v_banche_su_fatt                        0.0019      0.004      0.473      0.637      -0.006       0.010\n",
      "Debt_Equity_ratio                             -0.1226      0.196     -0.625      0.533      -0.511       0.266\n",
      "==============================================================================\n",
      "Omnibus:                       20.005   Durbin-Watson:                   1.268\n",
      "Prob(Omnibus):                  0.000   Jarque-Bera (JB):               38.520\n",
      "Skew:                          -0.563   Prob(JB):                     4.32e-09\n",
      "Kurtosis:                       5.074   Cond. No.                     1.00e+16\n",
      "==============================================================================\n",
      "\n",
      "Notes:\n",
      "[1] Standard Errors assume that the covariance matrix of the errors is correctly specified.\n",
      "[2] The smallest eigenvalue is 6.76e-24. This might indicate that there are\n",
      "strong multicollinearity problems or that the design matrix is singular.\n"
     ]
    }
   ],
   "source": [
    "lsdv_model = smf.ols(formula=lsdv_expr, data=df_con_dummies)\n",
    "lsdv_model_results = lsdv_model.fit()\n",
    "print(lsdv_model_results.summary())"
   ]
  },
  {
   "cell_type": "markdown",
   "metadata": {},
   "source": [
    "### previsioni"
   ]
  },
  {
   "cell_type": "code",
   "execution_count": 51,
   "metadata": {},
   "outputs": [
    {
     "data": {
      "text/plain": [
       "{}"
      ]
     },
     "execution_count": 51,
     "metadata": {},
     "output_type": "execute_result"
    }
   ],
   "source": [
    "rmse = {}\n",
    "\n",
    "rmse"
   ]
  },
  {
   "cell_type": "code",
   "execution_count": 60,
   "metadata": {},
   "outputs": [
    {
     "name": "stdout",
     "output_type": "stream",
     "text": [
      "RMSE: 3.5548334166353817\n",
      "Valori_Borsa ~ Anni + Indice_corrente + Indice_di_liquidità + Rotaz_cap_investito + Rotaz_cap_cir_lordo + Redditività_del_totale_attivo + Redditività_di_tutto_il_capitale_investito + Redditività_delle_vendite + Redditività_del_capitale_proprio + Indice_di_copertura_delle_immob + Costo_denaro_a_prestito + Oneri_finanz_su_fatt + Grado_di_copertura_degli_interessi_passivi + Debiti_v_banche_su_fatt + Debt_Equity_ratio + MARR + PIA + BRE + DAN + BC + CLI + ELC + GPI + SRI + ALA + ICF + ENV + MASI + SVS + STAR7 + SCK + MARP + ITD + VIM + MDC + ILP + CFL + FCM + FVI + PLT + LDB + FOS 3.5548334166353817\n"
     ]
    }
   ],
   "source": [
    "# Ottieni le previsioni per tutte le righe nel dataframe\n",
    "predictions = lsdv_model_results.predict()\n",
    "\n",
    "# trasform predictions to the original scale and the share values\n",
    "predictions = np.e**predictions\n",
    "val_borsa = np.e**df['Valori_Borsa']\n",
    "#val_borsa = df['Valori_Borsa']\n",
    "\n",
    "# Calcola l'errore quadratico medio\n",
    "squared_errors = (predictions - val_borsa.dropna()) ** 2\n",
    "\n",
    "# Calcola l'RMSE\n",
    "rmse_val = np.sqrt(squared_errors.mean())\n",
    "\n",
    "print(\"RMSE:\", rmse_val)\n",
    "\n",
    "rmse[lsdv_expr] = rmse_val\n",
    "\n",
    "for k,v in rmse.items():\n",
    "    print(k, v)\n"
   ]
  },
  {
   "cell_type": "code",
   "execution_count": 59,
   "metadata": {},
   "outputs": [
    {
     "data": {
      "text/html": [
       "<div>\n",
       "<style scoped>\n",
       "    .dataframe tbody tr th:only-of-type {\n",
       "        vertical-align: middle;\n",
       "    }\n",
       "\n",
       "    .dataframe tbody tr th {\n",
       "        vertical-align: top;\n",
       "    }\n",
       "\n",
       "    .dataframe thead th {\n",
       "        text-align: right;\n",
       "    }\n",
       "</style>\n",
       "<table border=\"1\" class=\"dataframe\">\n",
       "  <thead>\n",
       "    <tr style=\"text-align: right;\">\n",
       "      <th></th>\n",
       "      <th>0</th>\n",
       "    </tr>\n",
       "  </thead>\n",
       "  <tbody>\n",
       "    <tr>\n",
       "      <th>Valori_Borsa ~ Anni + Indice_corrente + Indice_di_liquidità + Rotaz_cap_investito + Rotaz_cap_cir_lordo + Redditività_del_totale_attivo + Redditività_di_tutto_il_capitale_investito + Redditività_delle_vendite + Redditività_del_capitale_proprio + Indice_di_copertura_delle_immob + Costo_denaro_a_prestito + Oneri_finanz_su_fatt + Grado_di_copertura_degli_interessi_passivi + Debiti_v_banche_su_fatt + Debt_Equity_ratio + MARR + PIA + BRE + DAN + BC + CLI + ELC + GPI + SRI + ALA + ICF + ENV + MASI + SVS + STAR7 + SCK + MARP + ITD + VIM + MDC + ILP + CFL + FCM + FVI + PLT + LDB + FOS</th>\n",
       "      <td>10.281549</td>\n",
       "    </tr>\n",
       "  </tbody>\n",
       "</table>\n",
       "</div>"
      ],
      "text/plain": [
       "                                                            0\n",
       "Valori_Borsa ~ Anni + Indice_corrente + Indice_...  10.281549"
      ]
     },
     "execution_count": 59,
     "metadata": {},
     "output_type": "execute_result"
    }
   ],
   "source": [
    "rmse_df = pd.DataFrame().from_dict(rmse, orient='index')\n",
    "rmse_df"
   ]
  }
 ],
 "metadata": {
  "kernelspec": {
   "display_name": "env_tesi",
   "language": "python",
   "name": "python3"
  },
  "language_info": {
   "codemirror_mode": {
    "name": "ipython",
    "version": 3
   },
   "file_extension": ".py",
   "mimetype": "text/x-python",
   "name": "python",
   "nbconvert_exporter": "python",
   "pygments_lexer": "ipython3",
   "version": "3.10.12"
  },
  "orig_nbformat": 4
 },
 "nbformat": 4,
 "nbformat_minor": 2
}
