{
 "cells": [
  {
   "cell_type": "code",
   "execution_count": null,
   "metadata": {},
   "outputs": [],
   "source": [
    "# essential imports\n",
    "import pandas as pd\n",
    "import re\n",
    "import yahooquery as yq\n",
    "import datetime\n",
    "import numpy as np\n",
    "\n",
    "# imports for the models\n",
    "import scipy.stats as st\n",
    "from sklearn.metrics import mean_squared_error, mean_absolute_error\n",
    "import statsmodels.api as sm\n",
    "import statsmodels.formula.api as smf\n",
    "from matplotlib import pyplot as plt\n",
    "import plotly.express as px\n",
    "from plotly.subplots import make_subplots\n"
   ]
  },
  {
   "cell_type": "code",
   "execution_count": null,
   "metadata": {},
   "outputs": [],
   "source": [
    "# Leggi il file CSV\n",
    "df = pd.read_csv('./data/tesi28.csv', sep=';')\n",
    "#pulisci i nome dei df\n",
    "# sostituisci gli spazi con _ e togli le parentesi\n",
    "df.columns = [re.sub(r'\\(.*\\)', '', col) for col in df.columns]\n",
    "# Rimuovere lo spazio dagli header delle colonne alla fine e tra le parole\n",
    "df.columns = df.columns.str.rstrip(' ')\n",
    "df.columns = df.columns.str.rstrip('.')\n",
    "df.columns = df.columns.str.replace(' ', '_')\n",
    "df.columns = df.columns.str.replace('/', '_')\n",
    "df.columns = df.columns.str.replace('.', '')\n",
    "df"
   ]
  },
  {
   "cell_type": "markdown",
   "metadata": {},
   "source": [
    "## scarica i valori di borsa per ogni ticker, per ogni anno"
   ]
  },
  {
   "cell_type": "code",
   "execution_count": null,
   "metadata": {},
   "outputs": [],
   "source": [
    "tickers = df['Ticker_symbol']\n",
    "valori_borsa = []\n",
    "tickers_non_scaricati=[]\n",
    "\n",
    "# Scarica i dati storici per ciascun ticker e anno\n",
    "for ticker in tickers:\n",
    "    yq_ticker = yq.Ticker(ticker+\".mi\")\n",
    "    for year in range(2023, 2013, -1):\n",
    "        # Specifica la data desiderata come \"YYYY-MM-DD\" (31 dicembre dell'anno specificato)\n",
    "        datainizio = f\"{year}-01-01\"\n",
    "        datafine = f\"{year}-01-10\"\n",
    "        print(ticker, year)\n",
    "        # Converti la data desiderata in un oggetto datetime\n",
    "        datainizio = datetime.datetime.strptime(datainizio, \"%Y-%m-%d\").date()\n",
    "        datafine = datetime.datetime.strptime(datafine, \"%Y-%m-%d\").date()\n",
    "\n",
    "\n",
    "        try:\n",
    "            val = yq_ticker.history(start=datainizio, end=datafine)['close'][-1]\n",
    "        except Exception as e:\n",
    "            print(e.__cause__)\n",
    "            val = \"NaN\"\n",
    "            tickers_non_scaricati.append(ticker)\n",
    "\n",
    "        print(ticker, val)\n",
    "        valori_borsa.append(val)\n",
    "\n"
   ]
  },
  {
   "cell_type": "code",
   "execution_count": null,
   "metadata": {},
   "outputs": [],
   "source": [
    "print(len(valori_borsa))\n",
    "tickers_non_scaricati = set(tickers_non_scaricati)\n",
    "print(tickers_non_scaricati)"
   ]
  },
  {
   "cell_type": "markdown",
   "metadata": {},
   "source": [
    "### crea grafico di settori delle varie aziende"
   ]
  },
  {
   "cell_type": "code",
   "execution_count": null,
   "metadata": {},
   "outputs": [],
   "source": [
    "tickers_list = list(tickers)\n",
    "#print(tickers_list)\n",
    "stocks_info = []\n",
    "non_processed = []\n",
    "for ticker in tickers_list:\n",
    "    ticker = ticker+\".mi\"\n",
    "    #print(ticker)\n",
    "    yf_ticker = yq.Ticker(ticker)\n",
    "    try:\n",
    "        stocks_info.append({\n",
    "            'ticker'    : ticker,\n",
    "            'name'      : yf_ticker.quote_type[ticker]['shortName'],\n",
    "            'industry'  : yf_ticker.asset_profile[ticker]['industry'],\n",
    "            'sector'    : yf_ticker.asset_profile[ticker]['sector'],\n",
    "        })\n",
    "    except:\n",
    "        non_processed.append(ticker)\n",
    "\n",
    "print(non_processed)\n",
    "t = pd.DataFrame(stocks_info)\n",
    "t['name']"
   ]
  },
  {
   "cell_type": "markdown",
   "metadata": {},
   "source": [
    "crea df per visualizzare industrie e settori"
   ]
  },
  {
   "cell_type": "code",
   "execution_count": null,
   "metadata": {},
   "outputs": [],
   "source": [
    "sectors = pd.DataFrame(pd.DataFrame(t['sector'].value_counts())['count'])\n",
    "industries = pd.DataFrame(pd.DataFrame(t['industry'].value_counts())['count'])\n",
    "print(sectors)\n",
    "print(industries)\n"
   ]
  },
  {
   "cell_type": "markdown",
   "metadata": {},
   "source": [
    "visualizza industrie e settori"
   ]
  },
  {
   "cell_type": "code",
   "execution_count": null,
   "metadata": {},
   "outputs": [],
   "source": [
    "fig_sectors = px.pie(sectors, values='count', names=sectors.index, title=\"settori\")\n",
    "fig_industry = px.pie(industries, \n",
    "                    values=\"count\",\n",
    "                    names=industries.index, \n",
    "                    title=\"industrie\",\n",
    "                    height=600,\n",
    "                    )\n",
    "fig_sectors.show()\n",
    "fig_industry.show()\n"
   ]
  },
  {
   "cell_type": "markdown",
   "metadata": {},
   "source": [
    "## crea nuovo df\n",
    "1. prendi info di interesse, moltiplica per ogni anno ogni osservazione \n",
    "2. aggiungi gli anni di interesse\n",
    "3. doppio ciclo for: per ogni riga df originale prendi i primi nove valori e trasponi il risultato, passa ai prossimi nove (secondo ciclo)"
   ]
  },
  {
   "cell_type": "markdown",
   "metadata": {},
   "source": [
    "#### crea df delle info "
   ]
  },
  {
   "cell_type": "code",
   "execution_count": null,
   "metadata": {},
   "outputs": [],
   "source": [
    "info = pd.concat([df.iloc[:, 0:5]] * 10)\n",
    "info.sort_index(inplace=True)\n",
    "info"
   ]
  },
  {
   "cell_type": "markdown",
   "metadata": {},
   "source": [
    "#### crea colonna degli anni, aggiungi a info"
   ]
  },
  {
   "cell_type": "code",
   "execution_count": null,
   "metadata": {},
   "outputs": [],
   "source": [
    "anni = [anno for anno in range(2022, 2012, -1)] * 28\n",
    "info['Anni'] = anni\n",
    "info"
   ]
  },
  {
   "cell_type": "markdown",
   "metadata": {},
   "source": [
    "#### df degli indici"
   ]
  },
  {
   "cell_type": "code",
   "execution_count": null,
   "metadata": {},
   "outputs": [],
   "source": [
    "# Rimuovi il carattere '\\n' e tutti quelli che seguono dalle intestazioni delle colonne\n",
    "df.columns = df.columns.str.replace(r'\\n.*', '', regex=True)\n",
    "df.columns = df.columns.str.rstrip('_')\n",
    "nomi_colonne = df.columns.unique()[5:]\n",
    "# prendi df di interesse, serve a semplificare gli indici\n",
    "indici = df.iloc[:, 5:]\n",
    "for i in indici.columns:\n",
    "    print(i)\n",
    "# crea nuovo df\n",
    "new_df = pd.DataFrame()\n",
    "\n",
    "col = 0\n",
    "#per ogni set di 10 valori riga di df originario INDICI\n",
    "for i in range(0, 140, 10):\n",
    "    \n",
    "    indice = []\n",
    "    #per ogni riga AZIENDA\n",
    "    for j in range(1,len(indici)+1):\n",
    "        # prendi i nove valori, trasponili e aggiungili al vettore dell'indice considerato\n",
    "        valori = indici.iloc[j-1:j, i:i+10].values[0]\n",
    "        valori = valori.T.tolist()\n",
    "        \n",
    "        indice= indice + valori\n",
    "        \n",
    "    # aggiungi colonna a new_df con insert\n",
    "    new_df.insert(col, nomi_colonne[col], indice)\n",
    "    col += 1\n",
    "\n",
    "\n",
    "for col in new_df.columns:\n",
    "    new_df[col] = new_df[col].str.replace(',' , '.').astype(float)\n",
    "    #print(type(X[col]))\n",
    "\n",
    "new_df"
   ]
  },
  {
   "cell_type": "markdown",
   "metadata": {},
   "source": [
    "#### aggiungi anche valori azionari"
   ]
  },
  {
   "cell_type": "code",
   "execution_count": null,
   "metadata": {},
   "outputs": [],
   "source": [
    "# aggiungi i valori della borsa al df info\n",
    "info['Valori_Borsa'] = valori_borsa\n",
    "info"
   ]
  },
  {
   "cell_type": "markdown",
   "metadata": {},
   "source": [
    "##### esegui il join dei due dataframe, resetta gli indici!!\n"
   ]
  },
  {
   "cell_type": "code",
   "execution_count": null,
   "metadata": {},
   "outputs": [],
   "source": [
    "#resetta indici\n",
    "info = info.reset_index(drop=True)\n",
    "new_df = new_df.reset_index(drop=True)\n",
    "#esegui il join\n",
    "dati_puliti = info.join(new_df)\n",
    "dati_puliti\n"
   ]
  },
  {
   "cell_type": "markdown",
   "metadata": {},
   "source": [
    "### ESEGUI SE NON VUOI AZIENDE SENZA VALORI DI BORSA\n",
    "##### ripulisci i dati, togli le aziende che non hanno valori di borsa per almeno un anno e calcola gli indici per ogni azienda\n",
    "i valori di borsa non sono presenti in quanto alcune di queste aziende non erano quotate durante il periodo di analisi."
   ]
  },
  {
   "cell_type": "code",
   "execution_count": null,
   "metadata": {},
   "outputs": [],
   "source": [
    "# elimina le aziende tramite una maschera\n",
    "tickers_non_scaricati = list(set(tickers_non_scaricati))\n",
    "maschera = dati_puliti['Ticker_symbol'].isin(tickers_non_scaricati)\n",
    "dati_puliti = dati_puliti[~maschera]\n",
    "#df_pulito = df_pulito.drop(columns=[\"Unnamed: 0\"])\n",
    "dati_puliti"
   ]
  },
  {
   "cell_type": "markdown",
   "metadata": {},
   "source": [
    "### ESEGUI PER SALVARE DF DELLE AZIENDE CHE NON HANNO ALCUNI VALORI DI BORSA\n",
    "DF È PIÙ PICCOLO"
   ]
  },
  {
   "cell_type": "code",
   "execution_count": null,
   "metadata": {},
   "outputs": [],
   "source": [
    "dati_puliti.to_csv(\"./data/dati_puliti.csv\")"
   ]
  },
  {
   "cell_type": "markdown",
   "metadata": {},
   "source": [
    "### ESEGUI PER SALVARE DF DI TUTTE LE AZIENDE"
   ]
  },
  {
   "cell_type": "code",
   "execution_count": null,
   "metadata": {},
   "outputs": [],
   "source": [
    "dati_puliti.to_csv(\"./data/dati_puliti28.csv\")"
   ]
  },
  {
   "cell_type": "markdown",
   "metadata": {},
   "source": [
    "# CREA IL MODELLO\n",
    "**attenzione** al path usato, esistono due file: uno con tutte le aziende (dati_puliti28) e uno con solo le aziende che contengono valori di borsa(dati_puliti)\n",
    "stiamo effettuando una trasformazione logaritmica della variabile dipendente: valori_borsa"
   ]
  },
  {
   "cell_type": "code",
   "execution_count": 5,
   "metadata": {},
   "outputs": [
    {
     "data": {
      "text/html": [
       "<div>\n",
       "<style scoped>\n",
       "    .dataframe tbody tr th:only-of-type {\n",
       "        vertical-align: middle;\n",
       "    }\n",
       "\n",
       "    .dataframe tbody tr th {\n",
       "        vertical-align: top;\n",
       "    }\n",
       "\n",
       "    .dataframe thead th {\n",
       "        text-align: right;\n",
       "    }\n",
       "</style>\n",
       "<table border=\"1\" class=\"dataframe\">\n",
       "  <thead>\n",
       "    <tr style=\"text-align: right;\">\n",
       "      <th></th>\n",
       "      <th>ID</th>\n",
       "      <th>Ragione_sociale</th>\n",
       "      <th>Ticker_symbol</th>\n",
       "      <th>ISIN_number</th>\n",
       "      <th>Numero_CCIAA</th>\n",
       "      <th>Anni</th>\n",
       "      <th>Valori_Borsa</th>\n",
       "      <th>Indice_corrente</th>\n",
       "      <th>Indice_di_liquidità</th>\n",
       "      <th>Rotaz_cap_investito</th>\n",
       "      <th>...</th>\n",
       "      <th>Redditività_del_totale_attivo</th>\n",
       "      <th>Redditività_di_tutto_il_capitale_investito</th>\n",
       "      <th>Redditività_delle_vendite</th>\n",
       "      <th>Redditività_del_capitale_proprio</th>\n",
       "      <th>Indice_di_copertura_delle_immob</th>\n",
       "      <th>Costo_denaro_a_prestito</th>\n",
       "      <th>Oneri_finanz_su_fatt</th>\n",
       "      <th>Grado_di_copertura_degli_interessi_passivi</th>\n",
       "      <th>Debiti_v_banche_su_fatt</th>\n",
       "      <th>Debt_Equity_ratio</th>\n",
       "    </tr>\n",
       "  </thead>\n",
       "  <tbody>\n",
       "    <tr>\n",
       "      <th>0</th>\n",
       "      <td>1.0</td>\n",
       "      <td>MARR S.P.A.</td>\n",
       "      <td>MARR</td>\n",
       "      <td>IT0003428445</td>\n",
       "      <td>RN0276618</td>\n",
       "      <td>2022</td>\n",
       "      <td>2.509599</td>\n",
       "      <td>1.58</td>\n",
       "      <td>1.18</td>\n",
       "      <td>1.55</td>\n",
       "      <td>...</td>\n",
       "      <td>3.44</td>\n",
       "      <td>5.34</td>\n",
       "      <td>2.22</td>\n",
       "      <td>7.77</td>\n",
       "      <td>0.45</td>\n",
       "      <td>3.79</td>\n",
       "      <td>0.50</td>\n",
       "      <td>8.11</td>\n",
       "      <td>13.25</td>\n",
       "      <td>0.95</td>\n",
       "    </tr>\n",
       "    <tr>\n",
       "      <th>1</th>\n",
       "      <td>1.0</td>\n",
       "      <td>MARR S.P.A.</td>\n",
       "      <td>MARR</td>\n",
       "      <td>IT0003428445</td>\n",
       "      <td>RN0276618</td>\n",
       "      <td>2021</td>\n",
       "      <td>2.934920</td>\n",
       "      <td>1.57</td>\n",
       "      <td>1.20</td>\n",
       "      <td>1.17</td>\n",
       "      <td>...</td>\n",
       "      <td>4.61</td>\n",
       "      <td>7.26</td>\n",
       "      <td>3.83</td>\n",
       "      <td>9.50</td>\n",
       "      <td>0.42</td>\n",
       "      <td>4.31</td>\n",
       "      <td>0.68</td>\n",
       "      <td>8.88</td>\n",
       "      <td>15.76</td>\n",
       "      <td>0.86</td>\n",
       "    </tr>\n",
       "    <tr>\n",
       "      <th>2</th>\n",
       "      <td>1.0</td>\n",
       "      <td>MARR S.P.A.</td>\n",
       "      <td>MARR</td>\n",
       "      <td>IT0003428445</td>\n",
       "      <td>RN0276618</td>\n",
       "      <td>2020</td>\n",
       "      <td>2.879198</td>\n",
       "      <td>1.70</td>\n",
       "      <td>1.38</td>\n",
       "      <td>0.98</td>\n",
       "      <td>...</td>\n",
       "      <td>0.09</td>\n",
       "      <td>0.12</td>\n",
       "      <td>0.09</td>\n",
       "      <td>-1.25</td>\n",
       "      <td>0.37</td>\n",
       "      <td>1.60</td>\n",
       "      <td>0.57</td>\n",
       "      <td>5.90</td>\n",
       "      <td>35.37</td>\n",
       "      <td>1.29</td>\n",
       "    </tr>\n",
       "    <tr>\n",
       "      <th>3</th>\n",
       "      <td>1.0</td>\n",
       "      <td>MARR S.P.A.</td>\n",
       "      <td>MARR</td>\n",
       "      <td>IT0003428445</td>\n",
       "      <td>RN0276618</td>\n",
       "      <td>2019</td>\n",
       "      <td>3.054001</td>\n",
       "      <td>1.46</td>\n",
       "      <td>1.16</td>\n",
       "      <td>1.46</td>\n",
       "      <td>...</td>\n",
       "      <td>8.84</td>\n",
       "      <td>13.31</td>\n",
       "      <td>5.88</td>\n",
       "      <td>19.42</td>\n",
       "      <td>0.33</td>\n",
       "      <td>2.15</td>\n",
       "      <td>0.40</td>\n",
       "      <td>19.02</td>\n",
       "      <td>18.59</td>\n",
       "      <td>1.04</td>\n",
       "    </tr>\n",
       "    <tr>\n",
       "      <th>4</th>\n",
       "      <td>1.0</td>\n",
       "      <td>MARR S.P.A.</td>\n",
       "      <td>MARR</td>\n",
       "      <td>IT0003428445</td>\n",
       "      <td>RN0276618</td>\n",
       "      <td>2018</td>\n",
       "      <td>3.068983</td>\n",
       "      <td>1.67</td>\n",
       "      <td>1.34</td>\n",
       "      <td>1.54</td>\n",
       "      <td>...</td>\n",
       "      <td>9.37</td>\n",
       "      <td>14.36</td>\n",
       "      <td>5.92</td>\n",
       "      <td>20.32</td>\n",
       "      <td>0.20</td>\n",
       "      <td>1.87</td>\n",
       "      <td>0.35</td>\n",
       "      <td>20.30</td>\n",
       "      <td>18.72</td>\n",
       "      <td>0.94</td>\n",
       "    </tr>\n",
       "    <tr>\n",
       "      <th>...</th>\n",
       "      <td>...</td>\n",
       "      <td>...</td>\n",
       "      <td>...</td>\n",
       "      <td>...</td>\n",
       "      <td>...</td>\n",
       "      <td>...</td>\n",
       "      <td>...</td>\n",
       "      <td>...</td>\n",
       "      <td>...</td>\n",
       "      <td>...</td>\n",
       "      <td>...</td>\n",
       "      <td>...</td>\n",
       "      <td>...</td>\n",
       "      <td>...</td>\n",
       "      <td>...</td>\n",
       "      <td>...</td>\n",
       "      <td>...</td>\n",
       "      <td>...</td>\n",
       "      <td>...</td>\n",
       "      <td>...</td>\n",
       "      <td>...</td>\n",
       "    </tr>\n",
       "    <tr>\n",
       "      <th>275</th>\n",
       "      <td>28.0</td>\n",
       "      <td>BASIC NET S.P.A.</td>\n",
       "      <td>BAN</td>\n",
       "      <td>IT0001033700</td>\n",
       "      <td>TO0631153</td>\n",
       "      <td>2017</td>\n",
       "      <td>1.324419</td>\n",
       "      <td>3.34</td>\n",
       "      <td>3.31</td>\n",
       "      <td>0.02</td>\n",
       "      <td>...</td>\n",
       "      <td>6.48</td>\n",
       "      <td>7.48</td>\n",
       "      <td>22.97</td>\n",
       "      <td>5.28</td>\n",
       "      <td>0.03</td>\n",
       "      <td>1.42</td>\n",
       "      <td>1.13</td>\n",
       "      <td>25.64</td>\n",
       "      <td>79.55</td>\n",
       "      <td>0.35</td>\n",
       "    </tr>\n",
       "    <tr>\n",
       "      <th>276</th>\n",
       "      <td>28.0</td>\n",
       "      <td>BASIC NET S.P.A.</td>\n",
       "      <td>BAN</td>\n",
       "      <td>IT0001033700</td>\n",
       "      <td>TO0631153</td>\n",
       "      <td>2016</td>\n",
       "      <td>1.200567</td>\n",
       "      <td>2.39</td>\n",
       "      <td>2.37</td>\n",
       "      <td>0.02</td>\n",
       "      <td>...</td>\n",
       "      <td>6.51</td>\n",
       "      <td>8.08</td>\n",
       "      <td>24.26</td>\n",
       "      <td>8.55</td>\n",
       "      <td>0.02</td>\n",
       "      <td>2.01</td>\n",
       "      <td>1.26</td>\n",
       "      <td>25.00</td>\n",
       "      <td>62.68</td>\n",
       "      <td>0.27</td>\n",
       "    </tr>\n",
       "    <tr>\n",
       "      <th>277</th>\n",
       "      <td>28.0</td>\n",
       "      <td>BASIC NET S.P.A.</td>\n",
       "      <td>BAN</td>\n",
       "      <td>IT0001033700</td>\n",
       "      <td>TO0631153</td>\n",
       "      <td>2015</td>\n",
       "      <td>1.468335</td>\n",
       "      <td>2.55</td>\n",
       "      <td>2.53</td>\n",
       "      <td>0.02</td>\n",
       "      <td>...</td>\n",
       "      <td>7.92</td>\n",
       "      <td>9.94</td>\n",
       "      <td>29.06</td>\n",
       "      <td>13.71</td>\n",
       "      <td>0.02</td>\n",
       "      <td>3.10</td>\n",
       "      <td>1.53</td>\n",
       "      <td>23.10</td>\n",
       "      <td>49.29</td>\n",
       "      <td>0.20</td>\n",
       "    </tr>\n",
       "    <tr>\n",
       "      <th>278</th>\n",
       "      <td>28.0</td>\n",
       "      <td>BASIC NET S.P.A.</td>\n",
       "      <td>BAN</td>\n",
       "      <td>IT0001033700</td>\n",
       "      <td>TO0631153</td>\n",
       "      <td>2014</td>\n",
       "      <td>0.816249</td>\n",
       "      <td>2.23</td>\n",
       "      <td>2.21</td>\n",
       "      <td>0.02</td>\n",
       "      <td>...</td>\n",
       "      <td>7.20</td>\n",
       "      <td>9.28</td>\n",
       "      <td>25.64</td>\n",
       "      <td>12.34</td>\n",
       "      <td>0.02</td>\n",
       "      <td>9.10</td>\n",
       "      <td>2.33</td>\n",
       "      <td>13.82</td>\n",
       "      <td>25.64</td>\n",
       "      <td>0.10</td>\n",
       "    </tr>\n",
       "    <tr>\n",
       "      <th>279</th>\n",
       "      <td>28.0</td>\n",
       "      <td>BASIC NET S.P.A.</td>\n",
       "      <td>BAN</td>\n",
       "      <td>IT0001033700</td>\n",
       "      <td>TO0631153</td>\n",
       "      <td>2013</td>\n",
       "      <td>0.886244</td>\n",
       "      <td>1.93</td>\n",
       "      <td>1.91</td>\n",
       "      <td>0.01</td>\n",
       "      <td>...</td>\n",
       "      <td>6.01</td>\n",
       "      <td>7.79</td>\n",
       "      <td>22.94</td>\n",
       "      <td>5.83</td>\n",
       "      <td>0.02</td>\n",
       "      <td>8.35</td>\n",
       "      <td>3.55</td>\n",
       "      <td>8.35</td>\n",
       "      <td>42.59</td>\n",
       "      <td>0.17</td>\n",
       "    </tr>\n",
       "  </tbody>\n",
       "</table>\n",
       "<p>280 rows × 21 columns</p>\n",
       "</div>"
      ],
      "text/plain": [
       "       ID   Ragione_sociale Ticker_symbol   ISIN_number Numero_CCIAA  Anni  \\\n",
       "0     1.0       MARR S.P.A.          MARR  IT0003428445    RN0276618  2022   \n",
       "1     1.0       MARR S.P.A.          MARR  IT0003428445    RN0276618  2021   \n",
       "2     1.0       MARR S.P.A.          MARR  IT0003428445    RN0276618  2020   \n",
       "3     1.0       MARR S.P.A.          MARR  IT0003428445    RN0276618  2019   \n",
       "4     1.0       MARR S.P.A.          MARR  IT0003428445    RN0276618  2018   \n",
       "..    ...               ...           ...           ...          ...   ...   \n",
       "275  28.0  BASIC NET S.P.A.           BAN  IT0001033700    TO0631153  2017   \n",
       "276  28.0  BASIC NET S.P.A.           BAN  IT0001033700    TO0631153  2016   \n",
       "277  28.0  BASIC NET S.P.A.           BAN  IT0001033700    TO0631153  2015   \n",
       "278  28.0  BASIC NET S.P.A.           BAN  IT0001033700    TO0631153  2014   \n",
       "279  28.0  BASIC NET S.P.A.           BAN  IT0001033700    TO0631153  2013   \n",
       "\n",
       "     Valori_Borsa  Indice_corrente  Indice_di_liquidità  Rotaz_cap_investito  \\\n",
       "0        2.509599             1.58                 1.18                 1.55   \n",
       "1        2.934920             1.57                 1.20                 1.17   \n",
       "2        2.879198             1.70                 1.38                 0.98   \n",
       "3        3.054001             1.46                 1.16                 1.46   \n",
       "4        3.068983             1.67                 1.34                 1.54   \n",
       "..            ...              ...                  ...                  ...   \n",
       "275      1.324419             3.34                 3.31                 0.02   \n",
       "276      1.200567             2.39                 2.37                 0.02   \n",
       "277      1.468335             2.55                 2.53                 0.02   \n",
       "278      0.816249             2.23                 2.21                 0.02   \n",
       "279      0.886244             1.93                 1.91                 0.01   \n",
       "\n",
       "     ...  Redditività_del_totale_attivo  \\\n",
       "0    ...                           3.44   \n",
       "1    ...                           4.61   \n",
       "2    ...                           0.09   \n",
       "3    ...                           8.84   \n",
       "4    ...                           9.37   \n",
       "..   ...                            ...   \n",
       "275  ...                           6.48   \n",
       "276  ...                           6.51   \n",
       "277  ...                           7.92   \n",
       "278  ...                           7.20   \n",
       "279  ...                           6.01   \n",
       "\n",
       "     Redditività_di_tutto_il_capitale_investito  Redditività_delle_vendite  \\\n",
       "0                                          5.34                       2.22   \n",
       "1                                          7.26                       3.83   \n",
       "2                                          0.12                       0.09   \n",
       "3                                         13.31                       5.88   \n",
       "4                                         14.36                       5.92   \n",
       "..                                          ...                        ...   \n",
       "275                                        7.48                      22.97   \n",
       "276                                        8.08                      24.26   \n",
       "277                                        9.94                      29.06   \n",
       "278                                        9.28                      25.64   \n",
       "279                                        7.79                      22.94   \n",
       "\n",
       "     Redditività_del_capitale_proprio  Indice_di_copertura_delle_immob  \\\n",
       "0                                7.77                             0.45   \n",
       "1                                9.50                             0.42   \n",
       "2                               -1.25                             0.37   \n",
       "3                               19.42                             0.33   \n",
       "4                               20.32                             0.20   \n",
       "..                                ...                              ...   \n",
       "275                              5.28                             0.03   \n",
       "276                              8.55                             0.02   \n",
       "277                             13.71                             0.02   \n",
       "278                             12.34                             0.02   \n",
       "279                              5.83                             0.02   \n",
       "\n",
       "     Costo_denaro_a_prestito  Oneri_finanz_su_fatt  \\\n",
       "0                       3.79                  0.50   \n",
       "1                       4.31                  0.68   \n",
       "2                       1.60                  0.57   \n",
       "3                       2.15                  0.40   \n",
       "4                       1.87                  0.35   \n",
       "..                       ...                   ...   \n",
       "275                     1.42                  1.13   \n",
       "276                     2.01                  1.26   \n",
       "277                     3.10                  1.53   \n",
       "278                     9.10                  2.33   \n",
       "279                     8.35                  3.55   \n",
       "\n",
       "     Grado_di_copertura_degli_interessi_passivi  Debiti_v_banche_su_fatt  \\\n",
       "0                                          8.11                    13.25   \n",
       "1                                          8.88                    15.76   \n",
       "2                                          5.90                    35.37   \n",
       "3                                         19.02                    18.59   \n",
       "4                                         20.30                    18.72   \n",
       "..                                          ...                      ...   \n",
       "275                                       25.64                    79.55   \n",
       "276                                       25.00                    62.68   \n",
       "277                                       23.10                    49.29   \n",
       "278                                       13.82                    25.64   \n",
       "279                                        8.35                    42.59   \n",
       "\n",
       "     Debt_Equity_ratio  \n",
       "0                 0.95  \n",
       "1                 0.86  \n",
       "2                 1.29  \n",
       "3                 1.04  \n",
       "4                 0.94  \n",
       "..                 ...  \n",
       "275               0.35  \n",
       "276               0.27  \n",
       "277               0.20  \n",
       "278               0.10  \n",
       "279               0.17  \n",
       "\n",
       "[280 rows x 21 columns]"
      ]
     },
     "execution_count": 5,
     "metadata": {},
     "output_type": "execute_result"
    }
   ],
   "source": [
    "df = pd.read_csv('./data/dati_puliti28.csv', sep=',')\n",
    "df = df.drop(columns=[\"Unnamed: 0\"])\n",
    "#calcola i logaritmo dei valori di borsa\n",
    "df['Valori_Borsa'] = np.log(df['Valori_Borsa'])\n",
    "df"
   ]
  },
  {
   "cell_type": "markdown",
   "metadata": {},
   "source": [
    "#### distribuzioni delle variabili"
   ]
  },
  {
   "cell_type": "code",
   "execution_count": null,
   "metadata": {},
   "outputs": [],
   "source": [
    "# Crea una griglia 5x3 di subplot\n",
    "fig = make_subplots(rows=5, cols=3)\n",
    "car_indici = []\n",
    "# Cicla attraverso le colonne a partire dalla 7a\n",
    "for idx, col_name in enumerate(df.columns[7:]):\n",
    "    # Calcola la riga e la colonna corrispondenti nella griglia 5x3\n",
    "    row = idx // 3 + 1\n",
    "    col = idx % 3 + 1\n",
    "\n",
    "    # Aggiungi un grafico a questa posizione\n",
    "    histogram = px.box(df, x=col_name, )\n",
    "    fig.add_trace(histogram.data[0], row=row, col=col)\n",
    "\n",
    "    # Aggiungi titoli agli assi x e y\n",
    "    fig.update_xaxes(title_text=col_name, row=row, col=col)\n",
    "    fig.update_yaxes(title_text='Frequenza', row=row, col=col)\n",
    "\n",
    "    #calcola media, min, max, dev std, \n",
    "    car_indici.append({\n",
    "        'indice' : col_name,\n",
    "        'media'  : df[col_name].mean(),\n",
    "        'min'    : df[col_name].min(),\n",
    "        'max'    : df[col_name].max(),\n",
    "        'dev std': df[col_name].std(),\n",
    "        'curtosi': df[col_name].kurtosis(),\n",
    "        'skew'   : df[col_name].skew()\n",
    "        \n",
    "    })\n",
    "\n",
    "# Aggiungi un layout per personalizzare il titolo e le dimensioni\n",
    "fig.update_layout(\n",
    "    title='Distribuzioni degli indici',\n",
    "    height=1000,  # Imposta l'altezza della griglia\n",
    "    width=1200    # Imposta la larghezza della griglia\n",
    ")\n",
    "\n",
    "# Visualizza la griglia\n",
    "fig.show()\n"
   ]
  },
  {
   "cell_type": "code",
   "execution_count": null,
   "metadata": {},
   "outputs": [],
   "source": [
    "car_indici = pd.DataFrame(car_indici)\n",
    "car_indici.set_index('indice')\n",
    "car_indici.round(decimals=3)"
   ]
  },
  {
   "cell_type": "markdown",
   "metadata": {},
   "source": [
    "##### mostra le correlazioni tra i valori di borsa e tutti gli indici"
   ]
  },
  {
   "cell_type": "code",
   "execution_count": null,
   "metadata": {},
   "outputs": [],
   "source": [
    "import seaborn as sns\n",
    "correlation_matrix = df.iloc[:, 6:].corr()\n",
    "# Crea una maschera per nascondere la parte superiore della matrice\n",
    "mask = np.triu(np.ones_like(correlation_matrix, dtype=bool))\n",
    "\n",
    "# Crea una figura per il grafico\n",
    "plt.figure(figsize=(12, 8))\n",
    "\n",
    "# Personalizza l'aspetto della heatmap\n",
    "cmap = sns.diverging_palette(230, 20, as_cmap=True)\n",
    "sns.heatmap(correlation_matrix, annot=True, fmt=\".2f\", mask=mask, cmap=cmap)\n",
    "\n",
    "# Visualizza il grafico\n",
    "plt.show()"
   ]
  },
  {
   "cell_type": "code",
   "execution_count": null,
   "metadata": {},
   "outputs": [],
   "source": [
    "for indice in df.columns[7:]:\n",
    "    fig = px.scatter(df, y=\"Valori_Borsa\", x=indice, color='Ticker_symbol')\n",
    "    fig.show()"
   ]
  },
  {
   "cell_type": "markdown",
   "metadata": {},
   "source": [
    "# prepara il df"
   ]
  },
  {
   "cell_type": "code",
   "execution_count": 6,
   "metadata": {},
   "outputs": [
    {
     "name": "stdout",
     "output_type": "stream",
     "text": [
      "       ALA    BAN     BC    BRE    CFL    CLI    DAN    ELC    ENV    FCM  \\\n",
      "0    False  False  False  False  False  False  False  False  False  False   \n",
      "1    False  False  False  False  False  False  False  False  False  False   \n",
      "2    False  False  False  False  False  False  False  False  False  False   \n",
      "3    False  False  False  False  False  False  False  False  False  False   \n",
      "4    False  False  False  False  False  False  False  False  False  False   \n",
      "..     ...    ...    ...    ...    ...    ...    ...    ...    ...    ...   \n",
      "275  False   True  False  False  False  False  False  False  False  False   \n",
      "276  False   True  False  False  False  False  False  False  False  False   \n",
      "277  False   True  False  False  False  False  False  False  False  False   \n",
      "278  False   True  False  False  False  False  False  False  False  False   \n",
      "279  False   True  False  False  False  False  False  False  False  False   \n",
      "\n",
      "     ...   MARR   MASI    MDC    PIA    PLT    SCK    SRI  STAR7    SVS    VIM  \n",
      "0    ...   True  False  False  False  False  False  False  False  False  False  \n",
      "1    ...   True  False  False  False  False  False  False  False  False  False  \n",
      "2    ...   True  False  False  False  False  False  False  False  False  False  \n",
      "3    ...   True  False  False  False  False  False  False  False  False  False  \n",
      "4    ...   True  False  False  False  False  False  False  False  False  False  \n",
      "..   ...    ...    ...    ...    ...    ...    ...    ...    ...    ...    ...  \n",
      "275  ...  False  False  False  False  False  False  False  False  False  False  \n",
      "276  ...  False  False  False  False  False  False  False  False  False  False  \n",
      "277  ...  False  False  False  False  False  False  False  False  False  False  \n",
      "278  ...  False  False  False  False  False  False  False  False  False  False  \n",
      "279  ...  False  False  False  False  False  False  False  False  False  False  \n",
      "\n",
      "[280 rows x 28 columns]\n"
     ]
    },
    {
     "data": {
      "text/html": [
       "<div>\n",
       "<style scoped>\n",
       "    .dataframe tbody tr th:only-of-type {\n",
       "        vertical-align: middle;\n",
       "    }\n",
       "\n",
       "    .dataframe tbody tr th {\n",
       "        vertical-align: top;\n",
       "    }\n",
       "\n",
       "    .dataframe thead th {\n",
       "        text-align: right;\n",
       "    }\n",
       "</style>\n",
       "<table border=\"1\" class=\"dataframe\">\n",
       "  <thead>\n",
       "    <tr style=\"text-align: right;\">\n",
       "      <th></th>\n",
       "      <th>ID</th>\n",
       "      <th>Ragione_sociale</th>\n",
       "      <th>Ticker_symbol</th>\n",
       "      <th>ISIN_number</th>\n",
       "      <th>Numero_CCIAA</th>\n",
       "      <th>Anni</th>\n",
       "      <th>Valori_Borsa</th>\n",
       "      <th>Indice_corrente</th>\n",
       "      <th>Indice_di_liquidità</th>\n",
       "      <th>Rotaz_cap_investito</th>\n",
       "      <th>...</th>\n",
       "      <th>MARR</th>\n",
       "      <th>MASI</th>\n",
       "      <th>MDC</th>\n",
       "      <th>PIA</th>\n",
       "      <th>PLT</th>\n",
       "      <th>SCK</th>\n",
       "      <th>SRI</th>\n",
       "      <th>STAR7</th>\n",
       "      <th>SVS</th>\n",
       "      <th>VIM</th>\n",
       "    </tr>\n",
       "  </thead>\n",
       "  <tbody>\n",
       "    <tr>\n",
       "      <th>0</th>\n",
       "      <td>1.0</td>\n",
       "      <td>MARR S.P.A.</td>\n",
       "      <td>MARR</td>\n",
       "      <td>IT0003428445</td>\n",
       "      <td>RN0276618</td>\n",
       "      <td>2022</td>\n",
       "      <td>2.509599</td>\n",
       "      <td>1.58</td>\n",
       "      <td>1.18</td>\n",
       "      <td>1.55</td>\n",
       "      <td>...</td>\n",
       "      <td>True</td>\n",
       "      <td>False</td>\n",
       "      <td>False</td>\n",
       "      <td>False</td>\n",
       "      <td>False</td>\n",
       "      <td>False</td>\n",
       "      <td>False</td>\n",
       "      <td>False</td>\n",
       "      <td>False</td>\n",
       "      <td>False</td>\n",
       "    </tr>\n",
       "    <tr>\n",
       "      <th>1</th>\n",
       "      <td>1.0</td>\n",
       "      <td>MARR S.P.A.</td>\n",
       "      <td>MARR</td>\n",
       "      <td>IT0003428445</td>\n",
       "      <td>RN0276618</td>\n",
       "      <td>2021</td>\n",
       "      <td>2.934920</td>\n",
       "      <td>1.57</td>\n",
       "      <td>1.20</td>\n",
       "      <td>1.17</td>\n",
       "      <td>...</td>\n",
       "      <td>True</td>\n",
       "      <td>False</td>\n",
       "      <td>False</td>\n",
       "      <td>False</td>\n",
       "      <td>False</td>\n",
       "      <td>False</td>\n",
       "      <td>False</td>\n",
       "      <td>False</td>\n",
       "      <td>False</td>\n",
       "      <td>False</td>\n",
       "    </tr>\n",
       "    <tr>\n",
       "      <th>2</th>\n",
       "      <td>1.0</td>\n",
       "      <td>MARR S.P.A.</td>\n",
       "      <td>MARR</td>\n",
       "      <td>IT0003428445</td>\n",
       "      <td>RN0276618</td>\n",
       "      <td>2020</td>\n",
       "      <td>2.879198</td>\n",
       "      <td>1.70</td>\n",
       "      <td>1.38</td>\n",
       "      <td>0.98</td>\n",
       "      <td>...</td>\n",
       "      <td>True</td>\n",
       "      <td>False</td>\n",
       "      <td>False</td>\n",
       "      <td>False</td>\n",
       "      <td>False</td>\n",
       "      <td>False</td>\n",
       "      <td>False</td>\n",
       "      <td>False</td>\n",
       "      <td>False</td>\n",
       "      <td>False</td>\n",
       "    </tr>\n",
       "    <tr>\n",
       "      <th>3</th>\n",
       "      <td>1.0</td>\n",
       "      <td>MARR S.P.A.</td>\n",
       "      <td>MARR</td>\n",
       "      <td>IT0003428445</td>\n",
       "      <td>RN0276618</td>\n",
       "      <td>2019</td>\n",
       "      <td>3.054001</td>\n",
       "      <td>1.46</td>\n",
       "      <td>1.16</td>\n",
       "      <td>1.46</td>\n",
       "      <td>...</td>\n",
       "      <td>True</td>\n",
       "      <td>False</td>\n",
       "      <td>False</td>\n",
       "      <td>False</td>\n",
       "      <td>False</td>\n",
       "      <td>False</td>\n",
       "      <td>False</td>\n",
       "      <td>False</td>\n",
       "      <td>False</td>\n",
       "      <td>False</td>\n",
       "    </tr>\n",
       "    <tr>\n",
       "      <th>4</th>\n",
       "      <td>1.0</td>\n",
       "      <td>MARR S.P.A.</td>\n",
       "      <td>MARR</td>\n",
       "      <td>IT0003428445</td>\n",
       "      <td>RN0276618</td>\n",
       "      <td>2018</td>\n",
       "      <td>3.068983</td>\n",
       "      <td>1.67</td>\n",
       "      <td>1.34</td>\n",
       "      <td>1.54</td>\n",
       "      <td>...</td>\n",
       "      <td>True</td>\n",
       "      <td>False</td>\n",
       "      <td>False</td>\n",
       "      <td>False</td>\n",
       "      <td>False</td>\n",
       "      <td>False</td>\n",
       "      <td>False</td>\n",
       "      <td>False</td>\n",
       "      <td>False</td>\n",
       "      <td>False</td>\n",
       "    </tr>\n",
       "    <tr>\n",
       "      <th>...</th>\n",
       "      <td>...</td>\n",
       "      <td>...</td>\n",
       "      <td>...</td>\n",
       "      <td>...</td>\n",
       "      <td>...</td>\n",
       "      <td>...</td>\n",
       "      <td>...</td>\n",
       "      <td>...</td>\n",
       "      <td>...</td>\n",
       "      <td>...</td>\n",
       "      <td>...</td>\n",
       "      <td>...</td>\n",
       "      <td>...</td>\n",
       "      <td>...</td>\n",
       "      <td>...</td>\n",
       "      <td>...</td>\n",
       "      <td>...</td>\n",
       "      <td>...</td>\n",
       "      <td>...</td>\n",
       "      <td>...</td>\n",
       "      <td>...</td>\n",
       "    </tr>\n",
       "    <tr>\n",
       "      <th>275</th>\n",
       "      <td>28.0</td>\n",
       "      <td>BASIC NET S.P.A.</td>\n",
       "      <td>BAN</td>\n",
       "      <td>IT0001033700</td>\n",
       "      <td>TO0631153</td>\n",
       "      <td>2017</td>\n",
       "      <td>1.324419</td>\n",
       "      <td>3.34</td>\n",
       "      <td>3.31</td>\n",
       "      <td>0.02</td>\n",
       "      <td>...</td>\n",
       "      <td>False</td>\n",
       "      <td>False</td>\n",
       "      <td>False</td>\n",
       "      <td>False</td>\n",
       "      <td>False</td>\n",
       "      <td>False</td>\n",
       "      <td>False</td>\n",
       "      <td>False</td>\n",
       "      <td>False</td>\n",
       "      <td>False</td>\n",
       "    </tr>\n",
       "    <tr>\n",
       "      <th>276</th>\n",
       "      <td>28.0</td>\n",
       "      <td>BASIC NET S.P.A.</td>\n",
       "      <td>BAN</td>\n",
       "      <td>IT0001033700</td>\n",
       "      <td>TO0631153</td>\n",
       "      <td>2016</td>\n",
       "      <td>1.200567</td>\n",
       "      <td>2.39</td>\n",
       "      <td>2.37</td>\n",
       "      <td>0.02</td>\n",
       "      <td>...</td>\n",
       "      <td>False</td>\n",
       "      <td>False</td>\n",
       "      <td>False</td>\n",
       "      <td>False</td>\n",
       "      <td>False</td>\n",
       "      <td>False</td>\n",
       "      <td>False</td>\n",
       "      <td>False</td>\n",
       "      <td>False</td>\n",
       "      <td>False</td>\n",
       "    </tr>\n",
       "    <tr>\n",
       "      <th>277</th>\n",
       "      <td>28.0</td>\n",
       "      <td>BASIC NET S.P.A.</td>\n",
       "      <td>BAN</td>\n",
       "      <td>IT0001033700</td>\n",
       "      <td>TO0631153</td>\n",
       "      <td>2015</td>\n",
       "      <td>1.468335</td>\n",
       "      <td>2.55</td>\n",
       "      <td>2.53</td>\n",
       "      <td>0.02</td>\n",
       "      <td>...</td>\n",
       "      <td>False</td>\n",
       "      <td>False</td>\n",
       "      <td>False</td>\n",
       "      <td>False</td>\n",
       "      <td>False</td>\n",
       "      <td>False</td>\n",
       "      <td>False</td>\n",
       "      <td>False</td>\n",
       "      <td>False</td>\n",
       "      <td>False</td>\n",
       "    </tr>\n",
       "    <tr>\n",
       "      <th>278</th>\n",
       "      <td>28.0</td>\n",
       "      <td>BASIC NET S.P.A.</td>\n",
       "      <td>BAN</td>\n",
       "      <td>IT0001033700</td>\n",
       "      <td>TO0631153</td>\n",
       "      <td>2014</td>\n",
       "      <td>0.816249</td>\n",
       "      <td>2.23</td>\n",
       "      <td>2.21</td>\n",
       "      <td>0.02</td>\n",
       "      <td>...</td>\n",
       "      <td>False</td>\n",
       "      <td>False</td>\n",
       "      <td>False</td>\n",
       "      <td>False</td>\n",
       "      <td>False</td>\n",
       "      <td>False</td>\n",
       "      <td>False</td>\n",
       "      <td>False</td>\n",
       "      <td>False</td>\n",
       "      <td>False</td>\n",
       "    </tr>\n",
       "    <tr>\n",
       "      <th>279</th>\n",
       "      <td>28.0</td>\n",
       "      <td>BASIC NET S.P.A.</td>\n",
       "      <td>BAN</td>\n",
       "      <td>IT0001033700</td>\n",
       "      <td>TO0631153</td>\n",
       "      <td>2013</td>\n",
       "      <td>0.886244</td>\n",
       "      <td>1.93</td>\n",
       "      <td>1.91</td>\n",
       "      <td>0.01</td>\n",
       "      <td>...</td>\n",
       "      <td>False</td>\n",
       "      <td>False</td>\n",
       "      <td>False</td>\n",
       "      <td>False</td>\n",
       "      <td>False</td>\n",
       "      <td>False</td>\n",
       "      <td>False</td>\n",
       "      <td>False</td>\n",
       "      <td>False</td>\n",
       "      <td>False</td>\n",
       "    </tr>\n",
       "  </tbody>\n",
       "</table>\n",
       "<p>280 rows × 49 columns</p>\n",
       "</div>"
      ],
      "text/plain": [
       "       ID   Ragione_sociale Ticker_symbol   ISIN_number Numero_CCIAA  Anni  \\\n",
       "0     1.0       MARR S.P.A.          MARR  IT0003428445    RN0276618  2022   \n",
       "1     1.0       MARR S.P.A.          MARR  IT0003428445    RN0276618  2021   \n",
       "2     1.0       MARR S.P.A.          MARR  IT0003428445    RN0276618  2020   \n",
       "3     1.0       MARR S.P.A.          MARR  IT0003428445    RN0276618  2019   \n",
       "4     1.0       MARR S.P.A.          MARR  IT0003428445    RN0276618  2018   \n",
       "..    ...               ...           ...           ...          ...   ...   \n",
       "275  28.0  BASIC NET S.P.A.           BAN  IT0001033700    TO0631153  2017   \n",
       "276  28.0  BASIC NET S.P.A.           BAN  IT0001033700    TO0631153  2016   \n",
       "277  28.0  BASIC NET S.P.A.           BAN  IT0001033700    TO0631153  2015   \n",
       "278  28.0  BASIC NET S.P.A.           BAN  IT0001033700    TO0631153  2014   \n",
       "279  28.0  BASIC NET S.P.A.           BAN  IT0001033700    TO0631153  2013   \n",
       "\n",
       "     Valori_Borsa  Indice_corrente  Indice_di_liquidità  Rotaz_cap_investito  \\\n",
       "0        2.509599             1.58                 1.18                 1.55   \n",
       "1        2.934920             1.57                 1.20                 1.17   \n",
       "2        2.879198             1.70                 1.38                 0.98   \n",
       "3        3.054001             1.46                 1.16                 1.46   \n",
       "4        3.068983             1.67                 1.34                 1.54   \n",
       "..            ...              ...                  ...                  ...   \n",
       "275      1.324419             3.34                 3.31                 0.02   \n",
       "276      1.200567             2.39                 2.37                 0.02   \n",
       "277      1.468335             2.55                 2.53                 0.02   \n",
       "278      0.816249             2.23                 2.21                 0.02   \n",
       "279      0.886244             1.93                 1.91                 0.01   \n",
       "\n",
       "     ...   MARR   MASI    MDC    PIA    PLT    SCK    SRI  STAR7    SVS    VIM  \n",
       "0    ...   True  False  False  False  False  False  False  False  False  False  \n",
       "1    ...   True  False  False  False  False  False  False  False  False  False  \n",
       "2    ...   True  False  False  False  False  False  False  False  False  False  \n",
       "3    ...   True  False  False  False  False  False  False  False  False  False  \n",
       "4    ...   True  False  False  False  False  False  False  False  False  False  \n",
       "..   ...    ...    ...    ...    ...    ...    ...    ...    ...    ...    ...  \n",
       "275  ...  False  False  False  False  False  False  False  False  False  False  \n",
       "276  ...  False  False  False  False  False  False  False  False  False  False  \n",
       "277  ...  False  False  False  False  False  False  False  False  False  False  \n",
       "278  ...  False  False  False  False  False  False  False  False  False  False  \n",
       "279  ...  False  False  False  False  False  False  False  False  False  False  \n",
       "\n",
       "[280 rows x 49 columns]"
      ]
     },
     "execution_count": 6,
     "metadata": {},
     "output_type": "execute_result"
    }
   ],
   "source": [
    "# crea le variabili dummy\n",
    "df_dummies = pd.get_dummies(df[\"Ticker_symbol\"])\n",
    "print(df_dummies)\n",
    "# unsci le dummies al df\n",
    "df_con_dummies = df.join(df_dummies)\n",
    "df_con_dummies\n"
   ]
  },
  {
   "cell_type": "code",
   "execution_count": null,
   "metadata": {},
   "outputs": [],
   "source": [
    "df_con_dummies.columns"
   ]
  },
  {
   "cell_type": "markdown",
   "metadata": {},
   "source": [
    "Construct the regression equation. Note that we are leaving out one dummy variable so as to avoid perfect Multicollinearity between the 7 dummy variables. la dummy omessa è BAN \n",
    "#RIVEDI"
   ]
  },
  {
   "cell_type": "markdown",
   "metadata": {},
   "source": [
    "### definisci le variabili da usare nel modello"
   ]
  },
  {
   "cell_type": "code",
   "execution_count": 7,
   "metadata": {},
   "outputs": [],
   "source": [
    "# definisce le var dipendenti e indipendenti\n",
    "y_var_name = 'Valori_Borsa'\n",
    "x_var_names =  [\n",
    "    'Anni',\n",
    "    'Indice_corrente', \n",
    "    'Indice_di_liquidità',\n",
    "    'Rotaz_cap_investito', \n",
    "    'Rotaz_cap_cir_lordo',\n",
    "    'Redditività_del_totale_attivo',\n",
    "    'Redditività_di_tutto_il_capitale_investito',\n",
    "    'Redditività_delle_vendite', \n",
    "    'Redditività_del_capitale_proprio',\n",
    "    'Indice_di_copertura_delle_immob', \n",
    "    'Costo_denaro_a_prestito',\n",
    "    'Oneri_finanz_su_fatt', \n",
    "    'Grado_di_copertura_degli_interessi_passivi',\n",
    "    'Debiti_v_banche_su_fatt', \n",
    "    'Debt_Equity_ratio'\n",
    "    ]\n",
    "\n",
    "unit_names = [\n",
    "    'MARR', \n",
    "    'PIA', \n",
    "    'BRE', \n",
    "    'DAN', \n",
    "    'BC', \n",
    "    'CLI', \n",
    "    'ELC', \n",
    "    'GPI', \n",
    "    'SRI',\n",
    "    'ALA', \n",
    "    'ICF', \n",
    "    'ENV', \n",
    "    'MASI', \n",
    "    'SVS', \n",
    "    'STAR7', \n",
    "    'SCK', \n",
    "    'MARP', \n",
    "    'ITD',\n",
    "    'VIM', \n",
    "    'MDC', \n",
    "    'ILP', \n",
    "    'CFL', \n",
    "    'FCM', \n",
    "    'FVI', \n",
    "    'PLT', \n",
    "    'LDB', \n",
    "    'FOS',\n",
    "    'BAN'\n",
    "    ]\n",
    "\n",
    "#only_value = [x for x in unit_names if x not in tickers_non_scaricati]\n",
    "#unit_names = only_value\n"
   ]
  },
  {
   "cell_type": "markdown",
   "metadata": {},
   "source": [
    "### crea il modello"
   ]
  },
  {
   "cell_type": "code",
   "execution_count": 8,
   "metadata": {},
   "outputs": [
    {
     "name": "stdout",
     "output_type": "stream",
     "text": [
      "Regression expression for OLS with dummies=Valori_Borsa ~ Anni + Indice_corrente + Indice_di_liquidità + Rotaz_cap_investito + Rotaz_cap_cir_lordo + Redditività_del_totale_attivo + Redditività_di_tutto_il_capitale_investito + Redditività_delle_vendite + Redditività_del_capitale_proprio + Indice_di_copertura_delle_immob + Costo_denaro_a_prestito + Oneri_finanz_su_fatt + Grado_di_copertura_degli_interessi_passivi + Debiti_v_banche_su_fatt + Debt_Equity_ratio + MARR + PIA + BRE + DAN + BC + CLI + ELC + GPI + SRI + ALA + ICF + ENV + MASI + SVS + STAR7 + SCK + MARP + ITD + VIM + MDC + ILP + CFL + FCM + FVI + PLT + LDB + FOS\n"
     ]
    }
   ],
   "source": [
    "lsdv_expr = y_var_name + ' ~ '\n",
    "i = 0\n",
    "for x_var_name in x_var_names:\n",
    "    if i > 0:\n",
    "        lsdv_expr = lsdv_expr + ' + ' + x_var_name\n",
    "    else:\n",
    "        lsdv_expr = lsdv_expr + x_var_name\n",
    "    i = i + 1\n",
    "for dummy_name in unit_names[:-1]:\n",
    "    lsdv_expr = lsdv_expr + ' + ' + dummy_name\n",
    " \n",
    "print('Regression expression for OLS with dummies=' + lsdv_expr)"
   ]
  },
  {
   "cell_type": "code",
   "execution_count": 9,
   "metadata": {},
   "outputs": [
    {
     "name": "stdout",
     "output_type": "stream",
     "text": [
      "                            OLS Regression Results                            \n",
      "==============================================================================\n",
      "Dep. Variable:           Valori_Borsa   R-squared:                       0.911\n",
      "Model:                            OLS   Adj. R-squared:                  0.881\n",
      "Method:                 Least Squares   F-statistic:                     30.78\n",
      "Date:                Sat, 23 Sep 2023   Prob (F-statistic):           5.15e-48\n",
      "Time:                        09:11:57   Log-Likelihood:                -24.819\n",
      "No. Observations:                 166   AIC:                             133.6\n",
      "Df Residuals:                     124   BIC:                             264.3\n",
      "Df Model:                          41                                         \n",
      "Covariance Type:            nonrobust                                         \n",
      "==============================================================================================================\n",
      "                                                 coef    std err          t      P>|t|      [0.025      0.975]\n",
      "--------------------------------------------------------------------------------------------------------------\n",
      "Intercept                                   -111.6044     26.186     -4.262      0.000    -163.433     -59.776\n",
      "MARR[T.True]                                   2.4275      0.475      5.110      0.000       1.487       3.368\n",
      "PIA[T.True]                                    0.5118      0.362      1.415      0.160      -0.204       1.228\n",
      "BRE[T.True]                                    1.5083      0.305      4.953      0.000       0.906       2.111\n",
      "DAN[T.True]                                    2.5241      0.326      7.739      0.000       1.879       3.170\n",
      "BC[T.True]                                     2.8431      0.363      7.838      0.000       2.125       3.561\n",
      "CLI[T.True]                                    0.5402      0.362      1.494      0.138      -0.176       1.256\n",
      "ELC[T.True]                                    0.4879      0.387      1.260      0.210      -0.278       1.254\n",
      "GPI[T.True]                                    1.7288      0.320      5.404      0.000       1.096       2.362\n",
      "SRI[T.True]                                    0.5245      0.336      1.561      0.121      -0.141       1.190\n",
      "ALA[T.True]                                    1.8295      0.445      4.114      0.000       0.949       2.710\n",
      "ICF[T.True]                                    1.0468      0.354      2.960      0.004       0.347       1.747\n",
      "ENV[T.True]                                    0.5630      0.379      1.485      0.140      -0.187       1.313\n",
      "MASI[T.True]                                   1.0040      0.473      2.123      0.036       0.068       1.940\n",
      "SVS[T.True]                                    1.6824      0.437      3.847      0.000       0.817       2.548\n",
      "STAR7[T.True]                                  1.4199      0.386      3.681      0.000       0.656       2.183\n",
      "SCK[T.True]                                    0.1740      0.270      0.645      0.520      -0.360       0.708\n",
      "MARP[T.True]                                   0.9537      0.378      2.523      0.013       0.206       1.702\n",
      "ITD[T.True]                                    0.1390      0.361      0.385      0.701      -0.576       0.854\n",
      "VIM[T.True]                                    0.1574      0.369      0.427      0.670      -0.573       0.887\n",
      "MDC[T.True]                                    2.3183      0.337      6.872      0.000       1.651       2.986\n",
      "ILP[T.True]                                    0.2733      0.313      0.874      0.384      -0.346       0.892\n",
      "CFL[T.True]                                    1.7939      0.378      4.742      0.000       1.045       2.543\n",
      "FCM[T.True]                                   -0.3044      0.366     -0.832      0.407      -1.028       0.420\n",
      "FVI[T.True]                                    1.5146      0.367      4.128      0.000       0.788       2.241\n",
      "PLT[T.True]                                -9.343e-16   3.76e-16     -2.485      0.014   -1.68e-15    -1.9e-16\n",
      "LDB[T.True]                                   -0.3243      0.392     -0.828      0.409      -1.099       0.451\n",
      "FOS[T.True]                                    0.2227      0.292      0.762      0.447      -0.356       0.801\n",
      "Anni                                           0.0555      0.013      4.283      0.000       0.030       0.081\n",
      "Indice_corrente                               -0.2319      0.157     -1.480      0.142      -0.542       0.078\n",
      "Indice_di_liquidità                            0.3222      0.191      1.684      0.095      -0.057       0.701\n",
      "Rotaz_cap_investito                           -0.1905      0.464     -0.411      0.682      -1.109       0.728\n",
      "Rotaz_cap_cir_lordo                            0.1029      0.179      0.574      0.567      -0.252       0.457\n",
      "Redditività_del_totale_attivo                 -0.1389      0.083     -1.672      0.097      -0.303       0.026\n",
      "Redditività_di_tutto_il_capitale_investito     0.0773      0.051      1.514      0.133      -0.024       0.178\n",
      "Redditività_delle_vendite                      0.0425      0.018      2.384      0.019       0.007       0.078\n",
      "Redditività_del_capitale_proprio               0.0038      0.005      0.750      0.455      -0.006       0.014\n",
      "Indice_di_copertura_delle_immob               -0.0833      0.201     -0.415      0.679      -0.481       0.314\n",
      "Costo_denaro_a_prestito                        0.0056      0.028      0.203      0.840      -0.049       0.060\n",
      "Oneri_finanz_su_fatt                          -0.0436      0.084     -0.520      0.604      -0.209       0.122\n",
      "Grado_di_copertura_degli_interessi_passivi     0.0030      0.002      1.727      0.087      -0.000       0.006\n",
      "Debiti_v_banche_su_fatt                        0.0019      0.004      0.473      0.637      -0.006       0.010\n",
      "Debt_Equity_ratio                             -0.1226      0.196     -0.625      0.533      -0.511       0.266\n",
      "==============================================================================\n",
      "Omnibus:                       20.005   Durbin-Watson:                   1.268\n",
      "Prob(Omnibus):                  0.000   Jarque-Bera (JB):               38.520\n",
      "Skew:                          -0.563   Prob(JB):                     4.32e-09\n",
      "Kurtosis:                       5.074   Cond. No.                     1.00e+16\n",
      "==============================================================================\n",
      "\n",
      "Notes:\n",
      "[1] Standard Errors assume that the covariance matrix of the errors is correctly specified.\n",
      "[2] The smallest eigenvalue is 6.76e-24. This might indicate that there are\n",
      "strong multicollinearity problems or that the design matrix is singular.\n"
     ]
    }
   ],
   "source": [
    "lsdv_model = smf.ols(formula=lsdv_expr, data=df_con_dummies)\n",
    "lsdv_model_results = lsdv_model.fit()\n",
    "print(lsdv_model_results.summary())"
   ]
  },
  {
   "cell_type": "code",
   "execution_count": 10,
   "metadata": {},
   "outputs": [
    {
     "name": "stdout",
     "output_type": "stream",
     "text": [
      "                            OLS Regression Results                            \n",
      "==============================================================================\n",
      "Dep. Variable:           Valori_Borsa   R-squared:                       0.911\n",
      "Model:                            OLS   Adj. R-squared:                  0.881\n",
      "Method:                 Least Squares   F-statistic:                     220.9\n",
      "Date:                Sat, 23 Sep 2023   Prob (F-statistic):           2.93e-98\n",
      "Time:                        09:12:01   Log-Likelihood:                -24.819\n",
      "No. Observations:                 166   AIC:                             133.6\n",
      "Df Residuals:                     124   BIC:                             264.3\n",
      "Df Model:                          41                                         \n",
      "Covariance Type:                  HAC                                         \n",
      "==============================================================================================================\n",
      "                                                 coef    std err          t      P>|t|      [0.025      0.975]\n",
      "--------------------------------------------------------------------------------------------------------------\n",
      "Intercept                                   -111.6044     31.565     -3.536      0.001    -174.081     -49.128\n",
      "MARR[T.True]                                   2.4275      0.389      6.248      0.000       1.659       3.197\n",
      "PIA[T.True]                                    0.5118      0.365      1.401      0.164      -0.211       1.235\n",
      "BRE[T.True]                                    1.5083      0.297      5.085      0.000       0.921       2.095\n",
      "DAN[T.True]                                    2.5241      0.409      6.176      0.000       1.715       3.333\n",
      "BC[T.True]                                     2.8431      0.375      7.583      0.000       2.101       3.585\n",
      "CLI[T.True]                                    0.5402      0.343      1.573      0.118      -0.139       1.220\n",
      "ELC[T.True]                                    0.4879      0.348      1.403      0.163      -0.200       1.176\n",
      "GPI[T.True]                                    1.7288      0.310      5.581      0.000       1.116       2.342\n",
      "SRI[T.True]                                    0.5245      0.388      1.350      0.179      -0.244       1.293\n",
      "ALA[T.True]                                    1.8295      0.356      5.143      0.000       1.125       2.534\n",
      "ICF[T.True]                                    1.0468      0.333      3.140      0.002       0.387       1.707\n",
      "ENV[T.True]                                    0.5630      0.346      1.627      0.106      -0.122       1.248\n",
      "MASI[T.True]                                   1.0040      0.384      2.612      0.010       0.243       1.765\n",
      "SVS[T.True]                                    1.6824      0.322      5.230      0.000       1.046       2.319\n",
      "STAR7[T.True]                                  1.4199      0.323      4.402      0.000       0.782       2.058\n",
      "SCK[T.True]                                    0.1740      0.461      0.377      0.707      -0.739       1.087\n",
      "MARP[T.True]                                   0.9537      0.358      2.664      0.009       0.245       1.662\n",
      "ITD[T.True]                                    0.1390      0.471      0.295      0.769      -0.794       1.072\n",
      "VIM[T.True]                                    0.1574      0.437      0.360      0.720      -0.708       1.023\n",
      "MDC[T.True]                                    2.3183      0.322      7.197      0.000       1.681       2.956\n",
      "ILP[T.True]                                    0.2733      0.291      0.940      0.349      -0.302       0.849\n",
      "CFL[T.True]                                    1.7939      0.344      5.219      0.000       1.114       2.474\n",
      "FCM[T.True]                                   -0.3044      0.342     -0.889      0.376      -0.982       0.373\n",
      "FVI[T.True]                                    1.5146      0.343      4.411      0.000       0.835       2.194\n",
      "PLT[T.True]                                -9.343e-16    3.9e-16     -2.394      0.018   -1.71e-15   -1.62e-16\n",
      "LDB[T.True]                                   -0.3243      0.320     -1.013      0.313      -0.958       0.309\n",
      "FOS[T.True]                                    0.2227      0.283      0.786      0.433      -0.338       0.784\n",
      "Anni                                           0.0555      0.016      3.559      0.001       0.025       0.086\n",
      "Indice_corrente                               -0.2319      0.119     -1.952      0.053      -0.467       0.003\n",
      "Indice_di_liquidità                            0.3222      0.185      1.738      0.085      -0.045       0.689\n",
      "Rotaz_cap_investito                           -0.1905      0.344     -0.553      0.581      -0.872       0.491\n",
      "Rotaz_cap_cir_lordo                            0.1029      0.162      0.635      0.527      -0.218       0.424\n",
      "Redditività_del_totale_attivo                 -0.1389      0.074     -1.867      0.064      -0.286       0.008\n",
      "Redditività_di_tutto_il_capitale_investito     0.0773      0.043      1.797      0.075      -0.008       0.162\n",
      "Redditività_delle_vendite                      0.0425      0.019      2.195      0.030       0.004       0.081\n",
      "Redditività_del_capitale_proprio               0.0038      0.003      1.131      0.260      -0.003       0.010\n",
      "Indice_di_copertura_delle_immob               -0.0833      0.135     -0.619      0.537      -0.350       0.183\n",
      "Costo_denaro_a_prestito                        0.0056      0.023      0.248      0.804      -0.039       0.050\n",
      "Oneri_finanz_su_fatt                          -0.0436      0.086     -0.508      0.613      -0.213       0.126\n",
      "Grado_di_copertura_degli_interessi_passivi     0.0030      0.001      2.029      0.045    7.25e-05       0.006\n",
      "Debiti_v_banche_su_fatt                        0.0019      0.004      0.493      0.623      -0.006       0.010\n",
      "Debt_Equity_ratio                             -0.1226      0.162     -0.757      0.450      -0.443       0.198\n",
      "==============================================================================\n",
      "Omnibus:                       20.005   Durbin-Watson:                   1.268\n",
      "Prob(Omnibus):                  0.000   Jarque-Bera (JB):               38.520\n",
      "Skew:                          -0.563   Prob(JB):                     4.32e-09\n",
      "Kurtosis:                       5.074   Cond. No.                     1.00e+16\n",
      "==============================================================================\n",
      "\n",
      "Notes:\n",
      "[1] Standard Errors are heteroscedasticity and autocorrelation robust (HAC) using 2 lags and without small sample correction\n",
      "[2] The smallest eigenvalue is 6.76e-24. This might indicate that there are\n",
      "strong multicollinearity problems or that the design matrix is singular.\n"
     ]
    },
    {
     "name": "stderr",
     "output_type": "stream",
     "text": [
      "/home/leonardo/Documenti/UNIFI/LAUREA/MATERIALE/hive/env_tesi/lib/python3.10/site-packages/statsmodels/base/model.py:1888: ValueWarning: covariance of constraints does not have full rank. The number of constraints is 42, but rank is 41\n",
      "  warnings.warn('covariance of constraints does not have full '\n"
     ]
    }
   ],
   "source": [
    "robust_results = lsdv_model_results.get_robustcov_results(cov_type='HAC', maxlags=2, groups=df['ID'], time=df['Anni'])\n",
    "\n",
    "print(robust_results.summary())"
   ]
  },
  {
   "cell_type": "markdown",
   "metadata": {},
   "source": [
    "### errori"
   ]
  },
  {
   "cell_type": "code",
   "execution_count": 11,
   "metadata": {},
   "outputs": [],
   "source": [
    "errors = []"
   ]
  },
  {
   "cell_type": "code",
   "execution_count": null,
   "metadata": {},
   "outputs": [],
   "source": [
    "# Ottieni le previsioni per tutte le righe nel dataframe\n",
    "predictions = lsdv_model_results.predict()\n",
    "\n",
    "# trasform predictions to the original scale and the share values\n",
    "predictions = np.e**predictions\n",
    "val_borsa = (np.e**df['Valori_Borsa']).dropna()\n",
    "#val_borsa = df['Valori_Borsa'].dropna()\n",
    "\n",
    "rmse = np.sqrt(mean_squared_error(val_borsa, predictions))\n",
    "mae = mean_absolute_error(val_borsa, predictions)\n",
    "rsquared = lsdv_model_results.rsquared\n",
    "\n",
    "# Aggiungi i dati alla lista\n",
    "errors.append({\n",
    "    'Formula': 'log ' + lsdv_expr,\n",
    "    'RMSE': rmse,\n",
    "    'MAE': mae,\n",
    "    'R-Squared': rsquared,\n",
    "})\n"
   ]
  },
  {
   "cell_type": "code",
   "execution_count": null,
   "metadata": {},
   "outputs": [],
   "source": [
    "pd.set_option('display.max_colwidth', 2500)\n",
    "errors_df = pd.DataFrame(errors)\n",
    "\n",
    "err = pd.read_csv(\"./data/errori.csv\")\n",
    "err"
   ]
  },
  {
   "cell_type": "markdown",
   "metadata": {},
   "source": [
    "### residui"
   ]
  },
  {
   "cell_type": "code",
   "execution_count": null,
   "metadata": {},
   "outputs": [],
   "source": [
    "previsioni = df[['ID','Ticker_symbol','Anni', 'Valori_Borsa']].dropna()\n",
    "previsioni['Valori_Borsa'] = val_borsa\n",
    "previsioni['predictions'] = predictions\n",
    "#previsioni[previsioni['Ticker_symbol']=='LDB']\n",
    "previsioni['residui'] = previsioni['Valori_Borsa'] - previsioni['predictions'] \n",
    "previsioni"
   ]
  },
  {
   "cell_type": "code",
   "execution_count": 12,
   "metadata": {},
   "outputs": [
    {
     "data": {
      "text/html": [
       "<div>\n",
       "<style scoped>\n",
       "    .dataframe tbody tr th:only-of-type {\n",
       "        vertical-align: middle;\n",
       "    }\n",
       "\n",
       "    .dataframe tbody tr th {\n",
       "        vertical-align: top;\n",
       "    }\n",
       "\n",
       "    .dataframe thead th {\n",
       "        text-align: right;\n",
       "    }\n",
       "</style>\n",
       "<table border=\"1\" class=\"dataframe\">\n",
       "  <thead>\n",
       "    <tr style=\"text-align: right;\">\n",
       "      <th></th>\n",
       "      <th>ID</th>\n",
       "      <th>Ticker_symbol</th>\n",
       "      <th>Anni</th>\n",
       "      <th>Valori_Borsa</th>\n",
       "      <th>predictions</th>\n",
       "      <th>residui</th>\n",
       "    </tr>\n",
       "  </thead>\n",
       "  <tbody>\n",
       "    <tr>\n",
       "      <th>0</th>\n",
       "      <td>1.0</td>\n",
       "      <td>MARR</td>\n",
       "      <td>2022</td>\n",
       "      <td>2.509599</td>\n",
       "      <td>2.963589</td>\n",
       "      <td>-0.453990</td>\n",
       "    </tr>\n",
       "    <tr>\n",
       "      <th>1</th>\n",
       "      <td>1.0</td>\n",
       "      <td>MARR</td>\n",
       "      <td>2021</td>\n",
       "      <td>2.934920</td>\n",
       "      <td>3.009185</td>\n",
       "      <td>-0.074265</td>\n",
       "    </tr>\n",
       "    <tr>\n",
       "      <th>2</th>\n",
       "      <td>1.0</td>\n",
       "      <td>MARR</td>\n",
       "      <td>2020</td>\n",
       "      <td>2.879198</td>\n",
       "      <td>2.838172</td>\n",
       "      <td>0.041026</td>\n",
       "    </tr>\n",
       "    <tr>\n",
       "      <th>3</th>\n",
       "      <td>1.0</td>\n",
       "      <td>MARR</td>\n",
       "      <td>2019</td>\n",
       "      <td>3.054001</td>\n",
       "      <td>2.920100</td>\n",
       "      <td>0.133902</td>\n",
       "    </tr>\n",
       "    <tr>\n",
       "      <th>4</th>\n",
       "      <td>1.0</td>\n",
       "      <td>MARR</td>\n",
       "      <td>2018</td>\n",
       "      <td>3.068983</td>\n",
       "      <td>2.901062</td>\n",
       "      <td>0.167921</td>\n",
       "    </tr>\n",
       "    <tr>\n",
       "      <th>...</th>\n",
       "      <td>...</td>\n",
       "      <td>...</td>\n",
       "      <td>...</td>\n",
       "      <td>...</td>\n",
       "      <td>...</td>\n",
       "      <td>...</td>\n",
       "    </tr>\n",
       "    <tr>\n",
       "      <th>275</th>\n",
       "      <td>28.0</td>\n",
       "      <td>BAN</td>\n",
       "      <td>2017</td>\n",
       "      <td>1.324419</td>\n",
       "      <td>1.469303</td>\n",
       "      <td>-0.144884</td>\n",
       "    </tr>\n",
       "    <tr>\n",
       "      <th>276</th>\n",
       "      <td>28.0</td>\n",
       "      <td>BAN</td>\n",
       "      <td>2016</td>\n",
       "      <td>1.200567</td>\n",
       "      <td>1.412986</td>\n",
       "      <td>-0.212419</td>\n",
       "    </tr>\n",
       "    <tr>\n",
       "      <th>277</th>\n",
       "      <td>28.0</td>\n",
       "      <td>BAN</td>\n",
       "      <td>2015</td>\n",
       "      <td>1.468335</td>\n",
       "      <td>1.514338</td>\n",
       "      <td>-0.046003</td>\n",
       "    </tr>\n",
       "    <tr>\n",
       "      <th>278</th>\n",
       "      <td>28.0</td>\n",
       "      <td>BAN</td>\n",
       "      <td>2014</td>\n",
       "      <td>0.816249</td>\n",
       "      <td>1.265864</td>\n",
       "      <td>-0.449615</td>\n",
       "    </tr>\n",
       "    <tr>\n",
       "      <th>279</th>\n",
       "      <td>28.0</td>\n",
       "      <td>BAN</td>\n",
       "      <td>2013</td>\n",
       "      <td>0.886244</td>\n",
       "      <td>1.045997</td>\n",
       "      <td>-0.159753</td>\n",
       "    </tr>\n",
       "  </tbody>\n",
       "</table>\n",
       "<p>166 rows × 6 columns</p>\n",
       "</div>"
      ],
      "text/plain": [
       "       ID Ticker_symbol  Anni  Valori_Borsa  predictions   residui\n",
       "0     1.0          MARR  2022      2.509599     2.963589 -0.453990\n",
       "1     1.0          MARR  2021      2.934920     3.009185 -0.074265\n",
       "2     1.0          MARR  2020      2.879198     2.838172  0.041026\n",
       "3     1.0          MARR  2019      3.054001     2.920100  0.133902\n",
       "4     1.0          MARR  2018      3.068983     2.901062  0.167921\n",
       "..    ...           ...   ...           ...          ...       ...\n",
       "275  28.0           BAN  2017      1.324419     1.469303 -0.144884\n",
       "276  28.0           BAN  2016      1.200567     1.412986 -0.212419\n",
       "277  28.0           BAN  2015      1.468335     1.514338 -0.046003\n",
       "278  28.0           BAN  2014      0.816249     1.265864 -0.449615\n",
       "279  28.0           BAN  2013      0.886244     1.045997 -0.159753\n",
       "\n",
       "[166 rows x 6 columns]"
      ]
     },
     "execution_count": 12,
     "metadata": {},
     "output_type": "execute_result"
    }
   ],
   "source": [
    "previsioni = df[['ID','Ticker_symbol','Anni', 'Valori_Borsa']].dropna()\n",
    "previsioni['predictions'] = robust_results.predict()\n",
    "previsioni['residui'] = previsioni['Valori_Borsa'] - previsioni['predictions'] \n",
    "previsioni"
   ]
  },
  {
   "cell_type": "code",
   "execution_count": null,
   "metadata": {},
   "outputs": [],
   "source": [
    "import math\n",
    "corrs = []\n",
    "for i in range(0,10):\n",
    "    \n",
    "    previsioni['res_lag' + str(i)] = previsioni.groupby(['ID'])['residui'].shift(i)\n",
    "\n",
    "    correlazione = previsioni['residui'].corr(previsioni['res_lag' + str(i)])\n",
    "    err_std = 1.96*(1/math.sqrt(previsioni['res_lag' + str(i)].count()))\n",
    "    corrs.append((correlazione - err_std ,\n",
    "    correlazione ,\n",
    "    correlazione + err_std))\n",
    "\n"
   ]
  },
  {
   "cell_type": "code",
   "execution_count": null,
   "metadata": {},
   "outputs": [],
   "source": [
    "# Estrai i valori delle correlazioni e i range\n",
    "correlazioni = [x[1] for x in corrs]\n",
    "minimi = [x[0] for x in corrs]\n",
    "massimi = [x[2] for x in corrs]\n",
    "\n",
    "# Creare un DataFrame\n",
    "corrs = pd.DataFrame({'Lag': range(1,len(correlazioni)+1), 'Correlazione': correlazioni, 'Minimo': minimi, 'Massimo': massimi})\n",
    "# riportiamo solo 6 lag , oltre ha troppa incertezza\n",
    "corrs = corrs[:6]\n",
    "corrs"
   ]
  },
  {
   "cell_type": "code",
   "execution_count": null,
   "metadata": {},
   "outputs": [],
   "source": [
    "import plotly.graph_objects as go\n",
    "\n",
    "# Creare il grafico\n",
    "fig = go.Figure()\n",
    "\n",
    "# Aggiungere i valori di correlazione\n",
    "fig.add_trace(go.Bar(x=corrs['Lag'], y=corrs['Correlazione'], name='Correlazione'))\n",
    "\n",
    "# Aggiungere le linee per i range dell'intervallo di confidenza\n",
    "fig.add_trace(go.Scatter(x=corrs['Lag'], y=corrs['Minimo'], mode='lines', name='Minimo'))\n",
    "fig.add_trace(go.Scatter(x=corrs['Lag'], y=corrs['Massimo'], mode='lines', name='Massimo'))\n",
    "\n",
    "# Aggiungere layout\n",
    "fig.update_layout(title='Funzione di Autocorrelazione',\n",
    "                  xaxis_title='Lag',\n",
    "                  yaxis_title='Correlazione',\n",
    "                  xaxis=dict(tickmode='array', tickvals=corrs['Lag'], ticktext=corrs['Lag']))\n",
    "\n",
    "# Mostrare il grafico\n",
    "fig.show()\n"
   ]
  },
  {
   "cell_type": "markdown",
   "metadata": {},
   "source": [
    "crea grafico delle previsioni e residui per ogni azienda"
   ]
  },
  {
   "cell_type": "code",
   "execution_count": 13,
   "metadata": {},
   "outputs": [
    {
     "data": {
      "application/vnd.plotly.v1+json": {
       "config": {
        "plotlyServerURL": "https://plot.ly"
       },
       "data": [
        {
         "hovertemplate": "Ticker_symbol=MARR<br>Anno=%{x}<br>Residui=%{y}<extra></extra>",
         "legendgroup": "MARR",
         "line": {
          "color": "#636efa",
          "dash": "solid"
         },
         "marker": {
          "symbol": "circle"
         },
         "mode": "lines",
         "name": "MARR",
         "orientation": "v",
         "showlegend": true,
         "type": "scatter",
         "x": [
          2022,
          2021,
          2020,
          2019,
          2018,
          2017,
          2016,
          2015,
          2014,
          2013
         ],
         "xaxis": "x",
         "y": [
          -0.4539896025936887,
          -0.07426536440341058,
          0.04102617996861424,
          0.1339015001674393,
          0.16792106670035656,
          0.21249053409134078,
          0.06464189454223535,
          0.13076949088059164,
          -0.036428690149695964,
          -0.18606700924294506
         ],
         "yaxis": "y"
        },
        {
         "hovertemplate": "Ticker_symbol=PIA<br>Anno=%{x}<br>Residui=%{y}<extra></extra>",
         "legendgroup": "PIA",
         "line": {
          "color": "#EF553B",
          "dash": "solid"
         },
         "marker": {
          "symbol": "circle"
         },
         "mode": "lines",
         "name": "PIA",
         "orientation": "v",
         "showlegend": true,
         "type": "scatter",
         "x": [
          2022,
          2021,
          2020,
          2019,
          2018,
          2017,
          2016,
          2015,
          2014,
          2013
         ],
         "xaxis": "x",
         "y": [
          -0.21523917701848094,
          -0.08913732063878466,
          -0.08403541571512552,
          -0.0012084566800178997,
          -0.261161734819901,
          0.08232407484799775,
          -0.20444306097383397,
          0.06522845750649531,
          0.3206556274630773,
          0.38701700598880995
         ],
         "yaxis": "y"
        },
        {
         "hovertemplate": "Ticker_symbol=BRE<br>Anno=%{x}<br>Residui=%{y}<extra></extra>",
         "legendgroup": "BRE",
         "line": {
          "color": "#00cc96",
          "dash": "solid"
         },
         "marker": {
          "symbol": "circle"
         },
         "mode": "lines",
         "name": "BRE",
         "orientation": "v",
         "showlegend": true,
         "type": "scatter",
         "x": [
          2022,
          2021,
          2020,
          2019,
          2018,
          2017,
          2016,
          2015,
          2014,
          2013
         ],
         "xaxis": "x",
         "y": [
          -0.04682639185574189,
          0.12095296646253839,
          0.13347375404929984,
          0.048007456758475175,
          -0.12919722873204398,
          0.27338265974657094,
          0.2877872936129555,
          -0.03818266664413583,
          -0.23606438084454728,
          -0.4133334625931451
         ],
         "yaxis": "y"
        },
        {
         "hovertemplate": "Ticker_symbol=DAN<br>Anno=%{x}<br>Residui=%{y}<extra></extra>",
         "legendgroup": "DAN",
         "line": {
          "color": "#ab63fa",
          "dash": "solid"
         },
         "marker": {
          "symbol": "circle"
         },
         "mode": "lines",
         "name": "DAN",
         "orientation": "v",
         "showlegend": true,
         "type": "scatter",
         "x": [
          2022,
          2021,
          2020,
          2019,
          2018,
          2017,
          2016,
          2015,
          2014,
          2013
         ],
         "xaxis": "x",
         "y": [
          0.0673179775536723,
          0.13950297649163312,
          -0.36854085807120684,
          -0.20872732594669996,
          -0.2551024180820063,
          -0.01070312292259512,
          0.16691283122473566,
          -0.19634303712137147,
          0.16336392709783354,
          0.5023190497362684
         ],
         "yaxis": "y"
        },
        {
         "hovertemplate": "Ticker_symbol=BC<br>Anno=%{x}<br>Residui=%{y}<extra></extra>",
         "legendgroup": "BC",
         "line": {
          "color": "#FFA15A",
          "dash": "solid"
         },
         "marker": {
          "symbol": "circle"
         },
         "mode": "lines",
         "name": "BC",
         "orientation": "v",
         "showlegend": true,
         "type": "scatter",
         "x": [
          2022,
          2021,
          2020,
          2019,
          2018,
          2017,
          2016,
          2015,
          2014,
          2013
         ],
         "xaxis": "x",
         "y": [
          0.3871635232152797,
          0.44669002266052926,
          0.20406088349687979,
          0.04793095111108325,
          -0.14720716858074834,
          0.0086614022603686,
          -0.15986593642302704,
          -0.48970238163239044,
          -0.27165599676090757,
          -0.02607529938678299
         ],
         "yaxis": "y"
        },
        {
         "hovertemplate": "Ticker_symbol=CLI<br>Anno=%{x}<br>Residui=%{y}<extra></extra>",
         "legendgroup": "CLI",
         "line": {
          "color": "#19d3f3",
          "dash": "solid"
         },
         "marker": {
          "symbol": "circle"
         },
         "mode": "lines",
         "name": "CLI",
         "orientation": "v",
         "showlegend": true,
         "type": "scatter",
         "x": [
          2022,
          2021,
          2020,
          2019,
          2018,
          2017,
          2016,
          2015,
          2014,
          2013
         ],
         "xaxis": "x",
         "y": [
          0.026452142124741007,
          0.21911523654521892,
          -0.0813980161561666,
          -0.15747080258688784,
          -0.12079210226552983,
          0.16776548054808726,
          0.007010548386743531,
          0.1991237943010068,
          0.012025722404167993,
          -0.2718320033411412
         ],
         "yaxis": "y"
        },
        {
         "hovertemplate": "Ticker_symbol=ELC<br>Anno=%{x}<br>Residui=%{y}<extra></extra>",
         "legendgroup": "ELC",
         "line": {
          "color": "#FF6692",
          "dash": "solid"
         },
         "marker": {
          "symbol": "circle"
         },
         "mode": "lines",
         "name": "ELC",
         "orientation": "v",
         "showlegend": true,
         "type": "scatter",
         "x": [
          2022,
          2021,
          2020,
          2019,
          2018,
          2017,
          2016,
          2015,
          2014,
          2013
         ],
         "xaxis": "x",
         "y": [
          -0.27116562086917906,
          0.003433979025168732,
          0.29021235839654835,
          0.22312595915675637,
          -0.30052883312998774,
          0.26723606948075473,
          -0.04652439551997467,
          -0.11678550791344489,
          -0.08429448527538652,
          0.03529047660901696
         ],
         "yaxis": "y"
        },
        {
         "hovertemplate": "Ticker_symbol=GPI<br>Anno=%{x}<br>Residui=%{y}<extra></extra>",
         "legendgroup": "GPI",
         "line": {
          "color": "#B6E880",
          "dash": "solid"
         },
         "marker": {
          "symbol": "circle"
         },
         "mode": "lines",
         "name": "GPI",
         "orientation": "v",
         "showlegend": true,
         "type": "scatter",
         "x": [
          2022,
          2021,
          2020,
          2019,
          2018,
          2017,
          2016,
          2015
         ],
         "xaxis": "x",
         "y": [
          0.42675445614558116,
          0.395196496321375,
          -0.2729970401003663,
          -0.3753022086913709,
          -0.23028328134885223,
          -0.09275753225190053,
          -0.0688136331577267,
          0.21820274305147702
         ],
         "yaxis": "y"
        },
        {
         "hovertemplate": "Ticker_symbol=SRI<br>Anno=%{x}<br>Residui=%{y}<extra></extra>",
         "legendgroup": "SRI",
         "line": {
          "color": "#FF97FF",
          "dash": "solid"
         },
         "marker": {
          "symbol": "circle"
         },
         "mode": "lines",
         "name": "SRI",
         "orientation": "v",
         "showlegend": true,
         "type": "scatter",
         "x": [
          2022,
          2021,
          2020,
          2019,
          2018,
          2017,
          2016,
          2015,
          2014,
          2013
         ],
         "xaxis": "x",
         "y": [
          -1.0184739116849193,
          -0.5089659509315171,
          -0.23813309833894047,
          -0.010731949650771844,
          -0.007405648086534988,
          0.640729770910667,
          0.10694478770578542,
          0.23562199680429963,
          0.31645101233316075,
          0.48396299089897943
         ],
         "yaxis": "y"
        },
        {
         "hovertemplate": "Ticker_symbol=ALA<br>Anno=%{x}<br>Residui=%{y}<extra></extra>",
         "legendgroup": "ALA",
         "line": {
          "color": "#FECB52",
          "dash": "solid"
         },
         "marker": {
          "symbol": "circle"
         },
         "mode": "lines",
         "name": "ALA",
         "orientation": "v",
         "showlegend": true,
         "type": "scatter",
         "x": [
          2022,
          2021
         ],
         "xaxis": "x",
         "y": [
          0.013954004144565157,
          -0.013954004152537003
         ],
         "yaxis": "y"
        },
        {
         "hovertemplate": "Ticker_symbol=ICF<br>Anno=%{x}<br>Residui=%{y}<extra></extra>",
         "legendgroup": "ICF",
         "line": {
          "color": "#636efa",
          "dash": "solid"
         },
         "marker": {
          "symbol": "circle"
         },
         "mode": "lines",
         "name": "ICF",
         "orientation": "v",
         "showlegend": true,
         "type": "scatter",
         "x": [
          2022,
          2021,
          2020
         ],
         "xaxis": "x",
         "y": [
          -0.09197688264420911,
          0.14118667980152044,
          -0.04920979716926488
         ],
         "yaxis": "y"
        },
        {
         "hovertemplate": "Ticker_symbol=ENV<br>Anno=%{x}<br>Residui=%{y}<extra></extra>",
         "legendgroup": "ENV",
         "line": {
          "color": "#EF553B",
          "dash": "solid"
         },
         "marker": {
          "symbol": "circle"
         },
         "mode": "lines",
         "name": "ENV",
         "orientation": "v",
         "showlegend": true,
         "type": "scatter",
         "x": [
          2022,
          2021,
          2020,
          2019,
          2018,
          2017,
          2016,
          2015,
          2014,
          2013
         ],
         "xaxis": "x",
         "y": [
          -0.17228452406564565,
          0.030978286974665536,
          0.3427137645184388,
          0.12615384844003708,
          -0.2405534511519003,
          0.032115954480428144,
          -0.0996122693636885,
          0.06860462595881756,
          -0.06515673736222727,
          -0.022959498468778206
         ],
         "yaxis": "y"
        },
        {
         "hovertemplate": "Ticker_symbol=MASI<br>Anno=%{x}<br>Residui=%{y}<extra></extra>",
         "legendgroup": "MASI",
         "line": {
          "color": "#00cc96",
          "dash": "solid"
         },
         "marker": {
          "symbol": "circle"
         },
         "mode": "lines",
         "name": "MASI",
         "orientation": "v",
         "showlegend": true,
         "type": "scatter",
         "x": [
          2022,
          2021,
          2020,
          2019,
          2018,
          2017,
          2016,
          2015
         ],
         "xaxis": "x",
         "y": [
          -0.09687847383958381,
          -0.3138999450531741,
          -0.2708224192012527,
          -0.11969133163465462,
          0.21702383890174937,
          0.33023200919473283,
          0.21145245758714193,
          0.04258386401312908
         ],
         "yaxis": "y"
        },
        {
         "hovertemplate": "Ticker_symbol=SVS<br>Anno=%{x}<br>Residui=%{y}<extra></extra>",
         "legendgroup": "SVS",
         "line": {
          "color": "#ab63fa",
          "dash": "solid"
         },
         "marker": {
          "symbol": "circle"
         },
         "mode": "lines",
         "name": "SVS",
         "orientation": "v",
         "showlegend": true,
         "type": "scatter",
         "x": [
          2022
         ],
         "xaxis": "x",
         "y": [
          -3.981259766305811e-12
         ],
         "yaxis": "y"
        },
        {
         "hovertemplate": "Ticker_symbol=STAR7<br>Anno=%{x}<br>Residui=%{y}<extra></extra>",
         "legendgroup": "STAR7",
         "line": {
          "color": "#FFA15A",
          "dash": "solid"
         },
         "marker": {
          "symbol": "circle"
         },
         "mode": "lines",
         "name": "STAR7",
         "orientation": "v",
         "showlegend": true,
         "type": "scatter",
         "x": [
          2022,
          2021
         ],
         "xaxis": "x",
         "y": [
          -0.07724208785239428,
          0.07724208784442999
         ],
         "yaxis": "y"
        },
        {
         "hovertemplate": "Ticker_symbol=SCK<br>Anno=%{x}<br>Residui=%{y}<extra></extra>",
         "legendgroup": "SCK",
         "line": {
          "color": "#19d3f3",
          "dash": "solid"
         },
         "marker": {
          "symbol": "circle"
         },
         "mode": "lines",
         "name": "SCK",
         "orientation": "v",
         "showlegend": true,
         "type": "scatter",
         "x": [
          2022,
          2021,
          2020,
          2019,
          2018
         ],
         "xaxis": "x",
         "y": [
          0.39602447328265233,
          0.7499245012179769,
          0.5283734963376476,
          -0.4583018941618299,
          -1.2160205766963954
         ],
         "yaxis": "y"
        },
        {
         "hovertemplate": "Ticker_symbol=MARP<br>Anno=%{x}<br>Residui=%{y}<extra></extra>",
         "legendgroup": "MARP",
         "line": {
          "color": "#FF6692",
          "dash": "solid"
         },
         "marker": {
          "symbol": "circle"
         },
         "mode": "lines",
         "name": "MARP",
         "orientation": "v",
         "showlegend": true,
         "type": "scatter",
         "x": [
          2022,
          2021,
          2020,
          2019
         ],
         "xaxis": "x",
         "y": [
          -0.10330961167196384,
          0.057762657546865714,
          -0.23611868877944375,
          0.28166564288860374
         ],
         "yaxis": "y"
        },
        {
         "hovertemplate": "Ticker_symbol=ITD<br>Anno=%{x}<br>Residui=%{y}<extra></extra>",
         "legendgroup": "ITD",
         "line": {
          "color": "#B6E880",
          "dash": "solid"
         },
         "marker": {
          "symbol": "circle"
         },
         "mode": "lines",
         "name": "ITD",
         "orientation": "v",
         "showlegend": true,
         "type": "scatter",
         "x": [
          2022,
          2021,
          2020,
          2019,
          2018
         ],
         "xaxis": "x",
         "y": [
          0.5185340804360843,
          0.22731785405059224,
          0.29066890891465746,
          -0.4336456864535676,
          -0.6028751569679769
         ],
         "yaxis": "y"
        },
        {
         "hovertemplate": "Ticker_symbol=VIM<br>Anno=%{x}<br>Residui=%{y}<extra></extra>",
         "legendgroup": "VIM",
         "line": {
          "color": "#FF97FF",
          "dash": "solid"
         },
         "marker": {
          "symbol": "circle"
         },
         "mode": "lines",
         "name": "VIM",
         "orientation": "v",
         "showlegend": true,
         "type": "scatter",
         "x": [
          2022,
          2021,
          2020,
          2019,
          2018
         ],
         "xaxis": "x",
         "y": [
          -0.5942303942839345,
          -0.19115113696339886,
          -0.19188220393538227,
          0.42869513157179634,
          0.5485686035909834
         ],
         "yaxis": "y"
        },
        {
         "hovertemplate": "Ticker_symbol=MDC<br>Anno=%{x}<br>Residui=%{y}<extra></extra>",
         "legendgroup": "MDC",
         "line": {
          "color": "#FECB52",
          "dash": "solid"
         },
         "marker": {
          "symbol": "circle"
         },
         "mode": "lines",
         "name": "MDC",
         "orientation": "v",
         "showlegend": true,
         "type": "scatter",
         "x": [
          2022,
          2021
         ],
         "xaxis": "x",
         "y": [
          -0.3384300963248661,
          0.33843009631687737
         ],
         "yaxis": "y"
        },
        {
         "hovertemplate": "Ticker_symbol=ILP<br>Anno=%{x}<br>Residui=%{y}<extra></extra>",
         "legendgroup": "ILP",
         "line": {
          "color": "#636efa",
          "dash": "solid"
         },
         "marker": {
          "symbol": "circle"
         },
         "mode": "lines",
         "name": "ILP",
         "orientation": "v",
         "showlegend": true,
         "type": "scatter",
         "x": [
          2022,
          2021,
          2020,
          2019
         ],
         "xaxis": "x",
         "y": [
          0.11073504777692311,
          0.21959046886053724,
          -0.3750250747615079,
          0.044699558108098
         ],
         "yaxis": "y"
        },
        {
         "hovertemplate": "Ticker_symbol=CFL<br>Anno=%{x}<br>Residui=%{y}<extra></extra>",
         "legendgroup": "CFL",
         "line": {
          "color": "#EF553B",
          "dash": "solid"
         },
         "marker": {
          "symbol": "circle"
         },
         "mode": "lines",
         "name": "CFL",
         "orientation": "v",
         "showlegend": true,
         "type": "scatter",
         "x": [
          2022,
          2021
         ],
         "xaxis": "x",
         "y": [
          -0.05784886756363816,
          0.05784886755567298
         ],
         "yaxis": "y"
        },
        {
         "hovertemplate": "Ticker_symbol=FCM<br>Anno=%{x}<br>Residui=%{y}<extra></extra>",
         "legendgroup": "FCM",
         "line": {
          "color": "#00cc96",
          "dash": "solid"
         },
         "marker": {
          "symbol": "circle"
         },
         "mode": "lines",
         "name": "FCM",
         "orientation": "v",
         "showlegend": true,
         "type": "scatter",
         "x": [
          2022,
          2021,
          2020,
          2019
         ],
         "xaxis": "x",
         "y": [
          -0.172511109359332,
          -0.09619192992256273,
          0.04300207919458163,
          0.22570096007138835
         ],
         "yaxis": "y"
        },
        {
         "hovertemplate": "Ticker_symbol=FVI<br>Anno=%{x}<br>Residui=%{y}<extra></extra>",
         "legendgroup": "FVI",
         "line": {
          "color": "#ab63fa",
          "dash": "solid"
         },
         "marker": {
          "symbol": "circle"
         },
         "mode": "lines",
         "name": "FVI",
         "orientation": "v",
         "showlegend": true,
         "type": "scatter",
         "x": [
          2022,
          2021,
          2020,
          2019,
          2018
         ],
         "xaxis": "x",
         "y": [
          0.2767743482185421,
          0.27828221236393036,
          -0.2474288476890396,
          -0.00045772400678245617,
          -0.30716998890681957
         ],
         "yaxis": "y"
        },
        {
         "hovertemplate": "Ticker_symbol=LDB<br>Anno=%{x}<br>Residui=%{y}<extra></extra>",
         "legendgroup": "LDB",
         "line": {
          "color": "#FFA15A",
          "dash": "solid"
         },
         "marker": {
          "symbol": "circle"
         },
         "mode": "lines",
         "name": "LDB",
         "orientation": "v",
         "showlegend": true,
         "type": "scatter",
         "x": [
          2022,
          2021
         ],
         "xaxis": "x",
         "y": [
          -0.08989658978494064,
          0.08989658977696113
         ],
         "yaxis": "y"
        },
        {
         "hovertemplate": "Ticker_symbol=FOS<br>Anno=%{x}<br>Residui=%{y}<extra></extra>",
         "legendgroup": "FOS",
         "line": {
          "color": "#19d3f3",
          "dash": "solid"
         },
         "marker": {
          "symbol": "circle"
         },
         "mode": "lines",
         "name": "FOS",
         "orientation": "v",
         "showlegend": true,
         "type": "scatter",
         "x": [
          2022,
          2021,
          2020,
          2019
         ],
         "xaxis": "x",
         "y": [
          -0.07891684235118723,
          0.2178515348100356,
          -0.2749994971526225,
          0.13606480467783943
         ],
         "yaxis": "y"
        },
        {
         "hovertemplate": "Ticker_symbol=BAN<br>Anno=%{x}<br>Residui=%{y}<extra></extra>",
         "legendgroup": "BAN",
         "line": {
          "color": "#FF6692",
          "dash": "solid"
         },
         "marker": {
          "symbol": "circle"
         },
         "mode": "lines",
         "name": "BAN",
         "orientation": "v",
         "showlegend": true,
         "type": "scatter",
         "x": [
          2022,
          2021,
          2020,
          2019,
          2018,
          2017,
          2016,
          2015,
          2014,
          2013
         ],
         "xaxis": "x",
         "y": [
          0.42478933767659544,
          0.257326563707331,
          0.30873869868197623,
          0.07828556736699444,
          -0.05646626399146837,
          -0.1448838161459145,
          -0.21241917518827735,
          -0.04600320497745147,
          -0.4496150372913206,
          -0.15975266987831038
         ],
         "yaxis": "y"
        }
       ],
       "layout": {
        "height": 750,
        "legend": {
         "title": {
          "text": "Ticker_symbol"
         },
         "tracegroupgap": 0
        },
        "template": {
         "data": {
          "bar": [
           {
            "error_x": {
             "color": "#2a3f5f"
            },
            "error_y": {
             "color": "#2a3f5f"
            },
            "marker": {
             "line": {
              "color": "#E5ECF6",
              "width": 0.5
             },
             "pattern": {
              "fillmode": "overlay",
              "size": 10,
              "solidity": 0.2
             }
            },
            "type": "bar"
           }
          ],
          "barpolar": [
           {
            "marker": {
             "line": {
              "color": "#E5ECF6",
              "width": 0.5
             },
             "pattern": {
              "fillmode": "overlay",
              "size": 10,
              "solidity": 0.2
             }
            },
            "type": "barpolar"
           }
          ],
          "carpet": [
           {
            "aaxis": {
             "endlinecolor": "#2a3f5f",
             "gridcolor": "white",
             "linecolor": "white",
             "minorgridcolor": "white",
             "startlinecolor": "#2a3f5f"
            },
            "baxis": {
             "endlinecolor": "#2a3f5f",
             "gridcolor": "white",
             "linecolor": "white",
             "minorgridcolor": "white",
             "startlinecolor": "#2a3f5f"
            },
            "type": "carpet"
           }
          ],
          "choropleth": [
           {
            "colorbar": {
             "outlinewidth": 0,
             "ticks": ""
            },
            "type": "choropleth"
           }
          ],
          "contour": [
           {
            "colorbar": {
             "outlinewidth": 0,
             "ticks": ""
            },
            "colorscale": [
             [
              0,
              "#0d0887"
             ],
             [
              0.1111111111111111,
              "#46039f"
             ],
             [
              0.2222222222222222,
              "#7201a8"
             ],
             [
              0.3333333333333333,
              "#9c179e"
             ],
             [
              0.4444444444444444,
              "#bd3786"
             ],
             [
              0.5555555555555556,
              "#d8576b"
             ],
             [
              0.6666666666666666,
              "#ed7953"
             ],
             [
              0.7777777777777778,
              "#fb9f3a"
             ],
             [
              0.8888888888888888,
              "#fdca26"
             ],
             [
              1,
              "#f0f921"
             ]
            ],
            "type": "contour"
           }
          ],
          "contourcarpet": [
           {
            "colorbar": {
             "outlinewidth": 0,
             "ticks": ""
            },
            "type": "contourcarpet"
           }
          ],
          "heatmap": [
           {
            "colorbar": {
             "outlinewidth": 0,
             "ticks": ""
            },
            "colorscale": [
             [
              0,
              "#0d0887"
             ],
             [
              0.1111111111111111,
              "#46039f"
             ],
             [
              0.2222222222222222,
              "#7201a8"
             ],
             [
              0.3333333333333333,
              "#9c179e"
             ],
             [
              0.4444444444444444,
              "#bd3786"
             ],
             [
              0.5555555555555556,
              "#d8576b"
             ],
             [
              0.6666666666666666,
              "#ed7953"
             ],
             [
              0.7777777777777778,
              "#fb9f3a"
             ],
             [
              0.8888888888888888,
              "#fdca26"
             ],
             [
              1,
              "#f0f921"
             ]
            ],
            "type": "heatmap"
           }
          ],
          "heatmapgl": [
           {
            "colorbar": {
             "outlinewidth": 0,
             "ticks": ""
            },
            "colorscale": [
             [
              0,
              "#0d0887"
             ],
             [
              0.1111111111111111,
              "#46039f"
             ],
             [
              0.2222222222222222,
              "#7201a8"
             ],
             [
              0.3333333333333333,
              "#9c179e"
             ],
             [
              0.4444444444444444,
              "#bd3786"
             ],
             [
              0.5555555555555556,
              "#d8576b"
             ],
             [
              0.6666666666666666,
              "#ed7953"
             ],
             [
              0.7777777777777778,
              "#fb9f3a"
             ],
             [
              0.8888888888888888,
              "#fdca26"
             ],
             [
              1,
              "#f0f921"
             ]
            ],
            "type": "heatmapgl"
           }
          ],
          "histogram": [
           {
            "marker": {
             "pattern": {
              "fillmode": "overlay",
              "size": 10,
              "solidity": 0.2
             }
            },
            "type": "histogram"
           }
          ],
          "histogram2d": [
           {
            "colorbar": {
             "outlinewidth": 0,
             "ticks": ""
            },
            "colorscale": [
             [
              0,
              "#0d0887"
             ],
             [
              0.1111111111111111,
              "#46039f"
             ],
             [
              0.2222222222222222,
              "#7201a8"
             ],
             [
              0.3333333333333333,
              "#9c179e"
             ],
             [
              0.4444444444444444,
              "#bd3786"
             ],
             [
              0.5555555555555556,
              "#d8576b"
             ],
             [
              0.6666666666666666,
              "#ed7953"
             ],
             [
              0.7777777777777778,
              "#fb9f3a"
             ],
             [
              0.8888888888888888,
              "#fdca26"
             ],
             [
              1,
              "#f0f921"
             ]
            ],
            "type": "histogram2d"
           }
          ],
          "histogram2dcontour": [
           {
            "colorbar": {
             "outlinewidth": 0,
             "ticks": ""
            },
            "colorscale": [
             [
              0,
              "#0d0887"
             ],
             [
              0.1111111111111111,
              "#46039f"
             ],
             [
              0.2222222222222222,
              "#7201a8"
             ],
             [
              0.3333333333333333,
              "#9c179e"
             ],
             [
              0.4444444444444444,
              "#bd3786"
             ],
             [
              0.5555555555555556,
              "#d8576b"
             ],
             [
              0.6666666666666666,
              "#ed7953"
             ],
             [
              0.7777777777777778,
              "#fb9f3a"
             ],
             [
              0.8888888888888888,
              "#fdca26"
             ],
             [
              1,
              "#f0f921"
             ]
            ],
            "type": "histogram2dcontour"
           }
          ],
          "mesh3d": [
           {
            "colorbar": {
             "outlinewidth": 0,
             "ticks": ""
            },
            "type": "mesh3d"
           }
          ],
          "parcoords": [
           {
            "line": {
             "colorbar": {
              "outlinewidth": 0,
              "ticks": ""
             }
            },
            "type": "parcoords"
           }
          ],
          "pie": [
           {
            "automargin": true,
            "type": "pie"
           }
          ],
          "scatter": [
           {
            "fillpattern": {
             "fillmode": "overlay",
             "size": 10,
             "solidity": 0.2
            },
            "type": "scatter"
           }
          ],
          "scatter3d": [
           {
            "line": {
             "colorbar": {
              "outlinewidth": 0,
              "ticks": ""
             }
            },
            "marker": {
             "colorbar": {
              "outlinewidth": 0,
              "ticks": ""
             }
            },
            "type": "scatter3d"
           }
          ],
          "scattercarpet": [
           {
            "marker": {
             "colorbar": {
              "outlinewidth": 0,
              "ticks": ""
             }
            },
            "type": "scattercarpet"
           }
          ],
          "scattergeo": [
           {
            "marker": {
             "colorbar": {
              "outlinewidth": 0,
              "ticks": ""
             }
            },
            "type": "scattergeo"
           }
          ],
          "scattergl": [
           {
            "marker": {
             "colorbar": {
              "outlinewidth": 0,
              "ticks": ""
             }
            },
            "type": "scattergl"
           }
          ],
          "scattermapbox": [
           {
            "marker": {
             "colorbar": {
              "outlinewidth": 0,
              "ticks": ""
             }
            },
            "type": "scattermapbox"
           }
          ],
          "scatterpolar": [
           {
            "marker": {
             "colorbar": {
              "outlinewidth": 0,
              "ticks": ""
             }
            },
            "type": "scatterpolar"
           }
          ],
          "scatterpolargl": [
           {
            "marker": {
             "colorbar": {
              "outlinewidth": 0,
              "ticks": ""
             }
            },
            "type": "scatterpolargl"
           }
          ],
          "scatterternary": [
           {
            "marker": {
             "colorbar": {
              "outlinewidth": 0,
              "ticks": ""
             }
            },
            "type": "scatterternary"
           }
          ],
          "surface": [
           {
            "colorbar": {
             "outlinewidth": 0,
             "ticks": ""
            },
            "colorscale": [
             [
              0,
              "#0d0887"
             ],
             [
              0.1111111111111111,
              "#46039f"
             ],
             [
              0.2222222222222222,
              "#7201a8"
             ],
             [
              0.3333333333333333,
              "#9c179e"
             ],
             [
              0.4444444444444444,
              "#bd3786"
             ],
             [
              0.5555555555555556,
              "#d8576b"
             ],
             [
              0.6666666666666666,
              "#ed7953"
             ],
             [
              0.7777777777777778,
              "#fb9f3a"
             ],
             [
              0.8888888888888888,
              "#fdca26"
             ],
             [
              1,
              "#f0f921"
             ]
            ],
            "type": "surface"
           }
          ],
          "table": [
           {
            "cells": {
             "fill": {
              "color": "#EBF0F8"
             },
             "line": {
              "color": "white"
             }
            },
            "header": {
             "fill": {
              "color": "#C8D4E3"
             },
             "line": {
              "color": "white"
             }
            },
            "type": "table"
           }
          ]
         },
         "layout": {
          "annotationdefaults": {
           "arrowcolor": "#2a3f5f",
           "arrowhead": 0,
           "arrowwidth": 1
          },
          "autotypenumbers": "strict",
          "coloraxis": {
           "colorbar": {
            "outlinewidth": 0,
            "ticks": ""
           }
          },
          "colorscale": {
           "diverging": [
            [
             0,
             "#8e0152"
            ],
            [
             0.1,
             "#c51b7d"
            ],
            [
             0.2,
             "#de77ae"
            ],
            [
             0.3,
             "#f1b6da"
            ],
            [
             0.4,
             "#fde0ef"
            ],
            [
             0.5,
             "#f7f7f7"
            ],
            [
             0.6,
             "#e6f5d0"
            ],
            [
             0.7,
             "#b8e186"
            ],
            [
             0.8,
             "#7fbc41"
            ],
            [
             0.9,
             "#4d9221"
            ],
            [
             1,
             "#276419"
            ]
           ],
           "sequential": [
            [
             0,
             "#0d0887"
            ],
            [
             0.1111111111111111,
             "#46039f"
            ],
            [
             0.2222222222222222,
             "#7201a8"
            ],
            [
             0.3333333333333333,
             "#9c179e"
            ],
            [
             0.4444444444444444,
             "#bd3786"
            ],
            [
             0.5555555555555556,
             "#d8576b"
            ],
            [
             0.6666666666666666,
             "#ed7953"
            ],
            [
             0.7777777777777778,
             "#fb9f3a"
            ],
            [
             0.8888888888888888,
             "#fdca26"
            ],
            [
             1,
             "#f0f921"
            ]
           ],
           "sequentialminus": [
            [
             0,
             "#0d0887"
            ],
            [
             0.1111111111111111,
             "#46039f"
            ],
            [
             0.2222222222222222,
             "#7201a8"
            ],
            [
             0.3333333333333333,
             "#9c179e"
            ],
            [
             0.4444444444444444,
             "#bd3786"
            ],
            [
             0.5555555555555556,
             "#d8576b"
            ],
            [
             0.6666666666666666,
             "#ed7953"
            ],
            [
             0.7777777777777778,
             "#fb9f3a"
            ],
            [
             0.8888888888888888,
             "#fdca26"
            ],
            [
             1,
             "#f0f921"
            ]
           ]
          },
          "colorway": [
           "#636efa",
           "#EF553B",
           "#00cc96",
           "#ab63fa",
           "#FFA15A",
           "#19d3f3",
           "#FF6692",
           "#B6E880",
           "#FF97FF",
           "#FECB52"
          ],
          "font": {
           "color": "#2a3f5f"
          },
          "geo": {
           "bgcolor": "white",
           "lakecolor": "white",
           "landcolor": "#E5ECF6",
           "showlakes": true,
           "showland": true,
           "subunitcolor": "white"
          },
          "hoverlabel": {
           "align": "left"
          },
          "hovermode": "closest",
          "mapbox": {
           "style": "light"
          },
          "paper_bgcolor": "white",
          "plot_bgcolor": "#E5ECF6",
          "polar": {
           "angularaxis": {
            "gridcolor": "white",
            "linecolor": "white",
            "ticks": ""
           },
           "bgcolor": "#E5ECF6",
           "radialaxis": {
            "gridcolor": "white",
            "linecolor": "white",
            "ticks": ""
           }
          },
          "scene": {
           "xaxis": {
            "backgroundcolor": "#E5ECF6",
            "gridcolor": "white",
            "gridwidth": 2,
            "linecolor": "white",
            "showbackground": true,
            "ticks": "",
            "zerolinecolor": "white"
           },
           "yaxis": {
            "backgroundcolor": "#E5ECF6",
            "gridcolor": "white",
            "gridwidth": 2,
            "linecolor": "white",
            "showbackground": true,
            "ticks": "",
            "zerolinecolor": "white"
           },
           "zaxis": {
            "backgroundcolor": "#E5ECF6",
            "gridcolor": "white",
            "gridwidth": 2,
            "linecolor": "white",
            "showbackground": true,
            "ticks": "",
            "zerolinecolor": "white"
           }
          },
          "shapedefaults": {
           "line": {
            "color": "#2a3f5f"
           }
          },
          "ternary": {
           "aaxis": {
            "gridcolor": "white",
            "linecolor": "white",
            "ticks": ""
           },
           "baxis": {
            "gridcolor": "white",
            "linecolor": "white",
            "ticks": ""
           },
           "bgcolor": "#E5ECF6",
           "caxis": {
            "gridcolor": "white",
            "linecolor": "white",
            "ticks": ""
           }
          },
          "title": {
           "x": 0.05
          },
          "xaxis": {
           "automargin": true,
           "gridcolor": "white",
           "linecolor": "white",
           "ticks": "",
           "title": {
            "standoff": 15
           },
           "zerolinecolor": "white",
           "zerolinewidth": 2
          },
          "yaxis": {
           "automargin": true,
           "gridcolor": "white",
           "linecolor": "white",
           "ticks": "",
           "title": {
            "standoff": 15
           },
           "zerolinecolor": "white",
           "zerolinewidth": 2
          }
         }
        },
        "title": {
         "text": "Relazione tra Anni e Residui per Ticker_symbol"
        },
        "xaxis": {
         "anchor": "y",
         "domain": [
          0,
          1
         ],
         "title": {
          "text": "Anno"
         }
        },
        "yaxis": {
         "anchor": "x",
         "domain": [
          0,
          1
         ],
         "title": {
          "text": "Residui"
         }
        }
       }
      }
     },
     "metadata": {},
     "output_type": "display_data"
    }
   ],
   "source": [
    "\n",
    "fig = px.line(previsioni, x=\"Anni\", y=\"residui\", color=\"Ticker_symbol\",\n",
    "              title=\"Relazione tra Anni e Residui per Ticker_symbol\",\n",
    "              labels={'residui': 'Residui', 'Anni': 'Anno'},\n",
    "              height=750)\n",
    "\n",
    "# Mostra il grafico\n",
    "fig.show()"
   ]
  },
  {
   "cell_type": "markdown",
   "metadata": {},
   "source": [
    "controllo omoschedasticità, se sono omogenei lungo x rispetto a y"
   ]
  },
  {
   "cell_type": "code",
   "execution_count": 14,
   "metadata": {},
   "outputs": [
    {
     "data": {
      "image/png": "[encoded data removed]",
      "text/plain": [
       "<Figure size 640x480 with 1 Axes>"
      ]
     },
     "metadata": {},
     "output_type": "display_data"
    }
   ],
   "source": [
    "# Crea un grafico a dispersione dei residui rispetto alle previsioni\n",
    "plt.scatter(previsioni['predictions'], previsioni['residui'])\n",
    "plt.xlabel('Previsioni')\n",
    "plt.ylabel('Residui')\n",
    "plt.title('Grafico dei Residui vs. Previsioni')\n",
    "plt.show()"
   ]
  },
  {
   "cell_type": "markdown",
   "metadata": {},
   "source": [
    "acf dei residui: controllo autocorrelazione"
   ]
  },
  {
   "cell_type": "code",
   "execution_count": 15,
   "metadata": {},
   "outputs": [
    {
     "data": {
      "image/png": "[encoded data removed]",
      "text/plain": [
       "<Figure size 640x480 with 1 Axes>"
      ]
     },
     "execution_count": 15,
     "metadata": {},
     "output_type": "execute_result"
    },
    {
     "data": {
      "image/png": "[encoded data removed]",
      "text/plain": [
       "<Figure size 640x480 with 1 Axes>"
      ]
     },
     "metadata": {},
     "output_type": "display_data"
    }
   ],
   "source": [
    "\n",
    "from statsmodels.graphics.tsaplots import plot_acf\n",
    "\n",
    "acf_residui = sm.tsa.acf(previsioni['residui'], nlags=13)\n",
    "plot_acf(acf_residui, title=f'ACF residui')\n"
   ]
  },
  {
   "cell_type": "markdown",
   "metadata": {},
   "source": [
    "controllo normalità"
   ]
  },
  {
   "cell_type": "code",
   "execution_count": 16,
   "metadata": {},
   "outputs": [
    {
     "name": "stdout",
     "output_type": "stream",
     "text": [
      "Statistica del test di Shapiro-Wilk: 0.9721899032592773\n",
      "p-value del test di Shapiro-Wilk: 0.002021451247856021\n",
      "Rifiutiamo l'ipotesi che i residui seguano una distribuzione normale.\n"
     ]
    }
   ],
   "source": [
    "from scipy.stats import shapiro\n",
    "\n",
    "# Esegue il test di Shapiro-Wilk\n",
    "statistica, p_value = shapiro(previsioni['residui'])\n",
    "\n",
    "# Stampa i risultati del test\n",
    "print(f'Statistica del test di Shapiro-Wilk: {statistica}')\n",
    "print(f'p-value del test di Shapiro-Wilk: {p_value}')\n",
    "\n",
    "# Confronta il p-value con un livello di significatività (e.g., 0.05)\n",
    "if p_value > 0.05:\n",
    "    print(\"Non abbiamo sufficienti prove per rifiutare l'ipotesi che i residui seguano una distribuzione normale.\")\n",
    "else:\n",
    "    print(\"Rifiutiamo l'ipotesi che i residui seguano una distribuzione normale.\")\n"
   ]
  },
  {
   "cell_type": "code",
   "execution_count": 17,
   "metadata": {},
   "outputs": [
    {
     "data": {
      "image/png": "[encoded data removed]",
      "text/plain": [
       "<Figure size 640x480 with 1 Axes>"
      ]
     },
     "metadata": {},
     "output_type": "display_data"
    }
   ],
   "source": [
    "# Crea il QQ-plot\n",
    "sm.qqplot(previsioni['residui'], line='s')  # 's' indica una linea di riferimento per una distribuzione normale\n",
    "plt.title('QQ-Plot dei Residui')\n",
    "plt.show()"
   ]
  },
  {
   "cell_type": "markdown",
   "metadata": {},
   "source": [
    "### covarianza tra errori e indici\n",
    "#### quarta condizione"
   ]
  },
  {
   "cell_type": "code",
   "execution_count": null,
   "metadata": {},
   "outputs": [],
   "source": [
    "# Crea una griglia 5x3 di subplot\n",
    "fig = make_subplots(rows=5, cols=3)\n",
    "\n",
    "# Cicla attraverso le colonne a partire dalla 7a\n",
    "for idx, col_name in enumerate(df.columns[7:]):\n",
    "    # Calcola la riga e la colonna corrispondenti nella griglia 5x3\n",
    "    row = idx // 3 + 1\n",
    "    col = idx % 3 + 1\n",
    "\n",
    "    # Aggiungi un grafico a questa posizione\n",
    "    scatter = px.scatter(df.dropna(), y=previsioni['residui'], x=col_name)\n",
    "    fig.add_trace(scatter.data[0], row=row, col=col)\n",
    "\n",
    "    # Aggiungi titoli agli assi x e y\n",
    "    fig.update_xaxes(title_text=col_name, row=row, col=col)\n",
    "    fig.update_yaxes(title_text='Errori', row=row, col=col)\n",
    "\n",
    "\n",
    "# Aggiungi un layout per personalizzare il titolo e le dimensioni\n",
    "fig.update_layout(\n",
    "    title='residui vs indici',\n",
    "    height=1000,  # Imposta l'altezza della griglia\n",
    "    width=1200    # Imposta la larghezza della griglia\n",
    ")\n",
    "\n",
    "# Visualizza la griglia\n",
    "fig.show()\n"
   ]
  }
 ],
 "metadata": {
  "kernelspec": {
   "display_name": "env_tesi",
   "language": "python",
   "name": "python3"
  },
  "language_info": {
   "codemirror_mode": {
    "name": "ipython",
    "version": 3
   },
   "file_extension": ".py",
   "mimetype": "text/x-python",
   "name": "python",
   "nbconvert_exporter": "python",
   "pygments_lexer": "ipython3",
   "version": "3.10.12"
  },
  "orig_nbformat": 4
 },
 "nbformat": 4,
 "nbformat_minor": 2
}
