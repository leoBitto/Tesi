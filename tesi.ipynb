{
 "cells": [
  {
   "cell_type": "code",
   "execution_count": null,
   "metadata": {},
   "outputs": [],
   "source": [
    "import pandas as pd\n",
    "import re\n",
    "import yahooquery as yq\n",
    "import datetime\n",
    "import numpy as np"
   ]
  },
  {
   "cell_type": "code",
   "execution_count": null,
   "metadata": {},
   "outputs": [],
   "source": [
    "# Leggi il file CSV\n",
    "df = pd.read_csv('/home/leonardo/Documenti/UNIFI/LAUREA/MATERIALE/hive/tesi28.csv', sep=';')\n",
    "df\n"
   ]
  },
  {
   "cell_type": "markdown",
   "metadata": {},
   "source": [
    "## scarica i valori di borsa per ogni ticker, per ogni anno"
   ]
  },
  {
   "cell_type": "code",
   "execution_count": null,
   "metadata": {},
   "outputs": [],
   "source": [
    "tickers = df['Ticker symbol']\n",
    "valori_borsa = []\n",
    "tickers_non_scaricati=[]\n",
    "\n",
    "# Scarica i dati storici per ciascun ticker e anno\n",
    "for ticker in tickers:\n",
    "    yq_ticker = yq.Ticker(ticker+\".mi\")\n",
    "    for year in range(2022, 2012, -1):\n",
    "        # Specifica la data desiderata come \"YYYY-MM-DD\" (31 dicembre dell'anno specificato)\n",
    "        datainizio = f\"{year}-12-20\"\n",
    "        datafine = f\"{year}-12-31\"\n",
    "\n",
    "        # Converti la data desiderata in un oggetto datetime\n",
    "        datainizio = datetime.datetime.strptime(datainizio, \"%Y-%m-%d\").date()\n",
    "        datafine = datetime.datetime.strptime(datafine, \"%Y-%m-%d\").date()\n",
    "\n",
    "\n",
    "        try:\n",
    "            val = yq_ticker.history(start=datainizio, end=datafine)['close'][-1]\n",
    "        except Exception as e:\n",
    "            print(e.__cause__)\n",
    "            val = \"NaN\"\n",
    "            tickers_non_scaricati.append(ticker)\n",
    "\n",
    "        print(ticker, val)\n",
    "        valori_borsa.append(val)\n",
    "\n"
   ]
  },
  {
   "cell_type": "code",
   "execution_count": null,
   "metadata": {},
   "outputs": [],
   "source": [
    "print(len(valori_borsa))\n",
    "print(set(tickers_non_scaricati))"
   ]
  },
  {
   "cell_type": "markdown",
   "metadata": {},
   "source": [
    "## crea nuovo df\n",
    "1. prendi info di interesse, moltiplica per ogni anno ogni osservazione \n",
    "2. aggiungi gli anni di interesse\n",
    "3. doppio ciclo for: per ogni riga df originale prendi i primi nove valori e trasponi il risultato, passa ai prossimi nove (secondo ciclo)"
   ]
  },
  {
   "cell_type": "markdown",
   "metadata": {},
   "source": [
    "#### crea df delle info "
   ]
  },
  {
   "cell_type": "code",
   "execution_count": null,
   "metadata": {},
   "outputs": [],
   "source": [
    "info = pd.concat([df.iloc[:, 0:5]] * 10)\n",
    "info.sort_index(inplace=True)\n",
    "info"
   ]
  },
  {
   "cell_type": "markdown",
   "metadata": {},
   "source": [
    "#### crea colonna degli anni, aggiungi a info"
   ]
  },
  {
   "cell_type": "code",
   "execution_count": null,
   "metadata": {},
   "outputs": [],
   "source": [
    "anni = [anno for anno in range(2022, 2012, -1)] * 28\n",
    "info['Anni'] = anni\n",
    "info"
   ]
  },
  {
   "cell_type": "markdown",
   "metadata": {},
   "source": [
    "#### df degli indici"
   ]
  },
  {
   "cell_type": "code",
   "execution_count": null,
   "metadata": {},
   "outputs": [],
   "source": [
    "\n",
    "# Rimuovi il carattere '\\n' e tutti quelli che seguono dalle intestazioni delle colonne\n",
    "df.columns = df.columns.str.replace(r'\\n.*', '', regex=True)\n",
    "nomi_colonne = df.columns.unique()[5:]\n",
    "# prendi df di interesse, serve a semplificare gli indici\n",
    "indici = df.iloc[:, 5:]\n",
    "\n",
    "# crea nuovo df\n",
    "new_df = pd.DataFrame()\n",
    "\n",
    "col = 0\n",
    "#per ogni set di 10 valori riga di df originario INDICI\n",
    "for i in range(0, 140, 10):\n",
    "    \n",
    "    indice = []\n",
    "    #per ogni riga AZIENDA\n",
    "    for j in range(1,len(indici)+1):\n",
    "        # prendi i nove valori, trasponili e aggiungili al vettore dell'indice considerato\n",
    "        valori = indici.iloc[j-1:j, i:i+10].values[0]\n",
    "        valori = valori.T.tolist()\n",
    "        \n",
    "        indice= indice + valori\n",
    "        \n",
    "    # aggiungi colonna a new_df con insert\n",
    "    new_df.insert(col, nomi_colonne[col], indice)\n",
    "    col += 1\n",
    "\n",
    "new_df\n"
   ]
  },
  {
   "cell_type": "markdown",
   "metadata": {},
   "source": [
    "#### aggiungi anche valori azionari"
   ]
  },
  {
   "cell_type": "code",
   "execution_count": null,
   "metadata": {},
   "outputs": [],
   "source": [
    "# aggiungi i valori della borsa al df info\n",
    "info['Valori Borsa'] = valori_borsa\n",
    "info"
   ]
  },
  {
   "cell_type": "markdown",
   "metadata": {},
   "source": [
    "##### esegui il join dei due dataframe"
   ]
  },
  {
   "cell_type": "code",
   "execution_count": null,
   "metadata": {},
   "outputs": [],
   "source": [
    "dati_puliti = info.join(new_df)\n",
    "dati_puliti\n"
   ]
  },
  {
   "cell_type": "markdown",
   "metadata": {},
   "source": [
    "##### ripulisci i dati, togli le aziende che non hanno valori di brosa per almeno un anno"
   ]
  },
  {
   "cell_type": "code",
   "execution_count": null,
   "metadata": {},
   "outputs": [],
   "source": [
    "tickers_non_scaricati = list(set(tickers_non_scaricati))\n",
    "maschera = dati_puliti['Ticker symbol'].isin(tickers_non_scaricati)\n",
    "df_pulito = dati_puliti[~maschera]\n",
    "df_pulito"
   ]
  },
  {
   "cell_type": "markdown",
   "metadata": {},
   "source": [
    "### salva il nuovo df \n"
   ]
  },
  {
   "cell_type": "code",
   "execution_count": null,
   "metadata": {},
   "outputs": [],
   "source": [
    "df_pulito.to_csv(\"dati_puliti.csv\")"
   ]
  }
 ],
 "metadata": {
  "kernelspec": {
   "display_name": "env_tesi",
   "language": "python",
   "name": "python3"
  },
  "language_info": {
   "codemirror_mode": {
    "name": "ipython",
    "version": 3
   },
   "file_extension": ".py",
   "mimetype": "text/x-python",
   "name": "python",
   "nbconvert_exporter": "python",
   "pygments_lexer": "ipython3",
   "version": "3.10.12"
  },
  "orig_nbformat": 4
 },
 "nbformat": 4,
 "nbformat_minor": 2
}
